{
 "cells": [
  {
   "cell_type": "markdown",
   "id": "a481aef6",
   "metadata": {
    "toc": true
   },
   "source": [
    "<h1>Содержание<span class=\"tocSkip\"></span></h1>\n",
    "<div class=\"toc\"><ul class=\"toc-item\"><li><span><a href=\"#Описание-проекта.\" data-toc-modified-id=\"Описание-проекта.-1\"><span class=\"toc-item-num\">1&nbsp;&nbsp;</span>Описание проекта.</a></span></li><li><span><a href=\"#Функции-для-исследования\" data-toc-modified-id=\"Функции-для-исследования-2\"><span class=\"toc-item-num\">2&nbsp;&nbsp;</span>Функции для исследования</a></span></li><li><span><a href=\"#Обзор-и-предобработка-данных.\" data-toc-modified-id=\"Обзор-и-предобработка-данных.-3\"><span class=\"toc-item-num\">3&nbsp;&nbsp;</span>Обзор и предобработка данных.</a></span></li><li><span><a href=\"#Исследовательский-анализ.\" data-toc-modified-id=\"Исследовательский-анализ.-4\"><span class=\"toc-item-num\">4&nbsp;&nbsp;</span>Исследовательский анализ.</a></span></li><li><span><a href=\"#Оценка-результатов-А/В-тестирования\" data-toc-modified-id=\"Оценка-результатов-А/В-тестирования-5\"><span class=\"toc-item-num\">5&nbsp;&nbsp;</span>Оценка результатов А/В тестирования</a></span></li><li><span><a href=\"#Выводы.\" data-toc-modified-id=\"Выводы.-6\"><span class=\"toc-item-num\">6&nbsp;&nbsp;</span>Выводы.</a></span></li></ul></div>"
   ]
  },
  {
   "cell_type": "code",
   "execution_count": 1,
   "id": "3ca85a0b",
   "metadata": {},
   "outputs": [],
   "source": [
    "import pandas as pd\n",
    "import scipy.stats as stats\n",
    "import datetime as dt\n",
    "import numpy as np\n",
    "import math as mth\n",
    "import matplotlib.pyplot as plt"
   ]
  },
  {
   "cell_type": "markdown",
   "id": "92e3b8b2",
   "metadata": {},
   "source": [
    "# Анализ результато А/В теста."
   ]
  },
  {
   "cell_type": "markdown",
   "id": "2a12f4f8",
   "metadata": {},
   "source": [
    "## Описание проекта."
   ]
  },
  {
   "cell_type": "markdown",
   "id": "b9b14b07",
   "metadata": {},
   "source": [
    "**Задача:**\n",
    "    \n",
    "Провести оценку результатов А/В теста изменений, связанных с внедрением улучшенной рекомендательной системы.\n",
    "\n",
    "Необходимо оценить коректность проведения теста и проанализировать результаты.\n",
    "\n",
    "**Техническое задание:**\n",
    "\n",
    "- Название теста: `recommender_system_test` ;\n",
    "- группы: А — контрольная, B — новая платёжная воронка;\n",
    "- дата запуска: 2020-12-07;\n",
    "- дата остановки набора новых пользователей: 2020-12-21;\n",
    "- дата остановки: 2021-01-04;\n",
    "- аудитория: 15% новых пользователей из региона EU;\n",
    "- назначение теста: тестирование изменений, связанных с внедрением\n",
    "- улучшенной рекомендательной системы;\n",
    "- ожидаемое количество участников теста: 6000.\n",
    "\n",
    "**Ожидаемый эффект:**\n",
    "\n",
    "- за 14 дней с момента регистрации пользователи покажут\n",
    "  улучшение каждой метрики не менее, чем на 10%:\n",
    "   - конверсии в просмотр карточек товаров — событие `product_page` ,\n",
    "   - просмотры корзины — `product_cart` ,\n",
    "   - покупки — `purchase`\n",
    "   \n",
    " **Данные для исследовани**\n",
    " \n",
    "- `final_ab_marketing_events.csv` — календарь маркетинговых событий на 2020 год.\n",
    "     - Структура файла:\n",
    "       - name — название маркетингового события;\n",
    "       - regions — регионы, в которых будет проводиться рекламная кампания;\n",
    "       - start_dt — дата начала кампании;\n",
    "       - finish_dt — дата завершения кампании.\n",
    "       \n",
    "- `final_ab_new_users.csv` — пользователи, зарегистрировавшиеся с 7 по 21 декабря 2020 года.\n",
    "   - Структура файла:\n",
    "       - user_id — идентификатор пользователя;\n",
    "       - first_date — дата регистрации;\n",
    "       - region — регион пользователя;\n",
    "       - device — устройство, с которого происходила регистрация;\n",
    "       \n",
    "- `final_ab_events.csv` — действия новых пользователей в период с 7 декабря 2020 по 4 января 2021 года.\n",
    "    - Структура файла:\n",
    "        - user_id — идентификатор пользователя;\n",
    "        - event_dt — дата и время покупки;\n",
    "        - event_name — тип события;\n",
    "        - details — дополнительные данные о событии. Например, для покупок,\n",
    "        - purchase, в этом поле хранится стоимость покупки в долларах.\n",
    "        \n",
    "- `final_ab_participants.csv` — таблица участников тестов.\n",
    "    - Структура файла:\n",
    "        - user_id — идентификатор пользователя;\n",
    "        - ab_test — название теста;\n",
    "        - group — группа пользователя.\n"
   ]
  },
  {
   "cell_type": "markdown",
   "id": "40dc7d21",
   "metadata": {},
   "source": [
    "## Функции для исследования"
   ]
  },
  {
   "cell_type": "markdown",
   "id": "3c653127",
   "metadata": {},
   "source": [
    "**Функция для обзора датафрейма**"
   ]
  },
  {
   "cell_type": "code",
   "execution_count": 2,
   "id": "61dd7ff6",
   "metadata": {},
   "outputs": [],
   "source": [
    "# функция для обзора датафрейма\n",
    "def df_overview(df):\n",
    "    print('\\nИнформация о таблице\\n')\n",
    "    df.info()\n",
    "    print('\\nПервые строки таблицы')\n",
    "    display(df.head())\n",
    "    if df.duplicated().sum()== 0:\n",
    "        print('\\nПолных дубликатов строк в таблице нет')\n",
    "    else:\n",
    "        print('\\nКоличество полных дубликатов строк в таблице{}\\n'.format(df.duplicated().sum()))\n",
    "    n = 0    \n",
    "    for i in df.columns:\n",
    "        if df[i].isna().sum() != 0:\n",
    "            print('\\nКоличество пропусков в столбце {} - {}'.format(i, df[i].isna().sum()))\n",
    "            n += 1\n",
    "    if n != 0:\n",
    "        print('Всего пропущенные значения есть в {} столбцах'.format(n))\n",
    "    else:\n",
    "        print('В столбцах таблицы нет пропущенных значений')\n",
    "        \n",
    "    print('\\nПервичная статистика по таблице')\n",
    "    display(df.describe().T)"
   ]
  },
  {
   "cell_type": "markdown",
   "id": "7ff2579b",
   "metadata": {},
   "source": [
    "**Функция для проверки гипотез z-критерием**"
   ]
  },
  {
   "cell_type": "code",
   "execution_count": 3,
   "id": "e02f71c1",
   "metadata": {},
   "outputs": [],
   "source": [
    "def check_hypothesise(successes1, successes2, trials1, trials2):\n",
    "    p1 = successes1 / trials1\n",
    "    p2 = successes2 / trials2\n",
    "    p_combined = (successes1 + successes2) / (trials1 + trials2)\n",
    "    difference = p1 - p2\n",
    "    z_value = difference / mth.sqrt(p_combined * (1 - p_combined) * (1/trials1 + 1/trials2))\n",
    "    distr = stats.norm(0, 1)\n",
    "    p_value = (1 - distr.cdf(abs(z_value))) * 2\n",
    "    return p_value"
   ]
  },
  {
   "cell_type": "markdown",
   "id": "3748ecf5",
   "metadata": {},
   "source": [
    "## Обзор и предобработка данных."
   ]
  },
  {
   "cell_type": "markdown",
   "id": "221665b8",
   "metadata": {},
   "source": [
    "Загрузим таблицы для исследования и посмотрим общую информацию по ним."
   ]
  },
  {
   "cell_type": "code",
   "execution_count": 4,
   "id": "2aa01cf2",
   "metadata": {},
   "outputs": [],
   "source": [
    "ab_events = pd.read_csv('final_ab_events.csv')\n",
    "ab_new_users = pd.read_csv('final_ab_new_users.csv')\n",
    "ab_marketing_events = pd.read_csv('final_ab_marketing_events.csv')\n",
    "ab_participants = pd.read_csv('final_ab_participants.csv')"
   ]
  },
  {
   "cell_type": "markdown",
   "id": "3aa0916f",
   "metadata": {},
   "source": [
    "**Таблица `ab_events`**"
   ]
  },
  {
   "cell_type": "code",
   "execution_count": 6,
   "id": "bcb59f68",
   "metadata": {},
   "outputs": [
    {
     "name": "stdout",
     "output_type": "stream",
     "text": [
      "\n",
      "Информация о таблице\n",
      "\n",
      "<class 'pandas.core.frame.DataFrame'>\n",
      "RangeIndex: 440317 entries, 0 to 440316\n",
      "Data columns (total 4 columns):\n",
      " #   Column      Non-Null Count   Dtype  \n",
      "---  ------      --------------   -----  \n",
      " 0   user_id     440317 non-null  object \n",
      " 1   event_dt    440317 non-null  object \n",
      " 2   event_name  440317 non-null  object \n",
      " 3   details     62740 non-null   float64\n",
      "dtypes: float64(1), object(3)\n",
      "memory usage: 13.4+ MB\n",
      "\n",
      "Первые строки таблицы\n"
     ]
    },
    {
     "data": {
      "text/html": [
       "<div>\n",
       "<style scoped>\n",
       "    .dataframe tbody tr th:only-of-type {\n",
       "        vertical-align: middle;\n",
       "    }\n",
       "\n",
       "    .dataframe tbody tr th {\n",
       "        vertical-align: top;\n",
       "    }\n",
       "\n",
       "    .dataframe thead th {\n",
       "        text-align: right;\n",
       "    }\n",
       "</style>\n",
       "<table border=\"1\" class=\"dataframe\">\n",
       "  <thead>\n",
       "    <tr style=\"text-align: right;\">\n",
       "      <th></th>\n",
       "      <th>user_id</th>\n",
       "      <th>event_dt</th>\n",
       "      <th>event_name</th>\n",
       "      <th>details</th>\n",
       "    </tr>\n",
       "  </thead>\n",
       "  <tbody>\n",
       "    <tr>\n",
       "      <th>0</th>\n",
       "      <td>E1BDDCE0DAFA2679</td>\n",
       "      <td>2020-12-07 20:22:03</td>\n",
       "      <td>purchase</td>\n",
       "      <td>99.99</td>\n",
       "    </tr>\n",
       "    <tr>\n",
       "      <th>1</th>\n",
       "      <td>7B6452F081F49504</td>\n",
       "      <td>2020-12-07 09:22:53</td>\n",
       "      <td>purchase</td>\n",
       "      <td>9.99</td>\n",
       "    </tr>\n",
       "    <tr>\n",
       "      <th>2</th>\n",
       "      <td>9CD9F34546DF254C</td>\n",
       "      <td>2020-12-07 12:59:29</td>\n",
       "      <td>purchase</td>\n",
       "      <td>4.99</td>\n",
       "    </tr>\n",
       "    <tr>\n",
       "      <th>3</th>\n",
       "      <td>96F27A054B191457</td>\n",
       "      <td>2020-12-07 04:02:40</td>\n",
       "      <td>purchase</td>\n",
       "      <td>4.99</td>\n",
       "    </tr>\n",
       "    <tr>\n",
       "      <th>4</th>\n",
       "      <td>1FD7660FDF94CA1F</td>\n",
       "      <td>2020-12-07 10:15:09</td>\n",
       "      <td>purchase</td>\n",
       "      <td>4.99</td>\n",
       "    </tr>\n",
       "  </tbody>\n",
       "</table>\n",
       "</div>"
      ],
      "text/plain": [
       "            user_id             event_dt event_name  details\n",
       "0  E1BDDCE0DAFA2679  2020-12-07 20:22:03   purchase    99.99\n",
       "1  7B6452F081F49504  2020-12-07 09:22:53   purchase     9.99\n",
       "2  9CD9F34546DF254C  2020-12-07 12:59:29   purchase     4.99\n",
       "3  96F27A054B191457  2020-12-07 04:02:40   purchase     4.99\n",
       "4  1FD7660FDF94CA1F  2020-12-07 10:15:09   purchase     4.99"
      ]
     },
     "metadata": {},
     "output_type": "display_data"
    },
    {
     "name": "stdout",
     "output_type": "stream",
     "text": [
      "\n",
      "Полных дубликатов строк в таблице нет\n",
      "\n",
      "Количество пропусков в столбце details - 377577\n",
      "Всего пропущенные значения есть в 1 столбцах\n",
      "\n",
      "Первичная статистика по таблице\n"
     ]
    },
    {
     "data": {
      "text/html": [
       "<div>\n",
       "<style scoped>\n",
       "    .dataframe tbody tr th:only-of-type {\n",
       "        vertical-align: middle;\n",
       "    }\n",
       "\n",
       "    .dataframe tbody tr th {\n",
       "        vertical-align: top;\n",
       "    }\n",
       "\n",
       "    .dataframe thead th {\n",
       "        text-align: right;\n",
       "    }\n",
       "</style>\n",
       "<table border=\"1\" class=\"dataframe\">\n",
       "  <thead>\n",
       "    <tr style=\"text-align: right;\">\n",
       "      <th></th>\n",
       "      <th>count</th>\n",
       "      <th>mean</th>\n",
       "      <th>std</th>\n",
       "      <th>min</th>\n",
       "      <th>25%</th>\n",
       "      <th>50%</th>\n",
       "      <th>75%</th>\n",
       "      <th>max</th>\n",
       "    </tr>\n",
       "  </thead>\n",
       "  <tbody>\n",
       "    <tr>\n",
       "      <th>details</th>\n",
       "      <td>62740.0</td>\n",
       "      <td>23.877631</td>\n",
       "      <td>72.180465</td>\n",
       "      <td>4.99</td>\n",
       "      <td>4.99</td>\n",
       "      <td>4.99</td>\n",
       "      <td>9.99</td>\n",
       "      <td>499.99</td>\n",
       "    </tr>\n",
       "  </tbody>\n",
       "</table>\n",
       "</div>"
      ],
      "text/plain": [
       "           count       mean        std   min   25%   50%   75%     max\n",
       "details  62740.0  23.877631  72.180465  4.99  4.99  4.99  9.99  499.99"
      ]
     },
     "metadata": {},
     "output_type": "display_data"
    }
   ],
   "source": [
    "df_overview(ab_events)"
   ]
  },
  {
   "cell_type": "markdown",
   "id": "9e11494a",
   "metadata": {},
   "source": [
    "\n",
    "**Что можнго исправить**\n",
    "\n",
    "- изменить формат столбца `event_dt` в формат `datetime`\n",
    "- заполнить пропуски в столбце `details` "
   ]
  },
  {
   "cell_type": "code",
   "execution_count": 7,
   "id": "f97cecd6",
   "metadata": {},
   "outputs": [
    {
     "name": "stdout",
     "output_type": "stream",
     "text": [
      "<class 'pandas.core.frame.DataFrame'>\n",
      "RangeIndex: 440317 entries, 0 to 440316\n",
      "Data columns (total 4 columns):\n",
      " #   Column      Non-Null Count   Dtype         \n",
      "---  ------      --------------   -----         \n",
      " 0   user_id     440317 non-null  object        \n",
      " 1   event_dt    440317 non-null  datetime64[ns]\n",
      " 2   event_name  440317 non-null  object        \n",
      " 3   details     62740 non-null   float64       \n",
      "dtypes: datetime64[ns](1), float64(1), object(2)\n",
      "memory usage: 13.4+ MB\n"
     ]
    }
   ],
   "source": [
    "ab_events['event_dt'] = pd.to_datetime (ab_events['event_dt'])\n",
    "ab_events.info()"
   ]
  },
  {
   "cell_type": "markdown",
   "id": "185892b8",
   "metadata": {},
   "source": [
    "Посмотрим каким событиям соответствуют проапуски в столбце `details`"
   ]
  },
  {
   "cell_type": "code",
   "execution_count": 8,
   "id": "e31ed4f5",
   "metadata": {},
   "outputs": [
    {
     "data": {
      "text/html": [
       "<div>\n",
       "<style scoped>\n",
       "    .dataframe tbody tr th:only-of-type {\n",
       "        vertical-align: middle;\n",
       "    }\n",
       "\n",
       "    .dataframe tbody tr th {\n",
       "        vertical-align: top;\n",
       "    }\n",
       "\n",
       "    .dataframe thead th {\n",
       "        text-align: right;\n",
       "    }\n",
       "</style>\n",
       "<table border=\"1\" class=\"dataframe\">\n",
       "  <thead>\n",
       "    <tr style=\"text-align: right;\">\n",
       "      <th></th>\n",
       "      <th>user_id</th>\n",
       "    </tr>\n",
       "    <tr>\n",
       "      <th>event_name</th>\n",
       "      <th></th>\n",
       "    </tr>\n",
       "  </thead>\n",
       "  <tbody>\n",
       "    <tr>\n",
       "      <th>login</th>\n",
       "      <td>189552</td>\n",
       "    </tr>\n",
       "    <tr>\n",
       "      <th>product_page</th>\n",
       "      <td>125563</td>\n",
       "    </tr>\n",
       "    <tr>\n",
       "      <th>product_cart</th>\n",
       "      <td>62462</td>\n",
       "    </tr>\n",
       "  </tbody>\n",
       "</table>\n",
       "</div>"
      ],
      "text/plain": [
       "              user_id\n",
       "event_name           \n",
       "login          189552\n",
       "product_page   125563\n",
       "product_cart    62462"
      ]
     },
     "execution_count": 8,
     "metadata": {},
     "output_type": "execute_result"
    }
   ],
   "source": [
    "(\n",
    "    ab_events.loc[ab_events['details'].isnull()]\n",
    "    .groupby('event_name')\n",
    "    .agg({'user_id':'count'})\n",
    "    .sort_values(by='user_id', ascending=False)\n",
    ")"
   ]
  },
  {
   "cell_type": "markdown",
   "id": "83faf08c",
   "metadata": {},
   "source": [
    "Проверим есть ли по этим событиям заполненные детали."
   ]
  },
  {
   "cell_type": "code",
   "execution_count": 9,
   "id": "4f073bb5",
   "metadata": {},
   "outputs": [
    {
     "name": "stdout",
     "output_type": "stream",
     "text": [
      "Детали для события login\n"
     ]
    },
    {
     "data": {
      "text/plain": [
       "array([nan])"
      ]
     },
     "metadata": {},
     "output_type": "display_data"
    },
    {
     "name": "stdout",
     "output_type": "stream",
     "text": [
      "Детали для события product_page\n"
     ]
    },
    {
     "data": {
      "text/plain": [
       "array([nan])"
      ]
     },
     "metadata": {},
     "output_type": "display_data"
    },
    {
     "name": "stdout",
     "output_type": "stream",
     "text": [
      "Детали для события product_cart\n"
     ]
    },
    {
     "data": {
      "text/plain": [
       "array([nan])"
      ]
     },
     "metadata": {},
     "output_type": "display_data"
    }
   ],
   "source": [
    "list = ['login', 'product_page', 'product_cart']\n",
    "for event in list:    \n",
    "    print ('Детали для события', event)\n",
    "    display(ab_events.loc[ab_events['event_name'] == event, 'details'].unique())"
   ]
  },
  {
   "cell_type": "markdown",
   "id": "ada80308",
   "metadata": {},
   "source": [
    "Детали не заполнены только для событий входа в приложение, просмотр карточки товара и просмотр корзины. Эти события не имеют каких-то суммовых признаков, поэтому детали по ним не заполнены. Для исследования нам важно только количество этих событий, поэтому оставим пропуски на месте."
   ]
  },
  {
   "cell_type": "markdown",
   "id": "52616646",
   "metadata": {},
   "source": [
    "Посомтрим какие еще события имеются в датафрейме"
   ]
  },
  {
   "cell_type": "code",
   "execution_count": 10,
   "id": "5e104743",
   "metadata": {},
   "outputs": [
    {
     "data": {
      "text/html": [
       "<div>\n",
       "<style scoped>\n",
       "    .dataframe tbody tr th:only-of-type {\n",
       "        vertical-align: middle;\n",
       "    }\n",
       "\n",
       "    .dataframe tbody tr th {\n",
       "        vertical-align: top;\n",
       "    }\n",
       "\n",
       "    .dataframe thead th {\n",
       "        text-align: right;\n",
       "    }\n",
       "</style>\n",
       "<table border=\"1\" class=\"dataframe\">\n",
       "  <thead>\n",
       "    <tr style=\"text-align: right;\">\n",
       "      <th></th>\n",
       "      <th>user_id</th>\n",
       "    </tr>\n",
       "    <tr>\n",
       "      <th>event_name</th>\n",
       "      <th></th>\n",
       "    </tr>\n",
       "  </thead>\n",
       "  <tbody>\n",
       "    <tr>\n",
       "      <th>login</th>\n",
       "      <td>189552</td>\n",
       "    </tr>\n",
       "    <tr>\n",
       "      <th>product_page</th>\n",
       "      <td>125563</td>\n",
       "    </tr>\n",
       "    <tr>\n",
       "      <th>purchase</th>\n",
       "      <td>62740</td>\n",
       "    </tr>\n",
       "    <tr>\n",
       "      <th>product_cart</th>\n",
       "      <td>62462</td>\n",
       "    </tr>\n",
       "  </tbody>\n",
       "</table>\n",
       "</div>"
      ],
      "text/plain": [
       "              user_id\n",
       "event_name           \n",
       "login          189552\n",
       "product_page   125563\n",
       "purchase        62740\n",
       "product_cart    62462"
      ]
     },
     "execution_count": 10,
     "metadata": {},
     "output_type": "execute_result"
    }
   ],
   "source": [
    "(\n",
    "    ab_events\n",
    "    .groupby('event_name')\n",
    "    .agg({'user_id':'count'})\n",
    "    .sort_values(by='user_id', ascending=False)\n",
    ")"
   ]
  },
  {
   "cell_type": "markdown",
   "id": "21923a00",
   "metadata": {},
   "source": [
    "Всего 4 вида событий. В деталях заполнены только данные о сумме покупки. "
   ]
  },
  {
   "cell_type": "code",
   "execution_count": 11,
   "id": "6ba67acd",
   "metadata": {
    "scrolled": true
   },
   "outputs": [
    {
     "name": "stdout",
     "output_type": "stream",
     "text": [
      "Таблица содержит данные за период с 2020-12-07 по 2020-12-30 \n",
      "Действия 58703 уникальных пользователей \n",
      "Уникальных событий 4, всего событий 440317\n"
     ]
    }
   ],
   "source": [
    "print(\n",
    "    'Таблица содержит данные за период с {} по {}'\n",
    "    .format(\n",
    "        ab_events['event_dt'].dt.date.min(),\n",
    "        ab_events['event_dt'].dt.date.max()\n",
    "    ),\n",
    "    '\\nДействия {} уникальных пользователей'\n",
    "    .format(ab_events['user_id'].nunique()),\n",
    "    '\\nУникальных событий {}, всего событий {}'\n",
    "    .format (\n",
    "        ab_events['event_name'].nunique(),\n",
    "        ab_events['event_name'].count()\n",
    "    )\n",
    ")"
   ]
  },
  {
   "cell_type": "markdown",
   "id": "67d43b25",
   "metadata": {},
   "source": [
    "Также из первичной статистики можно увидеть, что основная часть покупок на сумму 4.99$ (медиана и минимальное значения покупки совпадают), максимальная покупка на сумму 499.99 "
   ]
  },
  {
   "cell_type": "markdown",
   "id": "b461ecca",
   "metadata": {},
   "source": [
    "**Таблица `ab_new_users`**"
   ]
  },
  {
   "cell_type": "code",
   "execution_count": 12,
   "id": "bc8a7e95",
   "metadata": {},
   "outputs": [
    {
     "name": "stdout",
     "output_type": "stream",
     "text": [
      "\n",
      "Информация о таблице\n",
      "\n",
      "<class 'pandas.core.frame.DataFrame'>\n",
      "RangeIndex: 61733 entries, 0 to 61732\n",
      "Data columns (total 4 columns):\n",
      " #   Column      Non-Null Count  Dtype \n",
      "---  ------      --------------  ----- \n",
      " 0   user_id     61733 non-null  object\n",
      " 1   first_date  61733 non-null  object\n",
      " 2   region      61733 non-null  object\n",
      " 3   device      61733 non-null  object\n",
      "dtypes: object(4)\n",
      "memory usage: 1.9+ MB\n",
      "\n",
      "Первые строки таблицы\n"
     ]
    },
    {
     "data": {
      "text/html": [
       "<div>\n",
       "<style scoped>\n",
       "    .dataframe tbody tr th:only-of-type {\n",
       "        vertical-align: middle;\n",
       "    }\n",
       "\n",
       "    .dataframe tbody tr th {\n",
       "        vertical-align: top;\n",
       "    }\n",
       "\n",
       "    .dataframe thead th {\n",
       "        text-align: right;\n",
       "    }\n",
       "</style>\n",
       "<table border=\"1\" class=\"dataframe\">\n",
       "  <thead>\n",
       "    <tr style=\"text-align: right;\">\n",
       "      <th></th>\n",
       "      <th>user_id</th>\n",
       "      <th>first_date</th>\n",
       "      <th>region</th>\n",
       "      <th>device</th>\n",
       "    </tr>\n",
       "  </thead>\n",
       "  <tbody>\n",
       "    <tr>\n",
       "      <th>0</th>\n",
       "      <td>D72A72121175D8BE</td>\n",
       "      <td>2020-12-07</td>\n",
       "      <td>EU</td>\n",
       "      <td>PC</td>\n",
       "    </tr>\n",
       "    <tr>\n",
       "      <th>1</th>\n",
       "      <td>F1C668619DFE6E65</td>\n",
       "      <td>2020-12-07</td>\n",
       "      <td>N.America</td>\n",
       "      <td>Android</td>\n",
       "    </tr>\n",
       "    <tr>\n",
       "      <th>2</th>\n",
       "      <td>2E1BF1D4C37EA01F</td>\n",
       "      <td>2020-12-07</td>\n",
       "      <td>EU</td>\n",
       "      <td>PC</td>\n",
       "    </tr>\n",
       "    <tr>\n",
       "      <th>3</th>\n",
       "      <td>50734A22C0C63768</td>\n",
       "      <td>2020-12-07</td>\n",
       "      <td>EU</td>\n",
       "      <td>iPhone</td>\n",
       "    </tr>\n",
       "    <tr>\n",
       "      <th>4</th>\n",
       "      <td>E1BDDCE0DAFA2679</td>\n",
       "      <td>2020-12-07</td>\n",
       "      <td>N.America</td>\n",
       "      <td>iPhone</td>\n",
       "    </tr>\n",
       "  </tbody>\n",
       "</table>\n",
       "</div>"
      ],
      "text/plain": [
       "            user_id  first_date     region   device\n",
       "0  D72A72121175D8BE  2020-12-07         EU       PC\n",
       "1  F1C668619DFE6E65  2020-12-07  N.America  Android\n",
       "2  2E1BF1D4C37EA01F  2020-12-07         EU       PC\n",
       "3  50734A22C0C63768  2020-12-07         EU   iPhone\n",
       "4  E1BDDCE0DAFA2679  2020-12-07  N.America   iPhone"
      ]
     },
     "metadata": {},
     "output_type": "display_data"
    },
    {
     "name": "stdout",
     "output_type": "stream",
     "text": [
      "\n",
      "Полных дубликатов строк в таблице нет\n",
      "В столбцах таблицы нет пропущенных значений\n",
      "\n",
      "Первичная статистика по таблице\n"
     ]
    },
    {
     "data": {
      "text/html": [
       "<div>\n",
       "<style scoped>\n",
       "    .dataframe tbody tr th:only-of-type {\n",
       "        vertical-align: middle;\n",
       "    }\n",
       "\n",
       "    .dataframe tbody tr th {\n",
       "        vertical-align: top;\n",
       "    }\n",
       "\n",
       "    .dataframe thead th {\n",
       "        text-align: right;\n",
       "    }\n",
       "</style>\n",
       "<table border=\"1\" class=\"dataframe\">\n",
       "  <thead>\n",
       "    <tr style=\"text-align: right;\">\n",
       "      <th></th>\n",
       "      <th>count</th>\n",
       "      <th>unique</th>\n",
       "      <th>top</th>\n",
       "      <th>freq</th>\n",
       "    </tr>\n",
       "  </thead>\n",
       "  <tbody>\n",
       "    <tr>\n",
       "      <th>user_id</th>\n",
       "      <td>61733</td>\n",
       "      <td>61733</td>\n",
       "      <td>3CF470277C9DD165</td>\n",
       "      <td>1</td>\n",
       "    </tr>\n",
       "    <tr>\n",
       "      <th>first_date</th>\n",
       "      <td>61733</td>\n",
       "      <td>17</td>\n",
       "      <td>2020-12-21</td>\n",
       "      <td>6290</td>\n",
       "    </tr>\n",
       "    <tr>\n",
       "      <th>region</th>\n",
       "      <td>61733</td>\n",
       "      <td>4</td>\n",
       "      <td>EU</td>\n",
       "      <td>46270</td>\n",
       "    </tr>\n",
       "    <tr>\n",
       "      <th>device</th>\n",
       "      <td>61733</td>\n",
       "      <td>4</td>\n",
       "      <td>Android</td>\n",
       "      <td>27520</td>\n",
       "    </tr>\n",
       "  </tbody>\n",
       "</table>\n",
       "</div>"
      ],
      "text/plain": [
       "            count unique               top   freq\n",
       "user_id     61733  61733  3CF470277C9DD165      1\n",
       "first_date  61733     17        2020-12-21   6290\n",
       "region      61733      4                EU  46270\n",
       "device      61733      4           Android  27520"
      ]
     },
     "metadata": {},
     "output_type": "display_data"
    }
   ],
   "source": [
    "df_overview(ab_new_users)"
   ]
  },
  {
   "cell_type": "markdown",
   "id": "5f0f5c10",
   "metadata": {},
   "source": [
    "**Что можно исправить:**\n",
    "- формат столбца `first_date` преобразовать в `datetime`"
   ]
  },
  {
   "cell_type": "code",
   "execution_count": 13,
   "id": "69c0fd59",
   "metadata": {},
   "outputs": [
    {
     "name": "stdout",
     "output_type": "stream",
     "text": [
      "<class 'pandas.core.frame.DataFrame'>\n",
      "RangeIndex: 61733 entries, 0 to 61732\n",
      "Data columns (total 4 columns):\n",
      " #   Column      Non-Null Count  Dtype         \n",
      "---  ------      --------------  -----         \n",
      " 0   user_id     61733 non-null  object        \n",
      " 1   first_date  61733 non-null  datetime64[ns]\n",
      " 2   region      61733 non-null  object        \n",
      " 3   device      61733 non-null  object        \n",
      "dtypes: datetime64[ns](1), object(3)\n",
      "memory usage: 1.9+ MB\n"
     ]
    }
   ],
   "source": [
    "ab_new_users['first_date'] = pd.to_datetime (ab_new_users['first_date'])\n",
    "ab_new_users.info()"
   ]
  },
  {
   "cell_type": "markdown",
   "id": "7ba39463",
   "metadata": {},
   "source": [
    "Проверим уникальные значения столбцов `region` и `device`"
   ]
  },
  {
   "cell_type": "code",
   "execution_count": 14,
   "id": "0b5e6a4b",
   "metadata": {},
   "outputs": [
    {
     "data": {
      "text/plain": [
       "array(['EU', 'N.America', 'APAC', 'CIS'], dtype=object)"
      ]
     },
     "metadata": {},
     "output_type": "display_data"
    },
    {
     "data": {
      "text/plain": [
       "array(['PC', 'Android', 'iPhone', 'Mac'], dtype=object)"
      ]
     },
     "execution_count": 14,
     "metadata": {},
     "output_type": "execute_result"
    }
   ],
   "source": [
    "display(ab_new_users['region'].unique())\n",
    "ab_new_users['device'].unique()"
   ]
  },
  {
   "cell_type": "markdown",
   "id": "76602031",
   "metadata": {},
   "source": [
    "В значениях столбцов нет скрытых дубликатов."
   ]
  },
  {
   "cell_type": "markdown",
   "id": "ddc8f7b4",
   "metadata": {},
   "source": [
    "Посмотрим статистику после преобразования даты"
   ]
  },
  {
   "cell_type": "code",
   "execution_count": 15,
   "id": "f04b9411",
   "metadata": {},
   "outputs": [
    {
     "name": "stderr",
     "output_type": "stream",
     "text": [
      "/tmp/ipykernel_225/1819616377.py:1: FutureWarning: Treating datetime data as categorical rather than numeric in `.describe` is deprecated and will be removed in a future version of pandas. Specify `datetime_is_numeric=True` to silence this warning and adopt the future behavior now.\n",
      "  ab_new_users.describe().T\n"
     ]
    },
    {
     "data": {
      "text/html": [
       "<div>\n",
       "<style scoped>\n",
       "    .dataframe tbody tr th:only-of-type {\n",
       "        vertical-align: middle;\n",
       "    }\n",
       "\n",
       "    .dataframe tbody tr th {\n",
       "        vertical-align: top;\n",
       "    }\n",
       "\n",
       "    .dataframe thead th {\n",
       "        text-align: right;\n",
       "    }\n",
       "</style>\n",
       "<table border=\"1\" class=\"dataframe\">\n",
       "  <thead>\n",
       "    <tr style=\"text-align: right;\">\n",
       "      <th></th>\n",
       "      <th>count</th>\n",
       "      <th>unique</th>\n",
       "      <th>top</th>\n",
       "      <th>freq</th>\n",
       "      <th>first</th>\n",
       "      <th>last</th>\n",
       "    </tr>\n",
       "  </thead>\n",
       "  <tbody>\n",
       "    <tr>\n",
       "      <th>user_id</th>\n",
       "      <td>61733</td>\n",
       "      <td>61733</td>\n",
       "      <td>3CF470277C9DD165</td>\n",
       "      <td>1</td>\n",
       "      <td>NaT</td>\n",
       "      <td>NaT</td>\n",
       "    </tr>\n",
       "    <tr>\n",
       "      <th>first_date</th>\n",
       "      <td>61733</td>\n",
       "      <td>17</td>\n",
       "      <td>2020-12-21 00:00:00</td>\n",
       "      <td>6290</td>\n",
       "      <td>2020-12-07</td>\n",
       "      <td>2020-12-23</td>\n",
       "    </tr>\n",
       "    <tr>\n",
       "      <th>region</th>\n",
       "      <td>61733</td>\n",
       "      <td>4</td>\n",
       "      <td>EU</td>\n",
       "      <td>46270</td>\n",
       "      <td>NaT</td>\n",
       "      <td>NaT</td>\n",
       "    </tr>\n",
       "    <tr>\n",
       "      <th>device</th>\n",
       "      <td>61733</td>\n",
       "      <td>4</td>\n",
       "      <td>Android</td>\n",
       "      <td>27520</td>\n",
       "      <td>NaT</td>\n",
       "      <td>NaT</td>\n",
       "    </tr>\n",
       "  </tbody>\n",
       "</table>\n",
       "</div>"
      ],
      "text/plain": [
       "            count unique                  top   freq      first       last\n",
       "user_id     61733  61733     3CF470277C9DD165      1        NaT        NaT\n",
       "first_date  61733     17  2020-12-21 00:00:00   6290 2020-12-07 2020-12-23\n",
       "region      61733      4                   EU  46270        NaT        NaT\n",
       "device      61733      4              Android  27520        NaT        NaT"
      ]
     },
     "execution_count": 15,
     "metadata": {},
     "output_type": "execute_result"
    }
   ],
   "source": [
    "ab_new_users.describe().T"
   ]
  },
  {
   "cell_type": "markdown",
   "id": "4f1cf038",
   "metadata": {},
   "source": [
    "Таблица `ab_new_users` содержит данные о 61733 пользователях, зарегистрировавшихся за период с 7 декабря 2020 г. по 23 декабря 2020 г. Пользователи из 4-х регионов- Европы, Северной Америки, стран Азиатско-Тихоокеанского региона и стран СНГ, чаще всего регистрировались пользователи из Европы. Пользователи испульзуют 4 типа устройств - PC, Android, iPhone и MAC, самое популярное - Android. "
   ]
  },
  {
   "cell_type": "markdown",
   "id": "ccfa838d",
   "metadata": {},
   "source": [
    "**Таблица `ab_marketing_events`**"
   ]
  },
  {
   "cell_type": "code",
   "execution_count": 16,
   "id": "7b342a90",
   "metadata": {},
   "outputs": [
    {
     "name": "stdout",
     "output_type": "stream",
     "text": [
      "\n",
      "Информация о таблице\n",
      "\n",
      "<class 'pandas.core.frame.DataFrame'>\n",
      "RangeIndex: 14 entries, 0 to 13\n",
      "Data columns (total 4 columns):\n",
      " #   Column     Non-Null Count  Dtype \n",
      "---  ------     --------------  ----- \n",
      " 0   name       14 non-null     object\n",
      " 1   regions    14 non-null     object\n",
      " 2   start_dt   14 non-null     object\n",
      " 3   finish_dt  14 non-null     object\n",
      "dtypes: object(4)\n",
      "memory usage: 576.0+ bytes\n",
      "\n",
      "Первые строки таблицы\n"
     ]
    },
    {
     "data": {
      "text/html": [
       "<div>\n",
       "<style scoped>\n",
       "    .dataframe tbody tr th:only-of-type {\n",
       "        vertical-align: middle;\n",
       "    }\n",
       "\n",
       "    .dataframe tbody tr th {\n",
       "        vertical-align: top;\n",
       "    }\n",
       "\n",
       "    .dataframe thead th {\n",
       "        text-align: right;\n",
       "    }\n",
       "</style>\n",
       "<table border=\"1\" class=\"dataframe\">\n",
       "  <thead>\n",
       "    <tr style=\"text-align: right;\">\n",
       "      <th></th>\n",
       "      <th>name</th>\n",
       "      <th>regions</th>\n",
       "      <th>start_dt</th>\n",
       "      <th>finish_dt</th>\n",
       "    </tr>\n",
       "  </thead>\n",
       "  <tbody>\n",
       "    <tr>\n",
       "      <th>0</th>\n",
       "      <td>Christmas&amp;New Year Promo</td>\n",
       "      <td>EU, N.America</td>\n",
       "      <td>2020-12-25</td>\n",
       "      <td>2021-01-03</td>\n",
       "    </tr>\n",
       "    <tr>\n",
       "      <th>1</th>\n",
       "      <td>St. Valentine's Day Giveaway</td>\n",
       "      <td>EU, CIS, APAC, N.America</td>\n",
       "      <td>2020-02-14</td>\n",
       "      <td>2020-02-16</td>\n",
       "    </tr>\n",
       "    <tr>\n",
       "      <th>2</th>\n",
       "      <td>St. Patric's Day Promo</td>\n",
       "      <td>EU, N.America</td>\n",
       "      <td>2020-03-17</td>\n",
       "      <td>2020-03-19</td>\n",
       "    </tr>\n",
       "    <tr>\n",
       "      <th>3</th>\n",
       "      <td>Easter Promo</td>\n",
       "      <td>EU, CIS, APAC, N.America</td>\n",
       "      <td>2020-04-12</td>\n",
       "      <td>2020-04-19</td>\n",
       "    </tr>\n",
       "    <tr>\n",
       "      <th>4</th>\n",
       "      <td>4th of July Promo</td>\n",
       "      <td>N.America</td>\n",
       "      <td>2020-07-04</td>\n",
       "      <td>2020-07-11</td>\n",
       "    </tr>\n",
       "  </tbody>\n",
       "</table>\n",
       "</div>"
      ],
      "text/plain": [
       "                           name                   regions    start_dt  \\\n",
       "0      Christmas&New Year Promo             EU, N.America  2020-12-25   \n",
       "1  St. Valentine's Day Giveaway  EU, CIS, APAC, N.America  2020-02-14   \n",
       "2        St. Patric's Day Promo             EU, N.America  2020-03-17   \n",
       "3                  Easter Promo  EU, CIS, APAC, N.America  2020-04-12   \n",
       "4             4th of July Promo                 N.America  2020-07-04   \n",
       "\n",
       "    finish_dt  \n",
       "0  2021-01-03  \n",
       "1  2020-02-16  \n",
       "2  2020-03-19  \n",
       "3  2020-04-19  \n",
       "4  2020-07-11  "
      ]
     },
     "metadata": {},
     "output_type": "display_data"
    },
    {
     "name": "stdout",
     "output_type": "stream",
     "text": [
      "\n",
      "Полных дубликатов строк в таблице нет\n",
      "В столбцах таблицы нет пропущенных значений\n",
      "\n",
      "Первичная статистика по таблице\n"
     ]
    },
    {
     "data": {
      "text/html": [
       "<div>\n",
       "<style scoped>\n",
       "    .dataframe tbody tr th:only-of-type {\n",
       "        vertical-align: middle;\n",
       "    }\n",
       "\n",
       "    .dataframe tbody tr th {\n",
       "        vertical-align: top;\n",
       "    }\n",
       "\n",
       "    .dataframe thead th {\n",
       "        text-align: right;\n",
       "    }\n",
       "</style>\n",
       "<table border=\"1\" class=\"dataframe\">\n",
       "  <thead>\n",
       "    <tr style=\"text-align: right;\">\n",
       "      <th></th>\n",
       "      <th>count</th>\n",
       "      <th>unique</th>\n",
       "      <th>top</th>\n",
       "      <th>freq</th>\n",
       "    </tr>\n",
       "  </thead>\n",
       "  <tbody>\n",
       "    <tr>\n",
       "      <th>name</th>\n",
       "      <td>14</td>\n",
       "      <td>14</td>\n",
       "      <td>Dragon Boat Festival Giveaway</td>\n",
       "      <td>1</td>\n",
       "    </tr>\n",
       "    <tr>\n",
       "      <th>regions</th>\n",
       "      <td>14</td>\n",
       "      <td>6</td>\n",
       "      <td>APAC</td>\n",
       "      <td>4</td>\n",
       "    </tr>\n",
       "    <tr>\n",
       "      <th>start_dt</th>\n",
       "      <td>14</td>\n",
       "      <td>14</td>\n",
       "      <td>2020-12-30</td>\n",
       "      <td>1</td>\n",
       "    </tr>\n",
       "    <tr>\n",
       "      <th>finish_dt</th>\n",
       "      <td>14</td>\n",
       "      <td>14</td>\n",
       "      <td>2020-11-12</td>\n",
       "      <td>1</td>\n",
       "    </tr>\n",
       "  </tbody>\n",
       "</table>\n",
       "</div>"
      ],
      "text/plain": [
       "          count unique                            top freq\n",
       "name         14     14  Dragon Boat Festival Giveaway    1\n",
       "regions      14      6                           APAC    4\n",
       "start_dt     14     14                     2020-12-30    1\n",
       "finish_dt    14     14                     2020-11-12    1"
      ]
     },
     "metadata": {},
     "output_type": "display_data"
    }
   ],
   "source": [
    "df_overview(ab_marketing_events)"
   ]
  },
  {
   "cell_type": "markdown",
   "id": "4768884f",
   "metadata": {},
   "source": [
    "**Что можно исправить**\n",
    "\n",
    "- преобразовать формат столбцов `start_dt` и `finish_dt` в `datetime`"
   ]
  },
  {
   "cell_type": "code",
   "execution_count": 17,
   "id": "13f59287",
   "metadata": {},
   "outputs": [
    {
     "name": "stdout",
     "output_type": "stream",
     "text": [
      "<class 'pandas.core.frame.DataFrame'>\n",
      "RangeIndex: 14 entries, 0 to 13\n",
      "Data columns (total 4 columns):\n",
      " #   Column     Non-Null Count  Dtype         \n",
      "---  ------     --------------  -----         \n",
      " 0   name       14 non-null     object        \n",
      " 1   regions    14 non-null     object        \n",
      " 2   start_dt   14 non-null     datetime64[ns]\n",
      " 3   finish_dt  14 non-null     datetime64[ns]\n",
      "dtypes: datetime64[ns](2), object(2)\n",
      "memory usage: 576.0+ bytes\n"
     ]
    }
   ],
   "source": [
    "ab_marketing_events['start_dt'] = pd.to_datetime (ab_marketing_events['start_dt'])\n",
    "ab_marketing_events['finish_dt'] = pd.to_datetime (ab_marketing_events['finish_dt'])\n",
    "ab_marketing_events.info()"
   ]
  },
  {
   "cell_type": "markdown",
   "id": "90cf608e",
   "metadata": {},
   "source": [
    "Посмотрим на таблицу целиком"
   ]
  },
  {
   "cell_type": "code",
   "execution_count": 18,
   "id": "a214d8e0",
   "metadata": {},
   "outputs": [
    {
     "data": {
      "text/html": [
       "<div>\n",
       "<style scoped>\n",
       "    .dataframe tbody tr th:only-of-type {\n",
       "        vertical-align: middle;\n",
       "    }\n",
       "\n",
       "    .dataframe tbody tr th {\n",
       "        vertical-align: top;\n",
       "    }\n",
       "\n",
       "    .dataframe thead th {\n",
       "        text-align: right;\n",
       "    }\n",
       "</style>\n",
       "<table border=\"1\" class=\"dataframe\">\n",
       "  <thead>\n",
       "    <tr style=\"text-align: right;\">\n",
       "      <th></th>\n",
       "      <th>name</th>\n",
       "      <th>regions</th>\n",
       "      <th>start_dt</th>\n",
       "      <th>finish_dt</th>\n",
       "    </tr>\n",
       "  </thead>\n",
       "  <tbody>\n",
       "    <tr>\n",
       "      <th>6</th>\n",
       "      <td>Chinese New Year Promo</td>\n",
       "      <td>APAC</td>\n",
       "      <td>2020-01-25</td>\n",
       "      <td>2020-02-07</td>\n",
       "    </tr>\n",
       "    <tr>\n",
       "      <th>1</th>\n",
       "      <td>St. Valentine's Day Giveaway</td>\n",
       "      <td>EU, CIS, APAC, N.America</td>\n",
       "      <td>2020-02-14</td>\n",
       "      <td>2020-02-16</td>\n",
       "    </tr>\n",
       "    <tr>\n",
       "      <th>8</th>\n",
       "      <td>International Women's Day Promo</td>\n",
       "      <td>EU, CIS, APAC</td>\n",
       "      <td>2020-03-08</td>\n",
       "      <td>2020-03-10</td>\n",
       "    </tr>\n",
       "    <tr>\n",
       "      <th>2</th>\n",
       "      <td>St. Patric's Day Promo</td>\n",
       "      <td>EU, N.America</td>\n",
       "      <td>2020-03-17</td>\n",
       "      <td>2020-03-19</td>\n",
       "    </tr>\n",
       "    <tr>\n",
       "      <th>3</th>\n",
       "      <td>Easter Promo</td>\n",
       "      <td>EU, CIS, APAC, N.America</td>\n",
       "      <td>2020-04-12</td>\n",
       "      <td>2020-04-19</td>\n",
       "    </tr>\n",
       "    <tr>\n",
       "      <th>7</th>\n",
       "      <td>Labor day (May 1st) Ads Campaign</td>\n",
       "      <td>EU, CIS, APAC</td>\n",
       "      <td>2020-05-01</td>\n",
       "      <td>2020-05-03</td>\n",
       "    </tr>\n",
       "    <tr>\n",
       "      <th>9</th>\n",
       "      <td>Victory Day CIS (May 9th) Event</td>\n",
       "      <td>CIS</td>\n",
       "      <td>2020-05-09</td>\n",
       "      <td>2020-05-11</td>\n",
       "    </tr>\n",
       "    <tr>\n",
       "      <th>11</th>\n",
       "      <td>Dragon Boat Festival Giveaway</td>\n",
       "      <td>APAC</td>\n",
       "      <td>2020-06-25</td>\n",
       "      <td>2020-07-01</td>\n",
       "    </tr>\n",
       "    <tr>\n",
       "      <th>4</th>\n",
       "      <td>4th of July Promo</td>\n",
       "      <td>N.America</td>\n",
       "      <td>2020-07-04</td>\n",
       "      <td>2020-07-11</td>\n",
       "    </tr>\n",
       "    <tr>\n",
       "      <th>13</th>\n",
       "      <td>Chinese Moon Festival</td>\n",
       "      <td>APAC</td>\n",
       "      <td>2020-10-01</td>\n",
       "      <td>2020-10-07</td>\n",
       "    </tr>\n",
       "    <tr>\n",
       "      <th>12</th>\n",
       "      <td>Single's Day Gift Promo</td>\n",
       "      <td>APAC</td>\n",
       "      <td>2020-11-11</td>\n",
       "      <td>2020-11-12</td>\n",
       "    </tr>\n",
       "    <tr>\n",
       "      <th>5</th>\n",
       "      <td>Black Friday Ads Campaign</td>\n",
       "      <td>EU, CIS, APAC, N.America</td>\n",
       "      <td>2020-11-26</td>\n",
       "      <td>2020-12-01</td>\n",
       "    </tr>\n",
       "    <tr>\n",
       "      <th>0</th>\n",
       "      <td>Christmas&amp;New Year Promo</td>\n",
       "      <td>EU, N.America</td>\n",
       "      <td>2020-12-25</td>\n",
       "      <td>2021-01-03</td>\n",
       "    </tr>\n",
       "    <tr>\n",
       "      <th>10</th>\n",
       "      <td>CIS New Year Gift Lottery</td>\n",
       "      <td>CIS</td>\n",
       "      <td>2020-12-30</td>\n",
       "      <td>2021-01-07</td>\n",
       "    </tr>\n",
       "  </tbody>\n",
       "</table>\n",
       "</div>"
      ],
      "text/plain": [
       "                                name                   regions   start_dt  \\\n",
       "6             Chinese New Year Promo                      APAC 2020-01-25   \n",
       "1       St. Valentine's Day Giveaway  EU, CIS, APAC, N.America 2020-02-14   \n",
       "8    International Women's Day Promo             EU, CIS, APAC 2020-03-08   \n",
       "2             St. Patric's Day Promo             EU, N.America 2020-03-17   \n",
       "3                       Easter Promo  EU, CIS, APAC, N.America 2020-04-12   \n",
       "7   Labor day (May 1st) Ads Campaign             EU, CIS, APAC 2020-05-01   \n",
       "9    Victory Day CIS (May 9th) Event                       CIS 2020-05-09   \n",
       "11     Dragon Boat Festival Giveaway                      APAC 2020-06-25   \n",
       "4                  4th of July Promo                 N.America 2020-07-04   \n",
       "13             Chinese Moon Festival                      APAC 2020-10-01   \n",
       "12           Single's Day Gift Promo                      APAC 2020-11-11   \n",
       "5          Black Friday Ads Campaign  EU, CIS, APAC, N.America 2020-11-26   \n",
       "0           Christmas&New Year Promo             EU, N.America 2020-12-25   \n",
       "10         CIS New Year Gift Lottery                       CIS 2020-12-30   \n",
       "\n",
       "    finish_dt  \n",
       "6  2020-02-07  \n",
       "1  2020-02-16  \n",
       "8  2020-03-10  \n",
       "2  2020-03-19  \n",
       "3  2020-04-19  \n",
       "7  2020-05-03  \n",
       "9  2020-05-11  \n",
       "11 2020-07-01  \n",
       "4  2020-07-11  \n",
       "13 2020-10-07  \n",
       "12 2020-11-12  \n",
       "5  2020-12-01  \n",
       "0  2021-01-03  \n",
       "10 2021-01-07  "
      ]
     },
     "execution_count": 18,
     "metadata": {},
     "output_type": "execute_result"
    }
   ],
   "source": [
    "ab_marketing_events.sort_values(by='start_dt')"
   ]
  },
  {
   "cell_type": "markdown",
   "id": "f0e258af",
   "metadata": {},
   "source": [
    "В таблице промоакции на 2020 г. с датой начала и окончания, регионами проведения. Всего 14 промоакций. \n",
    "\n",
    "С периодом проведения и аудиторией A/B теста пересекается 1 акция - \"Christmas&New Year Promo\" - она проходит в том числе для стран Европы в период с 25 декабря до 03 января."
   ]
  },
  {
   "cell_type": "markdown",
   "id": "a4c51710",
   "metadata": {},
   "source": [
    "**Таблица `ab_participants`**"
   ]
  },
  {
   "cell_type": "code",
   "execution_count": 19,
   "id": "2a5690ad",
   "metadata": {},
   "outputs": [
    {
     "name": "stdout",
     "output_type": "stream",
     "text": [
      "\n",
      "Информация о таблице\n",
      "\n",
      "<class 'pandas.core.frame.DataFrame'>\n",
      "RangeIndex: 18268 entries, 0 to 18267\n",
      "Data columns (total 3 columns):\n",
      " #   Column   Non-Null Count  Dtype \n",
      "---  ------   --------------  ----- \n",
      " 0   user_id  18268 non-null  object\n",
      " 1   group    18268 non-null  object\n",
      " 2   ab_test  18268 non-null  object\n",
      "dtypes: object(3)\n",
      "memory usage: 428.3+ KB\n",
      "\n",
      "Первые строки таблицы\n"
     ]
    },
    {
     "data": {
      "text/html": [
       "<div>\n",
       "<style scoped>\n",
       "    .dataframe tbody tr th:only-of-type {\n",
       "        vertical-align: middle;\n",
       "    }\n",
       "\n",
       "    .dataframe tbody tr th {\n",
       "        vertical-align: top;\n",
       "    }\n",
       "\n",
       "    .dataframe thead th {\n",
       "        text-align: right;\n",
       "    }\n",
       "</style>\n",
       "<table border=\"1\" class=\"dataframe\">\n",
       "  <thead>\n",
       "    <tr style=\"text-align: right;\">\n",
       "      <th></th>\n",
       "      <th>user_id</th>\n",
       "      <th>group</th>\n",
       "      <th>ab_test</th>\n",
       "    </tr>\n",
       "  </thead>\n",
       "  <tbody>\n",
       "    <tr>\n",
       "      <th>0</th>\n",
       "      <td>D1ABA3E2887B6A73</td>\n",
       "      <td>A</td>\n",
       "      <td>recommender_system_test</td>\n",
       "    </tr>\n",
       "    <tr>\n",
       "      <th>1</th>\n",
       "      <td>A7A3664BD6242119</td>\n",
       "      <td>A</td>\n",
       "      <td>recommender_system_test</td>\n",
       "    </tr>\n",
       "    <tr>\n",
       "      <th>2</th>\n",
       "      <td>DABC14FDDFADD29E</td>\n",
       "      <td>A</td>\n",
       "      <td>recommender_system_test</td>\n",
       "    </tr>\n",
       "    <tr>\n",
       "      <th>3</th>\n",
       "      <td>04988C5DF189632E</td>\n",
       "      <td>A</td>\n",
       "      <td>recommender_system_test</td>\n",
       "    </tr>\n",
       "    <tr>\n",
       "      <th>4</th>\n",
       "      <td>482F14783456D21B</td>\n",
       "      <td>B</td>\n",
       "      <td>recommender_system_test</td>\n",
       "    </tr>\n",
       "  </tbody>\n",
       "</table>\n",
       "</div>"
      ],
      "text/plain": [
       "            user_id group                  ab_test\n",
       "0  D1ABA3E2887B6A73     A  recommender_system_test\n",
       "1  A7A3664BD6242119     A  recommender_system_test\n",
       "2  DABC14FDDFADD29E     A  recommender_system_test\n",
       "3  04988C5DF189632E     A  recommender_system_test\n",
       "4  482F14783456D21B     B  recommender_system_test"
      ]
     },
     "metadata": {},
     "output_type": "display_data"
    },
    {
     "name": "stdout",
     "output_type": "stream",
     "text": [
      "\n",
      "Полных дубликатов строк в таблице нет\n",
      "В столбцах таблицы нет пропущенных значений\n",
      "\n",
      "Первичная статистика по таблице\n"
     ]
    },
    {
     "data": {
      "text/html": [
       "<div>\n",
       "<style scoped>\n",
       "    .dataframe tbody tr th:only-of-type {\n",
       "        vertical-align: middle;\n",
       "    }\n",
       "\n",
       "    .dataframe tbody tr th {\n",
       "        vertical-align: top;\n",
       "    }\n",
       "\n",
       "    .dataframe thead th {\n",
       "        text-align: right;\n",
       "    }\n",
       "</style>\n",
       "<table border=\"1\" class=\"dataframe\">\n",
       "  <thead>\n",
       "    <tr style=\"text-align: right;\">\n",
       "      <th></th>\n",
       "      <th>count</th>\n",
       "      <th>unique</th>\n",
       "      <th>top</th>\n",
       "      <th>freq</th>\n",
       "    </tr>\n",
       "  </thead>\n",
       "  <tbody>\n",
       "    <tr>\n",
       "      <th>user_id</th>\n",
       "      <td>18268</td>\n",
       "      <td>16666</td>\n",
       "      <td>FF2174A1AA0EAD20</td>\n",
       "      <td>2</td>\n",
       "    </tr>\n",
       "    <tr>\n",
       "      <th>group</th>\n",
       "      <td>18268</td>\n",
       "      <td>2</td>\n",
       "      <td>A</td>\n",
       "      <td>9655</td>\n",
       "    </tr>\n",
       "    <tr>\n",
       "      <th>ab_test</th>\n",
       "      <td>18268</td>\n",
       "      <td>2</td>\n",
       "      <td>interface_eu_test</td>\n",
       "      <td>11567</td>\n",
       "    </tr>\n",
       "  </tbody>\n",
       "</table>\n",
       "</div>"
      ],
      "text/plain": [
       "         count unique                top   freq\n",
       "user_id  18268  16666   FF2174A1AA0EAD20      2\n",
       "group    18268      2                  A   9655\n",
       "ab_test  18268      2  interface_eu_test  11567"
      ]
     },
     "metadata": {},
     "output_type": "display_data"
    }
   ],
   "source": [
    "df_overview(ab_participants)"
   ]
  },
  {
   "cell_type": "markdown",
   "id": "9841eb55",
   "metadata": {},
   "source": [
    "Таблица содержит даные об участниках 2-х тестов: `recommender_system_test` - исследуемый тест, `interface_eu_test` - конкурирующий тест.\n",
    "\n",
    "Сторк в таблице 18268, а уникальных пользователей 16666. Значит есть пользователи, либо попавшие в оба теста, либо в 2 группы одного теста проверим это."
   ]
  },
  {
   "cell_type": "code",
   "execution_count": 20,
   "id": "9302e124",
   "metadata": {},
   "outputs": [
    {
     "name": "stdout",
     "output_type": "stream",
     "text": [
      "Число участников теста recommender_system_test - 6701,\n",
      "Уникальных пользователей в тесте 6701 Пользователей попавших в обе группы 0 (0.0 %)\n",
      "Число участников теста interface_eu_test - 11567,\n",
      "Уникальных пользователей в тесте 11567 Пользователей попавших в обе группы 0 (0.0 %)\n"
     ]
    }
   ],
   "source": [
    "for test in ab_participants['ab_test'].unique():\n",
    "    print (\n",
    "        'Число участников теста {} - {},\\nУникальных пользователей в тесте {}'\n",
    "        .format(\n",
    "            test,\n",
    "            ab_participants.query('ab_test ==@test')['user_id'].count(),\n",
    "            ab_participants.query('ab_test ==@test')['user_id'].nunique()\n",
    "            \n",
    "        ),\n",
    "        'Пользователей попавших в обе группы {} ({} %)'\n",
    "        .format(\n",
    "           (ab_participants.query('ab_test ==@test')['user_id'].count()-\n",
    "           ab_participants.query('ab_test ==@test')['user_id'].nunique()),\n",
    "            round(\n",
    "                (ab_participants.query('ab_test ==@test')['user_id'].count()-\n",
    "                ab_participants.query('ab_test ==@test')['user_id'].nunique()) / \n",
    "                ab_participants.query('ab_test ==@test')['user_id'].nunique() *\n",
    "                100, 2\n",
    "            )\n",
    "        )\n",
    "    )"
   ]
  },
  {
   "cell_type": "markdown",
   "id": "d271ca06",
   "metadata": {},
   "source": [
    "Пользователей пересекающихся между A/B группами тестов нет.\n",
    "Значит есть пользователи, участвующие в конкурирующих тестах. Группы А - это контрольные группы, по идеи для них одинаковые условия в обоих тестах, поэтому нам достаточно выявить только пересекающихся пользователей по группе B"
   ]
  },
  {
   "cell_type": "markdown",
   "id": "03c6ca10",
   "metadata": {},
   "source": [
    "Условия проверки:\n",
    "\n",
    "1. Пользователи из конкурируещего теста группы В попавшие в нашу тестовую группу В\n",
    "2. Пользователи из конкурируещего теста группы В попавшие в нашем тесте в группу А"
   ]
  },
  {
   "cell_type": "code",
   "execution_count": 22,
   "id": "889e7d38",
   "metadata": {},
   "outputs": [
    {
     "name": "stdout",
     "output_type": "stream",
     "text": [
      "Всего пользователей из группы В, учавствующих в конкурирующем тесте - 344 \n",
      "Это 5.13 % участников теста \"recommender_system_test\" \n",
      "\n",
      "Всего пользователей из группы А, учавствующих в конкурируещем тесте в группе В - 439 \n",
      "Это 6.55 % участников теста \"recommender_system_test\"\n"
     ]
    }
   ],
   "source": [
    "users_compet_test_a = ab_participants.query('ab_test == \"interface_eu_test\" and group == \"A\"')['user_id']\n",
    "users_compet_test_b = ab_participants.query('ab_test == \"interface_eu_test\" and group == \"B\"')['user_id']\n",
    "\n",
    "users_exclude_b =(\n",
    "    ab_participants\n",
    "    .query(\n",
    "        '(ab_test == \"recommender_system_test\" and group == \"B\") and (user_id in @users_compet_test_b)'\n",
    "    )['user_id']\n",
    ")\n",
    "\n",
    "users_exclude_a =(\n",
    "    ab_participants\n",
    "    .query(\n",
    "        'ab_test == \"recommender_system_test\" and group == \"A\"and user_id in @users_compet_test_b'\n",
    "    )['user_id']\n",
    ")\n",
    "\n",
    "\n",
    "print(\n",
    "    'Всего пользователей из группы В, учавствующих в конкурирующем тесте - {}'\n",
    "    .format(len(users_exclude_b)),\n",
    "    '\\nЭто {} % участников теста \"recommender_system_test\"'\n",
    "    .format(\n",
    "        round(\n",
    "            len(users_exclude_b) /\n",
    "            ab_participants.query('ab_test ==\"recommender_system_test\"')['user_id'].nunique() *100,\n",
    "            2\n",
    "        )        \n",
    "    ),\n",
    "    '\\n\\nВсего пользователей из группы А, учавствующих в конкурируещем тесте в группе В - {}'\n",
    "    .format(len(users_exclude_a)),\n",
    "    '\\nЭто {} % участников теста \"recommender_system_test\"'\n",
    "    .format(\n",
    "        round(\n",
    "            len(users_exclude_a) /\n",
    "            ab_participants.query('ab_test ==\"recommender_system_test\"')['user_id'].nunique() *100,\n",
    "            2\n",
    "        )        \n",
    "    ),\n",
    ")\n",
    "\n"
   ]
  },
  {
   "cell_type": "markdown",
   "id": "cfe67a64",
   "metadata": {},
   "source": [
    "Для анализа результатов теста \"recommender_system_test\" создадим таблицу с участниками этого теста, которые не пересекаются с конкурирующим тестом"
   ]
  },
  {
   "cell_type": "code",
   "execution_count": 23,
   "id": "5a89c013",
   "metadata": {
    "scrolled": true
   },
   "outputs": [
    {
     "name": "stdout",
     "output_type": "stream",
     "text": [
      "<class 'pandas.core.frame.DataFrame'>\n",
      "Int64Index: 5918 entries, 0 to 6700\n",
      "Data columns (total 3 columns):\n",
      " #   Column   Non-Null Count  Dtype \n",
      "---  ------   --------------  ----- \n",
      " 0   user_id  5918 non-null   object\n",
      " 1   group    5918 non-null   object\n",
      " 2   ab_test  5918 non-null   object\n",
      "dtypes: object(3)\n",
      "memory usage: 184.9+ KB\n"
     ]
    },
    {
     "data": {
      "text/html": [
       "<div>\n",
       "<style scoped>\n",
       "    .dataframe tbody tr th:only-of-type {\n",
       "        vertical-align: middle;\n",
       "    }\n",
       "\n",
       "    .dataframe tbody tr th {\n",
       "        vertical-align: top;\n",
       "    }\n",
       "\n",
       "    .dataframe thead th {\n",
       "        text-align: right;\n",
       "    }\n",
       "</style>\n",
       "<table border=\"1\" class=\"dataframe\">\n",
       "  <thead>\n",
       "    <tr style=\"text-align: right;\">\n",
       "      <th></th>\n",
       "      <th>user_id</th>\n",
       "      <th>group</th>\n",
       "      <th>ab_test</th>\n",
       "    </tr>\n",
       "  </thead>\n",
       "  <tbody>\n",
       "    <tr>\n",
       "      <th>0</th>\n",
       "      <td>D1ABA3E2887B6A73</td>\n",
       "      <td>A</td>\n",
       "      <td>recommender_system_test</td>\n",
       "    </tr>\n",
       "    <tr>\n",
       "      <th>1</th>\n",
       "      <td>A7A3664BD6242119</td>\n",
       "      <td>A</td>\n",
       "      <td>recommender_system_test</td>\n",
       "    </tr>\n",
       "    <tr>\n",
       "      <th>2</th>\n",
       "      <td>DABC14FDDFADD29E</td>\n",
       "      <td>A</td>\n",
       "      <td>recommender_system_test</td>\n",
       "    </tr>\n",
       "    <tr>\n",
       "      <th>3</th>\n",
       "      <td>04988C5DF189632E</td>\n",
       "      <td>A</td>\n",
       "      <td>recommender_system_test</td>\n",
       "    </tr>\n",
       "    <tr>\n",
       "      <th>4</th>\n",
       "      <td>482F14783456D21B</td>\n",
       "      <td>B</td>\n",
       "      <td>recommender_system_test</td>\n",
       "    </tr>\n",
       "  </tbody>\n",
       "</table>\n",
       "</div>"
      ],
      "text/plain": [
       "            user_id group                  ab_test\n",
       "0  D1ABA3E2887B6A73     A  recommender_system_test\n",
       "1  A7A3664BD6242119     A  recommender_system_test\n",
       "2  DABC14FDDFADD29E     A  recommender_system_test\n",
       "3  04988C5DF189632E     A  recommender_system_test\n",
       "4  482F14783456D21B     B  recommender_system_test"
      ]
     },
     "execution_count": 23,
     "metadata": {},
     "output_type": "execute_result"
    }
   ],
   "source": [
    "participants_rec_test = (\n",
    "    ab_participants\n",
    "    .query('ab_test ==\"recommender_system_test\" and (user_id not in @users_exclude_a and user_id not in @users_exclude_b)')\n",
    ")\n",
    "participants_rec_test.info()\n",
    "participants_rec_test.head()"
   ]
  },
  {
   "cell_type": "markdown",
   "id": "de7c026d",
   "metadata": {},
   "source": [
    "Добавим к получившейся таблице данные из таблицы с новыми пользователями `ab_new_users`."
   ]
  },
  {
   "cell_type": "code",
   "execution_count": 24,
   "id": "74198a53",
   "metadata": {},
   "outputs": [],
   "source": [
    "participants_rec_test = (\n",
    "    participants_rec_test\n",
    "    .merge(ab_new_users, on='user_id', how='inner')\n",
    ")"
   ]
  },
  {
   "cell_type": "code",
   "execution_count": 25,
   "id": "962a2aab",
   "metadata": {},
   "outputs": [
    {
     "name": "stdout",
     "output_type": "stream",
     "text": [
      "<class 'pandas.core.frame.DataFrame'>\n",
      "Int64Index: 5918 entries, 0 to 5917\n",
      "Data columns (total 6 columns):\n",
      " #   Column      Non-Null Count  Dtype         \n",
      "---  ------      --------------  -----         \n",
      " 0   user_id     5918 non-null   object        \n",
      " 1   group       5918 non-null   object        \n",
      " 2   ab_test     5918 non-null   object        \n",
      " 3   first_date  5918 non-null   datetime64[ns]\n",
      " 4   region      5918 non-null   object        \n",
      " 5   device      5918 non-null   object        \n",
      "dtypes: datetime64[ns](1), object(5)\n",
      "memory usage: 323.6+ KB\n"
     ]
    },
    {
     "name": "stderr",
     "output_type": "stream",
     "text": [
      "/tmp/ipykernel_225/2389841950.py:2: FutureWarning: Treating datetime data as categorical rather than numeric in `.describe` is deprecated and will be removed in a future version of pandas. Specify `datetime_is_numeric=True` to silence this warning and adopt the future behavior now.\n",
      "  participants_rec_test.describe().T\n"
     ]
    },
    {
     "data": {
      "text/html": [
       "<div>\n",
       "<style scoped>\n",
       "    .dataframe tbody tr th:only-of-type {\n",
       "        vertical-align: middle;\n",
       "    }\n",
       "\n",
       "    .dataframe tbody tr th {\n",
       "        vertical-align: top;\n",
       "    }\n",
       "\n",
       "    .dataframe thead th {\n",
       "        text-align: right;\n",
       "    }\n",
       "</style>\n",
       "<table border=\"1\" class=\"dataframe\">\n",
       "  <thead>\n",
       "    <tr style=\"text-align: right;\">\n",
       "      <th></th>\n",
       "      <th>count</th>\n",
       "      <th>unique</th>\n",
       "      <th>top</th>\n",
       "      <th>freq</th>\n",
       "      <th>first</th>\n",
       "      <th>last</th>\n",
       "    </tr>\n",
       "  </thead>\n",
       "  <tbody>\n",
       "    <tr>\n",
       "      <th>user_id</th>\n",
       "      <td>5918</td>\n",
       "      <td>5918</td>\n",
       "      <td>B8EF6F0325A9979F</td>\n",
       "      <td>1</td>\n",
       "      <td>NaT</td>\n",
       "      <td>NaT</td>\n",
       "    </tr>\n",
       "    <tr>\n",
       "      <th>group</th>\n",
       "      <td>5918</td>\n",
       "      <td>2</td>\n",
       "      <td>A</td>\n",
       "      <td>3385</td>\n",
       "      <td>NaT</td>\n",
       "      <td>NaT</td>\n",
       "    </tr>\n",
       "    <tr>\n",
       "      <th>ab_test</th>\n",
       "      <td>5918</td>\n",
       "      <td>1</td>\n",
       "      <td>recommender_system_test</td>\n",
       "      <td>5918</td>\n",
       "      <td>NaT</td>\n",
       "      <td>NaT</td>\n",
       "    </tr>\n",
       "    <tr>\n",
       "      <th>first_date</th>\n",
       "      <td>5918</td>\n",
       "      <td>15</td>\n",
       "      <td>2020-12-21 00:00:00</td>\n",
       "      <td>639</td>\n",
       "      <td>2020-12-07</td>\n",
       "      <td>2020-12-21</td>\n",
       "    </tr>\n",
       "    <tr>\n",
       "      <th>region</th>\n",
       "      <td>5918</td>\n",
       "      <td>4</td>\n",
       "      <td>EU</td>\n",
       "      <td>5568</td>\n",
       "      <td>NaT</td>\n",
       "      <td>NaT</td>\n",
       "    </tr>\n",
       "    <tr>\n",
       "      <th>device</th>\n",
       "      <td>5918</td>\n",
       "      <td>4</td>\n",
       "      <td>Android</td>\n",
       "      <td>2656</td>\n",
       "      <td>NaT</td>\n",
       "      <td>NaT</td>\n",
       "    </tr>\n",
       "  </tbody>\n",
       "</table>\n",
       "</div>"
      ],
      "text/plain": [
       "           count unique                      top  freq      first       last\n",
       "user_id     5918   5918         B8EF6F0325A9979F     1        NaT        NaT\n",
       "group       5918      2                        A  3385        NaT        NaT\n",
       "ab_test     5918      1  recommender_system_test  5918        NaT        NaT\n",
       "first_date  5918     15      2020-12-21 00:00:00   639 2020-12-07 2020-12-21\n",
       "region      5918      4                       EU  5568        NaT        NaT\n",
       "device      5918      4                  Android  2656        NaT        NaT"
      ]
     },
     "execution_count": 25,
     "metadata": {},
     "output_type": "execute_result"
    }
   ],
   "source": [
    "participants_rec_test.info()\n",
    "participants_rec_test.describe().T\n"
   ]
  },
  {
   "cell_type": "markdown",
   "id": "ec82de04",
   "metadata": {},
   "source": [
    "Получилось 5918 участников теста. Пользователей из Европы - 5568, их количество меньше ожидаемого (ожидаемое - 6000). Проверим соответствует ли это предполагаемой доли новых пользователей из Европы - 15%. Дата остановки набора пользователей соответстветствует ТЗ."
   ]
  },
  {
   "cell_type": "code",
   "execution_count": 26,
   "id": "e471b89b",
   "metadata": {},
   "outputs": [
    {
     "name": "stdout",
     "output_type": "stream",
     "text": [
      "Всего новых пользователей из Европы, зарегистрировавшихся в период с 07 по 21 декабря - 42340 \n",
      "Участники теста составляют - 13.15 %\n"
     ]
    }
   ],
   "source": [
    "print(\n",
    "    'Всего новых пользователей из Европы, зарегистрировавшихся в период с 07 по 21 декабря - {}'\n",
    "    .format(\n",
    "        len(ab_new_users\n",
    "            .loc[(ab_new_users['region'] =='EU') &  (ab_new_users['first_date'] <= '2020-12-21')])\n",
    "    ),\n",
    "    '\\nУчастники теста составляют - {} %'\n",
    "    .format(\n",
    "        round(\n",
    "            len(participants_rec_test.loc[(participants_rec_test['region'] =='EU')]) /\n",
    "            len(ab_new_users\n",
    "            .loc[(ab_new_users['region'] =='EU') &  (ab_new_users['first_date'] <= '2020-12-21')]) *100,\n",
    "            2\n",
    "        )\n",
    "    )\n",
    ")"
   ]
  },
  {
   "cell_type": "markdown",
   "id": "5267fe39",
   "metadata": {},
   "source": [
    "**Распределение пользователей по регионам**\n",
    "\n",
    "Сравним распределение тестовых групп новых пользователей и основной группы новых пользователей по регионам."
   ]
  },
  {
   "cell_type": "code",
   "execution_count": 27,
   "id": "5cfb371e",
   "metadata": {
    "scrolled": false
   },
   "outputs": [
    {
     "data": {
      "image/png": "[encoded data removed]",
      "text/plain": [
       "<Figure size 720x360 with 1 Axes>"
      ]
     },
     "metadata": {
      "needs_background": "light"
     },
     "output_type": "display_data"
    },
    {
     "data": {
      "text/html": [
       "<div>\n",
       "<style scoped>\n",
       "    .dataframe tbody tr th:only-of-type {\n",
       "        vertical-align: middle;\n",
       "    }\n",
       "\n",
       "    .dataframe tbody tr th {\n",
       "        vertical-align: top;\n",
       "    }\n",
       "\n",
       "    .dataframe thead th {\n",
       "        text-align: right;\n",
       "    }\n",
       "</style>\n",
       "<table border=\"1\" class=\"dataframe\">\n",
       "  <thead>\n",
       "    <tr style=\"text-align: right;\">\n",
       "      <th></th>\n",
       "      <th>number_of_users</th>\n",
       "      <th>%_users</th>\n",
       "      <th>number_of_a_users</th>\n",
       "      <th>%_a_users</th>\n",
       "      <th>number_of_b_users</th>\n",
       "      <th>%_b_users</th>\n",
       "    </tr>\n",
       "    <tr>\n",
       "      <th>region</th>\n",
       "      <th></th>\n",
       "      <th></th>\n",
       "      <th></th>\n",
       "      <th></th>\n",
       "      <th></th>\n",
       "      <th></th>\n",
       "    </tr>\n",
       "  </thead>\n",
       "  <tbody>\n",
       "    <tr>\n",
       "      <th>EU</th>\n",
       "      <td>42340</td>\n",
       "      <td>74.98</td>\n",
       "      <td>3195</td>\n",
       "      <td>94.39</td>\n",
       "      <td>2373</td>\n",
       "      <td>93.68</td>\n",
       "    </tr>\n",
       "    <tr>\n",
       "      <th>N.America</th>\n",
       "      <td>8347</td>\n",
       "      <td>14.78</td>\n",
       "      <td>128</td>\n",
       "      <td>3.78</td>\n",
       "      <td>95</td>\n",
       "      <td>3.75</td>\n",
       "    </tr>\n",
       "    <tr>\n",
       "      <th>CIS</th>\n",
       "      <td>2900</td>\n",
       "      <td>5.14</td>\n",
       "      <td>25</td>\n",
       "      <td>0.74</td>\n",
       "      <td>30</td>\n",
       "      <td>1.18</td>\n",
       "    </tr>\n",
       "    <tr>\n",
       "      <th>APAC</th>\n",
       "      <td>2883</td>\n",
       "      <td>5.11</td>\n",
       "      <td>37</td>\n",
       "      <td>1.09</td>\n",
       "      <td>35</td>\n",
       "      <td>1.38</td>\n",
       "    </tr>\n",
       "  </tbody>\n",
       "</table>\n",
       "</div>"
      ],
      "text/plain": [
       "           number_of_users  %_users  number_of_a_users  %_a_users  \\\n",
       "region                                                              \n",
       "EU                   42340    74.98               3195      94.39   \n",
       "N.America             8347    14.78                128       3.78   \n",
       "CIS                   2900     5.14                 25       0.74   \n",
       "APAC                  2883     5.11                 37       1.09   \n",
       "\n",
       "           number_of_b_users  %_b_users  \n",
       "region                                   \n",
       "EU                      2373      93.68  \n",
       "N.America                 95       3.75  \n",
       "CIS                       30       1.18  \n",
       "APAC                      35       1.38  "
      ]
     },
     "execution_count": 27,
     "metadata": {},
     "output_type": "execute_result"
    }
   ],
   "source": [
    "users_by_region = (\n",
    "    ab_new_users.query('first_date <= \"2020-12-21\"')\n",
    "    .groupby('region')\n",
    "    .agg({'user_id': 'count'})\n",
    "    .rename(columns={'user_id': 'number_of_users'})\n",
    "    .reset_index()\n",
    ")\n",
    "users_by_region['%_users'] = round(\n",
    "    users_by_region['number_of_users'] / users_by_region['number_of_users'].sum() *100, 2\n",
    ")\n",
    "\n",
    "a_users_by_region = (\n",
    "    participants_rec_test.query('group == \"A\"')\n",
    "    .groupby('region')\n",
    "    .agg({'user_id': 'count'})\n",
    "    .rename(columns={'user_id': 'number_of_a_users'})\n",
    "    .reset_index()\n",
    ")\n",
    "\n",
    "a_users_by_region['%_a_users'] = round(\n",
    "    a_users_by_region['number_of_a_users'] / a_users_by_region['number_of_a_users'].sum() *100, 2\n",
    ")\n",
    "\n",
    "b_users_by_region = (\n",
    "    participants_rec_test.query('group == \"B\"')\n",
    "    .groupby('region')\n",
    "    .agg({'user_id': 'count'})\n",
    "    .rename(columns={'user_id': 'number_of_b_users'})\n",
    "    .reset_index()\n",
    ")\n",
    "\n",
    "b_users_by_region['%_b_users'] = round(\n",
    "    b_users_by_region['number_of_b_users'] / b_users_by_region['number_of_b_users'].sum() *100, 2\n",
    ")\n",
    "\n",
    "users_by_region = (\n",
    "    users_by_region.merge(a_users_by_region, on='region')\n",
    "    .merge(b_users_by_region, on='region')\n",
    "    .set_index('region')\n",
    ")\n",
    "\n",
    "\n",
    "(\n",
    "    users_by_region[['%_users','%_a_users', '%_b_users']]\n",
    "    .sort_values(by='%_users')\n",
    "    .plot(kind='barh', figsize=(10, 5), grid=True)\n",
    ")\n",
    "plt.title('Распределение новых пользователей по регионам в тестовых группах\\nи в общей выборке')\n",
    "plt.legend(['Все новые пользователи', 'Пользователи из группы А-теста', 'Пользователи из группы В-теста'])\n",
    "#plt.legend(title='Регион')\n",
    "plt.ylabel('Регион')\n",
    "plt.xlabel('Доля в группе')\n",
    "#plt.tight_layout()\n",
    "plt.show()\n",
    "\n",
    "users_by_region.sort_values(by='%_users', ascending=False)"
   ]
  },
  {
   "cell_type": "markdown",
   "id": "5bb98104",
   "metadata": {},
   "source": [
    "Как видно распределение пользователей по регионам отличаются как в общей группе от тестовой, так и между тестовыми группами. Между тестовыми группами различия не такие значительные, как основной группы от тестовой. \n",
    "\n",
    "Тестовые группы отличаются между собой еще и по количеству пользователей. Посчитаем на сколько"
   ]
  },
  {
   "cell_type": "code",
   "execution_count": 28,
   "id": "7ab60469",
   "metadata": {
    "scrolled": true
   },
   "outputs": [
    {
     "name": "stdout",
     "output_type": "stream",
     "text": [
      "Всего пользователей в группе А - 3385 \n",
      "Всего пользователей в группе B - 2533 \n",
      "В группе В пользователей на 25.17% меньше \n",
      "\n",
      "Пользователей из Европы в группе А - 3195 \n",
      "Пользователей из Европы в группе B - 2373 \n",
      "В группе В пользователей из Европы на 25.73% меньше\n"
     ]
    }
   ],
   "source": [
    "print(\n",
    "    'Всего пользователей в группе А - {}'.\n",
    "    format(users_by_region['number_of_a_users'].sum()),\n",
    "    '\\nВсего пользователей в группе B - {}'.\n",
    "    format(users_by_region['number_of_b_users'].sum()),\n",
    "    '\\nВ группе В пользователей на {:.2%} меньше'\n",
    "    .format(\n",
    "        1 - (users_by_region['number_of_b_users'].sum() / users_by_region['number_of_a_users'].sum())        \n",
    "    ),\n",
    "    '\\n\\nПользователей из Европы в группе А - {}'.\n",
    "    format(users_by_region['number_of_a_users'].loc['EU']),\n",
    "    '\\nПользователей из Европы в группе B - {}'.\n",
    "    format(users_by_region['number_of_b_users'].loc['EU']),\n",
    "    '\\nВ группе В пользователей из Европы на {:.2%} меньше'\n",
    "    .format(\n",
    "        1 - (users_by_region['number_of_b_users'].loc['EU'] / users_by_region['number_of_a_users'].loc['EU'])\n",
    "    )\n",
    "    \n",
    ")"
   ]
  },
  {
   "cell_type": "markdown",
   "id": "d9b1156f",
   "metadata": {},
   "source": [
    "**Распределение пользователей по датам**\n",
    "\n",
    "добавим к таблице с пользователями признак участия/неучастия в тесте"
   ]
  },
  {
   "cell_type": "code",
   "execution_count": 29,
   "id": "32f6e776",
   "metadata": {},
   "outputs": [
    {
     "data": {
      "text/html": [
       "<div>\n",
       "<style scoped>\n",
       "    .dataframe tbody tr th:only-of-type {\n",
       "        vertical-align: middle;\n",
       "    }\n",
       "\n",
       "    .dataframe tbody tr th {\n",
       "        vertical-align: top;\n",
       "    }\n",
       "\n",
       "    .dataframe thead th {\n",
       "        text-align: right;\n",
       "    }\n",
       "</style>\n",
       "<table border=\"1\" class=\"dataframe\">\n",
       "  <thead>\n",
       "    <tr style=\"text-align: right;\">\n",
       "      <th></th>\n",
       "      <th>user_id</th>\n",
       "      <th>first_date</th>\n",
       "      <th>region</th>\n",
       "      <th>device</th>\n",
       "      <th>test_group</th>\n",
       "    </tr>\n",
       "  </thead>\n",
       "  <tbody>\n",
       "    <tr>\n",
       "      <th>0</th>\n",
       "      <td>D72A72121175D8BE</td>\n",
       "      <td>2020-12-07</td>\n",
       "      <td>EU</td>\n",
       "      <td>PC</td>\n",
       "      <td>A</td>\n",
       "    </tr>\n",
       "    <tr>\n",
       "      <th>1</th>\n",
       "      <td>F1C668619DFE6E65</td>\n",
       "      <td>2020-12-07</td>\n",
       "      <td>N.America</td>\n",
       "      <td>Android</td>\n",
       "      <td>not_in_test</td>\n",
       "    </tr>\n",
       "    <tr>\n",
       "      <th>2</th>\n",
       "      <td>2E1BF1D4C37EA01F</td>\n",
       "      <td>2020-12-07</td>\n",
       "      <td>EU</td>\n",
       "      <td>PC</td>\n",
       "      <td>not_in_test</td>\n",
       "    </tr>\n",
       "    <tr>\n",
       "      <th>3</th>\n",
       "      <td>50734A22C0C63768</td>\n",
       "      <td>2020-12-07</td>\n",
       "      <td>EU</td>\n",
       "      <td>iPhone</td>\n",
       "      <td>not_in_test</td>\n",
       "    </tr>\n",
       "    <tr>\n",
       "      <th>4</th>\n",
       "      <td>E1BDDCE0DAFA2679</td>\n",
       "      <td>2020-12-07</td>\n",
       "      <td>N.America</td>\n",
       "      <td>iPhone</td>\n",
       "      <td>not_in_test</td>\n",
       "    </tr>\n",
       "  </tbody>\n",
       "</table>\n",
       "</div>"
      ],
      "text/plain": [
       "            user_id first_date     region   device   test_group\n",
       "0  D72A72121175D8BE 2020-12-07         EU       PC            A\n",
       "1  F1C668619DFE6E65 2020-12-07  N.America  Android  not_in_test\n",
       "2  2E1BF1D4C37EA01F 2020-12-07         EU       PC  not_in_test\n",
       "3  50734A22C0C63768 2020-12-07         EU   iPhone  not_in_test\n",
       "4  E1BDDCE0DAFA2679 2020-12-07  N.America   iPhone  not_in_test"
      ]
     },
     "execution_count": 29,
     "metadata": {},
     "output_type": "execute_result"
    }
   ],
   "source": [
    "ab_new_users['test_group'] = 'not_in_test'\n",
    "ab_new_users.loc[ab_new_users['user_id'].isin(participants_rec_test.query('group == \"B\"')['user_id']), 'test_group'] = 'B'\n",
    "\n",
    "ab_new_users.loc[ab_new_users['user_id'].isin(participants_rec_test.query('group == \"A\"')['user_id']), 'test_group'] = 'A'\n",
    "\n",
    "ab_new_users.head()"
   ]
  },
  {
   "cell_type": "markdown",
   "id": "fdeaba9d",
   "metadata": {},
   "source": [
    "Посмотрим на распределение новых пользователей по датам"
   ]
  },
  {
   "cell_type": "code",
   "execution_count": 30,
   "id": "90fbb34f",
   "metadata": {},
   "outputs": [
    {
     "data": {
      "image/png": "[encoded data removed]",
      "text/plain": [
       "<Figure size 720x360 with 1 Axes>"
      ]
     },
     "metadata": {
      "needs_background": "light"
     },
     "output_type": "display_data"
    }
   ],
   "source": [
    "users_by_day = (\n",
    "    ab_new_users.query('first_date <= \"2020-12-21\"')\n",
    "    .pivot_table(index='first_date', columns='test_group', values='user_id', aggfunc='count')\n",
    ")\n",
    "users_by_day['%_A'] = (\n",
    "    round(users_by_day['A'] / users_by_day['A'].sum() * 100, 2)\n",
    ")\n",
    "\n",
    "users_by_day['%_B'] = (\n",
    "    round(users_by_day['B'] / users_by_day['B'].sum() * 100, 2)\n",
    ")\n",
    "\n",
    "users_by_day['%_not_in_test'] = (\n",
    "    round(users_by_day['not_in_test'] / users_by_day['not_in_test'].sum() * 100, 2)\n",
    ")\n",
    "(\n",
    "    users_by_day[['%_not_in_test', '%_A', '%_B']]\n",
    "    .plot(kind='bar',  figsize=(10, 5), grid=True)\n",
    ")\n",
    "plt.title('Распределение новых пользователей по дням регистрации')\n",
    "plt.legend(['Все новые пользователи', 'Пользователи из группы А-теста', 'Пользователи из группы В-теста'])\n",
    "#plt.legend(title='Регион')\n",
    "plt.ylabel('Доля от числа за период')\n",
    "plt.xlabel('Дата регистрации')\n",
    "plt.tight_layout()\n",
    "plt.show()"
   ]
  },
  {
   "cell_type": "markdown",
   "id": "68cffc42",
   "metadata": {},
   "source": [
    "В целом пользователеи участники теста и все пользователи распределены по датам привлечения соразмерно, за исключением 10 декабря, где привлечено немного больше пользователей группы В."
   ]
  },
  {
   "cell_type": "markdown",
   "id": "5a78cfde",
   "metadata": {},
   "source": [
    "Согласно ТЗ мы оцениваем метрики пользователей из Европы на 14 день после регистрации, поэтому оставим в таблице для исследования только действия пользователей из Европы пределах 14 дней после регистрации."
   ]
  },
  {
   "cell_type": "code",
   "execution_count": 31,
   "id": "f376b557",
   "metadata": {},
   "outputs": [],
   "source": [
    "ab_events_test = (\n",
    "    participants_rec_test.query('region == \"EU\"')\n",
    "    .merge(ab_events, on='user_id', how='left')\n",
    ")"
   ]
  },
  {
   "cell_type": "code",
   "execution_count": 32,
   "id": "67081694",
   "metadata": {},
   "outputs": [
    {
     "data": {
      "text/html": [
       "<div>\n",
       "<style scoped>\n",
       "    .dataframe tbody tr th:only-of-type {\n",
       "        vertical-align: middle;\n",
       "    }\n",
       "\n",
       "    .dataframe tbody tr th {\n",
       "        vertical-align: top;\n",
       "    }\n",
       "\n",
       "    .dataframe thead th {\n",
       "        text-align: right;\n",
       "    }\n",
       "</style>\n",
       "<table border=\"1\" class=\"dataframe\">\n",
       "  <thead>\n",
       "    <tr style=\"text-align: right;\">\n",
       "      <th></th>\n",
       "      <th>user_id</th>\n",
       "      <th>group</th>\n",
       "      <th>ab_test</th>\n",
       "      <th>first_date</th>\n",
       "      <th>region</th>\n",
       "      <th>device</th>\n",
       "      <th>event_dt</th>\n",
       "      <th>event_name</th>\n",
       "      <th>details</th>\n",
       "      <th>lifetime</th>\n",
       "    </tr>\n",
       "  </thead>\n",
       "  <tbody>\n",
       "    <tr>\n",
       "      <th>0</th>\n",
       "      <td>D1ABA3E2887B6A73</td>\n",
       "      <td>A</td>\n",
       "      <td>recommender_system_test</td>\n",
       "      <td>2020-12-07</td>\n",
       "      <td>EU</td>\n",
       "      <td>PC</td>\n",
       "      <td>2020-12-07 14:43:27</td>\n",
       "      <td>purchase</td>\n",
       "      <td>99.99</td>\n",
       "      <td>0.0</td>\n",
       "    </tr>\n",
       "    <tr>\n",
       "      <th>2</th>\n",
       "      <td>D1ABA3E2887B6A73</td>\n",
       "      <td>A</td>\n",
       "      <td>recommender_system_test</td>\n",
       "      <td>2020-12-07</td>\n",
       "      <td>EU</td>\n",
       "      <td>PC</td>\n",
       "      <td>2020-12-07 14:43:29</td>\n",
       "      <td>product_cart</td>\n",
       "      <td>NaN</td>\n",
       "      <td>0.0</td>\n",
       "    </tr>\n",
       "    <tr>\n",
       "      <th>4</th>\n",
       "      <td>D1ABA3E2887B6A73</td>\n",
       "      <td>A</td>\n",
       "      <td>recommender_system_test</td>\n",
       "      <td>2020-12-07</td>\n",
       "      <td>EU</td>\n",
       "      <td>PC</td>\n",
       "      <td>2020-12-07 14:43:27</td>\n",
       "      <td>product_page</td>\n",
       "      <td>NaN</td>\n",
       "      <td>0.0</td>\n",
       "    </tr>\n",
       "    <tr>\n",
       "      <th>6</th>\n",
       "      <td>D1ABA3E2887B6A73</td>\n",
       "      <td>A</td>\n",
       "      <td>recommender_system_test</td>\n",
       "      <td>2020-12-07</td>\n",
       "      <td>EU</td>\n",
       "      <td>PC</td>\n",
       "      <td>2020-12-07 14:43:27</td>\n",
       "      <td>login</td>\n",
       "      <td>NaN</td>\n",
       "      <td>0.0</td>\n",
       "    </tr>\n",
       "    <tr>\n",
       "      <th>8</th>\n",
       "      <td>A7A3664BD6242119</td>\n",
       "      <td>A</td>\n",
       "      <td>recommender_system_test</td>\n",
       "      <td>2020-12-20</td>\n",
       "      <td>EU</td>\n",
       "      <td>iPhone</td>\n",
       "      <td>2020-12-20 15:46:06</td>\n",
       "      <td>product_page</td>\n",
       "      <td>NaN</td>\n",
       "      <td>0.0</td>\n",
       "    </tr>\n",
       "  </tbody>\n",
       "</table>\n",
       "</div>"
      ],
      "text/plain": [
       "            user_id group                  ab_test first_date region  device  \\\n",
       "0  D1ABA3E2887B6A73     A  recommender_system_test 2020-12-07     EU      PC   \n",
       "2  D1ABA3E2887B6A73     A  recommender_system_test 2020-12-07     EU      PC   \n",
       "4  D1ABA3E2887B6A73     A  recommender_system_test 2020-12-07     EU      PC   \n",
       "6  D1ABA3E2887B6A73     A  recommender_system_test 2020-12-07     EU      PC   \n",
       "8  A7A3664BD6242119     A  recommender_system_test 2020-12-20     EU  iPhone   \n",
       "\n",
       "             event_dt    event_name  details  lifetime  \n",
       "0 2020-12-07 14:43:27      purchase    99.99       0.0  \n",
       "2 2020-12-07 14:43:29  product_cart      NaN       0.0  \n",
       "4 2020-12-07 14:43:27  product_page      NaN       0.0  \n",
       "6 2020-12-07 14:43:27         login      NaN       0.0  \n",
       "8 2020-12-20 15:46:06  product_page      NaN       0.0  "
      ]
     },
     "execution_count": 32,
     "metadata": {},
     "output_type": "execute_result"
    }
   ],
   "source": [
    "ab_events_test['lifetime'] = (ab_events_test['event_dt'] - ab_events_test['first_date']).dt.days\n",
    "\n",
    "ab_events_eu = ab_events_test.loc[ab_events_test['lifetime'] <= 14]\n",
    "ab_events_eu.head()"
   ]
  },
  {
   "cell_type": "code",
   "execution_count": 33,
   "id": "10695d78",
   "metadata": {},
   "outputs": [
    {
     "name": "stdout",
     "output_type": "stream",
     "text": [
      "<class 'pandas.core.frame.DataFrame'>\n",
      "Int64Index: 20034 entries, 0 to 23081\n",
      "Data columns (total 10 columns):\n",
      " #   Column      Non-Null Count  Dtype         \n",
      "---  ------      --------------  -----         \n",
      " 0   user_id     20034 non-null  object        \n",
      " 1   group       20034 non-null  object        \n",
      " 2   ab_test     20034 non-null  object        \n",
      " 3   first_date  20034 non-null  datetime64[ns]\n",
      " 4   region      20034 non-null  object        \n",
      " 5   device      20034 non-null  object        \n",
      " 6   event_dt    20034 non-null  datetime64[ns]\n",
      " 7   event_name  20034 non-null  object        \n",
      " 8   details     2736 non-null   float64       \n",
      " 9   lifetime    20034 non-null  float64       \n",
      "dtypes: datetime64[ns](2), float64(2), object(6)\n",
      "memory usage: 1.7+ MB\n"
     ]
    },
    {
     "data": {
      "text/html": [
       "<div>\n",
       "<style scoped>\n",
       "    .dataframe tbody tr th:only-of-type {\n",
       "        vertical-align: middle;\n",
       "    }\n",
       "\n",
       "    .dataframe tbody tr th {\n",
       "        vertical-align: top;\n",
       "    }\n",
       "\n",
       "    .dataframe thead th {\n",
       "        text-align: right;\n",
       "    }\n",
       "</style>\n",
       "<table border=\"1\" class=\"dataframe\">\n",
       "  <thead>\n",
       "    <tr style=\"text-align: right;\">\n",
       "      <th></th>\n",
       "      <th>count</th>\n",
       "      <th>mean</th>\n",
       "      <th>std</th>\n",
       "      <th>min</th>\n",
       "      <th>25%</th>\n",
       "      <th>50%</th>\n",
       "      <th>75%</th>\n",
       "      <th>max</th>\n",
       "    </tr>\n",
       "  </thead>\n",
       "  <tbody>\n",
       "    <tr>\n",
       "      <th>details</th>\n",
       "      <td>2736.0</td>\n",
       "      <td>22.877427</td>\n",
       "      <td>69.705936</td>\n",
       "      <td>4.99</td>\n",
       "      <td>4.99</td>\n",
       "      <td>4.99</td>\n",
       "      <td>9.99</td>\n",
       "      <td>499.99</td>\n",
       "    </tr>\n",
       "    <tr>\n",
       "      <th>lifetime</th>\n",
       "      <td>20034.0</td>\n",
       "      <td>2.924428</td>\n",
       "      <td>3.470217</td>\n",
       "      <td>0.00</td>\n",
       "      <td>0.00</td>\n",
       "      <td>2.00</td>\n",
       "      <td>5.00</td>\n",
       "      <td>14.00</td>\n",
       "    </tr>\n",
       "  </tbody>\n",
       "</table>\n",
       "</div>"
      ],
      "text/plain": [
       "            count       mean        std   min   25%   50%   75%     max\n",
       "details    2736.0  22.877427  69.705936  4.99  4.99  4.99  9.99  499.99\n",
       "lifetime  20034.0   2.924428   3.470217  0.00  0.00  2.00  5.00   14.00"
      ]
     },
     "execution_count": 33,
     "metadata": {},
     "output_type": "execute_result"
    }
   ],
   "source": [
    "ab_events_eu.info()\n",
    "ab_events_eu.describe().T\n"
   ]
  },
  {
   "cell_type": "markdown",
   "id": "3c0e75e8",
   "metadata": {},
   "source": [
    "В таблице осталось 20034 события пользователей, из них 2736 покупок."
   ]
  },
  {
   "cell_type": "markdown",
   "id": "fdf62194",
   "metadata": {},
   "source": [
    "**Вывод**\n",
    "\n",
    "На этапе предобработки возникли следующие проблемы с данными:\n",
    "- несоответствие типов данных - столбцы содержащие дату были в формате `object`;\n",
    "- пропуски в таблице `ab_events` в столбце `details`, которые обусловлены отстутстсвием числовых характеристик у действий входа в приложение, просмотра карточки товара и просмотра карзины - мы оставили эти данные незаполненными; \n",
    "    \n",
    "Обнаружены несоответствия данных техинческому заданию:\n",
    " \n",
    " - несоответствие периодов данных событий дате остановке А/В теста - события в датасете с 07 по 30 декабря 2020, дата остановки теста по ТЗ 04 января 2021 г.;\n",
    " - аудитория теста меньше заявленной в ТЗ (15% новых пользователей из Европы), фактически 13.2%.\n",
    "\n",
    "Период проведения теста совпал с маркетинговым событием для регион Европа - `Christmas&New Year Promo`. \n",
    "\n",
    "Также выявлено пересечение аудиторий двух конкурирующих тестов.\n",
    "\n",
    "Различаются распределения пользователей по регионам в тестовой группе и в общей выборке. Доля пользователй из Европы в общей выборке меньше на 20%, чем в тестовой группе. Разница в распределении пользователй по регионам между тестовыми группами А и В для пользователей Европы 0.71%, для остальных регионов 0.03-0.44% . Т.е. относительно групп А и В пользователи распределены по регионам более-менее равномерно, но это распределение не соответствует распределению в основной выборке.\n",
    "\n",
    "Количество пользователей в тестовой группе B меньше на 26% чем в тестовой группе А, что также может исказить результаты теста.\n",
    "\n",
    "Распределение пользователей в тестовых группах по дням соответствует распределению по дням в основной выборке.\n",
    "\n",
    "Из-за существующих несоответствий техническому заданию, возможного влияния на результаты маркетенгого события, проходящего одновременно с тестом, а также несоответствия распределения по регионам тестовой и основной группы, к итогам данного A/B тестирования следует относится осторожно. В целом, в этом случае следует провести А/В тест повторно, исправив технические ошибки, которые привели к появлению пересекающихся пользователей и отличиям распределений по регионам, выбрав период без маркетинговых мероприятий.Но так как у нас нет такой возможности, проведем анализ A/B теста на основе имеющихся данных."
   ]
  },
  {
   "cell_type": "markdown",
   "id": "5a3cf477",
   "metadata": {},
   "source": [
    "## Исследовательский анализ."
   ]
  },
  {
   "cell_type": "markdown",
   "id": "1b9cdb95",
   "metadata": {},
   "source": [
    "**Распределение событий в тестовых группах**\n",
    "\n",
    "**1 По пользователям**\n",
    "\n",
    "Посмотрим на распределение событий по пользователям в группах."
   ]
  },
  {
   "cell_type": "code",
   "execution_count": 34,
   "id": "dd22906a",
   "metadata": {
    "scrolled": false
   },
   "outputs": [
    {
     "data": {
      "image/png": "[encoded data removed]",
      "text/plain": [
       "<Figure size 432x288 with 1 Axes>"
      ]
     },
     "metadata": {
      "needs_background": "light"
     },
     "output_type": "display_data"
    },
    {
     "name": "stdout",
     "output_type": "stream",
     "text": [
      "Из тестовой группы А в приложении совершили события 2279 пользователей\n",
      "Это 71.33% пользователей из группы \n",
      "\n",
      "Из тестовой группы B в приложении совершили события 771 пользователей\n",
      "Это 32.49% пользователей из группы\n"
     ]
    }
   ],
   "source": [
    "events_by_users_a = (\n",
    "    ab_events_eu.query('group ==\"A\"')\n",
    "    .groupby('user_id')\n",
    "    .agg({'event_name' : 'count'})    \n",
    ")\n",
    "\n",
    "events_by_users_b = (\n",
    "    ab_events_eu.query('group ==\"B\"')\n",
    "    .groupby('user_id')\n",
    "    .agg({'event_name' : 'count'})    \n",
    ")\n",
    "\n",
    "x_values_a = pd.Series(range(0,len(events_by_users_a)))\n",
    "x_values_b = pd.Series(range(0,len(events_by_users_b)))\n",
    "\n",
    "plt.scatter(x_values_a, events_by_users_a['event_name'], alpha=0.4)\n",
    "plt.scatter(x_values_b, events_by_users_b['event_name'], color='orange', alpha=0.4)\n",
    "plt.title('Точечная диаграмма распределения событий по пользователям')\n",
    "plt.ylabel('Количество событий')\n",
    "plt.xlabel('Количество пользователй')\n",
    "plt.show()\n",
    "\n",
    "print(\n",
    "    'Из тестовой группы А в приложении совершили события {} пользователей\\nЭто {:.2%} пользователей из группы'\n",
    "    .format(\n",
    "        len(events_by_users_a),\n",
    "        len(events_by_users_a) / len(participants_rec_test.query('region == \"EU\" and group == \"A\"'))\n",
    "    ),\n",
    "    '\\n\\nИз тестовой группы B в приложении совершили события {} пользователей\\nЭто {:.2%} пользователей из группы'\n",
    "    .format(\n",
    "        len(events_by_users_b),\n",
    "        len(events_by_users_b) / len(participants_rec_test.query('region == \"EU\" and group == \"B\"'))\n",
    "    )\n",
    ")"
   ]
  },
  {
   "cell_type": "markdown",
   "id": "508c28be",
   "metadata": {},
   "source": [
    "В обоеих группах основная часть пользователей совершает до 10 событий приложении. Также в группах есть пользователи, совершившие аномально большое количество событий.\n",
    "\n",
    "Однако в группе А в целом выше доля пользователей, совершивших событие (их 71%), а в группе B событие совершили всего 32% пользователей.\n",
    "\n",
    "Посмотрим на гистограмму распределения событий."
   ]
  },
  {
   "cell_type": "code",
   "execution_count": 35,
   "id": "9a4038f4",
   "metadata": {
    "scrolled": true
   },
   "outputs": [
    {
     "data": {
      "image/png": "[encoded data removed]",
      "text/plain": [
       "<Figure size 432x288 with 1 Axes>"
      ]
     },
     "metadata": {
      "needs_background": "light"
     },
     "output_type": "display_data"
    }
   ],
   "source": [
    "plt.hist(events_by_users_a['event_name'], bins=25, alpha=0.5, label='A')\n",
    "plt.hist(events_by_users_b['event_name'], bins=25, color='orange', alpha=0.5, label='B')\n",
    "plt.title('График распределения событий по пользователям')\n",
    "#plt.xticks(rotation=45)\n",
    "plt.legend()\n",
    "plt.xlabel('Количество событий')\n",
    "plt.ylabel('Количество пользователей')\n",
    "#plt.axis([0, 25, 0, 700])\n",
    "plt.show()"
   ]
  },
  {
   "cell_type": "markdown",
   "id": "b26c7d06",
   "metadata": {},
   "source": [
    "В целом оба распределения мпохожи на нормальные со смещением в правую сторону (из-зи наличия неюольшого количества пользователей с аномально большим числом событий)."
   ]
  },
  {
   "cell_type": "markdown",
   "id": "88cf81f9",
   "metadata": {},
   "source": [
    "**2 Распределение событий в группах по дням**"
   ]
  },
  {
   "cell_type": "code",
   "execution_count": 36,
   "id": "e57513a0",
   "metadata": {},
   "outputs": [
    {
     "name": "stderr",
     "output_type": "stream",
     "text": [
      "/tmp/ipykernel_225/429463434.py:1: SettingWithCopyWarning: \n",
      "A value is trying to be set on a copy of a slice from a DataFrame.\n",
      "Try using .loc[row_indexer,col_indexer] = value instead\n",
      "\n",
      "See the caveats in the documentation: https://pandas.pydata.org/pandas-docs/stable/user_guide/indexing.html#returning-a-view-versus-a-copy\n",
      "  ab_events_eu['date'] = ab_events_eu['event_dt'].dt.date\n"
     ]
    }
   ],
   "source": [
    "ab_events_eu['date'] = ab_events_eu['event_dt'].dt.date"
   ]
  },
  {
   "cell_type": "code",
   "execution_count": 37,
   "id": "64fd4d10",
   "metadata": {
    "scrolled": false
   },
   "outputs": [
    {
     "data": {
      "image/png": "[encoded data removed]",
      "text/plain": [
       "<Figure size 720x360 with 1 Axes>"
      ]
     },
     "metadata": {
      "needs_background": "light"
     },
     "output_type": "display_data"
    }
   ],
   "source": [
    "(\n",
    "    ab_events_eu\n",
    "    .pivot_table(index='date', columns='group', values='event_name', aggfunc='count')\n",
    "    .reset_index()\n",
    "    .boxplot(column=['A', 'B'], figsize=(10, 5))    \n",
    ")\n",
    "\n",
    "plt.title('Диаграмма размаха событий количества событий по дням')\n",
    "plt.ylabel('количество событий')\n",
    "plt.xlabel('Группа')\n",
    "plt.show() \n",
    "\n"
   ]
  },
  {
   "cell_type": "markdown",
   "id": "b6afcadb",
   "metadata": {},
   "source": [
    "Как видно количество событий по дням сильно отличаются между группами. Медианное количество событий в день для группы А около 600, для группы В - около 200. Также для группы А характерен больший разброс значений. Количество событий в день в группе В распределены более равномерно."
   ]
  },
  {
   "cell_type": "code",
   "execution_count": 38,
   "id": "99c5da6f",
   "metadata": {},
   "outputs": [
    {
     "data": {
      "image/png": "[encoded data removed]",
      "text/plain": [
       "<Figure size 864x360 with 1 Axes>"
      ]
     },
     "metadata": {
      "needs_background": "light"
     },
     "output_type": "display_data"
    }
   ],
   "source": [
    "(\n",
    "    ab_events_eu\n",
    "    .pivot_table(index='date', columns='group', values='event_name', aggfunc='count')\n",
    "    .plot(kind='bar', grid=True, figsize=(12, 5))    \n",
    ")\n",
    "\n",
    "plt.title('Распределение количества событий по дням')\n",
    "plt.ylabel('количество событий')\n",
    "plt.xlabel('Дата')\n",
    "plt.legend(title='Группа')\n",
    "plt.show() \n"
   ]
  },
  {
   "cell_type": "markdown",
   "id": "ccaa3a0e",
   "metadata": {},
   "source": [
    "График распределения по дням подтверждает выоды диаграммы размаха. У группы А наблюдается резкое увеличения числа событий с 14 по 22 декабря. Затем число событий постепенно уменьшается, но тем не менее остается значительно выше, чем в первую неделю эксперимента. У группы В такого скачка не наблюдается, но также есть спад количества событий в последнюю неделю эксперимента.\n",
    "Возможно такой всплеск активности связан с предпразничной неделей, в этом случае не понятно, почему активность пользователей из группы В не изменилась."
   ]
  },
  {
   "cell_type": "markdown",
   "id": "70b0454c",
   "metadata": {},
   "source": [
    "**Конверсия в события**"
   ]
  },
  {
   "cell_type": "markdown",
   "id": "ce048988",
   "metadata": {},
   "source": [
    "**Таблица с куммулятивными данными**\n",
    "\n",
    "Для анализа куммулятивных данных по группам создадим таблицу с ними."
   ]
  },
  {
   "cell_type": "code",
   "execution_count": 39,
   "id": "acf04f44",
   "metadata": {},
   "outputs": [],
   "source": [
    "dates_groups = ab_events_eu[['date','group']].drop_duplicates()\n",
    "\n",
    "orders = ab_events_eu.query('event_name ==\"purchase\"')\n",
    "\n",
    "orders_aggregated = (\n",
    "    dates_groups\n",
    "    .apply(\n",
    "        lambda x: orders[\n",
    "            np.logical_and(orders['date'] <= x['date'], orders['group'] == x['group'])\n",
    "        ]\n",
    "        .agg(\n",
    "            {'date' : 'max', 'group' : 'max', 'event_dt' : 'count', 'user_id' : 'nunique', 'details' : 'sum'}\n",
    "        ), axis=1\n",
    "    ).sort_values(by=['date','group'])\n",
    "    .rename(columns={'event_dt': 'orders', 'user_id' : 'buyers', 'details' : 'revenue'})\n",
    ")\n",
    "\n",
    "product_page_dt = ab_events_eu.query('event_name ==\"product_page\"')\n",
    "\n",
    "product_page_aggregated = (\n",
    "    dates_groups\n",
    "    .apply(\n",
    "        lambda x: product_page_dt[\n",
    "            np.logical_and(product_page_dt['date'] <= x['date'], product_page_dt['group'] == x['group'])\n",
    "        ]\n",
    "        .agg(\n",
    "            {'date' : 'max', 'group' : 'max', 'event_dt' : 'count', 'user_id' : 'nunique'}\n",
    "        ), axis=1\n",
    "    ).sort_values(by=['date','group'])\n",
    "    .rename(columns={'event_dt': 'page_number', 'user_id' :'page_users'})\n",
    ")\n",
    "\n",
    "product_cart_dt = ab_events_eu.query('event_name ==\"product_cart\"')\n",
    "\n",
    "product_cart_aggregated = (\n",
    "    dates_groups\n",
    "    .apply(\n",
    "        lambda x: product_cart_dt[\n",
    "            np.logical_and(product_cart_dt['date'] <= x['date'], product_cart_dt['group'] == x['group'])\n",
    "        ]\n",
    "        .agg(\n",
    "            {'date' : 'max', 'group' : 'max', 'event_dt' : 'count', 'user_id' : 'nunique'}\n",
    "        ), axis=1\n",
    "    ).sort_values(by=['date','group'])\n",
    "    .rename(columns={'event_dt': 'cart_number', 'user_id' :'cart_users'})\n",
    ")\n",
    "\n",
    "visitors = ab_events_eu.query('event_name ==\"login\"')\n",
    "\n",
    "visitors_aggregated = (\n",
    "    dates_groups\n",
    "    .apply(\n",
    "        lambda x: visitors[\n",
    "            np.logical_and(visitors['date'] <= x['date'], visitors['group'] == x['group'])\n",
    "        ].agg(\n",
    "            {'date' : 'max', 'group' : 'max', 'event_dt' : 'count', 'user_id' : 'nunique'}\n",
    "        ), axis=1\n",
    "    ).sort_values(by=['date','group'])\n",
    "    .rename(columns={'event_dt': 'login_number', 'user_id' :'login_users'})\n",
    ")\n",
    "\n",
    "cumulative_data = (\n",
    "    orders_aggregated\n",
    "    .merge(product_page_aggregated, on=['date', 'group'])\n",
    "    .merge(product_cart_aggregated, on=['date', 'group'])\n",
    "    .merge(visitors_aggregated, on=['date', 'group'])\n",
    ")\n",
    "#cumulative_data.columns = ['date', 'group', 'orders', 'buyers', 'revenue', 'visitors']"
   ]
  },
  {
   "cell_type": "markdown",
   "id": "0e7f0426",
   "metadata": {},
   "source": [
    "**График куммулятивной конверсии по группам**\n",
    "\n",
    "для построения графика посчитаем конверсии групп в целлевые события теста"
   ]
  },
  {
   "cell_type": "code",
   "execution_count": 40,
   "id": "25f518bb",
   "metadata": {},
   "outputs": [],
   "source": [
    "cumulative_data['conversion'] = cumulative_data['buyers'] / cumulative_data['login_users']\n",
    "cumulative_data['conv_page'] = cumulative_data['page_users'] / cumulative_data['login_users']\n",
    "cumulative_data['conv_cart'] = cumulative_data['cart_users'] / cumulative_data['login_users']\n",
    "cumulative_data_а = cumulative_data[cumulative_data['group'] == 'A']\n",
    "cumulative_data_b = cumulative_data[cumulative_data['group'] == 'B']"
   ]
  },
  {
   "cell_type": "markdown",
   "id": "0db18b8a",
   "metadata": {},
   "source": [
    "Построим график конверсий по целевым действиям."
   ]
  },
  {
   "cell_type": "code",
   "execution_count": 41,
   "id": "38f88af1",
   "metadata": {
    "scrolled": false
   },
   "outputs": [
    {
     "name": "stdout",
     "output_type": "stream",
     "text": [
      "Графики конверсии по целевым метрикам теста\n"
     ]
    },
    {
     "data": {
      "image/png": "[encoded data removed]",
      "text/plain": [
       "<Figure size 1008x576 with 3 Axes>"
      ]
     },
     "metadata": {
      "needs_background": "light"
     },
     "output_type": "display_data"
    }
   ],
   "source": [
    "plt.subplots(figsize=(14,8))\n",
    "selected_columns = [\n",
    "    'conversion',\n",
    "    'conv_page',\n",
    "    'conv_cart'\n",
    "]\n",
    "plot_names = [\n",
    "    'покупку',\n",
    "    'просмотр карточек товаров',\n",
    "    'просмотр корзины'\n",
    "]\n",
    "\n",
    "print('Графики конверсии по целевым метрикам теста')\n",
    "for plot_num, column in enumerate(selected_columns):\n",
    "    ax=plt.subplot(2, len(selected_columns),plot_num+1)\n",
    "    plt.plot(\n",
    "        cumulative_data_а['date'],\n",
    "        cumulative_data_а[column],\n",
    "        label='A'\n",
    "        #ax=plt.subplot(1, len(selected_columns),plot_num+1),\n",
    "        #grid=True        \n",
    "    )\n",
    "    plt.plot(\n",
    "        cumulative_data_b['date'],\n",
    "        cumulative_data_b[column],\n",
    "        label='B'\n",
    "        #ax=plt.subplot(1, len(selected_columns),plot_num+1),\n",
    "        #grid=True\n",
    "    )\n",
    "    \n",
    "    plt.title(f'График куммулятивной конверсии\\nв {plot_names[plot_num]}')\n",
    "    plt.ylabel('Конверсия')\n",
    "    plt.xlabel('Дата')\n",
    "    plt.legend(title='Группа')\n",
    "    plt.xticks(rotation=45)\n",
    "    #plt.xticks([0, 1])\n",
    "    plt.tight_layout()"
   ]
  },
  {
   "cell_type": "markdown",
   "id": "977af495",
   "metadata": {},
   "source": [
    "В начале теста группа B была лучше по всем метрикам. \n",
    "\n",
    "Конверсия в покупку группы В резко сокращается и после 14 декабря стабилизируется на уровне около 28%, конверсия в покупку группы А также падает до 13.12, а затем начинает резко расти (как раз в тот период, когда мы наблюдали резкий рост привлеченных за день пользователей у группы), где-то с 21.12 коммулятивная конверсия группы А стабилизируется и остается на уровне 32% до конца теста.\n",
    "\n",
    "Конверсия в просмотр карточек у группы В резко падает с начала теста и до 14.12, затем происходит неблольшой рост и показатель фиксируется с 18.12 примерно на 56% до конца теста. Конверсия в просмотр карточек группы А тоже сокращается до 14.12, затем начинает расти и стабилизируется с 21.12 до конца теста примерно на 65%.\n",
    "\n",
    "Аналогично предыдущим метрикам конверсия в просмотр корзины у группы В падает до 13.12, затем происходит скачок показателя, но после 18-19 декабря конверсия вновь начинает снижаться и фиксируется с 21.12 примерно на 29%. График коммулятивной конверсии в просмотр корзины группы А похож по динамике, но начиная с 10.12 конверсия группы А остается выше конверсии группы В до конца теста. Показатель также фиксируется 21.12 на уровне около 30%.\n",
    "\n",
    "Стабилизация происходит, потому что после 21.12 прекратился набор новых пользователей в группы, число пользователей совершивших событие уже не меняется до конца эксперимента."
   ]
  },
  {
   "cell_type": "markdown",
   "id": "b9c68389",
   "metadata": {},
   "source": [
    "**Графики относительных различий куммулятивных конверсий.**"
   ]
  },
  {
   "cell_type": "markdown",
   "id": "528fdc9b",
   "metadata": {},
   "source": [
    "Объединим конверсии групп А и В в одну таблицу"
   ]
  },
  {
   "cell_type": "code",
   "execution_count": 42,
   "id": "582011b6",
   "metadata": {},
   "outputs": [],
   "source": [
    "merge_cumulative_conv =(\n",
    "    cumulative_data_а[['date', 'conversion', 'conv_page', 'conv_cart']]\n",
    "    .merge(cumulative_data_b[['date', 'conversion', 'conv_page', 'conv_cart']], on='date', how='left', suffixes=['_a', '_b'])\n",
    ")"
   ]
  },
  {
   "cell_type": "markdown",
   "id": "63548e3b",
   "metadata": {},
   "source": [
    "Построим графики относительных различий конверсий групп по метрикам теста."
   ]
  },
  {
   "cell_type": "code",
   "execution_count": 43,
   "id": "a692e0bc",
   "metadata": {
    "scrolled": false
   },
   "outputs": [
    {
     "name": "stdout",
     "output_type": "stream",
     "text": [
      "Графики относительного изменения куммулятивных конверсий\n"
     ]
    },
    {
     "data": {
      "image/png": "[encoded data removed]",
      "text/plain": [
       "<Figure size 1008x576 with 3 Axes>"
      ]
     },
     "metadata": {
      "needs_background": "light"
     },
     "output_type": "display_data"
    }
   ],
   "source": [
    "plt.subplots(figsize=(14,8))\n",
    "selected_columns_a = [\n",
    "    'conversion_a',\n",
    "    'conv_page_a',\n",
    "    'conv_cart_a'\n",
    "]\n",
    "\n",
    "columns_b = [\n",
    "    'conversion_b',\n",
    "    'conv_page_b',\n",
    "    'conv_cart_b'\n",
    "]\n",
    "\n",
    "plot_names = [\n",
    "    'покупку',\n",
    "    'просмотр карточек товаров',\n",
    "    'просмотр корзины'\n",
    "]\n",
    "\n",
    "print('Графики относительного изменения куммулятивных конверсий')\n",
    "for plot_num, column in enumerate(selected_columns_a):\n",
    "    ax=plt.subplot(2, len(selected_columns),plot_num+1)\n",
    "    plt.plot(\n",
    "        merge_cumulative_conv['date'],\n",
    "        (merge_cumulative_conv[column] / merge_cumulative_conv[columns_b[plot_num]]-1)\n",
    "    )   \n",
    "    plt.axhline(y=0, color='black', linestyle='--')\n",
    "    plt.axhline(y=-0.1, color='grey', linestyle='--')\n",
    "    #plt.axis([\"2020-12-07\", '2020-12-30', -0.5, 0.5])\n",
    "    plt.ylim(-0.5, 0.5)\n",
    "    plt.title(f'График относительного изменения \\nкумулятивной конверсии\\nв {plot_names[plot_num]}\\nгруппы А к группе В')\n",
    "    plt.xticks(rotation=45)\n",
    "    plt.xlabel('Дата')\n",
    "    plt.ylabel('Коэффициент')\n",
    "    plt.tight_layout()\n",
    "#plt.show()"
   ]
  },
  {
   "cell_type": "markdown",
   "id": "ef8b2393",
   "metadata": {},
   "source": [
    "По графикам относительных изменений конверсий также мвидно, что в начале по конверсиив покупку и просмотр корзины лидировала группа В, но около 13 декабря группа А опередила группу В. Конверсия в просмотр карточек у группы А выше практически с самого начала теста."
   ]
  },
  {
   "cell_type": "markdown",
   "id": "5af6c5b8",
   "metadata": {},
   "source": [
    "Наш тест проверяет изменения, связанные с улучшением рекомендательной системы. При этом уже изначально тестовая группа меньше контрольной на 25%. В приложении совершают действия только 71% из контрольной группы и 32% из тестовой. Фактически только эти пользователи участвуют в тестировании рекомендательной системы. Соответственно тестовая группа B меньше контрольной на 66%. Пользователи группы А более активно заходили в приложение после 14 декабря. Они явно имеют отличия от группы В, поэтому нельзя объективно оценить эффективность изменений в приложении, сравнивая действия этих двух групп."
   ]
  },
  {
   "cell_type": "markdown",
   "id": "ac254331",
   "metadata": {},
   "source": [
    "## Оценка результатов А/В тестирования"
   ]
  },
  {
   "cell_type": "markdown",
   "id": "fe221665",
   "metadata": {},
   "source": [
    "Результаты А/В теста показывают, что у  тестовой группы В по всем трем метрикам теста (конверсии в просмотр карточек, конверсии в просмотр корзины и конверсии в покупку) показатели хуже, соответственно ожидаемый эффект от улучшения рекомендательной системы не достигнут. \n",
    "\n",
    "Проведем статистическую проверку разницы конверсий z-критерием.\n",
    "\n",
    "Всего мы проводим три сравнения конверсий групп А и В - в покупку, в просмотр карточки продукта, в просмотр корзины)\n",
    "\n",
    "Уровень значимости `alpha` для проверки равен **0,05**.\n",
    "\n",
    "Скорректируем его с учетом множественных сравнений, применив метод Шидака. "
   ]
  },
  {
   "cell_type": "code",
   "execution_count": 44,
   "id": "b4138364",
   "metadata": {
    "scrolled": true
   },
   "outputs": [
    {
     "name": "stdout",
     "output_type": "stream",
     "text": [
      "Уровень значимости для проверки равенства долей равен 0.017\n"
     ]
    }
   ],
   "source": [
    "alpha = 1 - (1 - 0.05)**(1/3)\n",
    "print('Уровень значимости для проверки равенства долей равен', round(alpha, 3))"
   ]
  },
  {
   "cell_type": "markdown",
   "id": "5ff84e44",
   "metadata": {},
   "source": [
    "**Сформулируем гипотезу**\n",
    "\n",
    "**Нулевая гипотеза** - Конверсии в событие двух генеральных совокупностей выборок контрольной группы А и тестовой В равны.\n",
    "\n",
    "**Альтернативная гипотеза** - Конверсии в событие двух генеральных совокупностей выборок групп А и В различаются."
   ]
  },
  {
   "cell_type": "markdown",
   "id": "d1d9bd61",
   "metadata": {},
   "source": [
    "Посчитаем размеры групп и количество пользователей, совершивших целевые события в приложении."
   ]
  },
  {
   "cell_type": "code",
   "execution_count": 45,
   "id": "cf9631c0",
   "metadata": {},
   "outputs": [
    {
     "data": {
      "text/html": [
       "<div>\n",
       "<style scoped>\n",
       "    .dataframe tbody tr th:only-of-type {\n",
       "        vertical-align: middle;\n",
       "    }\n",
       "\n",
       "    .dataframe tbody tr th {\n",
       "        vertical-align: top;\n",
       "    }\n",
       "\n",
       "    .dataframe thead th {\n",
       "        text-align: right;\n",
       "    }\n",
       "</style>\n",
       "<table border=\"1\" class=\"dataframe\">\n",
       "  <thead>\n",
       "    <tr style=\"text-align: right;\">\n",
       "      <th></th>\n",
       "      <th>purchase</th>\n",
       "      <th>product_page</th>\n",
       "      <th>product_cart</th>\n",
       "    </tr>\n",
       "    <tr>\n",
       "      <th>group</th>\n",
       "      <th></th>\n",
       "      <th></th>\n",
       "      <th></th>\n",
       "    </tr>\n",
       "  </thead>\n",
       "  <tbody>\n",
       "    <tr>\n",
       "      <th>A</th>\n",
       "      <td>734</td>\n",
       "      <td>1476</td>\n",
       "      <td>686</td>\n",
       "    </tr>\n",
       "    <tr>\n",
       "      <th>B</th>\n",
       "      <td>219</td>\n",
       "      <td>429</td>\n",
       "      <td>214</td>\n",
       "    </tr>\n",
       "  </tbody>\n",
       "</table>\n",
       "</div>"
      ],
      "text/plain": [
       "       purchase  product_page  product_cart\n",
       "group                                      \n",
       "A           734          1476           686\n",
       "B           219           429           214"
      ]
     },
     "metadata": {},
     "output_type": "display_data"
    },
    {
     "data": {
      "text/html": [
       "<div>\n",
       "<style scoped>\n",
       "    .dataframe tbody tr th:only-of-type {\n",
       "        vertical-align: middle;\n",
       "    }\n",
       "\n",
       "    .dataframe tbody tr th {\n",
       "        vertical-align: top;\n",
       "    }\n",
       "\n",
       "    .dataframe thead th {\n",
       "        text-align: right;\n",
       "    }\n",
       "</style>\n",
       "<table border=\"1\" class=\"dataframe\">\n",
       "  <thead>\n",
       "    <tr style=\"text-align: right;\">\n",
       "      <th></th>\n",
       "      <th>login_users</th>\n",
       "    </tr>\n",
       "    <tr>\n",
       "      <th>group</th>\n",
       "      <th></th>\n",
       "    </tr>\n",
       "  </thead>\n",
       "  <tbody>\n",
       "    <tr>\n",
       "      <th>A</th>\n",
       "      <td>2279</td>\n",
       "    </tr>\n",
       "    <tr>\n",
       "      <th>B</th>\n",
       "      <td>770</td>\n",
       "    </tr>\n",
       "  </tbody>\n",
       "</table>\n",
       "</div>"
      ],
      "text/plain": [
       "       login_users\n",
       "group             \n",
       "A             2279\n",
       "B              770"
      ]
     },
     "execution_count": 45,
     "metadata": {},
     "output_type": "execute_result"
    }
   ],
   "source": [
    "successes = (\n",
    "    cumulative_data.groupby('group')\n",
    "    .agg({'buyers': 'max', 'page_users' : 'max', 'cart_users': 'max'})\n",
    "    .rename(columns={'buyers':'purchase', 'page_users':'product_page', 'cart_users':'product_cart'})\n",
    ")\n",
    "\n",
    "trials = (\n",
    "    cumulative_data.groupby('group')\n",
    "    .agg({'login_users' : 'max'})    \n",
    ")\n",
    "\n",
    "display(successes)\n",
    "trials"
   ]
  },
  {
   "cell_type": "code",
   "execution_count": 46,
   "id": "5ce96793",
   "metadata": {},
   "outputs": [
    {
     "name": "stdout",
     "output_type": "stream",
     "text": [
      "\n",
      "Для события purchase: \n",
      "Не получилось отвергнуть нулевую гипотезу,\n",
      "нет оснований считать доли групп по событию разными\n",
      " p_value= 0.051 \n",
      "\n",
      "\n",
      "Для события product_page: \n",
      "Отвергаем нулевую гипотезу: \n",
      "между долями по событию в группах есть значимая разница\n",
      " p_value= 0.0\n",
      "\n",
      "Для события product_cart: \n",
      "Не получилось отвергнуть нулевую гипотезу,\n",
      "нет оснований считать доли групп по событию разными\n",
      " p_value= 0.225 \n",
      "\n"
     ]
    }
   ],
   "source": [
    "for event in successes.columns:\n",
    "    p_value = check_hypothesise(successes.loc['A', event],\n",
    "                                successes.loc['B', event],\n",
    "                                trials.loc['A', 'login_users'],\n",
    "                                trials.loc['B', 'login_users'])                               \n",
    "    if p_value < alpha:\n",
    "        print(\n",
    "            f'\\nДля события {event}:',\n",
    "            f'\\nОтвергаем нулевую гипотезу: \\nмежду долями по событию в группах есть значимая разница\\n',\n",
    "            'p_value=', round(p_value, 3)\n",
    "        )\n",
    "    else:\n",
    "        print(\n",
    "            f'\\nДля события {event}:',            \n",
    "            f'\\nНе получилось отвергнуть нулевую гипотезу,\\nнет оснований считать доли групп по событию разными\\n',\n",
    "            'p_value=', round(p_value, 3),'\\n'\n",
    "        )"
   ]
  },
  {
   "cell_type": "markdown",
   "id": "3213e1bf",
   "metadata": {},
   "source": [
    "Проверка z-критерием показала\n",
    "\n",
    "- по метрике **Конверсия в покупку** вероятность, что конверсии контрольной и тестовой групп не отличаются выше статистически значимой. У нас нет оснований отвергнуть нулевую гипотезу.\n",
    "\n",
    "- по метрике **Конверсия в просмотр карточек товаров** подтвердилось наличие статистически значимого различия в конверсиях групп А и В. Мы можем отвергнуть нулевую гипотезу и не отвергать альтернативную.\n",
    "\n",
    "- по метрике **Просмотр Корзины** Вероятность что конверсии двух групп одинаковы выше статистически значимой. У нас нет оснований отвергнуть нулевую гипотезу.\n",
    "\n",
    "Конверсия группы В по всем целевым событиям была ниже, чем у группа А. Но на основании статистической проверки можно сделать вывод, что вероятнее всего различия в конверсиях событий `purchase` и `product_cart` случайны. Наличие же статистически значимых различии в конверсии в шаг `product_page` подтвердилось.\n",
    "\n"
   ]
  },
  {
   "cell_type": "markdown",
   "id": "0b168b18",
   "metadata": {},
   "source": [
    "## Выводы."
   ]
  },
  {
   "cell_type": "markdown",
   "id": "620a34e2",
   "metadata": {},
   "source": [
    "**Итоги А/В теста.**\n",
    "\n",
    "В ходе исследовательского анализа мы выяснили\n",
    "\n",
    "- в приложении совершали действия 71% пользователей из контрольной группы и только 32% пользователей из тестовой группы;\n",
    "- пользователи в контрольной и в тестовой группе в основном совершают до 10 событий в приложении. Однако в обеих группах есть отдельные пользователи с аномально большим количеством событий (20-25);\n",
    "- число событий в день у групп сильно различается для контрольной группы медианное значение около 600 событий в день, для тестовой около 200;\n",
    "- у контрольной группы начиная с 14 декабря наблюдается резкий рост событий в день, при том, что активность пользователей из группы В не изменилась, возможно это связано с предпразничной неделей, на пользователей группы А оказало влияние какое-то внешнее событие, которое не отразилось на пользователях из тестовой группы;\n",
    "- тестовая группа показала худшие результаты по всем метрикам теста, по сравнению с контрольной.\n",
    "\n",
    "Проверка различий конверсий целевых шагов между группами подтвердила наличие статистически значимой разницы только в конверсии в просмотр карточек товара. Вероятность что конверсии контрольной и тестовй групп в покупку и просмотр корзины не отличаются, а различия выявленные в выборках случайны - выше статистически значимой.\n",
    "\n",
    "В итоге эксперимента ожидаемого эффекта роста целевых метрик с внедрением улучшенной рекомендательной системы не выявлено.\n",
    "\n",
    "**Корректность А/В теста**\n",
    "\n",
    "На этапе обзора и подготовки данных мы выявили\n",
    "\n",
    "- Несоответствие периодов данных событий дате остановке А/В теста - события в датасете с 07 по 30 декабря 2020, дата остановки теста по ТЗ 04 января 2021 г.\n",
    "- Аудитория теста меньше заявленной в ТЗ (15% новых пользователей из Европы), фактически 13.2%.\n",
    "- Период проведения теста совпал с маркетинговым событием для регион Европа - `Christmas&New Year Promo`. \n",
    "- Также выявлено пересечение аудиторий двух конкурирующих тестов.\n",
    "\n",
    "На этапе исследовательского анализа проявились существенные различия в активности пользователей - пользователи из группы А активней регистрировались в приложении и совершали в нем действия, по-мимо целевых. За время эксперимента в приложении совершили действия только 32% пользователей из группы В и 62% из группы А. Можно сделать вывод, что качество пользователей в группах отличается.\n",
    "\n",
    "В целом А/В тест был проведен некорректно. Его результаты нельзя признать достоверными.\n",
    "\n",
    "Следует повторить эксперимент, отобрав в контрольную и тестовую группу пользователей не только с учетом одинаковых размеров групп, но и предполагаемого качества пользователй. Также следует выбрать период не совпадающий с маркетинговыми мероприятиями и праздниками или другими событиями, которые могут дополнительно повлиять на действия пользователей."
   ]
  }
 ],
 "metadata": {
  "ExecuteTimeLog": [
   {
    "duration": 1290,
    "start_time": "2022-05-18T16:14:38.149Z"
   },
   {
    "duration": 6,
    "start_time": "2022-05-18T16:14:39.442Z"
   },
   {
    "duration": 9,
    "start_time": "2022-05-18T16:14:39.450Z"
   },
   {
    "duration": 1247,
    "start_time": "2022-05-18T16:14:39.461Z"
   },
   {
    "duration": 4,
    "start_time": "2022-05-18T16:14:40.709Z"
   },
   {
    "duration": 492,
    "start_time": "2022-05-18T16:14:40.715Z"
   },
   {
    "duration": 149,
    "start_time": "2022-05-18T16:14:41.208Z"
   },
   {
    "duration": 90,
    "start_time": "2022-05-18T16:14:41.359Z"
   },
   {
    "duration": 103,
    "start_time": "2022-05-18T16:14:41.451Z"
   },
   {
    "duration": 84,
    "start_time": "2022-05-18T16:14:41.557Z"
   },
   {
    "duration": 504,
    "start_time": "2022-05-18T16:14:41.643Z"
   },
   {
    "duration": 188,
    "start_time": "2022-05-18T16:14:42.148Z"
   },
   {
    "duration": 29,
    "start_time": "2022-05-18T16:14:42.338Z"
   },
   {
    "duration": 37,
    "start_time": "2022-05-18T16:14:42.369Z"
   },
   {
    "duration": 122,
    "start_time": "2022-05-18T16:14:42.420Z"
   },
   {
    "duration": 33,
    "start_time": "2022-05-18T16:14:42.544Z"
   },
   {
    "duration": 48,
    "start_time": "2022-05-18T16:14:42.579Z"
   },
   {
    "duration": 18,
    "start_time": "2022-05-18T16:14:42.631Z"
   },
   {
    "duration": 78,
    "start_time": "2022-05-18T16:14:42.651Z"
   },
   {
    "duration": 68,
    "start_time": "2022-05-18T16:14:42.731Z"
   },
   {
    "duration": 38,
    "start_time": "2022-05-18T16:14:42.803Z"
   },
   {
    "duration": 31,
    "start_time": "2022-05-18T16:14:42.843Z"
   },
   {
    "duration": 43,
    "start_time": "2022-05-18T16:14:42.876Z"
   },
   {
    "duration": 38,
    "start_time": "2022-05-18T16:14:42.920Z"
   },
   {
    "duration": 50,
    "start_time": "2022-05-18T16:14:42.960Z"
   },
   {
    "duration": 31,
    "start_time": "2022-05-18T16:14:43.014Z"
   },
   {
    "duration": 295,
    "start_time": "2022-05-18T16:14:43.047Z"
   },
   {
    "duration": 6,
    "start_time": "2022-05-18T16:14:43.346Z"
   },
   {
    "duration": 51,
    "start_time": "2022-05-18T16:14:43.354Z"
   },
   {
    "duration": 615,
    "start_time": "2022-05-18T16:14:43.413Z"
   },
   {
    "duration": 137,
    "start_time": "2022-05-18T16:14:44.030Z"
   },
   {
    "duration": 32,
    "start_time": "2022-05-18T16:14:44.170Z"
   },
   {
    "duration": 43,
    "start_time": "2022-05-18T16:14:44.204Z"
   },
   {
    "duration": 196,
    "start_time": "2022-05-18T16:14:44.249Z"
   },
   {
    "duration": 278,
    "start_time": "2022-05-18T16:14:44.446Z"
   },
   {
    "duration": 10,
    "start_time": "2022-05-18T16:14:44.726Z"
   },
   {
    "duration": 179,
    "start_time": "2022-05-18T16:14:44.738Z"
   },
   {
    "duration": 373,
    "start_time": "2022-05-18T16:14:44.919Z"
   },
   {
    "duration": 676,
    "start_time": "2022-05-18T16:14:45.300Z"
   },
   {
    "duration": 8,
    "start_time": "2022-05-18T16:14:45.977Z"
   },
   {
    "duration": 928,
    "start_time": "2022-05-18T16:14:45.986Z"
   },
   {
    "duration": 12,
    "start_time": "2022-05-18T16:14:46.915Z"
   },
   {
    "duration": 888,
    "start_time": "2022-05-18T16:14:46.929Z"
   },
   {
    "duration": 6,
    "start_time": "2022-05-18T16:14:47.818Z"
   },
   {
    "duration": 17,
    "start_time": "2022-05-18T16:14:47.830Z"
   },
   {
    "duration": 114,
    "start_time": "2022-05-18T16:14:47.849Z"
   },
   {
    "duration": 2303,
    "start_time": "2022-05-18T16:15:35.080Z"
   },
   {
    "duration": 1170,
    "start_time": "2022-05-18T16:15:44.757Z"
   },
   {
    "duration": 5,
    "start_time": "2022-05-18T16:15:45.929Z"
   },
   {
    "duration": 8,
    "start_time": "2022-05-18T16:15:45.936Z"
   },
   {
    "duration": 4,
    "start_time": "2022-05-18T16:15:45.946Z"
   },
   {
    "duration": 680,
    "start_time": "2022-05-18T16:15:45.952Z"
   },
   {
    "duration": 479,
    "start_time": "2022-05-18T16:15:46.634Z"
   },
   {
    "duration": 168,
    "start_time": "2022-05-18T16:15:47.120Z"
   },
   {
    "duration": 90,
    "start_time": "2022-05-18T16:15:47.295Z"
   },
   {
    "duration": 159,
    "start_time": "2022-05-18T16:15:47.386Z"
   },
   {
    "duration": 84,
    "start_time": "2022-05-18T16:15:47.549Z"
   },
   {
    "duration": 487,
    "start_time": "2022-05-18T16:15:47.635Z"
   },
   {
    "duration": 163,
    "start_time": "2022-05-18T16:15:48.124Z"
   },
   {
    "duration": 35,
    "start_time": "2022-05-18T16:15:48.289Z"
   },
   {
    "duration": 24,
    "start_time": "2022-05-18T16:15:48.325Z"
   },
   {
    "duration": 81,
    "start_time": "2022-05-18T16:15:48.351Z"
   },
   {
    "duration": 28,
    "start_time": "2022-05-18T16:15:48.433Z"
   },
   {
    "duration": 12,
    "start_time": "2022-05-18T16:15:48.463Z"
   },
   {
    "duration": 37,
    "start_time": "2022-05-18T16:15:48.476Z"
   },
   {
    "duration": 57,
    "start_time": "2022-05-18T16:15:48.522Z"
   },
   {
    "duration": 63,
    "start_time": "2022-05-18T16:15:48.580Z"
   },
   {
    "duration": 25,
    "start_time": "2022-05-18T16:15:48.644Z"
   },
   {
    "duration": 56,
    "start_time": "2022-05-18T16:15:48.671Z"
   },
   {
    "duration": 19,
    "start_time": "2022-05-18T16:15:48.729Z"
   },
   {
    "duration": 26,
    "start_time": "2022-05-18T16:15:48.749Z"
   },
   {
    "duration": 59,
    "start_time": "2022-05-18T16:15:48.777Z"
   },
   {
    "duration": 19,
    "start_time": "2022-05-18T16:15:48.838Z"
   },
   {
    "duration": 282,
    "start_time": "2022-05-18T16:15:48.859Z"
   },
   {
    "duration": 5,
    "start_time": "2022-05-18T16:15:49.145Z"
   },
   {
    "duration": 29,
    "start_time": "2022-05-18T16:15:49.152Z"
   },
   {
    "duration": 581,
    "start_time": "2022-05-18T16:15:49.182Z"
   },
   {
    "duration": 164,
    "start_time": "2022-05-18T16:15:49.765Z"
   },
   {
    "duration": 23,
    "start_time": "2022-05-18T16:15:49.931Z"
   },
   {
    "duration": 59,
    "start_time": "2022-05-18T16:15:49.956Z"
   },
   {
    "duration": 190,
    "start_time": "2022-05-18T16:15:50.017Z"
   },
   {
    "duration": 231,
    "start_time": "2022-05-18T16:15:50.222Z"
   },
   {
    "duration": 9,
    "start_time": "2022-05-18T16:15:50.454Z"
   },
   {
    "duration": 180,
    "start_time": "2022-05-18T16:15:50.465Z"
   },
   {
    "duration": 375,
    "start_time": "2022-05-18T16:15:50.647Z"
   },
   {
    "duration": 741,
    "start_time": "2022-05-18T16:15:51.028Z"
   },
   {
    "duration": 9,
    "start_time": "2022-05-18T16:15:51.771Z"
   },
   {
    "duration": 884,
    "start_time": "2022-05-18T16:15:51.781Z"
   },
   {
    "duration": 8,
    "start_time": "2022-05-18T16:15:52.667Z"
   },
   {
    "duration": 913,
    "start_time": "2022-05-18T16:15:52.677Z"
   },
   {
    "duration": 6,
    "start_time": "2022-05-18T16:15:53.591Z"
   },
   {
    "duration": 42,
    "start_time": "2022-05-18T16:15:53.600Z"
   },
   {
    "duration": 10,
    "start_time": "2022-05-18T16:15:53.644Z"
   },
   {
    "duration": 1200,
    "start_time": "2022-05-18T16:23:14.660Z"
   },
   {
    "duration": 6,
    "start_time": "2022-05-18T16:23:15.862Z"
   },
   {
    "duration": 9,
    "start_time": "2022-05-18T16:23:15.870Z"
   },
   {
    "duration": 4,
    "start_time": "2022-05-18T16:23:15.881Z"
   },
   {
    "duration": 743,
    "start_time": "2022-05-18T16:23:15.895Z"
   },
   {
    "duration": 493,
    "start_time": "2022-05-18T16:23:16.639Z"
   },
   {
    "duration": 204,
    "start_time": "2022-05-18T16:23:17.134Z"
   },
   {
    "duration": 111,
    "start_time": "2022-05-18T16:23:17.342Z"
   },
   {
    "duration": 125,
    "start_time": "2022-05-18T16:23:17.455Z"
   },
   {
    "duration": 134,
    "start_time": "2022-05-18T16:23:17.584Z"
   },
   {
    "duration": 564,
    "start_time": "2022-05-18T16:23:17.723Z"
   },
   {
    "duration": 184,
    "start_time": "2022-05-18T16:23:18.289Z"
   },
   {
    "duration": 41,
    "start_time": "2022-05-18T16:23:18.474Z"
   },
   {
    "duration": 15,
    "start_time": "2022-05-18T16:23:18.517Z"
   },
   {
    "duration": 97,
    "start_time": "2022-05-18T16:23:18.533Z"
   },
   {
    "duration": 39,
    "start_time": "2022-05-18T16:23:18.634Z"
   },
   {
    "duration": 23,
    "start_time": "2022-05-18T16:23:18.675Z"
   },
   {
    "duration": 47,
    "start_time": "2022-05-18T16:23:18.700Z"
   },
   {
    "duration": 84,
    "start_time": "2022-05-18T16:23:18.748Z"
   },
   {
    "duration": 52,
    "start_time": "2022-05-18T16:23:18.834Z"
   },
   {
    "duration": 38,
    "start_time": "2022-05-18T16:23:18.900Z"
   },
   {
    "duration": 29,
    "start_time": "2022-05-18T16:23:18.939Z"
   },
   {
    "duration": 34,
    "start_time": "2022-05-18T16:23:18.969Z"
   },
   {
    "duration": 37,
    "start_time": "2022-05-18T16:23:19.005Z"
   },
   {
    "duration": 80,
    "start_time": "2022-05-18T16:23:19.044Z"
   },
   {
    "duration": 23,
    "start_time": "2022-05-18T16:23:19.126Z"
   },
   {
    "duration": 276,
    "start_time": "2022-05-18T16:23:19.151Z"
   },
   {
    "duration": 7,
    "start_time": "2022-05-18T16:23:19.432Z"
   },
   {
    "duration": 38,
    "start_time": "2022-05-18T16:23:19.440Z"
   },
   {
    "duration": 604,
    "start_time": "2022-05-18T16:23:19.479Z"
   },
   {
    "duration": 181,
    "start_time": "2022-05-18T16:23:20.085Z"
   },
   {
    "duration": 41,
    "start_time": "2022-05-18T16:23:20.269Z"
   },
   {
    "duration": 38,
    "start_time": "2022-05-18T16:23:20.315Z"
   },
   {
    "duration": 234,
    "start_time": "2022-05-18T16:23:20.356Z"
   },
   {
    "duration": 280,
    "start_time": "2022-05-18T16:23:20.592Z"
   },
   {
    "duration": 31,
    "start_time": "2022-05-18T16:23:20.874Z"
   },
   {
    "duration": 221,
    "start_time": "2022-05-18T16:23:20.907Z"
   },
   {
    "duration": 403,
    "start_time": "2022-05-18T16:23:21.133Z"
   },
   {
    "duration": 693,
    "start_time": "2022-05-18T16:23:21.538Z"
   },
   {
    "duration": 12,
    "start_time": "2022-05-18T16:23:22.234Z"
   },
   {
    "duration": 905,
    "start_time": "2022-05-18T16:23:22.247Z"
   },
   {
    "duration": 11,
    "start_time": "2022-05-18T16:23:23.153Z"
   },
   {
    "duration": 888,
    "start_time": "2022-05-18T16:23:23.166Z"
   },
   {
    "duration": 3,
    "start_time": "2022-05-18T16:23:24.056Z"
   },
   {
    "duration": 44,
    "start_time": "2022-05-18T16:23:24.061Z"
   },
   {
    "duration": 19,
    "start_time": "2022-05-18T16:23:24.114Z"
   },
   {
    "duration": 1125,
    "start_time": "2022-05-19T11:53:45.723Z"
   },
   {
    "duration": 5,
    "start_time": "2022-05-19T11:53:46.850Z"
   },
   {
    "duration": 32,
    "start_time": "2022-05-19T11:53:46.856Z"
   },
   {
    "duration": 14,
    "start_time": "2022-05-19T11:53:46.890Z"
   },
   {
    "duration": 632,
    "start_time": "2022-05-19T11:53:46.906Z"
   },
   {
    "duration": 425,
    "start_time": "2022-05-19T11:53:47.541Z"
   },
   {
    "duration": 132,
    "start_time": "2022-05-19T11:53:47.968Z"
   },
   {
    "duration": 77,
    "start_time": "2022-05-19T11:53:48.102Z"
   },
   {
    "duration": 89,
    "start_time": "2022-05-19T11:53:48.181Z"
   },
   {
    "duration": 92,
    "start_time": "2022-05-19T11:53:48.272Z"
   },
   {
    "duration": 406,
    "start_time": "2022-05-19T11:53:48.366Z"
   },
   {
    "duration": 126,
    "start_time": "2022-05-19T11:53:48.774Z"
   },
   {
    "duration": 24,
    "start_time": "2022-05-19T11:53:48.912Z"
   },
   {
    "duration": 10,
    "start_time": "2022-05-19T11:53:48.939Z"
   },
   {
    "duration": 93,
    "start_time": "2022-05-19T11:53:48.950Z"
   },
   {
    "duration": 28,
    "start_time": "2022-05-19T11:53:49.044Z"
   },
   {
    "duration": 11,
    "start_time": "2022-05-19T11:53:49.074Z"
   },
   {
    "duration": 34,
    "start_time": "2022-05-19T11:53:49.087Z"
   },
   {
    "duration": 47,
    "start_time": "2022-05-19T11:53:49.123Z"
   },
   {
    "duration": 75,
    "start_time": "2022-05-19T11:53:49.171Z"
   },
   {
    "duration": 24,
    "start_time": "2022-05-19T11:53:49.247Z"
   },
   {
    "duration": 45,
    "start_time": "2022-05-19T11:53:49.273Z"
   },
   {
    "duration": 27,
    "start_time": "2022-05-19T11:53:49.319Z"
   },
   {
    "duration": 28,
    "start_time": "2022-05-19T11:53:49.348Z"
   },
   {
    "duration": 58,
    "start_time": "2022-05-19T11:53:49.377Z"
   },
   {
    "duration": 23,
    "start_time": "2022-05-19T11:53:49.436Z"
   },
   {
    "duration": 252,
    "start_time": "2022-05-19T11:53:49.461Z"
   },
   {
    "duration": 5,
    "start_time": "2022-05-19T11:53:49.714Z"
   },
   {
    "duration": 28,
    "start_time": "2022-05-19T11:53:49.721Z"
   },
   {
    "duration": 541,
    "start_time": "2022-05-19T11:53:49.750Z"
   },
   {
    "duration": 134,
    "start_time": "2022-05-19T11:53:50.293Z"
   },
   {
    "duration": 21,
    "start_time": "2022-05-19T11:53:50.428Z"
   },
   {
    "duration": 30,
    "start_time": "2022-05-19T11:53:50.450Z"
   },
   {
    "duration": 201,
    "start_time": "2022-05-19T11:53:50.482Z"
   },
   {
    "duration": 240,
    "start_time": "2022-05-19T11:53:50.685Z"
   },
   {
    "duration": 10,
    "start_time": "2022-05-19T11:53:50.927Z"
   },
   {
    "duration": 167,
    "start_time": "2022-05-19T11:53:50.939Z"
   },
   {
    "duration": 409,
    "start_time": "2022-05-19T11:53:51.108Z"
   },
   {
    "duration": 636,
    "start_time": "2022-05-19T11:53:51.519Z"
   },
   {
    "duration": 8,
    "start_time": "2022-05-19T11:53:52.156Z"
   },
   {
    "duration": 773,
    "start_time": "2022-05-19T11:53:52.167Z"
   },
   {
    "duration": 8,
    "start_time": "2022-05-19T11:53:52.942Z"
   },
   {
    "duration": 831,
    "start_time": "2022-05-19T11:53:52.952Z"
   },
   {
    "duration": 4,
    "start_time": "2022-05-19T11:53:53.785Z"
   },
   {
    "duration": 31,
    "start_time": "2022-05-19T11:53:53.790Z"
   },
   {
    "duration": 12,
    "start_time": "2022-05-19T11:53:53.822Z"
   }
  ],
  "kernelspec": {
   "display_name": "Python 3 (ipykernel)",
   "language": "python",
   "name": "python3"
  },
  "language_info": {
   "codemirror_mode": {
    "name": "ipython",
    "version": 3
   },
   "file_extension": ".py",
   "mimetype": "text/x-python",
   "name": "python",
   "nbconvert_exporter": "python",
   "pygments_lexer": "ipython3",
   "version": "3.9.7"
  },
  "toc": {
   "base_numbering": 1,
   "nav_menu": {},
   "number_sections": true,
   "sideBar": true,
   "skip_h1_title": true,
   "title_cell": "Содержание",
   "title_sidebar": "Содержание",
   "toc_cell": true,
   "toc_position": {
    "height": "calc(100% - 180px)",
    "left": "10px",
    "top": "150px",
    "width": "279.273px"
   },
   "toc_section_display": true,
   "toc_window_display": true
  }
 },
 "nbformat": 4,
 "nbformat_minor": 5
}
