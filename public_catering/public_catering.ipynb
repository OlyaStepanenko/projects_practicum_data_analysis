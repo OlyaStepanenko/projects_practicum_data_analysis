{
 "cells": [
  {
   "cell_type": "markdown",
   "metadata": {
    "toc": true
   },
   "source": [
    "<h1>Содержание<span class=\"tocSkip\"></span></h1>\n",
    "<div class=\"toc\"><ul class=\"toc-item\"><li><span><a href=\"#Обзор-данных\" data-toc-modified-id=\"Обзор-данных-1\"><span class=\"toc-item-num\">1&nbsp;&nbsp;</span>Обзор данных</a></span></li><li><span><a href=\"#Предобработка-данных\" data-toc-modified-id=\"Предобработка-данных-2\"><span class=\"toc-item-num\">2&nbsp;&nbsp;</span>Предобработка данных</a></span><ul class=\"toc-item\"><li><span><a href=\"#Вывод\" data-toc-modified-id=\"Вывод-2.1\"><span class=\"toc-item-num\">2.1&nbsp;&nbsp;</span>Вывод</a></span></li></ul></li><li><span><a href=\"#Анализ-данных\" data-toc-modified-id=\"Анализ-данных-3\"><span class=\"toc-item-num\">3&nbsp;&nbsp;</span>Анализ данных</a></span><ul class=\"toc-item\"><li><span><a href=\"#Виды-объектов-общественного-питания\" data-toc-modified-id=\"Виды-объектов-общественного-питания-3.1\"><span class=\"toc-item-num\">3.1&nbsp;&nbsp;</span>Виды объектов общественного питания</a></span></li><li><span><a href=\"#Исследование-сетей-общественного-питания-по-количеству-заведений-и-посадочных-мест.\" data-toc-modified-id=\"Исследование-сетей-общественного-питания-по-количеству-заведений-и-посадочных-мест.-3.2\"><span class=\"toc-item-num\">3.2&nbsp;&nbsp;</span>Исследование сетей общественного питания по количеству заведений и посадочных мест.</a></span></li><li><span><a href=\"#Исследование-заведений-по-видам-и-числу-посадочных-мест.\" data-toc-modified-id=\"Исследование-заведений-по-видам-и-числу-посадочных-мест.-3.3\"><span class=\"toc-item-num\">3.3&nbsp;&nbsp;</span>Исследование заведений по видам и числу посадочных мест.</a></span></li><li><span><a href=\"#Исследование-объектов-общественного-питания-в-зависимости-от-места-расположения.\" data-toc-modified-id=\"Исследование-объектов-общественного-питания-в-зависимости-от-места-расположения.-3.4\"><span class=\"toc-item-num\">3.4&nbsp;&nbsp;</span>Исследование объектов общественного питания в зависимости от места расположения.</a></span><ul class=\"toc-item\"><li><span><a href=\"#Улицы-с-самым-большим-числом-объектов-общественного-питания.\" data-toc-modified-id=\"Улицы-с-самым-большим-числом-объектов-общественного-питания.-3.4.1\"><span class=\"toc-item-num\">3.4.1&nbsp;&nbsp;</span>Улицы с самым большим числом объектов общественного питания.</a></span></li><li><span><a href=\"#Улицы-с-наименьшим-количеством-заведений.\" data-toc-modified-id=\"Улицы-с-наименьшим-количеством-заведений.-3.4.2\"><span class=\"toc-item-num\">3.4.2&nbsp;&nbsp;</span>Улицы с наименьшим количеством заведений.</a></span></li></ul></li><li><span><a href=\"#Распределение-посадочных-мест-для-улиц-с-большим-количеством-объектов-общественного-питания.\" data-toc-modified-id=\"Распределение-посадочных-мест-для-улиц-с-большим-количеством-объектов-общественного-питания.-3.5\"><span class=\"toc-item-num\">3.5&nbsp;&nbsp;</span>Распределение посадочных мест для улиц с большим количеством объектов общественного питания.</a></span></li></ul></li><li><span><a href=\"#Общий-вывод.\" data-toc-modified-id=\"Общий-вывод.-4\"><span class=\"toc-item-num\">4&nbsp;&nbsp;</span>Общий вывод.</a></span></li><li><span><a href=\"#Презентация\" data-toc-modified-id=\"Презентация-5\"><span class=\"toc-item-num\">5&nbsp;&nbsp;</span>Презентация</a></span></li></ul></div>"
   ]
  },
  {
   "cell_type": "markdown",
   "metadata": {},
   "source": [
    "# Исследование рынка заведений общественного питания Москвы.\n",
    "\n",
    "Для привлечения инвесторов в проект нового небольшого кафе в Москве, особенностью которого будут роботы, обслуживающие посетителей, мы проведем исследование рынка заведений общественного питания Москвы. Цель исследования определить текущее положение дел на рынке, а также ответить на вопрос, сможет ли новое заведение оставаться популярным долгое время.\n",
    "\n",
    "Исследование проводится на основе открытых данных о заведениях общественного питания в Москве."
   ]
  },
  {
   "cell_type": "code",
   "execution_count": 1,
   "metadata": {},
   "outputs": [],
   "source": [
    "import pandas as pd\n",
    "import matplotlib.pyplot as plt\n",
    "import seaborn as sns\n",
    "import numpy as np\n",
    "\n",
    "from io import BytesIO\n",
    "import requests\n",
    "\n",
    "import warnings\n",
    "warnings.filterwarnings('ignore')\n",
    "\n",
    "plt.style.use('seaborn-deep')"
   ]
  },
  {
   "cell_type": "markdown",
   "metadata": {},
   "source": [
    "## Обзор данных"
   ]
  },
  {
   "cell_type": "markdown",
   "metadata": {},
   "source": [
    "**Таблица с данными о заведениях общественного питания Москвы**"
   ]
  },
  {
   "cell_type": "code",
   "execution_count": 2,
   "metadata": {
    "scrolled": false
   },
   "outputs": [
    {
     "data": {
      "text/html": [
       "<div>\n",
       "<style scoped>\n",
       "    .dataframe tbody tr th:only-of-type {\n",
       "        vertical-align: middle;\n",
       "    }\n",
       "\n",
       "    .dataframe tbody tr th {\n",
       "        vertical-align: top;\n",
       "    }\n",
       "\n",
       "    .dataframe thead th {\n",
       "        text-align: right;\n",
       "    }\n",
       "</style>\n",
       "<table border=\"1\" class=\"dataframe\">\n",
       "  <thead>\n",
       "    <tr style=\"text-align: right;\">\n",
       "      <th></th>\n",
       "      <th>id</th>\n",
       "      <th>object_name</th>\n",
       "      <th>chain</th>\n",
       "      <th>object_type</th>\n",
       "      <th>address</th>\n",
       "      <th>number</th>\n",
       "    </tr>\n",
       "  </thead>\n",
       "  <tbody>\n",
       "    <tr>\n",
       "      <th>0</th>\n",
       "      <td>151635</td>\n",
       "      <td>СМЕТАНА</td>\n",
       "      <td>нет</td>\n",
       "      <td>кафе</td>\n",
       "      <td>город Москва, улица Егора Абакумова, дом 9</td>\n",
       "      <td>48</td>\n",
       "    </tr>\n",
       "    <tr>\n",
       "      <th>1</th>\n",
       "      <td>77874</td>\n",
       "      <td>Родник</td>\n",
       "      <td>нет</td>\n",
       "      <td>кафе</td>\n",
       "      <td>город Москва, улица Талалихина, дом 2/1, корпус 1</td>\n",
       "      <td>35</td>\n",
       "    </tr>\n",
       "    <tr>\n",
       "      <th>2</th>\n",
       "      <td>24309</td>\n",
       "      <td>Кафе «Академия»</td>\n",
       "      <td>нет</td>\n",
       "      <td>кафе</td>\n",
       "      <td>город Москва, Абельмановская улица, дом 6</td>\n",
       "      <td>95</td>\n",
       "    </tr>\n",
       "    <tr>\n",
       "      <th>3</th>\n",
       "      <td>21894</td>\n",
       "      <td>ПИЦЦЕТОРИЯ</td>\n",
       "      <td>да</td>\n",
       "      <td>кафе</td>\n",
       "      <td>город Москва, Абрамцевская улица, дом 1</td>\n",
       "      <td>40</td>\n",
       "    </tr>\n",
       "    <tr>\n",
       "      <th>4</th>\n",
       "      <td>119365</td>\n",
       "      <td>Кафе «Вишневая метель»</td>\n",
       "      <td>нет</td>\n",
       "      <td>кафе</td>\n",
       "      <td>город Москва, Абрамцевская улица, дом 9, корпус 1</td>\n",
       "      <td>50</td>\n",
       "    </tr>\n",
       "    <tr>\n",
       "      <th>5</th>\n",
       "      <td>27429</td>\n",
       "      <td>СТОЛ. ПРИ ГОУ СОШ № 1051</td>\n",
       "      <td>нет</td>\n",
       "      <td>столовая</td>\n",
       "      <td>город Москва, Абрамцевская улица, дом 15, корп...</td>\n",
       "      <td>240</td>\n",
       "    </tr>\n",
       "    <tr>\n",
       "      <th>6</th>\n",
       "      <td>148815</td>\n",
       "      <td>Брусника</td>\n",
       "      <td>да</td>\n",
       "      <td>кафе</td>\n",
       "      <td>город Москва, переулок Сивцев Вражек, дом 6/2</td>\n",
       "      <td>10</td>\n",
       "    </tr>\n",
       "    <tr>\n",
       "      <th>7</th>\n",
       "      <td>20957</td>\n",
       "      <td>Буфет МТУСИ</td>\n",
       "      <td>нет</td>\n",
       "      <td>столовая</td>\n",
       "      <td>город Москва, Авиамоторная улица, дом 8, строе...</td>\n",
       "      <td>90</td>\n",
       "    </tr>\n",
       "    <tr>\n",
       "      <th>8</th>\n",
       "      <td>20958</td>\n",
       "      <td>КПФ СЕМЬЯ-1</td>\n",
       "      <td>нет</td>\n",
       "      <td>столовая</td>\n",
       "      <td>город Москва, Авиамоторная улица, дом 8, строе...</td>\n",
       "      <td>150</td>\n",
       "    </tr>\n",
       "    <tr>\n",
       "      <th>9</th>\n",
       "      <td>28858</td>\n",
       "      <td>Столовая МТУСИ</td>\n",
       "      <td>нет</td>\n",
       "      <td>столовая</td>\n",
       "      <td>город Москва, Авиамоторная улица, дом 8, строе...</td>\n",
       "      <td>120</td>\n",
       "    </tr>\n",
       "    <tr>\n",
       "      <th>10</th>\n",
       "      <td>148595</td>\n",
       "      <td>Пекарня 24</td>\n",
       "      <td>нет</td>\n",
       "      <td>закусочная</td>\n",
       "      <td>город Москва, Авиамоторная улица, дом 47</td>\n",
       "      <td>5</td>\n",
       "    </tr>\n",
       "    <tr>\n",
       "      <th>11</th>\n",
       "      <td>23394</td>\n",
       "      <td>Гогиели</td>\n",
       "      <td>нет</td>\n",
       "      <td>кафе</td>\n",
       "      <td>город Москва, Авиамоторная улица, дом 49/1</td>\n",
       "      <td>24</td>\n",
       "    </tr>\n",
       "    <tr>\n",
       "      <th>12</th>\n",
       "      <td>28582</td>\n",
       "      <td>ШКОЛА 735</td>\n",
       "      <td>нет</td>\n",
       "      <td>столовая</td>\n",
       "      <td>город Москва, Авиамоторная улица, дом 51</td>\n",
       "      <td>140</td>\n",
       "    </tr>\n",
       "    <tr>\n",
       "      <th>13</th>\n",
       "      <td>22579</td>\n",
       "      <td>Алло Пицца</td>\n",
       "      <td>да</td>\n",
       "      <td>кафе</td>\n",
       "      <td>город Москва, улица Авиаторов, дом 14</td>\n",
       "      <td>32</td>\n",
       "    </tr>\n",
       "    <tr>\n",
       "      <th>14</th>\n",
       "      <td>23670</td>\n",
       "      <td>Гимназия 1542</td>\n",
       "      <td>нет</td>\n",
       "      <td>столовая</td>\n",
       "      <td>город Москва, улица Авиаторов, дом 16</td>\n",
       "      <td>270</td>\n",
       "    </tr>\n",
       "    <tr>\n",
       "      <th>15</th>\n",
       "      <td>23663</td>\n",
       "      <td>Школа 1011</td>\n",
       "      <td>нет</td>\n",
       "      <td>столовая</td>\n",
       "      <td>город Москва, улица Авиаторов, дом 18</td>\n",
       "      <td>320</td>\n",
       "    </tr>\n",
       "    <tr>\n",
       "      <th>16</th>\n",
       "      <td>144107</td>\n",
       "      <td>Суши Wok</td>\n",
       "      <td>да</td>\n",
       "      <td>предприятие быстрого обслуживания</td>\n",
       "      <td>город Москва, Азовская улица, дом 3</td>\n",
       "      <td>7</td>\n",
       "    </tr>\n",
       "    <tr>\n",
       "      <th>17</th>\n",
       "      <td>154654</td>\n",
       "      <td>Донер Кебаб</td>\n",
       "      <td>нет</td>\n",
       "      <td>предприятие быстрого обслуживания</td>\n",
       "      <td>город Москва, Азовская улица, дом 4</td>\n",
       "      <td>2</td>\n",
       "    </tr>\n",
       "    <tr>\n",
       "      <th>18</th>\n",
       "      <td>58565</td>\n",
       "      <td>Тануки</td>\n",
       "      <td>да</td>\n",
       "      <td>ресторан</td>\n",
       "      <td>город Москва, Большая Академическая улица, дом 65</td>\n",
       "      <td>160</td>\n",
       "    </tr>\n",
       "    <tr>\n",
       "      <th>19</th>\n",
       "      <td>153644</td>\n",
       "      <td>Американская Лаборатория Десертов</td>\n",
       "      <td>нет</td>\n",
       "      <td>кафе</td>\n",
       "      <td>город Москва, Филипповский переулок, дом 15/5</td>\n",
       "      <td>20</td>\n",
       "    </tr>\n",
       "  </tbody>\n",
       "</table>\n",
       "</div>"
      ],
      "text/plain": [
       "        id                        object_name chain  \\\n",
       "0   151635                            СМЕТАНА   нет   \n",
       "1    77874                             Родник   нет   \n",
       "2    24309                    Кафе «Академия»   нет   \n",
       "3    21894                         ПИЦЦЕТОРИЯ    да   \n",
       "4   119365             Кафе «Вишневая метель»   нет   \n",
       "5    27429           СТОЛ. ПРИ ГОУ СОШ № 1051   нет   \n",
       "6   148815                           Брусника    да   \n",
       "7    20957                        Буфет МТУСИ   нет   \n",
       "8    20958                        КПФ СЕМЬЯ-1   нет   \n",
       "9    28858                     Столовая МТУСИ   нет   \n",
       "10  148595                         Пекарня 24   нет   \n",
       "11   23394                            Гогиели   нет   \n",
       "12   28582                          ШКОЛА 735   нет   \n",
       "13   22579                         Алло Пицца    да   \n",
       "14   23670                      Гимназия 1542   нет   \n",
       "15   23663                         Школа 1011   нет   \n",
       "16  144107                           Суши Wok    да   \n",
       "17  154654                        Донер Кебаб   нет   \n",
       "18   58565                             Тануки    да   \n",
       "19  153644  Американская Лаборатория Десертов   нет   \n",
       "\n",
       "                          object_type  \\\n",
       "0                                кафе   \n",
       "1                                кафе   \n",
       "2                                кафе   \n",
       "3                                кафе   \n",
       "4                                кафе   \n",
       "5                            столовая   \n",
       "6                                кафе   \n",
       "7                            столовая   \n",
       "8                            столовая   \n",
       "9                            столовая   \n",
       "10                         закусочная   \n",
       "11                               кафе   \n",
       "12                           столовая   \n",
       "13                               кафе   \n",
       "14                           столовая   \n",
       "15                           столовая   \n",
       "16  предприятие быстрого обслуживания   \n",
       "17  предприятие быстрого обслуживания   \n",
       "18                           ресторан   \n",
       "19                               кафе   \n",
       "\n",
       "                                              address  number  \n",
       "0          город Москва, улица Егора Абакумова, дом 9      48  \n",
       "1   город Москва, улица Талалихина, дом 2/1, корпус 1      35  \n",
       "2           город Москва, Абельмановская улица, дом 6      95  \n",
       "3             город Москва, Абрамцевская улица, дом 1      40  \n",
       "4   город Москва, Абрамцевская улица, дом 9, корпус 1      50  \n",
       "5   город Москва, Абрамцевская улица, дом 15, корп...     240  \n",
       "6       город Москва, переулок Сивцев Вражек, дом 6/2      10  \n",
       "7   город Москва, Авиамоторная улица, дом 8, строе...      90  \n",
       "8   город Москва, Авиамоторная улица, дом 8, строе...     150  \n",
       "9   город Москва, Авиамоторная улица, дом 8, строе...     120  \n",
       "10           город Москва, Авиамоторная улица, дом 47       5  \n",
       "11         город Москва, Авиамоторная улица, дом 49/1      24  \n",
       "12           город Москва, Авиамоторная улица, дом 51     140  \n",
       "13              город Москва, улица Авиаторов, дом 14      32  \n",
       "14              город Москва, улица Авиаторов, дом 16     270  \n",
       "15              город Москва, улица Авиаторов, дом 18     320  \n",
       "16                город Москва, Азовская улица, дом 3       7  \n",
       "17                город Москва, Азовская улица, дом 4       2  \n",
       "18  город Москва, Большая Академическая улица, дом 65     160  \n",
       "19      город Москва, Филипповский переулок, дом 15/5      20  "
      ]
     },
     "execution_count": 2,
     "metadata": {},
     "output_type": "execute_result"
    }
   ],
   "source": [
    "rest_data = pd.read_csv('/datasets/rest_data.csv')\n",
    "rest_data.head(20)"
   ]
  },
  {
   "cell_type": "code",
   "execution_count": 3,
   "metadata": {},
   "outputs": [
    {
     "name": "stdout",
     "output_type": "stream",
     "text": [
      "<class 'pandas.core.frame.DataFrame'>\n",
      "RangeIndex: 15366 entries, 0 to 15365\n",
      "Data columns (total 6 columns):\n",
      " #   Column       Non-Null Count  Dtype \n",
      "---  ------       --------------  ----- \n",
      " 0   id           15366 non-null  int64 \n",
      " 1   object_name  15366 non-null  object\n",
      " 2   chain        15366 non-null  object\n",
      " 3   object_type  15366 non-null  object\n",
      " 4   address      15366 non-null  object\n",
      " 5   number       15366 non-null  int64 \n",
      "dtypes: int64(2), object(4)\n",
      "memory usage: 720.4+ KB\n"
     ]
    }
   ],
   "source": [
    "rest_data.info()"
   ]
  },
  {
   "cell_type": "markdown",
   "metadata": {},
   "source": [
    "Таблица содержит следующие данные:\n",
    "   - столбец `id` — идентификатор объекта;\n",
    "   - столбец `object_name` — название объекта общественного питания;\n",
    "   - столбец `chain` — сетевой ресторан;\n",
    "   - столбец `object_type` — тип объекта общественного питания;\n",
    "   - столбец `address` — адрес;\n",
    "   - столбец `number` — количество посадочных мест.\n",
    "   \n",
    " В таблице 15366 строк, незаполненных значений нет. Типы данных столбцов соответствуют хранящимсяя в них сведениям. \n",
    " \n",
    " В записи названий заведений нет единого принципа. Используются разные регистры, где-то имеются кавычки и сокращения, где-то нет, также в каких-то ячейках записан по-мимо названия еще и тип заведения. Можно предположить, что данный столбец содержит множество неявных дубликатов. Единого принципа записи данных нет и в столбце с адресами заведений.\n",
    " \n",
    " "
   ]
  },
  {
   "cell_type": "markdown",
   "metadata": {},
   "source": [
    "**Таблица с улицами и районами Москвы из внешнего источника**"
   ]
  },
  {
   "cell_type": "code",
   "execution_count": 4,
   "metadata": {},
   "outputs": [],
   "source": [
    "spreadsheet_id = '11Yn1pFgqzclJ90FY-0V0JseT2WH15PCTcjZW67AkU-Q'\n",
    "file_name = 'https://docs.google.com/spreadsheets/d/{}/export?format=csv'.format(spreadsheet_id)\n",
    "r = requests.get(file_name)\n",
    "moscow_streets = pd.read_csv(BytesIO(r.content))"
   ]
  },
  {
   "cell_type": "code",
   "execution_count": 5,
   "metadata": {},
   "outputs": [
    {
     "data": {
      "text/html": [
       "<div>\n",
       "<style scoped>\n",
       "    .dataframe tbody tr th:only-of-type {\n",
       "        vertical-align: middle;\n",
       "    }\n",
       "\n",
       "    .dataframe tbody tr th {\n",
       "        vertical-align: top;\n",
       "    }\n",
       "\n",
       "    .dataframe thead th {\n",
       "        text-align: right;\n",
       "    }\n",
       "</style>\n",
       "<table border=\"1\" class=\"dataframe\">\n",
       "  <thead>\n",
       "    <tr style=\"text-align: right;\">\n",
       "      <th></th>\n",
       "      <th>streetname</th>\n",
       "      <th>areaid</th>\n",
       "      <th>okrug</th>\n",
       "      <th>area</th>\n",
       "    </tr>\n",
       "  </thead>\n",
       "  <tbody>\n",
       "    <tr>\n",
       "      <th>0</th>\n",
       "      <td>Выставочный переулок</td>\n",
       "      <td>17</td>\n",
       "      <td>ЦАО</td>\n",
       "      <td>Пресненский район</td>\n",
       "    </tr>\n",
       "    <tr>\n",
       "      <th>1</th>\n",
       "      <td>улица Гашека</td>\n",
       "      <td>17</td>\n",
       "      <td>ЦАО</td>\n",
       "      <td>Пресненский район</td>\n",
       "    </tr>\n",
       "    <tr>\n",
       "      <th>2</th>\n",
       "      <td>Большая Никитская улица</td>\n",
       "      <td>17</td>\n",
       "      <td>ЦАО</td>\n",
       "      <td>Пресненский район</td>\n",
       "    </tr>\n",
       "    <tr>\n",
       "      <th>3</th>\n",
       "      <td>Глубокий переулок</td>\n",
       "      <td>17</td>\n",
       "      <td>ЦАО</td>\n",
       "      <td>Пресненский район</td>\n",
       "    </tr>\n",
       "    <tr>\n",
       "      <th>4</th>\n",
       "      <td>Большой Гнездниковский переулок</td>\n",
       "      <td>17</td>\n",
       "      <td>ЦАО</td>\n",
       "      <td>Пресненский район</td>\n",
       "    </tr>\n",
       "  </tbody>\n",
       "</table>\n",
       "</div>"
      ],
      "text/plain": [
       "                        streetname  areaid okrug               area\n",
       "0             Выставочный переулок      17   ЦАО  Пресненский район\n",
       "1                     улица Гашека      17   ЦАО  Пресненский район\n",
       "2          Большая Никитская улица      17   ЦАО  Пресненский район\n",
       "3                Глубокий переулок      17   ЦАО  Пресненский район\n",
       "4  Большой Гнездниковский переулок      17   ЦАО  Пресненский район"
      ]
     },
     "execution_count": 5,
     "metadata": {},
     "output_type": "execute_result"
    }
   ],
   "source": [
    "moscow_streets.head()"
   ]
  },
  {
   "cell_type": "markdown",
   "metadata": {},
   "source": [
    "## Предобработка данных"
   ]
  },
  {
   "cell_type": "markdown",
   "metadata": {},
   "source": [
    "Проверим на наличие полных дубликатов строк"
   ]
  },
  {
   "cell_type": "code",
   "execution_count": 6,
   "metadata": {},
   "outputs": [
    {
     "name": "stdout",
     "output_type": "stream",
     "text": [
      "Полных дубликатов строк нет\n"
     ]
    }
   ],
   "source": [
    "if rest_data.duplicated().sum()== 0:\n",
    "    print('Полных дубликатов строк нет')\n",
    "else:\n",
    "    print('Количество полных дубликатов строк', rest_data.duplicated().sum())"
   ]
  },
  {
   "cell_type": "markdown",
   "metadata": {},
   "source": [
    "Проверим данные по столбцам\n",
    "\n",
    "**Столбец `id`**"
   ]
  },
  {
   "cell_type": "code",
   "execution_count": 7,
   "metadata": {},
   "outputs": [
    {
     "name": "stdout",
     "output_type": "stream",
     "text": [
      "Столбец не содержит дубликатов\n"
     ]
    }
   ],
   "source": [
    "if rest_data['id'].duplicated().sum()== 0:\n",
    "    print('Столбец не содержит дубликатов')\n",
    "else:\n",
    "    print('Количество дубликатов значений в столбце', rest_data.duplicated().sum())"
   ]
  },
  {
   "cell_type": "markdown",
   "metadata": {},
   "source": [
    "**Столбец `chain`**\n",
    "\n",
    "Посмотрим на уникальные значения этого столбца"
   ]
  },
  {
   "cell_type": "code",
   "execution_count": 8,
   "metadata": {},
   "outputs": [
    {
     "data": {
      "text/plain": [
       "array(['нет', 'да'], dtype=object)"
      ]
     },
     "execution_count": 8,
     "metadata": {},
     "output_type": "execute_result"
    }
   ],
   "source": [
    "rest_data['chain'].unique()"
   ]
  },
  {
   "cell_type": "markdown",
   "metadata": {},
   "source": [
    "Столбец заполнен корректно"
   ]
  },
  {
   "cell_type": "markdown",
   "metadata": {},
   "source": [
    "**Столбец `object_name`**\n",
    "\n",
    "Приведем все записи с названиями заведений к единому регистру"
   ]
  },
  {
   "cell_type": "code",
   "execution_count": 9,
   "metadata": {},
   "outputs": [
    {
     "name": "stdout",
     "output_type": "stream",
     "text": [
      "Количество уникальных значений в столбце `object_name`перед обработкой 10393\n",
      "Количество уникальных значений в столбце `object_name` после обработки 9924\n"
     ]
    }
   ],
   "source": [
    "print('Количество уникальных значений в столбце `object_name`перед обработкой', rest_data['object_name'].nunique())\n",
    "rest_data['object_name'] = rest_data['object_name'].str.lower()\n",
    "print('Количество уникальных значений в столбце `object_name` после обработки', rest_data['object_name'].nunique())"
   ]
  },
  {
   "cell_type": "markdown",
   "metadata": {},
   "source": [
    "Уберем из названий заведений кавычки и слова дублирующие их тип (кафе, ресторан и т.д.)\n",
    "\n",
    "Для этого напишем функцию и применим ее"
   ]
  },
  {
   "cell_type": "code",
   "execution_count": 10,
   "metadata": {},
   "outputs": [
    {
     "name": "stdout",
     "output_type": "stream",
     "text": [
      "Количество уникальных значений в столбце `object_name` перед обработкой 9924\n",
      "Количество уникальных значений в столбце `object_name` после обработки 9085\n"
     ]
    }
   ],
   "source": [
    "print('Количество уникальных значений в столбце `object_name` перед обработкой', rest_data['object_name'].nunique())\n",
    "\n",
    "# дополнительно заменим \"-\" на пробел\n",
    "rest_data['object_name'] = rest_data['object_name'].str.replace('-', ' ')\n",
    "\n",
    "# Функция для удаления типа заведения из названия\n",
    "def replace_object_name(wrong_names):    \n",
    "        for wrong_name in wrong_names:\n",
    "            rest_data['object_name'] = rest_data['object_name'].str.replace(wrong_name, '').str.strip()\n",
    "        \n",
    "        \n",
    "# список слов, которые нужно удалить из значений в столбце         \n",
    "duplicates = ['«', '»', ',', 'кафе ','столовая ', 'закусочная ',\n",
    "              ' предприятие быстрого обслуживания ', 'ресторан ',\n",
    "              'кафетерий ', 'буфет ', 'бар ',\n",
    "              'кофейня ', 'пиццерия ', 'пекарня ', 'кондитерская ',\n",
    "              ' быстрого питания ', ' быстрого питания'\n",
    "              'пбо ', ' пбо', ' кафе', ' бар', 'паб ', ' паб',\n",
    "              ' столовая', ' закусочная',\n",
    "              'предприятие быстрого обслуживания ', ' ресторан',\n",
    "              ' кафетерий', ' буфет',' кофейня', ' пиццерия',\n",
    "              ' пекарня', ' кондитерская', 'быстрого питания '              \n",
    "              \n",
    "             ]\n",
    "\n",
    "# вызов функции\n",
    "replace_object_name(duplicates)\n",
    "\n",
    "\n",
    "print('Количество уникальных значений в столбце `object_name` после обработки', rest_data['object_name'].nunique())\n"
   ]
  },
  {
   "cell_type": "markdown",
   "metadata": {},
   "source": [
    "Посмотрим, не появились ли незаполненные значения в столбце после обработки"
   ]
  },
  {
   "cell_type": "code",
   "execution_count": 11,
   "metadata": {},
   "outputs": [
    {
     "data": {
      "text/plain": [
       "0"
      ]
     },
     "execution_count": 11,
     "metadata": {},
     "output_type": "execute_result"
    }
   ],
   "source": [
    "rest_data['object_name'].isna().sum()"
   ]
  },
  {
   "cell_type": "code",
   "execution_count": 12,
   "metadata": {
    "scrolled": true
   },
   "outputs": [
    {
     "data": {
      "text/html": [
       "<div>\n",
       "<style scoped>\n",
       "    .dataframe tbody tr th:only-of-type {\n",
       "        vertical-align: middle;\n",
       "    }\n",
       "\n",
       "    .dataframe tbody tr th {\n",
       "        vertical-align: top;\n",
       "    }\n",
       "\n",
       "    .dataframe thead th {\n",
       "        text-align: right;\n",
       "    }\n",
       "</style>\n",
       "<table border=\"1\" class=\"dataframe\">\n",
       "  <thead>\n",
       "    <tr style=\"text-align: right;\">\n",
       "      <th></th>\n",
       "      <th>id</th>\n",
       "      <th>object_name</th>\n",
       "      <th>chain</th>\n",
       "      <th>object_type</th>\n",
       "      <th>address</th>\n",
       "      <th>number</th>\n",
       "    </tr>\n",
       "  </thead>\n",
       "  <tbody>\n",
       "    <tr>\n",
       "      <th>0</th>\n",
       "      <td>151635</td>\n",
       "      <td>сметана</td>\n",
       "      <td>нет</td>\n",
       "      <td>кафе</td>\n",
       "      <td>город Москва, улица Егора Абакумова, дом 9</td>\n",
       "      <td>48</td>\n",
       "    </tr>\n",
       "    <tr>\n",
       "      <th>1</th>\n",
       "      <td>77874</td>\n",
       "      <td>родник</td>\n",
       "      <td>нет</td>\n",
       "      <td>кафе</td>\n",
       "      <td>город Москва, улица Талалихина, дом 2/1, корпус 1</td>\n",
       "      <td>35</td>\n",
       "    </tr>\n",
       "    <tr>\n",
       "      <th>2</th>\n",
       "      <td>24309</td>\n",
       "      <td>академия</td>\n",
       "      <td>нет</td>\n",
       "      <td>кафе</td>\n",
       "      <td>город Москва, Абельмановская улица, дом 6</td>\n",
       "      <td>95</td>\n",
       "    </tr>\n",
       "    <tr>\n",
       "      <th>3</th>\n",
       "      <td>21894</td>\n",
       "      <td>пиццетория</td>\n",
       "      <td>да</td>\n",
       "      <td>кафе</td>\n",
       "      <td>город Москва, Абрамцевская улица, дом 1</td>\n",
       "      <td>40</td>\n",
       "    </tr>\n",
       "    <tr>\n",
       "      <th>4</th>\n",
       "      <td>119365</td>\n",
       "      <td>вишневая метель</td>\n",
       "      <td>нет</td>\n",
       "      <td>кафе</td>\n",
       "      <td>город Москва, Абрамцевская улица, дом 9, корпус 1</td>\n",
       "      <td>50</td>\n",
       "    </tr>\n",
       "    <tr>\n",
       "      <th>5</th>\n",
       "      <td>27429</td>\n",
       "      <td>стол. при гоу сош № 1051</td>\n",
       "      <td>нет</td>\n",
       "      <td>столовая</td>\n",
       "      <td>город Москва, Абрамцевская улица, дом 15, корп...</td>\n",
       "      <td>240</td>\n",
       "    </tr>\n",
       "    <tr>\n",
       "      <th>6</th>\n",
       "      <td>148815</td>\n",
       "      <td>брусника</td>\n",
       "      <td>да</td>\n",
       "      <td>кафе</td>\n",
       "      <td>город Москва, переулок Сивцев Вражек, дом 6/2</td>\n",
       "      <td>10</td>\n",
       "    </tr>\n",
       "    <tr>\n",
       "      <th>7</th>\n",
       "      <td>20957</td>\n",
       "      <td>мтуси</td>\n",
       "      <td>нет</td>\n",
       "      <td>столовая</td>\n",
       "      <td>город Москва, Авиамоторная улица, дом 8, строе...</td>\n",
       "      <td>90</td>\n",
       "    </tr>\n",
       "    <tr>\n",
       "      <th>8</th>\n",
       "      <td>20958</td>\n",
       "      <td>кпф семья 1</td>\n",
       "      <td>нет</td>\n",
       "      <td>столовая</td>\n",
       "      <td>город Москва, Авиамоторная улица, дом 8, строе...</td>\n",
       "      <td>150</td>\n",
       "    </tr>\n",
       "    <tr>\n",
       "      <th>9</th>\n",
       "      <td>28858</td>\n",
       "      <td>мтуси</td>\n",
       "      <td>нет</td>\n",
       "      <td>столовая</td>\n",
       "      <td>город Москва, Авиамоторная улица, дом 8, строе...</td>\n",
       "      <td>120</td>\n",
       "    </tr>\n",
       "  </tbody>\n",
       "</table>\n",
       "</div>"
      ],
      "text/plain": [
       "       id               object_name chain object_type  \\\n",
       "0  151635                   сметана   нет        кафе   \n",
       "1   77874                    родник   нет        кафе   \n",
       "2   24309                  академия   нет        кафе   \n",
       "3   21894                пиццетория    да        кафе   \n",
       "4  119365           вишневая метель   нет        кафе   \n",
       "5   27429  стол. при гоу сош № 1051   нет    столовая   \n",
       "6  148815                  брусника    да        кафе   \n",
       "7   20957                     мтуси   нет    столовая   \n",
       "8   20958               кпф семья 1   нет    столовая   \n",
       "9   28858                     мтуси   нет    столовая   \n",
       "\n",
       "                                             address  number  \n",
       "0         город Москва, улица Егора Абакумова, дом 9      48  \n",
       "1  город Москва, улица Талалихина, дом 2/1, корпус 1      35  \n",
       "2          город Москва, Абельмановская улица, дом 6      95  \n",
       "3            город Москва, Абрамцевская улица, дом 1      40  \n",
       "4  город Москва, Абрамцевская улица, дом 9, корпус 1      50  \n",
       "5  город Москва, Абрамцевская улица, дом 15, корп...     240  \n",
       "6      город Москва, переулок Сивцев Вражек, дом 6/2      10  \n",
       "7  город Москва, Авиамоторная улица, дом 8, строе...      90  \n",
       "8  город Москва, Авиамоторная улица, дом 8, строе...     150  \n",
       "9  город Москва, Авиамоторная улица, дом 8, строе...     120  "
      ]
     },
     "execution_count": 12,
     "metadata": {},
     "output_type": "execute_result"
    }
   ],
   "source": [
    "rest_data.head(10)"
   ]
  },
  {
   "cell_type": "markdown",
   "metadata": {},
   "source": [
    "Посмотрим на названия сетей."
   ]
  },
  {
   "cell_type": "code",
   "execution_count": 13,
   "metadata": {
    "scrolled": false
   },
   "outputs": [
    {
     "name": "stdout",
     "output_type": "stream",
     "text": [
      "Всего сетевых заведений 2968\n",
      "Всего сетей c одним заведением 214\n"
     ]
    },
    {
     "data": {
      "text/html": [
       "<div>\n",
       "<style scoped>\n",
       "    .dataframe tbody tr th:only-of-type {\n",
       "        vertical-align: middle;\n",
       "    }\n",
       "\n",
       "    .dataframe tbody tr th {\n",
       "        vertical-align: top;\n",
       "    }\n",
       "\n",
       "    .dataframe thead th {\n",
       "        text-align: right;\n",
       "    }\n",
       "</style>\n",
       "<table border=\"1\" class=\"dataframe\">\n",
       "  <thead>\n",
       "    <tr style=\"text-align: right;\">\n",
       "      <th></th>\n",
       "      <th>object_name</th>\n",
       "      <th>id</th>\n",
       "    </tr>\n",
       "  </thead>\n",
       "  <tbody>\n",
       "    <tr>\n",
       "      <th>402</th>\n",
       "      <td>шоколадница</td>\n",
       "      <td>183</td>\n",
       "    </tr>\n",
       "    <tr>\n",
       "      <th>25</th>\n",
       "      <td>kfc</td>\n",
       "      <td>176</td>\n",
       "    </tr>\n",
       "    <tr>\n",
       "      <th>224</th>\n",
       "      <td>макдоналдс</td>\n",
       "      <td>171</td>\n",
       "    </tr>\n",
       "    <tr>\n",
       "      <th>104</th>\n",
       "      <td>бургер кинг</td>\n",
       "      <td>152</td>\n",
       "    </tr>\n",
       "    <tr>\n",
       "      <th>358</th>\n",
       "      <td>теремок</td>\n",
       "      <td>108</td>\n",
       "    </tr>\n",
       "    <tr>\n",
       "      <th>155</th>\n",
       "      <td>домино'с пицца</td>\n",
       "      <td>98</td>\n",
       "    </tr>\n",
       "    <tr>\n",
       "      <th>205</th>\n",
       "      <td>крошка картошка</td>\n",
       "      <td>95</td>\n",
       "    </tr>\n",
       "    <tr>\n",
       "      <th>343</th>\n",
       "      <td>суши wok</td>\n",
       "      <td>75</td>\n",
       "    </tr>\n",
       "    <tr>\n",
       "      <th>234</th>\n",
       "      <td>милти</td>\n",
       "      <td>75</td>\n",
       "    </tr>\n",
       "    <tr>\n",
       "      <th>262</th>\n",
       "      <td>папа джонс</td>\n",
       "      <td>65</td>\n",
       "    </tr>\n",
       "    <tr>\n",
       "      <th>153</th>\n",
       "      <td>додо пицца</td>\n",
       "      <td>54</td>\n",
       "    </tr>\n",
       "    <tr>\n",
       "      <th>390</th>\n",
       "      <td>чайхона №1</td>\n",
       "      <td>49</td>\n",
       "    </tr>\n",
       "    <tr>\n",
       "      <th>408</th>\n",
       "      <td>якитория</td>\n",
       "      <td>48</td>\n",
       "    </tr>\n",
       "    <tr>\n",
       "      <th>192</th>\n",
       "      <td>кофе с собой</td>\n",
       "      <td>47</td>\n",
       "    </tr>\n",
       "    <tr>\n",
       "      <th>354</th>\n",
       "      <td>тануки</td>\n",
       "      <td>47</td>\n",
       "    </tr>\n",
       "    <tr>\n",
       "      <th>380</th>\n",
       "      <td>хинкальная</td>\n",
       "      <td>43</td>\n",
       "    </tr>\n",
       "    <tr>\n",
       "      <th>195</th>\n",
       "      <td>кофе хаус</td>\n",
       "      <td>42</td>\n",
       "    </tr>\n",
       "    <tr>\n",
       "      <th>52</th>\n",
       "      <td>subway</td>\n",
       "      <td>37</td>\n",
       "    </tr>\n",
       "    <tr>\n",
       "      <th>168</th>\n",
       "      <td>иль патио</td>\n",
       "      <td>34</td>\n",
       "    </tr>\n",
       "    <tr>\n",
       "      <th>384</th>\n",
       "      <td>хлеб насущный</td>\n",
       "      <td>33</td>\n",
       "    </tr>\n",
       "    <tr>\n",
       "      <th>46</th>\n",
       "      <td>starbucks</td>\n",
       "      <td>32</td>\n",
       "    </tr>\n",
       "    <tr>\n",
       "      <th>244</th>\n",
       "      <td>му му</td>\n",
       "      <td>32</td>\n",
       "    </tr>\n",
       "    <tr>\n",
       "      <th>296</th>\n",
       "      <td>прайм стар</td>\n",
       "      <td>28</td>\n",
       "    </tr>\n",
       "    <tr>\n",
       "      <th>332</th>\n",
       "      <td>старбакс</td>\n",
       "      <td>27</td>\n",
       "    </tr>\n",
       "    <tr>\n",
       "      <th>248</th>\n",
       "      <td>мята lounge</td>\n",
       "      <td>25</td>\n",
       "    </tr>\n",
       "    <tr>\n",
       "      <th>79</th>\n",
       "      <td>андерсон</td>\n",
       "      <td>25</td>\n",
       "    </tr>\n",
       "    <tr>\n",
       "      <th>9</th>\n",
       "      <td>cofix</td>\n",
       "      <td>25</td>\n",
       "    </tr>\n",
       "    <tr>\n",
       "      <th>284</th>\n",
       "      <td>пицца хат</td>\n",
       "      <td>24</td>\n",
       "    </tr>\n",
       "    <tr>\n",
       "      <th>207</th>\n",
       "      <td>кулинарная лавка братьев караваевых</td>\n",
       "      <td>19</td>\n",
       "    </tr>\n",
       "    <tr>\n",
       "      <th>314</th>\n",
       "      <td>сабвей</td>\n",
       "      <td>19</td>\n",
       "    </tr>\n",
       "    <tr>\n",
       "      <th>206</th>\n",
       "      <td>кружка</td>\n",
       "      <td>19</td>\n",
       "    </tr>\n",
       "    <tr>\n",
       "      <th>294</th>\n",
       "      <td>прайм</td>\n",
       "      <td>17</td>\n",
       "    </tr>\n",
       "    <tr>\n",
       "      <th>280</th>\n",
       "      <td>пицца паоло</td>\n",
       "      <td>17</td>\n",
       "    </tr>\n",
       "    <tr>\n",
       "      <th>350</th>\n",
       "      <td>сушишоп</td>\n",
       "      <td>17</td>\n",
       "    </tr>\n",
       "    <tr>\n",
       "      <th>120</th>\n",
       "      <td>волконский</td>\n",
       "      <td>17</td>\n",
       "    </tr>\n",
       "    <tr>\n",
       "      <th>406</th>\n",
       "      <td>штолле</td>\n",
       "      <td>17</td>\n",
       "    </tr>\n",
       "    <tr>\n",
       "      <th>198</th>\n",
       "      <td>кофемания</td>\n",
       "      <td>16</td>\n",
       "    </tr>\n",
       "    <tr>\n",
       "      <th>75</th>\n",
       "      <td>алло пицца</td>\n",
       "      <td>15</td>\n",
       "    </tr>\n",
       "    <tr>\n",
       "      <th>335</th>\n",
       "      <td>стардогs</td>\n",
       "      <td>15</td>\n",
       "    </tr>\n",
       "    <tr>\n",
       "      <th>88</th>\n",
       "      <td>баскин роббинс</td>\n",
       "      <td>14</td>\n",
       "    </tr>\n",
       "    <tr>\n",
       "      <th>346</th>\n",
       "      <td>суши сет</td>\n",
       "      <td>14</td>\n",
       "    </tr>\n",
       "    <tr>\n",
       "      <th>344</th>\n",
       "      <td>суши вок</td>\n",
       "      <td>14</td>\n",
       "    </tr>\n",
       "    <tr>\n",
       "      <th>151</th>\n",
       "      <td>джон джоли</td>\n",
       "      <td>13</td>\n",
       "    </tr>\n",
       "    <tr>\n",
       "      <th>187</th>\n",
       "      <td>корчма тарас бульба</td>\n",
       "      <td>12</td>\n",
       "    </tr>\n",
       "    <tr>\n",
       "      <th>110</th>\n",
       "      <td>ваби саби</td>\n",
       "      <td>12</td>\n",
       "    </tr>\n",
       "    <tr>\n",
       "      <th>112</th>\n",
       "      <td>вареничная №1</td>\n",
       "      <td>11</td>\n",
       "    </tr>\n",
       "    <tr>\n",
       "      <th>364</th>\n",
       "      <td>то да сё</td>\n",
       "      <td>11</td>\n",
       "    </tr>\n",
       "    <tr>\n",
       "      <th>131</th>\n",
       "      <td>грабли</td>\n",
       "      <td>10</td>\n",
       "    </tr>\n",
       "    <tr>\n",
       "      <th>371</th>\n",
       "      <td>урюк</td>\n",
       "      <td>10</td>\n",
       "    </tr>\n",
       "    <tr>\n",
       "      <th>253</th>\n",
       "      <td>нияма</td>\n",
       "      <td>9</td>\n",
       "    </tr>\n",
       "    <tr>\n",
       "      <th>119</th>\n",
       "      <td>воккер</td>\n",
       "      <td>9</td>\n",
       "    </tr>\n",
       "    <tr>\n",
       "      <th>170</th>\n",
       "      <td>иль патио планета суши</td>\n",
       "      <td>9</td>\n",
       "    </tr>\n",
       "    <tr>\n",
       "      <th>376</th>\n",
       "      <td>французская выпечка</td>\n",
       "      <td>9</td>\n",
       "    </tr>\n",
       "    <tr>\n",
       "      <th>285</th>\n",
       "      <td>пицца экспресс</td>\n",
       "      <td>9</td>\n",
       "    </tr>\n",
       "    <tr>\n",
       "      <th>100</th>\n",
       "      <td>братья караваевы</td>\n",
       "      <td>9</td>\n",
       "    </tr>\n",
       "    <tr>\n",
       "      <th>12</th>\n",
       "      <td>costa coffee</td>\n",
       "      <td>8</td>\n",
       "    </tr>\n",
       "    <tr>\n",
       "      <th>103</th>\n",
       "      <td>брусника</td>\n",
       "      <td>8</td>\n",
       "    </tr>\n",
       "    <tr>\n",
       "      <th>305</th>\n",
       "      <td>пронто</td>\n",
       "      <td>8</td>\n",
       "    </tr>\n",
       "    <tr>\n",
       "      <th>312</th>\n",
       "      <td>ростикс kfc</td>\n",
       "      <td>8</td>\n",
       "    </tr>\n",
       "    <tr>\n",
       "      <th>185</th>\n",
       "      <td>колбасофф</td>\n",
       "      <td>8</td>\n",
       "    </tr>\n",
       "  </tbody>\n",
       "</table>\n",
       "</div>"
      ],
      "text/plain": [
       "                             object_name   id\n",
       "402                          шоколадница  183\n",
       "25                                   kfc  176\n",
       "224                           макдоналдс  171\n",
       "104                          бургер кинг  152\n",
       "358                              теремок  108\n",
       "155                       домино'с пицца   98\n",
       "205                      крошка картошка   95\n",
       "343                             суши wok   75\n",
       "234                                милти   75\n",
       "262                           папа джонс   65\n",
       "153                           додо пицца   54\n",
       "390                           чайхона №1   49\n",
       "408                             якитория   48\n",
       "192                         кофе с собой   47\n",
       "354                               тануки   47\n",
       "380                           хинкальная   43\n",
       "195                            кофе хаус   42\n",
       "52                                subway   37\n",
       "168                            иль патио   34\n",
       "384                        хлеб насущный   33\n",
       "46                             starbucks   32\n",
       "244                                му му   32\n",
       "296                           прайм стар   28\n",
       "332                             старбакс   27\n",
       "248                          мята lounge   25\n",
       "79                              андерсон   25\n",
       "9                                  cofix   25\n",
       "284                            пицца хат   24\n",
       "207  кулинарная лавка братьев караваевых   19\n",
       "314                               сабвей   19\n",
       "206                               кружка   19\n",
       "294                                прайм   17\n",
       "280                          пицца паоло   17\n",
       "350                              сушишоп   17\n",
       "120                           волконский   17\n",
       "406                               штолле   17\n",
       "198                            кофемания   16\n",
       "75                            алло пицца   15\n",
       "335                             стардогs   15\n",
       "88                        баскин роббинс   14\n",
       "346                             суши сет   14\n",
       "344                             суши вок   14\n",
       "151                           джон джоли   13\n",
       "187                  корчма тарас бульба   12\n",
       "110                            ваби саби   12\n",
       "112                        вареничная №1   11\n",
       "364                             то да сё   11\n",
       "131                               грабли   10\n",
       "371                                 урюк   10\n",
       "253                                нияма    9\n",
       "119                               воккер    9\n",
       "170               иль патио планета суши    9\n",
       "376                  французская выпечка    9\n",
       "285                       пицца экспресс    9\n",
       "100                     братья караваевы    9\n",
       "12                          costa coffee    8\n",
       "103                             брусника    8\n",
       "305                               пронто    8\n",
       "312                          ростикс kfc    8\n",
       "185                            колбасофф    8"
      ]
     },
     "execution_count": 13,
     "metadata": {},
     "output_type": "execute_result"
    }
   ],
   "source": [
    "chain =(\n",
    "    rest_data.query('chain == \"да\"')\n",
    "    .groupby('object_name')\n",
    "    .agg({'id': 'count'})\n",
    "    .reset_index()\n",
    "    .sort_values(by='id', ascending=False)\n",
    ")\n",
    "print('Всего сетевых заведений', chain['id'].sum())\n",
    "print('Всего сетей c одним заведением', chain.query('id == 1')['id'].sum())\n",
    "chain.head(60)"
   ]
  },
  {
   "cell_type": "markdown",
   "metadata": {},
   "source": [
    "Посмотрим на сетевые заведения, выбранные случайным образом."
   ]
  },
  {
   "cell_type": "code",
   "execution_count": 14,
   "metadata": {},
   "outputs": [
    {
     "data": {
      "text/html": [
       "<div>\n",
       "<style scoped>\n",
       "    .dataframe tbody tr th:only-of-type {\n",
       "        vertical-align: middle;\n",
       "    }\n",
       "\n",
       "    .dataframe tbody tr th {\n",
       "        vertical-align: top;\n",
       "    }\n",
       "\n",
       "    .dataframe thead th {\n",
       "        text-align: right;\n",
       "    }\n",
       "</style>\n",
       "<table border=\"1\" class=\"dataframe\">\n",
       "  <thead>\n",
       "    <tr style=\"text-align: right;\">\n",
       "      <th></th>\n",
       "      <th>object_name</th>\n",
       "      <th>id</th>\n",
       "    </tr>\n",
       "  </thead>\n",
       "  <tbody>\n",
       "    <tr>\n",
       "      <th>268</th>\n",
       "      <td>перекресток</td>\n",
       "      <td>1</td>\n",
       "    </tr>\n",
       "    <tr>\n",
       "      <th>246</th>\n",
       "      <td>мясоroob</td>\n",
       "      <td>2</td>\n",
       "    </tr>\n",
       "    <tr>\n",
       "      <th>260</th>\n",
       "      <td>павлин мавлин чайхона №1</td>\n",
       "      <td>1</td>\n",
       "    </tr>\n",
       "    <tr>\n",
       "      <th>100</th>\n",
       "      <td>братья караваевы</td>\n",
       "      <td>9</td>\n",
       "    </tr>\n",
       "    <tr>\n",
       "      <th>109</th>\n",
       "      <td>вlack burger чайхона №1</td>\n",
       "      <td>1</td>\n",
       "    </tr>\n",
       "    <tr>\n",
       "      <th>274</th>\n",
       "      <td>пироги штолле</td>\n",
       "      <td>1</td>\n",
       "    </tr>\n",
       "    <tr>\n",
       "      <th>120</th>\n",
       "      <td>волконский</td>\n",
       "      <td>17</td>\n",
       "    </tr>\n",
       "    <tr>\n",
       "      <th>226</th>\n",
       "      <td>макс бреннер</td>\n",
       "      <td>1</td>\n",
       "    </tr>\n",
       "    <tr>\n",
       "      <th>227</th>\n",
       "      <td>марукамэ</td>\n",
       "      <td>1</td>\n",
       "    </tr>\n",
       "    <tr>\n",
       "      <th>390</th>\n",
       "      <td>чайхона №1</td>\n",
       "      <td>49</td>\n",
       "    </tr>\n",
       "    <tr>\n",
       "      <th>236</th>\n",
       "      <td>мимино хинкальная</td>\n",
       "      <td>1</td>\n",
       "    </tr>\n",
       "    <tr>\n",
       "      <th>39</th>\n",
       "      <td>panda express</td>\n",
       "      <td>1</td>\n",
       "    </tr>\n",
       "    <tr>\n",
       "      <th>183</th>\n",
       "      <td>квартира 44</td>\n",
       "      <td>2</td>\n",
       "    </tr>\n",
       "    <tr>\n",
       "      <th>389</th>\n",
       "      <td>чайхана урюк</td>\n",
       "      <td>1</td>\n",
       "    </tr>\n",
       "    <tr>\n",
       "      <th>276</th>\n",
       "      <td>пиу дель чибо</td>\n",
       "      <td>1</td>\n",
       "    </tr>\n",
       "    <tr>\n",
       "      <th>51</th>\n",
       "      <td>starlite diner</td>\n",
       "      <td>2</td>\n",
       "    </tr>\n",
       "    <tr>\n",
       "      <th>161</th>\n",
       "      <td>жан жак</td>\n",
       "      <td>5</td>\n",
       "    </tr>\n",
       "    <tr>\n",
       "      <th>243</th>\n",
       "      <td>мск московская сеть кальянных на шаболовке</td>\n",
       "      <td>1</td>\n",
       "    </tr>\n",
       "    <tr>\n",
       "      <th>306</th>\n",
       "      <td>простые вещи</td>\n",
       "      <td>3</td>\n",
       "    </tr>\n",
       "    <tr>\n",
       "      <th>365</th>\n",
       "      <td>торнадо</td>\n",
       "      <td>1</td>\n",
       "    </tr>\n",
       "    <tr>\n",
       "      <th>21</th>\n",
       "      <td>grand урюк</td>\n",
       "      <td>1</td>\n",
       "    </tr>\n",
       "    <tr>\n",
       "      <th>319</th>\n",
       "      <td>сварня</td>\n",
       "      <td>3</td>\n",
       "    </tr>\n",
       "    <tr>\n",
       "      <th>233</th>\n",
       "      <td>милано пицца</td>\n",
       "      <td>1</td>\n",
       "    </tr>\n",
       "    <tr>\n",
       "      <th>63</th>\n",
       "      <td>upside down</td>\n",
       "      <td>1</td>\n",
       "    </tr>\n",
       "    <tr>\n",
       "      <th>121</th>\n",
       "      <td>восточный базар</td>\n",
       "      <td>2</td>\n",
       "    </tr>\n",
       "    <tr>\n",
       "      <th>398</th>\n",
       "      <td>шашлык машлык</td>\n",
       "      <td>1</td>\n",
       "    </tr>\n",
       "    <tr>\n",
       "      <th>286</th>\n",
       "      <td>пиццетория</td>\n",
       "      <td>2</td>\n",
       "    </tr>\n",
       "    <tr>\n",
       "      <th>400</th>\n",
       "      <td>шикари иль патио</td>\n",
       "      <td>1</td>\n",
       "    </tr>\n",
       "    <tr>\n",
       "      <th>263</th>\n",
       "      <td>папа джонс пицца</td>\n",
       "      <td>1</td>\n",
       "    </tr>\n",
       "    <tr>\n",
       "      <th>191</th>\n",
       "      <td>кофе бин</td>\n",
       "      <td>3</td>\n",
       "    </tr>\n",
       "  </tbody>\n",
       "</table>\n",
       "</div>"
      ],
      "text/plain": [
       "                                    object_name  id\n",
       "268                                 перекресток   1\n",
       "246                                    мясоroob   2\n",
       "260                    павлин мавлин чайхона №1   1\n",
       "100                            братья караваевы   9\n",
       "109                     вlack burger чайхона №1   1\n",
       "274                               пироги штолле   1\n",
       "120                                  волконский  17\n",
       "226                                макс бреннер   1\n",
       "227                                    марукамэ   1\n",
       "390                                  чайхона №1  49\n",
       "236                           мимино хинкальная   1\n",
       "39                                panda express   1\n",
       "183                                 квартира 44   2\n",
       "389                                чайхана урюк   1\n",
       "276                               пиу дель чибо   1\n",
       "51                               starlite diner   2\n",
       "161                                     жан жак   5\n",
       "243  мск московская сеть кальянных на шаболовке   1\n",
       "306                                простые вещи   3\n",
       "365                                     торнадо   1\n",
       "21                                   grand урюк   1\n",
       "319                                      сварня   3\n",
       "233                                милано пицца   1\n",
       "63                                  upside down   1\n",
       "121                             восточный базар   2\n",
       "398                               шашлык машлык   1\n",
       "286                                  пиццетория   2\n",
       "400                            шикари иль патио   1\n",
       "263                            папа джонс пицца   1\n",
       "191                                    кофе бин   3"
      ]
     },
     "execution_count": 14,
     "metadata": {},
     "output_type": "execute_result"
    }
   ],
   "source": [
    "chain.sample(30)"
   ]
  },
  {
   "cell_type": "markdown",
   "metadata": {},
   "source": [
    "Как видно одни и те же названия записаны по-разному (например \"суши вок\" и \"суши wok\"), часто в названиях по-мимо наименования сети добавлена улица или какая-либо характеристика заведения.\n",
    "\n",
    "Уменьшим количество таких наименований сетей.\n",
    "\n",
    "Первым шагом составим список из 60 наиболее часто встречающихся названий сетей. Сопоставим названия из этого списка с наименованиями заведений в таблице и, если они содержат совпадающие слова, заменим на часто встречающееся."
   ]
  },
  {
   "cell_type": "code",
   "execution_count": 15,
   "metadata": {},
   "outputs": [],
   "source": [
    "chain_big = chain['object_name'].head(60)"
   ]
  },
  {
   "cell_type": "code",
   "execution_count": 16,
   "metadata": {},
   "outputs": [
    {
     "name": "stdout",
     "output_type": "stream",
     "text": [
      "Количество уникальных значений в столбце `object_name` перед обработкой 9085\n",
      "Количество уникальных значений в столбце `object_name` после обработки 8940\n"
     ]
    }
   ],
   "source": [
    "print(\n",
    "    'Количество уникальных значений в столбце `object_name` перед обработкой',\n",
    "    rest_data['object_name'].nunique()\n",
    ")\n",
    "for i in chain_big:\n",
    "    for name in rest_data['object_name'].unique():    \n",
    "        if i in name:\n",
    "            rest_data.loc[rest_data['object_name'] == name, 'object_name'] = i\n",
    "print(\n",
    "    'Количество уникальных значений в столбце `object_name` после обработки',\n",
    "    rest_data['object_name'].nunique()\n",
    ")\n",
    "        "
   ]
  },
  {
   "cell_type": "markdown",
   "metadata": {},
   "source": [
    "Теперь уберем названия дубликаты среди 60 наиболее часто встрячающихся названий сетей."
   ]
  },
  {
   "cell_type": "code",
   "execution_count": 17,
   "metadata": {},
   "outputs": [],
   "source": [
    "rest_data.loc[rest_data['object_name'] == 'subway', ['object_name']] = 'сабвей'\n",
    "rest_data.loc[rest_data['object_name'] == 'кулинарная лавка братьев караваевых', ['object_name']] = 'братья караваевы'\n",
    "rest_data.loc[rest_data['object_name'] == 'starbucks', ['object_name']] = 'старбакс'\n",
    "rest_data.loc[rest_data['object_name'] == 'суши wok', ['object_name']] = 'суши вок'"
   ]
  },
  {
   "cell_type": "markdown",
   "metadata": {},
   "source": [
    "Проверим результат"
   ]
  },
  {
   "cell_type": "code",
   "execution_count": 18,
   "metadata": {},
   "outputs": [
    {
     "data": {
      "text/html": [
       "<div>\n",
       "<style scoped>\n",
       "    .dataframe tbody tr th:only-of-type {\n",
       "        vertical-align: middle;\n",
       "    }\n",
       "\n",
       "    .dataframe tbody tr th {\n",
       "        vertical-align: top;\n",
       "    }\n",
       "\n",
       "    .dataframe thead th {\n",
       "        text-align: right;\n",
       "    }\n",
       "</style>\n",
       "<table border=\"1\" class=\"dataframe\">\n",
       "  <thead>\n",
       "    <tr style=\"text-align: right;\">\n",
       "      <th></th>\n",
       "      <th>object_name</th>\n",
       "      <th>id</th>\n",
       "    </tr>\n",
       "  </thead>\n",
       "  <tbody>\n",
       "    <tr>\n",
       "      <th>22</th>\n",
       "      <td>kfc</td>\n",
       "      <td>188</td>\n",
       "    </tr>\n",
       "    <tr>\n",
       "      <th>312</th>\n",
       "      <td>шоколадница</td>\n",
       "      <td>185</td>\n",
       "    </tr>\n",
       "    <tr>\n",
       "      <th>180</th>\n",
       "      <td>макдоналдс</td>\n",
       "      <td>173</td>\n",
       "    </tr>\n",
       "    <tr>\n",
       "      <th>83</th>\n",
       "      <td>бургер кинг</td>\n",
       "      <td>159</td>\n",
       "    </tr>\n",
       "    <tr>\n",
       "      <th>279</th>\n",
       "      <td>теремок</td>\n",
       "      <td>111</td>\n",
       "    </tr>\n",
       "    <tr>\n",
       "      <th>127</th>\n",
       "      <td>домино'с пицца</td>\n",
       "      <td>99</td>\n",
       "    </tr>\n",
       "    <tr>\n",
       "      <th>166</th>\n",
       "      <td>крошка картошка</td>\n",
       "      <td>96</td>\n",
       "    </tr>\n",
       "    <tr>\n",
       "      <th>265</th>\n",
       "      <td>суши вок</td>\n",
       "      <td>90</td>\n",
       "    </tr>\n",
       "    <tr>\n",
       "      <th>190</th>\n",
       "      <td>милти</td>\n",
       "      <td>81</td>\n",
       "    </tr>\n",
       "    <tr>\n",
       "      <th>258</th>\n",
       "      <td>старбакс</td>\n",
       "      <td>71</td>\n",
       "    </tr>\n",
       "  </tbody>\n",
       "</table>\n",
       "</div>"
      ],
      "text/plain": [
       "         object_name   id\n",
       "22               kfc  188\n",
       "312      шоколадница  185\n",
       "180       макдоналдс  173\n",
       "83       бургер кинг  159\n",
       "279          теремок  111\n",
       "127   домино'с пицца   99\n",
       "166  крошка картошка   96\n",
       "265         суши вок   90\n",
       "190            милти   81\n",
       "258         старбакс   71"
      ]
     },
     "execution_count": 18,
     "metadata": {},
     "output_type": "execute_result"
    }
   ],
   "source": [
    "(\n",
    "    rest_data.query('chain == \"да\"')\n",
    "    .groupby('object_name')\n",
    "    .agg({'id': 'count'})\n",
    "    .reset_index()\n",
    "    .sort_values(by='id', ascending=False)\n",
    "    .head(10)\n",
    ")\n"
   ]
  },
  {
   "cell_type": "markdown",
   "metadata": {},
   "source": [
    "Посмотрим на сети с 1 заведением."
   ]
  },
  {
   "cell_type": "code",
   "execution_count": 19,
   "metadata": {
    "scrolled": false
   },
   "outputs": [
    {
     "data": {
      "text/html": [
       "<div>\n",
       "<style scoped>\n",
       "    .dataframe tbody tr th:only-of-type {\n",
       "        vertical-align: middle;\n",
       "    }\n",
       "\n",
       "    .dataframe tbody tr th {\n",
       "        vertical-align: top;\n",
       "    }\n",
       "\n",
       "    .dataframe thead th {\n",
       "        text-align: right;\n",
       "    }\n",
       "</style>\n",
       "<table border=\"1\" class=\"dataframe\">\n",
       "  <thead>\n",
       "    <tr style=\"text-align: right;\">\n",
       "      <th></th>\n",
       "      <th>object_name</th>\n",
       "      <th>id</th>\n",
       "    </tr>\n",
       "  </thead>\n",
       "  <tbody>\n",
       "    <tr>\n",
       "      <th>0</th>\n",
       "      <td>beverly hills diner</td>\n",
       "      <td>1</td>\n",
       "    </tr>\n",
       "    <tr>\n",
       "      <th>1</th>\n",
       "      <td>bierloga</td>\n",
       "      <td>1</td>\n",
       "    </tr>\n",
       "    <tr>\n",
       "      <th>2</th>\n",
       "      <td>black &amp; white</td>\n",
       "      <td>1</td>\n",
       "    </tr>\n",
       "    <tr>\n",
       "      <th>4</th>\n",
       "      <td>boobo</td>\n",
       "      <td>1</td>\n",
       "    </tr>\n",
       "    <tr>\n",
       "      <th>5</th>\n",
       "      <td>bubbleology</td>\n",
       "      <td>1</td>\n",
       "    </tr>\n",
       "    <tr>\n",
       "      <th>...</th>\n",
       "      <td>...</td>\n",
       "      <td>...</td>\n",
       "    </tr>\n",
       "    <tr>\n",
       "      <th>310</th>\n",
       "      <td>шварцвальд</td>\n",
       "      <td>1</td>\n",
       "    </tr>\n",
       "    <tr>\n",
       "      <th>313</th>\n",
       "      <td>штирбирлиц</td>\n",
       "      <td>1</td>\n",
       "    </tr>\n",
       "    <tr>\n",
       "      <th>315</th>\n",
       "      <td>югос</td>\n",
       "      <td>1</td>\n",
       "    </tr>\n",
       "    <tr>\n",
       "      <th>317</th>\n",
       "      <td>ямми микс</td>\n",
       "      <td>1</td>\n",
       "    </tr>\n",
       "    <tr>\n",
       "      <th>319</th>\n",
       "      <td>японской кухни маки маки</td>\n",
       "      <td>1</td>\n",
       "    </tr>\n",
       "  </tbody>\n",
       "</table>\n",
       "<p>139 rows × 2 columns</p>\n",
       "</div>"
      ],
      "text/plain": [
       "                  object_name  id\n",
       "0         beverly hills diner   1\n",
       "1                    bierloga   1\n",
       "2               black & white   1\n",
       "4                       boobo   1\n",
       "5                 bubbleology   1\n",
       "..                        ...  ..\n",
       "310                шварцвальд   1\n",
       "313                штирбирлиц   1\n",
       "315                      югос   1\n",
       "317                 ямми микс   1\n",
       "319  японской кухни маки маки   1\n",
       "\n",
       "[139 rows x 2 columns]"
      ]
     },
     "execution_count": 19,
     "metadata": {},
     "output_type": "execute_result"
    }
   ],
   "source": [
    "(\n",
    "    rest_data.query('chain == \"да\"')\n",
    "    .groupby('object_name')\n",
    "    .agg({'id': 'count'})\n",
    "    .reset_index()\n",
    "    .query('id == 1')\n",
    "    .sort_values(by='object_name')\n",
    "  \n",
    ")"
   ]
  },
  {
   "cell_type": "markdown",
   "metadata": {},
   "source": [
    "Всего осталось 139 названий сетей с 1 заведением (около 5% от всех сетевых заведений). Среди них могут быть как сети, реально имеющие по 1 заведению в Москве, так и заведения с некорректно записанным названием, относящиеся к более крупным сетям. Поэтому нет оснований сделать эти заведения несетвым."
   ]
  },
  {
   "cell_type": "markdown",
   "metadata": {},
   "source": [
    "Проверим, сколько в итоге осталось уникальных названий заведений и сетей."
   ]
  },
  {
   "cell_type": "code",
   "execution_count": 20,
   "metadata": {},
   "outputs": [
    {
     "name": "stdout",
     "output_type": "stream",
     "text": [
      "Количество уникальных значений в столбце `object_name` после обработки 8936\n"
     ]
    }
   ],
   "source": [
    "print(\n",
    "    'Количество уникальных значений в столбце `object_name` после обработки',\n",
    "    rest_data['object_name'].nunique()\n",
    ")"
   ]
  },
  {
   "cell_type": "markdown",
   "metadata": {},
   "source": [
    "**Столбец `object_type`**\n",
    "\n",
    "Посмотрим на его уникальные значения"
   ]
  },
  {
   "cell_type": "code",
   "execution_count": 21,
   "metadata": {},
   "outputs": [
    {
     "data": {
      "text/plain": [
       "array(['кафе', 'столовая', 'закусочная',\n",
       "       'предприятие быстрого обслуживания', 'ресторан', 'кафетерий',\n",
       "       'буфет', 'бар', 'магазин (отдел кулинарии)'], dtype=object)"
      ]
     },
     "execution_count": 21,
     "metadata": {},
     "output_type": "execute_result"
    }
   ],
   "source": [
    "rest_data['object_type'].unique()"
   ]
  },
  {
   "cell_type": "markdown",
   "metadata": {},
   "source": [
    "Неявных дубликатов нет."
   ]
  },
  {
   "cell_type": "markdown",
   "metadata": {},
   "source": [
    "**Столбец `address`**\n",
    "\n",
    "Для поиска неявных дубликатов проверим, нет ли по одному адресу нескольких заведений с одинаковым названием."
   ]
  },
  {
   "cell_type": "code",
   "execution_count": 22,
   "metadata": {},
   "outputs": [
    {
     "data": {
      "text/plain": [
       "174          город Москва, 1-я Останкинская улица, дом 55\n",
       "244     город Москва, 19-й километр Московской Кольцев...\n",
       "304     город Москва, 2-я Бауманская улица, дом 5, стр...\n",
       "305     город Москва, 2-я Бауманская улица, дом 5, стр...\n",
       "620     город Москва, Авиамоторная улица, дом 8, строе...\n",
       "                              ...                        \n",
       "8833    город Москва, улица Сущёвский Вал, дом 5, стро...\n",
       "8874           город Москва, улица Трофимова, владение 36\n",
       "8893                город Москва, улица Удальцова, дом 21\n",
       "8902    город Москва, улица Улофа Пальме, дом 5, строе...\n",
       "8967            город Москва, улица Черняховского, дом 4А\n",
       "Name: address, Length: 153, dtype: object"
      ]
     },
     "execution_count": 22,
     "metadata": {},
     "output_type": "execute_result"
    }
   ],
   "source": [
    "data_ad=(\n",
    "    rest_data.groupby('address')\n",
    "    .agg({'id': 'count', 'object_name': 'nunique'})\n",
    "    .reset_index()\n",
    "    .query('id > object_name')['address']\n",
    ")\n",
    "data_ad"
   ]
  },
  {
   "cell_type": "markdown",
   "metadata": {},
   "source": [
    "У нас имеется 153 адреса зданий, в которых расположены 2 и более заведения с одинаковым названиями\n",
    "Посмотрим на эти заведения, сравним их по количеству посадочных мест и определим те, в которых совпадает адрес, название и количество посадочных мест"
   ]
  },
  {
   "cell_type": "code",
   "execution_count": 23,
   "metadata": {
    "scrolled": false
   },
   "outputs": [
    {
     "name": "stdout",
     "output_type": "stream",
     "text": [
      "Всего возможных дубликатов 96\n"
     ]
    },
    {
     "data": {
      "text/html": [
       "<div>\n",
       "<style scoped>\n",
       "    .dataframe tbody tr th:only-of-type {\n",
       "        vertical-align: middle;\n",
       "    }\n",
       "\n",
       "    .dataframe tbody tr th {\n",
       "        vertical-align: top;\n",
       "    }\n",
       "\n",
       "    .dataframe thead th {\n",
       "        text-align: right;\n",
       "    }\n",
       "</style>\n",
       "<table border=\"1\" class=\"dataframe\">\n",
       "  <thead>\n",
       "    <tr style=\"text-align: right;\">\n",
       "      <th></th>\n",
       "      <th></th>\n",
       "      <th></th>\n",
       "      <th>number</th>\n",
       "    </tr>\n",
       "    <tr>\n",
       "      <th>address</th>\n",
       "      <th>object_name</th>\n",
       "      <th>number</th>\n",
       "      <th></th>\n",
       "    </tr>\n",
       "  </thead>\n",
       "  <tbody>\n",
       "    <tr>\n",
       "      <th rowspan=\"3\" valign=\"top\">город Москва, 1-я Останкинская улица, дом 55</th>\n",
       "      <th rowspan=\"3\" valign=\"top\">кафе</th>\n",
       "      <th>5</th>\n",
       "      <td>3</td>\n",
       "    </tr>\n",
       "    <tr>\n",
       "      <th>10</th>\n",
       "      <td>2</td>\n",
       "    </tr>\n",
       "    <tr>\n",
       "      <th>20</th>\n",
       "      <td>2</td>\n",
       "    </tr>\n",
       "    <tr>\n",
       "      <th rowspan=\"2\" valign=\"top\">город Москва, 2-я Бауманская улица, дом 5, строение 1</th>\n",
       "      <th rowspan=\"2\" valign=\"top\">комбинат питания мгту им.н.э.баумана</th>\n",
       "      <th>16</th>\n",
       "      <td>2</td>\n",
       "    </tr>\n",
       "    <tr>\n",
       "      <th>100</th>\n",
       "      <td>2</td>\n",
       "    </tr>\n",
       "    <tr>\n",
       "      <th rowspan=\"2\" valign=\"top\">город Москва, Алтуфьевское шоссе, дом 70, корпус 1</th>\n",
       "      <th>кофе с собой</th>\n",
       "      <th>0</th>\n",
       "      <td>2</td>\n",
       "    </tr>\n",
       "    <tr>\n",
       "      <th>пекарня</th>\n",
       "      <th>0</th>\n",
       "      <td>2</td>\n",
       "    </tr>\n",
       "    <tr>\n",
       "      <th>город Москва, Багратионовский проезд, дом 7, корпус 1</th>\n",
       "      <th>lift</th>\n",
       "      <th>20</th>\n",
       "      <td>2</td>\n",
       "    </tr>\n",
       "    <tr>\n",
       "      <th>город Москва, Багратионовский проезд, дом 7, корпус 3</th>\n",
       "      <th>lift</th>\n",
       "      <th>10</th>\n",
       "      <td>2</td>\n",
       "    </tr>\n",
       "    <tr>\n",
       "      <th>город Москва, Беловежская улица, дом 67</th>\n",
       "      <th>гбоу города москвы № 384</th>\n",
       "      <th>100</th>\n",
       "      <td>2</td>\n",
       "    </tr>\n",
       "    <tr>\n",
       "      <th>город Москва, Бескудниковский бульвар, дом 12</th>\n",
       "      <th>шаурма</th>\n",
       "      <th>0</th>\n",
       "      <td>2</td>\n",
       "    </tr>\n",
       "    <tr>\n",
       "      <th>город Москва, Большая Семёновская улица, дом 16</th>\n",
       "      <th>кафе</th>\n",
       "      <th>5</th>\n",
       "      <td>3</td>\n",
       "    </tr>\n",
       "    <tr>\n",
       "      <th>город Москва, Большая Тульская улица, дом 2</th>\n",
       "      <th>осетинские пироги</th>\n",
       "      <th>0</th>\n",
       "      <td>2</td>\n",
       "    </tr>\n",
       "    <tr>\n",
       "      <th rowspan=\"3\" valign=\"top\">город Москва, Большая Черкизовская улица, дом 125</th>\n",
       "      <th rowspan=\"2\" valign=\"top\">пунк питания</th>\n",
       "      <th>0</th>\n",
       "      <td>2</td>\n",
       "    </tr>\n",
       "    <tr>\n",
       "      <th>2</th>\n",
       "      <td>2</td>\n",
       "    </tr>\n",
       "    <tr>\n",
       "      <th>пункт питания</th>\n",
       "      <th>0</th>\n",
       "      <td>2</td>\n",
       "    </tr>\n",
       "    <tr>\n",
       "      <th>город Москва, Большой Староданиловский переулок, дом 5</th>\n",
       "      <th>гостиница даниловская</th>\n",
       "      <th>20</th>\n",
       "      <td>2</td>\n",
       "    </tr>\n",
       "    <tr>\n",
       "      <th>город Москва, Зоологическая улица, дом 26А</th>\n",
       "      <th>буфет</th>\n",
       "      <th>20</th>\n",
       "      <td>2</td>\n",
       "    </tr>\n",
       "    <tr>\n",
       "      <th>город Москва, Каширское шоссе, владение 25Б</th>\n",
       "      <th>кафе</th>\n",
       "      <th>10</th>\n",
       "      <td>2</td>\n",
       "    </tr>\n",
       "    <tr>\n",
       "      <th>город Москва, Кировоградская улица, владение 15А</th>\n",
       "      <th>старый баку</th>\n",
       "      <th>120</th>\n",
       "      <td>2</td>\n",
       "    </tr>\n",
       "    <tr>\n",
       "      <th>город Москва, Кировоградская улица, дом 13А</th>\n",
       "      <th>макдоналдс</th>\n",
       "      <th>0</th>\n",
       "      <td>2</td>\n",
       "    </tr>\n",
       "    <tr>\n",
       "      <th>город Москва, Комсомольская площадь, дом 6, сооружение 1</th>\n",
       "      <th>fresh bar</th>\n",
       "      <th>0</th>\n",
       "      <td>2</td>\n",
       "    </tr>\n",
       "    <tr>\n",
       "      <th>город Москва, Краснопресненская набережная, дом 14, сооружение 1</th>\n",
       "      <th>экспомил</th>\n",
       "      <th>70</th>\n",
       "      <td>2</td>\n",
       "    </tr>\n",
       "    <tr>\n",
       "      <th>город Москва, Ленинградский проспект, дом 64</th>\n",
       "      <th>мади</th>\n",
       "      <th>40</th>\n",
       "      <td>2</td>\n",
       "    </tr>\n",
       "    <tr>\n",
       "      <th>город Москва, Ленинский проспект, дом 68/10</th>\n",
       "      <th>иль патио</th>\n",
       "      <th>88</th>\n",
       "      <td>2</td>\n",
       "    </tr>\n",
       "    <tr>\n",
       "      <th rowspan=\"4\" valign=\"top\">город Москва, Люблинская улица, дом 112, строение 3</th>\n",
       "      <th>закусочная</th>\n",
       "      <th>0</th>\n",
       "      <td>5</td>\n",
       "    </tr>\n",
       "    <tr>\n",
       "      <th rowspan=\"2\" valign=\"top\">кафе</th>\n",
       "      <th>0</th>\n",
       "      <td>2</td>\n",
       "    </tr>\n",
       "    <tr>\n",
       "      <th>10</th>\n",
       "      <td>3</td>\n",
       "    </tr>\n",
       "    <tr>\n",
       "      <th>кафетерий</th>\n",
       "      <th>0</th>\n",
       "      <td>2</td>\n",
       "    </tr>\n",
       "    <tr>\n",
       "      <th>город Москва, Люблинская улица, дом 153</th>\n",
       "      <th>павильон кукуруза</th>\n",
       "      <th>2</th>\n",
       "      <td>5</td>\n",
       "    </tr>\n",
       "    <tr>\n",
       "      <th>город Москва, Нахимовский проспект, дом 24, строение 1</th>\n",
       "      <th>кафе</th>\n",
       "      <th>15</th>\n",
       "      <td>2</td>\n",
       "    </tr>\n",
       "    <tr>\n",
       "      <th>город Москва, Новозаводская улица, дом 12/11</th>\n",
       "      <th>комбинат питания космос</th>\n",
       "      <th>15</th>\n",
       "      <td>2</td>\n",
       "    </tr>\n",
       "    <tr>\n",
       "      <th>город Москва, Новочеркасский бульвар, дом 57, корпус 1</th>\n",
       "      <th>закусочная</th>\n",
       "      <th>0</th>\n",
       "      <td>3</td>\n",
       "    </tr>\n",
       "    <tr>\n",
       "      <th>город Москва, Огородный проезд, дом 7, строение 1</th>\n",
       "      <th>при азс</th>\n",
       "      <th>0</th>\n",
       "      <td>2</td>\n",
       "    </tr>\n",
       "    <tr>\n",
       "      <th rowspan=\"2\" valign=\"top\">город Москва, Ореховый бульвар, дом 14, корпус 3, строение 4</th>\n",
       "      <th>кафетерий</th>\n",
       "      <th>3</th>\n",
       "      <td>2</td>\n",
       "    </tr>\n",
       "    <tr>\n",
       "      <th>шаурма</th>\n",
       "      <th>0</th>\n",
       "      <td>2</td>\n",
       "    </tr>\n",
       "    <tr>\n",
       "      <th>город Москва, Ореховый бульвар, дом 22А</th>\n",
       "      <th>при кинотеатре</th>\n",
       "      <th>0</th>\n",
       "      <td>2</td>\n",
       "    </tr>\n",
       "    <tr>\n",
       "      <th>город Москва, Ореховый бульвар, дом 24, корпус 1Г</th>\n",
       "      <th>буфет</th>\n",
       "      <th>0</th>\n",
       "      <td>2</td>\n",
       "    </tr>\n",
       "    <tr>\n",
       "      <th>город Москва, Павелецкая набережная, дом 2, строение 1</th>\n",
       "      <th>кафе</th>\n",
       "      <th>30</th>\n",
       "      <td>2</td>\n",
       "    </tr>\n",
       "    <tr>\n",
       "      <th>город Москва, Профсоюзная улица, дом 61А</th>\n",
       "      <th>гришаев в.в</th>\n",
       "      <th>0</th>\n",
       "      <td>2</td>\n",
       "    </tr>\n",
       "  </tbody>\n",
       "</table>\n",
       "</div>"
      ],
      "text/plain": [
       "                                                                                                number\n",
       "address                                            object_name                          number        \n",
       "город Москва, 1-я Останкинская улица, дом 55       кафе                                 5            3\n",
       "                                                                                        10           2\n",
       "                                                                                        20           2\n",
       "город Москва, 2-я Бауманская улица, дом 5, стро... комбинат питания мгту им.н.э.баумана 16           2\n",
       "                                                                                        100          2\n",
       "город Москва, Алтуфьевское шоссе, дом 70, корпус 1 кофе с собой                         0            2\n",
       "                                                   пекарня                              0            2\n",
       "город Москва, Багратионовский проезд, дом 7, ко... lift                                 20           2\n",
       "город Москва, Багратионовский проезд, дом 7, ко... lift                                 10           2\n",
       "город Москва, Беловежская улица, дом 67            гбоу города москвы № 384             100          2\n",
       "город Москва, Бескудниковский бульвар, дом 12      шаурма                               0            2\n",
       "город Москва, Большая Семёновская улица, дом 16    кафе                                 5            3\n",
       "город Москва, Большая Тульская улица, дом 2        осетинские пироги                    0            2\n",
       "город Москва, Большая Черкизовская улица, дом 125  пунк питания                         0            2\n",
       "                                                                                        2            2\n",
       "                                                   пункт питания                        0            2\n",
       "город Москва, Большой Староданиловский переулок... гостиница даниловская                20           2\n",
       "город Москва, Зоологическая улица, дом 26А         буфет                                20           2\n",
       "город Москва, Каширское шоссе, владение 25Б        кафе                                 10           2\n",
       "город Москва, Кировоградская улица, владение 15А   старый баку                          120          2\n",
       "город Москва, Кировоградская улица, дом 13А        макдоналдс                           0            2\n",
       "город Москва, Комсомольская площадь, дом 6, соо... fresh bar                            0            2\n",
       "город Москва, Краснопресненская набережная, дом... экспомил                             70           2\n",
       "город Москва, Ленинградский проспект, дом 64       мади                                 40           2\n",
       "город Москва, Ленинский проспект, дом 68/10        иль патио                            88           2\n",
       "город Москва, Люблинская улица, дом 112, строен... закусочная                           0            5\n",
       "                                                   кафе                                 0            2\n",
       "                                                                                        10           3\n",
       "                                                   кафетерий                            0            2\n",
       "город Москва, Люблинская улица, дом 153            павильон кукуруза                    2            5\n",
       "город Москва, Нахимовский проспект, дом 24, стр... кафе                                 15           2\n",
       "город Москва, Новозаводская улица, дом 12/11       комбинат питания космос              15           2\n",
       "город Москва, Новочеркасский бульвар, дом 57, к... закусочная                           0            3\n",
       "город Москва, Огородный проезд, дом 7, строение 1  при азс                              0            2\n",
       "город Москва, Ореховый бульвар, дом 14, корпус ... кафетерий                            3            2\n",
       "                                                   шаурма                               0            2\n",
       "город Москва, Ореховый бульвар, дом 22А            при кинотеатре                       0            2\n",
       "город Москва, Ореховый бульвар, дом 24, корпус 1Г  буфет                                0            2\n",
       "город Москва, Павелецкая набережная, дом 2, стр... кафе                                 30           2\n",
       "город Москва, Профсоюзная улица, дом 61А           гришаев в.в                          0            2"
      ]
     },
     "execution_count": 23,
     "metadata": {},
     "output_type": "execute_result"
    }
   ],
   "source": [
    "rest_dubl =(\n",
    "    rest_data.loc[rest_data['address'].isin(data_ad)]\n",
    "    .groupby(['address', 'object_name', 'number']).agg({'number':'count'})\n",
    "    .query('number > 1')    \n",
    ")\n",
    "\n",
    "print('Всего возможных дубликатов', (rest_dubl['number'].sum()- rest_dubl['number'].count()))\n",
    "rest_dubl.head(40)"
   ]
  },
  {
   "cell_type": "markdown",
   "metadata": {},
   "source": [
    "Как видно, в основном это заведения без названия в крупных учреждениях или общественных объектах (например вокзал или университет). Наличие нескольких похохожих заведений в таких местах вполне вероятно, поэтому сложно определить их как дубликаты. Не будем удалять из данных строки с подобными заведениями. Даже если среди них есть дубликаты, их количество несущественно (максимум 96 из 15366 - 0,6%)."
   ]
  },
  {
   "cell_type": "markdown",
   "metadata": {},
   "source": [
    "### Вывод\n",
    "\n",
    "Мы проверили таблицу на наличие полных дубликатов строк, а также каждый столбец на явные и неявные дубликаты.\n",
    "\n",
    "В результате предобработки количество уникальных названий сетей и заведений сократилось с 10393 до 8936 (почти на 14%). Вероятнее всего в таблице еще остались некорректно заполненные названия заведений, но их количество уже не так существенно и не повлияет на исследование.\n",
    "\n",
    "Кроме того, мы определили наличие заведений с одинаковым названием, количеством посадочных мест и адресом. Большинство из них расположены в крупных учреждениях или общественных местах, где наличие нескольких одинаковых заведений общепита вполне возможно. Такие заведения тоже решили не удалять.\n",
    "\n",
    "В целом данные готовы к дальнейшему исследованию."
   ]
  },
  {
   "cell_type": "markdown",
   "metadata": {},
   "source": [
    "## Анализ данных"
   ]
  },
  {
   "cell_type": "markdown",
   "metadata": {},
   "source": [
    "### Виды объектов общественного питания"
   ]
  },
  {
   "cell_type": "markdown",
   "metadata": {},
   "source": [
    "Посмотрим как распределены заведения общественного питания Москвы по видам."
   ]
  },
  {
   "cell_type": "code",
   "execution_count": 24,
   "metadata": {
    "scrolled": false
   },
   "outputs": [
    {
     "data": {
      "image/png": "[encoded data removed]",
      "text/plain": [
       "<Figure size 1296x432 with 2 Axes>"
      ]
     },
     "metadata": {
      "needs_background": "light"
     },
     "output_type": "display_data"
    },
    {
     "data": {
      "image/png": "[encoded data removed]",
      "text/plain": [
       "<Figure size 720x360 with 1 Axes>"
      ]
     },
     "metadata": {
      "needs_background": "light"
     },
     "output_type": "display_data"
    },
    {
     "data": {
      "text/html": [
       "<div>\n",
       "<style scoped>\n",
       "    .dataframe tbody tr th:only-of-type {\n",
       "        vertical-align: middle;\n",
       "    }\n",
       "\n",
       "    .dataframe tbody tr th {\n",
       "        vertical-align: top;\n",
       "    }\n",
       "\n",
       "    .dataframe thead th {\n",
       "        text-align: right;\n",
       "    }\n",
       "</style>\n",
       "<table border=\"1\" class=\"dataframe\">\n",
       "  <thead>\n",
       "    <tr style=\"text-align: right;\">\n",
       "      <th></th>\n",
       "      <th>сетевое</th>\n",
       "      <th>несетевое</th>\n",
       "      <th>всего заведений</th>\n",
       "      <th>доля в сетевых заведениях %</th>\n",
       "      <th>доля в несетевых заведениях %</th>\n",
       "      <th>доля всего %</th>\n",
       "      <th>доля сетевых в виде заведений %</th>\n",
       "      <th>доля несетевых в виде заведений %</th>\n",
       "    </tr>\n",
       "    <tr>\n",
       "      <th>вид заведения</th>\n",
       "      <th></th>\n",
       "      <th></th>\n",
       "      <th></th>\n",
       "      <th></th>\n",
       "      <th></th>\n",
       "      <th></th>\n",
       "      <th></th>\n",
       "      <th></th>\n",
       "    </tr>\n",
       "  </thead>\n",
       "  <tbody>\n",
       "    <tr>\n",
       "      <th>кафе</th>\n",
       "      <td>1396</td>\n",
       "      <td>4703</td>\n",
       "      <td>6099</td>\n",
       "      <td>47.04</td>\n",
       "      <td>37.93</td>\n",
       "      <td>39.69</td>\n",
       "      <td>22.89</td>\n",
       "      <td>77.11</td>\n",
       "    </tr>\n",
       "    <tr>\n",
       "      <th>столовая</th>\n",
       "      <td>3</td>\n",
       "      <td>2584</td>\n",
       "      <td>2587</td>\n",
       "      <td>0.10</td>\n",
       "      <td>20.84</td>\n",
       "      <td>16.84</td>\n",
       "      <td>0.12</td>\n",
       "      <td>99.88</td>\n",
       "    </tr>\n",
       "    <tr>\n",
       "      <th>ресторан</th>\n",
       "      <td>544</td>\n",
       "      <td>1741</td>\n",
       "      <td>2285</td>\n",
       "      <td>18.33</td>\n",
       "      <td>14.04</td>\n",
       "      <td>14.87</td>\n",
       "      <td>23.81</td>\n",
       "      <td>76.19</td>\n",
       "    </tr>\n",
       "    <tr>\n",
       "      <th>предприятие быстрого обслуживания</th>\n",
       "      <td>791</td>\n",
       "      <td>1132</td>\n",
       "      <td>1923</td>\n",
       "      <td>26.65</td>\n",
       "      <td>9.13</td>\n",
       "      <td>12.51</td>\n",
       "      <td>41.13</td>\n",
       "      <td>58.87</td>\n",
       "    </tr>\n",
       "    <tr>\n",
       "      <th>бар</th>\n",
       "      <td>37</td>\n",
       "      <td>819</td>\n",
       "      <td>856</td>\n",
       "      <td>1.25</td>\n",
       "      <td>6.61</td>\n",
       "      <td>5.57</td>\n",
       "      <td>4.32</td>\n",
       "      <td>95.68</td>\n",
       "    </tr>\n",
       "    <tr>\n",
       "      <th>буфет</th>\n",
       "      <td>11</td>\n",
       "      <td>574</td>\n",
       "      <td>585</td>\n",
       "      <td>0.37</td>\n",
       "      <td>4.63</td>\n",
       "      <td>3.81</td>\n",
       "      <td>1.88</td>\n",
       "      <td>98.12</td>\n",
       "    </tr>\n",
       "    <tr>\n",
       "      <th>кафетерий</th>\n",
       "      <td>52</td>\n",
       "      <td>346</td>\n",
       "      <td>398</td>\n",
       "      <td>1.75</td>\n",
       "      <td>2.79</td>\n",
       "      <td>2.59</td>\n",
       "      <td>13.07</td>\n",
       "      <td>86.93</td>\n",
       "    </tr>\n",
       "    <tr>\n",
       "      <th>закусочная</th>\n",
       "      <td>56</td>\n",
       "      <td>304</td>\n",
       "      <td>360</td>\n",
       "      <td>1.89</td>\n",
       "      <td>2.45</td>\n",
       "      <td>2.34</td>\n",
       "      <td>15.56</td>\n",
       "      <td>84.44</td>\n",
       "    </tr>\n",
       "    <tr>\n",
       "      <th>магазин (отдел кулинарии)</th>\n",
       "      <td>78</td>\n",
       "      <td>195</td>\n",
       "      <td>273</td>\n",
       "      <td>2.63</td>\n",
       "      <td>1.57</td>\n",
       "      <td>1.78</td>\n",
       "      <td>28.57</td>\n",
       "      <td>71.43</td>\n",
       "    </tr>\n",
       "  </tbody>\n",
       "</table>\n",
       "</div>"
      ],
      "text/plain": [
       "                                   сетевое  несетевое  всего заведений  \\\n",
       "вид заведения                                                            \n",
       "кафе                                  1396       4703             6099   \n",
       "столовая                                 3       2584             2587   \n",
       "ресторан                               544       1741             2285   \n",
       "предприятие быстрого обслуживания      791       1132             1923   \n",
       "бар                                     37        819              856   \n",
       "буфет                                   11        574              585   \n",
       "кафетерий                               52        346              398   \n",
       "закусочная                              56        304              360   \n",
       "магазин (отдел кулинарии)               78        195              273   \n",
       "\n",
       "                                   доля в сетевых заведениях %  \\\n",
       "вид заведения                                                    \n",
       "кафе                                                     47.04   \n",
       "столовая                                                  0.10   \n",
       "ресторан                                                 18.33   \n",
       "предприятие быстрого обслуживания                        26.65   \n",
       "бар                                                       1.25   \n",
       "буфет                                                     0.37   \n",
       "кафетерий                                                 1.75   \n",
       "закусочная                                                1.89   \n",
       "магазин (отдел кулинарии)                                 2.63   \n",
       "\n",
       "                                   доля в несетевых заведениях %  \\\n",
       "вид заведения                                                      \n",
       "кафе                                                       37.93   \n",
       "столовая                                                   20.84   \n",
       "ресторан                                                   14.04   \n",
       "предприятие быстрого обслуживания                           9.13   \n",
       "бар                                                         6.61   \n",
       "буфет                                                       4.63   \n",
       "кафетерий                                                   2.79   \n",
       "закусочная                                                  2.45   \n",
       "магазин (отдел кулинарии)                                   1.57   \n",
       "\n",
       "                                   доля всего %  \\\n",
       "вид заведения                                     \n",
       "кафе                                      39.69   \n",
       "столовая                                  16.84   \n",
       "ресторан                                  14.87   \n",
       "предприятие быстрого обслуживания         12.51   \n",
       "бар                                        5.57   \n",
       "буфет                                      3.81   \n",
       "кафетерий                                  2.59   \n",
       "закусочная                                 2.34   \n",
       "магазин (отдел кулинарии)                  1.78   \n",
       "\n",
       "                                   доля сетевых в виде заведений %  \\\n",
       "вид заведения                                                        \n",
       "кафе                                                         22.89   \n",
       "столовая                                                      0.12   \n",
       "ресторан                                                     23.81   \n",
       "предприятие быстрого обслуживания                            41.13   \n",
       "бар                                                           4.32   \n",
       "буфет                                                         1.88   \n",
       "кафетерий                                                    13.07   \n",
       "закусочная                                                   15.56   \n",
       "магазин (отдел кулинарии)                                    28.57   \n",
       "\n",
       "                                   доля несетевых в виде заведений %  \n",
       "вид заведения                                                         \n",
       "кафе                                                           77.11  \n",
       "столовая                                                       99.88  \n",
       "ресторан                                                       76.19  \n",
       "предприятие быстрого обслуживания                              58.87  \n",
       "бар                                                            95.68  \n",
       "буфет                                                          98.12  \n",
       "кафетерий                                                      86.93  \n",
       "закусочная                                                     84.44  \n",
       "магазин (отдел кулинарии)                                      71.43  "
      ]
     },
     "execution_count": 24,
     "metadata": {},
     "output_type": "execute_result"
    }
   ],
   "source": [
    "rest_type =(\n",
    "    rest_data.pivot_table(index='object_type', columns='chain', values='id', aggfunc='count')\n",
    " \n",
    "    \n",
    ")\n",
    "rest_type.index.name='вид заведения'\n",
    "rest_type.columns = ['сетевое', 'несетевое']\n",
    "rest_type['всего заведений'] = rest_type['сетевое'] + rest_type['несетевое']\n",
    "rest_type = rest_type.sort_values(by='всего заведений', ascending=False)\n",
    "\n",
    "rest_type['доля в сетевых заведениях %'] = (\n",
    "    round((rest_type['сетевое'].div(rest_type['сетевое'].sum(), axis=0)) *100, 2)\n",
    ")\n",
    "rest_type['доля в несетевых заведениях %'] = (\n",
    "    round((rest_type['несетевое'].div(rest_type['несетевое'].sum(), axis=0)) *100, 2)    \n",
    ")\n",
    "rest_type['доля всего %'] = (\n",
    "    round((rest_type['всего заведений'].div(rest_type['всего заведений'].sum(), axis=0)) *100, 2)    \n",
    ")\n",
    "rest_type['доля сетевых в виде заведений %'] = (\n",
    "    round((rest_type['сетевое'] / rest_type['всего заведений']) *100, 2)\n",
    ")\n",
    "rest_type['доля несетевых в виде заведений %'] = (\n",
    "    round((rest_type['несетевое'] / rest_type['всего заведений']) *100, 2)\n",
    ")\n",
    "\n",
    "\n",
    "\n",
    "plt.subplots(figsize=(18,6))\n",
    "\n",
    "ax1 = plt.subplot(1, 2, 2)\n",
    "\n",
    "rest_type[['сетевое', 'несетевое']].plot(kind='barh', stacked=True, grid=True, ax=ax1)\n",
    "plt.title('Распределение заведений общепита в Москве по видам')\n",
    "plt.legend(['сетевое заведение', 'несетевое заведение'])\n",
    "plt.ylabel('Вид заведения')\n",
    "plt.xlabel('Количество заведений')\n",
    "\n",
    "\n",
    "ax2 = plt.subplot(1, 2, 1)\n",
    "\n",
    "(\n",
    "    rest_data.groupby('chain')\n",
    "    .agg({'id': 'count'})\n",
    "    .plot(kind='pie', y='id', autopct='%1.1f%%', ax=ax2)\n",
    ")\n",
    "plt.title('Распределение сетевых и несетевых\\nзаведений по количеству')\n",
    "#plt.legend([['сетевые заведения', 'несетевые заведения']])\n",
    "plt.ylabel('сетевое ДА\\nнесетевое НЕТ')\n",
    "#plt.xlabel('Процент заведений')\n",
    "plt.tight_layout()\n",
    "plt.show()\n",
    "\n",
    "(\n",
    "    rest_type[['доля в сетевых заведениях %', 'доля в несетевых заведениях %']]\n",
    "    .plot(kind='barh', grid=True, figsize=(10,5))\n",
    ")\n",
    "\n",
    "plt.title('Доли видов заведений в сетевых и несетевых')\n",
    "plt.legend(['доля в сетевых заведениях %', 'доля в несетевых заведениях %'])\n",
    "plt.ylabel('Вид заведения')\n",
    "plt.xlabel('Процент заведений')\n",
    "plt.tight_layout()\n",
    "plt.show()\n",
    "\n",
    "rest_type"
   ]
  },
  {
   "cell_type": "markdown",
   "metadata": {},
   "source": [
    "**Выводы.**\n",
    "\n",
    "В общем количестве заведений общественного питания в Москве **преобладают несетевые** 81%.\n",
    "\n",
    "**Основными видами заведений общепита** в Москве являются:\n",
    "- Кафе - их доля почти 40% от всех заведений. Только 23% кафе являются сетевыми.\n",
    "- Столовые на втором месте по количеству заведений - их почти 17% из всех заведений. Среди столовых правктически нет сетевых (0,12%).\n",
    "- Рестораны занимают 14,9%. Среди них почти 24% сетевых.\n",
    "- Предприятия быстрого обслуживания составляют 12,5 всех заведений общественного питания. Среди них самая высокая доля сетевых заведений - 41%.\n",
    "\n",
    "Если рассматривать отдельно **сетевые заведения**, то для них характерно несколько иное распределение по видам:\n",
    "\n",
    "- **Кафе** составляют 47% всех сетевых заведений.\n",
    "- На втором месте **предприятия быстрого обслуживания** - 26,7%.\n",
    "- На третьем месте **рестораны** - 18,3% всех сетевых заведений."
   ]
  },
  {
   "cell_type": "markdown",
   "metadata": {},
   "source": [
    "###  Исследование сетей общественного питания по количеству заведений и посадочных мест."
   ]
  },
  {
   "cell_type": "markdown",
   "metadata": {},
   "source": [
    "Посмотрим какое количество заведений и посадочных мест в них характерно для сетей."
   ]
  },
  {
   "cell_type": "code",
   "execution_count": 25,
   "metadata": {},
   "outputs": [
    {
     "data": {
      "text/html": [
       "<div>\n",
       "<style scoped>\n",
       "    .dataframe tbody tr th:only-of-type {\n",
       "        vertical-align: middle;\n",
       "    }\n",
       "\n",
       "    .dataframe tbody tr th {\n",
       "        vertical-align: top;\n",
       "    }\n",
       "\n",
       "    .dataframe thead th {\n",
       "        text-align: right;\n",
       "    }\n",
       "</style>\n",
       "<table border=\"1\" class=\"dataframe\">\n",
       "  <thead>\n",
       "    <tr style=\"text-align: right;\">\n",
       "      <th></th>\n",
       "      <th>id</th>\n",
       "      <th>number</th>\n",
       "    </tr>\n",
       "  </thead>\n",
       "  <tbody>\n",
       "    <tr>\n",
       "      <th>count</th>\n",
       "      <td>322.000000</td>\n",
       "      <td>322.000000</td>\n",
       "    </tr>\n",
       "    <tr>\n",
       "      <th>mean</th>\n",
       "      <td>9.217391</td>\n",
       "      <td>56.822981</td>\n",
       "    </tr>\n",
       "    <tr>\n",
       "      <th>std</th>\n",
       "      <td>24.511348</td>\n",
       "      <td>51.038710</td>\n",
       "    </tr>\n",
       "    <tr>\n",
       "      <th>min</th>\n",
       "      <td>1.000000</td>\n",
       "      <td>0.000000</td>\n",
       "    </tr>\n",
       "    <tr>\n",
       "      <th>25%</th>\n",
       "      <td>1.000000</td>\n",
       "      <td>20.000000</td>\n",
       "    </tr>\n",
       "    <tr>\n",
       "      <th>50%</th>\n",
       "      <td>2.000000</td>\n",
       "      <td>45.000000</td>\n",
       "    </tr>\n",
       "    <tr>\n",
       "      <th>75%</th>\n",
       "      <td>5.000000</td>\n",
       "      <td>80.375000</td>\n",
       "    </tr>\n",
       "    <tr>\n",
       "      <th>max</th>\n",
       "      <td>188.000000</td>\n",
       "      <td>306.000000</td>\n",
       "    </tr>\n",
       "  </tbody>\n",
       "</table>\n",
       "</div>"
      ],
      "text/plain": [
       "               id      number\n",
       "count  322.000000  322.000000\n",
       "mean     9.217391   56.822981\n",
       "std     24.511348   51.038710\n",
       "min      1.000000    0.000000\n",
       "25%      1.000000   20.000000\n",
       "50%      2.000000   45.000000\n",
       "75%      5.000000   80.375000\n",
       "max    188.000000  306.000000"
      ]
     },
     "execution_count": 25,
     "metadata": {},
     "output_type": "execute_result"
    }
   ],
   "source": [
    "chain_size =(\n",
    "    rest_data.query('chain == \"да\"')\n",
    "    .groupby('object_name')\n",
    "    .agg({'id': 'count', 'number': 'median'})\n",
    ")\n",
    "chain_size.describe()"
   ]
  },
  {
   "cell_type": "markdown",
   "metadata": {},
   "source": [
    "Как видно 75% сетей общественного питания в москве имеют 5 и менее заведений и до 80 посадочных мест. Самася крупная сеть имеет 188 заведений. Максимальное число посадочных мест в одном сетевом заведении 306.\n",
    "\n",
    "Отнесем к сетям с многим количеством заведений сети с числом заведений больше или равно 5, а аведения с большим количеством посадочных мест определим как заведения с количеством мест больше или равно 20.\n",
    "Разделим сети на группы по этим признакам."
   ]
  },
  {
   "cell_type": "code",
   "execution_count": 26,
   "metadata": {},
   "outputs": [
    {
     "data": {
      "text/html": [
       "<div>\n",
       "<style scoped>\n",
       "    .dataframe tbody tr th:only-of-type {\n",
       "        vertical-align: middle;\n",
       "    }\n",
       "\n",
       "    .dataframe tbody tr th {\n",
       "        vertical-align: top;\n",
       "    }\n",
       "\n",
       "    .dataframe thead th {\n",
       "        text-align: right;\n",
       "    }\n",
       "</style>\n",
       "<table border=\"1\" class=\"dataframe\">\n",
       "  <thead>\n",
       "    <tr style=\"text-align: right;\">\n",
       "      <th></th>\n",
       "      <th>id</th>\n",
       "      <th>number</th>\n",
       "      <th>rest_num_group</th>\n",
       "      <th>seat_num_group</th>\n",
       "      <th>Группа</th>\n",
       "    </tr>\n",
       "    <tr>\n",
       "      <th>object_name</th>\n",
       "      <th></th>\n",
       "      <th></th>\n",
       "      <th></th>\n",
       "      <th></th>\n",
       "      <th></th>\n",
       "    </tr>\n",
       "  </thead>\n",
       "  <tbody>\n",
       "    <tr>\n",
       "      <th>beverly hills diner</th>\n",
       "      <td>1</td>\n",
       "      <td>88.0</td>\n",
       "      <td>Мало заведений</td>\n",
       "      <td>Много мест</td>\n",
       "      <td>Мало заведений-Много мест</td>\n",
       "    </tr>\n",
       "    <tr>\n",
       "      <th>bierloga</th>\n",
       "      <td>1</td>\n",
       "      <td>75.0</td>\n",
       "      <td>Мало заведений</td>\n",
       "      <td>Много мест</td>\n",
       "      <td>Мало заведений-Много мест</td>\n",
       "    </tr>\n",
       "    <tr>\n",
       "      <th>black &amp; white</th>\n",
       "      <td>1</td>\n",
       "      <td>40.0</td>\n",
       "      <td>Мало заведений</td>\n",
       "      <td>Много мест</td>\n",
       "      <td>Мало заведений-Много мест</td>\n",
       "    </tr>\n",
       "    <tr>\n",
       "      <th>bocconcino</th>\n",
       "      <td>3</td>\n",
       "      <td>68.0</td>\n",
       "      <td>Мало заведений</td>\n",
       "      <td>Много мест</td>\n",
       "      <td>Мало заведений-Много мест</td>\n",
       "    </tr>\n",
       "    <tr>\n",
       "      <th>boobo</th>\n",
       "      <td>1</td>\n",
       "      <td>46.0</td>\n",
       "      <td>Мало заведений</td>\n",
       "      <td>Много мест</td>\n",
       "      <td>Мало заведений-Много мест</td>\n",
       "    </tr>\n",
       "    <tr>\n",
       "      <th>bubbleology</th>\n",
       "      <td>1</td>\n",
       "      <td>6.0</td>\n",
       "      <td>Мало заведений</td>\n",
       "      <td>Мало мест</td>\n",
       "      <td>Мало заведений-Мало мест</td>\n",
       "    </tr>\n",
       "    <tr>\n",
       "      <th>burger club</th>\n",
       "      <td>3</td>\n",
       "      <td>20.0</td>\n",
       "      <td>Мало заведений</td>\n",
       "      <td>Много мест</td>\n",
       "      <td>Мало заведений-Много мест</td>\n",
       "    </tr>\n",
       "    <tr>\n",
       "      <th>coffeeshop</th>\n",
       "      <td>1</td>\n",
       "      <td>0.0</td>\n",
       "      <td>Мало заведений</td>\n",
       "      <td>Мало мест</td>\n",
       "      <td>Мало заведений-Мало мест</td>\n",
       "    </tr>\n",
       "    <tr>\n",
       "      <th>coffeeshop company</th>\n",
       "      <td>4</td>\n",
       "      <td>50.0</td>\n",
       "      <td>Мало заведений</td>\n",
       "      <td>Много мест</td>\n",
       "      <td>Мало заведений-Много мест</td>\n",
       "    </tr>\n",
       "    <tr>\n",
       "      <th>cofix</th>\n",
       "      <td>25</td>\n",
       "      <td>10.0</td>\n",
       "      <td>Много заведений</td>\n",
       "      <td>Мало мест</td>\n",
       "      <td>Много заведений-Мало мест</td>\n",
       "    </tr>\n",
       "  </tbody>\n",
       "</table>\n",
       "</div>"
      ],
      "text/plain": [
       "                     id  number   rest_num_group seat_num_group  \\\n",
       "object_name                                                       \n",
       "beverly hills diner   1    88.0   Мало заведений     Много мест   \n",
       "bierloga              1    75.0   Мало заведений     Много мест   \n",
       "black & white         1    40.0   Мало заведений     Много мест   \n",
       "bocconcino            3    68.0   Мало заведений     Много мест   \n",
       "boobo                 1    46.0   Мало заведений     Много мест   \n",
       "bubbleology           1     6.0   Мало заведений      Мало мест   \n",
       "burger club           3    20.0   Мало заведений     Много мест   \n",
       "coffeeshop            1     0.0   Мало заведений      Мало мест   \n",
       "coffeeshop company    4    50.0   Мало заведений     Много мест   \n",
       "cofix                25    10.0  Много заведений      Мало мест   \n",
       "\n",
       "                                        Группа  \n",
       "object_name                                     \n",
       "beverly hills diner  Мало заведений-Много мест  \n",
       "bierloga             Мало заведений-Много мест  \n",
       "black & white        Мало заведений-Много мест  \n",
       "bocconcino           Мало заведений-Много мест  \n",
       "boobo                Мало заведений-Много мест  \n",
       "bubbleology           Мало заведений-Мало мест  \n",
       "burger club          Мало заведений-Много мест  \n",
       "coffeeshop            Мало заведений-Мало мест  \n",
       "coffeeshop company   Мало заведений-Много мест  \n",
       "cofix                Много заведений-Мало мест  "
      ]
     },
     "execution_count": 26,
     "metadata": {},
     "output_type": "execute_result"
    }
   ],
   "source": [
    "chain_size['rest_num_group'] = 'Мало заведений'\n",
    "chain_size.loc[chain_size['id'] >= 5, 'rest_num_group'] = 'Много заведений'\n",
    "chain_size['seat_num_group'] = 'Мало мест'\n",
    "chain_size.loc[chain_size['number'] >= 20, 'seat_num_group'] = 'Много мест'\n",
    "chain_size['Группа'] = chain_size['rest_num_group'].astype(str) + '-' + chain_size['seat_num_group'].astype(str)\n",
    "chain_size.head(10)"
   ]
  },
  {
   "cell_type": "code",
   "execution_count": 27,
   "metadata": {
    "scrolled": false
   },
   "outputs": [
    {
     "data": {
      "image/png": "[encoded data removed]",
      "text/plain": [
       "<Figure size 504x360 with 1 Axes>"
      ]
     },
     "metadata": {
      "needs_background": "light"
     },
     "output_type": "display_data"
    },
    {
     "data": {
      "text/html": [
       "<div>\n",
       "<style scoped>\n",
       "    .dataframe tbody tr th:only-of-type {\n",
       "        vertical-align: middle;\n",
       "    }\n",
       "\n",
       "    .dataframe tbody tr th {\n",
       "        vertical-align: top;\n",
       "    }\n",
       "\n",
       "    .dataframe thead th {\n",
       "        text-align: right;\n",
       "    }\n",
       "</style>\n",
       "<table border=\"1\" class=\"dataframe\">\n",
       "  <thead>\n",
       "    <tr style=\"text-align: right;\">\n",
       "      <th></th>\n",
       "      <th>Число сетей</th>\n",
       "      <th>Медианное число заведений</th>\n",
       "      <th>Медианное число посадочных мест</th>\n",
       "    </tr>\n",
       "    <tr>\n",
       "      <th>Группа</th>\n",
       "      <th></th>\n",
       "      <th></th>\n",
       "      <th></th>\n",
       "    </tr>\n",
       "  </thead>\n",
       "  <tbody>\n",
       "    <tr>\n",
       "      <th>Мало заведений-Много мест</th>\n",
       "      <td>179</td>\n",
       "      <td>1</td>\n",
       "      <td>62.5</td>\n",
       "    </tr>\n",
       "    <tr>\n",
       "      <th>Много заведений-Много мест</th>\n",
       "      <td>65</td>\n",
       "      <td>11</td>\n",
       "      <td>52.0</td>\n",
       "    </tr>\n",
       "    <tr>\n",
       "      <th>Мало заведений-Мало мест</th>\n",
       "      <td>53</td>\n",
       "      <td>1</td>\n",
       "      <td>10.0</td>\n",
       "    </tr>\n",
       "    <tr>\n",
       "      <th>Много заведений-Мало мест</th>\n",
       "      <td>25</td>\n",
       "      <td>8</td>\n",
       "      <td>10.0</td>\n",
       "    </tr>\n",
       "  </tbody>\n",
       "</table>\n",
       "</div>"
      ],
      "text/plain": [
       "                            Число сетей  Медианное число заведений  \\\n",
       "Группа                                                               \n",
       "Мало заведений-Много мест           179                          1   \n",
       "Много заведений-Много мест           65                         11   \n",
       "Мало заведений-Мало мест             53                          1   \n",
       "Много заведений-Мало мест            25                          8   \n",
       "\n",
       "                            Медианное число посадочных мест  \n",
       "Группа                                                       \n",
       "Мало заведений-Много мест                              62.5  \n",
       "Много заведений-Много мест                             52.0  \n",
       "Мало заведений-Мало мест                               10.0  \n",
       "Много заведений-Мало мест                              10.0  "
      ]
     },
     "execution_count": 27,
     "metadata": {},
     "output_type": "execute_result"
    }
   ],
   "source": [
    "plt.figure(figsize=(7,5))\n",
    "sns.scatterplot(data=chain_size, x='id', y='number', hue='Группа', alpha=0.5)\n",
    "plt.title('Распределение сетей по количеству заведений\\n и количеству мест')\n",
    "plt.legend()\n",
    "plt.ylabel('Количество мест')\n",
    "plt.xlabel('Количество заведений в сети')\n",
    "plt.tight_layout()\n",
    "plt.show()\n",
    "\n",
    "(\n",
    "    chain_size.reset_index()\n",
    "    .groupby('Группа')\n",
    "    .agg({'object_name': 'nunique', 'id': 'median', 'number': 'median'})\n",
    "    .rename(columns={'object_name': 'Число сетей', 'id': 'Медианное число заведений',\n",
    "                    'number': 'Медианное число посадочных мест'})\n",
    "    .sort_values(by='Число сетей', ascending=False)\n",
    ")"
   ]
  },
  {
   "cell_type": "markdown",
   "metadata": {},
   "source": [
    "**Вывод**\n",
    "\n",
    "На диаграмме рассеивания видно, что большая часть сетей общественного питания имеет малое число заведений (1-3), Чаще всего в заведениях от 20 до 100 посадочных мест.\n",
    "\n",
    "Можно сказать, что для сетей общественного питания в Москве более характерно малое число заведений с большим количеством посадочных мест."
   ]
  },
  {
   "cell_type": "markdown",
   "metadata": {},
   "source": [
    "### Исследование заведений по видам и числу посадочных мест."
   ]
  },
  {
   "cell_type": "code",
   "execution_count": 28,
   "metadata": {},
   "outputs": [
    {
     "data": {
      "image/png": "[encoded data removed]",
      "text/plain": [
       "<Figure size 720x504 with 1 Axes>"
      ]
     },
     "metadata": {
      "needs_background": "light"
     },
     "output_type": "display_data"
    },
    {
     "data": {
      "text/html": [
       "<div>\n",
       "<style scoped>\n",
       "    .dataframe tbody tr th:only-of-type {\n",
       "        vertical-align: middle;\n",
       "    }\n",
       "\n",
       "    .dataframe tbody tr th {\n",
       "        vertical-align: top;\n",
       "    }\n",
       "\n",
       "    .dataframe thead th {\n",
       "        text-align: right;\n",
       "    }\n",
       "</style>\n",
       "<table border=\"1\" class=\"dataframe\">\n",
       "  <thead>\n",
       "    <tr style=\"text-align: right;\">\n",
       "      <th></th>\n",
       "      <th>Среднее число мест</th>\n",
       "      <th>Среднее число мест в сетевом</th>\n",
       "      <th>Среднее число мест в несетевом</th>\n",
       "    </tr>\n",
       "    <tr>\n",
       "      <th>Тип заведения</th>\n",
       "      <th></th>\n",
       "      <th></th>\n",
       "      <th></th>\n",
       "    </tr>\n",
       "  </thead>\n",
       "  <tbody>\n",
       "    <tr>\n",
       "      <th>столовая</th>\n",
       "      <td>130</td>\n",
       "      <td>112</td>\n",
       "      <td>130</td>\n",
       "    </tr>\n",
       "    <tr>\n",
       "      <th>ресторан</th>\n",
       "      <td>97</td>\n",
       "      <td>100</td>\n",
       "      <td>96</td>\n",
       "    </tr>\n",
       "    <tr>\n",
       "      <th>буфет</th>\n",
       "      <td>51</td>\n",
       "      <td>13</td>\n",
       "      <td>52</td>\n",
       "    </tr>\n",
       "    <tr>\n",
       "      <th>бар</th>\n",
       "      <td>43</td>\n",
       "      <td>53</td>\n",
       "      <td>43</td>\n",
       "    </tr>\n",
       "    <tr>\n",
       "      <th>кафе</th>\n",
       "      <td>40</td>\n",
       "      <td>47</td>\n",
       "      <td>37</td>\n",
       "    </tr>\n",
       "    <tr>\n",
       "      <th>предприятие быстрого обслуживания</th>\n",
       "      <td>21</td>\n",
       "      <td>40</td>\n",
       "      <td>7</td>\n",
       "    </tr>\n",
       "    <tr>\n",
       "      <th>кафетерий</th>\n",
       "      <td>9</td>\n",
       "      <td>12</td>\n",
       "      <td>9</td>\n",
       "    </tr>\n",
       "    <tr>\n",
       "      <th>закусочная</th>\n",
       "      <td>8</td>\n",
       "      <td>14</td>\n",
       "      <td>6</td>\n",
       "    </tr>\n",
       "    <tr>\n",
       "      <th>магазин (отдел кулинарии)</th>\n",
       "      <td>6</td>\n",
       "      <td>9</td>\n",
       "      <td>4</td>\n",
       "    </tr>\n",
       "  </tbody>\n",
       "</table>\n",
       "</div>"
      ],
      "text/plain": [
       "                                   Среднее число мест  \\\n",
       "Тип заведения                                           \n",
       "столовая                                          130   \n",
       "ресторан                                           97   \n",
       "буфет                                              51   \n",
       "бар                                                43   \n",
       "кафе                                               40   \n",
       "предприятие быстрого обслуживания                  21   \n",
       "кафетерий                                           9   \n",
       "закусочная                                          8   \n",
       "магазин (отдел кулинарии)                           6   \n",
       "\n",
       "                                   Среднее число мест в сетевом  \\\n",
       "Тип заведения                                                     \n",
       "столовая                                                    112   \n",
       "ресторан                                                    100   \n",
       "буфет                                                        13   \n",
       "бар                                                          53   \n",
       "кафе                                                         47   \n",
       "предприятие быстрого обслуживания                            40   \n",
       "кафетерий                                                    12   \n",
       "закусочная                                                   14   \n",
       "магазин (отдел кулинарии)                                     9   \n",
       "\n",
       "                                   Среднее число мест в несетевом  \n",
       "Тип заведения                                                      \n",
       "столовая                                                      130  \n",
       "ресторан                                                       96  \n",
       "буфет                                                          52  \n",
       "бар                                                            43  \n",
       "кафе                                                           37  \n",
       "предприятие быстрого обслуживания                               7  \n",
       "кафетерий                                                       9  \n",
       "закусочная                                                      6  \n",
       "магазин (отдел кулинарии)                                       4  "
      ]
     },
     "execution_count": 28,
     "metadata": {},
     "output_type": "execute_result"
    }
   ],
   "source": [
    "seat_number_on_chain =(\n",
    "    rest_data.pivot_table(index='object_type', columns='chain', values='number', aggfunc='mean')\n",
    "    .round(0).astype(int)\n",
    "    .reset_index()    \n",
    ")\n",
    "\n",
    "seat_number =(\n",
    "    rest_data.groupby('object_type')\n",
    "    .agg({'number': 'mean'})\n",
    "    .round(0).astype(int)\n",
    "    .reset_index()\n",
    ")\n",
    "\n",
    "seat_number = seat_number.merge(seat_number_on_chain, on='object_type').sort_values(by='number', ascending=False)\n",
    "seat_number.columns=['Тип заведения', 'Среднее число мест', 'Среднее число мест в сетевом', 'Среднее число мест в несетевом']\n",
    "seat_number = seat_number.set_index('Тип заведения')\n",
    "\n",
    "seat_number.plot(kind='barh', figsize=(10, 7), grid=True)\n",
    "plt.title('Среднее число посадочных мест в заведениях\\nв зависимости от вида заведения')\n",
    "plt.legend()\n",
    "plt.ylabel('Вид заведения')\n",
    "plt.xlabel('Среднее число посадочных мест')\n",
    "#plt.tight_layout()\n",
    "plt.show()\n",
    "\n",
    "\n",
    "\n",
    "seat_number"
   ]
  },
  {
   "cell_type": "markdown",
   "metadata": {},
   "source": [
    "**Вывод**\n",
    "\n",
    "Наибольшее число посадочных мест характерно для столовых (130), на втором месте по количеству мест рестораны (97), затем буфеты и бары (в среднем 51 и 43 посадочных мест соответственно). Меньше всего ожидаемо посадочных мест в магазинах (отделы кулинарии) - в среднем 6.\n",
    "\n",
    "Для сетевых заведений характерно большее среднее число посадочных мест (за исключением столовых и буфетов - их практически нет в сетях, как мы уже выяснили). Особенно велика разница в среднем значении посадочных мест между сетевыми и несетевыми заведениями у предприятий быстрого обслуживания - в сетевых в среднем 40 посадочных мест, в несетевых всего 7 (на 82,5% меньше). "
   ]
  },
  {
   "cell_type": "markdown",
   "metadata": {},
   "source": [
    "### Исследование объектов общественного питания в зависимости от места расположения."
   ]
  },
  {
   "cell_type": "markdown",
   "metadata": {},
   "source": [
    "Для удобства анализа выделим названия улиц, на которых расположены заведения в отдельный столбец\n",
    "\n",
    "Напишем функцию для выделения улицы из столбца `address` и применим ее к таблице."
   ]
  },
  {
   "cell_type": "code",
   "execution_count": 29,
   "metadata": {
    "scrolled": false
   },
   "outputs": [
    {
     "name": "stdout",
     "output_type": "stream",
     "text": [
      "<class 'pandas.core.frame.DataFrame'>\n",
      "RangeIndex: 15366 entries, 0 to 15365\n",
      "Data columns (total 7 columns):\n",
      " #   Column       Non-Null Count  Dtype \n",
      "---  ------       --------------  ----- \n",
      " 0   id           15366 non-null  int64 \n",
      " 1   object_name  15366 non-null  object\n",
      " 2   chain        15366 non-null  object\n",
      " 3   object_type  15366 non-null  object\n",
      " 4   address      15366 non-null  object\n",
      " 5   number       15366 non-null  int64 \n",
      " 6   streetname   15366 non-null  object\n",
      "dtypes: int64(2), object(5)\n",
      "memory usage: 840.5+ KB\n"
     ]
    },
    {
     "data": {
      "text/html": [
       "<div>\n",
       "<style scoped>\n",
       "    .dataframe tbody tr th:only-of-type {\n",
       "        vertical-align: middle;\n",
       "    }\n",
       "\n",
       "    .dataframe tbody tr th {\n",
       "        vertical-align: top;\n",
       "    }\n",
       "\n",
       "    .dataframe thead th {\n",
       "        text-align: right;\n",
       "    }\n",
       "</style>\n",
       "<table border=\"1\" class=\"dataframe\">\n",
       "  <thead>\n",
       "    <tr style=\"text-align: right;\">\n",
       "      <th></th>\n",
       "      <th>id</th>\n",
       "      <th>object_name</th>\n",
       "      <th>chain</th>\n",
       "      <th>object_type</th>\n",
       "      <th>address</th>\n",
       "      <th>number</th>\n",
       "      <th>streetname</th>\n",
       "    </tr>\n",
       "  </thead>\n",
       "  <tbody>\n",
       "    <tr>\n",
       "      <th>0</th>\n",
       "      <td>151635</td>\n",
       "      <td>сметана</td>\n",
       "      <td>нет</td>\n",
       "      <td>кафе</td>\n",
       "      <td>город Москва, улица Егора Абакумова, дом 9</td>\n",
       "      <td>48</td>\n",
       "      <td>улица Егора Абакумова</td>\n",
       "    </tr>\n",
       "    <tr>\n",
       "      <th>1</th>\n",
       "      <td>77874</td>\n",
       "      <td>родник</td>\n",
       "      <td>нет</td>\n",
       "      <td>кафе</td>\n",
       "      <td>город Москва, улица Талалихина, дом 2/1, корпус 1</td>\n",
       "      <td>35</td>\n",
       "      <td>улица Талалихина</td>\n",
       "    </tr>\n",
       "    <tr>\n",
       "      <th>2</th>\n",
       "      <td>24309</td>\n",
       "      <td>академия</td>\n",
       "      <td>нет</td>\n",
       "      <td>кафе</td>\n",
       "      <td>город Москва, Абельмановская улица, дом 6</td>\n",
       "      <td>95</td>\n",
       "      <td>Абельмановская улица</td>\n",
       "    </tr>\n",
       "    <tr>\n",
       "      <th>3</th>\n",
       "      <td>21894</td>\n",
       "      <td>пиццетория</td>\n",
       "      <td>да</td>\n",
       "      <td>кафе</td>\n",
       "      <td>город Москва, Абрамцевская улица, дом 1</td>\n",
       "      <td>40</td>\n",
       "      <td>Абрамцевская улица</td>\n",
       "    </tr>\n",
       "    <tr>\n",
       "      <th>4</th>\n",
       "      <td>119365</td>\n",
       "      <td>вишневая метель</td>\n",
       "      <td>нет</td>\n",
       "      <td>кафе</td>\n",
       "      <td>город Москва, Абрамцевская улица, дом 9, корпус 1</td>\n",
       "      <td>50</td>\n",
       "      <td>Абрамцевская улица</td>\n",
       "    </tr>\n",
       "  </tbody>\n",
       "</table>\n",
       "</div>"
      ],
      "text/plain": [
       "       id      object_name chain object_type  \\\n",
       "0  151635          сметана   нет        кафе   \n",
       "1   77874           родник   нет        кафе   \n",
       "2   24309         академия   нет        кафе   \n",
       "3   21894       пиццетория    да        кафе   \n",
       "4  119365  вишневая метель   нет        кафе   \n",
       "\n",
       "                                             address  number  \\\n",
       "0         город Москва, улица Егора Абакумова, дом 9      48   \n",
       "1  город Москва, улица Талалихина, дом 2/1, корпус 1      35   \n",
       "2          город Москва, Абельмановская улица, дом 6      95   \n",
       "3            город Москва, Абрамцевская улица, дом 1      40   \n",
       "4  город Москва, Абрамцевская улица, дом 9, корпус 1      50   \n",
       "\n",
       "              streetname  \n",
       "0  улица Егора Абакумова  \n",
       "1       улица Талалихина  \n",
       "2   Абельмановская улица  \n",
       "3     Абрамцевская улица  \n",
       "4     Абрамцевская улица  "
      ]
     },
     "execution_count": 29,
     "metadata": {},
     "output_type": "execute_result"
    }
   ],
   "source": [
    "def get_streetname(cell):\n",
    "    for addr_part in cell.split(','):\n",
    "        for s_type in ['аллея', 'бульвар', 'набережная', 'переулок', 'площадь', 'проезд', 'проспект', 'проулок', 'сквер',\n",
    "                      'тупик', 'улица', 'шоссе']:\n",
    "            if s_type in addr_part: return addr_part\n",
    "    return cell.split(',')[1]\n",
    "\n",
    "rest_data['streetname'] = rest_data['address'].apply(get_streetname)\n",
    "rest_data['streetname'] = rest_data['streetname'].str.strip()\n",
    "\n",
    "rest_data.info()\n",
    "rest_data.head()"
   ]
  },
  {
   "cell_type": "markdown",
   "metadata": {},
   "source": [
    "Все значения в столбце `street` заполнены."
   ]
  },
  {
   "cell_type": "markdown",
   "metadata": {},
   "source": [
    "#### Улицы с самым большим числом объектов общественного питания."
   ]
  },
  {
   "cell_type": "markdown",
   "metadata": {},
   "source": [
    "Определим 10 улиц с самым большим количеством заведений."
   ]
  },
  {
   "cell_type": "code",
   "execution_count": 30,
   "metadata": {
    "scrolled": false
   },
   "outputs": [
    {
     "data": {
      "image/png": "[encoded data removed]",
      "text/plain": [
       "<Figure size 720x360 with 1 Axes>"
      ]
     },
     "metadata": {
      "needs_background": "light"
     },
     "output_type": "display_data"
    },
    {
     "data": {
      "text/html": [
       "<div>\n",
       "<style scoped>\n",
       "    .dataframe tbody tr th:only-of-type {\n",
       "        vertical-align: middle;\n",
       "    }\n",
       "\n",
       "    .dataframe tbody tr th {\n",
       "        vertical-align: top;\n",
       "    }\n",
       "\n",
       "    .dataframe thead th {\n",
       "        text-align: right;\n",
       "    }\n",
       "</style>\n",
       "<table border=\"1\" class=\"dataframe\">\n",
       "  <thead>\n",
       "    <tr style=\"text-align: right;\">\n",
       "      <th></th>\n",
       "      <th>количество заведний</th>\n",
       "    </tr>\n",
       "    <tr>\n",
       "      <th>улица</th>\n",
       "      <th></th>\n",
       "    </tr>\n",
       "  </thead>\n",
       "  <tbody>\n",
       "    <tr>\n",
       "      <th>Каширское шоссе</th>\n",
       "      <td>112</td>\n",
       "    </tr>\n",
       "    <tr>\n",
       "      <th>Кутузовский проспект</th>\n",
       "      <td>114</td>\n",
       "    </tr>\n",
       "    <tr>\n",
       "      <th>город Зеленоград</th>\n",
       "      <td>131</td>\n",
       "    </tr>\n",
       "    <tr>\n",
       "      <th>проспект Вернадского</th>\n",
       "      <td>132</td>\n",
       "    </tr>\n",
       "    <tr>\n",
       "      <th>Ленинский проспект</th>\n",
       "      <td>148</td>\n",
       "    </tr>\n",
       "    <tr>\n",
       "      <th>Варшавское шоссе</th>\n",
       "      <td>165</td>\n",
       "    </tr>\n",
       "    <tr>\n",
       "      <th>Пресненская набережная</th>\n",
       "      <td>167</td>\n",
       "    </tr>\n",
       "    <tr>\n",
       "      <th>Ленинградский проспект</th>\n",
       "      <td>173</td>\n",
       "    </tr>\n",
       "    <tr>\n",
       "      <th>Профсоюзная улица</th>\n",
       "      <td>183</td>\n",
       "    </tr>\n",
       "    <tr>\n",
       "      <th>проспект Мира</th>\n",
       "      <td>204</td>\n",
       "    </tr>\n",
       "  </tbody>\n",
       "</table>\n",
       "</div>"
      ],
      "text/plain": [
       "                        количество заведний\n",
       "улица                                      \n",
       "Каширское шоссе                         112\n",
       "Кутузовский проспект                    114\n",
       "город Зеленоград                        131\n",
       "проспект Вернадского                    132\n",
       "Ленинский проспект                      148\n",
       "Варшавское шоссе                        165\n",
       "Пресненская набережная                  167\n",
       "Ленинградский проспект                  173\n",
       "Профсоюзная улица                       183\n",
       "проспект Мира                           204"
      ]
     },
     "execution_count": 30,
     "metadata": {},
     "output_type": "execute_result"
    }
   ],
   "source": [
    "top_street= (\n",
    "    rest_data.groupby('streetname')\n",
    "    .agg({'id': 'count'})\n",
    "    .sort_values(by='id', ascending=False)\n",
    "    .head(10)   \n",
    ")\n",
    "top_street.index.name='улица'\n",
    "top_street.columns=['количество заведний']\n",
    "top_street.plot(kind='barh', figsize=(10, 5), grid=True, color='#4863A0')\n",
    "plt.title('Топ 10 улиц по количеству заведений\\nобщественного питания')\n",
    "#plt.legend('')\n",
    "plt.ylabel('Улица')\n",
    "plt.xlabel('Число заведений\\nобщественного питания')\n",
    "#plt.tight_layout()\n",
    "plt.show()\n",
    "\n",
    "top_street.sort_values(by='количество заведний')\n",
    "\n"
   ]
  },
  {
   "cell_type": "markdown",
   "metadata": {},
   "source": [
    "При помощи таблицы `moscow_streets`с перечнем улиц и районов Москвы, полученной из внешнего файла,  определим в каких районах расположены эти улицы.\n",
    "\n",
    "Отфильтруем таблицу по списку улиц с самым большим количеством заведений. \n",
    "\n",
    "Проверим, что все 10 улиц попали в датафрейм."
   ]
  },
  {
   "cell_type": "code",
   "execution_count": 31,
   "metadata": {
    "scrolled": true
   },
   "outputs": [
    {
     "name": "stdout",
     "output_type": "stream",
     "text": [
      "Таблица составлена верно, включены все 10 улиц\n"
     ]
    }
   ],
   "source": [
    "\n",
    "top_street_list = top_street.reset_index()['улица']\n",
    "\n",
    "top_area = moscow_streets.query('streetname in @top_street_list')\n",
    "\n",
    "if top_area['streetname'].nunique() == 10:\n",
    "    print('Таблица составлена верно, включены все 10 улиц')   \n",
    "else:\n",
    "    print('Есть ошибки')\n",
    "    "
   ]
  },
  {
   "cell_type": "code",
   "execution_count": 32,
   "metadata": {
    "scrolled": false
   },
   "outputs": [
    {
     "data": {
      "text/html": [
       "<div>\n",
       "<style scoped>\n",
       "    .dataframe tbody tr th:only-of-type {\n",
       "        vertical-align: middle;\n",
       "    }\n",
       "\n",
       "    .dataframe tbody tr th {\n",
       "        vertical-align: top;\n",
       "    }\n",
       "\n",
       "    .dataframe thead th {\n",
       "        text-align: right;\n",
       "    }\n",
       "</style>\n",
       "<table border=\"1\" class=\"dataframe\">\n",
       "  <thead>\n",
       "    <tr style=\"text-align: right;\">\n",
       "      <th></th>\n",
       "      <th>streetname</th>\n",
       "      <th>areaid</th>\n",
       "      <th>okrug</th>\n",
       "      <th>area</th>\n",
       "    </tr>\n",
       "  </thead>\n",
       "  <tbody>\n",
       "    <tr>\n",
       "      <th>3125</th>\n",
       "      <td>Варшавское шоссе</td>\n",
       "      <td>110</td>\n",
       "      <td>ЮАО</td>\n",
       "      <td>Район Чертаново Южное</td>\n",
       "    </tr>\n",
       "    <tr>\n",
       "      <th>4065</th>\n",
       "      <td>Варшавское шоссе</td>\n",
       "      <td>133</td>\n",
       "      <td>ЮЗАО</td>\n",
       "      <td>Район Южное Бутово</td>\n",
       "    </tr>\n",
       "    <tr>\n",
       "      <th>3117</th>\n",
       "      <td>Варшавское шоссе</td>\n",
       "      <td>108</td>\n",
       "      <td>ЮАО</td>\n",
       "      <td>Район Чертаново Северное</td>\n",
       "    </tr>\n",
       "    <tr>\n",
       "      <th>3105</th>\n",
       "      <td>Варшавское шоссе</td>\n",
       "      <td>109</td>\n",
       "      <td>ЮАО</td>\n",
       "      <td>Район Чертаново Центральное</td>\n",
       "    </tr>\n",
       "    <tr>\n",
       "      <th>3999</th>\n",
       "      <td>Варшавское шоссе</td>\n",
       "      <td>130</td>\n",
       "      <td>ЮЗАО</td>\n",
       "      <td>Район Северное Бутово</td>\n",
       "    </tr>\n",
       "    <tr>\n",
       "      <th>3305</th>\n",
       "      <td>Варшавское шоссе</td>\n",
       "      <td>102</td>\n",
       "      <td>ЮАО</td>\n",
       "      <td>Район Нагатино-Садовники</td>\n",
       "    </tr>\n",
       "    <tr>\n",
       "      <th>3349</th>\n",
       "      <td>Варшавское шоссе</td>\n",
       "      <td>104</td>\n",
       "      <td>ЮАО</td>\n",
       "      <td>Нагорный район</td>\n",
       "    </tr>\n",
       "    <tr>\n",
       "      <th>3241</th>\n",
       "      <td>Варшавское шоссе</td>\n",
       "      <td>99</td>\n",
       "      <td>ЮАО</td>\n",
       "      <td>Донской район</td>\n",
       "    </tr>\n",
       "    <tr>\n",
       "      <th>3292</th>\n",
       "      <td>Каширское шоссе</td>\n",
       "      <td>101</td>\n",
       "      <td>ЮАО</td>\n",
       "      <td>Район Москворечье-Сабурово</td>\n",
       "    </tr>\n",
       "    <tr>\n",
       "      <th>3308</th>\n",
       "      <td>Каширское шоссе</td>\n",
       "      <td>102</td>\n",
       "      <td>ЮАО</td>\n",
       "      <td>Район Нагатино-Садовники</td>\n",
       "    </tr>\n",
       "    <tr>\n",
       "      <th>3369</th>\n",
       "      <td>Каширское шоссе</td>\n",
       "      <td>106</td>\n",
       "      <td>ЮАО</td>\n",
       "      <td>Район Орехово-Борисово Южное</td>\n",
       "    </tr>\n",
       "    <tr>\n",
       "      <th>3392</th>\n",
       "      <td>Каширское шоссе</td>\n",
       "      <td>105</td>\n",
       "      <td>ЮАО</td>\n",
       "      <td>Район Орехово-Борисово Северное</td>\n",
       "    </tr>\n",
       "    <tr>\n",
       "      <th>1208</th>\n",
       "      <td>Кутузовский проспект</td>\n",
       "      <td>38</td>\n",
       "      <td>ЗАО</td>\n",
       "      <td>Район Дорогомилово</td>\n",
       "    </tr>\n",
       "    <tr>\n",
       "      <th>1280</th>\n",
       "      <td>Кутузовский проспект</td>\n",
       "      <td>49</td>\n",
       "      <td>ЗАО</td>\n",
       "      <td>Район Фили-Давыдково</td>\n",
       "    </tr>\n",
       "    <tr>\n",
       "      <th>1896</th>\n",
       "      <td>Ленинградский проспект</td>\n",
       "      <td>55</td>\n",
       "      <td>САО</td>\n",
       "      <td>Район Беговой</td>\n",
       "    </tr>\n",
       "    <tr>\n",
       "      <th>1992</th>\n",
       "      <td>Ленинградский проспект</td>\n",
       "      <td>69</td>\n",
       "      <td>САО</td>\n",
       "      <td>Хорошевский район</td>\n",
       "    </tr>\n",
       "    <tr>\n",
       "      <th>1857</th>\n",
       "      <td>Ленинградский проспект</td>\n",
       "      <td>54</td>\n",
       "      <td>САО</td>\n",
       "      <td>Район Аэропорт</td>\n",
       "    </tr>\n",
       "    <tr>\n",
       "      <th>2150</th>\n",
       "      <td>Ленинградский проспект</td>\n",
       "      <td>66</td>\n",
       "      <td>САО</td>\n",
       "      <td>Район Сокол</td>\n",
       "    </tr>\n",
       "    <tr>\n",
       "      <th>3886</th>\n",
       "      <td>Ленинский проспект</td>\n",
       "      <td>124</td>\n",
       "      <td>ЮЗАО</td>\n",
       "      <td>Район Гагаринский</td>\n",
       "    </tr>\n",
       "    <tr>\n",
       "      <th>3973</th>\n",
       "      <td>Ленинский проспект</td>\n",
       "      <td>128</td>\n",
       "      <td>ЮЗАО</td>\n",
       "      <td>Ломоносовский район</td>\n",
       "    </tr>\n",
       "    <tr>\n",
       "      <th>3986</th>\n",
       "      <td>Ленинский проспект</td>\n",
       "      <td>129</td>\n",
       "      <td>ЮЗАО</td>\n",
       "      <td>Обручевский район</td>\n",
       "    </tr>\n",
       "    <tr>\n",
       "      <th>1602</th>\n",
       "      <td>Ленинский проспект</td>\n",
       "      <td>47</td>\n",
       "      <td>ЗАО</td>\n",
       "      <td>Район Тропарево-Никулино</td>\n",
       "    </tr>\n",
       "    <tr>\n",
       "      <th>4021</th>\n",
       "      <td>Ленинский проспект</td>\n",
       "      <td>131</td>\n",
       "      <td>ЮЗАО</td>\n",
       "      <td>Район Теплый Стан</td>\n",
       "    </tr>\n",
       "    <tr>\n",
       "      <th>1504</th>\n",
       "      <td>Ленинский проспект</td>\n",
       "      <td>44</td>\n",
       "      <td>ЗАО</td>\n",
       "      <td>Район Проспект Вернадского</td>\n",
       "    </tr>\n",
       "    <tr>\n",
       "      <th>4163</th>\n",
       "      <td>Ленинский проспект</td>\n",
       "      <td>21</td>\n",
       "      <td>ЦАО</td>\n",
       "      <td>Район Якиманка</td>\n",
       "    </tr>\n",
       "    <tr>\n",
       "      <th>3260</th>\n",
       "      <td>Ленинский проспект</td>\n",
       "      <td>99</td>\n",
       "      <td>ЮАО</td>\n",
       "      <td>Донской район</td>\n",
       "    </tr>\n",
       "    <tr>\n",
       "      <th>72</th>\n",
       "      <td>Пресненская набережная</td>\n",
       "      <td>17</td>\n",
       "      <td>ЦАО</td>\n",
       "      <td>Пресненский район</td>\n",
       "    </tr>\n",
       "    <tr>\n",
       "      <th>3948</th>\n",
       "      <td>Профсоюзная улица</td>\n",
       "      <td>126</td>\n",
       "      <td>ЮЗАО</td>\n",
       "      <td>Район Коньково</td>\n",
       "    </tr>\n",
       "    <tr>\n",
       "      <th>4024</th>\n",
       "      <td>Профсоюзная улица</td>\n",
       "      <td>131</td>\n",
       "      <td>ЮЗАО</td>\n",
       "      <td>Район Теплый Стан</td>\n",
       "    </tr>\n",
       "    <tr>\n",
       "      <th>3845</th>\n",
       "      <td>Профсоюзная улица</td>\n",
       "      <td>123</td>\n",
       "      <td>ЮЗАО</td>\n",
       "      <td>Академический район</td>\n",
       "    </tr>\n",
       "    <tr>\n",
       "      <th>3867</th>\n",
       "      <td>Профсоюзная улица</td>\n",
       "      <td>132</td>\n",
       "      <td>ЮЗАО</td>\n",
       "      <td>Район Черемушки</td>\n",
       "    </tr>\n",
       "    <tr>\n",
       "      <th>3916</th>\n",
       "      <td>Профсоюзная улица</td>\n",
       "      <td>134</td>\n",
       "      <td>ЮЗАО</td>\n",
       "      <td>Район Ясенево</td>\n",
       "    </tr>\n",
       "    <tr>\n",
       "      <th>3996</th>\n",
       "      <td>Профсоюзная улица</td>\n",
       "      <td>129</td>\n",
       "      <td>ЮЗАО</td>\n",
       "      <td>Обручевский район</td>\n",
       "    </tr>\n",
       "    <tr>\n",
       "      <th>1801</th>\n",
       "      <td>город Зеленоград</td>\n",
       "      <td>53</td>\n",
       "      <td>Зеленоград</td>\n",
       "      <td>Панфиловский район</td>\n",
       "    </tr>\n",
       "    <tr>\n",
       "      <th>1757</th>\n",
       "      <td>город Зеленоград</td>\n",
       "      <td>52</td>\n",
       "      <td>Зеленоград</td>\n",
       "      <td>Район Матушкино-Савелки</td>\n",
       "    </tr>\n",
       "    <tr>\n",
       "      <th>1700</th>\n",
       "      <td>город Зеленоград</td>\n",
       "      <td>51</td>\n",
       "      <td>Зеленоград</td>\n",
       "      <td>Район Крюково</td>\n",
       "    </tr>\n",
       "    <tr>\n",
       "      <th>1501</th>\n",
       "      <td>проспект Вернадского</td>\n",
       "      <td>44</td>\n",
       "      <td>ЗАО</td>\n",
       "      <td>Район Проспект Вернадского</td>\n",
       "    </tr>\n",
       "    <tr>\n",
       "      <th>1510</th>\n",
       "      <td>проспект Вернадского</td>\n",
       "      <td>45</td>\n",
       "      <td>ЗАО</td>\n",
       "      <td>Район Раменки</td>\n",
       "    </tr>\n",
       "    <tr>\n",
       "      <th>1598</th>\n",
       "      <td>проспект Вернадского</td>\n",
       "      <td>47</td>\n",
       "      <td>ЗАО</td>\n",
       "      <td>Район Тропарево-Никулино</td>\n",
       "    </tr>\n",
       "    <tr>\n",
       "      <th>3878</th>\n",
       "      <td>проспект Вернадского</td>\n",
       "      <td>124</td>\n",
       "      <td>ЮЗАО</td>\n",
       "      <td>Район Гагаринский</td>\n",
       "    </tr>\n",
       "    <tr>\n",
       "      <th>3967</th>\n",
       "      <td>проспект Вернадского</td>\n",
       "      <td>128</td>\n",
       "      <td>ЮЗАО</td>\n",
       "      <td>Ломоносовский район</td>\n",
       "    </tr>\n",
       "    <tr>\n",
       "      <th>2644</th>\n",
       "      <td>проспект Мира</td>\n",
       "      <td>81</td>\n",
       "      <td>СВАО</td>\n",
       "      <td>Район Ростокино</td>\n",
       "    </tr>\n",
       "    <tr>\n",
       "      <th>2293</th>\n",
       "      <td>проспект Мира</td>\n",
       "      <td>70</td>\n",
       "      <td>СВАО</td>\n",
       "      <td>Алексеевский район</td>\n",
       "    </tr>\n",
       "    <tr>\n",
       "      <th>2390</th>\n",
       "      <td>проспект Мира</td>\n",
       "      <td>86</td>\n",
       "      <td>СВАО</td>\n",
       "      <td>Ярославский Район</td>\n",
       "    </tr>\n",
       "    <tr>\n",
       "      <th>2531</th>\n",
       "      <td>проспект Мира</td>\n",
       "      <td>78</td>\n",
       "      <td>СВАО</td>\n",
       "      <td>Район Марьина роща</td>\n",
       "    </tr>\n",
       "    <tr>\n",
       "      <th>2578</th>\n",
       "      <td>проспект Мира</td>\n",
       "      <td>79</td>\n",
       "      <td>СВАО</td>\n",
       "      <td>Останкинский район</td>\n",
       "    </tr>\n",
       "    <tr>\n",
       "      <th>2712</th>\n",
       "      <td>проспект Мира</td>\n",
       "      <td>82</td>\n",
       "      <td>СВАО</td>\n",
       "      <td>Район Свиблово</td>\n",
       "    </tr>\n",
       "    <tr>\n",
       "      <th>4334</th>\n",
       "      <td>проспект Мира</td>\n",
       "      <td>16</td>\n",
       "      <td>ЦАО</td>\n",
       "      <td>Мещанский район</td>\n",
       "    </tr>\n",
       "  </tbody>\n",
       "</table>\n",
       "</div>"
      ],
      "text/plain": [
       "                  streetname  areaid       okrug  \\\n",
       "3125        Варшавское шоссе     110         ЮАО   \n",
       "4065        Варшавское шоссе     133        ЮЗАО   \n",
       "3117        Варшавское шоссе     108         ЮАО   \n",
       "3105        Варшавское шоссе     109         ЮАО   \n",
       "3999        Варшавское шоссе     130        ЮЗАО   \n",
       "3305        Варшавское шоссе     102         ЮАО   \n",
       "3349        Варшавское шоссе     104         ЮАО   \n",
       "3241        Варшавское шоссе      99         ЮАО   \n",
       "3292         Каширское шоссе     101         ЮАО   \n",
       "3308         Каширское шоссе     102         ЮАО   \n",
       "3369         Каширское шоссе     106         ЮАО   \n",
       "3392         Каширское шоссе     105         ЮАО   \n",
       "1208    Кутузовский проспект      38         ЗАО   \n",
       "1280    Кутузовский проспект      49         ЗАО   \n",
       "1896  Ленинградский проспект      55         САО   \n",
       "1992  Ленинградский проспект      69         САО   \n",
       "1857  Ленинградский проспект      54         САО   \n",
       "2150  Ленинградский проспект      66         САО   \n",
       "3886      Ленинский проспект     124        ЮЗАО   \n",
       "3973      Ленинский проспект     128        ЮЗАО   \n",
       "3986      Ленинский проспект     129        ЮЗАО   \n",
       "1602      Ленинский проспект      47         ЗАО   \n",
       "4021      Ленинский проспект     131        ЮЗАО   \n",
       "1504      Ленинский проспект      44         ЗАО   \n",
       "4163      Ленинский проспект      21         ЦАО   \n",
       "3260      Ленинский проспект      99         ЮАО   \n",
       "72    Пресненская набережная      17         ЦАО   \n",
       "3948       Профсоюзная улица     126        ЮЗАО   \n",
       "4024       Профсоюзная улица     131        ЮЗАО   \n",
       "3845       Профсоюзная улица     123        ЮЗАО   \n",
       "3867       Профсоюзная улица     132        ЮЗАО   \n",
       "3916       Профсоюзная улица     134        ЮЗАО   \n",
       "3996       Профсоюзная улица     129        ЮЗАО   \n",
       "1801        город Зеленоград      53  Зеленоград   \n",
       "1757        город Зеленоград      52  Зеленоград   \n",
       "1700        город Зеленоград      51  Зеленоград   \n",
       "1501    проспект Вернадского      44         ЗАО   \n",
       "1510    проспект Вернадского      45         ЗАО   \n",
       "1598    проспект Вернадского      47         ЗАО   \n",
       "3878    проспект Вернадского     124        ЮЗАО   \n",
       "3967    проспект Вернадского     128        ЮЗАО   \n",
       "2644           проспект Мира      81        СВАО   \n",
       "2293           проспект Мира      70        СВАО   \n",
       "2390           проспект Мира      86        СВАО   \n",
       "2531           проспект Мира      78        СВАО   \n",
       "2578           проспект Мира      79        СВАО   \n",
       "2712           проспект Мира      82        СВАО   \n",
       "4334           проспект Мира      16         ЦАО   \n",
       "\n",
       "                                 area  \n",
       "3125            Район Чертаново Южное  \n",
       "4065               Район Южное Бутово  \n",
       "3117         Район Чертаново Северное  \n",
       "3105      Район Чертаново Центральное  \n",
       "3999            Район Северное Бутово  \n",
       "3305         Район Нагатино-Садовники  \n",
       "3349                   Нагорный район  \n",
       "3241                    Донской район  \n",
       "3292       Район Москворечье-Сабурово  \n",
       "3308         Район Нагатино-Садовники  \n",
       "3369     Район Орехово-Борисово Южное  \n",
       "3392  Район Орехово-Борисово Северное  \n",
       "1208               Район Дорогомилово  \n",
       "1280             Район Фили-Давыдково  \n",
       "1896                    Район Беговой  \n",
       "1992                Хорошевский район  \n",
       "1857                   Район Аэропорт  \n",
       "2150                      Район Сокол  \n",
       "3886                Район Гагаринский  \n",
       "3973              Ломоносовский район  \n",
       "3986                Обручевский район  \n",
       "1602         Район Тропарево-Никулино  \n",
       "4021                Район Теплый Стан  \n",
       "1504       Район Проспект Вернадского  \n",
       "4163                   Район Якиманка  \n",
       "3260                    Донской район  \n",
       "72                  Пресненский район  \n",
       "3948                   Район Коньково  \n",
       "4024                Район Теплый Стан  \n",
       "3845              Академический район  \n",
       "3867                  Район Черемушки  \n",
       "3916                    Район Ясенево  \n",
       "3996                Обручевский район  \n",
       "1801               Панфиловский район  \n",
       "1757          Район Матушкино-Савелки  \n",
       "1700                    Район Крюково  \n",
       "1501       Район Проспект Вернадского  \n",
       "1510                    Район Раменки  \n",
       "1598         Район Тропарево-Никулино  \n",
       "3878                Район Гагаринский  \n",
       "3967              Ломоносовский район  \n",
       "2644                  Район Ростокино  \n",
       "2293               Алексеевский район  \n",
       "2390                Ярославский Район  \n",
       "2531               Район Марьина роща  \n",
       "2578               Останкинский район  \n",
       "2712                   Район Свиблово  \n",
       "4334                  Мещанский район  "
      ]
     },
     "execution_count": 32,
     "metadata": {},
     "output_type": "execute_result"
    }
   ],
   "source": [
    "top_area.sort_values(by='streetname')"
   ]
  },
  {
   "cell_type": "markdown",
   "metadata": {},
   "source": [
    "Как видно практически все улицы проходят через несколько районов. Посчитаем сколько в среднем заведений приходится на один район по каждой улице.\n",
    "\n",
    "Построим график."
   ]
  },
  {
   "cell_type": "code",
   "execution_count": 33,
   "metadata": {},
   "outputs": [],
   "source": [
    "top_street_on_area =(\n",
    "    pd.merge(top_street, \n",
    "             top_area.groupby('streetname').agg({'area': 'nunique'})\n",
    "             , left_index=True, right_index=True)\n",
    ")\n",
    "top_street_on_area.index.name='улица'\n",
    "top_street_on_area.columns = ['число заведний', 'число районов']\n",
    "top_street_on_area['среднее число заведений на район'] =(\n",
    "    round(top_street_on_area['число заведний'] / top_street_on_area['число районов'], 0)\n",
    "    .astype(int) \n",
    "    \n",
    ")\n",
    "\n",
    "top_street_on_area =top_street_on_area.sort_values(by='среднее число заведений на район', ascending=False)"
   ]
  },
  {
   "cell_type": "code",
   "execution_count": 34,
   "metadata": {
    "scrolled": false
   },
   "outputs": [
    {
     "data": {
      "image/png": "[encoded data removed]",
      "text/plain": [
       "<Figure size 864x504 with 1 Axes>"
      ]
     },
     "metadata": {
      "needs_background": "light"
     },
     "output_type": "display_data"
    },
    {
     "data": {
      "text/html": [
       "<div>\n",
       "<style scoped>\n",
       "    .dataframe tbody tr th:only-of-type {\n",
       "        vertical-align: middle;\n",
       "    }\n",
       "\n",
       "    .dataframe tbody tr th {\n",
       "        vertical-align: top;\n",
       "    }\n",
       "\n",
       "    .dataframe thead th {\n",
       "        text-align: right;\n",
       "    }\n",
       "</style>\n",
       "<table border=\"1\" class=\"dataframe\">\n",
       "  <thead>\n",
       "    <tr style=\"text-align: right;\">\n",
       "      <th></th>\n",
       "      <th>число заведний</th>\n",
       "      <th>число районов</th>\n",
       "      <th>среднее число заведений на район</th>\n",
       "    </tr>\n",
       "    <tr>\n",
       "      <th>улица</th>\n",
       "      <th></th>\n",
       "      <th></th>\n",
       "      <th></th>\n",
       "    </tr>\n",
       "  </thead>\n",
       "  <tbody>\n",
       "    <tr>\n",
       "      <th>Пресненская набережная</th>\n",
       "      <td>167</td>\n",
       "      <td>1</td>\n",
       "      <td>167</td>\n",
       "    </tr>\n",
       "    <tr>\n",
       "      <th>Кутузовский проспект</th>\n",
       "      <td>114</td>\n",
       "      <td>2</td>\n",
       "      <td>57</td>\n",
       "    </tr>\n",
       "    <tr>\n",
       "      <th>город Зеленоград</th>\n",
       "      <td>131</td>\n",
       "      <td>3</td>\n",
       "      <td>44</td>\n",
       "    </tr>\n",
       "    <tr>\n",
       "      <th>Ленинградский проспект</th>\n",
       "      <td>173</td>\n",
       "      <td>4</td>\n",
       "      <td>43</td>\n",
       "    </tr>\n",
       "    <tr>\n",
       "      <th>Профсоюзная улица</th>\n",
       "      <td>183</td>\n",
       "      <td>6</td>\n",
       "      <td>30</td>\n",
       "    </tr>\n",
       "    <tr>\n",
       "      <th>проспект Мира</th>\n",
       "      <td>204</td>\n",
       "      <td>7</td>\n",
       "      <td>29</td>\n",
       "    </tr>\n",
       "    <tr>\n",
       "      <th>Каширское шоссе</th>\n",
       "      <td>112</td>\n",
       "      <td>4</td>\n",
       "      <td>28</td>\n",
       "    </tr>\n",
       "    <tr>\n",
       "      <th>проспект Вернадского</th>\n",
       "      <td>132</td>\n",
       "      <td>5</td>\n",
       "      <td>26</td>\n",
       "    </tr>\n",
       "    <tr>\n",
       "      <th>Варшавское шоссе</th>\n",
       "      <td>165</td>\n",
       "      <td>8</td>\n",
       "      <td>21</td>\n",
       "    </tr>\n",
       "    <tr>\n",
       "      <th>Ленинский проспект</th>\n",
       "      <td>148</td>\n",
       "      <td>8</td>\n",
       "      <td>18</td>\n",
       "    </tr>\n",
       "  </tbody>\n",
       "</table>\n",
       "</div>"
      ],
      "text/plain": [
       "                        число заведний  число районов  \\\n",
       "улица                                                   \n",
       "Пресненская набережная             167              1   \n",
       "Кутузовский проспект               114              2   \n",
       "город Зеленоград                   131              3   \n",
       "Ленинградский проспект             173              4   \n",
       "Профсоюзная улица                  183              6   \n",
       "проспект Мира                      204              7   \n",
       "Каширское шоссе                    112              4   \n",
       "проспект Вернадского               132              5   \n",
       "Варшавское шоссе                   165              8   \n",
       "Ленинский проспект                 148              8   \n",
       "\n",
       "                        среднее число заведений на район  \n",
       "улица                                                     \n",
       "Пресненская набережная                               167  \n",
       "Кутузовский проспект                                  57  \n",
       "город Зеленоград                                      44  \n",
       "Ленинградский проспект                                43  \n",
       "Профсоюзная улица                                     30  \n",
       "проспект Мира                                         29  \n",
       "Каширское шоссе                                       28  \n",
       "проспект Вернадского                                  26  \n",
       "Варшавское шоссе                                      21  \n",
       "Ленинский проспект                                    18  "
      ]
     },
     "execution_count": 34,
     "metadata": {},
     "output_type": "execute_result"
    }
   ],
   "source": [
    "top_street_on_area[['число заведний','среднее число заведений на район']].plot(kind='barh', figsize=(12, 7), grid=True)\n",
    "plt.title('Топ-10 улиц по числу заведений\\n плотность заведений относительно числа районов')\n",
    "plt.legend(['число\\nзаведний', 'среднее число\\nзаведений\\nна район'])\n",
    "plt.ylabel('Улица')\n",
    "plt.xlabel('Количество заведений')\n",
    "#plt.tight_layout()\n",
    "plt.show()\n",
    "\n",
    "top_street_on_area"
   ]
  },
  {
   "cell_type": "markdown",
   "metadata": {},
   "source": [
    "**Вывод**\n",
    "\n",
    "По числу заведений, рассположенных на одной улице лидирует Проспект Мира, на втором месте Профсоюзная улица. \n",
    "\n",
    "Но все улицы разные по длине. Определив в каких районах они расположены мы посчитали среднее число заведений на район по каждой улице. Наиболее высокая плотность заведений на Пресненской набережной (167 на 1 район), на втором месте Кутузовский проспект (57 заведений на район), на третьем - Зеленоград (44 заведения на район). Самая низкая плотность заведений в топ-10 улиц по их количеству у Ленинского проспекта (18 заведений на район)."
   ]
  },
  {
   "cell_type": "markdown",
   "metadata": {},
   "source": [
    "#### Улицы с наименьшим количеством заведений."
   ]
  },
  {
   "cell_type": "markdown",
   "metadata": {},
   "source": [
    "Определим улицы с одним объектом общественного питания."
   ]
  },
  {
   "cell_type": "code",
   "execution_count": 35,
   "metadata": {
    "scrolled": false
   },
   "outputs": [
    {
     "data": {
      "text/html": [
       "<div>\n",
       "<style scoped>\n",
       "    .dataframe tbody tr th:only-of-type {\n",
       "        vertical-align: middle;\n",
       "    }\n",
       "\n",
       "    .dataframe tbody tr th {\n",
       "        vertical-align: top;\n",
       "    }\n",
       "\n",
       "    .dataframe thead th {\n",
       "        text-align: right;\n",
       "    }\n",
       "</style>\n",
       "<table border=\"1\" class=\"dataframe\">\n",
       "  <thead>\n",
       "    <tr style=\"text-align: right;\">\n",
       "      <th></th>\n",
       "      <th>id</th>\n",
       "    </tr>\n",
       "    <tr>\n",
       "      <th>streetname</th>\n",
       "      <th></th>\n",
       "    </tr>\n",
       "  </thead>\n",
       "  <tbody>\n",
       "    <tr>\n",
       "      <th>1-й Балтийский переулок</th>\n",
       "      <td>1</td>\n",
       "    </tr>\n",
       "    <tr>\n",
       "      <th>1-й Басманный переулок</th>\n",
       "      <td>1</td>\n",
       "    </tr>\n",
       "    <tr>\n",
       "      <th>1-й Ботанический проезд</th>\n",
       "      <td>1</td>\n",
       "    </tr>\n",
       "    <tr>\n",
       "      <th>1-й Вешняковский проезд</th>\n",
       "      <td>1</td>\n",
       "    </tr>\n",
       "    <tr>\n",
       "      <th>1-й Голутвинский переулок</th>\n",
       "      <td>1</td>\n",
       "    </tr>\n",
       "    <tr>\n",
       "      <th>...</th>\n",
       "      <td>...</td>\n",
       "    </tr>\n",
       "    <tr>\n",
       "      <th>улица Шумилова</th>\n",
       "      <td>1</td>\n",
       "    </tr>\n",
       "    <tr>\n",
       "      <th>улица Шумкина</th>\n",
       "      <td>1</td>\n",
       "    </tr>\n",
       "    <tr>\n",
       "      <th>улица Щорса</th>\n",
       "      <td>1</td>\n",
       "    </tr>\n",
       "    <tr>\n",
       "      <th>улица Энгельса</th>\n",
       "      <td>1</td>\n",
       "    </tr>\n",
       "    <tr>\n",
       "      <th>шоссе Фрезер</th>\n",
       "      <td>1</td>\n",
       "    </tr>\n",
       "  </tbody>\n",
       "</table>\n",
       "<p>571 rows × 1 columns</p>\n",
       "</div>"
      ],
      "text/plain": [
       "                           id\n",
       "streetname                   \n",
       "1-й Балтийский переулок     1\n",
       "1-й Басманный переулок      1\n",
       "1-й Ботанический проезд     1\n",
       "1-й Вешняковский проезд     1\n",
       "1-й Голутвинский переулок   1\n",
       "...                        ..\n",
       "улица Шумилова              1\n",
       "улица Шумкина               1\n",
       "улица Щорса                 1\n",
       "улица Энгельса              1\n",
       "шоссе Фрезер                1\n",
       "\n",
       "[571 rows x 1 columns]"
      ]
     },
     "execution_count": 35,
     "metadata": {},
     "output_type": "execute_result"
    }
   ],
   "source": [
    "bottom_street= (\n",
    "    rest_data.groupby('streetname')\n",
    "    .agg({'id': 'count'})\n",
    "    .query('id == 1')\n",
    ")\n",
    "bottom_street"
   ]
  },
  {
   "cell_type": "markdown",
   "metadata": {},
   "source": [
    "Всего 571 улица с одним заведением. Определим в каких районах находятся эти улицы."
   ]
  },
  {
   "cell_type": "code",
   "execution_count": 36,
   "metadata": {
    "scrolled": true
   },
   "outputs": [
    {
     "name": "stdout",
     "output_type": "stream",
     "text": [
      "Удалось определить район для 521 улиц\n"
     ]
    }
   ],
   "source": [
    "bottom_street_list = bottom_street.reset_index()['streetname']\n",
    "\n",
    "bottom_area = moscow_streets.query('streetname in @bottom_street_list')\n",
    "\n",
    "\n",
    "print('Удалось определить район для', bottom_area['streetname'].nunique(), 'улиц')"
   ]
  },
  {
   "cell_type": "markdown",
   "metadata": {},
   "source": [
    "Посмотрим на улицы, по которым нет совпадений в справочнике"
   ]
  },
  {
   "cell_type": "code",
   "execution_count": 37,
   "metadata": {
    "scrolled": false
   },
   "outputs": [
    {
     "data": {
      "text/html": [
       "<div>\n",
       "<style scoped>\n",
       "    .dataframe tbody tr th:only-of-type {\n",
       "        vertical-align: middle;\n",
       "    }\n",
       "\n",
       "    .dataframe tbody tr th {\n",
       "        vertical-align: top;\n",
       "    }\n",
       "\n",
       "    .dataframe thead th {\n",
       "        text-align: right;\n",
       "    }\n",
       "</style>\n",
       "<table border=\"1\" class=\"dataframe\">\n",
       "  <thead>\n",
       "    <tr style=\"text-align: right;\">\n",
       "      <th></th>\n",
       "      <th>id</th>\n",
       "    </tr>\n",
       "    <tr>\n",
       "      <th>streetname</th>\n",
       "      <th></th>\n",
       "    </tr>\n",
       "  </thead>\n",
       "  <tbody>\n",
       "    <tr>\n",
       "      <th>1-й Заречный переулок</th>\n",
       "      <td>1</td>\n",
       "    </tr>\n",
       "    <tr>\n",
       "      <th>1-я Ватутинская улица</th>\n",
       "      <td>1</td>\n",
       "    </tr>\n",
       "    <tr>\n",
       "      <th>104-й километр Московской Кольцевой Автодороги</th>\n",
       "      <td>1</td>\n",
       "    </tr>\n",
       "    <tr>\n",
       "      <th>2-я Барышевская улица</th>\n",
       "      <td>1</td>\n",
       "    </tr>\n",
       "    <tr>\n",
       "      <th>26-й километр Московской Кольцевой Автодороги</th>\n",
       "      <td>1</td>\n",
       "    </tr>\n",
       "    <tr>\n",
       "      <th>3-я Подрезковская улица</th>\n",
       "      <td>1</td>\n",
       "    </tr>\n",
       "    <tr>\n",
       "      <th>30-й километр Московской Кольцевой Автодороги</th>\n",
       "      <td>1</td>\n",
       "    </tr>\n",
       "    <tr>\n",
       "      <th>31-й километр Московской Кольцевой Автодороги</th>\n",
       "      <td>1</td>\n",
       "    </tr>\n",
       "    <tr>\n",
       "      <th>34-й километр Московской Кольцевой Автодороги</th>\n",
       "      <td>1</td>\n",
       "    </tr>\n",
       "    <tr>\n",
       "      <th>38-й километр Московской Кольцевой Автодороги</th>\n",
       "      <td>1</td>\n",
       "    </tr>\n",
       "    <tr>\n",
       "      <th>39-й километр Калужского шоссе</th>\n",
       "      <td>1</td>\n",
       "    </tr>\n",
       "    <tr>\n",
       "      <th>42-й километр Московской Кольцевой Автодороги</th>\n",
       "      <td>1</td>\n",
       "    </tr>\n",
       "    <tr>\n",
       "      <th>56-й километр Московской Кольцевой Автодороги</th>\n",
       "      <td>1</td>\n",
       "    </tr>\n",
       "    <tr>\n",
       "      <th>65-й километр Московской Кольцевой Автодороги</th>\n",
       "      <td>1</td>\n",
       "    </tr>\n",
       "    <tr>\n",
       "      <th>67-й километр Московской Кольцевой Автодороги</th>\n",
       "      <td>1</td>\n",
       "    </tr>\n",
       "    <tr>\n",
       "      <th>78-й километр Московской Кольцевой Автодороги</th>\n",
       "      <td>1</td>\n",
       "    </tr>\n",
       "    <tr>\n",
       "      <th>80-й километр Московской Кольцевой Автодороги</th>\n",
       "      <td>1</td>\n",
       "    </tr>\n",
       "    <tr>\n",
       "      <th>Армейская улица</th>\n",
       "      <td>1</td>\n",
       "    </tr>\n",
       "    <tr>\n",
       "      <th>Большая Октябрьская улица</th>\n",
       "      <td>1</td>\n",
       "    </tr>\n",
       "    <tr>\n",
       "      <th>Институтский проезд</th>\n",
       "      <td>1</td>\n",
       "    </tr>\n",
       "    <tr>\n",
       "      <th>Молодежная улица</th>\n",
       "      <td>1</td>\n",
       "    </tr>\n",
       "    <tr>\n",
       "      <th>Новобутовский проезд</th>\n",
       "      <td>1</td>\n",
       "    </tr>\n",
       "    <tr>\n",
       "      <th>Новохорошёвский проезд</th>\n",
       "      <td>1</td>\n",
       "    </tr>\n",
       "    <tr>\n",
       "      <th>Пыжёвский переулок</th>\n",
       "      <td>1</td>\n",
       "    </tr>\n",
       "    <tr>\n",
       "      <th>Троицкий бульвар</th>\n",
       "      <td>1</td>\n",
       "    </tr>\n",
       "    <tr>\n",
       "      <th>Физическая улица</th>\n",
       "      <td>1</td>\n",
       "    </tr>\n",
       "    <tr>\n",
       "      <th>Фитарёвская улица</th>\n",
       "      <td>1</td>\n",
       "    </tr>\n",
       "    <tr>\n",
       "      <th>Цветочная улица</th>\n",
       "      <td>1</td>\n",
       "    </tr>\n",
       "    <tr>\n",
       "      <th>деревня Давыдково</th>\n",
       "      <td>1</td>\n",
       "    </tr>\n",
       "    <tr>\n",
       "      <th>деревня Дудкино</th>\n",
       "      <td>1</td>\n",
       "    </tr>\n",
       "    <tr>\n",
       "      <th>деревня Сенькино-Секерино</th>\n",
       "      <td>1</td>\n",
       "    </tr>\n",
       "    <tr>\n",
       "      <th>деревня Столбово</th>\n",
       "      <td>1</td>\n",
       "    </tr>\n",
       "    <tr>\n",
       "      <th>поселение Филимонковское</th>\n",
       "      <td>1</td>\n",
       "    </tr>\n",
       "    <tr>\n",
       "      <th>проектируемый проезд № 1980</th>\n",
       "      <td>1</td>\n",
       "    </tr>\n",
       "    <tr>\n",
       "      <th>улица 1-й километр Объездной Дороги</th>\n",
       "      <td>1</td>\n",
       "    </tr>\n",
       "    <tr>\n",
       "      <th>улица Высоцкого</th>\n",
       "      <td>1</td>\n",
       "    </tr>\n",
       "    <tr>\n",
       "      <th>улица Горького</th>\n",
       "      <td>1</td>\n",
       "    </tr>\n",
       "    <tr>\n",
       "      <th>улица Дмитрия Рябинкина</th>\n",
       "      <td>1</td>\n",
       "    </tr>\n",
       "    <tr>\n",
       "      <th>улица Евгения Родионова</th>\n",
       "      <td>1</td>\n",
       "    </tr>\n",
       "    <tr>\n",
       "      <th>улица Капотня</th>\n",
       "      <td>1</td>\n",
       "    </tr>\n",
       "    <tr>\n",
       "      <th>улица Корнея Чуковского</th>\n",
       "      <td>1</td>\n",
       "    </tr>\n",
       "    <tr>\n",
       "      <th>улица Льва Яшина</th>\n",
       "      <td>1</td>\n",
       "    </tr>\n",
       "    <tr>\n",
       "      <th>улица Недорубова</th>\n",
       "      <td>1</td>\n",
       "    </tr>\n",
       "    <tr>\n",
       "      <th>улица Никитина</th>\n",
       "      <td>1</td>\n",
       "    </tr>\n",
       "    <tr>\n",
       "      <th>улица Потаповская Роща</th>\n",
       "      <td>1</td>\n",
       "    </tr>\n",
       "    <tr>\n",
       "      <th>улица Рассудовское Лесничество</th>\n",
       "      <td>1</td>\n",
       "    </tr>\n",
       "    <tr>\n",
       "      <th>улица Слобода</th>\n",
       "      <td>1</td>\n",
       "    </tr>\n",
       "    <tr>\n",
       "      <th>улица Старые Кузьминки</th>\n",
       "      <td>1</td>\n",
       "    </tr>\n",
       "    <tr>\n",
       "      <th>улица Школа-интернат</th>\n",
       "      <td>1</td>\n",
       "    </tr>\n",
       "    <tr>\n",
       "      <th>улица Энгельса</th>\n",
       "      <td>1</td>\n",
       "    </tr>\n",
       "  </tbody>\n",
       "</table>\n",
       "</div>"
      ],
      "text/plain": [
       "                                                id\n",
       "streetname                                        \n",
       "1-й Заречный переулок                            1\n",
       "1-я Ватутинская улица                            1\n",
       "104-й километр Московской Кольцевой Автодороги   1\n",
       "2-я Барышевская улица                            1\n",
       "26-й километр Московской Кольцевой Автодороги    1\n",
       "3-я Подрезковская улица                          1\n",
       "30-й километр Московской Кольцевой Автодороги    1\n",
       "31-й километр Московской Кольцевой Автодороги    1\n",
       "34-й километр Московской Кольцевой Автодороги    1\n",
       "38-й километр Московской Кольцевой Автодороги    1\n",
       "39-й километр Калужского шоссе                   1\n",
       "42-й километр Московской Кольцевой Автодороги    1\n",
       "56-й километр Московской Кольцевой Автодороги    1\n",
       "65-й километр Московской Кольцевой Автодороги    1\n",
       "67-й километр Московской Кольцевой Автодороги    1\n",
       "78-й километр Московской Кольцевой Автодороги    1\n",
       "80-й километр Московской Кольцевой Автодороги    1\n",
       "Армейская улица                                  1\n",
       "Большая Октябрьская улица                        1\n",
       "Институтский проезд                              1\n",
       "Молодежная улица                                 1\n",
       "Новобутовский проезд                             1\n",
       "Новохорошёвский проезд                           1\n",
       "Пыжёвский переулок                               1\n",
       "Троицкий бульвар                                 1\n",
       "Физическая улица                                 1\n",
       "Фитарёвская улица                                1\n",
       "Цветочная улица                                  1\n",
       "деревня Давыдково                                1\n",
       "деревня Дудкино                                  1\n",
       "деревня Сенькино-Секерино                        1\n",
       "деревня Столбово                                 1\n",
       "поселение Филимонковское                         1\n",
       "проектируемый проезд № 1980                      1\n",
       "улица 1-й километр Объездной Дороги              1\n",
       "улица Высоцкого                                  1\n",
       "улица Горького                                   1\n",
       "улица Дмитрия Рябинкина                          1\n",
       "улица Евгения Родионова                          1\n",
       "улица Капотня                                    1\n",
       "улица Корнея Чуковского                          1\n",
       "улица Льва Яшина                                 1\n",
       "улица Недорубова                                 1\n",
       "улица Никитина                                   1\n",
       "улица Потаповская Роща                           1\n",
       "улица Рассудовское Лесничество                   1\n",
       "улица Слобода                                    1\n",
       "улица Старые Кузьминки                           1\n",
       "улица Школа-интернат                             1\n",
       "улица Энгельса                                   1"
      ]
     },
     "execution_count": 37,
     "metadata": {},
     "output_type": "execute_result"
    }
   ],
   "source": [
    "bottom_area_list = bottom_area['streetname']\n",
    "\n",
    "bottom_street.query('streetname not in @bottom_area_list')"
   ]
  },
  {
   "cell_type": "markdown",
   "metadata": {},
   "source": [
    "Скорее всего названия не соответствуют справочнику по регистрам или порядку записи. Не будем искать соответствие для каждой улицы. Названия, включающие \"Московсокой кольцевой автодороги\" встречаются 12 раз. Посмотрим как они называются в справочнике и приведем к одному названию с вариантом в нем."
   ]
  },
  {
   "cell_type": "code",
   "execution_count": 38,
   "metadata": {
    "scrolled": true
   },
   "outputs": [
    {
     "data": {
      "text/html": [
       "<div>\n",
       "<style scoped>\n",
       "    .dataframe tbody tr th:only-of-type {\n",
       "        vertical-align: middle;\n",
       "    }\n",
       "\n",
       "    .dataframe tbody tr th {\n",
       "        vertical-align: top;\n",
       "    }\n",
       "\n",
       "    .dataframe thead th {\n",
       "        text-align: right;\n",
       "    }\n",
       "</style>\n",
       "<table border=\"1\" class=\"dataframe\">\n",
       "  <thead>\n",
       "    <tr style=\"text-align: right;\">\n",
       "      <th></th>\n",
       "      <th>streetname</th>\n",
       "      <th>areaid</th>\n",
       "      <th>okrug</th>\n",
       "      <th>area</th>\n",
       "    </tr>\n",
       "  </thead>\n",
       "  <tbody>\n",
       "    <tr>\n",
       "      <th>1953</th>\n",
       "      <td>МКАД, 80-й километр</td>\n",
       "      <td>60</td>\n",
       "      <td>САО</td>\n",
       "      <td>Дмитровский район</td>\n",
       "    </tr>\n",
       "  </tbody>\n",
       "</table>\n",
       "</div>"
      ],
      "text/plain": [
       "               streetname  areaid okrug               area\n",
       "1953  МКАД, 80-й километр      60   САО  Дмитровский район"
      ]
     },
     "execution_count": 38,
     "metadata": {},
     "output_type": "execute_result"
    }
   ],
   "source": [
    "moscow_streets[moscow_streets['streetname'].str.contains('80-й километр')]"
   ]
  },
  {
   "cell_type": "code",
   "execution_count": 39,
   "metadata": {
    "scrolled": false
   },
   "outputs": [
    {
     "data": {
      "text/html": [
       "<div>\n",
       "<style scoped>\n",
       "    .dataframe tbody tr th:only-of-type {\n",
       "        vertical-align: middle;\n",
       "    }\n",
       "\n",
       "    .dataframe tbody tr th {\n",
       "        vertical-align: top;\n",
       "    }\n",
       "\n",
       "    .dataframe thead th {\n",
       "        text-align: right;\n",
       "    }\n",
       "</style>\n",
       "<table border=\"1\" class=\"dataframe\">\n",
       "  <thead>\n",
       "    <tr style=\"text-align: right;\">\n",
       "      <th></th>\n",
       "      <th>streetname</th>\n",
       "      <th>id</th>\n",
       "    </tr>\n",
       "  </thead>\n",
       "  <tbody>\n",
       "    <tr>\n",
       "      <th>39</th>\n",
       "      <td>МКАД, 104-й километр</td>\n",
       "      <td>1</td>\n",
       "    </tr>\n",
       "    <tr>\n",
       "      <th>79</th>\n",
       "      <td>МКАД, 26-й километр</td>\n",
       "      <td>1</td>\n",
       "    </tr>\n",
       "    <tr>\n",
       "      <th>95</th>\n",
       "      <td>МКАД, 30-й километр</td>\n",
       "      <td>1</td>\n",
       "    </tr>\n",
       "    <tr>\n",
       "      <th>96</th>\n",
       "      <td>МКАД, 31-й километр</td>\n",
       "      <td>1</td>\n",
       "    </tr>\n",
       "    <tr>\n",
       "      <th>97</th>\n",
       "      <td>МКАД, 34-й километр</td>\n",
       "      <td>1</td>\n",
       "    </tr>\n",
       "    <tr>\n",
       "      <th>98</th>\n",
       "      <td>МКАД, 38-й километр</td>\n",
       "      <td>1</td>\n",
       "    </tr>\n",
       "    <tr>\n",
       "      <th>99</th>\n",
       "      <td>39-й километр Калужского шоссе</td>\n",
       "      <td>1</td>\n",
       "    </tr>\n",
       "    <tr>\n",
       "      <th>106</th>\n",
       "      <td>МКАД, 42-й километр</td>\n",
       "      <td>1</td>\n",
       "    </tr>\n",
       "    <tr>\n",
       "      <th>111</th>\n",
       "      <td>МКАД, 56-й километр</td>\n",
       "      <td>1</td>\n",
       "    </tr>\n",
       "    <tr>\n",
       "      <th>116</th>\n",
       "      <td>МКАД, 65-й километр</td>\n",
       "      <td>1</td>\n",
       "    </tr>\n",
       "    <tr>\n",
       "      <th>117</th>\n",
       "      <td>МКАД, 67-й километр</td>\n",
       "      <td>1</td>\n",
       "    </tr>\n",
       "    <tr>\n",
       "      <th>121</th>\n",
       "      <td>МКАД, 78-й километр</td>\n",
       "      <td>1</td>\n",
       "    </tr>\n",
       "    <tr>\n",
       "      <th>124</th>\n",
       "      <td>МКАД, 80-й километр</td>\n",
       "      <td>1</td>\n",
       "    </tr>\n",
       "    <tr>\n",
       "      <th>469</th>\n",
       "      <td>улица 1-й километр Объездной Дороги</td>\n",
       "      <td>1</td>\n",
       "    </tr>\n",
       "  </tbody>\n",
       "</table>\n",
       "</div>"
      ],
      "text/plain": [
       "                              streetname  id\n",
       "39                  МКАД, 104-й километр   1\n",
       "79                   МКАД, 26-й километр   1\n",
       "95                   МКАД, 30-й километр   1\n",
       "96                   МКАД, 31-й километр   1\n",
       "97                   МКАД, 34-й километр   1\n",
       "98                   МКАД, 38-й километр   1\n",
       "99        39-й километр Калужского шоссе   1\n",
       "106                  МКАД, 42-й километр   1\n",
       "111                  МКАД, 56-й километр   1\n",
       "116                  МКАД, 65-й километр   1\n",
       "117                  МКАД, 67-й километр   1\n",
       "121                  МКАД, 78-й километр   1\n",
       "124                  МКАД, 80-й километр   1\n",
       "469  улица 1-й километр Объездной Дороги   1"
      ]
     },
     "execution_count": 39,
     "metadata": {},
     "output_type": "execute_result"
    }
   ],
   "source": [
    "bottom_street=bottom_street.reset_index()\n",
    "\n",
    "bottom_street.loc[bottom_street['streetname'] .str.contains('Московской Кольцевой'), 'streetname'] = (\n",
    "    'МКАД, ' + bottom_street['streetname'].astype(str)\n",
    ")\n",
    "bottom_street.loc[bottom_street['streetname'] .str.contains('Московской Кольцевой'), 'streetname'] = (\n",
    "    bottom_street['streetname'].str.replace('Московской Кольцевой Автодороги', '').str.strip()\n",
    ")\n",
    "bottom_street[bottom_street['streetname'] .str.contains('километр')]"
   ]
  },
  {
   "cell_type": "markdown",
   "metadata": {},
   "source": [
    "Повторим поиск улиц в справочнике"
   ]
  },
  {
   "cell_type": "code",
   "execution_count": 40,
   "metadata": {},
   "outputs": [
    {
     "name": "stdout",
     "output_type": "stream",
     "text": [
      "Удалось определить район для 533 улиц\n",
      "Улицы с одним заведенем проходят через 103 района\n"
     ]
    }
   ],
   "source": [
    "bottom_street_list = bottom_street['streetname']\n",
    "\n",
    "bottom_area = moscow_streets.query('streetname in @bottom_street_list')\n",
    "\n",
    "\n",
    "print('Удалось определить район для', bottom_area['streetname'].nunique(), 'улиц')\n",
    "print('Улицы с одним заведенем проходят через', bottom_area['area'].nunique(), 'района')"
   ]
  },
  {
   "cell_type": "markdown",
   "metadata": {},
   "source": [
    "Определим районы, через которые проходит больше всего улиц с 1 заведением."
   ]
  },
  {
   "cell_type": "code",
   "execution_count": 41,
   "metadata": {
    "scrolled": false
   },
   "outputs": [
    {
     "data": {
      "image/png": "[encoded data removed]",
      "text/plain": [
       "<Figure size 864x504 with 1 Axes>"
      ]
     },
     "metadata": {
      "needs_background": "light"
     },
     "output_type": "display_data"
    },
    {
     "data": {
      "text/html": [
       "<div>\n",
       "<style scoped>\n",
       "    .dataframe tbody tr th:only-of-type {\n",
       "        vertical-align: middle;\n",
       "    }\n",
       "\n",
       "    .dataframe tbody tr th {\n",
       "        vertical-align: top;\n",
       "    }\n",
       "\n",
       "    .dataframe thead th {\n",
       "        text-align: right;\n",
       "    }\n",
       "</style>\n",
       "<table border=\"1\" class=\"dataframe\">\n",
       "  <thead>\n",
       "    <tr style=\"text-align: right;\">\n",
       "      <th></th>\n",
       "      <th>Число улиц с одним заведением</th>\n",
       "    </tr>\n",
       "    <tr>\n",
       "      <th>Район</th>\n",
       "      <th></th>\n",
       "    </tr>\n",
       "  </thead>\n",
       "  <tbody>\n",
       "    <tr>\n",
       "      <th>Таганский район</th>\n",
       "      <td>27</td>\n",
       "    </tr>\n",
       "    <tr>\n",
       "      <th>Район Хамовники</th>\n",
       "      <td>26</td>\n",
       "    </tr>\n",
       "    <tr>\n",
       "      <th>Басманный район</th>\n",
       "      <td>25</td>\n",
       "    </tr>\n",
       "    <tr>\n",
       "      <th>Пресненский район</th>\n",
       "      <td>20</td>\n",
       "    </tr>\n",
       "    <tr>\n",
       "      <th>Тверской район</th>\n",
       "      <td>20</td>\n",
       "    </tr>\n",
       "    <tr>\n",
       "      <th>Район Арбат</th>\n",
       "      <td>18</td>\n",
       "    </tr>\n",
       "    <tr>\n",
       "      <th>Район Марьина роща</th>\n",
       "      <td>18</td>\n",
       "    </tr>\n",
       "    <tr>\n",
       "      <th>Мещанский район</th>\n",
       "      <td>16</td>\n",
       "    </tr>\n",
       "    <tr>\n",
       "      <th>Район Сокольники</th>\n",
       "      <td>15</td>\n",
       "    </tr>\n",
       "    <tr>\n",
       "      <th>Район Замоскворечье</th>\n",
       "      <td>14</td>\n",
       "    </tr>\n",
       "  </tbody>\n",
       "</table>\n",
       "</div>"
      ],
      "text/plain": [
       "                     Число улиц с одним заведением\n",
       "Район                                             \n",
       "Таганский район                                 27\n",
       "Район Хамовники                                 26\n",
       "Басманный район                                 25\n",
       "Пресненский район                               20\n",
       "Тверской район                                  20\n",
       "Район Арбат                                     18\n",
       "Район Марьина роща                              18\n",
       "Мещанский район                                 16\n",
       "Район Сокольники                                15\n",
       "Район Замоскворечье                             14"
      ]
     },
     "execution_count": 41,
     "metadata": {},
     "output_type": "execute_result"
    }
   ],
   "source": [
    "bottom_street_on_area = (\n",
    "    pd.merge(bottom_street, \n",
    "             bottom_area\n",
    "             , on='streetname', how='left')\n",
    "    .dropna()\n",
    "    .groupby('area')\n",
    "    .agg({'streetname': 'nunique'})\n",
    "    .sort_values(by='streetname', ascending=False)    \n",
    ")\n",
    "bottom_street_on_area.index.name = 'Район'\n",
    "bottom_street_on_area.columns = ['Число улиц с одним заведением']\n",
    "(\n",
    "    bottom_street_on_area.head(10)\n",
    "    .plot(kind='barh', figsize=(12, 7), grid=True)\n",
    ")    \n",
    "plt.title('Районы с наибольшим числом улиц\\nс одним заведением общественного питания')\n",
    "plt.legend(['количество улиц\\nс одним заведнием'])\n",
    "plt.ylabel('Район')\n",
    "plt.xlabel('Количество улиц с одним заведением')\n",
    "#plt.tight_layout()\n",
    "plt.show()\n",
    "\n",
    "\n",
    "\n",
    "bottom_street_on_area.head(10)"
   ]
  },
  {
   "cell_type": "markdown",
   "metadata": {},
   "source": [
    "**Вывод**\n",
    "\n",
    "Большое количество улиц только с одним заведением общественного питания проходит в основном через центральные районы Москвы, где много исторической застройки и небольших по протяженности улочек."
   ]
  },
  {
   "cell_type": "markdown",
   "metadata": {},
   "source": [
    "###  Распределение посадочных мест для улиц с большим количеством объектов общественного питания."
   ]
  },
  {
   "cell_type": "code",
   "execution_count": 42,
   "metadata": {
    "scrolled": false
   },
   "outputs": [
    {
     "data": {
      "image/png": "[encoded data removed]",
      "text/plain": [
       "<Figure size 720x576 with 1 Axes>"
      ]
     },
     "metadata": {
      "needs_background": "light"
     },
     "output_type": "display_data"
    },
    {
     "data": {
      "text/html": [
       "<div>\n",
       "<style scoped>\n",
       "    .dataframe tbody tr th:only-of-type {\n",
       "        vertical-align: middle;\n",
       "    }\n",
       "\n",
       "    .dataframe tbody tr th {\n",
       "        vertical-align: top;\n",
       "    }\n",
       "\n",
       "    .dataframe thead th {\n",
       "        text-align: right;\n",
       "    }\n",
       "</style>\n",
       "<table border=\"1\" class=\"dataframe\">\n",
       "  <thead>\n",
       "    <tr style=\"text-align: right;\">\n",
       "      <th></th>\n",
       "      <th>медиана посадочных мест сетевое</th>\n",
       "      <th>медиана посадочных мест несетевое</th>\n",
       "      <th>медиана посадочных мест общая</th>\n",
       "    </tr>\n",
       "    <tr>\n",
       "      <th>Улица</th>\n",
       "      <th></th>\n",
       "      <th></th>\n",
       "      <th></th>\n",
       "    </tr>\n",
       "  </thead>\n",
       "  <tbody>\n",
       "    <tr>\n",
       "      <th>город Зеленоград</th>\n",
       "      <td>73</td>\n",
       "      <td>60</td>\n",
       "      <td>60</td>\n",
       "    </tr>\n",
       "    <tr>\n",
       "      <th>проспект Мира</th>\n",
       "      <td>60</td>\n",
       "      <td>41</td>\n",
       "      <td>46</td>\n",
       "    </tr>\n",
       "    <tr>\n",
       "      <th>Ленинский проспект</th>\n",
       "      <td>55</td>\n",
       "      <td>45</td>\n",
       "      <td>45</td>\n",
       "    </tr>\n",
       "    <tr>\n",
       "      <th>Кутузовский проспект</th>\n",
       "      <td>30</td>\n",
       "      <td>50</td>\n",
       "      <td>40</td>\n",
       "    </tr>\n",
       "    <tr>\n",
       "      <th>Ленинградский проспект</th>\n",
       "      <td>34</td>\n",
       "      <td>40</td>\n",
       "      <td>40</td>\n",
       "    </tr>\n",
       "    <tr>\n",
       "      <th>проспект Вернадского</th>\n",
       "      <td>50</td>\n",
       "      <td>40</td>\n",
       "      <td>40</td>\n",
       "    </tr>\n",
       "    <tr>\n",
       "      <th>Варшавское шоссе</th>\n",
       "      <td>40</td>\n",
       "      <td>26</td>\n",
       "      <td>30</td>\n",
       "    </tr>\n",
       "    <tr>\n",
       "      <th>Пресненская набережная</th>\n",
       "      <td>35</td>\n",
       "      <td>26</td>\n",
       "      <td>30</td>\n",
       "    </tr>\n",
       "    <tr>\n",
       "      <th>Каширское шоссе</th>\n",
       "      <td>55</td>\n",
       "      <td>24</td>\n",
       "      <td>25</td>\n",
       "    </tr>\n",
       "    <tr>\n",
       "      <th>Профсоюзная улица</th>\n",
       "      <td>44</td>\n",
       "      <td>20</td>\n",
       "      <td>24</td>\n",
       "    </tr>\n",
       "  </tbody>\n",
       "</table>\n",
       "</div>"
      ],
      "text/plain": [
       "                        медиана посадочных мест сетевое  \\\n",
       "Улица                                                     \n",
       "город Зеленоград                                     73   \n",
       "проспект Мира                                        60   \n",
       "Ленинский проспект                                   55   \n",
       "Кутузовский проспект                                 30   \n",
       "Ленинградский проспект                               34   \n",
       "проспект Вернадского                                 50   \n",
       "Варшавское шоссе                                     40   \n",
       "Пресненская набережная                               35   \n",
       "Каширское шоссе                                      55   \n",
       "Профсоюзная улица                                    44   \n",
       "\n",
       "                        медиана посадочных мест несетевое  \\\n",
       "Улица                                                       \n",
       "город Зеленоград                                       60   \n",
       "проспект Мира                                          41   \n",
       "Ленинский проспект                                     45   \n",
       "Кутузовский проспект                                   50   \n",
       "Ленинградский проспект                                 40   \n",
       "проспект Вернадского                                   40   \n",
       "Варшавское шоссе                                       26   \n",
       "Пресненская набережная                                 26   \n",
       "Каширское шоссе                                        24   \n",
       "Профсоюзная улица                                      20   \n",
       "\n",
       "                        медиана посадочных мест общая  \n",
       "Улица                                                  \n",
       "город Зеленоград                                   60  \n",
       "проспект Мира                                      46  \n",
       "Ленинский проспект                                 45  \n",
       "Кутузовский проспект                               40  \n",
       "Ленинградский проспект                             40  \n",
       "проспект Вернадского                               40  \n",
       "Варшавское шоссе                                   30  \n",
       "Пресненская набережная                             30  \n",
       "Каширское шоссе                                    25  \n",
       "Профсоюзная улица                                  24  "
      ]
     },
     "execution_count": 42,
     "metadata": {},
     "output_type": "execute_result"
    }
   ],
   "source": [
    "plt.figure(figsize=(10,8))\n",
    "ax =(\n",
    "    sns.boxplot(x='number', y='streetname', hue='chain',\n",
    "               data=rest_data.query('streetname in @top_street_list'),\n",
    "                order=['город Зеленоград', 'проспект Мира', 'Ленинский проспект',\n",
    "                      'Кутузовский проспект', 'Ленинградский проспект', 'проспект Вернадского',\n",
    "                      'Варшавское шоссе', 'Пресненская набережная', 'Каширское шоссе', 'Профсоюзная улица']\n",
    "               )\n",
    ")\n",
    "ax.set_xlim(-20, 300)\n",
    "plt.title('Распределение числа посадочных мест\\nдля улиц с большим количеством заведений')\n",
    "\n",
    "new1_legend_label = 'сетевое\\nзаведение'\n",
    "new2_legend_label = 'несетевое\\nзаведение'\n",
    "ax.legend(title=\"тип заведения\")\n",
    "ax.legend_.texts[0].set_text(new1_legend_label)\n",
    "ax.legend_.texts[1].set_text(new2_legend_label)\n",
    "\n",
    "ax.set_ylabel('Улица')\n",
    "ax.set_xlabel('Число посадочных мест')\n",
    "\n",
    "plt.show()\n",
    "\n",
    "seat_top_street_on_chain = (\n",
    "    pd.merge(\n",
    "        rest_data.query('streetname in @top_street_list')\n",
    "        .pivot_table(index='streetname', columns='chain', values='number', aggfunc='median'),\n",
    "        rest_data.query('streetname in @top_street_list')\n",
    "        .groupby('streetname').agg({'number': 'median'}),\n",
    "        left_index=True, right_index=True\n",
    "    )\n",
    "    .astype(int)\n",
    "    .sort_values(by='number', ascending=False)\n",
    ")\n",
    "seat_top_street_on_chain.index.name='Улица'\n",
    "seat_top_street_on_chain.columns=['медиана посадочных мест сетевое',\n",
    "                                  'медиана посадочных мест несетевое',\n",
    "                                  'медиана посадочных мест общая']\n",
    "seat_top_street_on_chain"
   ]
  },
  {
   "cell_type": "markdown",
   "metadata": {
    "scrolled": true
   },
   "source": [
    "**Вывод**\n",
    "\n",
    "В целом для этих улиц, также, характерно, большее количество посадочных мест в сетевых заведениях (за исключением Ленинградского и Кутузовского проспектов). \n",
    "\n",
    "Самые высокие медианные значения количества посадочных мест в Зеленограде. Здесь также самый большой разброс этого показателя у несетевых заведений. Наверное, потому что это целый пригород с большим количеством различных учреждений, в которых имеются крупные столовые. \n",
    "\n",
    "Медиана количества посадочных мест большинства несетевых заведений стремится к нижней границе, значит значений заведений с меньшим количеством посадочных мест больше.\n",
    "\n",
    "Кроме Зеленограда несетевые заведения с болшим количеством посадочных мест преобладают на Кутузовском и Ленинском проспектах.\n",
    "\n",
    "Сетевые заведения с наибольшим количеством посадочных мест расположены на Проспекте Мира, Ленинском проспекте и Каширском шоссе. На проспекте Мира самый большой разброс значений количества посадочных мест у сетевых заведений.\n",
    "\n",
    "Самые маленькие по количеству посадочных мест несетевые заведения расположены на Профсоюзной улице. А сетевые - на Кутузовском проспекте."
   ]
  },
  {
   "cell_type": "markdown",
   "metadata": {},
   "source": [
    "## Общий вывод."
   ]
  },
  {
   "cell_type": "markdown",
   "metadata": {},
   "source": [
    "В ходе исследования мы выяснили:\n",
    "- В Москве преобладают несетевые заведения (почти 81%)\n",
    "- Самый распространенный вид заведения общественного питания - это кафе (почти 40% всех заведений). Столовых - 17%, ресторанов - 15%.\n",
    "- Самая высокая доля сетевых заведений среди предприятий быстрого обслуживания - 41% из них сетевые. Практически нет сетевых столовых - только 0,12% из всех столовых Москвы. \n",
    "\n",
    "Почти половину всех сетевых заведений составляют кафе - 47%. На предприятия быстрого обслуживания приходится 27% сетевых заведений, и 18% сетевых заведений - это рестораны.\n",
    "\n",
    "Самые распространенные сети общественного питания - это сети с небольшим количеством заведений (меньше 5) и большим количеством посадочных мест (более 20).\n",
    "\n",
    "Самые большие заведения по среднему числу посадочных мест - столовые (130-в сетевых и 112-в несетевых). Немного меньше среднее число мест в ресторанах (100- в сетевых и 96- в несетевых). Меньше всего в среднем посадочных мест в закусочных и отделах кулинарии (в среднем 8 и 6 соответственно).\n",
    "\n",
    "В сетевых заведениях посадочных мест, как правило, больше. Среднее число посадочных мест в сетевом кафе - 47, а в несетевом - 40. Исключения составляют лишь столовые и буфеты, среди которых практически нет сетевых.Особенно велика разница в среднем значении посадочных мест между сетевыми и несетевыми заведениями у предприятий быстрого обслуживания - в сетевых в среднем 40 посадочных мест, в несетевых всего 7 (на 82,5% меньше).\n",
    "\n",
    "Улица с самым болшим количеством заведений - это проспект Мира, во многом из-за ее протяженности. По количеству заведений на район лидирует Пресненская набережная (167 заведений на этой улице в 1 районе), затем идет Кутузовский проспект - на 1 район в среднем приходится 57 заведений.\n",
    "\n",
    "Больше всего улиц с 1 объектом общественного питания расположено в центральных района Москвы - Таганский, Хамовники, Пресненский район. Это связано с исторической застройкой и множеством небольших улочек в этих районах. \n",
    "\n",
    "Если рассматривать улицы с наибольшим количеством заведений, то самые крупные (по количеству посадочных мест) преобладают в Зеленограде, на Проспекте Мира, Ленинсом проспекте. Заведения с меньшим количеством посадочных мест преобладают на Профсоюзной улице и Каширском шоссе. \n",
    "\n",
    "**Рекомендации**\n",
    "\n",
    "Для нового заведения можно рекомендовать тип кафе с количеством посадочных мест 30-35 (как один из самых распространенных в Москве). Такой формат можно будет сделать сетевым в случае успеха. В качестве района - Пресненскую набережную. Судя по плотности заведений там нет недостатка в посетителях. Кроме того, располеженный рядом Москва-Сити поддержит концепцию кафе - будущее и высокие технологии.    "
   ]
  },
  {
   "cell_type": "markdown",
   "metadata": {},
   "source": [
    "## Презентация"
   ]
  },
  {
   "cell_type": "markdown",
   "metadata": {},
   "source": [
    "Презентация: <https://drive.google.com/file/d/14L9V_eR3PKhaxQ1SS5__EUXrcllJxRFa/view?usp=sharing>"
   ]
  }
 ],
 "metadata": {
  "ExecuteTimeLog": [
   {
    "duration": 1890,
    "start_time": "2022-03-09T15:38:27.122Z"
   },
   {
    "duration": 47,
    "start_time": "2022-03-09T15:38:34.214Z"
   },
   {
    "duration": 14,
    "start_time": "2022-03-09T15:39:02.378Z"
   },
   {
    "duration": 54,
    "start_time": "2022-03-09T15:42:10.249Z"
   },
   {
    "duration": 12,
    "start_time": "2022-03-09T15:42:11.457Z"
   },
   {
    "duration": 23,
    "start_time": "2022-03-09T16:10:22.600Z"
   },
   {
    "duration": 63,
    "start_time": "2022-03-09T16:12:35.064Z"
   },
   {
    "duration": 17,
    "start_time": "2022-03-09T16:13:01.892Z"
   },
   {
    "duration": 73,
    "start_time": "2022-03-09T16:20:03.128Z"
   },
   {
    "duration": 5,
    "start_time": "2022-03-09T16:20:11.897Z"
   },
   {
    "duration": 5,
    "start_time": "2022-03-09T16:21:32.200Z"
   },
   {
    "duration": 29,
    "start_time": "2022-03-09T16:46:01.989Z"
   },
   {
    "duration": 10,
    "start_time": "2022-03-09T16:46:21.429Z"
   },
   {
    "duration": 366,
    "start_time": "2022-03-09T16:48:05.681Z"
   },
   {
    "duration": 22,
    "start_time": "2022-03-09T16:49:01.561Z"
   },
   {
    "duration": 182,
    "start_time": "2022-03-09T16:49:48.728Z"
   },
   {
    "duration": 8,
    "start_time": "2022-03-09T16:51:21.017Z"
   },
   {
    "duration": 15,
    "start_time": "2022-03-09T16:53:41.921Z"
   },
   {
    "duration": 5,
    "start_time": "2022-03-09T16:59:25.740Z"
   },
   {
    "duration": 1969,
    "start_time": "2022-03-10T15:02:18.043Z"
   },
   {
    "duration": 81,
    "start_time": "2022-03-10T15:02:20.015Z"
   },
   {
    "duration": 832,
    "start_time": "2022-03-10T15:02:20.100Z"
   },
   {
    "duration": 648,
    "start_time": "2022-03-10T15:02:20.937Z"
   },
   {
    "duration": 354,
    "start_time": "2022-03-10T15:02:21.588Z"
   },
   {
    "duration": 555,
    "start_time": "2022-03-10T15:02:21.945Z"
   },
   {
    "duration": 540,
    "start_time": "2022-03-10T15:02:22.504Z"
   },
   {
    "duration": 378,
    "start_time": "2022-03-10T15:02:23.049Z"
   },
   {
    "duration": 385,
    "start_time": "2022-03-10T15:02:23.430Z"
   },
   {
    "duration": 185,
    "start_time": "2022-03-10T15:02:23.818Z"
   },
   {
    "duration": 642,
    "start_time": "2022-03-10T15:02:24.006Z"
   },
   {
    "duration": 8,
    "start_time": "2022-03-10T15:05:28.320Z"
   },
   {
    "duration": 115,
    "start_time": "2022-03-10T15:15:54.364Z"
   },
   {
    "duration": 2111,
    "start_time": "2022-03-10T15:22:14.648Z"
   },
   {
    "duration": 66,
    "start_time": "2022-03-10T15:22:16.763Z"
   },
   {
    "duration": 312,
    "start_time": "2022-03-10T15:22:16.833Z"
   },
   {
    "duration": 569,
    "start_time": "2022-03-10T15:22:17.148Z"
   },
   {
    "duration": 491,
    "start_time": "2022-03-10T15:22:17.720Z"
   },
   {
    "duration": 586,
    "start_time": "2022-03-10T15:22:18.214Z"
   },
   {
    "duration": 708,
    "start_time": "2022-03-10T15:22:18.803Z"
   },
   {
    "duration": 1367,
    "start_time": "2022-03-10T15:22:19.515Z"
   },
   {
    "duration": 11,
    "start_time": "2022-03-10T15:32:17.397Z"
   },
   {
    "duration": 8,
    "start_time": "2022-03-10T15:32:55.773Z"
   },
   {
    "duration": 35,
    "start_time": "2022-03-10T15:33:46.764Z"
   },
   {
    "duration": 15,
    "start_time": "2022-03-10T15:36:34.300Z"
   },
   {
    "duration": 6,
    "start_time": "2022-03-10T15:40:14.752Z"
   },
   {
    "duration": 10,
    "start_time": "2022-03-10T15:49:48.689Z"
   },
   {
    "duration": 8,
    "start_time": "2022-03-10T15:51:52.955Z"
   },
   {
    "duration": 6,
    "start_time": "2022-03-10T16:04:42.955Z"
   },
   {
    "duration": 78,
    "start_time": "2022-03-10T16:09:33.903Z"
   },
   {
    "duration": 53,
    "start_time": "2022-03-10T16:17:20.730Z"
   },
   {
    "duration": 5940,
    "start_time": "2022-03-10T16:19:50.475Z"
   },
   {
    "duration": 30,
    "start_time": "2022-03-10T16:20:15.667Z"
   },
   {
    "duration": 73,
    "start_time": "2022-03-10T16:37:06.234Z"
   },
   {
    "duration": 362,
    "start_time": "2022-03-10T16:37:15.454Z"
   },
   {
    "duration": 26,
    "start_time": "2022-03-10T16:43:37.805Z"
   },
   {
    "duration": 39,
    "start_time": "2022-03-10T16:47:22.422Z"
   },
   {
    "duration": 34,
    "start_time": "2022-03-10T16:49:02.961Z"
   },
   {
    "duration": 30,
    "start_time": "2022-03-10T16:50:16.281Z"
   },
   {
    "duration": 238,
    "start_time": "2022-03-10T16:50:52.140Z"
   },
   {
    "duration": 28,
    "start_time": "2022-03-10T17:02:14.256Z"
   },
   {
    "duration": 30,
    "start_time": "2022-03-10T17:05:26.798Z"
   },
   {
    "duration": 31,
    "start_time": "2022-03-10T17:10:15.549Z"
   },
   {
    "duration": 28,
    "start_time": "2022-03-10T17:10:35.513Z"
   },
   {
    "duration": 30,
    "start_time": "2022-03-10T17:10:53.613Z"
   },
   {
    "duration": 31,
    "start_time": "2022-03-10T17:11:33.893Z"
   },
   {
    "duration": 28,
    "start_time": "2022-03-10T17:12:27.969Z"
   },
   {
    "duration": 438,
    "start_time": "2022-03-10T17:12:48.445Z"
   },
   {
    "duration": 33,
    "start_time": "2022-03-10T17:12:55.841Z"
   },
   {
    "duration": 34,
    "start_time": "2022-03-10T17:13:08.509Z"
   },
   {
    "duration": 34,
    "start_time": "2022-03-10T17:15:21.841Z"
   },
   {
    "duration": 42,
    "start_time": "2022-03-10T17:16:17.462Z"
   },
   {
    "duration": 39,
    "start_time": "2022-03-10T17:25:16.664Z"
   },
   {
    "duration": 48,
    "start_time": "2022-03-10T17:26:42.777Z"
   },
   {
    "duration": 34,
    "start_time": "2022-03-10T17:32:58.592Z"
   },
   {
    "duration": 81,
    "start_time": "2022-03-10T17:34:09.310Z"
   },
   {
    "duration": 37,
    "start_time": "2022-03-10T17:34:21.004Z"
   },
   {
    "duration": 42,
    "start_time": "2022-03-10T17:40:46.027Z"
   },
   {
    "duration": 21,
    "start_time": "2022-03-10T17:43:57.475Z"
   },
   {
    "duration": 229,
    "start_time": "2022-03-10T17:45:30.863Z"
   },
   {
    "duration": 14,
    "start_time": "2022-03-10T17:46:34.112Z"
   },
   {
    "duration": 2066,
    "start_time": "2022-03-10T18:04:28.868Z"
   },
   {
    "duration": 67,
    "start_time": "2022-03-10T18:04:30.937Z"
   },
   {
    "duration": 13,
    "start_time": "2022-03-10T18:04:31.007Z"
   },
   {
    "duration": 48,
    "start_time": "2022-03-10T18:04:31.024Z"
   },
   {
    "duration": 12,
    "start_time": "2022-03-10T18:04:31.074Z"
   },
   {
    "duration": 48,
    "start_time": "2022-03-10T18:04:31.089Z"
   },
   {
    "duration": 270,
    "start_time": "2022-03-10T18:04:31.141Z"
   },
   {
    "duration": 9,
    "start_time": "2022-03-10T18:04:31.415Z"
   },
   {
    "duration": 54,
    "start_time": "2022-03-10T18:04:31.428Z"
   },
   {
    "duration": 17,
    "start_time": "2022-03-10T18:04:31.486Z"
   },
   {
    "duration": 22,
    "start_time": "2022-03-10T18:04:31.510Z"
   },
   {
    "duration": 74,
    "start_time": "2022-03-10T18:04:31.535Z"
   },
   {
    "duration": 40,
    "start_time": "2022-03-10T18:04:31.612Z"
   },
   {
    "duration": 44,
    "start_time": "2022-03-10T18:04:31.655Z"
   },
   {
    "duration": 16,
    "start_time": "2022-03-10T18:04:31.701Z"
   },
   {
    "duration": 1782,
    "start_time": "2022-03-10T18:11:05.277Z"
   },
   {
    "duration": 64,
    "start_time": "2022-03-10T18:11:07.062Z"
   },
   {
    "duration": 13,
    "start_time": "2022-03-10T18:11:07.129Z"
   },
   {
    "duration": 48,
    "start_time": "2022-03-10T18:11:07.144Z"
   },
   {
    "duration": 8,
    "start_time": "2022-03-10T18:11:07.194Z"
   },
   {
    "duration": 48,
    "start_time": "2022-03-10T18:11:07.205Z"
   },
   {
    "duration": 283,
    "start_time": "2022-03-10T18:11:07.257Z"
   },
   {
    "duration": 8,
    "start_time": "2022-03-10T18:11:07.544Z"
   },
   {
    "duration": 109,
    "start_time": "2022-03-10T18:11:07.555Z"
   },
   {
    "duration": 26,
    "start_time": "2022-03-10T18:11:07.666Z"
   },
   {
    "duration": 11,
    "start_time": "2022-03-10T18:11:07.694Z"
   },
   {
    "duration": 74,
    "start_time": "2022-03-10T18:11:07.707Z"
   },
   {
    "duration": 33,
    "start_time": "2022-03-10T18:11:07.783Z"
   },
   {
    "duration": 19,
    "start_time": "2022-03-10T18:11:07.818Z"
   },
   {
    "duration": 51,
    "start_time": "2022-03-10T18:11:07.840Z"
   },
   {
    "duration": 1511,
    "start_time": "2022-03-12T09:33:33.183Z"
   },
   {
    "duration": 69,
    "start_time": "2022-03-12T09:33:34.696Z"
   },
   {
    "duration": 11,
    "start_time": "2022-03-12T09:33:34.767Z"
   },
   {
    "duration": 20,
    "start_time": "2022-03-12T09:33:34.780Z"
   },
   {
    "duration": 5,
    "start_time": "2022-03-12T09:33:34.801Z"
   },
   {
    "duration": 36,
    "start_time": "2022-03-12T09:33:34.808Z"
   },
   {
    "duration": 196,
    "start_time": "2022-03-12T09:33:34.846Z"
   },
   {
    "duration": 6,
    "start_time": "2022-03-12T09:33:35.044Z"
   },
   {
    "duration": 26,
    "start_time": "2022-03-12T09:33:35.052Z"
   },
   {
    "duration": 15,
    "start_time": "2022-03-12T09:33:35.080Z"
   },
   {
    "duration": 13,
    "start_time": "2022-03-12T09:33:35.097Z"
   },
   {
    "duration": 46,
    "start_time": "2022-03-12T09:33:35.111Z"
   },
   {
    "duration": 34,
    "start_time": "2022-03-12T09:33:35.159Z"
   },
   {
    "duration": 14,
    "start_time": "2022-03-12T09:33:35.195Z"
   },
   {
    "duration": 12,
    "start_time": "2022-03-12T09:33:35.211Z"
   },
   {
    "duration": 14,
    "start_time": "2022-03-12T09:45:47.544Z"
   },
   {
    "duration": 340,
    "start_time": "2022-03-12T09:47:11.560Z"
   },
   {
    "duration": 238,
    "start_time": "2022-03-12T09:47:52.786Z"
   },
   {
    "duration": 240,
    "start_time": "2022-03-12T09:58:19.909Z"
   },
   {
    "duration": 259,
    "start_time": "2022-03-12T10:02:09.832Z"
   },
   {
    "duration": 225,
    "start_time": "2022-03-12T10:02:18.741Z"
   },
   {
    "duration": 10,
    "start_time": "2022-03-12T10:02:47.573Z"
   },
   {
    "duration": 211,
    "start_time": "2022-03-12T10:03:43.981Z"
   },
   {
    "duration": 15,
    "start_time": "2022-03-12T10:04:45.800Z"
   },
   {
    "duration": 13,
    "start_time": "2022-03-12T10:06:04.185Z"
   },
   {
    "duration": 16,
    "start_time": "2022-03-12T10:06:24.748Z"
   },
   {
    "duration": 16,
    "start_time": "2022-03-12T10:06:54.805Z"
   },
   {
    "duration": 13,
    "start_time": "2022-03-12T10:11:31.520Z"
   },
   {
    "duration": 8,
    "start_time": "2022-03-12T10:12:39.697Z"
   },
   {
    "duration": 10,
    "start_time": "2022-03-12T10:38:07.197Z"
   },
   {
    "duration": 4,
    "start_time": "2022-03-12T10:52:00.861Z"
   },
   {
    "duration": 3,
    "start_time": "2022-03-12T10:52:36.532Z"
   },
   {
    "duration": 72,
    "start_time": "2022-03-12T10:52:44.261Z"
   },
   {
    "duration": 249,
    "start_time": "2022-03-12T10:53:02.186Z"
   },
   {
    "duration": 9,
    "start_time": "2022-03-12T10:53:53.785Z"
   },
   {
    "duration": 1504,
    "start_time": "2022-03-12T11:04:43.482Z"
   },
   {
    "duration": 64,
    "start_time": "2022-03-12T11:04:44.991Z"
   },
   {
    "duration": 10,
    "start_time": "2022-03-12T11:04:45.057Z"
   },
   {
    "duration": 26,
    "start_time": "2022-03-12T11:04:45.069Z"
   },
   {
    "duration": 8,
    "start_time": "2022-03-12T11:04:45.097Z"
   },
   {
    "duration": 28,
    "start_time": "2022-03-12T11:04:45.106Z"
   },
   {
    "duration": 204,
    "start_time": "2022-03-12T11:04:45.136Z"
   },
   {
    "duration": 6,
    "start_time": "2022-03-12T11:04:45.343Z"
   },
   {
    "duration": 27,
    "start_time": "2022-03-12T11:04:45.351Z"
   },
   {
    "duration": 5,
    "start_time": "2022-03-12T11:04:45.380Z"
   },
   {
    "duration": 12,
    "start_time": "2022-03-12T11:04:45.386Z"
   },
   {
    "duration": 45,
    "start_time": "2022-03-12T11:04:45.400Z"
   },
   {
    "duration": 45,
    "start_time": "2022-03-12T11:04:45.447Z"
   },
   {
    "duration": 14,
    "start_time": "2022-03-12T11:04:45.494Z"
   },
   {
    "duration": 12,
    "start_time": "2022-03-12T11:04:45.510Z"
   },
   {
    "duration": 8,
    "start_time": "2022-03-12T11:04:45.524Z"
   },
   {
    "duration": 46,
    "start_time": "2022-03-12T11:04:45.534Z"
   },
   {
    "duration": 5,
    "start_time": "2022-03-12T11:04:45.582Z"
   },
   {
    "duration": 5,
    "start_time": "2022-03-12T11:04:45.589Z"
   },
   {
    "duration": 15,
    "start_time": "2022-03-12T11:04:45.596Z"
   },
   {
    "duration": 87,
    "start_time": "2022-03-12T11:05:54.382Z"
   },
   {
    "duration": 2913,
    "start_time": "2022-03-12T11:06:06.714Z"
   },
   {
    "duration": 655,
    "start_time": "2022-03-12T11:07:00.629Z"
   },
   {
    "duration": 179,
    "start_time": "2022-03-12T11:07:40.654Z"
   },
   {
    "duration": 153,
    "start_time": "2022-03-12T11:13:44.306Z"
   },
   {
    "duration": 7,
    "start_time": "2022-03-12T11:13:47.654Z"
   },
   {
    "duration": 1484,
    "start_time": "2022-03-12T11:25:13.080Z"
   },
   {
    "duration": 60,
    "start_time": "2022-03-12T11:25:14.567Z"
   },
   {
    "duration": 10,
    "start_time": "2022-03-12T11:25:14.629Z"
   },
   {
    "duration": 36,
    "start_time": "2022-03-12T11:25:14.641Z"
   },
   {
    "duration": 6,
    "start_time": "2022-03-12T11:25:14.679Z"
   },
   {
    "duration": 23,
    "start_time": "2022-03-12T11:25:14.687Z"
   },
   {
    "duration": 209,
    "start_time": "2022-03-12T11:25:14.712Z"
   },
   {
    "duration": 6,
    "start_time": "2022-03-12T11:25:14.923Z"
   },
   {
    "duration": 12,
    "start_time": "2022-03-12T11:25:14.931Z"
   },
   {
    "duration": 6,
    "start_time": "2022-03-12T11:25:14.945Z"
   },
   {
    "duration": 25,
    "start_time": "2022-03-12T11:25:14.953Z"
   },
   {
    "duration": 49,
    "start_time": "2022-03-12T11:25:14.980Z"
   },
   {
    "duration": 48,
    "start_time": "2022-03-12T11:25:15.031Z"
   },
   {
    "duration": 15,
    "start_time": "2022-03-12T11:25:15.081Z"
   },
   {
    "duration": 13,
    "start_time": "2022-03-12T11:25:15.098Z"
   },
   {
    "duration": 9,
    "start_time": "2022-03-12T11:25:15.113Z"
   },
   {
    "duration": 14,
    "start_time": "2022-03-12T11:25:15.123Z"
   },
   {
    "duration": 40,
    "start_time": "2022-03-12T11:25:15.139Z"
   },
   {
    "duration": 11,
    "start_time": "2022-03-12T11:25:15.181Z"
   },
   {
    "duration": 363,
    "start_time": "2022-03-12T11:28:15.061Z"
   },
   {
    "duration": 309,
    "start_time": "2022-03-12T11:28:35.529Z"
   },
   {
    "duration": 149,
    "start_time": "2022-03-12T11:28:58.793Z"
   },
   {
    "duration": 70,
    "start_time": "2022-03-12T11:30:07.573Z"
   },
   {
    "duration": 178,
    "start_time": "2022-03-12T11:30:33.441Z"
   },
   {
    "duration": 128,
    "start_time": "2022-03-12T11:51:50.275Z"
   },
   {
    "duration": 2850,
    "start_time": "2022-03-12T11:52:20.134Z"
   },
   {
    "duration": 2712,
    "start_time": "2022-03-12T11:57:40.303Z"
   },
   {
    "duration": 612,
    "start_time": "2022-03-12T11:58:30.283Z"
   },
   {
    "duration": 210,
    "start_time": "2022-03-12T12:03:05.352Z"
   },
   {
    "duration": 397,
    "start_time": "2022-03-12T12:05:27.844Z"
   },
   {
    "duration": 7163,
    "start_time": "2022-03-12T12:17:41.868Z"
   },
   {
    "duration": 8,
    "start_time": "2022-03-12T12:17:59.048Z"
   },
   {
    "duration": 15,
    "start_time": "2022-03-12T12:23:35.649Z"
   },
   {
    "duration": 15,
    "start_time": "2022-03-12T12:25:23.033Z"
   },
   {
    "duration": 16,
    "start_time": "2022-03-12T12:26:22.929Z"
   },
   {
    "duration": 17,
    "start_time": "2022-03-12T12:28:33.785Z"
   },
   {
    "duration": 16,
    "start_time": "2022-03-12T12:29:21.021Z"
   },
   {
    "duration": 17,
    "start_time": "2022-03-12T12:29:42.561Z"
   },
   {
    "duration": 18,
    "start_time": "2022-03-12T12:29:52.390Z"
   },
   {
    "duration": 17,
    "start_time": "2022-03-12T12:29:59.201Z"
   },
   {
    "duration": 1968,
    "start_time": "2022-03-12T15:16:43.874Z"
   },
   {
    "duration": 69,
    "start_time": "2022-03-12T15:16:45.845Z"
   },
   {
    "duration": 15,
    "start_time": "2022-03-12T15:16:48.051Z"
   },
   {
    "duration": 25,
    "start_time": "2022-03-12T15:16:53.067Z"
   },
   {
    "duration": 7,
    "start_time": "2022-03-12T15:16:56.063Z"
   },
   {
    "duration": 7,
    "start_time": "2022-03-12T15:16:58.795Z"
   },
   {
    "duration": 30,
    "start_time": "2022-03-12T15:17:01.103Z"
   },
   {
    "duration": 257,
    "start_time": "2022-03-12T15:17:10.947Z"
   },
   {
    "duration": 9,
    "start_time": "2022-03-12T15:17:17.142Z"
   },
   {
    "duration": 21,
    "start_time": "2022-03-12T15:17:19.435Z"
   },
   {
    "duration": 31,
    "start_time": "2022-03-12T15:17:38.695Z"
   },
   {
    "duration": 25,
    "start_time": "2022-03-12T15:19:10.211Z"
   },
   {
    "duration": 24,
    "start_time": "2022-03-12T15:19:30.774Z"
   },
   {
    "duration": 23,
    "start_time": "2022-03-12T15:19:39.843Z"
   },
   {
    "duration": 26,
    "start_time": "2022-03-12T15:19:46.146Z"
   },
   {
    "duration": 78,
    "start_time": "2022-03-12T15:24:31.218Z"
   },
   {
    "duration": 16,
    "start_time": "2022-03-12T15:29:32.070Z"
   },
   {
    "duration": 25,
    "start_time": "2022-03-12T15:30:14.935Z"
   },
   {
    "duration": 23,
    "start_time": "2022-03-12T15:38:11.550Z"
   },
   {
    "duration": 27,
    "start_time": "2022-03-12T15:38:23.406Z"
   },
   {
    "duration": 283,
    "start_time": "2022-03-12T15:38:25.802Z"
   },
   {
    "duration": 8,
    "start_time": "2022-03-12T15:38:32.551Z"
   },
   {
    "duration": 15,
    "start_time": "2022-03-12T15:38:33.426Z"
   },
   {
    "duration": 25,
    "start_time": "2022-03-12T15:38:38.282Z"
   },
   {
    "duration": 5,
    "start_time": "2022-03-12T15:49:30.710Z"
   },
   {
    "duration": 1193,
    "start_time": "2022-03-12T15:49:33.388Z"
   },
   {
    "duration": 14,
    "start_time": "2022-03-12T15:50:44.246Z"
   },
   {
    "duration": 27,
    "start_time": "2022-03-12T15:58:41.546Z"
   },
   {
    "duration": 26,
    "start_time": "2022-03-12T16:07:17.195Z"
   },
   {
    "duration": 698,
    "start_time": "2022-03-12T16:16:35.417Z"
   },
   {
    "duration": 9133,
    "start_time": "2022-03-12T16:29:27.914Z"
   },
   {
    "duration": 26,
    "start_time": "2022-03-12T16:30:10.996Z"
   },
   {
    "duration": 38,
    "start_time": "2022-03-12T16:30:26.796Z"
   },
   {
    "duration": 1650,
    "start_time": "2022-03-17T05:38:41.543Z"
   },
   {
    "duration": 3,
    "start_time": "2022-03-17T05:38:43.195Z"
   },
   {
    "duration": 1452,
    "start_time": "2022-03-17T05:38:43.200Z"
   },
   {
    "duration": -7474,
    "start_time": "2022-03-17T05:38:52.129Z"
   },
   {
    "duration": -7479,
    "start_time": "2022-03-17T05:38:52.135Z"
   },
   {
    "duration": -7483,
    "start_time": "2022-03-17T05:38:52.140Z"
   },
   {
    "duration": -7485,
    "start_time": "2022-03-17T05:38:52.143Z"
   },
   {
    "duration": -7491,
    "start_time": "2022-03-17T05:38:52.150Z"
   },
   {
    "duration": -7496,
    "start_time": "2022-03-17T05:38:52.156Z"
   },
   {
    "duration": -7500,
    "start_time": "2022-03-17T05:38:52.161Z"
   },
   {
    "duration": -7504,
    "start_time": "2022-03-17T05:38:52.166Z"
   },
   {
    "duration": -7508,
    "start_time": "2022-03-17T05:38:52.171Z"
   },
   {
    "duration": -7511,
    "start_time": "2022-03-17T05:38:52.175Z"
   },
   {
    "duration": -7513,
    "start_time": "2022-03-17T05:38:52.179Z"
   },
   {
    "duration": -7516,
    "start_time": "2022-03-17T05:38:52.183Z"
   },
   {
    "duration": -7520,
    "start_time": "2022-03-17T05:38:52.188Z"
   },
   {
    "duration": -7523,
    "start_time": "2022-03-17T05:38:52.192Z"
   },
   {
    "duration": -7525,
    "start_time": "2022-03-17T05:38:52.195Z"
   },
   {
    "duration": -7527,
    "start_time": "2022-03-17T05:38:52.198Z"
   },
   {
    "duration": -7529,
    "start_time": "2022-03-17T05:38:52.201Z"
   },
   {
    "duration": -7533,
    "start_time": "2022-03-17T05:38:52.206Z"
   },
   {
    "duration": -7537,
    "start_time": "2022-03-17T05:38:52.211Z"
   },
   {
    "duration": -7540,
    "start_time": "2022-03-17T05:38:52.215Z"
   },
   {
    "duration": -7543,
    "start_time": "2022-03-17T05:38:52.219Z"
   },
   {
    "duration": -7549,
    "start_time": "2022-03-17T05:38:52.226Z"
   },
   {
    "duration": -7557,
    "start_time": "2022-03-17T05:38:52.235Z"
   },
   {
    "duration": -7562,
    "start_time": "2022-03-17T05:38:52.241Z"
   },
   {
    "duration": -7567,
    "start_time": "2022-03-17T05:38:52.247Z"
   },
   {
    "duration": -7570,
    "start_time": "2022-03-17T05:38:52.251Z"
   },
   {
    "duration": -7575,
    "start_time": "2022-03-17T05:38:52.257Z"
   },
   {
    "duration": -7577,
    "start_time": "2022-03-17T05:38:52.261Z"
   },
   {
    "duration": -7581,
    "start_time": "2022-03-17T05:38:52.266Z"
   },
   {
    "duration": -7585,
    "start_time": "2022-03-17T05:38:52.271Z"
   },
   {
    "duration": -7590,
    "start_time": "2022-03-17T05:38:52.277Z"
   },
   {
    "duration": -7597,
    "start_time": "2022-03-17T05:38:52.285Z"
   },
   {
    "duration": -7601,
    "start_time": "2022-03-17T05:38:52.290Z"
   },
   {
    "duration": -7605,
    "start_time": "2022-03-17T05:38:52.295Z"
   },
   {
    "duration": -7608,
    "start_time": "2022-03-17T05:38:52.299Z"
   },
   {
    "duration": -7612,
    "start_time": "2022-03-17T05:38:52.304Z"
   },
   {
    "duration": -7571,
    "start_time": "2022-03-17T05:38:52.309Z"
   },
   {
    "duration": -7574,
    "start_time": "2022-03-17T05:38:52.313Z"
   },
   {
    "duration": -7577,
    "start_time": "2022-03-17T05:38:52.318Z"
   },
   {
    "duration": -7580,
    "start_time": "2022-03-17T05:38:52.322Z"
   },
   {
    "duration": 68,
    "start_time": "2022-03-17T06:03:33.209Z"
   },
   {
    "duration": 8,
    "start_time": "2022-03-17T06:04:06.499Z"
   },
   {
    "duration": 1813,
    "start_time": "2022-03-17T06:04:17.322Z"
   },
   {
    "duration": 5,
    "start_time": "2022-03-17T06:04:19.739Z"
   },
   {
    "duration": 89,
    "start_time": "2022-03-17T06:04:21.888Z"
   },
   {
    "duration": 1607,
    "start_time": "2022-03-17T06:04:38.636Z"
   },
   {
    "duration": 5,
    "start_time": "2022-03-17T06:04:40.246Z"
   },
   {
    "duration": 94,
    "start_time": "2022-03-17T06:04:40.253Z"
   },
   {
    "duration": 33,
    "start_time": "2022-03-17T06:04:40.350Z"
   },
   {
    "duration": 28,
    "start_time": "2022-03-17T06:04:40.386Z"
   },
   {
    "duration": 7,
    "start_time": "2022-03-17T06:04:40.416Z"
   },
   {
    "duration": 21,
    "start_time": "2022-03-17T06:04:40.426Z"
   },
   {
    "duration": 64,
    "start_time": "2022-03-17T06:04:40.449Z"
   },
   {
    "duration": 766,
    "start_time": "2022-03-17T06:04:40.516Z"
   },
   {
    "duration": 13,
    "start_time": "2022-03-17T06:04:41.287Z"
   },
   {
    "duration": 16,
    "start_time": "2022-03-17T06:04:41.302Z"
   },
   {
    "duration": 64,
    "start_time": "2022-03-17T06:04:41.320Z"
   },
   {
    "duration": 13,
    "start_time": "2022-03-17T06:04:41.386Z"
   },
   {
    "duration": 8,
    "start_time": "2022-03-17T06:04:41.402Z"
   },
   {
    "duration": 753,
    "start_time": "2022-03-17T06:04:41.412Z"
   },
   {
    "duration": 36,
    "start_time": "2022-03-17T06:04:42.168Z"
   },
   {
    "duration": 25,
    "start_time": "2022-03-17T06:04:42.207Z"
   },
   {
    "duration": 50,
    "start_time": "2022-03-17T06:04:42.234Z"
   },
   {
    "duration": 13,
    "start_time": "2022-03-17T06:04:42.287Z"
   },
   {
    "duration": 9,
    "start_time": "2022-03-17T06:04:42.303Z"
   },
   {
    "duration": 74,
    "start_time": "2022-03-17T06:04:42.315Z"
   },
   {
    "duration": 41,
    "start_time": "2022-03-17T06:04:42.392Z"
   },
   {
    "duration": 1597,
    "start_time": "2022-03-17T06:04:42.436Z"
   },
   {
    "duration": 28,
    "start_time": "2022-03-17T06:04:44.036Z"
   },
   {
    "duration": 31,
    "start_time": "2022-03-17T06:04:44.083Z"
   },
   {
    "duration": 707,
    "start_time": "2022-03-17T06:04:44.117Z"
   },
   {
    "duration": 495,
    "start_time": "2022-03-17T06:04:44.826Z"
   },
   {
    "duration": 101,
    "start_time": "2022-03-17T06:04:45.327Z"
   },
   {
    "duration": 387,
    "start_time": "2022-03-17T06:04:45.430Z"
   },
   {
    "duration": 1214,
    "start_time": "2022-03-17T06:04:45.820Z"
   },
   {
    "duration": 11,
    "start_time": "2022-03-17T06:04:47.036Z"
   },
   {
    "duration": 14,
    "start_time": "2022-03-17T06:04:47.049Z"
   },
   {
    "duration": 20,
    "start_time": "2022-03-17T06:04:47.065Z"
   },
   {
    "duration": 17,
    "start_time": "2022-03-17T06:04:47.087Z"
   },
   {
    "duration": 545,
    "start_time": "2022-03-17T06:04:47.106Z"
   },
   {
    "duration": 38,
    "start_time": "2022-03-17T06:04:47.653Z"
   },
   {
    "duration": 12,
    "start_time": "2022-03-17T06:04:47.693Z"
   },
   {
    "duration": 45,
    "start_time": "2022-03-17T06:04:47.707Z"
   },
   {
    "duration": 18,
    "start_time": "2022-03-17T06:04:47.755Z"
   },
   {
    "duration": 25,
    "start_time": "2022-03-17T06:04:47.776Z"
   },
   {
    "duration": 13,
    "start_time": "2022-03-17T06:04:47.804Z"
   },
   {
    "duration": 484,
    "start_time": "2022-03-17T06:04:47.820Z"
   },
   {
    "duration": 1201,
    "start_time": "2022-03-17T06:04:48.306Z"
   },
   {
    "duration": 1602,
    "start_time": "2022-03-17T11:31:41.414Z"
   },
   {
    "duration": 4,
    "start_time": "2022-03-17T11:31:43.019Z"
   },
   {
    "duration": 106,
    "start_time": "2022-03-17T11:31:43.025Z"
   },
   {
    "duration": 26,
    "start_time": "2022-03-17T11:31:43.135Z"
   },
   {
    "duration": 25,
    "start_time": "2022-03-17T11:31:43.183Z"
   },
   {
    "duration": 7,
    "start_time": "2022-03-17T11:31:43.211Z"
   },
   {
    "duration": 9,
    "start_time": "2022-03-17T11:31:43.220Z"
   },
   {
    "duration": 76,
    "start_time": "2022-03-17T11:31:43.232Z"
   },
   {
    "duration": 1013,
    "start_time": "2022-03-17T11:31:43.311Z"
   },
   {
    "duration": 12,
    "start_time": "2022-03-17T11:31:44.328Z"
   },
   {
    "duration": 39,
    "start_time": "2022-03-17T11:31:44.343Z"
   },
   {
    "duration": 84,
    "start_time": "2022-03-17T11:31:44.384Z"
   },
   {
    "duration": 12,
    "start_time": "2022-03-17T11:31:44.471Z"
   },
   {
    "duration": 12,
    "start_time": "2022-03-17T11:31:44.486Z"
   },
   {
    "duration": 818,
    "start_time": "2022-03-17T11:31:44.500Z"
   },
   {
    "duration": 32,
    "start_time": "2022-03-17T11:31:45.321Z"
   },
   {
    "duration": 35,
    "start_time": "2022-03-17T11:31:45.356Z"
   },
   {
    "duration": 27,
    "start_time": "2022-03-17T11:31:45.393Z"
   },
   {
    "duration": 11,
    "start_time": "2022-03-17T11:31:45.423Z"
   },
   {
    "duration": 12,
    "start_time": "2022-03-17T11:31:45.437Z"
   },
   {
    "duration": 41,
    "start_time": "2022-03-17T11:31:45.487Z"
   },
   {
    "duration": 54,
    "start_time": "2022-03-17T11:31:45.530Z"
   },
   {
    "duration": 1436,
    "start_time": "2022-03-17T11:31:45.587Z"
   },
   {
    "duration": 29,
    "start_time": "2022-03-17T11:31:47.026Z"
   },
   {
    "duration": 44,
    "start_time": "2022-03-17T11:31:47.057Z"
   },
   {
    "duration": 657,
    "start_time": "2022-03-17T11:31:47.104Z"
   },
   {
    "duration": 619,
    "start_time": "2022-03-17T11:31:47.764Z"
   },
   {
    "duration": 96,
    "start_time": "2022-03-17T11:31:48.388Z"
   },
   {
    "duration": 401,
    "start_time": "2022-03-17T11:31:48.486Z"
   },
   {
    "duration": 1415,
    "start_time": "2022-03-17T11:31:48.890Z"
   },
   {
    "duration": 12,
    "start_time": "2022-03-17T11:31:50.308Z"
   },
   {
    "duration": 15,
    "start_time": "2022-03-17T11:31:50.322Z"
   },
   {
    "duration": 49,
    "start_time": "2022-03-17T11:31:50.340Z"
   },
   {
    "duration": 16,
    "start_time": "2022-03-17T11:31:50.393Z"
   },
   {
    "duration": 545,
    "start_time": "2022-03-17T11:31:50.412Z"
   },
   {
    "duration": 35,
    "start_time": "2022-03-17T11:31:50.959Z"
   },
   {
    "duration": 13,
    "start_time": "2022-03-17T11:31:50.996Z"
   },
   {
    "duration": 16,
    "start_time": "2022-03-17T11:31:51.011Z"
   },
   {
    "duration": 20,
    "start_time": "2022-03-17T11:31:51.030Z"
   },
   {
    "duration": 54,
    "start_time": "2022-03-17T11:31:51.053Z"
   },
   {
    "duration": 13,
    "start_time": "2022-03-17T11:31:51.110Z"
   },
   {
    "duration": 400,
    "start_time": "2022-03-17T11:31:51.125Z"
   },
   {
    "duration": 994,
    "start_time": "2022-03-17T11:31:51.528Z"
   },
   {
    "duration": 1678,
    "start_time": "2022-03-17T11:49:34.443Z"
   },
   {
    "duration": 5,
    "start_time": "2022-03-17T11:49:36.124Z"
   },
   {
    "duration": 99,
    "start_time": "2022-03-17T11:49:36.131Z"
   },
   {
    "duration": 20,
    "start_time": "2022-03-17T11:49:36.234Z"
   },
   {
    "duration": 49,
    "start_time": "2022-03-17T11:49:36.257Z"
   },
   {
    "duration": 7,
    "start_time": "2022-03-17T11:49:36.309Z"
   },
   {
    "duration": 19,
    "start_time": "2022-03-17T11:49:36.319Z"
   },
   {
    "duration": 49,
    "start_time": "2022-03-17T11:49:36.340Z"
   },
   {
    "duration": 689,
    "start_time": "2022-03-17T11:49:36.393Z"
   },
   {
    "duration": 14,
    "start_time": "2022-03-17T11:49:37.087Z"
   },
   {
    "duration": 26,
    "start_time": "2022-03-17T11:49:37.105Z"
   },
   {
    "duration": 66,
    "start_time": "2022-03-17T11:49:37.135Z"
   },
   {
    "duration": 20,
    "start_time": "2022-03-17T11:49:37.206Z"
   },
   {
    "duration": 5,
    "start_time": "2022-03-17T11:49:37.230Z"
   },
   {
    "duration": 911,
    "start_time": "2022-03-17T11:49:37.238Z"
   },
   {
    "duration": 39,
    "start_time": "2022-03-17T11:49:38.152Z"
   },
   {
    "duration": 26,
    "start_time": "2022-03-17T11:49:38.194Z"
   },
   {
    "duration": 25,
    "start_time": "2022-03-17T11:49:38.222Z"
   },
   {
    "duration": 35,
    "start_time": "2022-03-17T11:49:38.251Z"
   },
   {
    "duration": 7,
    "start_time": "2022-03-17T11:49:38.288Z"
   },
   {
    "duration": 45,
    "start_time": "2022-03-17T11:49:38.298Z"
   },
   {
    "duration": 63,
    "start_time": "2022-03-17T11:49:38.345Z"
   },
   {
    "duration": 1634,
    "start_time": "2022-03-17T11:49:38.412Z"
   },
   {
    "duration": 53,
    "start_time": "2022-03-17T11:49:40.049Z"
   },
   {
    "duration": 31,
    "start_time": "2022-03-17T11:49:40.105Z"
   },
   {
    "duration": 682,
    "start_time": "2022-03-17T11:49:40.139Z"
   },
   {
    "duration": 526,
    "start_time": "2022-03-17T11:49:40.824Z"
   },
   {
    "duration": 96,
    "start_time": "2022-03-17T11:49:41.356Z"
   },
   {
    "duration": 393,
    "start_time": "2022-03-17T11:49:41.455Z"
   },
   {
    "duration": 1403,
    "start_time": "2022-03-17T11:49:41.851Z"
   },
   {
    "duration": 17,
    "start_time": "2022-03-17T11:49:43.259Z"
   },
   {
    "duration": 28,
    "start_time": "2022-03-17T11:49:43.279Z"
   },
   {
    "duration": 40,
    "start_time": "2022-03-17T11:49:43.310Z"
   },
   {
    "duration": 31,
    "start_time": "2022-03-17T11:49:43.353Z"
   },
   {
    "duration": 555,
    "start_time": "2022-03-17T11:49:43.387Z"
   },
   {
    "duration": 38,
    "start_time": "2022-03-17T11:49:43.945Z"
   },
   {
    "duration": 15,
    "start_time": "2022-03-17T11:49:43.987Z"
   },
   {
    "duration": 21,
    "start_time": "2022-03-17T11:49:44.006Z"
   },
   {
    "duration": 53,
    "start_time": "2022-03-17T11:49:44.029Z"
   },
   {
    "duration": 31,
    "start_time": "2022-03-17T11:49:44.085Z"
   },
   {
    "duration": 45,
    "start_time": "2022-03-17T11:49:44.119Z"
   },
   {
    "duration": 592,
    "start_time": "2022-03-17T11:49:44.166Z"
   },
   {
    "duration": 1050,
    "start_time": "2022-03-17T11:49:44.762Z"
   },
   {
    "duration": 1592,
    "start_time": "2022-03-17T11:51:36.115Z"
   },
   {
    "duration": 5,
    "start_time": "2022-03-17T11:51:37.709Z"
   },
   {
    "duration": 105,
    "start_time": "2022-03-17T11:51:37.716Z"
   },
   {
    "duration": 21,
    "start_time": "2022-03-17T11:51:37.825Z"
   },
   {
    "duration": 50,
    "start_time": "2022-03-17T11:51:37.849Z"
   },
   {
    "duration": 6,
    "start_time": "2022-03-17T11:51:37.902Z"
   },
   {
    "duration": 8,
    "start_time": "2022-03-17T11:51:37.910Z"
   },
   {
    "duration": 26,
    "start_time": "2022-03-17T11:51:37.921Z"
   },
   {
    "duration": 679,
    "start_time": "2022-03-17T11:51:37.950Z"
   },
   {
    "duration": 12,
    "start_time": "2022-03-17T11:51:38.635Z"
   },
   {
    "duration": 37,
    "start_time": "2022-03-17T11:51:38.649Z"
   },
   {
    "duration": 41,
    "start_time": "2022-03-17T11:51:38.688Z"
   },
   {
    "duration": 15,
    "start_time": "2022-03-17T11:51:38.731Z"
   },
   {
    "duration": 5,
    "start_time": "2022-03-17T11:51:38.748Z"
   },
   {
    "duration": 806,
    "start_time": "2022-03-17T11:51:38.782Z"
   },
   {
    "duration": 20,
    "start_time": "2022-03-17T11:51:39.590Z"
   },
   {
    "duration": 22,
    "start_time": "2022-03-17T11:51:39.613Z"
   },
   {
    "duration": 63,
    "start_time": "2022-03-17T11:51:39.637Z"
   },
   {
    "duration": 10,
    "start_time": "2022-03-17T11:51:39.703Z"
   },
   {
    "duration": 6,
    "start_time": "2022-03-17T11:51:39.715Z"
   },
   {
    "duration": 82,
    "start_time": "2022-03-17T11:51:39.724Z"
   },
   {
    "duration": 32,
    "start_time": "2022-03-17T11:51:39.809Z"
   },
   {
    "duration": 1452,
    "start_time": "2022-03-17T11:51:39.844Z"
   },
   {
    "duration": 30,
    "start_time": "2022-03-17T11:51:41.299Z"
   },
   {
    "duration": 22,
    "start_time": "2022-03-17T11:51:41.332Z"
   },
   {
    "duration": 626,
    "start_time": "2022-03-17T11:51:41.356Z"
   },
   {
    "duration": 468,
    "start_time": "2022-03-17T11:51:41.985Z"
   },
   {
    "duration": 94,
    "start_time": "2022-03-17T11:51:42.458Z"
   },
   {
    "duration": 378,
    "start_time": "2022-03-17T11:51:42.555Z"
   },
   {
    "duration": 1028,
    "start_time": "2022-03-17T11:51:42.936Z"
   },
   {
    "duration": 12,
    "start_time": "2022-03-17T11:51:43.967Z"
   },
   {
    "duration": 22,
    "start_time": "2022-03-17T11:51:43.982Z"
   },
   {
    "duration": 38,
    "start_time": "2022-03-17T11:51:44.006Z"
   },
   {
    "duration": 26,
    "start_time": "2022-03-17T11:51:44.046Z"
   },
   {
    "duration": 563,
    "start_time": "2022-03-17T11:51:44.074Z"
   },
   {
    "duration": 45,
    "start_time": "2022-03-17T11:51:44.640Z"
   },
   {
    "duration": 14,
    "start_time": "2022-03-17T11:51:44.688Z"
   },
   {
    "duration": 41,
    "start_time": "2022-03-17T11:51:44.704Z"
   },
   {
    "duration": 39,
    "start_time": "2022-03-17T11:51:44.748Z"
   },
   {
    "duration": 45,
    "start_time": "2022-03-17T11:51:44.789Z"
   },
   {
    "duration": 46,
    "start_time": "2022-03-17T11:51:44.837Z"
   },
   {
    "duration": 396,
    "start_time": "2022-03-17T11:51:44.886Z"
   },
   {
    "duration": 1023,
    "start_time": "2022-03-17T11:51:45.284Z"
   },
   {
    "duration": 487,
    "start_time": "2022-03-17T11:55:47.980Z"
   },
   {
    "duration": 1436,
    "start_time": "2022-03-17T11:57:24.568Z"
   },
   {
    "duration": 366,
    "start_time": "2022-03-17T12:00:04.847Z"
   },
   {
    "duration": 340,
    "start_time": "2022-03-17T12:00:16.251Z"
   },
   {
    "duration": 453,
    "start_time": "2022-03-17T12:00:31.167Z"
   },
   {
    "duration": 371,
    "start_time": "2022-03-17T12:00:52.031Z"
   },
   {
    "duration": 220,
    "start_time": "2022-03-17T12:03:43.811Z"
   },
   {
    "duration": 456,
    "start_time": "2022-03-17T12:03:54.559Z"
   },
   {
    "duration": 1555,
    "start_time": "2022-03-17T14:11:27.419Z"
   },
   {
    "duration": 7,
    "start_time": "2022-03-17T14:11:28.977Z"
   },
   {
    "duration": 97,
    "start_time": "2022-03-17T14:11:28.986Z"
   },
   {
    "duration": 21,
    "start_time": "2022-03-17T14:11:29.087Z"
   },
   {
    "duration": 1189,
    "start_time": "2022-03-17T14:11:29.110Z"
   },
   {
    "duration": 13,
    "start_time": "2022-03-17T14:11:30.301Z"
   },
   {
    "duration": 51,
    "start_time": "2022-03-17T14:11:30.316Z"
   },
   {
    "duration": 15,
    "start_time": "2022-03-17T14:11:30.369Z"
   },
   {
    "duration": 11,
    "start_time": "2022-03-17T14:11:30.386Z"
   },
   {
    "duration": 36,
    "start_time": "2022-03-17T14:11:30.401Z"
   },
   {
    "duration": 797,
    "start_time": "2022-03-17T14:11:30.439Z"
   },
   {
    "duration": 8,
    "start_time": "2022-03-17T14:11:31.240Z"
   },
   {
    "duration": 39,
    "start_time": "2022-03-17T14:11:31.251Z"
   },
   {
    "duration": 87,
    "start_time": "2022-03-17T14:11:31.293Z"
   },
   {
    "duration": 13,
    "start_time": "2022-03-17T14:11:31.382Z"
   },
   {
    "duration": 7,
    "start_time": "2022-03-17T14:11:31.397Z"
   },
   {
    "duration": 887,
    "start_time": "2022-03-17T14:11:31.407Z"
   },
   {
    "duration": 30,
    "start_time": "2022-03-17T14:11:32.297Z"
   },
   {
    "duration": 25,
    "start_time": "2022-03-17T14:11:32.329Z"
   },
   {
    "duration": 51,
    "start_time": "2022-03-17T14:11:32.357Z"
   },
   {
    "duration": 14,
    "start_time": "2022-03-17T14:11:32.411Z"
   },
   {
    "duration": 18,
    "start_time": "2022-03-17T14:11:32.427Z"
   },
   {
    "duration": 101,
    "start_time": "2022-03-17T14:11:32.448Z"
   },
   {
    "duration": 48,
    "start_time": "2022-03-17T14:11:32.553Z"
   },
   {
    "duration": 1965,
    "start_time": "2022-03-17T14:11:32.604Z"
   },
   {
    "duration": 31,
    "start_time": "2022-03-17T14:11:34.582Z"
   },
   {
    "duration": 23,
    "start_time": "2022-03-17T14:11:34.615Z"
   },
   {
    "duration": 1001,
    "start_time": "2022-03-17T14:11:34.647Z"
   },
   {
    "duration": 468,
    "start_time": "2022-03-17T14:11:35.651Z"
   },
   {
    "duration": 98,
    "start_time": "2022-03-17T14:11:36.122Z"
   },
   {
    "duration": 369,
    "start_time": "2022-03-17T14:11:36.223Z"
   },
   {
    "duration": 11,
    "start_time": "2022-03-17T14:11:36.595Z"
   },
   {
    "duration": 30,
    "start_time": "2022-03-17T14:11:36.609Z"
   },
   {
    "duration": 52,
    "start_time": "2022-03-17T14:11:36.643Z"
   },
   {
    "duration": 600,
    "start_time": "2022-03-17T14:11:36.698Z"
   },
   {
    "duration": 31,
    "start_time": "2022-03-17T14:11:37.302Z"
   },
   {
    "duration": 45,
    "start_time": "2022-03-17T14:11:37.337Z"
   },
   {
    "duration": 23,
    "start_time": "2022-03-17T14:11:37.385Z"
   },
   {
    "duration": 17,
    "start_time": "2022-03-17T14:11:37.410Z"
   },
   {
    "duration": 55,
    "start_time": "2022-03-17T14:11:37.430Z"
   },
   {
    "duration": 15,
    "start_time": "2022-03-17T14:11:37.488Z"
   },
   {
    "duration": 530,
    "start_time": "2022-03-17T14:11:37.505Z"
   },
   {
    "duration": 1025,
    "start_time": "2022-03-17T14:11:38.038Z"
   },
   {
    "duration": 1197,
    "start_time": "2022-03-17T15:19:02.808Z"
   },
   {
    "duration": 1178,
    "start_time": "2022-03-17T15:19:28.432Z"
   },
   {
    "duration": 1243,
    "start_time": "2022-03-17T15:20:05.364Z"
   },
   {
    "duration": 1697,
    "start_time": "2022-03-17T15:55:47.085Z"
   },
   {
    "duration": 5,
    "start_time": "2022-03-17T15:55:48.787Z"
   },
   {
    "duration": 122,
    "start_time": "2022-03-17T15:55:48.795Z"
   },
   {
    "duration": 27,
    "start_time": "2022-03-17T15:55:48.921Z"
   },
   {
    "duration": 1101,
    "start_time": "2022-03-17T15:55:48.950Z"
   },
   {
    "duration": 15,
    "start_time": "2022-03-17T15:55:50.058Z"
   },
   {
    "duration": 33,
    "start_time": "2022-03-17T15:55:50.075Z"
   },
   {
    "duration": 7,
    "start_time": "2022-03-17T15:55:50.110Z"
   },
   {
    "duration": 13,
    "start_time": "2022-03-17T15:55:50.121Z"
   },
   {
    "duration": 51,
    "start_time": "2022-03-17T15:55:50.139Z"
   },
   {
    "duration": 726,
    "start_time": "2022-03-17T15:55:50.193Z"
   },
   {
    "duration": 9,
    "start_time": "2022-03-17T15:55:50.922Z"
   },
   {
    "duration": 26,
    "start_time": "2022-03-17T15:55:50.934Z"
   },
   {
    "duration": 45,
    "start_time": "2022-03-17T15:55:50.983Z"
   },
   {
    "duration": 12,
    "start_time": "2022-03-17T15:55:51.031Z"
   },
   {
    "duration": 7,
    "start_time": "2022-03-17T15:55:51.046Z"
   },
   {
    "duration": 826,
    "start_time": "2022-03-17T15:55:51.083Z"
   },
   {
    "duration": 22,
    "start_time": "2022-03-17T15:55:51.912Z"
   },
   {
    "duration": 47,
    "start_time": "2022-03-17T15:55:51.937Z"
   },
   {
    "duration": 33,
    "start_time": "2022-03-17T15:55:51.987Z"
   },
   {
    "duration": 14,
    "start_time": "2022-03-17T15:55:52.023Z"
   },
   {
    "duration": 43,
    "start_time": "2022-03-17T15:55:52.040Z"
   },
   {
    "duration": 42,
    "start_time": "2022-03-17T15:55:52.085Z"
   },
   {
    "duration": 63,
    "start_time": "2022-03-17T15:55:52.130Z"
   },
   {
    "duration": 1494,
    "start_time": "2022-03-17T15:55:52.195Z"
   },
   {
    "duration": 41,
    "start_time": "2022-03-17T15:55:53.692Z"
   },
   {
    "duration": 49,
    "start_time": "2022-03-17T15:55:53.735Z"
   },
   {
    "duration": 655,
    "start_time": "2022-03-17T15:55:53.790Z"
   },
   {
    "duration": 498,
    "start_time": "2022-03-17T15:55:54.448Z"
   },
   {
    "duration": 99,
    "start_time": "2022-03-17T15:55:54.949Z"
   },
   {
    "duration": 403,
    "start_time": "2022-03-17T15:55:55.051Z"
   },
   {
    "duration": 26,
    "start_time": "2022-03-17T15:55:55.457Z"
   },
   {
    "duration": 30,
    "start_time": "2022-03-17T15:55:55.486Z"
   },
   {
    "duration": 14,
    "start_time": "2022-03-17T15:55:55.519Z"
   },
   {
    "duration": 552,
    "start_time": "2022-03-17T15:55:55.536Z"
   },
   {
    "duration": 28,
    "start_time": "2022-03-17T15:55:56.092Z"
   },
   {
    "duration": 13,
    "start_time": "2022-03-17T15:55:56.123Z"
   },
   {
    "duration": 61,
    "start_time": "2022-03-17T15:55:56.139Z"
   },
   {
    "duration": 26,
    "start_time": "2022-03-17T15:55:56.203Z"
   },
   {
    "duration": 29,
    "start_time": "2022-03-17T15:55:56.231Z"
   },
   {
    "duration": 32,
    "start_time": "2022-03-17T15:55:56.263Z"
   },
   {
    "duration": 553,
    "start_time": "2022-03-17T15:55:56.297Z"
   },
   {
    "duration": 1141,
    "start_time": "2022-03-17T15:55:56.853Z"
   },
   {
    "duration": 1051,
    "start_time": "2022-03-18T07:28:25.881Z"
   },
   {
    "duration": 68,
    "start_time": "2022-03-18T07:28:26.934Z"
   },
   {
    "duration": 13,
    "start_time": "2022-03-18T07:28:27.003Z"
   },
   {
    "duration": 1353,
    "start_time": "2022-03-18T07:28:27.018Z"
   },
   {
    "duration": 8,
    "start_time": "2022-03-18T07:28:28.372Z"
   },
   {
    "duration": 19,
    "start_time": "2022-03-18T07:28:28.382Z"
   },
   {
    "duration": 3,
    "start_time": "2022-03-18T07:28:28.403Z"
   },
   {
    "duration": 9,
    "start_time": "2022-03-18T07:28:28.408Z"
   },
   {
    "duration": 20,
    "start_time": "2022-03-18T07:28:28.419Z"
   },
   {
    "duration": 414,
    "start_time": "2022-03-18T07:28:28.441Z"
   },
   {
    "duration": 5,
    "start_time": "2022-03-18T07:28:28.857Z"
   },
   {
    "duration": 14,
    "start_time": "2022-03-18T07:28:28.863Z"
   },
   {
    "duration": 25,
    "start_time": "2022-03-18T07:28:28.878Z"
   },
   {
    "duration": 8,
    "start_time": "2022-03-18T07:28:28.905Z"
   },
   {
    "duration": 2,
    "start_time": "2022-03-18T07:28:28.933Z"
   },
   {
    "duration": 515,
    "start_time": "2022-03-18T07:28:28.937Z"
   },
   {
    "duration": 14,
    "start_time": "2022-03-18T07:28:29.454Z"
   },
   {
    "duration": 13,
    "start_time": "2022-03-18T07:28:29.469Z"
   },
   {
    "duration": 15,
    "start_time": "2022-03-18T07:28:29.484Z"
   },
   {
    "duration": 33,
    "start_time": "2022-03-18T07:28:29.500Z"
   },
   {
    "duration": 5,
    "start_time": "2022-03-18T07:28:29.535Z"
   },
   {
    "duration": 30,
    "start_time": "2022-03-18T07:28:29.541Z"
   },
   {
    "duration": 20,
    "start_time": "2022-03-18T07:28:29.572Z"
   },
   {
    "duration": 963,
    "start_time": "2022-03-18T07:28:29.594Z"
   },
   {
    "duration": 18,
    "start_time": "2022-03-18T07:28:30.559Z"
   },
   {
    "duration": 20,
    "start_time": "2022-03-18T07:28:30.578Z"
   },
   {
    "duration": 393,
    "start_time": "2022-03-18T07:28:30.600Z"
   },
   {
    "duration": 273,
    "start_time": "2022-03-18T07:28:30.997Z"
   },
   {
    "duration": 68,
    "start_time": "2022-03-18T07:28:31.272Z"
   },
   {
    "duration": 219,
    "start_time": "2022-03-18T07:28:31.341Z"
   },
   {
    "duration": 8,
    "start_time": "2022-03-18T07:28:31.562Z"
   },
   {
    "duration": 16,
    "start_time": "2022-03-18T07:28:31.571Z"
   },
   {
    "duration": 12,
    "start_time": "2022-03-18T07:28:31.589Z"
   },
   {
    "duration": 259,
    "start_time": "2022-03-18T07:28:31.603Z"
   },
   {
    "duration": 14,
    "start_time": "2022-03-18T07:28:31.864Z"
   },
   {
    "duration": 8,
    "start_time": "2022-03-18T07:28:31.880Z"
   },
   {
    "duration": 12,
    "start_time": "2022-03-18T07:28:31.889Z"
   },
   {
    "duration": 36,
    "start_time": "2022-03-18T07:28:31.902Z"
   },
   {
    "duration": 18,
    "start_time": "2022-03-18T07:28:31.940Z"
   },
   {
    "duration": 11,
    "start_time": "2022-03-18T07:28:31.959Z"
   },
   {
    "duration": 297,
    "start_time": "2022-03-18T07:28:31.971Z"
   },
   {
    "duration": 623,
    "start_time": "2022-03-18T07:28:32.269Z"
   }
  ],
  "kernelspec": {
   "display_name": "Python 3 (ipykernel)",
   "language": "python",
   "name": "python3"
  },
  "language_info": {
   "codemirror_mode": {
    "name": "ipython",
    "version": 3
   },
   "file_extension": ".py",
   "mimetype": "text/x-python",
   "name": "python",
   "nbconvert_exporter": "python",
   "pygments_lexer": "ipython3",
   "version": "3.9.7"
  },
  "toc": {
   "base_numbering": 1,
   "nav_menu": {},
   "number_sections": true,
   "sideBar": true,
   "skip_h1_title": true,
   "title_cell": "Содержание",
   "title_sidebar": "Содержание",
   "toc_cell": true,
   "toc_position": {
    "height": "calc(100% - 180px)",
    "left": "10px",
    "top": "150px",
    "width": "295.8px"
   },
   "toc_section_display": true,
   "toc_window_display": true
  }
 },
 "nbformat": 4,
 "nbformat_minor": 2
}
