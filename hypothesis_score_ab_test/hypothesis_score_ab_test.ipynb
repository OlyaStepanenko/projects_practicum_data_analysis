{
 "cells": [
  {
   "cell_type": "markdown",
   "metadata": {
    "toc": true
   },
   "source": [
    "<h1>Содержание<span class=\"tocSkip\"></span></h1>\n",
    "<div class=\"toc\"><ul class=\"toc-item\"><li><span><a href=\"#Часть-1.-Приоритизация-гипотез\" data-toc-modified-id=\"Часть-1.-Приоритизация-гипотез-1\"><span class=\"toc-item-num\">1&nbsp;&nbsp;</span>Часть 1. Приоритизация гипотез</a></span><ul class=\"toc-item\"><li><span><a href=\"#Обзор-данных\" data-toc-modified-id=\"Обзор-данных-1.1\"><span class=\"toc-item-num\">1.1&nbsp;&nbsp;</span>Обзор данных</a></span></li><li><span><a href=\"#Приоритизация-гипотез-при-помощи-фреймворка-ICE\" data-toc-modified-id=\"Приоритизация-гипотез-при-помощи-фреймворка-ICE-1.2\"><span class=\"toc-item-num\">1.2&nbsp;&nbsp;</span>Приоритизация гипотез при помощи фреймворка ICE</a></span></li><li><span><a href=\"#Приоритизация-гипотез-при-помощи-фреймворка-RICE\" data-toc-modified-id=\"Приоритизация-гипотез-при-помощи-фреймворка-RICE-1.3\"><span class=\"toc-item-num\">1.3&nbsp;&nbsp;</span>Приоритизация гипотез при помощи фреймворка RICE</a></span></li><li><span><a href=\"#Вывод.\" data-toc-modified-id=\"Вывод.-1.4\"><span class=\"toc-item-num\">1.4&nbsp;&nbsp;</span>Вывод.</a></span></li></ul></li><li><span><a href=\"#Часть-2.--Анализ-А/В-теста.\" data-toc-modified-id=\"Часть-2.--Анализ-А/В-теста.-2\"><span class=\"toc-item-num\">2&nbsp;&nbsp;</span>Часть 2.  Анализ А/В теста.</a></span><ul class=\"toc-item\"><li><span><a href=\"#Обзор-данных.\" data-toc-modified-id=\"Обзор-данных.-2.1\"><span class=\"toc-item-num\">2.1&nbsp;&nbsp;</span>Обзор данных.</a></span></li><li><span><a href=\"#Создание-таблицы-с-кумулятивными-данными.\" data-toc-modified-id=\"Создание-таблицы-с-кумулятивными-данными.-2.2\"><span class=\"toc-item-num\">2.2&nbsp;&nbsp;</span>Создание таблицы с кумулятивными данными.</a></span></li><li><span><a href=\"#График-кумулятивной-выручки-по-группам-А/В-тестирования.\" data-toc-modified-id=\"График-кумулятивной-выручки-по-группам-А/В-тестирования.-2.3\"><span class=\"toc-item-num\">2.3&nbsp;&nbsp;</span>График кумулятивной выручки по группам А/В тестирования.</a></span></li><li><span><a href=\"#График-куммулятивного-среднего-чека-по-группам.\" data-toc-modified-id=\"График-куммулятивного-среднего-чека-по-группам.-2.4\"><span class=\"toc-item-num\">2.4&nbsp;&nbsp;</span>График куммулятивного среднего чека по группам.</a></span></li><li><span><a href=\"#График-относительного-изменения-среднего-чека-группы-А-к-группе-В.\" data-toc-modified-id=\"График-относительного-изменения-среднего-чека-группы-А-к-группе-В.-2.5\"><span class=\"toc-item-num\">2.5&nbsp;&nbsp;</span>График относительного изменения среднего чека группы А к группе В.</a></span></li><li><span><a href=\"#График-куммулятивной-конверсии-по-группам.\" data-toc-modified-id=\"График-куммулятивной-конверсии-по-группам.-2.6\"><span class=\"toc-item-num\">2.6&nbsp;&nbsp;</span>График куммулятивной конверсии по группам.</a></span></li><li><span><a href=\"#График-относительного-различия-кумулятивных-конверсий.\" data-toc-modified-id=\"График-относительного-различия-кумулятивных-конверсий.-2.7\"><span class=\"toc-item-num\">2.7&nbsp;&nbsp;</span>График относительного различия кумулятивных конверсий.</a></span></li><li><span><a href=\"#Определение-аномальных-пользователей-по-количеству-заказов.\" data-toc-modified-id=\"Определение-аномальных-пользователей-по-количеству-заказов.-2.8\"><span class=\"toc-item-num\">2.8&nbsp;&nbsp;</span>Определение аномальных пользователей по количеству заказов.</a></span></li><li><span><a href=\"#Определение-аномальных-заказов-по-сумме.\" data-toc-modified-id=\"Определение-аномальных-заказов-по-сумме.-2.9\"><span class=\"toc-item-num\">2.9&nbsp;&nbsp;</span>Определение аномальных заказов по сумме.</a></span></li><li><span><a href=\"#Статистическая-значимость-различий-между-группами-конверсий-и-средних-чеков-по-&quot;сырым&quot;-данным.\" data-toc-modified-id=\"Статистическая-значимость-различий-между-группами-конверсий-и-средних-чеков-по-&quot;сырым&quot;-данным.-2.10\"><span class=\"toc-item-num\">2.10&nbsp;&nbsp;</span>Статистическая значимость различий между группами конверсий и средних чеков по \"сырым\" данным.</a></span></li><li><span><a href=\"#Статистическая-значимость-различий-между-группами-конверсий-и-средних-чеков-по-&quot;очищенным&quot;-данным.\" data-toc-modified-id=\"Статистическая-значимость-различий-между-группами-конверсий-и-средних-чеков-по-&quot;очищенным&quot;-данным.-2.11\"><span class=\"toc-item-num\">2.11&nbsp;&nbsp;</span>Статистическая значимость различий между группами конверсий и средних чеков по \"очищенным\" данным.</a></span></li><li><span><a href=\"#Решение-по-результатам-А/В-теста.\" data-toc-modified-id=\"Решение-по-результатам-А/В-теста.-2.12\"><span class=\"toc-item-num\">2.12&nbsp;&nbsp;</span>Решение по результатам А/В теста.</a></span></li></ul></li></ul></div>"
   ]
  },
  {
   "cell_type": "markdown",
   "metadata": {},
   "source": [
    "# Проект \"Принятие решений в бизнесе\" . Приоритизация гипотез и анализ А/ В теста\n",
    "\n",
    "Отдел маркетинга совместно с аналитиками крупного интернет-магазина подготовили список гипотез для увеличения выручки. Нам нужно приоритизировать гипотезы. Затем запустить А/В тест и проанализировать его результаты.\n",
    "\n",
    "\n",
    "\n"
   ]
  },
  {
   "cell_type": "code",
   "execution_count": 1,
   "metadata": {},
   "outputs": [],
   "source": [
    "import pandas as pd\n",
    "import scipy.stats as stats\n",
    "import datetime as dt\n",
    "import numpy as np\n",
    "import math as mth\n",
    "import matplotlib.pyplot as plt\n",
    "from pandas.plotting import register_matplotlib_converters\n",
    "import warnings\n",
    "warnings.filterwarnings('ignore')\n",
    "\n",
    "register_matplotlib_converters()"
   ]
  },
  {
   "cell_type": "code",
   "execution_count": 2,
   "metadata": {},
   "outputs": [],
   "source": [
    "pd.set_option('display.max_columns', None)\n",
    "pd.options.display.max_colwidth = 150"
   ]
  },
  {
   "cell_type": "markdown",
   "metadata": {},
   "source": [
    "## Часть 1. Приоритизация гипотез"
   ]
  },
  {
   "cell_type": "markdown",
   "metadata": {},
   "source": [
    "### Обзор данных"
   ]
  },
  {
   "cell_type": "markdown",
   "metadata": {},
   "source": [
    "Посмотри  на данные гипотез по увеличению выручки."
   ]
  },
  {
   "cell_type": "code",
   "execution_count": 3,
   "metadata": {},
   "outputs": [
    {
     "name": "stdout",
     "output_type": "stream",
     "text": [
      "<class 'pandas.core.frame.DataFrame'>\n",
      "RangeIndex: 9 entries, 0 to 8\n",
      "Data columns (total 5 columns):\n",
      " #   Column      Non-Null Count  Dtype \n",
      "---  ------      --------------  ----- \n",
      " 0   Hypothesis  9 non-null      object\n",
      " 1   Reach       9 non-null      int64 \n",
      " 2   Impact      9 non-null      int64 \n",
      " 3   Confidence  9 non-null      int64 \n",
      " 4   Efforts     9 non-null      int64 \n",
      "dtypes: int64(4), object(1)\n",
      "memory usage: 488.0+ bytes\n"
     ]
    }
   ],
   "source": [
    "data = pd.read_csv('hypothesis.csv')\n",
    "data.info()"
   ]
  },
  {
   "cell_type": "markdown",
   "metadata": {},
   "source": [
    "Таблица содержит 9 строк и 5 столбцов. Форматы столбцов соответствуют описанию данных (столбец с названиями гипотез содержит строковые значения, а столбцы с оценками параметров приоритизации - целочисленные).\n",
    "\n",
    "Для соблюдения хорошего стиля приведем названия столбцов к нижнему регистру."
   ]
  },
  {
   "cell_type": "code",
   "execution_count": 4,
   "metadata": {},
   "outputs": [
    {
     "data": {
      "text/plain": [
       "Index(['hypothesis', 'reach', 'impact', 'confidence', 'efforts'], dtype='object')"
      ]
     },
     "execution_count": 4,
     "metadata": {},
     "output_type": "execute_result"
    }
   ],
   "source": [
    "data.columns = data.columns.str.lower()\n",
    "data.columns"
   ]
  },
  {
   "cell_type": "code",
   "execution_count": 5,
   "metadata": {},
   "outputs": [
    {
     "data": {
      "text/html": [
       "<div>\n",
       "<style scoped>\n",
       "    .dataframe tbody tr th:only-of-type {\n",
       "        vertical-align: middle;\n",
       "    }\n",
       "\n",
       "    .dataframe tbody tr th {\n",
       "        vertical-align: top;\n",
       "    }\n",
       "\n",
       "    .dataframe thead th {\n",
       "        text-align: right;\n",
       "    }\n",
       "</style>\n",
       "<table border=\"1\" class=\"dataframe\">\n",
       "  <thead>\n",
       "    <tr style=\"text-align: right;\">\n",
       "      <th></th>\n",
       "      <th>hypothesis</th>\n",
       "      <th>reach</th>\n",
       "      <th>impact</th>\n",
       "      <th>confidence</th>\n",
       "      <th>efforts</th>\n",
       "    </tr>\n",
       "  </thead>\n",
       "  <tbody>\n",
       "    <tr>\n",
       "      <th>0</th>\n",
       "      <td>Добавить два новых канала привлечения трафика, что позволит привлекать на 30% больше пользователей</td>\n",
       "      <td>3</td>\n",
       "      <td>10</td>\n",
       "      <td>8</td>\n",
       "      <td>6</td>\n",
       "    </tr>\n",
       "    <tr>\n",
       "      <th>1</th>\n",
       "      <td>Запустить собственную службу доставки, что сократит срок доставки заказов</td>\n",
       "      <td>2</td>\n",
       "      <td>5</td>\n",
       "      <td>4</td>\n",
       "      <td>10</td>\n",
       "    </tr>\n",
       "    <tr>\n",
       "      <th>2</th>\n",
       "      <td>Добавить блоки рекомендаций товаров на сайт интернет магазина, чтобы повысить конверсию и средний чек заказа</td>\n",
       "      <td>8</td>\n",
       "      <td>3</td>\n",
       "      <td>7</td>\n",
       "      <td>3</td>\n",
       "    </tr>\n",
       "    <tr>\n",
       "      <th>3</th>\n",
       "      <td>Изменить структура категорий, что увеличит конверсию, т.к. пользователи быстрее найдут нужный товар</td>\n",
       "      <td>8</td>\n",
       "      <td>3</td>\n",
       "      <td>3</td>\n",
       "      <td>8</td>\n",
       "    </tr>\n",
       "    <tr>\n",
       "      <th>4</th>\n",
       "      <td>Изменить цвет фона главной страницы, чтобы увеличить вовлеченность пользователей</td>\n",
       "      <td>3</td>\n",
       "      <td>1</td>\n",
       "      <td>1</td>\n",
       "      <td>1</td>\n",
       "    </tr>\n",
       "    <tr>\n",
       "      <th>5</th>\n",
       "      <td>Добавить страницу отзывов клиентов о магазине, что позволит увеличить количество заказов</td>\n",
       "      <td>3</td>\n",
       "      <td>2</td>\n",
       "      <td>2</td>\n",
       "      <td>3</td>\n",
       "    </tr>\n",
       "    <tr>\n",
       "      <th>6</th>\n",
       "      <td>Показать на главной странице баннеры с актуальными акциями и распродажами, чтобы увеличить конверсию</td>\n",
       "      <td>5</td>\n",
       "      <td>3</td>\n",
       "      <td>8</td>\n",
       "      <td>3</td>\n",
       "    </tr>\n",
       "    <tr>\n",
       "      <th>7</th>\n",
       "      <td>Добавить форму подписки на все основные страницы, чтобы собрать базу клиентов для email-рассылок</td>\n",
       "      <td>10</td>\n",
       "      <td>7</td>\n",
       "      <td>8</td>\n",
       "      <td>5</td>\n",
       "    </tr>\n",
       "    <tr>\n",
       "      <th>8</th>\n",
       "      <td>Запустить акцию, дающую скидку на товар в день рождения</td>\n",
       "      <td>1</td>\n",
       "      <td>9</td>\n",
       "      <td>9</td>\n",
       "      <td>5</td>\n",
       "    </tr>\n",
       "  </tbody>\n",
       "</table>\n",
       "</div>"
      ],
      "text/plain": [
       "                                                                                                     hypothesis  \\\n",
       "0            Добавить два новых канала привлечения трафика, что позволит привлекать на 30% больше пользователей   \n",
       "1                                     Запустить собственную службу доставки, что сократит срок доставки заказов   \n",
       "2  Добавить блоки рекомендаций товаров на сайт интернет магазина, чтобы повысить конверсию и средний чек заказа   \n",
       "3           Изменить структура категорий, что увеличит конверсию, т.к. пользователи быстрее найдут нужный товар   \n",
       "4                              Изменить цвет фона главной страницы, чтобы увеличить вовлеченность пользователей   \n",
       "5                      Добавить страницу отзывов клиентов о магазине, что позволит увеличить количество заказов   \n",
       "6          Показать на главной странице баннеры с актуальными акциями и распродажами, чтобы увеличить конверсию   \n",
       "7              Добавить форму подписки на все основные страницы, чтобы собрать базу клиентов для email-рассылок   \n",
       "8                                                       Запустить акцию, дающую скидку на товар в день рождения   \n",
       "\n",
       "   reach  impact  confidence  efforts  \n",
       "0      3      10           8        6  \n",
       "1      2       5           4       10  \n",
       "2      8       3           7        3  \n",
       "3      8       3           3        8  \n",
       "4      3       1           1        1  \n",
       "5      3       2           2        3  \n",
       "6      5       3           8        3  \n",
       "7     10       7           8        5  \n",
       "8      1       9           9        5  "
      ]
     },
     "execution_count": 5,
     "metadata": {},
     "output_type": "execute_result"
    }
   ],
   "source": [
    "data"
   ]
  },
  {
   "cell_type": "markdown",
   "metadata": {},
   "source": [
    "**Вывод**\n",
    "\n",
    "\n",
    "Таблица содержит 9 гипотез и 4 параметра для их приоритизации (Reach, Impact, Confidence, Efforts). Оценка параметров приведена в значениях по шкале от 1 до 10.\n",
    "\n",
    "В ходе обзора мы выявили нарушение в стиле заголовков и испарвили его, для удобства дальнейшей работы."
   ]
  },
  {
   "cell_type": "markdown",
   "metadata": {},
   "source": [
    "### Приоритизация гипотез при помощи фреймворка ICE"
   ]
  },
  {
   "cell_type": "markdown",
   "metadata": {},
   "source": [
    "Рассчитаем ICE для каждой гипотезы. Добавим соответствующий столбец к таблице."
   ]
  },
  {
   "cell_type": "code",
   "execution_count": 6,
   "metadata": {
    "scrolled": true
   },
   "outputs": [
    {
     "data": {
      "text/html": [
       "<div>\n",
       "<style scoped>\n",
       "    .dataframe tbody tr th:only-of-type {\n",
       "        vertical-align: middle;\n",
       "    }\n",
       "\n",
       "    .dataframe tbody tr th {\n",
       "        vertical-align: top;\n",
       "    }\n",
       "\n",
       "    .dataframe thead th {\n",
       "        text-align: right;\n",
       "    }\n",
       "</style>\n",
       "<table border=\"1\" class=\"dataframe\">\n",
       "  <thead>\n",
       "    <tr style=\"text-align: right;\">\n",
       "      <th></th>\n",
       "      <th>hypothesis</th>\n",
       "      <th>ice</th>\n",
       "    </tr>\n",
       "  </thead>\n",
       "  <tbody>\n",
       "    <tr>\n",
       "      <th>8</th>\n",
       "      <td>Запустить акцию, дающую скидку на товар в день рождения</td>\n",
       "      <td>16.20</td>\n",
       "    </tr>\n",
       "    <tr>\n",
       "      <th>0</th>\n",
       "      <td>Добавить два новых канала привлечения трафика, что позволит привлекать на 30% больше пользователей</td>\n",
       "      <td>13.33</td>\n",
       "    </tr>\n",
       "    <tr>\n",
       "      <th>7</th>\n",
       "      <td>Добавить форму подписки на все основные страницы, чтобы собрать базу клиентов для email-рассылок</td>\n",
       "      <td>11.20</td>\n",
       "    </tr>\n",
       "    <tr>\n",
       "      <th>6</th>\n",
       "      <td>Показать на главной странице баннеры с актуальными акциями и распродажами, чтобы увеличить конверсию</td>\n",
       "      <td>8.00</td>\n",
       "    </tr>\n",
       "    <tr>\n",
       "      <th>2</th>\n",
       "      <td>Добавить блоки рекомендаций товаров на сайт интернет магазина, чтобы повысить конверсию и средний чек заказа</td>\n",
       "      <td>7.00</td>\n",
       "    </tr>\n",
       "    <tr>\n",
       "      <th>1</th>\n",
       "      <td>Запустить собственную службу доставки, что сократит срок доставки заказов</td>\n",
       "      <td>2.00</td>\n",
       "    </tr>\n",
       "    <tr>\n",
       "      <th>5</th>\n",
       "      <td>Добавить страницу отзывов клиентов о магазине, что позволит увеличить количество заказов</td>\n",
       "      <td>1.33</td>\n",
       "    </tr>\n",
       "    <tr>\n",
       "      <th>3</th>\n",
       "      <td>Изменить структура категорий, что увеличит конверсию, т.к. пользователи быстрее найдут нужный товар</td>\n",
       "      <td>1.12</td>\n",
       "    </tr>\n",
       "    <tr>\n",
       "      <th>4</th>\n",
       "      <td>Изменить цвет фона главной страницы, чтобы увеличить вовлеченность пользователей</td>\n",
       "      <td>1.00</td>\n",
       "    </tr>\n",
       "  </tbody>\n",
       "</table>\n",
       "</div>"
      ],
      "text/plain": [
       "                                                                                                     hypothesis  \\\n",
       "8                                                       Запустить акцию, дающую скидку на товар в день рождения   \n",
       "0            Добавить два новых канала привлечения трафика, что позволит привлекать на 30% больше пользователей   \n",
       "7              Добавить форму подписки на все основные страницы, чтобы собрать базу клиентов для email-рассылок   \n",
       "6          Показать на главной странице баннеры с актуальными акциями и распродажами, чтобы увеличить конверсию   \n",
       "2  Добавить блоки рекомендаций товаров на сайт интернет магазина, чтобы повысить конверсию и средний чек заказа   \n",
       "1                                     Запустить собственную службу доставки, что сократит срок доставки заказов   \n",
       "5                      Добавить страницу отзывов клиентов о магазине, что позволит увеличить количество заказов   \n",
       "3           Изменить структура категорий, что увеличит конверсию, т.к. пользователи быстрее найдут нужный товар   \n",
       "4                              Изменить цвет фона главной страницы, чтобы увеличить вовлеченность пользователей   \n",
       "\n",
       "     ice  \n",
       "8  16.20  \n",
       "0  13.33  \n",
       "7  11.20  \n",
       "6   8.00  \n",
       "2   7.00  \n",
       "1   2.00  \n",
       "5   1.33  \n",
       "3   1.12  \n",
       "4   1.00  "
      ]
     },
     "execution_count": 6,
     "metadata": {},
     "output_type": "execute_result"
    }
   ],
   "source": [
    "data['ice'] = round(data['impact'] * data['confidence'] / data['efforts'], 2)\n",
    "\n",
    "data[['hypothesis', 'ice']].sort_values(by='ice', ascending=False)"
   ]
  },
  {
   "cell_type": "markdown",
   "metadata": {},
   "source": [
    "Самые перспективные гипотезы при применении параметров фреймворка ICE - это гипотезы с индексами строк 8, 0, 7 :\n",
    "- Запустить собственную службу доставки, что сократит срок доставки заказов\n",
    "- Добавить два новых канала привлечения трафика, что позволит привлекать на 30% больше пользователей\n",
    "- Добавить форму подписки на все основные страницы, чтобы собрать базу клиентов для email-рассылок"
   ]
  },
  {
   "cell_type": "markdown",
   "metadata": {},
   "source": [
    "### Приоритизация гипотез при помощи фреймворка RICE"
   ]
  },
  {
   "cell_type": "markdown",
   "metadata": {},
   "source": [
    "Рассчитаем RICE для каждой гипотезы. Добавим соответствующий столбец к таблице."
   ]
  },
  {
   "cell_type": "code",
   "execution_count": 7,
   "metadata": {
    "scrolled": true
   },
   "outputs": [
    {
     "data": {
      "text/html": [
       "<div>\n",
       "<style scoped>\n",
       "    .dataframe tbody tr th:only-of-type {\n",
       "        vertical-align: middle;\n",
       "    }\n",
       "\n",
       "    .dataframe tbody tr th {\n",
       "        vertical-align: top;\n",
       "    }\n",
       "\n",
       "    .dataframe thead th {\n",
       "        text-align: right;\n",
       "    }\n",
       "</style>\n",
       "<table border=\"1\" class=\"dataframe\">\n",
       "  <thead>\n",
       "    <tr style=\"text-align: right;\">\n",
       "      <th></th>\n",
       "      <th>hypothesis</th>\n",
       "      <th>ice</th>\n",
       "      <th>rice</th>\n",
       "    </tr>\n",
       "  </thead>\n",
       "  <tbody>\n",
       "    <tr>\n",
       "      <th>7</th>\n",
       "      <td>Добавить форму подписки на все основные страницы, чтобы собрать базу клиентов для email-рассылок</td>\n",
       "      <td>11.20</td>\n",
       "      <td>112.0</td>\n",
       "    </tr>\n",
       "    <tr>\n",
       "      <th>2</th>\n",
       "      <td>Добавить блоки рекомендаций товаров на сайт интернет магазина, чтобы повысить конверсию и средний чек заказа</td>\n",
       "      <td>7.00</td>\n",
       "      <td>56.0</td>\n",
       "    </tr>\n",
       "    <tr>\n",
       "      <th>0</th>\n",
       "      <td>Добавить два новых канала привлечения трафика, что позволит привлекать на 30% больше пользователей</td>\n",
       "      <td>13.33</td>\n",
       "      <td>40.0</td>\n",
       "    </tr>\n",
       "    <tr>\n",
       "      <th>6</th>\n",
       "      <td>Показать на главной странице баннеры с актуальными акциями и распродажами, чтобы увеличить конверсию</td>\n",
       "      <td>8.00</td>\n",
       "      <td>40.0</td>\n",
       "    </tr>\n",
       "    <tr>\n",
       "      <th>8</th>\n",
       "      <td>Запустить акцию, дающую скидку на товар в день рождения</td>\n",
       "      <td>16.20</td>\n",
       "      <td>16.2</td>\n",
       "    </tr>\n",
       "    <tr>\n",
       "      <th>3</th>\n",
       "      <td>Изменить структура категорий, что увеличит конверсию, т.к. пользователи быстрее найдут нужный товар</td>\n",
       "      <td>1.12</td>\n",
       "      <td>9.0</td>\n",
       "    </tr>\n",
       "    <tr>\n",
       "      <th>1</th>\n",
       "      <td>Запустить собственную службу доставки, что сократит срок доставки заказов</td>\n",
       "      <td>2.00</td>\n",
       "      <td>4.0</td>\n",
       "    </tr>\n",
       "    <tr>\n",
       "      <th>5</th>\n",
       "      <td>Добавить страницу отзывов клиентов о магазине, что позволит увеличить количество заказов</td>\n",
       "      <td>1.33</td>\n",
       "      <td>4.0</td>\n",
       "    </tr>\n",
       "    <tr>\n",
       "      <th>4</th>\n",
       "      <td>Изменить цвет фона главной страницы, чтобы увеличить вовлеченность пользователей</td>\n",
       "      <td>1.00</td>\n",
       "      <td>3.0</td>\n",
       "    </tr>\n",
       "  </tbody>\n",
       "</table>\n",
       "</div>"
      ],
      "text/plain": [
       "                                                                                                     hypothesis  \\\n",
       "7              Добавить форму подписки на все основные страницы, чтобы собрать базу клиентов для email-рассылок   \n",
       "2  Добавить блоки рекомендаций товаров на сайт интернет магазина, чтобы повысить конверсию и средний чек заказа   \n",
       "0            Добавить два новых канала привлечения трафика, что позволит привлекать на 30% больше пользователей   \n",
       "6          Показать на главной странице баннеры с актуальными акциями и распродажами, чтобы увеличить конверсию   \n",
       "8                                                       Запустить акцию, дающую скидку на товар в день рождения   \n",
       "3           Изменить структура категорий, что увеличит конверсию, т.к. пользователи быстрее найдут нужный товар   \n",
       "1                                     Запустить собственную службу доставки, что сократит срок доставки заказов   \n",
       "5                      Добавить страницу отзывов клиентов о магазине, что позволит увеличить количество заказов   \n",
       "4                              Изменить цвет фона главной страницы, чтобы увеличить вовлеченность пользователей   \n",
       "\n",
       "     ice   rice  \n",
       "7  11.20  112.0  \n",
       "2   7.00   56.0  \n",
       "0  13.33   40.0  \n",
       "6   8.00   40.0  \n",
       "8  16.20   16.2  \n",
       "3   1.12    9.0  \n",
       "1   2.00    4.0  \n",
       "5   1.33    4.0  \n",
       "4   1.00    3.0  "
      ]
     },
     "execution_count": 7,
     "metadata": {},
     "output_type": "execute_result"
    }
   ],
   "source": [
    "data['rice'] = round(data['reach'] * data['impact'] * data['confidence'] / data['efforts'], 5)\n",
    "data[['hypothesis', 'ice', 'rice']] .sort_values(by='rice', ascending=False)"
   ]
  },
  {
   "cell_type": "markdown",
   "metadata": {},
   "source": [
    "При применении параметров фреймворка RICE наиболее перспективной определилась гипотеза с индексом 7, на втором месте гипотеза с индексом строки 2, на третьем - 0 и 6. \n",
    "- Добавить форму подписки на все основные страницы, чтобы собрать базу клиентов для email-рассылок \t\n",
    "- Добавить блоки рекомендаций товаров на сайт интернет магазина, чтобы повысить конверсию и средний чек заказа\n",
    "- Добавить два новых канала привлечения трафика, что позволит привлекать на 30% больше пользователей\n",
    "- Показать на главной странице баннеры с актуальными акциями и распродажами, чтобы увеличить конверсию \t\n",
    "\n",
    "Рейтинг гипотез по фреймворку RICE отличается от рейтинга ICE, потому что RICE, помимо влияния, уверенности и усилий, учитывает еще и охват пользователей предлагаемым изменением. В данном случае у гипотезы с индексом строки 7 (\"Добавить форму подписки на все основные страни...\") самый высокий охват пользователей (10 - фактически это изменение затронет всех пользователей интернет-магазина). А у гипотезы, которая вышла на первое место при применении фреймворка ICE с индексом строки 8 (\"Запустить акцию, дающую скидку на товар в день...\") не смотря на максимальные значения уверенности и влияния на пользователй, охват пользователей минимальный (показатель 1)."
   ]
  },
  {
   "cell_type": "markdown",
   "metadata": {},
   "source": [
    "### Вывод."
   ]
  },
  {
   "cell_type": "markdown",
   "metadata": {},
   "source": [
    "Для проведения A/B теста можно рекомендовать гипотезу с индексом строки 7 - \"Добавить форму подписки на все основные страницы, чтобы собрать базу клиентов для email-рассылок\". У этого изменения максимальный охват пользователей, а также высокие показатели уровня влияния на пользователей и уверенности в этом влиянии. Сложность тестирования данной гипотезы находится на среднем уровне."
   ]
  },
  {
   "cell_type": "markdown",
   "metadata": {},
   "source": [
    "## Часть 2.  Анализ А/В теста."
   ]
  },
  {
   "cell_type": "markdown",
   "metadata": {},
   "source": [
    "### Обзор данных."
   ]
  },
  {
   "cell_type": "markdown",
   "metadata": {},
   "source": [
    "Посмотрим на таблицы с данными результатов А/В теста."
   ]
  },
  {
   "cell_type": "code",
   "execution_count": 8,
   "metadata": {},
   "outputs": [],
   "source": [
    "orders = pd.read_csv('orders.csv')\n",
    "visitors = pd.read_csv('visitors.csv')"
   ]
  },
  {
   "cell_type": "code",
   "execution_count": 9,
   "metadata": {
    "scrolled": false
   },
   "outputs": [
    {
     "name": "stdout",
     "output_type": "stream",
     "text": [
      "<class 'pandas.core.frame.DataFrame'>\n",
      "RangeIndex: 1197 entries, 0 to 1196\n",
      "Data columns (total 5 columns):\n",
      " #   Column         Non-Null Count  Dtype \n",
      "---  ------         --------------  ----- \n",
      " 0   transactionId  1197 non-null   int64 \n",
      " 1   visitorId      1197 non-null   int64 \n",
      " 2   date           1197 non-null   object\n",
      " 3   revenue        1197 non-null   int64 \n",
      " 4   group          1197 non-null   object\n",
      "dtypes: int64(3), object(2)\n",
      "memory usage: 46.9+ KB\n",
      "\n",
      "\n",
      "<class 'pandas.core.frame.DataFrame'>\n",
      "RangeIndex: 62 entries, 0 to 61\n",
      "Data columns (total 3 columns):\n",
      " #   Column    Non-Null Count  Dtype \n",
      "---  ------    --------------  ----- \n",
      " 0   date      62 non-null     object\n",
      " 1   group     62 non-null     object\n",
      " 2   visitors  62 non-null     int64 \n",
      "dtypes: int64(1), object(2)\n",
      "memory usage: 1.6+ KB\n"
     ]
    }
   ],
   "source": [
    "orders.info()\n",
    "print('\\n')\n",
    "visitors.info()"
   ]
  },
  {
   "cell_type": "markdown",
   "metadata": {},
   "source": [
    "Согласно описанию проекта \n",
    "\n",
    "файл `orders` содержит следующую информацию:\n",
    "- `transactionId` — идентификатор заказа;\n",
    "- `visitorId` — идентификатор пользователя, совершившего заказ;\n",
    "- `date` — дата, когда был совершён заказ;\n",
    "- `revenue` — выручка заказа;\n",
    "- `group` — группа A/B-теста, в которую попал заказ;\n",
    "\n",
    "Файл `visitors` включает данные:\n",
    "- `date` — дата;\n",
    "- `group` — группа A/B-теста;\n",
    "- `visitors` — количество пользователей в указанную дату в указанной группе A/B-теста.\n"
   ]
  },
  {
   "cell_type": "markdown",
   "metadata": {},
   "source": [
    "Приведем данные, содержащие дату к формату `datetime`"
   ]
  },
  {
   "cell_type": "code",
   "execution_count": 10,
   "metadata": {},
   "outputs": [],
   "source": [
    "orders['date'] = pd.to_datetime (orders['date']).dt.date\n",
    "visitors['date'] = pd.to_datetime (visitors['date']).dt.date"
   ]
  },
  {
   "cell_type": "markdown",
   "metadata": {},
   "source": [
    "Названия столбцов в таблице `orders` приведем к \"змеиному регистру\" (без заглавных букв и пробелов)"
   ]
  },
  {
   "cell_type": "code",
   "execution_count": 11,
   "metadata": {},
   "outputs": [],
   "source": [
    "orders = orders.rename(columns={'transactionId': 'transaction_id', 'visitorId': 'visitor_id'})"
   ]
  },
  {
   "cell_type": "markdown",
   "metadata": {},
   "source": [
    "Провирим таблицы на наличие полных дубликатов"
   ]
  },
  {
   "cell_type": "code",
   "execution_count": 12,
   "metadata": {},
   "outputs": [
    {
     "data": {
      "text/plain": [
       "0"
      ]
     },
     "execution_count": 12,
     "metadata": {},
     "output_type": "execute_result"
    }
   ],
   "source": [
    "orders.duplicated().sum()"
   ]
  },
  {
   "cell_type": "code",
   "execution_count": 13,
   "metadata": {},
   "outputs": [
    {
     "data": {
      "text/plain": [
       "0"
      ]
     },
     "execution_count": 13,
     "metadata": {},
     "output_type": "execute_result"
    }
   ],
   "source": [
    "visitors.duplicated().sum()"
   ]
  },
  {
   "cell_type": "markdown",
   "metadata": {},
   "source": [
    "Полных дубликатов строк в таблицах нет.\n",
    "\n",
    "Выведем первые строки имеющихся таблиц"
   ]
  },
  {
   "cell_type": "code",
   "execution_count": 14,
   "metadata": {},
   "outputs": [
    {
     "data": {
      "text/html": [
       "<div>\n",
       "<style scoped>\n",
       "    .dataframe tbody tr th:only-of-type {\n",
       "        vertical-align: middle;\n",
       "    }\n",
       "\n",
       "    .dataframe tbody tr th {\n",
       "        vertical-align: top;\n",
       "    }\n",
       "\n",
       "    .dataframe thead th {\n",
       "        text-align: right;\n",
       "    }\n",
       "</style>\n",
       "<table border=\"1\" class=\"dataframe\">\n",
       "  <thead>\n",
       "    <tr style=\"text-align: right;\">\n",
       "      <th></th>\n",
       "      <th>transaction_id</th>\n",
       "      <th>visitor_id</th>\n",
       "      <th>date</th>\n",
       "      <th>revenue</th>\n",
       "      <th>group</th>\n",
       "    </tr>\n",
       "  </thead>\n",
       "  <tbody>\n",
       "    <tr>\n",
       "      <th>0</th>\n",
       "      <td>3667963787</td>\n",
       "      <td>3312258926</td>\n",
       "      <td>2019-08-15</td>\n",
       "      <td>1650</td>\n",
       "      <td>B</td>\n",
       "    </tr>\n",
       "    <tr>\n",
       "      <th>1</th>\n",
       "      <td>2804400009</td>\n",
       "      <td>3642806036</td>\n",
       "      <td>2019-08-15</td>\n",
       "      <td>730</td>\n",
       "      <td>B</td>\n",
       "    </tr>\n",
       "    <tr>\n",
       "      <th>2</th>\n",
       "      <td>2961555356</td>\n",
       "      <td>4069496402</td>\n",
       "      <td>2019-08-15</td>\n",
       "      <td>400</td>\n",
       "      <td>A</td>\n",
       "    </tr>\n",
       "    <tr>\n",
       "      <th>3</th>\n",
       "      <td>3797467345</td>\n",
       "      <td>1196621759</td>\n",
       "      <td>2019-08-15</td>\n",
       "      <td>9759</td>\n",
       "      <td>B</td>\n",
       "    </tr>\n",
       "    <tr>\n",
       "      <th>4</th>\n",
       "      <td>2282983706</td>\n",
       "      <td>2322279887</td>\n",
       "      <td>2019-08-15</td>\n",
       "      <td>2308</td>\n",
       "      <td>B</td>\n",
       "    </tr>\n",
       "  </tbody>\n",
       "</table>\n",
       "</div>"
      ],
      "text/plain": [
       "   transaction_id  visitor_id        date  revenue group\n",
       "0      3667963787  3312258926  2019-08-15     1650     B\n",
       "1      2804400009  3642806036  2019-08-15      730     B\n",
       "2      2961555356  4069496402  2019-08-15      400     A\n",
       "3      3797467345  1196621759  2019-08-15     9759     B\n",
       "4      2282983706  2322279887  2019-08-15     2308     B"
      ]
     },
     "execution_count": 14,
     "metadata": {},
     "output_type": "execute_result"
    }
   ],
   "source": [
    "orders.head()"
   ]
  },
  {
   "cell_type": "code",
   "execution_count": 15,
   "metadata": {
    "scrolled": true
   },
   "outputs": [
    {
     "data": {
      "text/html": [
       "<div>\n",
       "<style scoped>\n",
       "    .dataframe tbody tr th:only-of-type {\n",
       "        vertical-align: middle;\n",
       "    }\n",
       "\n",
       "    .dataframe tbody tr th {\n",
       "        vertical-align: top;\n",
       "    }\n",
       "\n",
       "    .dataframe thead th {\n",
       "        text-align: right;\n",
       "    }\n",
       "</style>\n",
       "<table border=\"1\" class=\"dataframe\">\n",
       "  <thead>\n",
       "    <tr style=\"text-align: right;\">\n",
       "      <th></th>\n",
       "      <th>date</th>\n",
       "      <th>group</th>\n",
       "      <th>visitors</th>\n",
       "    </tr>\n",
       "  </thead>\n",
       "  <tbody>\n",
       "    <tr>\n",
       "      <th>0</th>\n",
       "      <td>2019-08-01</td>\n",
       "      <td>A</td>\n",
       "      <td>719</td>\n",
       "    </tr>\n",
       "    <tr>\n",
       "      <th>1</th>\n",
       "      <td>2019-08-02</td>\n",
       "      <td>A</td>\n",
       "      <td>619</td>\n",
       "    </tr>\n",
       "    <tr>\n",
       "      <th>2</th>\n",
       "      <td>2019-08-03</td>\n",
       "      <td>A</td>\n",
       "      <td>507</td>\n",
       "    </tr>\n",
       "    <tr>\n",
       "      <th>3</th>\n",
       "      <td>2019-08-04</td>\n",
       "      <td>A</td>\n",
       "      <td>717</td>\n",
       "    </tr>\n",
       "    <tr>\n",
       "      <th>4</th>\n",
       "      <td>2019-08-05</td>\n",
       "      <td>A</td>\n",
       "      <td>756</td>\n",
       "    </tr>\n",
       "  </tbody>\n",
       "</table>\n",
       "</div>"
      ],
      "text/plain": [
       "         date group  visitors\n",
       "0  2019-08-01     A       719\n",
       "1  2019-08-02     A       619\n",
       "2  2019-08-03     A       507\n",
       "3  2019-08-04     A       717\n",
       "4  2019-08-05     A       756"
      ]
     },
     "execution_count": 15,
     "metadata": {},
     "output_type": "execute_result"
    }
   ],
   "source": [
    "visitors.head()"
   ]
  },
  {
   "cell_type": "markdown",
   "metadata": {},
   "source": [
    "Проверим уникальность пользователей, сделавших заказы по группам."
   ]
  },
  {
   "cell_type": "code",
   "execution_count": 16,
   "metadata": {},
   "outputs": [
    {
     "name": "stdout",
     "output_type": "stream",
     "text": [
      "Всего в тесте сделали заказы 1031 уникальных пользователей\n",
      " В группе А сделали заказы 503 пользователей\n",
      " В группе B сделали заказы 586 пользователей\n",
      "\n",
      "Данные содержат 58 уникальных пользователей, чьи заказы попали в обе группы теста.\n",
      "\n",
      " Процент пересекающихся пользователей в группе А -  11.53 \n",
      " Процент пересекающихся пользователей в группе B -  9.9\n"
     ]
    }
   ],
   "source": [
    "print(\n",
    "    'Всего в тесте сделали заказы', orders['visitor_id'].nunique(), 'уникальных пользователей\\n',\n",
    "    'В группе А сделали заказы', orders.query('group == \"A\"')['visitor_id'].nunique(), 'пользователей\\n',\n",
    "    'В группе B сделали заказы', orders.query('group == \"B\"')['visitor_id'].nunique(), 'пользователей\\n'   \n",
    ")\n",
    "print(\n",
    "    'Данные содержат',\n",
    "    orders.groupby(by='visitor_id')\n",
    "    .agg({'group' : 'nunique'}).reset_index().query('group == 2').visitor_id.nunique(),\n",
    "    'уникальных пользователей, чьи заказы попали в обе группы теста.\\n'  \n",
    ")\n",
    "\n",
    "print(\n",
    "    ' Процент пересекающихся пользователей в группе А - ',\n",
    "    round(\n",
    "        orders.groupby(by='visitor_id')        \n",
    "        .agg({'group' : 'nunique'}).reset_index().query('group == 2').visitor_id.nunique()/\n",
    "        orders.query('group == \"A\"')['visitor_id'].nunique() * 100, 2\n",
    "    ),\n",
    "    '\\n',\n",
    "    'Процент пересекающихся пользователей в группе B - ',\n",
    "    round(\n",
    "        orders.groupby(by='visitor_id')        \n",
    "        .agg({'group' : 'nunique'}).reset_index().query('group == 2').visitor_id.nunique()/\n",
    "        orders.query('group == \"B\"')['visitor_id'].nunique() * 100, 2\n",
    "    )\n",
    ")"
   ]
  },
  {
   "cell_type": "markdown",
   "metadata": {},
   "source": [
    "Проверим долю выручки и количество заказов таких пользователей по каждой группе"
   ]
  },
  {
   "cell_type": "code",
   "execution_count": 17,
   "metadata": {},
   "outputs": [
    {
     "data": {
      "text/html": [
       "<div>\n",
       "<style scoped>\n",
       "    .dataframe tbody tr th:only-of-type {\n",
       "        vertical-align: middle;\n",
       "    }\n",
       "\n",
       "    .dataframe tbody tr th {\n",
       "        vertical-align: top;\n",
       "    }\n",
       "\n",
       "    .dataframe thead th {\n",
       "        text-align: right;\n",
       "    }\n",
       "</style>\n",
       "<table border=\"1\" class=\"dataframe\">\n",
       "  <thead>\n",
       "    <tr style=\"text-align: right;\">\n",
       "      <th></th>\n",
       "      <th>group</th>\n",
       "      <th>revenue</th>\n",
       "      <th>transactions</th>\n",
       "      <th>revenue_visitors_in_ab</th>\n",
       "      <th>transactions_in_ab</th>\n",
       "      <th>%_revenue_visitors_in_ab</th>\n",
       "      <th>%_transactions_in_ab</th>\n",
       "    </tr>\n",
       "  </thead>\n",
       "  <tbody>\n",
       "    <tr>\n",
       "      <th>0</th>\n",
       "      <td>A</td>\n",
       "      <td>4084803</td>\n",
       "      <td>557</td>\n",
       "      <td>720147</td>\n",
       "      <td>89</td>\n",
       "      <td>17.63</td>\n",
       "      <td>15.98</td>\n",
       "    </tr>\n",
       "    <tr>\n",
       "      <th>1</th>\n",
       "      <td>B</td>\n",
       "      <td>5907760</td>\n",
       "      <td>640</td>\n",
       "      <td>838788</td>\n",
       "      <td>92</td>\n",
       "      <td>14.20</td>\n",
       "      <td>14.37</td>\n",
       "    </tr>\n",
       "  </tbody>\n",
       "</table>\n",
       "</div>"
      ],
      "text/plain": [
       "  group  revenue  transactions  revenue_visitors_in_ab  transactions_in_ab  \\\n",
       "0     A  4084803           557                  720147                  89   \n",
       "1     B  5907760           640                  838788                  92   \n",
       "\n",
       "   %_revenue_visitors_in_ab  %_transactions_in_ab  \n",
       "0                     17.63                 15.98  \n",
       "1                     14.20                 14.37  "
      ]
     },
     "execution_count": 17,
     "metadata": {},
     "output_type": "execute_result"
    }
   ],
   "source": [
    "visitor_in_ab =(\n",
    "    orders.groupby(by='visitor_id')\n",
    "    .agg({'group' : 'nunique'})\n",
    "    .reset_index().\n",
    "    query('group == 2')\n",
    "    .visitor_id.unique()\n",
    ")    \n",
    "\n",
    "orders_ab_total =(\n",
    "    orders.groupby(by='group', as_index=False)\n",
    "    .agg({'revenue': 'sum', 'transaction_id': 'nunique'})\n",
    ")\n",
    "orders_ab_total.columns=['group', 'revenue', 'transactions']\n",
    "\n",
    "orders_visitors_in_a_and_b = (\n",
    "    orders.query('visitor_id in @visitor_in_ab')\n",
    "    .groupby(by='group', as_index=False)\n",
    "    .agg({'revenue': 'sum', 'transaction_id': 'nunique'})\n",
    ")     \n",
    "orders_visitors_in_a_and_b.columns=['group', 'revenue_visitors_in_ab', 'transactions_in_ab']\n",
    "\n",
    "orders_ab = orders_ab_total.merge(orders_visitors_in_a_and_b, on='group', how='left')\n",
    "\n",
    "orders_ab['%_revenue_visitors_in_ab'] = (orders_ab['revenue_visitors_in_ab'] / orders_ab['revenue'] * 100).round(2)\n",
    "orders_ab['%_transactions_in_ab'] = (orders_ab['transactions_in_ab'] / orders_ab['transactions'] * 100).round(2)\n",
    "\n",
    "orders_ab"
   ]
  },
  {
   "cell_type": "markdown",
   "metadata": {},
   "source": [
    "**Вывод**\n",
    "\n",
    "Для анализа А/В теста нам предоставлены две таблицы с данными. Одна из которых `orders` содержит информацию о заказах пользователях, другая `visitors` о количестве визитов пользователей каждой группы по дням. \n",
    "\n",
    "В ходе предобработки были обнаружены следующие проблемы с данными:\n",
    "- нарушения в стиле заголовков (названия столбцов записаны с использованием двух регистров)\n",
    "- несоответствие типов данных - данные содержащие дату, сохранены в формате `object`\n",
    "Названия столбцов привели к нижнему регистру и записали в \"змеином регистре\". Столбцы, содержащие дату привели к формату `datetime`\n",
    "\n",
    "Кроме того, мы выяснили, что данные содержат 58 пользователей, чьи заказы попали в обе группы А/В теста. Доля выручки таких пользователей в группе А составляет 17,65, в группе В - 14,2%, а доля в количестве заказов у группы А - 16%, у группы В - 14,4%. Что составляет существенную часть выборки. Наличие таких пользователей может привести к искажению результатов А/В теста. Их удаление также может привести к ошибочным результатам.\n",
    "\n",
    "В целом, в этом случае следует провести А/В тест повторно, исправив технические ошибки, которые привели к появлению пересекающихся пользователей. Но так как у нас нет такой возможности, проведем анализ A/B теста на основе имеющихся данных.\n"
   ]
  },
  {
   "cell_type": "markdown",
   "metadata": {},
   "source": [
    "### Создание таблицы с кумулятивными данными."
   ]
  },
  {
   "cell_type": "markdown",
   "metadata": {},
   "source": [
    "Для анализа куммулятивных данных по группам создадим таблицу с ними."
   ]
  },
  {
   "cell_type": "markdown",
   "metadata": {},
   "source": [
    "Массив уникальных значений дат и групп."
   ]
  },
  {
   "cell_type": "code",
   "execution_count": 18,
   "metadata": {},
   "outputs": [],
   "source": [
    "dates_groups = orders[['date','group']].drop_duplicates()\n",
    "\n",
    "orders_aggregated = (\n",
    "    dates_groups\n",
    "    .apply(\n",
    "        lambda x: orders[\n",
    "            np.logical_and(orders['date'] <= x['date'], orders['group'] == x['group'])\n",
    "        ]\n",
    "        .agg(\n",
    "            {'date' : 'max', 'group' : 'max', 'transaction_id' : 'nunique', 'visitor_id' : 'nunique', 'revenue' : 'sum'}\n",
    "        ), axis=1\n",
    "    ).sort_values(by=['date','group'])\n",
    ")\n",
    "\n",
    "visitors_aggregated = (\n",
    "    dates_groups\n",
    "    .apply(\n",
    "        lambda x: visitors[\n",
    "            np.logical_and(visitors['date'] <= x['date'], visitors['group'] == x['group'])\n",
    "        ].agg(\n",
    "            {'date' : 'max', 'group' : 'max', 'visitors' : 'sum'}\n",
    "        ), axis=1\n",
    "    ).sort_values(by=['date','group'])\n",
    ")\n",
    "\n",
    "cumulative_data = orders_aggregated.merge(visitors_aggregated, on=['date', 'group'])\n",
    "cumulative_data.columns = ['date', 'group', 'orders', 'buyers', 'revenue', 'visitors']"
   ]
  },
  {
   "cell_type": "code",
   "execution_count": 19,
   "metadata": {},
   "outputs": [
    {
     "data": {
      "text/html": [
       "<div>\n",
       "<style scoped>\n",
       "    .dataframe tbody tr th:only-of-type {\n",
       "        vertical-align: middle;\n",
       "    }\n",
       "\n",
       "    .dataframe tbody tr th {\n",
       "        vertical-align: top;\n",
       "    }\n",
       "\n",
       "    .dataframe thead th {\n",
       "        text-align: right;\n",
       "    }\n",
       "</style>\n",
       "<table border=\"1\" class=\"dataframe\">\n",
       "  <thead>\n",
       "    <tr style=\"text-align: right;\">\n",
       "      <th></th>\n",
       "      <th>date</th>\n",
       "      <th>group</th>\n",
       "      <th>orders</th>\n",
       "      <th>buyers</th>\n",
       "      <th>revenue</th>\n",
       "      <th>visitors</th>\n",
       "    </tr>\n",
       "  </thead>\n",
       "  <tbody>\n",
       "    <tr>\n",
       "      <th>0</th>\n",
       "      <td>2019-08-01</td>\n",
       "      <td>A</td>\n",
       "      <td>24</td>\n",
       "      <td>20</td>\n",
       "      <td>148579</td>\n",
       "      <td>719</td>\n",
       "    </tr>\n",
       "    <tr>\n",
       "      <th>1</th>\n",
       "      <td>2019-08-01</td>\n",
       "      <td>B</td>\n",
       "      <td>21</td>\n",
       "      <td>20</td>\n",
       "      <td>101217</td>\n",
       "      <td>713</td>\n",
       "    </tr>\n",
       "    <tr>\n",
       "      <th>2</th>\n",
       "      <td>2019-08-02</td>\n",
       "      <td>A</td>\n",
       "      <td>44</td>\n",
       "      <td>38</td>\n",
       "      <td>242401</td>\n",
       "      <td>1338</td>\n",
       "    </tr>\n",
       "    <tr>\n",
       "      <th>3</th>\n",
       "      <td>2019-08-02</td>\n",
       "      <td>B</td>\n",
       "      <td>45</td>\n",
       "      <td>43</td>\n",
       "      <td>266748</td>\n",
       "      <td>1294</td>\n",
       "    </tr>\n",
       "    <tr>\n",
       "      <th>4</th>\n",
       "      <td>2019-08-03</td>\n",
       "      <td>A</td>\n",
       "      <td>68</td>\n",
       "      <td>62</td>\n",
       "      <td>354874</td>\n",
       "      <td>1845</td>\n",
       "    </tr>\n",
       "  </tbody>\n",
       "</table>\n",
       "</div>"
      ],
      "text/plain": [
       "         date group  orders  buyers  revenue  visitors\n",
       "0  2019-08-01     A      24      20   148579       719\n",
       "1  2019-08-01     B      21      20   101217       713\n",
       "2  2019-08-02     A      44      38   242401      1338\n",
       "3  2019-08-02     B      45      43   266748      1294\n",
       "4  2019-08-03     A      68      62   354874      1845"
      ]
     },
     "execution_count": 19,
     "metadata": {},
     "output_type": "execute_result"
    }
   ],
   "source": [
    "cumulative_data.head()"
   ]
  },
  {
   "cell_type": "markdown",
   "metadata": {},
   "source": [
    "### График кумулятивной выручки по группам А/В тестирования."
   ]
  },
  {
   "cell_type": "markdown",
   "metadata": {},
   "source": [
    "Отфильтруем данные для построения графика по группам А и В"
   ]
  },
  {
   "cell_type": "code",
   "execution_count": 20,
   "metadata": {},
   "outputs": [],
   "source": [
    "cumulative_data_а = cumulative_data[cumulative_data['group'] == 'A'][['date', 'orders', 'revenue']]\n",
    "cumulative_data_b = cumulative_data[cumulative_data['group'] == 'B'][['date', 'orders', 'revenue']]"
   ]
  },
  {
   "cell_type": "markdown",
   "metadata": {},
   "source": [
    "Построим графики комулятивной выручки."
   ]
  },
  {
   "cell_type": "code",
   "execution_count": 21,
   "metadata": {},
   "outputs": [
    {
     "data": {
      "image/png": "[encoded data removed]",
      "text/plain": [
       "<Figure size 432x288 with 1 Axes>"
      ]
     },
     "metadata": {
      "needs_background": "light"
     },
     "output_type": "display_data"
    }
   ],
   "source": [
    "plt.plot(cumulative_data_а['date'], cumulative_data_а['revenue'], label='A')\n",
    "plt.plot(cumulative_data_b['date'], cumulative_data_b['revenue'], label='B')\n",
    "plt.title('График кумулятивной выручки по группам')\n",
    "plt.xticks(rotation=45)\n",
    "plt.legend()\n",
    "plt.xlabel('Дата')\n",
    "plt.ylabel('Сумма выручки')\n",
    "plt.show()"
   ]
  },
  {
   "cell_type": "markdown",
   "metadata": {},
   "source": [
    "В целом выручка по группе А равномерно растет в течении всего периода. До 5 августа выручки по обоим группам находятся на одном уровне. Затем выручка по группе В начинает расти быстрее. Однако 13 августа мы видим небольшой всплеск выручки в группе А, но после 13 августа группа В  вновь опережает по выручке группу А.  Вырука по группе В также плавно растет до 17 августа. Затем происходит резкий рост выручки примерно 17-19 августа, после чего выручка по группе В возвращается к равномерному росту до конца периода. Скорее всего 17-19 августа поступил аномально большой заказ по группе В, либо в эти дни резко выросло число заказов в этой группе."
   ]
  },
  {
   "cell_type": "markdown",
   "metadata": {},
   "source": [
    "### График куммулятивного среднего чека по группам."
   ]
  },
  {
   "cell_type": "code",
   "execution_count": 22,
   "metadata": {},
   "outputs": [
    {
     "data": {
      "image/png": "[encoded data removed]",
      "text/plain": [
       "<Figure size 432x288 with 1 Axes>"
      ]
     },
     "metadata": {
      "needs_background": "light"
     },
     "output_type": "display_data"
    }
   ],
   "source": [
    "plt.plot(cumulative_data_а['date'], cumulative_data_а['revenue'] / cumulative_data_а['orders'], label='A')\n",
    "plt.plot(cumulative_data_b['date'], cumulative_data_b['revenue'] / cumulative_data_b['orders'], label='B')\n",
    "plt.title('График кумулятивного среднего чека по группам')\n",
    "plt.xticks(rotation=45)\n",
    "plt.legend()\n",
    "plt.xlabel('Дата')\n",
    "plt.ylabel('Сумма среднего чека')\n",
    "plt.show()"
   ]
  },
  {
   "cell_type": "markdown",
   "metadata": {},
   "source": [
    "На графике кумулятивного среднего чека видны всплески в те же даты, что и по кумулятивной выручке. Для группы А это 13 августа, для группы В 17-19 августа. Теперь мы можем сказать, что в эти дни были сделаны аномально крупные заказы. По группе В средний чек в эти дни возрастает почти на 43%. После всплеска 13 августа средний чек по группе А становится относительно равномерным и плавно растет до конца исследования. По группе В после резкого всплеска 17-19 августа средний чек постепенно снижается до конца исследования. Возможно, необходимо продлить тестирование, до установления стабильных показателей среднего чека по группам."
   ]
  },
  {
   "cell_type": "markdown",
   "metadata": {},
   "source": [
    "### График относительного изменения среднего чека группы А к группе В."
   ]
  },
  {
   "cell_type": "markdown",
   "metadata": {},
   "source": [
    "Соберем данные по обеим группам в одну таблицу"
   ]
  },
  {
   "cell_type": "code",
   "execution_count": 23,
   "metadata": {},
   "outputs": [
    {
     "data": {
      "text/html": [
       "<div>\n",
       "<style scoped>\n",
       "    .dataframe tbody tr th:only-of-type {\n",
       "        vertical-align: middle;\n",
       "    }\n",
       "\n",
       "    .dataframe tbody tr th {\n",
       "        vertical-align: top;\n",
       "    }\n",
       "\n",
       "    .dataframe thead th {\n",
       "        text-align: right;\n",
       "    }\n",
       "</style>\n",
       "<table border=\"1\" class=\"dataframe\">\n",
       "  <thead>\n",
       "    <tr style=\"text-align: right;\">\n",
       "      <th></th>\n",
       "      <th>date</th>\n",
       "      <th>orders_a</th>\n",
       "      <th>revenue_a</th>\n",
       "      <th>orders_b</th>\n",
       "      <th>revenue_b</th>\n",
       "    </tr>\n",
       "  </thead>\n",
       "  <tbody>\n",
       "    <tr>\n",
       "      <th>0</th>\n",
       "      <td>2019-08-01</td>\n",
       "      <td>24</td>\n",
       "      <td>148579</td>\n",
       "      <td>21</td>\n",
       "      <td>101217</td>\n",
       "    </tr>\n",
       "    <tr>\n",
       "      <th>1</th>\n",
       "      <td>2019-08-02</td>\n",
       "      <td>44</td>\n",
       "      <td>242401</td>\n",
       "      <td>45</td>\n",
       "      <td>266748</td>\n",
       "    </tr>\n",
       "    <tr>\n",
       "      <th>2</th>\n",
       "      <td>2019-08-03</td>\n",
       "      <td>68</td>\n",
       "      <td>354874</td>\n",
       "      <td>61</td>\n",
       "      <td>380996</td>\n",
       "    </tr>\n",
       "    <tr>\n",
       "      <th>3</th>\n",
       "      <td>2019-08-04</td>\n",
       "      <td>84</td>\n",
       "      <td>425699</td>\n",
       "      <td>78</td>\n",
       "      <td>489567</td>\n",
       "    </tr>\n",
       "    <tr>\n",
       "      <th>4</th>\n",
       "      <td>2019-08-05</td>\n",
       "      <td>109</td>\n",
       "      <td>549917</td>\n",
       "      <td>101</td>\n",
       "      <td>581995</td>\n",
       "    </tr>\n",
       "  </tbody>\n",
       "</table>\n",
       "</div>"
      ],
      "text/plain": [
       "         date  orders_a  revenue_a  orders_b  revenue_b\n",
       "0  2019-08-01        24     148579        21     101217\n",
       "1  2019-08-02        44     242401        45     266748\n",
       "2  2019-08-03        68     354874        61     380996\n",
       "3  2019-08-04        84     425699        78     489567\n",
       "4  2019-08-05       109     549917       101     581995"
      ]
     },
     "execution_count": 23,
     "metadata": {},
     "output_type": "execute_result"
    }
   ],
   "source": [
    "merge_cumulative_data = cumulative_data_а.merge(cumulative_data_b, on='date', how='left', suffixes=['_a', '_b'])\n",
    "merge_cumulative_data.head()"
   ]
  },
  {
   "cell_type": "markdown",
   "metadata": {},
   "source": [
    "Построим график"
   ]
  },
  {
   "cell_type": "code",
   "execution_count": 24,
   "metadata": {
    "scrolled": true
   },
   "outputs": [
    {
     "data": {
      "image/png": "[encoded data removed]",
      "text/plain": [
       "<Figure size 432x288 with 1 Axes>"
      ]
     },
     "metadata": {
      "needs_background": "light"
     },
     "output_type": "display_data"
    }
   ],
   "source": [
    "plt.plot(\n",
    "    merge_cumulative_data['date'],\n",
    "    (merge_cumulative_data['revenue_a'] / merge_cumulative_data['orders_a']) /\n",
    "    (merge_cumulative_data['revenue_b'] / merge_cumulative_data['orders_b']) - 1\n",
    ")\n",
    "\n",
    "plt.axhline(y=0, color='black', linestyle='--')\n",
    "plt.title('График относительного изменения \\nкумулятивного среднего чека группы А к группе В')\n",
    "plt.xticks(rotation=45)\n",
    "\n",
    "plt.xlabel('Дата')\n",
    "plt.ylabel('Коэффициент')\n",
    "plt.show()"
   ]
  },
  {
   "cell_type": "markdown",
   "metadata": {},
   "source": [
    "Различие между средними чеками резко \"скачет\" в тех же точках, что и на предыдущих графиках. Средний чек группы А на 15% превышает средний чек группы В 13 августа, а уже 17-19 августа становится меньше среднего чека по группе В более чем на 30%. Что еще раз подтверждает наличие выбросов в эти даты (аномально крупных заказов). После 19 августа и до конца периода средний чек группы А остается меньше чем у группы В, но это разрыв постепенно сокращается."
   ]
  },
  {
   "cell_type": "markdown",
   "metadata": {},
   "source": [
    "### График куммулятивной конверсии по группам."
   ]
  },
  {
   "cell_type": "markdown",
   "metadata": {},
   "source": [
    "Посчитаем показатели конверсии для построения графиков."
   ]
  },
  {
   "cell_type": "code",
   "execution_count": 25,
   "metadata": {},
   "outputs": [],
   "source": [
    "cumulative_data['conversion'] = cumulative_data['orders'] / cumulative_data['visitors']\n",
    "cumulative_data_а = cumulative_data[cumulative_data['group'] == 'A']\n",
    "cumulative_data_b = cumulative_data[cumulative_data['group'] == 'B']\n"
   ]
  },
  {
   "cell_type": "markdown",
   "metadata": {},
   "source": [
    "Построим график."
   ]
  },
  {
   "cell_type": "code",
   "execution_count": 26,
   "metadata": {},
   "outputs": [
    {
     "data": {
      "image/png": "[encoded data removed]",
      "text/plain": [
       "<Figure size 432x288 with 1 Axes>"
      ]
     },
     "metadata": {
      "needs_background": "light"
     },
     "output_type": "display_data"
    }
   ],
   "source": [
    "plt.plot(cumulative_data_а['date'], cumulative_data_а['conversion'], label='A')\n",
    "plt.plot(cumulative_data_b['date'], cumulative_data_b['conversion'], label='B')\n",
    "plt.title('График кумулятивной конверсии по группам')\n",
    "plt.xticks(rotation=45)\n",
    "plt.legend()\n",
    "plt.xlabel('Дата')\n",
    "plt.ylabel('Конверсия')\n",
    "plt.axis([\"2019-08-01\", '2019-09-01', 0, 0.04])\n",
    "plt.show()\n"
   ]
  },
  {
   "cell_type": "markdown",
   "metadata": {},
   "source": [
    "Конверсии становятся относительно стабильными после 17 августа. Конверсия группы В выше конверсии группы А почти весь период исследования. "
   ]
  },
  {
   "cell_type": "markdown",
   "metadata": {},
   "source": [
    "### График относительного различия кумулятивных конверсий."
   ]
  },
  {
   "cell_type": "markdown",
   "metadata": {},
   "source": [
    "Объединим таблицы с конверсиями"
   ]
  },
  {
   "cell_type": "code",
   "execution_count": 27,
   "metadata": {},
   "outputs": [],
   "source": [
    "merge_cumulative_conv =(\n",
    "    cumulative_data_а[['date', 'conversion']]\n",
    "    .merge(cumulative_data_b[['date', 'conversion']], on='date', how='left', suffixes=['_a', '_b'])\n",
    ")"
   ]
  },
  {
   "cell_type": "markdown",
   "metadata": {},
   "source": [
    "Построим график."
   ]
  },
  {
   "cell_type": "code",
   "execution_count": 28,
   "metadata": {},
   "outputs": [
    {
     "data": {
      "image/png": "[encoded data removed]",
      "text/plain": [
       "<Figure size 432x288 with 1 Axes>"
      ]
     },
     "metadata": {
      "needs_background": "light"
     },
     "output_type": "display_data"
    }
   ],
   "source": [
    "plt.plot(\n",
    "    merge_cumulative_conv['date'],\n",
    "    (merge_cumulative_conv['conversion_a'] / merge_cumulative_conv['conversion_b']-1)\n",
    ")\n",
    "\n",
    "plt.axhline(y=0, color='black', linestyle='--')\n",
    "plt.axhline(y=-0.1, color='grey', linestyle='--')\n",
    "plt.axis([\"2019-08-01\", '2019-09-01', -0.5, 0.5])\n",
    "plt.title('График относительного изменения \\nкумулятивной конверсии группы А к группе В')\n",
    "plt.xticks(rotation=45)\n",
    "plt.xlabel('Дата')\n",
    "plt.ylabel('Коэффициент')\n",
    "plt.show()"
   ]
  },
  {
   "cell_type": "markdown",
   "metadata": {},
   "source": [
    "Конверсия группы В лидирует почти весь период теста. После 17 августа конверсия группы А немного улучшается, но все равно стабильно ниже, чем у В."
   ]
  },
  {
   "cell_type": "markdown",
   "metadata": {},
   "source": [
    "### Определение аномальных пользователей по количеству заказов."
   ]
  },
  {
   "cell_type": "markdown",
   "metadata": {},
   "source": [
    "Посмотрим на количество заказов по пользователеям."
   ]
  },
  {
   "cell_type": "code",
   "execution_count": 29,
   "metadata": {},
   "outputs": [
    {
     "data": {
      "text/html": [
       "<div>\n",
       "<style scoped>\n",
       "    .dataframe tbody tr th:only-of-type {\n",
       "        vertical-align: middle;\n",
       "    }\n",
       "\n",
       "    .dataframe tbody tr th {\n",
       "        vertical-align: top;\n",
       "    }\n",
       "\n",
       "    .dataframe thead th {\n",
       "        text-align: right;\n",
       "    }\n",
       "</style>\n",
       "<table border=\"1\" class=\"dataframe\">\n",
       "  <thead>\n",
       "    <tr style=\"text-align: right;\">\n",
       "      <th></th>\n",
       "      <th>visitor_id</th>\n",
       "      <th>transactions</th>\n",
       "    </tr>\n",
       "  </thead>\n",
       "  <tbody>\n",
       "    <tr>\n",
       "      <th>1023</th>\n",
       "      <td>4256040402</td>\n",
       "      <td>11</td>\n",
       "    </tr>\n",
       "    <tr>\n",
       "      <th>591</th>\n",
       "      <td>2458001652</td>\n",
       "      <td>11</td>\n",
       "    </tr>\n",
       "    <tr>\n",
       "      <th>569</th>\n",
       "      <td>2378935119</td>\n",
       "      <td>9</td>\n",
       "    </tr>\n",
       "    <tr>\n",
       "      <th>487</th>\n",
       "      <td>2038680547</td>\n",
       "      <td>8</td>\n",
       "    </tr>\n",
       "    <tr>\n",
       "      <th>44</th>\n",
       "      <td>199603092</td>\n",
       "      <td>5</td>\n",
       "    </tr>\n",
       "    <tr>\n",
       "      <th>744</th>\n",
       "      <td>3062433592</td>\n",
       "      <td>5</td>\n",
       "    </tr>\n",
       "    <tr>\n",
       "      <th>55</th>\n",
       "      <td>237748145</td>\n",
       "      <td>5</td>\n",
       "    </tr>\n",
       "    <tr>\n",
       "      <th>917</th>\n",
       "      <td>3803269165</td>\n",
       "      <td>5</td>\n",
       "    </tr>\n",
       "    <tr>\n",
       "      <th>299</th>\n",
       "      <td>1230306981</td>\n",
       "      <td>5</td>\n",
       "    </tr>\n",
       "    <tr>\n",
       "      <th>897</th>\n",
       "      <td>3717692402</td>\n",
       "      <td>5</td>\n",
       "    </tr>\n",
       "  </tbody>\n",
       "</table>\n",
       "</div>"
      ],
      "text/plain": [
       "      visitor_id  transactions\n",
       "1023  4256040402            11\n",
       "591   2458001652            11\n",
       "569   2378935119             9\n",
       "487   2038680547             8\n",
       "44     199603092             5\n",
       "744   3062433592             5\n",
       "55     237748145             5\n",
       "917   3803269165             5\n",
       "299   1230306981             5\n",
       "897   3717692402             5"
      ]
     },
     "execution_count": 29,
     "metadata": {},
     "output_type": "execute_result"
    }
   ],
   "source": [
    "orders_by_visitors =(\n",
    "    orders\n",
    "    .groupby('visitor_id', as_index=False)\n",
    "    .agg({'transaction_id' : 'nunique'})\n",
    ")\n",
    "orders_by_visitors.columns=['visitor_id', 'transactions']\n",
    "orders_by_visitors.sort_values('transactions', ascending=False).head(10)"
   ]
  },
  {
   "cell_type": "markdown",
   "metadata": {},
   "source": [
    "Как видно, есть пользователи, совершившие по несколько заказов в исследуемом периоде. Помсмотрим как много таких пользователей построим точечный график распределения числа заказов по пользователям."
   ]
  },
  {
   "cell_type": "code",
   "execution_count": 30,
   "metadata": {},
   "outputs": [
    {
     "data": {
      "image/png": "[encoded data removed]",
      "text/plain": [
       "<Figure size 432x288 with 1 Axes>"
      ]
     },
     "metadata": {
      "needs_background": "light"
     },
     "output_type": "display_data"
    }
   ],
   "source": [
    "x_values = pd.Series(range(0,len(orders_by_visitors)))\n",
    "\n",
    "plt.scatter(x_values, orders_by_visitors['transactions'])\n",
    "plt.title('Точечная диаграмма числа заказов на одного пользователя')\n",
    "plt.ylabel('Число заказов')\n",
    "plt.show()"
   ]
  },
  {
   "cell_type": "markdown",
   "metadata": {},
   "source": [
    "На графике видно, что пользователей совершивших от 2-х до 5-ти заказов достаточно много. Для того, чтобы определить, какое количество заказов на одного пользователя считать аномально большим и отнести к выбросам, посчитаем 95 и 99 перцентили количества заказов на одного пользователя."
   ]
  },
  {
   "cell_type": "code",
   "execution_count": 31,
   "metadata": {},
   "outputs": [
    {
     "data": {
      "text/plain": [
       "array([2., 4.])"
      ]
     },
     "execution_count": 31,
     "metadata": {},
     "output_type": "execute_result"
    }
   ],
   "source": [
    "np.percentile(orders_by_visitors['transactions'], [95, 99])"
   ]
  },
  {
   "cell_type": "markdown",
   "metadata": {},
   "source": [
    "Не более 5% пользователей совершили больше, чем 2 заказа. И не более 1% пользователей совершили более 4-х заказов.\n",
    "Определим аномальными пользователей, совершивших 3 и более заказа."
   ]
  },
  {
   "cell_type": "markdown",
   "metadata": {},
   "source": [
    "### Определение аномальных заказов по сумме."
   ]
  },
  {
   "cell_type": "markdown",
   "metadata": {},
   "source": [
    "Построем точечную диаграмму распределения стоимости заказов."
   ]
  },
  {
   "cell_type": "code",
   "execution_count": 32,
   "metadata": {},
   "outputs": [
    {
     "data": {
      "image/png": "[encoded data removed]",
      "text/plain": [
       "<Figure size 432x288 with 1 Axes>"
      ]
     },
     "metadata": {
      "needs_background": "light"
     },
     "output_type": "display_data"
    }
   ],
   "source": [
    "x_values = pd.Series(range(0,len(orders)))\n",
    "\n",
    "plt.scatter(x_values, orders['revenue'])\n",
    "plt.title('Точечная диаграмма распределения стоимости заказов')\n",
    "plt.ylabel('Стоимость заказа')\n",
    "plt.show()"
   ]
  },
  {
   "cell_type": "markdown",
   "metadata": {},
   "source": [
    "Сумма большинства заказов не превышает 30000, однако есть даже заказ стоимостью свыше 1200000. \n",
    "\n",
    "Для определения границ за которыми находятся заказы с аномально высокой стоимостью посчитаем 95 и 99 перцентили суммы заказа."
   ]
  },
  {
   "cell_type": "code",
   "execution_count": 33,
   "metadata": {},
   "outputs": [
    {
     "data": {
      "text/plain": [
       "array([28000. , 58233.2])"
      ]
     },
     "execution_count": 33,
     "metadata": {},
     "output_type": "execute_result"
    }
   ],
   "source": [
    "np.percentile(orders['revenue'], [95, 99])"
   ]
  },
  {
   "cell_type": "markdown",
   "metadata": {},
   "source": [
    "Не более 5% заказов превышают по сумме 28000, и не более 1% заказов превышают по сумме 58233.\n",
    "\n",
    "Определим аномальных пользователей, как пользоваттелей, совершивших заказ на сумму 30000 и более."
   ]
  },
  {
   "cell_type": "markdown",
   "metadata": {},
   "source": [
    "### Статистическая значимость различий между группами конверсий и средних чеков по \"сырым\" данным."
   ]
  },
  {
   "cell_type": "markdown",
   "metadata": {},
   "source": [
    "Создадим переменные с количеством пользователей в день для каждой группы. "
   ]
  },
  {
   "cell_type": "code",
   "execution_count": 34,
   "metadata": {},
   "outputs": [],
   "source": [
    "visitors_a_daily = visitors[visitors['group'] == 'A'][['date', 'visitors']]\n",
    "visitors_a_daily.columns = ['date', 'visitors_per_date_a']\n",
    "\n",
    "visitors_b_daily = visitors[visitors['group'] == 'B'][['date', 'visitors']]\n",
    "visitors_b_daily.columns = ['date', 'visitors_per_date_b']\n"
   ]
  },
  {
   "cell_type": "markdown",
   "metadata": {},
   "source": [
    "Создадим для каждой группы переменные, в которых содержатся данные о пользователях сделавших заказы, с количеством заказов по каждому такому пользователю."
   ]
  },
  {
   "cell_type": "code",
   "execution_count": 35,
   "metadata": {},
   "outputs": [],
   "source": [
    "orders_by_visitors_a = (\n",
    "    orders[orders['group'] == 'A']\n",
    "    .groupby('visitor_id', as_index=False)\n",
    "    .agg({'transaction_id': 'nunique'})\n",
    ")\n",
    "orders_by_visitors_a.columns = ['visitor_id', 'transactions']\n",
    "\n",
    "orders_by_visitors_b = (\n",
    "    orders[orders['group'] == 'B']\n",
    "    .groupby('visitor_id', as_index=False)\n",
    "    .agg({'transaction_id': 'nunique'})\n",
    ")\n",
    "orders_by_visitors_b.columns = ['visitor_id', 'transactions']\n"
   ]
  },
  {
   "cell_type": "markdown",
   "metadata": {},
   "source": [
    "**Статистическая значимость различий конверсий.**"
   ]
  },
  {
   "cell_type": "markdown",
   "metadata": {},
   "source": [
    "Для проверки статистической значимости различий создадим по каждой группе переменные, которые содержат количество заказов, соответствующее каждому пользователю (если пользователь не делал заказ, то число заказов будет обозначено как 0)."
   ]
  },
  {
   "cell_type": "code",
   "execution_count": 36,
   "metadata": {},
   "outputs": [],
   "source": [
    "sample_a = pd.concat(\n",
    "    [\n",
    "        orders_by_visitors_a['transactions'],\n",
    "        pd.Series(\n",
    "            0,\n",
    "            index=np.arange(\n",
    "                visitors_a_daily['visitors_per_date_a'].sum() - len(orders_by_visitors_a['transactions'])\n",
    "            ),\n",
    "            name='transactions',\n",
    "        ),\n",
    "    ],\n",
    "    axis=0,\n",
    ")\n",
    "\n",
    "sample_b = pd.concat(\n",
    "    [\n",
    "        orders_by_visitors_b['transactions'],\n",
    "        pd.Series(\n",
    "            0,\n",
    "            index=np.arange(\n",
    "                visitors_b_daily['visitors_per_date_b'].sum() - len(orders_by_visitors_b['transactions'])\n",
    "            ),\n",
    "            name='transactions',\n",
    "        ),\n",
    "    ],\n",
    "    axis=0,\n",
    ")"
   ]
  },
  {
   "cell_type": "markdown",
   "metadata": {},
   "source": [
    "Посмотрим есть ли статистически значимые различия между выборками А и В с количеством заказов на каждого клиента при помощи критерия Манна-Уитни.\n",
    "\n",
    "**Нулевая гипотеза** - статистически значимых различий в выборках с количеством заказов на каждого клиента между группами А и В нет.\n",
    "\n",
    "**Альтернативная гипотеза** - статистически значимые различия в выборках с количеством заказов на каждого клиента между группами А и В есть."
   ]
  },
  {
   "cell_type": "code",
   "execution_count": 37,
   "metadata": {},
   "outputs": [
    {
     "name": "stdout",
     "output_type": "stream",
     "text": [
      "p-значение: 0.017\n",
      "Отвергаем нулевую гипотезу\n"
     ]
    }
   ],
   "source": [
    "alpha=0.05\n",
    "\n",
    "results =( \n",
    "    stats.mannwhitneyu(sample_a, sample_b, True, 'two-sided')\n",
    ")\n",
    "print('p-значение:', \"{0:.3f}\".format(results.pvalue))\n",
    "if results.pvalue < alpha:\n",
    "    print('Отвергаем нулевую гипотезу')\n",
    "else:\n",
    "    print('Не получилось отвергнуть нулевую гипотезу')"
   ]
  },
  {
   "cell_type": "markdown",
   "metadata": {},
   "source": [
    "Вероятность того, что различий в выборках с количеством заказов на каждого клиента между группами А и В нет меньше статистически значимой. Значит у нас есть основания отвергнуть нулевую гипотезу и не отвергать альтернативную.\n",
    "\n",
    "Посмотрим на относительный прирост конверсии группы В"
   ]
  },
  {
   "cell_type": "code",
   "execution_count": 38,
   "metadata": {
    "scrolled": true
   },
   "outputs": [
    {
     "name": "stdout",
     "output_type": "stream",
     "text": [
      "Относительный прирост конверсии группы В по сравнению с группой А 0.138\n"
     ]
    }
   ],
   "source": [
    "print(\n",
    "    'Относительный прирост конверсии группы В по сравнению с группой А',\n",
    "    \"{0:.3f}\".format(sample_b.mean() / sample_a.mean() - 1)\n",
    ")"
   ]
  },
  {
   "cell_type": "markdown",
   "metadata": {},
   "source": [
    "По \"сырым\" данным конверсия у группы В выше почти на 14%."
   ]
  },
  {
   "cell_type": "markdown",
   "metadata": {},
   "source": [
    "**Статистическая значимость различий среднего чека**"
   ]
  },
  {
   "cell_type": "markdown",
   "metadata": {},
   "source": [
    "**Нулевая гипотеза** - статистически значимых различий в среднем чеке между группами А и В нет.\n",
    "\n",
    "**Альтернативная гипотеза** - статистически значимые различия в среднем чеке между группами А и В есть."
   ]
  },
  {
   "cell_type": "code",
   "execution_count": 39,
   "metadata": {},
   "outputs": [
    {
     "name": "stdout",
     "output_type": "stream",
     "text": [
      "p-значение: 0.729\n",
      "Не получилось отвергнуть нулевую гипотезу\n"
     ]
    }
   ],
   "source": [
    "alpha=0.05\n",
    "\n",
    "results =( \n",
    "    stats.mannwhitneyu(\n",
    "        orders[orders['group']=='A']['revenue'],\n",
    "        orders[orders['group']=='B']['revenue'],\n",
    "        True, 'two-sided'\n",
    "    )\n",
    ")\n",
    "print('p-значение:', \"{0:.3f}\".format(results.pvalue))\n",
    "if results.pvalue < alpha:\n",
    "    print('Отвергаем нулевую гипотезу')\n",
    "else:\n",
    "    print('Не получилось отвергнуть нулевую гипотезу')"
   ]
  },
  {
   "cell_type": "markdown",
   "metadata": {},
   "source": [
    "Вероятность того, что статистически значимых различий в среднем чеке между группами А и В нет выше 72%, у нас нет причин отвергать нулевую гипотезу.\n",
    "\n",
    "Посмотрим на относительное различие в среднем чеке между группами."
   ]
  },
  {
   "cell_type": "code",
   "execution_count": 40,
   "metadata": {
    "scrolled": true
   },
   "outputs": [
    {
     "name": "stdout",
     "output_type": "stream",
     "text": [
      "Относительный прирост среднего чека группы В по сравнению с группой А 0.259\n"
     ]
    }
   ],
   "source": [
    "print(\n",
    "    'Относительный прирост среднего чека группы В по сравнению с группой А',\n",
    "    \"{0:.3f}\".format(orders[orders['group']=='B']['revenue'].mean() /\n",
    "                     orders[orders['group']=='A']['revenue'].mean() - 1)\n",
    ")"
   ]
  },
  {
   "cell_type": "markdown",
   "metadata": {},
   "source": [
    "При том, что проверка критерием Манна-Уитни показала, что с вероятностью более 70% различий в среднем чеке между группами нет, по данным теста средний чек у группы В выше на 26% чем у группы А. Скорее всего это обусловленно наличием выбросов (большим количеством заказов с аномально высокой стоимостью в группе В)."
   ]
  },
  {
   "cell_type": "markdown",
   "metadata": {},
   "source": [
    "### Статистическая значимость различий между группами конверсий и средних чеков по \"очищенным\" данным."
   ]
  },
  {
   "cell_type": "markdown",
   "metadata": {},
   "source": [
    "Мы решили принять за аномальных пользователей тех, кто совершил 3 заказа и более или заказ на сумму от 30000 и выше. Таким образом, мы уберем от 1 до 5% пользователей с наибольшим числом заказов и от 1 до 5% пользователей с наибольшей суммой заказа. \n",
    "\n",
    "Узнаем сколько всего у нас аномальных пользователей."
   ]
  },
  {
   "cell_type": "code",
   "execution_count": 41,
   "metadata": {},
   "outputs": [
    {
     "name": "stdout",
     "output_type": "stream",
     "text": [
      "Аномальные пользователи\n"
     ]
    },
    {
     "data": {
      "text/plain": [
       "1099    148427295\n",
       "18      199603092\n",
       "928     204675465\n",
       "23      237748145\n",
       "37      249864742\n",
       "Name: visitor_id, dtype: int64"
      ]
     },
     "metadata": {},
     "output_type": "display_data"
    },
    {
     "name": "stdout",
     "output_type": "stream",
     "text": [
      "\n",
      " Всего аномальных пользователей (68,)\n"
     ]
    }
   ],
   "source": [
    "visitors_many_orders =pd.concat(\n",
    "    [\n",
    "        orders_by_visitors_a[orders_by_visitors_a['transactions'] >= 3]['visitor_id'],\n",
    "        orders_by_visitors_b[orders_by_visitors_b['transactions'] >= 3]['visitor_id']\n",
    "    ], axis=0\n",
    ")\n",
    "\n",
    "visitors_expensiv_orders = orders[orders['revenue'] >= 30000]['visitor_id']\n",
    "\n",
    "abnormal_visitors =(\n",
    "    pd.concat([visitors_many_orders, visitors_expensiv_orders], axis=0)\n",
    "    .drop_duplicates()\n",
    "    .sort_values()\n",
    ")\n",
    "\n",
    "print('Аномальные пользователи')\n",
    "display(abnormal_visitors.head())\n",
    "print('\\n', 'Всего аномальных пользователей', abnormal_visitors.shape)"
   ]
  },
  {
   "cell_type": "markdown",
   "metadata": {},
   "source": [
    "Посмотрим попали ли в список аномальных, пользователи, заказы которых есть в обоих группах."
   ]
  },
  {
   "cell_type": "code",
   "execution_count": 42,
   "metadata": {},
   "outputs": [
    {
     "data": {
      "text/plain": [
       "19"
      ]
     },
     "execution_count": 42,
     "metadata": {},
     "output_type": "execute_result"
    }
   ],
   "source": [
    "len(set(abnormal_visitors) & set(visitor_in_ab))"
   ]
  },
  {
   "cell_type": "markdown",
   "metadata": {},
   "source": [
    "Убрав аномальных пользователей мы уберем только 19 из 58 поьзователей, заказы которых попали в обе группы."
   ]
  },
  {
   "cell_type": "markdown",
   "metadata": {},
   "source": [
    "**Статистическая значимость различий конверсий по \"очищенным\" данным.**"
   ]
  },
  {
   "cell_type": "markdown",
   "metadata": {},
   "source": [
    "Подготовим выборки с количеством заказов для пользователей каждой группы без аномальных пользователей."
   ]
  },
  {
   "cell_type": "code",
   "execution_count": 43,
   "metadata": {},
   "outputs": [],
   "source": [
    "sample_a_filtered = pd.concat(\n",
    "    [\n",
    "        orders_by_visitors_a[\n",
    "            np.logical_not(orders_by_visitors_a['visitor_id'].isin(abnormal_visitors))\n",
    "        ]['transactions'],\n",
    "        pd.Series(\n",
    "            0,\n",
    "            index=np.arange(\n",
    "                visitors_a_daily['visitors_per_date_a'].sum() - len(orders_by_visitors_a['transactions'])\n",
    "            ),\n",
    "            name='transactions',\n",
    "        ),\n",
    "    ],\n",
    "    axis=0,\n",
    ")\n",
    "\n",
    "sample_b_filtered = pd.concat(\n",
    "    [\n",
    "        orders_by_visitors_b[\n",
    "            np.logical_not(orders_by_visitors_b['visitor_id'].isin(abnormal_visitors))\n",
    "        ]['transactions'],\n",
    "        pd.Series(\n",
    "            0,\n",
    "            index=np.arange(\n",
    "                visitors_b_daily['visitors_per_date_b'].sum() - len(orders_by_visitors_b['transactions'])\n",
    "            ),\n",
    "            name='transactions',\n",
    "        ),\n",
    "    ],\n",
    "    axis=0,\n",
    ")"
   ]
  },
  {
   "cell_type": "markdown",
   "metadata": {},
   "source": [
    "Применим критерий Манна-Уитни к полученным выборкам.\n",
    "\n",
    "**Нулевая гипотеза** - статистически значимых различий в выборках с очищенными данными по количеству заказов на каждого клиента между группами А и В нет.\n",
    "\n",
    "**Альтернативная гипотеза** - статистически значимые различия в выборках с очищенными данными по количеству заказов на каждого клиента между группами А и В есть."
   ]
  },
  {
   "cell_type": "code",
   "execution_count": 44,
   "metadata": {},
   "outputs": [
    {
     "name": "stdout",
     "output_type": "stream",
     "text": [
      "p-значение: 0.013\n",
      "Отвергаем нулевую гипотезу\n"
     ]
    }
   ],
   "source": [
    "alpha=0.05\n",
    "\n",
    "results =( \n",
    "    stats.mannwhitneyu(sample_a_filtered, sample_b_filtered, True, 'two-sided')\n",
    ")\n",
    "print('p-значение:', \"{0:.3f}\".format(results.pvalue))\n",
    "if results.pvalue < alpha:\n",
    "    print('Отвергаем нулевую гипотезу')\n",
    "else:\n",
    "    print('Не получилось отвергнуть нулевую гипотезу')"
   ]
  },
  {
   "cell_type": "markdown",
   "metadata": {},
   "source": [
    "Результаты проверки по \"очищенным\" данным совпадают с результатом, полученным по \"сырым\" данным. При этом вероятность того, что различий в конверсиях между группами А и В нет стала еще меньше статистически значимой. Значит у нас есть основания отвергнуть нулевую гипотезу и не отвергать альтернативную.\n",
    "\n",
    "Посмотрим на относительный прирост конверсии группы В по \"очищенным\" данным."
   ]
  },
  {
   "cell_type": "code",
   "execution_count": 45,
   "metadata": {},
   "outputs": [
    {
     "name": "stdout",
     "output_type": "stream",
     "text": [
      "Относительный прирост конверсии группы В по сравнению с группой А 0.172\n"
     ]
    }
   ],
   "source": [
    "print(\n",
    "    'Относительный прирост конверсии группы В по сравнению с группой А',\n",
    "    \"{0:.3f}\".format(sample_b_filtered.mean() / sample_a_filtered.mean() - 1)\n",
    ")"
   ]
  },
  {
   "cell_type": "markdown",
   "metadata": {},
   "source": [
    "Конверсия группы B  по очищенным данным выше уже на 17%."
   ]
  },
  {
   "cell_type": "markdown",
   "metadata": {},
   "source": [
    "**Статистическая значимость различий среднего чека по \"очищенным\" данным.**"
   ]
  },
  {
   "cell_type": "markdown",
   "metadata": {},
   "source": [
    "**Нулевая гипотеза** - статистически значимых различий в среднем чеке между группами А и В нет.\n",
    "\n",
    "**Альтернативная гипотеза** - статистически значимые различия в среднем чеке между группами А и В есть."
   ]
  },
  {
   "cell_type": "code",
   "execution_count": 46,
   "metadata": {},
   "outputs": [
    {
     "name": "stdout",
     "output_type": "stream",
     "text": [
      "p-значение: 0.720\n",
      "Не получилось отвергнуть нулевую гипотезу\n"
     ]
    }
   ],
   "source": [
    "alpha=0.05\n",
    "\n",
    "results =( \n",
    "    stats.mannwhitneyu(\n",
    "        orders[\n",
    "            np.logical_and(\n",
    "                orders['group']=='A',\n",
    "                np.logical_not(orders['visitor_id'].isin(abnormal_visitors))\n",
    "            )\n",
    "        ]['revenue'],\n",
    "        orders[\n",
    "            np.logical_and(\n",
    "                orders['group']=='B',\n",
    "                np.logical_not(orders['visitor_id'].isin(abnormal_visitors))\n",
    "            )\n",
    "        ]['revenue'],\n",
    "        True, 'two-sided'\n",
    "    )\n",
    ")\n",
    "print('p-значение:', \"{0:.3f}\".format(results.pvalue))\n",
    "if results.pvalue < alpha:\n",
    "    print('Отвергаем нулевую гипотезу')\n",
    "else:\n",
    "    print('Не получилось отвергнуть нулевую гипотезу')"
   ]
  },
  {
   "cell_type": "markdown",
   "metadata": {},
   "source": [
    "По \"очищенным\" данным результат получился, практически таким же, как и по \"сырым\". Вероятность того, что статистически значимых различий в среднем чеке между группами А и В нет выше 72%, у нас нет причин отвергать нулевую гипотезу.\n",
    "\n",
    "Посмотрим на относительное различие в среднем чеке между группами по \"очищенным данным\"."
   ]
  },
  {
   "cell_type": "code",
   "execution_count": 47,
   "metadata": {},
   "outputs": [
    {
     "name": "stdout",
     "output_type": "stream",
     "text": [
      "Относительный прирост среднего чека группы В по сравнению с группой А -0.023\n"
     ]
    }
   ],
   "source": [
    "print(\n",
    "    'Относительный прирост среднего чека группы В по сравнению с группой А',\n",
    "    \"{0:.3f}\".format(\n",
    "        orders[\n",
    "            np.logical_and(\n",
    "                orders['group']=='B',\n",
    "                np.logical_not(orders['visitor_id'].isin(abnormal_visitors))\n",
    "            )\n",
    "        ]['revenue']\n",
    "        .mean() / \n",
    "        orders[\n",
    "            np.logical_and(\n",
    "                orders['group']=='A',\n",
    "                np.logical_not(orders['visitor_id'].isin(abnormal_visitors))\n",
    "            )\n",
    "        ]['revenue']\n",
    "        .mean() - 1\n",
    "    )\n",
    ")"
   ]
  },
  {
   "cell_type": "markdown",
   "metadata": {},
   "source": [
    "По очищенным данным разница в средних чеках всего 2% при чем в пользу группы А. Уменьшение разницы в среднем чеке в \"очищенных\" данных подтверждает результаты статистического метода Манна-Уитни. Различая в среднем чеке между группами обусловлено лишь наличием выбросов (аномально больших по сумме заказов)."
   ]
  },
  {
   "cell_type": "markdown",
   "metadata": {},
   "source": [
    "### Решение по результатам А/В теста."
   ]
  },
  {
   "cell_type": "markdown",
   "metadata": {},
   "source": [
    "В ходе обзора данных, мы обнаружили 58 пользователей, чьи заказы есть как в группе А, так и в группе В.  К результатам данного теста следует относится осторожно, по-возможности провести его повторно.\n",
    "\n",
    "Анализ А/В теста показал:\n",
    "\n",
    "- Нет статистически значимых различий в среднем чеке между группами как по \"сырым\", так и по \"очищенным\" данным.\n",
    "- Относительная разница среднего чека по \"сырым\" данным около 26% в пользу группы B, а по очищенным - всего около 2% в пользу группы А. Можно сделать вывод, что разница в среднем чеке обусловлена наличием выбросов.\n",
    "- График различия среднего чека очень нестабильный, показывает, что средний чек группы В большую часть периода тестирования выше, чем у группы А. Но это, как мы выяснили результат выбросов (наличия аномально больших по сумме заказов в группе В).\n",
    "\n",
    "- Статистическая разница между конверсиями групп А и В подтвердилась как по \"сырым\" данным, так и по данным после фильтрации аномалий.\n",
    "- Относительная разница в конверсиях между группами по \"сырым\" данным 14% в пользу группы В. После удаления аномалий разница в пользу группы В составляет уже 17%.\n",
    "- График различия куммулятивных конверсий между группами показывает, что конверсия группы В стабильно выше конверсии группы А почти весь период теста. \n",
    "\n",
    "Если не учитыват факт наличия пересекающихся пользователей, на основе имеющихся данных, можно остановить тест и признать его успешным для группы В. "
   ]
  }
 ],
 "metadata": {
  "ExecuteTimeLog": [
   {
    "duration": 1444,
    "start_time": "2022-02-21T15:19:42.232Z"
   },
   {
    "duration": 54,
    "start_time": "2022-02-21T15:25:01.791Z"
   },
   {
    "duration": 19,
    "start_time": "2022-02-21T15:26:43.191Z"
   },
   {
    "duration": 12,
    "start_time": "2022-02-21T15:26:51.375Z"
   },
   {
    "duration": 12,
    "start_time": "2022-02-21T15:27:01.995Z"
   },
   {
    "duration": 530,
    "start_time": "2022-02-21T15:36:58.164Z"
   },
   {
    "duration": 4,
    "start_time": "2022-02-21T15:37:43.061Z"
   },
   {
    "duration": 7,
    "start_time": "2022-02-21T15:38:00.899Z"
   },
   {
    "duration": 1878,
    "start_time": "2022-02-21T15:47:48.508Z"
   },
   {
    "duration": 21,
    "start_time": "2022-02-21T15:47:50.389Z"
   },
   {
    "duration": 29,
    "start_time": "2022-02-21T15:47:50.414Z"
   },
   {
    "duration": 26,
    "start_time": "2022-02-21T15:47:50.447Z"
   },
   {
    "duration": 12,
    "start_time": "2022-02-21T15:57:01.566Z"
   },
   {
    "duration": 425,
    "start_time": "2022-02-21T15:58:51.553Z"
   },
   {
    "duration": 11,
    "start_time": "2022-02-21T15:59:12.626Z"
   },
   {
    "duration": 5,
    "start_time": "2022-02-21T16:02:29.114Z"
   },
   {
    "duration": 10,
    "start_time": "2022-02-21T16:02:30.230Z"
   },
   {
    "duration": 97,
    "start_time": "2022-02-21T16:15:58.033Z"
   },
   {
    "duration": 15,
    "start_time": "2022-02-21T16:16:16.961Z"
   },
   {
    "duration": 12,
    "start_time": "2022-02-21T16:18:14.813Z"
   },
   {
    "duration": 6,
    "start_time": "2022-02-21T16:25:34.269Z"
   },
   {
    "duration": 7490,
    "start_time": "2022-02-21T16:26:06.677Z"
   },
   {
    "duration": 355,
    "start_time": "2022-02-21T16:26:29.992Z"
   },
   {
    "duration": 106,
    "start_time": "2022-02-21T16:30:28.980Z"
   },
   {
    "duration": 349,
    "start_time": "2022-02-21T16:30:53.704Z"
   },
   {
    "duration": 7,
    "start_time": "2022-02-21T16:35:03.208Z"
   },
   {
    "duration": 7,
    "start_time": "2022-02-21T16:35:43.180Z"
   },
   {
    "duration": 7,
    "start_time": "2022-02-21T16:35:57.161Z"
   },
   {
    "duration": 13,
    "start_time": "2022-02-21T17:03:30.177Z"
   },
   {
    "duration": 1110,
    "start_time": "2022-02-22T14:51:01.084Z"
   },
   {
    "duration": 21,
    "start_time": "2022-02-22T14:51:02.196Z"
   },
   {
    "duration": 13,
    "start_time": "2022-02-22T14:51:02.219Z"
   },
   {
    "duration": 12,
    "start_time": "2022-02-22T14:51:02.234Z"
   },
   {
    "duration": 9,
    "start_time": "2022-02-22T14:51:02.248Z"
   },
   {
    "duration": 9,
    "start_time": "2022-02-22T14:51:02.258Z"
   },
   {
    "duration": 31,
    "start_time": "2022-02-22T14:51:02.268Z"
   },
   {
    "duration": 10,
    "start_time": "2022-02-22T14:52:04.724Z"
   },
   {
    "duration": 11,
    "start_time": "2022-02-22T14:52:25.312Z"
   },
   {
    "duration": 327,
    "start_time": "2022-02-22T15:06:05.852Z"
   },
   {
    "duration": 232,
    "start_time": "2022-02-22T15:06:17.249Z"
   },
   {
    "duration": 7,
    "start_time": "2022-02-22T15:06:31.348Z"
   },
   {
    "duration": 8,
    "start_time": "2022-02-22T15:06:46.092Z"
   },
   {
    "duration": 7,
    "start_time": "2022-02-22T15:07:58.072Z"
   },
   {
    "duration": 5,
    "start_time": "2022-02-22T15:14:08.628Z"
   },
   {
    "duration": 7,
    "start_time": "2022-02-22T15:14:09.544Z"
   },
   {
    "duration": 6,
    "start_time": "2022-02-22T15:31:27.539Z"
   },
   {
    "duration": 6,
    "start_time": "2022-02-22T15:31:47.407Z"
   },
   {
    "duration": 25,
    "start_time": "2022-02-22T15:40:04.159Z"
   },
   {
    "duration": 8,
    "start_time": "2022-02-22T15:41:35.859Z"
   },
   {
    "duration": 12,
    "start_time": "2022-02-22T15:42:39.291Z"
   },
   {
    "duration": 8,
    "start_time": "2022-02-22T15:48:47.683Z"
   },
   {
    "duration": 343,
    "start_time": "2022-02-22T16:03:42.689Z"
   },
   {
    "duration": 10,
    "start_time": "2022-02-22T16:04:03.029Z"
   },
   {
    "duration": 7,
    "start_time": "2022-02-22T16:07:07.697Z"
   },
   {
    "duration": 7,
    "start_time": "2022-02-22T16:25:20.312Z"
   },
   {
    "duration": 237,
    "start_time": "2022-02-22T16:29:54.024Z"
   },
   {
    "duration": 243,
    "start_time": "2022-02-22T16:38:29.800Z"
   },
   {
    "duration": 247,
    "start_time": "2022-02-22T17:13:12.563Z"
   },
   {
    "duration": 81,
    "start_time": "2022-02-23T04:57:24.200Z"
   },
   {
    "duration": 278,
    "start_time": "2022-02-23T04:58:08.700Z"
   },
   {
    "duration": 1000,
    "start_time": "2022-02-23T04:58:27.685Z"
   },
   {
    "duration": 20,
    "start_time": "2022-02-23T04:58:30.668Z"
   },
   {
    "duration": 6,
    "start_time": "2022-02-23T04:58:34.277Z"
   },
   {
    "duration": 9,
    "start_time": "2022-02-23T04:58:35.284Z"
   },
   {
    "duration": 11,
    "start_time": "2022-02-23T04:58:41.337Z"
   },
   {
    "duration": 8,
    "start_time": "2022-02-23T04:58:44.829Z"
   },
   {
    "duration": 47,
    "start_time": "2022-02-23T04:58:50.729Z"
   },
   {
    "duration": 8,
    "start_time": "2022-02-23T04:58:51.305Z"
   },
   {
    "duration": 6,
    "start_time": "2022-02-23T04:58:55.469Z"
   },
   {
    "duration": 4,
    "start_time": "2022-02-23T04:58:56.628Z"
   },
   {
    "duration": 6,
    "start_time": "2022-02-23T04:58:59.693Z"
   },
   {
    "duration": 5,
    "start_time": "2022-02-23T04:59:00.328Z"
   },
   {
    "duration": 6,
    "start_time": "2022-02-23T04:59:01.485Z"
   },
   {
    "duration": 8,
    "start_time": "2022-02-23T04:59:04.652Z"
   },
   {
    "duration": 7,
    "start_time": "2022-02-23T04:59:05.813Z"
   },
   {
    "duration": 10,
    "start_time": "2022-02-23T04:59:07.381Z"
   },
   {
    "duration": 6220,
    "start_time": "2022-02-23T04:59:09.684Z"
   },
   {
    "duration": 6161,
    "start_time": "2022-02-23T05:01:23.281Z"
   },
   {
    "duration": 6451,
    "start_time": "2022-02-23T05:04:02.536Z"
   },
   {
    "duration": 262,
    "start_time": "2022-02-23T05:04:45.781Z"
   },
   {
    "duration": 9,
    "start_time": "2022-02-23T05:22:55.525Z"
   },
   {
    "duration": 9,
    "start_time": "2022-02-23T05:23:13.404Z"
   },
   {
    "duration": 8,
    "start_time": "2022-02-23T05:28:46.648Z"
   },
   {
    "duration": 8,
    "start_time": "2022-02-23T05:33:05.101Z"
   },
   {
    "duration": 15,
    "start_time": "2022-02-23T05:43:01.194Z"
   },
   {
    "duration": 95,
    "start_time": "2022-02-23T05:47:49.150Z"
   },
   {
    "duration": 18,
    "start_time": "2022-02-23T05:51:24.326Z"
   },
   {
    "duration": 21,
    "start_time": "2022-02-23T05:53:30.134Z"
   },
   {
    "duration": 20,
    "start_time": "2022-02-23T05:54:41.486Z"
   },
   {
    "duration": 92,
    "start_time": "2022-02-23T05:57:35.378Z"
   },
   {
    "duration": 27,
    "start_time": "2022-02-23T05:58:41.650Z"
   },
   {
    "duration": 26,
    "start_time": "2022-02-23T05:59:05.202Z"
   },
   {
    "duration": 8,
    "start_time": "2022-02-23T06:05:22.573Z"
   },
   {
    "duration": 9,
    "start_time": "2022-02-23T06:13:47.357Z"
   },
   {
    "duration": 15,
    "start_time": "2022-02-23T06:19:39.490Z"
   },
   {
    "duration": 21,
    "start_time": "2022-02-23T06:23:50.581Z"
   },
   {
    "duration": 85,
    "start_time": "2022-02-23T06:24:14.225Z"
   },
   {
    "duration": 100,
    "start_time": "2022-02-23T06:24:31.236Z"
   },
   {
    "duration": 20,
    "start_time": "2022-02-23T06:27:38.573Z"
   },
   {
    "duration": 21,
    "start_time": "2022-02-23T06:28:02.249Z"
   },
   {
    "duration": 32,
    "start_time": "2022-02-23T06:29:32.733Z"
   },
   {
    "duration": 28,
    "start_time": "2022-02-23T06:31:49.444Z"
   },
   {
    "duration": 28,
    "start_time": "2022-02-23T06:32:22.292Z"
   },
   {
    "duration": 263,
    "start_time": "2022-02-23T06:47:07.296Z"
   },
   {
    "duration": 260,
    "start_time": "2022-02-23T06:48:00.605Z"
   },
   {
    "duration": 271,
    "start_time": "2022-02-23T07:01:56.891Z"
   },
   {
    "duration": 279,
    "start_time": "2022-02-23T07:02:22.572Z"
   },
   {
    "duration": 11,
    "start_time": "2022-02-23T07:02:57.539Z"
   },
   {
    "duration": 9,
    "start_time": "2022-02-23T07:03:57.695Z"
   },
   {
    "duration": 10,
    "start_time": "2022-02-23T07:11:20.999Z"
   },
   {
    "duration": 1329,
    "start_time": "2022-02-23T07:21:09.110Z"
   },
   {
    "duration": 291,
    "start_time": "2022-02-23T07:25:07.031Z"
   },
   {
    "duration": 374,
    "start_time": "2022-02-23T07:27:28.875Z"
   },
   {
    "duration": 251,
    "start_time": "2022-02-23T07:31:17.122Z"
   },
   {
    "duration": 11,
    "start_time": "2022-02-23T07:35:56.618Z"
   },
   {
    "duration": 10,
    "start_time": "2022-02-23T07:36:52.486Z"
   },
   {
    "duration": 3394,
    "start_time": "2022-02-23T07:39:27.898Z"
   },
   {
    "duration": 4003,
    "start_time": "2022-02-23T07:46:02.830Z"
   },
   {
    "duration": 12,
    "start_time": "2022-02-23T07:46:56.578Z"
   },
   {
    "duration": 262,
    "start_time": "2022-02-23T07:51:26.857Z"
   },
   {
    "duration": 6,
    "start_time": "2022-02-23T08:00:14.085Z"
   },
   {
    "duration": 334,
    "start_time": "2022-02-23T08:00:14.805Z"
   },
   {
    "duration": 9,
    "start_time": "2022-02-23T08:00:16.413Z"
   },
   {
    "duration": 6,
    "start_time": "2022-02-23T08:00:20.917Z"
   },
   {
    "duration": 199,
    "start_time": "2022-02-23T08:00:24.245Z"
   },
   {
    "duration": 197,
    "start_time": "2022-02-23T08:00:30.125Z"
   },
   {
    "duration": 254,
    "start_time": "2022-02-23T08:23:17.715Z"
   },
   {
    "duration": 12,
    "start_time": "2022-02-23T08:23:37.579Z"
   },
   {
    "duration": 323,
    "start_time": "2022-02-23T08:30:12.908Z"
   },
   {
    "duration": 6,
    "start_time": "2022-02-23T08:52:41.883Z"
   },
   {
    "duration": 5,
    "start_time": "2022-02-23T08:58:08.204Z"
   },
   {
    "duration": 4,
    "start_time": "2022-02-23T08:58:16.435Z"
   },
   {
    "duration": 4,
    "start_time": "2022-02-23T08:58:39.619Z"
   },
   {
    "duration": 178,
    "start_time": "2022-02-23T09:00:16.343Z"
   },
   {
    "duration": 189,
    "start_time": "2022-02-23T09:05:19.119Z"
   },
   {
    "duration": 981,
    "start_time": "2022-02-24T14:40:46.802Z"
   },
   {
    "duration": 14,
    "start_time": "2022-02-24T14:40:47.785Z"
   },
   {
    "duration": 7,
    "start_time": "2022-02-24T14:40:47.801Z"
   },
   {
    "duration": 9,
    "start_time": "2022-02-24T14:40:47.809Z"
   },
   {
    "duration": 10,
    "start_time": "2022-02-24T14:40:47.830Z"
   },
   {
    "duration": 8,
    "start_time": "2022-02-24T14:40:47.841Z"
   },
   {
    "duration": 34,
    "start_time": "2022-02-24T14:40:47.851Z"
   },
   {
    "duration": 8,
    "start_time": "2022-02-24T14:40:47.888Z"
   },
   {
    "duration": 6,
    "start_time": "2022-02-24T14:40:47.898Z"
   },
   {
    "duration": 5,
    "start_time": "2022-02-24T14:40:47.906Z"
   },
   {
    "duration": 9,
    "start_time": "2022-02-24T14:40:47.912Z"
   },
   {
    "duration": 12,
    "start_time": "2022-02-24T14:40:47.922Z"
   },
   {
    "duration": 8,
    "start_time": "2022-02-24T14:40:47.935Z"
   },
   {
    "duration": 8,
    "start_time": "2022-02-24T14:40:47.945Z"
   },
   {
    "duration": 6,
    "start_time": "2022-02-24T14:40:47.954Z"
   },
   {
    "duration": 12,
    "start_time": "2022-02-24T14:40:47.961Z"
   },
   {
    "duration": 61,
    "start_time": "2022-02-24T14:40:47.974Z"
   },
   {
    "duration": 25,
    "start_time": "2022-02-24T14:40:48.037Z"
   },
   {
    "duration": 2,
    "start_time": "2022-02-24T14:40:48.063Z"
   },
   {
    "duration": 7,
    "start_time": "2022-02-24T14:40:48.066Z"
   },
   {
    "duration": 318,
    "start_time": "2022-02-24T14:40:48.074Z"
   },
   {
    "duration": 8,
    "start_time": "2022-02-24T14:40:48.393Z"
   },
   {
    "duration": 7,
    "start_time": "2022-02-24T14:40:48.404Z"
   },
   {
    "duration": 220,
    "start_time": "2022-02-24T14:40:48.412Z"
   },
   {
    "duration": 201,
    "start_time": "2022-02-24T14:40:48.633Z"
   },
   {
    "duration": 11,
    "start_time": "2022-02-24T14:40:48.836Z"
   },
   {
    "duration": 301,
    "start_time": "2022-02-24T14:40:48.848Z"
   },
   {
    "duration": 6,
    "start_time": "2022-02-24T14:40:49.151Z"
   },
   {
    "duration": 214,
    "start_time": "2022-02-24T14:40:49.158Z"
   },
   {
    "duration": 8,
    "start_time": "2022-02-24T14:50:47.157Z"
   },
   {
    "duration": 3341,
    "start_time": "2022-02-24T14:56:07.569Z"
   },
   {
    "duration": 277,
    "start_time": "2022-02-24T14:56:55.369Z"
   },
   {
    "duration": 295,
    "start_time": "2022-02-24T14:57:40.997Z"
   },
   {
    "duration": 47,
    "start_time": "2022-02-24T15:14:35.249Z"
   },
   {
    "duration": 10,
    "start_time": "2022-02-24T15:14:55.086Z"
   },
   {
    "duration": 137,
    "start_time": "2022-02-24T15:18:12.326Z"
   },
   {
    "duration": 11,
    "start_time": "2022-02-24T15:18:28.757Z"
   },
   {
    "duration": 133,
    "start_time": "2022-02-24T15:20:10.681Z"
   },
   {
    "duration": 74,
    "start_time": "2022-02-24T15:25:52.061Z"
   },
   {
    "duration": 10,
    "start_time": "2022-02-24T15:26:02.338Z"
   },
   {
    "duration": 10,
    "start_time": "2022-02-24T15:26:10.986Z"
   },
   {
    "duration": 148,
    "start_time": "2022-02-24T15:32:09.857Z"
   },
   {
    "duration": 289,
    "start_time": "2022-02-24T15:35:09.909Z"
   },
   {
    "duration": 348,
    "start_time": "2022-02-24T15:35:51.573Z"
   },
   {
    "duration": 4,
    "start_time": "2022-02-24T15:42:44.705Z"
   },
   {
    "duration": 302,
    "start_time": "2022-02-24T16:10:13.212Z"
   },
   {
    "duration": 165,
    "start_time": "2022-02-24T16:11:04.856Z"
   },
   {
    "duration": 3498,
    "start_time": "2022-02-24T16:16:46.703Z"
   },
   {
    "duration": 5,
    "start_time": "2022-02-24T16:16:58.619Z"
   },
   {
    "duration": 1165,
    "start_time": "2022-02-25T14:26:54.907Z"
   },
   {
    "duration": 22,
    "start_time": "2022-02-25T14:26:56.074Z"
   },
   {
    "duration": 8,
    "start_time": "2022-02-25T14:26:56.099Z"
   },
   {
    "duration": 15,
    "start_time": "2022-02-25T14:26:56.109Z"
   },
   {
    "duration": 10,
    "start_time": "2022-02-25T14:26:56.126Z"
   },
   {
    "duration": 35,
    "start_time": "2022-02-25T14:26:56.138Z"
   },
   {
    "duration": 30,
    "start_time": "2022-02-25T14:26:56.175Z"
   },
   {
    "duration": 9,
    "start_time": "2022-02-25T14:26:56.209Z"
   },
   {
    "duration": 11,
    "start_time": "2022-02-25T14:26:56.221Z"
   },
   {
    "duration": 8,
    "start_time": "2022-02-25T14:26:56.234Z"
   },
   {
    "duration": 10,
    "start_time": "2022-02-25T14:26:56.243Z"
   },
   {
    "duration": 6,
    "start_time": "2022-02-25T14:26:56.270Z"
   },
   {
    "duration": 10,
    "start_time": "2022-02-25T14:26:56.278Z"
   },
   {
    "duration": 11,
    "start_time": "2022-02-25T14:26:56.290Z"
   },
   {
    "duration": 14,
    "start_time": "2022-02-25T14:26:56.303Z"
   },
   {
    "duration": 15,
    "start_time": "2022-02-25T14:26:56.319Z"
   },
   {
    "duration": 62,
    "start_time": "2022-02-25T14:26:56.336Z"
   },
   {
    "duration": 33,
    "start_time": "2022-02-25T14:26:56.400Z"
   },
   {
    "duration": 3,
    "start_time": "2022-02-25T14:26:56.435Z"
   },
   {
    "duration": 32,
    "start_time": "2022-02-25T14:26:56.439Z"
   },
   {
    "duration": 353,
    "start_time": "2022-02-25T14:26:56.473Z"
   },
   {
    "duration": 10,
    "start_time": "2022-02-25T14:26:56.827Z"
   },
   {
    "duration": 15,
    "start_time": "2022-02-25T14:26:56.841Z"
   },
   {
    "duration": 255,
    "start_time": "2022-02-25T14:26:56.858Z"
   },
   {
    "duration": 237,
    "start_time": "2022-02-25T14:26:57.115Z"
   },
   {
    "duration": 17,
    "start_time": "2022-02-25T14:26:57.354Z"
   },
   {
    "duration": 343,
    "start_time": "2022-02-25T14:26:57.373Z"
   },
   {
    "duration": 7,
    "start_time": "2022-02-25T14:26:57.718Z"
   },
   {
    "duration": 251,
    "start_time": "2022-02-25T14:26:57.727Z"
   },
   {
    "duration": 9,
    "start_time": "2022-02-25T14:26:57.980Z"
   },
   {
    "duration": 326,
    "start_time": "2022-02-25T14:26:57.991Z"
   },
   {
    "duration": 13,
    "start_time": "2022-02-25T14:26:58.319Z"
   },
   {
    "duration": 304,
    "start_time": "2022-02-25T14:26:58.333Z"
   },
   {
    "duration": 6,
    "start_time": "2022-02-25T14:26:58.639Z"
   },
   {
    "duration": 361,
    "start_time": "2022-02-25T14:26:58.647Z"
   },
   {
    "duration": 6,
    "start_time": "2022-02-25T14:26:59.010Z"
   },
   {
    "duration": 311,
    "start_time": "2022-02-25T14:56:07.469Z"
   },
   {
    "duration": 266,
    "start_time": "2022-02-25T14:56:29.624Z"
   },
   {
    "duration": 32,
    "start_time": "2022-02-25T14:56:59.493Z"
   },
   {
    "duration": 10,
    "start_time": "2022-02-25T15:02:47.897Z"
   },
   {
    "duration": 11,
    "start_time": "2022-02-25T15:04:04.581Z"
   },
   {
    "duration": 9,
    "start_time": "2022-02-25T15:04:14.104Z"
   },
   {
    "duration": 23,
    "start_time": "2022-02-25T15:18:53.242Z"
   },
   {
    "duration": 354,
    "start_time": "2022-02-25T15:20:25.222Z"
   },
   {
    "duration": 14,
    "start_time": "2022-02-25T15:20:49.283Z"
   },
   {
    "duration": 7,
    "start_time": "2022-02-25T15:24:04.995Z"
   },
   {
    "duration": 8,
    "start_time": "2022-02-25T15:25:04.351Z"
   },
   {
    "duration": 6,
    "start_time": "2022-02-25T15:27:35.136Z"
   },
   {
    "duration": 7,
    "start_time": "2022-02-25T15:30:15.976Z"
   },
   {
    "duration": 8,
    "start_time": "2022-02-25T15:52:17.889Z"
   },
   {
    "duration": 8,
    "start_time": "2022-02-25T16:01:06.988Z"
   },
   {
    "duration": 8,
    "start_time": "2022-02-25T16:01:23.528Z"
   },
   {
    "duration": 7,
    "start_time": "2022-02-25T16:01:37.704Z"
   },
   {
    "duration": 9,
    "start_time": "2022-02-25T16:04:16.731Z"
   },
   {
    "duration": 5,
    "start_time": "2022-02-25T16:40:13.717Z"
   },
   {
    "duration": 10,
    "start_time": "2022-02-25T16:49:40.097Z"
   },
   {
    "duration": 8,
    "start_time": "2022-02-25T16:56:27.684Z"
   },
   {
    "duration": 9,
    "start_time": "2022-02-25T17:04:50.903Z"
   },
   {
    "duration": 13,
    "start_time": "2022-02-25T17:05:07.050Z"
   },
   {
    "duration": 14,
    "start_time": "2022-02-25T17:06:07.942Z"
   },
   {
    "duration": 13,
    "start_time": "2022-02-25T17:10:21.484Z"
   },
   {
    "duration": 12,
    "start_time": "2022-02-25T17:12:30.916Z"
   },
   {
    "duration": 14,
    "start_time": "2022-02-25T17:13:45.415Z"
   },
   {
    "duration": 279,
    "start_time": "2022-02-26T05:10:39.601Z"
   },
   {
    "duration": 133,
    "start_time": "2022-02-26T05:11:20.825Z"
   },
   {
    "duration": 1025,
    "start_time": "2022-02-26T05:11:37.451Z"
   },
   {
    "duration": 22,
    "start_time": "2022-02-26T05:11:38.478Z"
   },
   {
    "duration": 7,
    "start_time": "2022-02-26T05:11:38.502Z"
   },
   {
    "duration": 11,
    "start_time": "2022-02-26T05:11:38.511Z"
   },
   {
    "duration": 10,
    "start_time": "2022-02-26T05:11:38.524Z"
   },
   {
    "duration": 9,
    "start_time": "2022-02-26T05:11:38.536Z"
   },
   {
    "duration": 32,
    "start_time": "2022-02-26T05:11:38.547Z"
   },
   {
    "duration": 8,
    "start_time": "2022-02-26T05:11:38.581Z"
   },
   {
    "duration": 12,
    "start_time": "2022-02-26T05:11:38.590Z"
   },
   {
    "duration": 8,
    "start_time": "2022-02-26T05:11:38.603Z"
   },
   {
    "duration": 6,
    "start_time": "2022-02-26T05:11:38.613Z"
   },
   {
    "duration": 5,
    "start_time": "2022-02-26T05:11:38.620Z"
   },
   {
    "duration": 17,
    "start_time": "2022-02-26T05:11:38.627Z"
   },
   {
    "duration": 8,
    "start_time": "2022-02-26T05:11:38.646Z"
   },
   {
    "duration": 5,
    "start_time": "2022-02-26T05:11:38.656Z"
   },
   {
    "duration": 12,
    "start_time": "2022-02-26T05:11:38.663Z"
   },
   {
    "duration": 53,
    "start_time": "2022-02-26T05:11:38.677Z"
   },
   {
    "duration": 25,
    "start_time": "2022-02-26T05:11:38.732Z"
   },
   {
    "duration": 2,
    "start_time": "2022-02-26T05:11:38.759Z"
   },
   {
    "duration": 7,
    "start_time": "2022-02-26T05:11:38.762Z"
   },
   {
    "duration": 322,
    "start_time": "2022-02-26T05:11:38.771Z"
   },
   {
    "duration": 8,
    "start_time": "2022-02-26T05:11:39.095Z"
   },
   {
    "duration": 8,
    "start_time": "2022-02-26T05:11:39.113Z"
   },
   {
    "duration": 247,
    "start_time": "2022-02-26T05:11:39.123Z"
   },
   {
    "duration": 231,
    "start_time": "2022-02-26T05:11:39.372Z"
   },
   {
    "duration": 14,
    "start_time": "2022-02-26T05:11:39.605Z"
   },
   {
    "duration": 335,
    "start_time": "2022-02-26T05:11:39.621Z"
   },
   {
    "duration": 7,
    "start_time": "2022-02-26T05:11:39.958Z"
   },
   {
    "duration": 236,
    "start_time": "2022-02-26T05:11:39.967Z"
   },
   {
    "duration": 10,
    "start_time": "2022-02-26T05:11:40.205Z"
   },
   {
    "duration": 333,
    "start_time": "2022-02-26T05:11:40.217Z"
   },
   {
    "duration": 12,
    "start_time": "2022-02-26T05:11:40.552Z"
   },
   {
    "duration": 275,
    "start_time": "2022-02-26T05:11:40.565Z"
   },
   {
    "duration": 5,
    "start_time": "2022-02-26T05:11:40.841Z"
   },
   {
    "duration": 300,
    "start_time": "2022-02-26T05:11:40.848Z"
   },
   {
    "duration": 5,
    "start_time": "2022-02-26T05:11:41.149Z"
   },
   {
    "duration": 22,
    "start_time": "2022-02-26T05:11:41.156Z"
   },
   {
    "duration": 11,
    "start_time": "2022-02-26T05:11:41.180Z"
   },
   {
    "duration": 23,
    "start_time": "2022-02-26T05:11:41.192Z"
   },
   {
    "duration": 14,
    "start_time": "2022-02-26T05:11:41.217Z"
   },
   {
    "duration": 3,
    "start_time": "2022-02-26T05:11:41.233Z"
   },
   {
    "duration": 8,
    "start_time": "2022-02-26T05:11:41.238Z"
   },
   {
    "duration": 6,
    "start_time": "2022-02-26T05:11:41.248Z"
   },
   {
    "duration": 6,
    "start_time": "2022-02-26T05:11:41.256Z"
   },
   {
    "duration": 13,
    "start_time": "2022-02-26T05:11:41.263Z"
   },
   {
    "duration": 37,
    "start_time": "2022-02-26T05:11:41.278Z"
   },
   {
    "duration": 215,
    "start_time": "2022-02-26T05:12:26.515Z"
   },
   {
    "duration": 175,
    "start_time": "2022-02-26T05:13:14.831Z"
   },
   {
    "duration": 8,
    "start_time": "2022-02-26T05:13:42.727Z"
   },
   {
    "duration": 49,
    "start_time": "2022-02-26T05:14:32.139Z"
   },
   {
    "duration": 9,
    "start_time": "2022-02-26T05:15:27.451Z"
   },
   {
    "duration": 8,
    "start_time": "2022-02-26T05:16:58.711Z"
   },
   {
    "duration": 9,
    "start_time": "2022-02-26T05:19:04.747Z"
   },
   {
    "duration": 162,
    "start_time": "2022-02-26T06:01:07.224Z"
   },
   {
    "duration": 1108,
    "start_time": "2022-02-26T06:01:25.956Z"
   },
   {
    "duration": 32,
    "start_time": "2022-02-26T06:01:27.066Z"
   },
   {
    "duration": 6,
    "start_time": "2022-02-26T06:01:27.100Z"
   },
   {
    "duration": 16,
    "start_time": "2022-02-26T06:01:27.107Z"
   },
   {
    "duration": 25,
    "start_time": "2022-02-26T06:01:27.126Z"
   },
   {
    "duration": 20,
    "start_time": "2022-02-26T06:01:27.152Z"
   },
   {
    "duration": 71,
    "start_time": "2022-02-26T06:01:27.174Z"
   },
   {
    "duration": 11,
    "start_time": "2022-02-26T06:01:27.248Z"
   },
   {
    "duration": 6,
    "start_time": "2022-02-26T06:01:27.261Z"
   },
   {
    "duration": 9,
    "start_time": "2022-02-26T06:01:27.269Z"
   },
   {
    "duration": 13,
    "start_time": "2022-02-26T06:01:27.280Z"
   },
   {
    "duration": 5,
    "start_time": "2022-02-26T06:01:27.294Z"
   },
   {
    "duration": 17,
    "start_time": "2022-02-26T06:01:27.301Z"
   },
   {
    "duration": 17,
    "start_time": "2022-02-26T06:01:27.321Z"
   },
   {
    "duration": 12,
    "start_time": "2022-02-26T06:01:27.340Z"
   },
   {
    "duration": 17,
    "start_time": "2022-02-26T06:01:27.354Z"
   },
   {
    "duration": 40,
    "start_time": "2022-02-26T06:01:27.373Z"
   },
   {
    "duration": 30,
    "start_time": "2022-02-26T06:01:27.415Z"
   },
   {
    "duration": 8,
    "start_time": "2022-02-26T06:01:27.446Z"
   },
   {
    "duration": 18,
    "start_time": "2022-02-26T06:01:27.455Z"
   },
   {
    "duration": 322,
    "start_time": "2022-02-26T06:01:27.475Z"
   },
   {
    "duration": 14,
    "start_time": "2022-02-26T06:01:27.799Z"
   },
   {
    "duration": 16,
    "start_time": "2022-02-26T06:01:27.818Z"
   },
   {
    "duration": 268,
    "start_time": "2022-02-26T06:01:27.836Z"
   },
   {
    "duration": 247,
    "start_time": "2022-02-26T06:01:28.106Z"
   },
   {
    "duration": 12,
    "start_time": "2022-02-26T06:01:28.355Z"
   },
   {
    "duration": 332,
    "start_time": "2022-02-26T06:01:28.368Z"
   },
   {
    "duration": 11,
    "start_time": "2022-02-26T06:01:28.701Z"
   },
   {
    "duration": 242,
    "start_time": "2022-02-26T06:01:28.714Z"
   },
   {
    "duration": 9,
    "start_time": "2022-02-26T06:01:28.958Z"
   },
   {
    "duration": 320,
    "start_time": "2022-02-26T06:01:28.969Z"
   },
   {
    "duration": 22,
    "start_time": "2022-02-26T06:01:29.292Z"
   },
   {
    "duration": 323,
    "start_time": "2022-02-26T06:01:29.316Z"
   },
   {
    "duration": 5,
    "start_time": "2022-02-26T06:01:29.640Z"
   },
   {
    "duration": 330,
    "start_time": "2022-02-26T06:01:29.647Z"
   },
   {
    "duration": 5,
    "start_time": "2022-02-26T06:01:29.979Z"
   },
   {
    "duration": 37,
    "start_time": "2022-02-26T06:01:29.985Z"
   },
   {
    "duration": 14,
    "start_time": "2022-02-26T06:01:30.025Z"
   },
   {
    "duration": 9,
    "start_time": "2022-02-26T06:01:30.041Z"
   },
   {
    "duration": 11,
    "start_time": "2022-02-26T06:01:30.052Z"
   },
   {
    "duration": 4,
    "start_time": "2022-02-26T06:01:30.065Z"
   },
   {
    "duration": 43,
    "start_time": "2022-02-26T06:01:30.072Z"
   },
   {
    "duration": 15,
    "start_time": "2022-02-26T06:01:30.118Z"
   },
   {
    "duration": 232,
    "start_time": "2022-02-26T06:01:30.135Z"
   },
   {
    "duration": 202,
    "start_time": "2022-02-26T06:01:30.167Z"
   },
   {
    "duration": 191,
    "start_time": "2022-02-26T06:01:30.179Z"
   },
   {
    "duration": 148,
    "start_time": "2022-02-26T06:03:58.074Z"
   },
   {
    "duration": 166,
    "start_time": "2022-02-26T06:05:01.067Z"
   },
   {
    "duration": 11,
    "start_time": "2022-02-26T06:05:59.798Z"
   },
   {
    "duration": 13,
    "start_time": "2022-02-26T06:06:38.274Z"
   },
   {
    "duration": 129,
    "start_time": "2022-02-26T06:11:45.058Z"
   },
   {
    "duration": 160,
    "start_time": "2022-02-26T06:13:02.082Z"
   },
   {
    "duration": 5,
    "start_time": "2022-02-26T06:13:41.890Z"
   },
   {
    "duration": 4,
    "start_time": "2022-02-26T06:21:06.315Z"
   },
   {
    "duration": 128,
    "start_time": "2022-02-26T06:28:57.270Z"
   },
   {
    "duration": 11,
    "start_time": "2022-02-26T06:58:16.003Z"
   },
   {
    "duration": 1047,
    "start_time": "2022-02-26T06:59:16.627Z"
   },
   {
    "duration": 21,
    "start_time": "2022-02-26T06:59:17.676Z"
   },
   {
    "duration": 12,
    "start_time": "2022-02-26T06:59:17.699Z"
   },
   {
    "duration": 10,
    "start_time": "2022-02-26T06:59:17.713Z"
   },
   {
    "duration": 13,
    "start_time": "2022-02-26T06:59:17.725Z"
   },
   {
    "duration": 12,
    "start_time": "2022-02-26T06:59:17.739Z"
   },
   {
    "duration": 58,
    "start_time": "2022-02-26T06:59:17.752Z"
   },
   {
    "duration": 8,
    "start_time": "2022-02-26T06:59:17.814Z"
   },
   {
    "duration": 17,
    "start_time": "2022-02-26T06:59:17.824Z"
   },
   {
    "duration": 6,
    "start_time": "2022-02-26T06:59:17.844Z"
   },
   {
    "duration": 14,
    "start_time": "2022-02-26T06:59:17.851Z"
   },
   {
    "duration": 5,
    "start_time": "2022-02-26T06:59:17.867Z"
   },
   {
    "duration": 10,
    "start_time": "2022-02-26T06:59:17.874Z"
   },
   {
    "duration": 32,
    "start_time": "2022-02-26T06:59:17.886Z"
   },
   {
    "duration": 7,
    "start_time": "2022-02-26T06:59:17.920Z"
   },
   {
    "duration": 17,
    "start_time": "2022-02-26T06:59:17.929Z"
   },
   {
    "duration": 29,
    "start_time": "2022-02-26T06:59:17.948Z"
   },
   {
    "duration": 54,
    "start_time": "2022-02-26T06:59:17.979Z"
   },
   {
    "duration": 3,
    "start_time": "2022-02-26T06:59:18.035Z"
   },
   {
    "duration": 8,
    "start_time": "2022-02-26T06:59:18.040Z"
   },
   {
    "duration": 318,
    "start_time": "2022-02-26T06:59:18.050Z"
   },
   {
    "duration": 10,
    "start_time": "2022-02-26T06:59:18.370Z"
   },
   {
    "duration": 7,
    "start_time": "2022-02-26T06:59:18.383Z"
   },
   {
    "duration": 254,
    "start_time": "2022-02-26T06:59:18.392Z"
   },
   {
    "duration": 220,
    "start_time": "2022-02-26T06:59:18.647Z"
   },
   {
    "duration": 11,
    "start_time": "2022-02-26T06:59:18.869Z"
   },
   {
    "duration": 362,
    "start_time": "2022-02-26T06:59:18.882Z"
   },
   {
    "duration": 6,
    "start_time": "2022-02-26T06:59:19.246Z"
   },
   {
    "duration": 232,
    "start_time": "2022-02-26T06:59:19.253Z"
   },
   {
    "duration": 8,
    "start_time": "2022-02-26T06:59:19.486Z"
   },
   {
    "duration": 337,
    "start_time": "2022-02-26T06:59:19.496Z"
   },
   {
    "duration": 11,
    "start_time": "2022-02-26T06:59:19.835Z"
   },
   {
    "duration": 285,
    "start_time": "2022-02-26T06:59:19.847Z"
   },
   {
    "duration": 5,
    "start_time": "2022-02-26T06:59:20.134Z"
   },
   {
    "duration": 304,
    "start_time": "2022-02-26T06:59:20.140Z"
   },
   {
    "duration": 4,
    "start_time": "2022-02-26T06:59:20.446Z"
   },
   {
    "duration": 23,
    "start_time": "2022-02-26T06:59:20.452Z"
   },
   {
    "duration": 10,
    "start_time": "2022-02-26T06:59:20.477Z"
   },
   {
    "duration": 26,
    "start_time": "2022-02-26T06:59:20.489Z"
   },
   {
    "duration": 15,
    "start_time": "2022-02-26T06:59:20.517Z"
   },
   {
    "duration": 13,
    "start_time": "2022-02-26T06:59:20.534Z"
   },
   {
    "duration": 20,
    "start_time": "2022-02-26T06:59:20.549Z"
   },
   {
    "duration": 12,
    "start_time": "2022-02-26T06:59:20.571Z"
   },
   {
    "duration": 12,
    "start_time": "2022-02-26T06:59:20.585Z"
   },
   {
    "duration": 6,
    "start_time": "2022-02-26T06:59:20.598Z"
   },
   {
    "duration": 14,
    "start_time": "2022-02-26T06:59:20.605Z"
   },
   {
    "duration": 5,
    "start_time": "2022-02-26T07:01:28.991Z"
   },
   {
    "duration": 1084,
    "start_time": "2022-02-26T07:04:55.205Z"
   },
   {
    "duration": 25,
    "start_time": "2022-02-26T07:04:56.291Z"
   },
   {
    "duration": 8,
    "start_time": "2022-02-26T07:04:56.318Z"
   },
   {
    "duration": 10,
    "start_time": "2022-02-26T07:04:56.328Z"
   },
   {
    "duration": 13,
    "start_time": "2022-02-26T07:04:56.340Z"
   },
   {
    "duration": 13,
    "start_time": "2022-02-26T07:04:56.355Z"
   },
   {
    "duration": 42,
    "start_time": "2022-02-26T07:04:56.370Z"
   },
   {
    "duration": 10,
    "start_time": "2022-02-26T07:04:56.415Z"
   },
   {
    "duration": 8,
    "start_time": "2022-02-26T07:04:56.428Z"
   },
   {
    "duration": 18,
    "start_time": "2022-02-26T07:04:56.438Z"
   },
   {
    "duration": 17,
    "start_time": "2022-02-26T07:04:56.458Z"
   },
   {
    "duration": 6,
    "start_time": "2022-02-26T07:04:56.477Z"
   },
   {
    "duration": 12,
    "start_time": "2022-02-26T07:04:56.485Z"
   },
   {
    "duration": 9,
    "start_time": "2022-02-26T07:04:56.512Z"
   },
   {
    "duration": 10,
    "start_time": "2022-02-26T07:04:56.522Z"
   },
   {
    "duration": 13,
    "start_time": "2022-02-26T07:04:56.534Z"
   },
   {
    "duration": 32,
    "start_time": "2022-02-26T07:04:56.549Z"
   },
   {
    "duration": 54,
    "start_time": "2022-02-26T07:04:56.583Z"
   },
   {
    "duration": 2,
    "start_time": "2022-02-26T07:04:56.639Z"
   },
   {
    "duration": 10,
    "start_time": "2022-02-26T07:04:56.643Z"
   },
   {
    "duration": 339,
    "start_time": "2022-02-26T07:04:56.655Z"
   },
   {
    "duration": 17,
    "start_time": "2022-02-26T07:04:56.996Z"
   },
   {
    "duration": 8,
    "start_time": "2022-02-26T07:04:57.016Z"
   },
   {
    "duration": 239,
    "start_time": "2022-02-26T07:04:57.026Z"
   },
   {
    "duration": 223,
    "start_time": "2022-02-26T07:04:57.266Z"
   },
   {
    "duration": 22,
    "start_time": "2022-02-26T07:04:57.490Z"
   },
   {
    "duration": 350,
    "start_time": "2022-02-26T07:04:57.514Z"
   },
   {
    "duration": 7,
    "start_time": "2022-02-26T07:04:57.865Z"
   },
   {
    "duration": 244,
    "start_time": "2022-02-26T07:04:57.873Z"
   },
   {
    "duration": 8,
    "start_time": "2022-02-26T07:04:58.119Z"
   },
   {
    "duration": 325,
    "start_time": "2022-02-26T07:04:58.129Z"
   },
   {
    "duration": 12,
    "start_time": "2022-02-26T07:04:58.456Z"
   },
   {
    "duration": 278,
    "start_time": "2022-02-26T07:04:58.470Z"
   },
   {
    "duration": 6,
    "start_time": "2022-02-26T07:04:58.750Z"
   },
   {
    "duration": 292,
    "start_time": "2022-02-26T07:04:58.758Z"
   },
   {
    "duration": 5,
    "start_time": "2022-02-26T07:04:59.052Z"
   },
   {
    "duration": 31,
    "start_time": "2022-02-26T07:04:59.059Z"
   },
   {
    "duration": 22,
    "start_time": "2022-02-26T07:04:59.092Z"
   },
   {
    "duration": 7,
    "start_time": "2022-02-26T07:04:59.116Z"
   },
   {
    "duration": 12,
    "start_time": "2022-02-26T07:04:59.124Z"
   },
   {
    "duration": 5,
    "start_time": "2022-02-26T07:04:59.138Z"
   },
   {
    "duration": 8,
    "start_time": "2022-02-26T07:04:59.145Z"
   },
   {
    "duration": 6,
    "start_time": "2022-02-26T07:04:59.155Z"
   },
   {
    "duration": 12,
    "start_time": "2022-02-26T07:04:59.163Z"
   },
   {
    "duration": 5,
    "start_time": "2022-02-26T07:04:59.211Z"
   },
   {
    "duration": 11,
    "start_time": "2022-02-26T07:04:59.217Z"
   },
   {
    "duration": 10,
    "start_time": "2022-02-26T07:04:59.230Z"
   },
   {
    "duration": 9,
    "start_time": "2022-02-26T07:09:30.045Z"
   },
   {
    "duration": 9,
    "start_time": "2022-02-26T07:11:38.217Z"
   },
   {
    "duration": 8,
    "start_time": "2022-02-26T07:11:43.609Z"
   },
   {
    "duration": 5,
    "start_time": "2022-02-26T07:19:09.687Z"
   },
   {
    "duration": 11,
    "start_time": "2022-02-26T08:03:32.478Z"
   },
   {
    "duration": 10,
    "start_time": "2022-02-26T08:10:00.592Z"
   },
   {
    "duration": 30,
    "start_time": "2022-02-26T08:34:10.284Z"
   },
   {
    "duration": 34,
    "start_time": "2022-02-26T08:37:06.551Z"
   },
   {
    "duration": 40,
    "start_time": "2022-02-26T08:38:07.039Z"
   },
   {
    "duration": 15,
    "start_time": "2022-02-26T08:49:34.763Z"
   },
   {
    "duration": 18,
    "start_time": "2022-02-26T08:51:31.176Z"
   },
   {
    "duration": 20,
    "start_time": "2022-02-26T08:54:18.196Z"
   },
   {
    "duration": 18,
    "start_time": "2022-02-26T08:56:00.127Z"
   },
   {
    "duration": 23,
    "start_time": "2022-02-26T08:59:14.282Z"
   },
   {
    "duration": 17,
    "start_time": "2022-02-26T09:01:49.063Z"
   },
   {
    "duration": 24,
    "start_time": "2022-02-26T09:03:03.387Z"
   },
   {
    "duration": 29,
    "start_time": "2022-02-26T09:12:48.698Z"
   },
   {
    "duration": 1100,
    "start_time": "2022-02-26T09:33:45.585Z"
   },
   {
    "duration": 17,
    "start_time": "2022-02-26T09:33:46.687Z"
   },
   {
    "duration": 9,
    "start_time": "2022-02-26T09:33:46.706Z"
   },
   {
    "duration": 17,
    "start_time": "2022-02-26T09:33:46.717Z"
   },
   {
    "duration": 19,
    "start_time": "2022-02-26T09:33:46.736Z"
   },
   {
    "duration": 12,
    "start_time": "2022-02-26T09:33:46.757Z"
   },
   {
    "duration": 43,
    "start_time": "2022-02-26T09:33:46.771Z"
   },
   {
    "duration": 9,
    "start_time": "2022-02-26T09:33:46.816Z"
   },
   {
    "duration": 10,
    "start_time": "2022-02-26T09:33:46.827Z"
   },
   {
    "duration": 8,
    "start_time": "2022-02-26T09:33:46.838Z"
   },
   {
    "duration": 8,
    "start_time": "2022-02-26T09:33:46.848Z"
   },
   {
    "duration": 5,
    "start_time": "2022-02-26T09:33:46.858Z"
   },
   {
    "duration": 10,
    "start_time": "2022-02-26T09:33:46.864Z"
   },
   {
    "duration": 9,
    "start_time": "2022-02-26T09:33:46.876Z"
   },
   {
    "duration": 10,
    "start_time": "2022-02-26T09:33:46.912Z"
   },
   {
    "duration": 15,
    "start_time": "2022-02-26T09:33:46.924Z"
   },
   {
    "duration": 29,
    "start_time": "2022-02-26T09:33:46.941Z"
   },
   {
    "duration": 47,
    "start_time": "2022-02-26T09:33:46.972Z"
   },
   {
    "duration": -582,
    "start_time": "2022-02-26T09:33:47.604Z"
   },
   {
    "duration": -605,
    "start_time": "2022-02-26T09:33:47.628Z"
   },
   {
    "duration": -621,
    "start_time": "2022-02-26T09:33:47.645Z"
   },
   {
    "duration": -637,
    "start_time": "2022-02-26T09:33:47.662Z"
   },
   {
    "duration": -653,
    "start_time": "2022-02-26T09:33:47.679Z"
   },
   {
    "duration": -666,
    "start_time": "2022-02-26T09:33:47.693Z"
   },
   {
    "duration": -681,
    "start_time": "2022-02-26T09:33:47.709Z"
   },
   {
    "duration": -696,
    "start_time": "2022-02-26T09:33:47.725Z"
   },
   {
    "duration": -710,
    "start_time": "2022-02-26T09:33:47.740Z"
   },
   {
    "duration": -723,
    "start_time": "2022-02-26T09:33:47.754Z"
   },
   {
    "duration": -738,
    "start_time": "2022-02-26T09:33:47.770Z"
   },
   {
    "duration": -751,
    "start_time": "2022-02-26T09:33:47.784Z"
   },
   {
    "duration": -760,
    "start_time": "2022-02-26T09:33:47.794Z"
   },
   {
    "duration": -773,
    "start_time": "2022-02-26T09:33:47.808Z"
   },
   {
    "duration": -782,
    "start_time": "2022-02-26T09:33:47.819Z"
   },
   {
    "duration": -797,
    "start_time": "2022-02-26T09:33:47.834Z"
   },
   {
    "duration": -807,
    "start_time": "2022-02-26T09:33:47.845Z"
   },
   {
    "duration": -820,
    "start_time": "2022-02-26T09:33:47.859Z"
   },
   {
    "duration": -835,
    "start_time": "2022-02-26T09:33:47.875Z"
   },
   {
    "duration": -847,
    "start_time": "2022-02-26T09:33:47.889Z"
   },
   {
    "duration": -859,
    "start_time": "2022-02-26T09:33:47.902Z"
   },
   {
    "duration": -871,
    "start_time": "2022-02-26T09:33:47.915Z"
   },
   {
    "duration": -881,
    "start_time": "2022-02-26T09:33:47.926Z"
   },
   {
    "duration": -894,
    "start_time": "2022-02-26T09:33:47.941Z"
   },
   {
    "duration": 266,
    "start_time": "2022-02-26T09:33:47.048Z"
   },
   {
    "duration": -662,
    "start_time": "2022-02-26T09:33:47.977Z"
   },
   {
    "duration": -684,
    "start_time": "2022-02-26T09:33:48.000Z"
   },
   {
    "duration": -701,
    "start_time": "2022-02-26T09:33:48.018Z"
   },
   {
    "duration": -710,
    "start_time": "2022-02-26T09:33:48.028Z"
   },
   {
    "duration": -725,
    "start_time": "2022-02-26T09:33:48.044Z"
   },
   {
    "duration": 48,
    "start_time": "2022-02-26T09:35:48.709Z"
   },
   {
    "duration": 27,
    "start_time": "2022-02-26T09:36:47.233Z"
   },
   {
    "duration": 1267,
    "start_time": "2022-02-26T09:37:02.616Z"
   },
   {
    "duration": 16,
    "start_time": "2022-02-26T09:37:03.885Z"
   },
   {
    "duration": 16,
    "start_time": "2022-02-26T09:37:03.904Z"
   },
   {
    "duration": 21,
    "start_time": "2022-02-26T09:37:03.922Z"
   },
   {
    "duration": 14,
    "start_time": "2022-02-26T09:37:03.945Z"
   },
   {
    "duration": 14,
    "start_time": "2022-02-26T09:37:03.960Z"
   },
   {
    "duration": 39,
    "start_time": "2022-02-26T09:37:03.976Z"
   },
   {
    "duration": 8,
    "start_time": "2022-02-26T09:37:04.017Z"
   },
   {
    "duration": 8,
    "start_time": "2022-02-26T09:37:04.027Z"
   },
   {
    "duration": 6,
    "start_time": "2022-02-26T09:37:04.036Z"
   },
   {
    "duration": 12,
    "start_time": "2022-02-26T09:37:04.044Z"
   },
   {
    "duration": 6,
    "start_time": "2022-02-26T09:37:04.057Z"
   },
   {
    "duration": 9,
    "start_time": "2022-02-26T09:37:04.065Z"
   },
   {
    "duration": 37,
    "start_time": "2022-02-26T09:37:04.076Z"
   },
   {
    "duration": 10,
    "start_time": "2022-02-26T09:37:04.115Z"
   },
   {
    "duration": 28,
    "start_time": "2022-02-26T09:37:04.126Z"
   },
   {
    "duration": 34,
    "start_time": "2022-02-26T09:37:04.156Z"
   },
   {
    "duration": 45,
    "start_time": "2022-02-26T09:37:04.192Z"
   },
   {
    "duration": 330,
    "start_time": "2022-02-26T09:37:04.238Z"
   },
   {
    "duration": 9,
    "start_time": "2022-02-26T09:37:04.570Z"
   },
   {
    "duration": 10,
    "start_time": "2022-02-26T09:37:04.580Z"
   },
   {
    "duration": 253,
    "start_time": "2022-02-26T09:37:04.592Z"
   },
   {
    "duration": 239,
    "start_time": "2022-02-26T09:37:04.848Z"
   },
   {
    "duration": 12,
    "start_time": "2022-02-26T09:37:05.089Z"
   },
   {
    "duration": 353,
    "start_time": "2022-02-26T09:37:05.112Z"
   },
   {
    "duration": 6,
    "start_time": "2022-02-26T09:37:05.467Z"
   },
   {
    "duration": 258,
    "start_time": "2022-02-26T09:37:05.475Z"
   },
   {
    "duration": 9,
    "start_time": "2022-02-26T09:37:05.736Z"
   },
   {
    "duration": 320,
    "start_time": "2022-02-26T09:37:05.748Z"
   },
   {
    "duration": 12,
    "start_time": "2022-02-26T09:37:06.070Z"
   },
   {
    "duration": 337,
    "start_time": "2022-02-26T09:37:06.084Z"
   },
   {
    "duration": 6,
    "start_time": "2022-02-26T09:37:06.423Z"
   },
   {
    "duration": 312,
    "start_time": "2022-02-26T09:37:06.430Z"
   },
   {
    "duration": 5,
    "start_time": "2022-02-26T09:37:06.745Z"
   },
   {
    "duration": 13,
    "start_time": "2022-02-26T09:37:06.752Z"
   },
   {
    "duration": 15,
    "start_time": "2022-02-26T09:37:06.767Z"
   },
   {
    "duration": 7,
    "start_time": "2022-02-26T09:37:06.783Z"
   },
   {
    "duration": 26,
    "start_time": "2022-02-26T09:37:06.792Z"
   },
   {
    "duration": 7,
    "start_time": "2022-02-26T09:37:06.820Z"
   },
   {
    "duration": 12,
    "start_time": "2022-02-26T09:37:06.828Z"
   },
   {
    "duration": 13,
    "start_time": "2022-02-26T09:37:06.842Z"
   },
   {
    "duration": 17,
    "start_time": "2022-02-26T09:37:06.857Z"
   },
   {
    "duration": 5,
    "start_time": "2022-02-26T09:37:06.876Z"
   },
   {
    "duration": 36,
    "start_time": "2022-02-26T09:37:06.884Z"
   },
   {
    "duration": 10,
    "start_time": "2022-02-26T09:37:06.922Z"
   },
   {
    "duration": 5,
    "start_time": "2022-02-26T09:37:06.934Z"
   },
   {
    "duration": 12,
    "start_time": "2022-02-26T09:37:06.941Z"
   },
   {
    "duration": 12,
    "start_time": "2022-02-26T09:37:06.955Z"
   },
   {
    "duration": 1126,
    "start_time": "2022-02-26T10:06:20.406Z"
   },
   {
    "duration": 17,
    "start_time": "2022-02-26T10:06:21.534Z"
   },
   {
    "duration": 8,
    "start_time": "2022-02-26T10:06:21.553Z"
   },
   {
    "duration": 12,
    "start_time": "2022-02-26T10:06:21.563Z"
   },
   {
    "duration": 17,
    "start_time": "2022-02-26T10:06:21.577Z"
   },
   {
    "duration": 24,
    "start_time": "2022-02-26T10:06:21.596Z"
   },
   {
    "duration": 33,
    "start_time": "2022-02-26T10:06:21.622Z"
   },
   {
    "duration": 9,
    "start_time": "2022-02-26T10:06:21.658Z"
   },
   {
    "duration": 9,
    "start_time": "2022-02-26T10:06:21.669Z"
   },
   {
    "duration": 7,
    "start_time": "2022-02-26T10:06:21.679Z"
   },
   {
    "duration": 8,
    "start_time": "2022-02-26T10:06:21.687Z"
   },
   {
    "duration": 5,
    "start_time": "2022-02-26T10:06:21.697Z"
   },
   {
    "duration": 16,
    "start_time": "2022-02-26T10:06:21.712Z"
   },
   {
    "duration": 10,
    "start_time": "2022-02-26T10:06:21.730Z"
   },
   {
    "duration": 9,
    "start_time": "2022-02-26T10:06:21.741Z"
   },
   {
    "duration": 16,
    "start_time": "2022-02-26T10:06:21.752Z"
   },
   {
    "duration": 52,
    "start_time": "2022-02-26T10:06:21.770Z"
   },
   {
    "duration": 30,
    "start_time": "2022-02-26T10:06:21.825Z"
   },
   {
    "duration": 311,
    "start_time": "2022-02-26T10:06:21.856Z"
   },
   {
    "duration": 10,
    "start_time": "2022-02-26T10:06:22.169Z"
   },
   {
    "duration": 13,
    "start_time": "2022-02-26T10:06:22.181Z"
   },
   {
    "duration": 252,
    "start_time": "2022-02-26T10:06:22.195Z"
   },
   {
    "duration": 235,
    "start_time": "2022-02-26T10:06:22.451Z"
   },
   {
    "duration": 23,
    "start_time": "2022-02-26T10:06:22.689Z"
   },
   {
    "duration": 338,
    "start_time": "2022-02-26T10:06:22.715Z"
   },
   {
    "duration": 7,
    "start_time": "2022-02-26T10:06:23.055Z"
   },
   {
    "duration": 236,
    "start_time": "2022-02-26T10:06:23.064Z"
   },
   {
    "duration": 15,
    "start_time": "2022-02-26T10:06:23.303Z"
   },
   {
    "duration": 328,
    "start_time": "2022-02-26T10:06:23.320Z"
   },
   {
    "duration": 12,
    "start_time": "2022-02-26T10:06:23.650Z"
   },
   {
    "duration": 295,
    "start_time": "2022-02-26T10:06:23.663Z"
   },
   {
    "duration": 6,
    "start_time": "2022-02-26T10:06:23.960Z"
   },
   {
    "duration": 364,
    "start_time": "2022-02-26T10:06:23.967Z"
   },
   {
    "duration": 5,
    "start_time": "2022-02-26T10:06:24.333Z"
   },
   {
    "duration": 13,
    "start_time": "2022-02-26T10:06:24.339Z"
   },
   {
    "duration": 18,
    "start_time": "2022-02-26T10:06:24.353Z"
   },
   {
    "duration": 15,
    "start_time": "2022-02-26T10:06:24.373Z"
   },
   {
    "duration": 22,
    "start_time": "2022-02-26T10:06:24.390Z"
   },
   {
    "duration": 13,
    "start_time": "2022-02-26T10:06:24.414Z"
   },
   {
    "duration": 26,
    "start_time": "2022-02-26T10:06:24.429Z"
   },
   {
    "duration": 24,
    "start_time": "2022-02-26T10:06:24.456Z"
   },
   {
    "duration": 24,
    "start_time": "2022-02-26T10:06:24.481Z"
   },
   {
    "duration": 11,
    "start_time": "2022-02-26T10:06:24.506Z"
   },
   {
    "duration": 30,
    "start_time": "2022-02-26T10:06:24.519Z"
   },
   {
    "duration": 37,
    "start_time": "2022-02-26T10:06:24.551Z"
   },
   {
    "duration": 18,
    "start_time": "2022-02-26T10:06:24.590Z"
   },
   {
    "duration": 29,
    "start_time": "2022-02-26T10:06:24.610Z"
   },
   {
    "duration": 21,
    "start_time": "2022-02-26T10:06:24.641Z"
   },
   {
    "duration": 1021,
    "start_time": "2022-02-26T10:16:47.448Z"
   },
   {
    "duration": 15,
    "start_time": "2022-02-26T10:16:48.471Z"
   },
   {
    "duration": 8,
    "start_time": "2022-02-26T10:16:48.488Z"
   },
   {
    "duration": 17,
    "start_time": "2022-02-26T10:16:48.498Z"
   },
   {
    "duration": 12,
    "start_time": "2022-02-26T10:16:48.516Z"
   },
   {
    "duration": 11,
    "start_time": "2022-02-26T10:16:48.530Z"
   },
   {
    "duration": 39,
    "start_time": "2022-02-26T10:16:48.542Z"
   },
   {
    "duration": 8,
    "start_time": "2022-02-26T10:16:48.584Z"
   },
   {
    "duration": 7,
    "start_time": "2022-02-26T10:16:48.595Z"
   },
   {
    "duration": 7,
    "start_time": "2022-02-26T10:16:48.604Z"
   },
   {
    "duration": 7,
    "start_time": "2022-02-26T10:16:48.613Z"
   },
   {
    "duration": 5,
    "start_time": "2022-02-26T10:16:48.622Z"
   },
   {
    "duration": 13,
    "start_time": "2022-02-26T10:16:48.628Z"
   },
   {
    "duration": 7,
    "start_time": "2022-02-26T10:16:48.643Z"
   },
   {
    "duration": 27,
    "start_time": "2022-02-26T10:16:48.652Z"
   },
   {
    "duration": 58,
    "start_time": "2022-02-26T10:16:48.680Z"
   },
   {
    "duration": 317,
    "start_time": "2022-02-26T10:16:48.739Z"
   },
   {
    "duration": 9,
    "start_time": "2022-02-26T10:16:49.058Z"
   },
   {
    "duration": 8,
    "start_time": "2022-02-26T10:16:49.068Z"
   },
   {
    "duration": 236,
    "start_time": "2022-02-26T10:16:49.078Z"
   },
   {
    "duration": 214,
    "start_time": "2022-02-26T10:16:49.315Z"
   },
   {
    "duration": 11,
    "start_time": "2022-02-26T10:16:49.530Z"
   },
   {
    "duration": 305,
    "start_time": "2022-02-26T10:16:49.544Z"
   },
   {
    "duration": 6,
    "start_time": "2022-02-26T10:16:49.851Z"
   },
   {
    "duration": 234,
    "start_time": "2022-02-26T10:16:49.858Z"
   },
   {
    "duration": 17,
    "start_time": "2022-02-26T10:16:50.094Z"
   },
   {
    "duration": 319,
    "start_time": "2022-02-26T10:16:50.113Z"
   },
   {
    "duration": 11,
    "start_time": "2022-02-26T10:16:50.434Z"
   },
   {
    "duration": 286,
    "start_time": "2022-02-26T10:16:50.447Z"
   },
   {
    "duration": 5,
    "start_time": "2022-02-26T10:16:50.735Z"
   },
   {
    "duration": 310,
    "start_time": "2022-02-26T10:16:50.741Z"
   },
   {
    "duration": 4,
    "start_time": "2022-02-26T10:16:51.053Z"
   },
   {
    "duration": 34,
    "start_time": "2022-02-26T10:16:51.059Z"
   },
   {
    "duration": 18,
    "start_time": "2022-02-26T10:16:51.094Z"
   },
   {
    "duration": 7,
    "start_time": "2022-02-26T10:16:51.113Z"
   },
   {
    "duration": 10,
    "start_time": "2022-02-26T10:16:51.121Z"
   },
   {
    "duration": 4,
    "start_time": "2022-02-26T10:16:51.133Z"
   },
   {
    "duration": 13,
    "start_time": "2022-02-26T10:16:51.138Z"
   },
   {
    "duration": 14,
    "start_time": "2022-02-26T10:16:51.153Z"
   },
   {
    "duration": 19,
    "start_time": "2022-02-26T10:16:51.169Z"
   },
   {
    "duration": 25,
    "start_time": "2022-02-26T10:16:51.189Z"
   },
   {
    "duration": 9,
    "start_time": "2022-02-26T10:16:51.216Z"
   },
   {
    "duration": 11,
    "start_time": "2022-02-26T10:16:51.227Z"
   },
   {
    "duration": 10,
    "start_time": "2022-02-26T10:16:51.240Z"
   },
   {
    "duration": 12,
    "start_time": "2022-02-26T10:16:51.252Z"
   },
   {
    "duration": 15,
    "start_time": "2022-02-26T10:16:51.265Z"
   }
  ],
  "kernelspec": {
   "display_name": "Python 3 (ipykernel)",
   "language": "python",
   "name": "python3"
  },
  "language_info": {
   "codemirror_mode": {
    "name": "ipython",
    "version": 3
   },
   "file_extension": ".py",
   "mimetype": "text/x-python",
   "name": "python",
   "nbconvert_exporter": "python",
   "pygments_lexer": "ipython3",
   "version": "3.9.7"
  },
  "toc": {
   "base_numbering": 1,
   "nav_menu": {},
   "number_sections": true,
   "sideBar": true,
   "skip_h1_title": true,
   "title_cell": "Содержание",
   "title_sidebar": "Содержание",
   "toc_cell": true,
   "toc_position": {
    "height": "584px",
    "left": "33px",
    "top": "309.133px",
    "width": "300px"
   },
   "toc_section_display": true,
   "toc_window_display": true
  }
 },
 "nbformat": 4,
 "nbformat_minor": 2
}
