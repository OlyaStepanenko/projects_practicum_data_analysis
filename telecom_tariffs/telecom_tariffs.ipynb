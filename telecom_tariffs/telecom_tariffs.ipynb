{
 "cells": [
  {
   "cell_type": "markdown",
   "metadata": {
    "toc": true
   },
   "source": [
    "<h1>Содержание<span class=\"tocSkip\"></span></h1>\n",
    "<div class=\"toc\"><ul class=\"toc-item\"><li><span><a href=\"#Подготовка-данных.\" data-toc-modified-id=\"Подготовка-данных.-1\"><span class=\"toc-item-num\">1&nbsp;&nbsp;</span>Подготовка данных.</a></span><ul class=\"toc-item\"><li><span><a href=\"#Данные-о-пользователях.\" data-toc-modified-id=\"Данные-о-пользователях.-1.1\"><span class=\"toc-item-num\">1.1&nbsp;&nbsp;</span>Данные о пользователях.</a></span></li><li><span><a href=\"#Данные-о-тарифах\" data-toc-modified-id=\"Данные-о-тарифах-1.2\"><span class=\"toc-item-num\">1.2&nbsp;&nbsp;</span>Данные о тарифах</a></span></li><li><span><a href=\"#Данные-о-звонках.\" data-toc-modified-id=\"Данные-о-звонках.-1.3\"><span class=\"toc-item-num\">1.3&nbsp;&nbsp;</span>Данные о звонках.</a></span></li><li><span><a href=\"#Данные-о-сообщениях.\" data-toc-modified-id=\"Данные-о-сообщениях.-1.4\"><span class=\"toc-item-num\">1.4&nbsp;&nbsp;</span>Данные о сообщениях.</a></span></li><li><span><a href=\"#Данные-об-интернет-сессиях\" data-toc-modified-id=\"Данные-об-интернет-сессиях-1.5\"><span class=\"toc-item-num\">1.5&nbsp;&nbsp;</span>Данные об интернет-сессиях</a></span></li><li><span><a href=\"#Вывод\" data-toc-modified-id=\"Вывод-1.6\"><span class=\"toc-item-num\">1.6&nbsp;&nbsp;</span>Вывод</a></span></li></ul></li><li><span><a href=\"#Подсчет-данных-для-каждого-пользователя.\" data-toc-modified-id=\"Подсчет-данных-для-каждого-пользователя.-2\"><span class=\"toc-item-num\">2&nbsp;&nbsp;</span>Подсчет данных для каждого пользователя.</a></span><ul class=\"toc-item\"><li><span><a href=\"#Группировка-данных-по-пользователям-и-месяцам.\" data-toc-modified-id=\"Группировка-данных-по-пользователям-и-месяцам.-2.1\"><span class=\"toc-item-num\">2.1&nbsp;&nbsp;</span>Группировка данных по пользователям и месяцам.</a></span></li><li><span><a href=\"#Объединение-таблиц-для-расчета-помесячной-выручки-с-каждого-пользователя.\" data-toc-modified-id=\"Объединение-таблиц-для-расчета-помесячной-выручки-с-каждого-пользователя.-2.2\"><span class=\"toc-item-num\">2.2&nbsp;&nbsp;</span>Объединение таблиц для расчета помесячной выручки с каждого пользователя.</a></span></li><li><span><a href=\"#Расчет-выручки-по-пользователям-по-месяцам.\" data-toc-modified-id=\"Расчет-выручки-по-пользователям-по-месяцам.-2.3\"><span class=\"toc-item-num\">2.3&nbsp;&nbsp;</span>Расчет выручки по пользователям по месяцам.</a></span></li><li><span><a href=\"#Вывод\" data-toc-modified-id=\"Вывод-2.4\"><span class=\"toc-item-num\">2.4&nbsp;&nbsp;</span>Вывод</a></span></li></ul></li><li><span><a href=\"#Анализ-поведения-клиентов-в-зависимости-от-условий-тарифа.\" data-toc-modified-id=\"Анализ-поведения-клиентов-в-зависимости-от-условий-тарифа.-3\"><span class=\"toc-item-num\">3&nbsp;&nbsp;</span>Анализ поведения клиентов в зависимости от условий тарифа.</a></span><ul class=\"toc-item\"><li><span><a href=\"#Общая-статистика-по-тарифам\" data-toc-modified-id=\"Общая-статистика-по-тарифам-3.1\"><span class=\"toc-item-num\">3.1&nbsp;&nbsp;</span>Общая статистика по тарифам</a></span></li><li><span><a href=\"#Сравнение-количества-минут-звонков-пользователей-в-месяц-по-тарифам.\" data-toc-modified-id=\"Сравнение-количества-минут-звонков-пользователей-в-месяц-по-тарифам.-3.2\"><span class=\"toc-item-num\">3.2&nbsp;&nbsp;</span>Сравнение количества минут звонков пользователей в месяц по тарифам.</a></span></li><li><span><a href=\"#Сравнение-количества-сообщений-в-месяц-по-тарифам.\" data-toc-modified-id=\"Сравнение-количества-сообщений-в-месяц-по-тарифам.-3.3\"><span class=\"toc-item-num\">3.3&nbsp;&nbsp;</span>Сравнение количества сообщений в месяц по тарифам.</a></span></li><li><span><a href=\"#Сравнение-интернет-трафика-пользователей-тарифов-&quot;Смарт&quot;-и-&quot;Ультра&quot;\" data-toc-modified-id=\"Сравнение-интернет-трафика-пользователей-тарифов-&quot;Смарт&quot;-и-&quot;Ультра&quot;-3.4\"><span class=\"toc-item-num\">3.4&nbsp;&nbsp;</span>Сравнение интернет-трафика пользователей тарифов \"Смарт\" и \"Ультра\"</a></span></li><li><span><a href=\"#Вывод\" data-toc-modified-id=\"Вывод-3.5\"><span class=\"toc-item-num\">3.5&nbsp;&nbsp;</span>Вывод</a></span></li></ul></li><li><span><a href=\"#Проверка-гипотез-о-средней-выручке-по-тарифам.\" data-toc-modified-id=\"Проверка-гипотез-о-средней-выручке-по-тарифам.-4\"><span class=\"toc-item-num\">4&nbsp;&nbsp;</span>Проверка гипотез о средней выручке по тарифам.</a></span><ul class=\"toc-item\"><li><span><a href=\"#Сравнение-показателей-выручки-по-тарифам.\" data-toc-modified-id=\"Сравнение-показателей-выручки-по-тарифам.-4.1\"><span class=\"toc-item-num\">4.1&nbsp;&nbsp;</span>Сравнение показателей выручки по тарифам.</a></span></li><li><span><a href=\"#Проверка-гипотезы-о-том,-что-средняя-выручка-пользователей-тарифов-&quot;Ультра&quot;-и-&quot;Смарт&quot;-различается.\" data-toc-modified-id=\"Проверка-гипотезы-о-том,-что-средняя-выручка-пользователей-тарифов-&quot;Ультра&quot;-и-&quot;Смарт&quot;-различается.-4.2\"><span class=\"toc-item-num\">4.2&nbsp;&nbsp;</span>Проверка гипотезы о том, что средняя выручка пользователей тарифов \"Ультра\" и \"Смарт\" различается.</a></span></li><li><span><a href=\"#Проверка-гипотезы,-о-том,-что-средняя-выручка-пользователей-из-Москвы-отличается-от-выручки-пользователей-из-других-регионов.\" data-toc-modified-id=\"Проверка-гипотезы,-о-том,-что-средняя-выручка-пользователей-из-Москвы-отличается-от-выручки-пользователей-из-других-регионов.-4.3\"><span class=\"toc-item-num\">4.3&nbsp;&nbsp;</span>Проверка гипотезы, о том, что средняя выручка пользователей из Москвы отличается от выручки пользователей из других регионов.</a></span></li><li><span><a href=\"#Вывод\" data-toc-modified-id=\"Вывод-4.4\"><span class=\"toc-item-num\">4.4&nbsp;&nbsp;</span>Вывод</a></span></li></ul></li><li><span><a href=\"#Общее-сравнение-средних-показателей-по-тарифам.\" data-toc-modified-id=\"Общее-сравнение-средних-показателей-по-тарифам.-5\"><span class=\"toc-item-num\">5&nbsp;&nbsp;</span>Общее сравнение средних показателей по тарифам.</a></span></li><li><span><a href=\"#Общий-вывод\" data-toc-modified-id=\"Общий-вывод-6\"><span class=\"toc-item-num\">6&nbsp;&nbsp;</span>Общий вывод</a></span></li></ul></div>"
   ]
  },
  {
   "cell_type": "markdown",
   "metadata": {},
   "source": [
    "# Определение перспективного тарифа для телеком-компании."
   ]
  },
  {
   "cell_type": "markdown",
   "metadata": {},
   "source": [
    "В нашем распоряжении данные 500 пользователей компании \"Мегалайн\": кто они, откуда, каким тарифом пользуются, сколько звонков и сообщений отправил каждый за 2018 г. Для того, чтобы коммерческий департамент скорректировал рекламный бюджет, необхлдимо выяснить, какой тариф приносит больше денег. Нужно сделать предварительный анализ тарифов  и поведения клиентов на основе имеющейся небольшой выборки."
   ]
  },
  {
   "cell_type": "code",
   "execution_count": 1,
   "metadata": {},
   "outputs": [],
   "source": [
    "import pandas as pd\n",
    "import matplotlib.pyplot as plt\n",
    "import numpy as np\n",
    "import warnings\n",
    "from scipy import stats as st\n",
    "warnings.filterwarnings('ignore')"
   ]
  },
  {
   "cell_type": "markdown",
   "metadata": {},
   "source": [
    "## Подготовка данных.\n"
   ]
  },
  {
   "cell_type": "markdown",
   "metadata": {},
   "source": [
    "Откроем файлы с данными"
   ]
  },
  {
   "cell_type": "code",
   "execution_count": 2,
   "metadata": {},
   "outputs": [],
   "source": [
    "data_users = pd.read_csv('users.csv')\n",
    "data_tariffs = pd.read_csv('tariffs.csv')\n",
    "data_calls = pd.read_csv('calls.csv')\n",
    "data_internet = pd.read_csv('internet.csv')\n",
    "data_messages = pd.read_csv('messages.csv')"
   ]
  },
  {
   "cell_type": "markdown",
   "metadata": {},
   "source": [
    "### Данные о пользователях."
   ]
  },
  {
   "cell_type": "markdown",
   "metadata": {},
   "source": [
    "Обратимся к таблице `data_users`"
   ]
  },
  {
   "cell_type": "code",
   "execution_count": 3,
   "metadata": {
    "scrolled": false
   },
   "outputs": [
    {
     "data": {
      "text/html": [
       "<div>\n",
       "<style scoped>\n",
       "    .dataframe tbody tr th:only-of-type {\n",
       "        vertical-align: middle;\n",
       "    }\n",
       "\n",
       "    .dataframe tbody tr th {\n",
       "        vertical-align: top;\n",
       "    }\n",
       "\n",
       "    .dataframe thead th {\n",
       "        text-align: right;\n",
       "    }\n",
       "</style>\n",
       "<table border=\"1\" class=\"dataframe\">\n",
       "  <thead>\n",
       "    <tr style=\"text-align: right;\">\n",
       "      <th></th>\n",
       "      <th>user_id</th>\n",
       "      <th>age</th>\n",
       "      <th>churn_date</th>\n",
       "      <th>city</th>\n",
       "      <th>first_name</th>\n",
       "      <th>last_name</th>\n",
       "      <th>reg_date</th>\n",
       "      <th>tariff</th>\n",
       "    </tr>\n",
       "  </thead>\n",
       "  <tbody>\n",
       "    <tr>\n",
       "      <th>0</th>\n",
       "      <td>1000</td>\n",
       "      <td>52</td>\n",
       "      <td>NaN</td>\n",
       "      <td>Краснодар</td>\n",
       "      <td>Рафаил</td>\n",
       "      <td>Верещагин</td>\n",
       "      <td>2018-05-25</td>\n",
       "      <td>ultra</td>\n",
       "    </tr>\n",
       "    <tr>\n",
       "      <th>1</th>\n",
       "      <td>1001</td>\n",
       "      <td>41</td>\n",
       "      <td>NaN</td>\n",
       "      <td>Москва</td>\n",
       "      <td>Иван</td>\n",
       "      <td>Ежов</td>\n",
       "      <td>2018-11-01</td>\n",
       "      <td>smart</td>\n",
       "    </tr>\n",
       "    <tr>\n",
       "      <th>2</th>\n",
       "      <td>1002</td>\n",
       "      <td>59</td>\n",
       "      <td>NaN</td>\n",
       "      <td>Стерлитамак</td>\n",
       "      <td>Евгений</td>\n",
       "      <td>Абрамович</td>\n",
       "      <td>2018-06-17</td>\n",
       "      <td>smart</td>\n",
       "    </tr>\n",
       "    <tr>\n",
       "      <th>3</th>\n",
       "      <td>1003</td>\n",
       "      <td>23</td>\n",
       "      <td>NaN</td>\n",
       "      <td>Москва</td>\n",
       "      <td>Белла</td>\n",
       "      <td>Белякова</td>\n",
       "      <td>2018-08-17</td>\n",
       "      <td>ultra</td>\n",
       "    </tr>\n",
       "    <tr>\n",
       "      <th>4</th>\n",
       "      <td>1004</td>\n",
       "      <td>68</td>\n",
       "      <td>NaN</td>\n",
       "      <td>Новокузнецк</td>\n",
       "      <td>Татьяна</td>\n",
       "      <td>Авдеенко</td>\n",
       "      <td>2018-05-14</td>\n",
       "      <td>ultra</td>\n",
       "    </tr>\n",
       "    <tr>\n",
       "      <th>5</th>\n",
       "      <td>1005</td>\n",
       "      <td>67</td>\n",
       "      <td>NaN</td>\n",
       "      <td>Набережные Челны</td>\n",
       "      <td>Афанасий</td>\n",
       "      <td>Горлов</td>\n",
       "      <td>2018-01-25</td>\n",
       "      <td>smart</td>\n",
       "    </tr>\n",
       "    <tr>\n",
       "      <th>6</th>\n",
       "      <td>1006</td>\n",
       "      <td>21</td>\n",
       "      <td>NaN</td>\n",
       "      <td>Ульяновск</td>\n",
       "      <td>Леонид</td>\n",
       "      <td>Ермолаев</td>\n",
       "      <td>2018-02-26</td>\n",
       "      <td>smart</td>\n",
       "    </tr>\n",
       "    <tr>\n",
       "      <th>7</th>\n",
       "      <td>1007</td>\n",
       "      <td>65</td>\n",
       "      <td>NaN</td>\n",
       "      <td>Москва</td>\n",
       "      <td>Юна</td>\n",
       "      <td>Березина</td>\n",
       "      <td>2018-04-19</td>\n",
       "      <td>smart</td>\n",
       "    </tr>\n",
       "    <tr>\n",
       "      <th>8</th>\n",
       "      <td>1008</td>\n",
       "      <td>63</td>\n",
       "      <td>NaN</td>\n",
       "      <td>Челябинск</td>\n",
       "      <td>Рустэм</td>\n",
       "      <td>Пономарёв</td>\n",
       "      <td>2018-12-19</td>\n",
       "      <td>smart</td>\n",
       "    </tr>\n",
       "    <tr>\n",
       "      <th>9</th>\n",
       "      <td>1009</td>\n",
       "      <td>24</td>\n",
       "      <td>NaN</td>\n",
       "      <td>Пермь</td>\n",
       "      <td>Василиса</td>\n",
       "      <td>Блинова</td>\n",
       "      <td>2018-03-22</td>\n",
       "      <td>smart</td>\n",
       "    </tr>\n",
       "  </tbody>\n",
       "</table>\n",
       "</div>"
      ],
      "text/plain": [
       "   user_id  age churn_date              city first_name  last_name  \\\n",
       "0     1000   52        NaN         Краснодар     Рафаил  Верещагин   \n",
       "1     1001   41        NaN            Москва       Иван       Ежов   \n",
       "2     1002   59        NaN       Стерлитамак    Евгений  Абрамович   \n",
       "3     1003   23        NaN            Москва      Белла   Белякова   \n",
       "4     1004   68        NaN       Новокузнецк    Татьяна   Авдеенко   \n",
       "5     1005   67        NaN  Набережные Челны   Афанасий     Горлов   \n",
       "6     1006   21        NaN         Ульяновск     Леонид   Ермолаев   \n",
       "7     1007   65        NaN            Москва        Юна   Березина   \n",
       "8     1008   63        NaN         Челябинск     Рустэм  Пономарёв   \n",
       "9     1009   24        NaN             Пермь   Василиса    Блинова   \n",
       "\n",
       "     reg_date tariff  \n",
       "0  2018-05-25  ultra  \n",
       "1  2018-11-01  smart  \n",
       "2  2018-06-17  smart  \n",
       "3  2018-08-17  ultra  \n",
       "4  2018-05-14  ultra  \n",
       "5  2018-01-25  smart  \n",
       "6  2018-02-26  smart  \n",
       "7  2018-04-19  smart  \n",
       "8  2018-12-19  smart  \n",
       "9  2018-03-22  smart  "
      ]
     },
     "metadata": {},
     "output_type": "display_data"
    },
    {
     "name": "stdout",
     "output_type": "stream",
     "text": [
      "<class 'pandas.core.frame.DataFrame'>\n",
      "RangeIndex: 500 entries, 0 to 499\n",
      "Data columns (total 8 columns):\n",
      " #   Column      Non-Null Count  Dtype \n",
      "---  ------      --------------  ----- \n",
      " 0   user_id     500 non-null    int64 \n",
      " 1   age         500 non-null    int64 \n",
      " 2   churn_date  38 non-null     object\n",
      " 3   city        500 non-null    object\n",
      " 4   first_name  500 non-null    object\n",
      " 5   last_name   500 non-null    object\n",
      " 6   reg_date    500 non-null    object\n",
      " 7   tariff      500 non-null    object\n",
      "dtypes: int64(2), object(6)\n",
      "memory usage: 31.4+ KB\n"
     ]
    }
   ],
   "source": [
    "display(data_users.head(10))\n",
    "data_users.info()"
   ]
  },
  {
   "cell_type": "markdown",
   "metadata": {},
   "source": [
    "Таблица с информацией о пользователях содержит 500 строк, в каждой из которых есть данные об имени и фамилии пользователя, городе проживания, дата подключения к тарифу и дате прекращения пользования им, используемый тариф, а также id пользователя.\n",
    "Незаполненные значения есть только в столбце `churn_date`, они говорят о том, что пользователь использовал тариф на момент формирования таблицы.\n",
    "\n",
    "Как видно данные о датах подключения и отключения тарифа записаны в строковом формате, приведем их к формату datetime\n",
    "Для этого сначала посмотрим в каком виде представлена дата в заполненных значениях столбца `churn_date`"
   ]
  },
  {
   "cell_type": "code",
   "execution_count": 4,
   "metadata": {
    "scrolled": true
   },
   "outputs": [
    {
     "data": {
      "text/html": [
       "<div>\n",
       "<style scoped>\n",
       "    .dataframe tbody tr th:only-of-type {\n",
       "        vertical-align: middle;\n",
       "    }\n",
       "\n",
       "    .dataframe tbody tr th {\n",
       "        vertical-align: top;\n",
       "    }\n",
       "\n",
       "    .dataframe thead th {\n",
       "        text-align: right;\n",
       "    }\n",
       "</style>\n",
       "<table border=\"1\" class=\"dataframe\">\n",
       "  <thead>\n",
       "    <tr style=\"text-align: right;\">\n",
       "      <th></th>\n",
       "      <th>user_id</th>\n",
       "      <th>age</th>\n",
       "      <th>churn_date</th>\n",
       "      <th>city</th>\n",
       "      <th>first_name</th>\n",
       "      <th>last_name</th>\n",
       "      <th>reg_date</th>\n",
       "      <th>tariff</th>\n",
       "    </tr>\n",
       "  </thead>\n",
       "  <tbody>\n",
       "    <tr>\n",
       "      <th>19</th>\n",
       "      <td>1019</td>\n",
       "      <td>63</td>\n",
       "      <td>2018-10-05</td>\n",
       "      <td>Томск</td>\n",
       "      <td>Игнатий</td>\n",
       "      <td>Круглов</td>\n",
       "      <td>2018-05-16</td>\n",
       "      <td>ultra</td>\n",
       "    </tr>\n",
       "    <tr>\n",
       "      <th>20</th>\n",
       "      <td>1020</td>\n",
       "      <td>59</td>\n",
       "      <td>2018-12-18</td>\n",
       "      <td>Чита</td>\n",
       "      <td>Тала</td>\n",
       "      <td>Костина</td>\n",
       "      <td>2018-10-22</td>\n",
       "      <td>smart</td>\n",
       "    </tr>\n",
       "    <tr>\n",
       "      <th>34</th>\n",
       "      <td>1034</td>\n",
       "      <td>66</td>\n",
       "      <td>2018-11-21</td>\n",
       "      <td>Вологда</td>\n",
       "      <td>Святослав</td>\n",
       "      <td>Бондарев</td>\n",
       "      <td>2018-08-26</td>\n",
       "      <td>smart</td>\n",
       "    </tr>\n",
       "    <tr>\n",
       "      <th>50</th>\n",
       "      <td>1050</td>\n",
       "      <td>44</td>\n",
       "      <td>2018-10-03</td>\n",
       "      <td>Тюмень</td>\n",
       "      <td>Рузана</td>\n",
       "      <td>Аничкина</td>\n",
       "      <td>2018-06-16</td>\n",
       "      <td>ultra</td>\n",
       "    </tr>\n",
       "    <tr>\n",
       "      <th>51</th>\n",
       "      <td>1051</td>\n",
       "      <td>37</td>\n",
       "      <td>2018-10-14</td>\n",
       "      <td>Москва</td>\n",
       "      <td>Кристина</td>\n",
       "      <td>Сомова</td>\n",
       "      <td>2018-05-28</td>\n",
       "      <td>smart</td>\n",
       "    </tr>\n",
       "  </tbody>\n",
       "</table>\n",
       "</div>"
      ],
      "text/plain": [
       "    user_id  age  churn_date     city first_name last_name    reg_date tariff\n",
       "19     1019   63  2018-10-05    Томск    Игнатий   Круглов  2018-05-16  ultra\n",
       "20     1020   59  2018-12-18     Чита       Тала   Костина  2018-10-22  smart\n",
       "34     1034   66  2018-11-21  Вологда  Святослав  Бондарев  2018-08-26  smart\n",
       "50     1050   44  2018-10-03   Тюмень     Рузана  Аничкина  2018-06-16  ultra\n",
       "51     1051   37  2018-10-14   Москва   Кристина    Сомова  2018-05-28  smart"
      ]
     },
     "execution_count": 4,
     "metadata": {},
     "output_type": "execute_result"
    }
   ],
   "source": [
    "data_users.loc[~data_users['churn_date'].isna()].head()"
   ]
  },
  {
   "cell_type": "markdown",
   "metadata": {},
   "source": [
    "Представление даты в столбцах `churn_date` и `reg_date` одинаково. приведем их к формату datetime"
   ]
  },
  {
   "cell_type": "code",
   "execution_count": 5,
   "metadata": {
    "scrolled": false
   },
   "outputs": [
    {
     "name": "stdout",
     "output_type": "stream",
     "text": [
      "19   2018-10-05\n",
      "20   2018-12-18\n",
      "34   2018-11-21\n",
      "50   2018-10-03\n",
      "51   2018-10-14\n",
      "Name: churn_date, dtype: datetime64[ns]\n",
      "0   2018-05-25\n",
      "1   2018-11-01\n",
      "2   2018-06-17\n",
      "3   2018-08-17\n",
      "4   2018-05-14\n",
      "Name: reg_date, dtype: datetime64[ns]\n"
     ]
    }
   ],
   "source": [
    "DATE_FORMAT = '%Y-%m-%d'\n",
    "data_users['churn_date'] = pd.to_datetime(data_users['churn_date'], format=DATE_FORMAT)\n",
    "data_users['reg_date'] = pd.to_datetime(data_users['reg_date'], format=DATE_FORMAT)\n",
    "\n",
    "print(data_users.loc[~data_users['churn_date'].isna(), 'churn_date'].head())\n",
    "print(data_users['reg_date'].head())\n"
   ]
  },
  {
   "cell_type": "markdown",
   "metadata": {},
   "source": [
    "Проверим на наличие скрытых дубликатов в названиях городов."
   ]
  },
  {
   "cell_type": "code",
   "execution_count": 6,
   "metadata": {
    "scrolled": true
   },
   "outputs": [
    {
     "data": {
      "text/plain": [
       "array(['Архангельск', 'Астрахань', 'Балашиха', 'Барнаул', 'Белгород',\n",
       "       'Брянск', 'Владивосток', 'Владикавказ', 'Владимир', 'Волгоград',\n",
       "       'Волжский', 'Вологда', 'Воронеж', 'Грозный', 'Екатеринбург',\n",
       "       'Иваново', 'Ижевск', 'Иркутск', 'Казань', 'Калининград', 'Калуга',\n",
       "       'Кемерово', 'Киров', 'Кострома', 'Краснодар', 'Красноярск',\n",
       "       'Курган', 'Курск', 'Липецк', 'Магнитогорск', 'Махачкала', 'Москва',\n",
       "       'Мурманск', 'Набережные Челны', 'Нижневартовск', 'Нижний Новгород',\n",
       "       'Нижний Тагил', 'Новокузнецк', 'Новороссийск', 'Новосибирск',\n",
       "       'Омск', 'Оренбург', 'Орёл', 'Пенза', 'Пермь', 'Петрозаводск',\n",
       "       'Подольск', 'Ростов-на-Дону', 'Рязань', 'Самара',\n",
       "       'Санкт-Петербург', 'Саранск', 'Саратов', 'Севастополь', 'Смоленск',\n",
       "       'Сочи', 'Ставрополь', 'Стерлитамак', 'Сургут', 'Тамбов', 'Тверь',\n",
       "       'Тольятти', 'Томск', 'Тула', 'Тюмень', 'Улан-Удэ', 'Ульяновск',\n",
       "       'Уфа', 'Хабаровск', 'Химки', 'Чебоксары', 'Челябинск', 'Череповец',\n",
       "       'Чита', 'Якутск', 'Ярославль'], dtype=object)"
      ]
     },
     "execution_count": 6,
     "metadata": {},
     "output_type": "execute_result"
    }
   ],
   "source": [
    "data_users['city'].sort_values().unique()"
   ]
  },
  {
   "cell_type": "markdown",
   "metadata": {},
   "source": [
    "Скрытых дубликатов в названиях городов нет."
   ]
  },
  {
   "cell_type": "markdown",
   "metadata": {},
   "source": [
    "Проверим на наличие дубликатов"
   ]
  },
  {
   "cell_type": "code",
   "execution_count": 7,
   "metadata": {},
   "outputs": [
    {
     "data": {
      "text/plain": [
       "0"
      ]
     },
     "execution_count": 7,
     "metadata": {},
     "output_type": "execute_result"
    }
   ],
   "source": [
    "data_users.duplicated().sum()"
   ]
  },
  {
   "cell_type": "markdown",
   "metadata": {},
   "source": [
    "В таблице нет повторяющихся пользователей\n",
    "\n",
    "Применим метод describe, чтобы посмотреть нет ли аномалий в данных о возрасте."
   ]
  },
  {
   "cell_type": "code",
   "execution_count": 8,
   "metadata": {
    "scrolled": false
   },
   "outputs": [
    {
     "data": {
      "text/html": [
       "<div>\n",
       "<style scoped>\n",
       "    .dataframe tbody tr th:only-of-type {\n",
       "        vertical-align: middle;\n",
       "    }\n",
       "\n",
       "    .dataframe tbody tr th {\n",
       "        vertical-align: top;\n",
       "    }\n",
       "\n",
       "    .dataframe thead th {\n",
       "        text-align: right;\n",
       "    }\n",
       "</style>\n",
       "<table border=\"1\" class=\"dataframe\">\n",
       "  <thead>\n",
       "    <tr style=\"text-align: right;\">\n",
       "      <th></th>\n",
       "      <th>count</th>\n",
       "      <th>mean</th>\n",
       "      <th>std</th>\n",
       "      <th>min</th>\n",
       "      <th>25%</th>\n",
       "      <th>50%</th>\n",
       "      <th>75%</th>\n",
       "      <th>max</th>\n",
       "    </tr>\n",
       "  </thead>\n",
       "  <tbody>\n",
       "    <tr>\n",
       "      <th>user_id</th>\n",
       "      <td>500.0</td>\n",
       "      <td>1249.500</td>\n",
       "      <td>144.481833</td>\n",
       "      <td>1000.0</td>\n",
       "      <td>1124.75</td>\n",
       "      <td>1249.5</td>\n",
       "      <td>1374.25</td>\n",
       "      <td>1499.0</td>\n",
       "    </tr>\n",
       "    <tr>\n",
       "      <th>age</th>\n",
       "      <td>500.0</td>\n",
       "      <td>46.588</td>\n",
       "      <td>16.667630</td>\n",
       "      <td>18.0</td>\n",
       "      <td>32.00</td>\n",
       "      <td>46.0</td>\n",
       "      <td>62.00</td>\n",
       "      <td>75.0</td>\n",
       "    </tr>\n",
       "  </tbody>\n",
       "</table>\n",
       "</div>"
      ],
      "text/plain": [
       "         count      mean         std     min      25%     50%      75%     max\n",
       "user_id  500.0  1249.500  144.481833  1000.0  1124.75  1249.5  1374.25  1499.0\n",
       "age      500.0    46.588   16.667630    18.0    32.00    46.0    62.00    75.0"
      ]
     },
     "execution_count": 8,
     "metadata": {},
     "output_type": "execute_result"
    }
   ],
   "source": [
    "data_users.describe().T"
   ]
  },
  {
   "cell_type": "markdown",
   "metadata": {},
   "source": [
    "Самый младший возраст пользователя в выборке 18 лет, самый старший 75 лет. Аномальных значений нет. Средний возраст - 46,5 лет - практический совпадает с медианным показателем 46 лет."
   ]
  },
  {
   "cell_type": "markdown",
   "metadata": {},
   "source": [
    "### Данные о тарифах"
   ]
  },
  {
   "cell_type": "markdown",
   "metadata": {},
   "source": [
    "Обратимся к таблице с данными о тарифах."
   ]
  },
  {
   "cell_type": "code",
   "execution_count": 9,
   "metadata": {
    "scrolled": false
   },
   "outputs": [
    {
     "data": {
      "text/html": [
       "<div>\n",
       "<style scoped>\n",
       "    .dataframe tbody tr th:only-of-type {\n",
       "        vertical-align: middle;\n",
       "    }\n",
       "\n",
       "    .dataframe tbody tr th {\n",
       "        vertical-align: top;\n",
       "    }\n",
       "\n",
       "    .dataframe thead th {\n",
       "        text-align: right;\n",
       "    }\n",
       "</style>\n",
       "<table border=\"1\" class=\"dataframe\">\n",
       "  <thead>\n",
       "    <tr style=\"text-align: right;\">\n",
       "      <th></th>\n",
       "      <th>messages_included</th>\n",
       "      <th>mb_per_month_included</th>\n",
       "      <th>minutes_included</th>\n",
       "      <th>rub_monthly_fee</th>\n",
       "      <th>rub_per_gb</th>\n",
       "      <th>rub_per_message</th>\n",
       "      <th>rub_per_minute</th>\n",
       "      <th>tariff_name</th>\n",
       "    </tr>\n",
       "  </thead>\n",
       "  <tbody>\n",
       "    <tr>\n",
       "      <th>0</th>\n",
       "      <td>50</td>\n",
       "      <td>15360</td>\n",
       "      <td>500</td>\n",
       "      <td>550</td>\n",
       "      <td>200</td>\n",
       "      <td>3</td>\n",
       "      <td>3</td>\n",
       "      <td>smart</td>\n",
       "    </tr>\n",
       "    <tr>\n",
       "      <th>1</th>\n",
       "      <td>1000</td>\n",
       "      <td>30720</td>\n",
       "      <td>3000</td>\n",
       "      <td>1950</td>\n",
       "      <td>150</td>\n",
       "      <td>1</td>\n",
       "      <td>1</td>\n",
       "      <td>ultra</td>\n",
       "    </tr>\n",
       "  </tbody>\n",
       "</table>\n",
       "</div>"
      ],
      "text/plain": [
       "   messages_included  mb_per_month_included  minutes_included  \\\n",
       "0                 50                  15360               500   \n",
       "1               1000                  30720              3000   \n",
       "\n",
       "   rub_monthly_fee  rub_per_gb  rub_per_message  rub_per_minute tariff_name  \n",
       "0              550         200                3               3       smart  \n",
       "1             1950         150                1               1       ultra  "
      ]
     },
     "metadata": {},
     "output_type": "display_data"
    },
    {
     "name": "stdout",
     "output_type": "stream",
     "text": [
      "<class 'pandas.core.frame.DataFrame'>\n",
      "RangeIndex: 2 entries, 0 to 1\n",
      "Data columns (total 8 columns):\n",
      " #   Column                 Non-Null Count  Dtype \n",
      "---  ------                 --------------  ----- \n",
      " 0   messages_included      2 non-null      int64 \n",
      " 1   mb_per_month_included  2 non-null      int64 \n",
      " 2   minutes_included       2 non-null      int64 \n",
      " 3   rub_monthly_fee        2 non-null      int64 \n",
      " 4   rub_per_gb             2 non-null      int64 \n",
      " 5   rub_per_message        2 non-null      int64 \n",
      " 6   rub_per_minute         2 non-null      int64 \n",
      " 7   tariff_name            2 non-null      object\n",
      "dtypes: int64(7), object(1)\n",
      "memory usage: 256.0+ bytes\n"
     ]
    }
   ],
   "source": [
    "display(data_tariffs)\n",
    "data_tariffs.info()"
   ]
  },
  {
   "cell_type": "markdown",
   "metadata": {},
   "source": [
    "Таблица содержит информацию о тарифах, импользуемых пользователями - сколько минут, интернета, сообщений входит в тарифный пакет, а также стоимость этих услуг сверх лимита. Все данные, кроме названия тарифа записаны в целочисленном формате. Стоит обратить внимание на то, что информация о количестве интернет-трафика, включенного в тариф записана в мегабайтах, а стоимость трафика сверх пакета указана за гигабайт. Для дальнейших расчетов переведем мегабайты в гигабайты. "
   ]
  },
  {
   "cell_type": "code",
   "execution_count": 10,
   "metadata": {},
   "outputs": [
    {
     "data": {
      "text/html": [
       "<div>\n",
       "<style scoped>\n",
       "    .dataframe tbody tr th:only-of-type {\n",
       "        vertical-align: middle;\n",
       "    }\n",
       "\n",
       "    .dataframe tbody tr th {\n",
       "        vertical-align: top;\n",
       "    }\n",
       "\n",
       "    .dataframe thead th {\n",
       "        text-align: right;\n",
       "    }\n",
       "</style>\n",
       "<table border=\"1\" class=\"dataframe\">\n",
       "  <thead>\n",
       "    <tr style=\"text-align: right;\">\n",
       "      <th></th>\n",
       "      <th>messages_included</th>\n",
       "      <th>gb_per_month_included</th>\n",
       "      <th>minutes_included</th>\n",
       "      <th>rub_monthly_fee</th>\n",
       "      <th>rub_per_gb</th>\n",
       "      <th>rub_per_message</th>\n",
       "      <th>rub_per_minute</th>\n",
       "      <th>tariff</th>\n",
       "    </tr>\n",
       "  </thead>\n",
       "  <tbody>\n",
       "    <tr>\n",
       "      <th>0</th>\n",
       "      <td>50</td>\n",
       "      <td>15</td>\n",
       "      <td>500</td>\n",
       "      <td>550</td>\n",
       "      <td>200</td>\n",
       "      <td>3</td>\n",
       "      <td>3</td>\n",
       "      <td>smart</td>\n",
       "    </tr>\n",
       "    <tr>\n",
       "      <th>1</th>\n",
       "      <td>1000</td>\n",
       "      <td>30</td>\n",
       "      <td>3000</td>\n",
       "      <td>1950</td>\n",
       "      <td>150</td>\n",
       "      <td>1</td>\n",
       "      <td>1</td>\n",
       "      <td>ultra</td>\n",
       "    </tr>\n",
       "  </tbody>\n",
       "</table>\n",
       "</div>"
      ],
      "text/plain": [
       "   messages_included  gb_per_month_included  minutes_included  \\\n",
       "0                 50                     15               500   \n",
       "1               1000                     30              3000   \n",
       "\n",
       "   rub_monthly_fee  rub_per_gb  rub_per_message  rub_per_minute tariff  \n",
       "0              550         200                3               3  smart  \n",
       "1             1950         150                1               1  ultra  "
      ]
     },
     "execution_count": 10,
     "metadata": {},
     "output_type": "execute_result"
    }
   ],
   "source": [
    "data_tariffs['mb_per_month_included'] =  (data_tariffs['mb_per_month_included'] / 1024).astype('int')\n",
    "data_tariffs.rename(columns={'mb_per_month_included': 'gb_per_month_included', 'tariff_name': 'tariff'}, inplace=True)\n",
    "data_tariffs"
   ]
  },
  {
   "cell_type": "markdown",
   "metadata": {},
   "source": [
    "### Данные о звонках."
   ]
  },
  {
   "cell_type": "markdown",
   "metadata": {},
   "source": [
    "Обратимся к таблице со звонками пользователей."
   ]
  },
  {
   "cell_type": "code",
   "execution_count": 11,
   "metadata": {
    "scrolled": false
   },
   "outputs": [
    {
     "data": {
      "text/html": [
       "<div>\n",
       "<style scoped>\n",
       "    .dataframe tbody tr th:only-of-type {\n",
       "        vertical-align: middle;\n",
       "    }\n",
       "\n",
       "    .dataframe tbody tr th {\n",
       "        vertical-align: top;\n",
       "    }\n",
       "\n",
       "    .dataframe thead th {\n",
       "        text-align: right;\n",
       "    }\n",
       "</style>\n",
       "<table border=\"1\" class=\"dataframe\">\n",
       "  <thead>\n",
       "    <tr style=\"text-align: right;\">\n",
       "      <th></th>\n",
       "      <th>id</th>\n",
       "      <th>call_date</th>\n",
       "      <th>duration</th>\n",
       "      <th>user_id</th>\n",
       "    </tr>\n",
       "  </thead>\n",
       "  <tbody>\n",
       "    <tr>\n",
       "      <th>0</th>\n",
       "      <td>1000_0</td>\n",
       "      <td>2018-07-25</td>\n",
       "      <td>0.00</td>\n",
       "      <td>1000</td>\n",
       "    </tr>\n",
       "    <tr>\n",
       "      <th>1</th>\n",
       "      <td>1000_1</td>\n",
       "      <td>2018-08-17</td>\n",
       "      <td>0.00</td>\n",
       "      <td>1000</td>\n",
       "    </tr>\n",
       "    <tr>\n",
       "      <th>2</th>\n",
       "      <td>1000_2</td>\n",
       "      <td>2018-06-11</td>\n",
       "      <td>2.85</td>\n",
       "      <td>1000</td>\n",
       "    </tr>\n",
       "    <tr>\n",
       "      <th>3</th>\n",
       "      <td>1000_3</td>\n",
       "      <td>2018-09-21</td>\n",
       "      <td>13.80</td>\n",
       "      <td>1000</td>\n",
       "    </tr>\n",
       "    <tr>\n",
       "      <th>4</th>\n",
       "      <td>1000_4</td>\n",
       "      <td>2018-12-15</td>\n",
       "      <td>5.18</td>\n",
       "      <td>1000</td>\n",
       "    </tr>\n",
       "    <tr>\n",
       "      <th>5</th>\n",
       "      <td>1000_5</td>\n",
       "      <td>2018-11-02</td>\n",
       "      <td>0.00</td>\n",
       "      <td>1000</td>\n",
       "    </tr>\n",
       "    <tr>\n",
       "      <th>6</th>\n",
       "      <td>1000_6</td>\n",
       "      <td>2018-10-18</td>\n",
       "      <td>0.00</td>\n",
       "      <td>1000</td>\n",
       "    </tr>\n",
       "    <tr>\n",
       "      <th>7</th>\n",
       "      <td>1000_7</td>\n",
       "      <td>2018-08-22</td>\n",
       "      <td>18.31</td>\n",
       "      <td>1000</td>\n",
       "    </tr>\n",
       "    <tr>\n",
       "      <th>8</th>\n",
       "      <td>1000_8</td>\n",
       "      <td>2018-09-15</td>\n",
       "      <td>18.44</td>\n",
       "      <td>1000</td>\n",
       "    </tr>\n",
       "    <tr>\n",
       "      <th>9</th>\n",
       "      <td>1000_9</td>\n",
       "      <td>2018-08-15</td>\n",
       "      <td>0.00</td>\n",
       "      <td>1000</td>\n",
       "    </tr>\n",
       "  </tbody>\n",
       "</table>\n",
       "</div>"
      ],
      "text/plain": [
       "       id   call_date  duration  user_id\n",
       "0  1000_0  2018-07-25      0.00     1000\n",
       "1  1000_1  2018-08-17      0.00     1000\n",
       "2  1000_2  2018-06-11      2.85     1000\n",
       "3  1000_3  2018-09-21     13.80     1000\n",
       "4  1000_4  2018-12-15      5.18     1000\n",
       "5  1000_5  2018-11-02      0.00     1000\n",
       "6  1000_6  2018-10-18      0.00     1000\n",
       "7  1000_7  2018-08-22     18.31     1000\n",
       "8  1000_8  2018-09-15     18.44     1000\n",
       "9  1000_9  2018-08-15      0.00     1000"
      ]
     },
     "metadata": {},
     "output_type": "display_data"
    },
    {
     "name": "stdout",
     "output_type": "stream",
     "text": [
      "<class 'pandas.core.frame.DataFrame'>\n",
      "RangeIndex: 202607 entries, 0 to 202606\n",
      "Data columns (total 4 columns):\n",
      " #   Column     Non-Null Count   Dtype  \n",
      "---  ------     --------------   -----  \n",
      " 0   id         202607 non-null  object \n",
      " 1   call_date  202607 non-null  object \n",
      " 2   duration   202607 non-null  float64\n",
      " 3   user_id    202607 non-null  int64  \n",
      "dtypes: float64(1), int64(1), object(2)\n",
      "memory usage: 6.2+ MB\n"
     ]
    }
   ],
   "source": [
    "display(data_calls.head(10))\n",
    "data_calls.info()"
   ]
  },
  {
   "cell_type": "markdown",
   "metadata": {},
   "source": [
    "Таблица содержит информацию о совершенных пользователями звонках: уникальный номер каждого звонка, уникальный номер пользователя, сделавшего звонок, дата звонка, длительность звонка в минутах. В выведенных на экран первых 10 строках таблицы имеются звонки с нулевой продолжительностью. Это пропущенные звонки, их удалять не нужно.\n",
    "\n",
    "\n",
    "Как видно дата звонка записана в строковом формате. Преобразуем ее в формат datetime."
   ]
  },
  {
   "cell_type": "code",
   "execution_count": 12,
   "metadata": {},
   "outputs": [
    {
     "data": {
      "text/plain": [
       "0   2018-07-25\n",
       "1   2018-08-17\n",
       "2   2018-06-11\n",
       "3   2018-09-21\n",
       "4   2018-12-15\n",
       "Name: call_date, dtype: datetime64[ns]"
      ]
     },
     "execution_count": 12,
     "metadata": {},
     "output_type": "execute_result"
    }
   ],
   "source": [
    "data_calls['call_date'] = pd.to_datetime(data_calls['call_date'], format=DATE_FORMAT)\n",
    "data_calls['call_date'].head()"
   ]
  },
  {
   "cell_type": "markdown",
   "metadata": {},
   "source": [
    "Как известно из вводных данных для анализа, каждый звонок в сети \"Мегалайн\" округляется отдельно, и даже, если пользователь проговорил всего секунду, засчитывается целая минута. Поэтому округлим время звонков до целых минут в большую сторону и приведем значения в столбце к целочисленному формату."
   ]
  },
  {
   "cell_type": "code",
   "execution_count": 13,
   "metadata": {},
   "outputs": [
    {
     "data": {
      "text/html": [
       "<div>\n",
       "<style scoped>\n",
       "    .dataframe tbody tr th:only-of-type {\n",
       "        vertical-align: middle;\n",
       "    }\n",
       "\n",
       "    .dataframe tbody tr th {\n",
       "        vertical-align: top;\n",
       "    }\n",
       "\n",
       "    .dataframe thead th {\n",
       "        text-align: right;\n",
       "    }\n",
       "</style>\n",
       "<table border=\"1\" class=\"dataframe\">\n",
       "  <thead>\n",
       "    <tr style=\"text-align: right;\">\n",
       "      <th></th>\n",
       "      <th>id</th>\n",
       "      <th>call_date</th>\n",
       "      <th>duration</th>\n",
       "      <th>user_id</th>\n",
       "    </tr>\n",
       "  </thead>\n",
       "  <tbody>\n",
       "    <tr>\n",
       "      <th>0</th>\n",
       "      <td>1000_0</td>\n",
       "      <td>2018-07-25</td>\n",
       "      <td>0</td>\n",
       "      <td>1000</td>\n",
       "    </tr>\n",
       "    <tr>\n",
       "      <th>1</th>\n",
       "      <td>1000_1</td>\n",
       "      <td>2018-08-17</td>\n",
       "      <td>0</td>\n",
       "      <td>1000</td>\n",
       "    </tr>\n",
       "    <tr>\n",
       "      <th>2</th>\n",
       "      <td>1000_2</td>\n",
       "      <td>2018-06-11</td>\n",
       "      <td>3</td>\n",
       "      <td>1000</td>\n",
       "    </tr>\n",
       "    <tr>\n",
       "      <th>3</th>\n",
       "      <td>1000_3</td>\n",
       "      <td>2018-09-21</td>\n",
       "      <td>14</td>\n",
       "      <td>1000</td>\n",
       "    </tr>\n",
       "    <tr>\n",
       "      <th>4</th>\n",
       "      <td>1000_4</td>\n",
       "      <td>2018-12-15</td>\n",
       "      <td>6</td>\n",
       "      <td>1000</td>\n",
       "    </tr>\n",
       "  </tbody>\n",
       "</table>\n",
       "</div>"
      ],
      "text/plain": [
       "       id  call_date  duration  user_id\n",
       "0  1000_0 2018-07-25         0     1000\n",
       "1  1000_1 2018-08-17         0     1000\n",
       "2  1000_2 2018-06-11         3     1000\n",
       "3  1000_3 2018-09-21        14     1000\n",
       "4  1000_4 2018-12-15         6     1000"
      ]
     },
     "execution_count": 13,
     "metadata": {},
     "output_type": "execute_result"
    }
   ],
   "source": [
    "data_calls['duration'] = data_calls['duration'].apply(np.ceil).astype('int')\n",
    "data_calls.head()"
   ]
  },
  {
   "cell_type": "markdown",
   "metadata": {},
   "source": [
    "Применим метод describe."
   ]
  },
  {
   "cell_type": "code",
   "execution_count": 14,
   "metadata": {
    "scrolled": true
   },
   "outputs": [
    {
     "data": {
      "text/html": [
       "<div>\n",
       "<style scoped>\n",
       "    .dataframe tbody tr th:only-of-type {\n",
       "        vertical-align: middle;\n",
       "    }\n",
       "\n",
       "    .dataframe tbody tr th {\n",
       "        vertical-align: top;\n",
       "    }\n",
       "\n",
       "    .dataframe thead th {\n",
       "        text-align: right;\n",
       "    }\n",
       "</style>\n",
       "<table border=\"1\" class=\"dataframe\">\n",
       "  <thead>\n",
       "    <tr style=\"text-align: right;\">\n",
       "      <th></th>\n",
       "      <th>count</th>\n",
       "      <th>mean</th>\n",
       "      <th>std</th>\n",
       "      <th>min</th>\n",
       "      <th>25%</th>\n",
       "      <th>50%</th>\n",
       "      <th>75%</th>\n",
       "      <th>max</th>\n",
       "    </tr>\n",
       "  </thead>\n",
       "  <tbody>\n",
       "    <tr>\n",
       "      <th>duration</th>\n",
       "      <td>202607.0</td>\n",
       "      <td>7.158198</td>\n",
       "      <td>5.959173</td>\n",
       "      <td>0.0</td>\n",
       "      <td>2.0</td>\n",
       "      <td>6.0</td>\n",
       "      <td>11.0</td>\n",
       "      <td>38.0</td>\n",
       "    </tr>\n",
       "    <tr>\n",
       "      <th>user_id</th>\n",
       "      <td>202607.0</td>\n",
       "      <td>1253.940619</td>\n",
       "      <td>144.722751</td>\n",
       "      <td>1000.0</td>\n",
       "      <td>1126.0</td>\n",
       "      <td>1260.0</td>\n",
       "      <td>1379.0</td>\n",
       "      <td>1499.0</td>\n",
       "    </tr>\n",
       "  </tbody>\n",
       "</table>\n",
       "</div>"
      ],
      "text/plain": [
       "             count         mean         std     min     25%     50%     75%  \\\n",
       "duration  202607.0     7.158198    5.959173     0.0     2.0     6.0    11.0   \n",
       "user_id   202607.0  1253.940619  144.722751  1000.0  1126.0  1260.0  1379.0   \n",
       "\n",
       "             max  \n",
       "duration    38.0  \n",
       "user_id   1499.0  "
      ]
     },
     "execution_count": 14,
     "metadata": {},
     "output_type": "execute_result"
    }
   ],
   "source": [
    "data_calls.describe().T"
   ]
  },
  {
   "cell_type": "markdown",
   "metadata": {},
   "source": [
    "Максимальная продолжительность звонка 38 минут, средняя 7 минут. Аномальных значений нет.\n",
    "Добавим столбец с месяцем звонков"
   ]
  },
  {
   "cell_type": "code",
   "execution_count": 15,
   "metadata": {},
   "outputs": [
    {
     "data": {
      "text/html": [
       "<div>\n",
       "<style scoped>\n",
       "    .dataframe tbody tr th:only-of-type {\n",
       "        vertical-align: middle;\n",
       "    }\n",
       "\n",
       "    .dataframe tbody tr th {\n",
       "        vertical-align: top;\n",
       "    }\n",
       "\n",
       "    .dataframe thead th {\n",
       "        text-align: right;\n",
       "    }\n",
       "</style>\n",
       "<table border=\"1\" class=\"dataframe\">\n",
       "  <thead>\n",
       "    <tr style=\"text-align: right;\">\n",
       "      <th></th>\n",
       "      <th>id</th>\n",
       "      <th>call_date</th>\n",
       "      <th>duration</th>\n",
       "      <th>user_id</th>\n",
       "      <th>month</th>\n",
       "    </tr>\n",
       "  </thead>\n",
       "  <tbody>\n",
       "    <tr>\n",
       "      <th>0</th>\n",
       "      <td>1000_0</td>\n",
       "      <td>2018-07-25</td>\n",
       "      <td>0</td>\n",
       "      <td>1000</td>\n",
       "      <td>7</td>\n",
       "    </tr>\n",
       "    <tr>\n",
       "      <th>1</th>\n",
       "      <td>1000_1</td>\n",
       "      <td>2018-08-17</td>\n",
       "      <td>0</td>\n",
       "      <td>1000</td>\n",
       "      <td>8</td>\n",
       "    </tr>\n",
       "    <tr>\n",
       "      <th>2</th>\n",
       "      <td>1000_2</td>\n",
       "      <td>2018-06-11</td>\n",
       "      <td>3</td>\n",
       "      <td>1000</td>\n",
       "      <td>6</td>\n",
       "    </tr>\n",
       "    <tr>\n",
       "      <th>3</th>\n",
       "      <td>1000_3</td>\n",
       "      <td>2018-09-21</td>\n",
       "      <td>14</td>\n",
       "      <td>1000</td>\n",
       "      <td>9</td>\n",
       "    </tr>\n",
       "    <tr>\n",
       "      <th>4</th>\n",
       "      <td>1000_4</td>\n",
       "      <td>2018-12-15</td>\n",
       "      <td>6</td>\n",
       "      <td>1000</td>\n",
       "      <td>12</td>\n",
       "    </tr>\n",
       "  </tbody>\n",
       "</table>\n",
       "</div>"
      ],
      "text/plain": [
       "       id  call_date  duration  user_id  month\n",
       "0  1000_0 2018-07-25         0     1000      7\n",
       "1  1000_1 2018-08-17         0     1000      8\n",
       "2  1000_2 2018-06-11         3     1000      6\n",
       "3  1000_3 2018-09-21        14     1000      9\n",
       "4  1000_4 2018-12-15         6     1000     12"
      ]
     },
     "execution_count": 15,
     "metadata": {},
     "output_type": "execute_result"
    }
   ],
   "source": [
    "data_calls['month']= data_calls['call_date'].dt.month\n",
    "data_calls.head()"
   ]
  },
  {
   "cell_type": "markdown",
   "metadata": {},
   "source": [
    "### Данные о сообщениях."
   ]
  },
  {
   "cell_type": "markdown",
   "metadata": {},
   "source": [
    "Обратимся к таблице с данными о сообщениях, отправленных пользователями в 2018 г."
   ]
  },
  {
   "cell_type": "code",
   "execution_count": 16,
   "metadata": {
    "scrolled": false
   },
   "outputs": [
    {
     "data": {
      "text/html": [
       "<div>\n",
       "<style scoped>\n",
       "    .dataframe tbody tr th:only-of-type {\n",
       "        vertical-align: middle;\n",
       "    }\n",
       "\n",
       "    .dataframe tbody tr th {\n",
       "        vertical-align: top;\n",
       "    }\n",
       "\n",
       "    .dataframe thead th {\n",
       "        text-align: right;\n",
       "    }\n",
       "</style>\n",
       "<table border=\"1\" class=\"dataframe\">\n",
       "  <thead>\n",
       "    <tr style=\"text-align: right;\">\n",
       "      <th></th>\n",
       "      <th>id</th>\n",
       "      <th>message_date</th>\n",
       "      <th>user_id</th>\n",
       "    </tr>\n",
       "  </thead>\n",
       "  <tbody>\n",
       "    <tr>\n",
       "      <th>0</th>\n",
       "      <td>1000_0</td>\n",
       "      <td>2018-06-27</td>\n",
       "      <td>1000</td>\n",
       "    </tr>\n",
       "    <tr>\n",
       "      <th>1</th>\n",
       "      <td>1000_1</td>\n",
       "      <td>2018-10-08</td>\n",
       "      <td>1000</td>\n",
       "    </tr>\n",
       "    <tr>\n",
       "      <th>2</th>\n",
       "      <td>1000_2</td>\n",
       "      <td>2018-08-04</td>\n",
       "      <td>1000</td>\n",
       "    </tr>\n",
       "    <tr>\n",
       "      <th>3</th>\n",
       "      <td>1000_3</td>\n",
       "      <td>2018-06-16</td>\n",
       "      <td>1000</td>\n",
       "    </tr>\n",
       "    <tr>\n",
       "      <th>4</th>\n",
       "      <td>1000_4</td>\n",
       "      <td>2018-12-05</td>\n",
       "      <td>1000</td>\n",
       "    </tr>\n",
       "    <tr>\n",
       "      <th>5</th>\n",
       "      <td>1000_5</td>\n",
       "      <td>2018-06-20</td>\n",
       "      <td>1000</td>\n",
       "    </tr>\n",
       "    <tr>\n",
       "      <th>6</th>\n",
       "      <td>1000_6</td>\n",
       "      <td>2018-11-19</td>\n",
       "      <td>1000</td>\n",
       "    </tr>\n",
       "    <tr>\n",
       "      <th>7</th>\n",
       "      <td>1000_7</td>\n",
       "      <td>2018-10-29</td>\n",
       "      <td>1000</td>\n",
       "    </tr>\n",
       "    <tr>\n",
       "      <th>8</th>\n",
       "      <td>1000_8</td>\n",
       "      <td>2018-06-25</td>\n",
       "      <td>1000</td>\n",
       "    </tr>\n",
       "    <tr>\n",
       "      <th>9</th>\n",
       "      <td>1000_9</td>\n",
       "      <td>2018-12-18</td>\n",
       "      <td>1000</td>\n",
       "    </tr>\n",
       "  </tbody>\n",
       "</table>\n",
       "</div>"
      ],
      "text/plain": [
       "       id message_date  user_id\n",
       "0  1000_0   2018-06-27     1000\n",
       "1  1000_1   2018-10-08     1000\n",
       "2  1000_2   2018-08-04     1000\n",
       "3  1000_3   2018-06-16     1000\n",
       "4  1000_4   2018-12-05     1000\n",
       "5  1000_5   2018-06-20     1000\n",
       "6  1000_6   2018-11-19     1000\n",
       "7  1000_7   2018-10-29     1000\n",
       "8  1000_8   2018-06-25     1000\n",
       "9  1000_9   2018-12-18     1000"
      ]
     },
     "metadata": {},
     "output_type": "display_data"
    },
    {
     "name": "stdout",
     "output_type": "stream",
     "text": [
      "<class 'pandas.core.frame.DataFrame'>\n",
      "RangeIndex: 123036 entries, 0 to 123035\n",
      "Data columns (total 3 columns):\n",
      " #   Column        Non-Null Count   Dtype \n",
      "---  ------        --------------   ----- \n",
      " 0   id            123036 non-null  object\n",
      " 1   message_date  123036 non-null  object\n",
      " 2   user_id       123036 non-null  int64 \n",
      "dtypes: int64(1), object(2)\n",
      "memory usage: 2.8+ MB\n"
     ]
    }
   ],
   "source": [
    "display(data_messages.head(10))\n",
    "data_messages.info()"
   ]
  },
  {
   "cell_type": "markdown",
   "metadata": {},
   "source": [
    "Таблица содержит информацию о дате смс-сообщений, отправленных пользователями, а также уникальный номер каждого сообщения и каждого пользователя.\n",
    "\n",
    "Приведем дату отправки сообщения к формату datetime"
   ]
  },
  {
   "cell_type": "code",
   "execution_count": 17,
   "metadata": {},
   "outputs": [
    {
     "data": {
      "text/plain": [
       "0   2018-06-27\n",
       "1   2018-10-08\n",
       "2   2018-08-04\n",
       "3   2018-06-16\n",
       "4   2018-12-05\n",
       "Name: message_date, dtype: datetime64[ns]"
      ]
     },
     "execution_count": 17,
     "metadata": {},
     "output_type": "execute_result"
    }
   ],
   "source": [
    "data_messages['message_date'] = pd.to_datetime(data_messages['message_date'], format=DATE_FORMAT)\n",
    "data_messages['message_date'].head()"
   ]
  },
  {
   "cell_type": "markdown",
   "metadata": {},
   "source": [
    "Добавим столбец с месяцем сообщений"
   ]
  },
  {
   "cell_type": "code",
   "execution_count": 18,
   "metadata": {},
   "outputs": [
    {
     "data": {
      "text/html": [
       "<div>\n",
       "<style scoped>\n",
       "    .dataframe tbody tr th:only-of-type {\n",
       "        vertical-align: middle;\n",
       "    }\n",
       "\n",
       "    .dataframe tbody tr th {\n",
       "        vertical-align: top;\n",
       "    }\n",
       "\n",
       "    .dataframe thead th {\n",
       "        text-align: right;\n",
       "    }\n",
       "</style>\n",
       "<table border=\"1\" class=\"dataframe\">\n",
       "  <thead>\n",
       "    <tr style=\"text-align: right;\">\n",
       "      <th></th>\n",
       "      <th>id</th>\n",
       "      <th>message_date</th>\n",
       "      <th>user_id</th>\n",
       "      <th>month</th>\n",
       "    </tr>\n",
       "  </thead>\n",
       "  <tbody>\n",
       "    <tr>\n",
       "      <th>0</th>\n",
       "      <td>1000_0</td>\n",
       "      <td>2018-06-27</td>\n",
       "      <td>1000</td>\n",
       "      <td>6</td>\n",
       "    </tr>\n",
       "    <tr>\n",
       "      <th>1</th>\n",
       "      <td>1000_1</td>\n",
       "      <td>2018-10-08</td>\n",
       "      <td>1000</td>\n",
       "      <td>10</td>\n",
       "    </tr>\n",
       "    <tr>\n",
       "      <th>2</th>\n",
       "      <td>1000_2</td>\n",
       "      <td>2018-08-04</td>\n",
       "      <td>1000</td>\n",
       "      <td>8</td>\n",
       "    </tr>\n",
       "    <tr>\n",
       "      <th>3</th>\n",
       "      <td>1000_3</td>\n",
       "      <td>2018-06-16</td>\n",
       "      <td>1000</td>\n",
       "      <td>6</td>\n",
       "    </tr>\n",
       "    <tr>\n",
       "      <th>4</th>\n",
       "      <td>1000_4</td>\n",
       "      <td>2018-12-05</td>\n",
       "      <td>1000</td>\n",
       "      <td>12</td>\n",
       "    </tr>\n",
       "  </tbody>\n",
       "</table>\n",
       "</div>"
      ],
      "text/plain": [
       "       id message_date  user_id  month\n",
       "0  1000_0   2018-06-27     1000      6\n",
       "1  1000_1   2018-10-08     1000     10\n",
       "2  1000_2   2018-08-04     1000      8\n",
       "3  1000_3   2018-06-16     1000      6\n",
       "4  1000_4   2018-12-05     1000     12"
      ]
     },
     "execution_count": 18,
     "metadata": {},
     "output_type": "execute_result"
    }
   ],
   "source": [
    "data_messages['month']= data_messages['message_date'].dt.month\n",
    "data_messages.head()"
   ]
  },
  {
   "cell_type": "markdown",
   "metadata": {},
   "source": [
    "### Данные об интернет-сессиях"
   ]
  },
  {
   "cell_type": "markdown",
   "metadata": {},
   "source": [
    "Обратимся к таблице с информацией об интернет-сессиях."
   ]
  },
  {
   "cell_type": "code",
   "execution_count": 19,
   "metadata": {
    "scrolled": false
   },
   "outputs": [
    {
     "data": {
      "text/html": [
       "<div>\n",
       "<style scoped>\n",
       "    .dataframe tbody tr th:only-of-type {\n",
       "        vertical-align: middle;\n",
       "    }\n",
       "\n",
       "    .dataframe tbody tr th {\n",
       "        vertical-align: top;\n",
       "    }\n",
       "\n",
       "    .dataframe thead th {\n",
       "        text-align: right;\n",
       "    }\n",
       "</style>\n",
       "<table border=\"1\" class=\"dataframe\">\n",
       "  <thead>\n",
       "    <tr style=\"text-align: right;\">\n",
       "      <th></th>\n",
       "      <th>Unnamed: 0</th>\n",
       "      <th>id</th>\n",
       "      <th>mb_used</th>\n",
       "      <th>session_date</th>\n",
       "      <th>user_id</th>\n",
       "    </tr>\n",
       "  </thead>\n",
       "  <tbody>\n",
       "    <tr>\n",
       "      <th>0</th>\n",
       "      <td>0</td>\n",
       "      <td>1000_0</td>\n",
       "      <td>112.95</td>\n",
       "      <td>2018-11-25</td>\n",
       "      <td>1000</td>\n",
       "    </tr>\n",
       "    <tr>\n",
       "      <th>1</th>\n",
       "      <td>1</td>\n",
       "      <td>1000_1</td>\n",
       "      <td>1052.81</td>\n",
       "      <td>2018-09-07</td>\n",
       "      <td>1000</td>\n",
       "    </tr>\n",
       "    <tr>\n",
       "      <th>2</th>\n",
       "      <td>2</td>\n",
       "      <td>1000_2</td>\n",
       "      <td>1197.26</td>\n",
       "      <td>2018-06-25</td>\n",
       "      <td>1000</td>\n",
       "    </tr>\n",
       "    <tr>\n",
       "      <th>3</th>\n",
       "      <td>3</td>\n",
       "      <td>1000_3</td>\n",
       "      <td>550.27</td>\n",
       "      <td>2018-08-22</td>\n",
       "      <td>1000</td>\n",
       "    </tr>\n",
       "    <tr>\n",
       "      <th>4</th>\n",
       "      <td>4</td>\n",
       "      <td>1000_4</td>\n",
       "      <td>302.56</td>\n",
       "      <td>2018-09-24</td>\n",
       "      <td>1000</td>\n",
       "    </tr>\n",
       "    <tr>\n",
       "      <th>5</th>\n",
       "      <td>5</td>\n",
       "      <td>1000_5</td>\n",
       "      <td>399.97</td>\n",
       "      <td>2018-10-02</td>\n",
       "      <td>1000</td>\n",
       "    </tr>\n",
       "    <tr>\n",
       "      <th>6</th>\n",
       "      <td>6</td>\n",
       "      <td>1000_6</td>\n",
       "      <td>540.08</td>\n",
       "      <td>2018-09-07</td>\n",
       "      <td>1000</td>\n",
       "    </tr>\n",
       "    <tr>\n",
       "      <th>7</th>\n",
       "      <td>7</td>\n",
       "      <td>1000_7</td>\n",
       "      <td>415.70</td>\n",
       "      <td>2018-07-11</td>\n",
       "      <td>1000</td>\n",
       "    </tr>\n",
       "    <tr>\n",
       "      <th>8</th>\n",
       "      <td>8</td>\n",
       "      <td>1000_8</td>\n",
       "      <td>505.40</td>\n",
       "      <td>2018-10-08</td>\n",
       "      <td>1000</td>\n",
       "    </tr>\n",
       "    <tr>\n",
       "      <th>9</th>\n",
       "      <td>9</td>\n",
       "      <td>1000_9</td>\n",
       "      <td>345.54</td>\n",
       "      <td>2018-09-03</td>\n",
       "      <td>1000</td>\n",
       "    </tr>\n",
       "  </tbody>\n",
       "</table>\n",
       "</div>"
      ],
      "text/plain": [
       "   Unnamed: 0      id  mb_used session_date  user_id\n",
       "0           0  1000_0   112.95   2018-11-25     1000\n",
       "1           1  1000_1  1052.81   2018-09-07     1000\n",
       "2           2  1000_2  1197.26   2018-06-25     1000\n",
       "3           3  1000_3   550.27   2018-08-22     1000\n",
       "4           4  1000_4   302.56   2018-09-24     1000\n",
       "5           5  1000_5   399.97   2018-10-02     1000\n",
       "6           6  1000_6   540.08   2018-09-07     1000\n",
       "7           7  1000_7   415.70   2018-07-11     1000\n",
       "8           8  1000_8   505.40   2018-10-08     1000\n",
       "9           9  1000_9   345.54   2018-09-03     1000"
      ]
     },
     "metadata": {},
     "output_type": "display_data"
    },
    {
     "name": "stdout",
     "output_type": "stream",
     "text": [
      "<class 'pandas.core.frame.DataFrame'>\n",
      "RangeIndex: 149396 entries, 0 to 149395\n",
      "Data columns (total 5 columns):\n",
      " #   Column        Non-Null Count   Dtype  \n",
      "---  ------        --------------   -----  \n",
      " 0   Unnamed: 0    149396 non-null  int64  \n",
      " 1   id            149396 non-null  object \n",
      " 2   mb_used       149396 non-null  float64\n",
      " 3   session_date  149396 non-null  object \n",
      " 4   user_id       149396 non-null  int64  \n",
      "dtypes: float64(1), int64(2), object(2)\n",
      "memory usage: 5.7+ MB\n"
     ]
    }
   ],
   "source": [
    "display(data_internet.head(10))\n",
    "data_internet.info()"
   ]
  },
  {
   "cell_type": "markdown",
   "metadata": {},
   "source": [
    "Таблица содержит данные о дате интернет-сессии, израсходованном трафике в мегабайтах, уникальном номере сессии и пользователя. Кроме того в таблице есть столбец `Unnamed: 0` значения которого дублируют индексы строк, его можно удалить.\n",
    "Также следует привести столбец `session_date` к формату datetime"
   ]
  },
  {
   "cell_type": "code",
   "execution_count": 20,
   "metadata": {},
   "outputs": [
    {
     "data": {
      "text/html": [
       "<div>\n",
       "<style scoped>\n",
       "    .dataframe tbody tr th:only-of-type {\n",
       "        vertical-align: middle;\n",
       "    }\n",
       "\n",
       "    .dataframe tbody tr th {\n",
       "        vertical-align: top;\n",
       "    }\n",
       "\n",
       "    .dataframe thead th {\n",
       "        text-align: right;\n",
       "    }\n",
       "</style>\n",
       "<table border=\"1\" class=\"dataframe\">\n",
       "  <thead>\n",
       "    <tr style=\"text-align: right;\">\n",
       "      <th></th>\n",
       "      <th>id</th>\n",
       "      <th>mb_used</th>\n",
       "      <th>session_date</th>\n",
       "      <th>user_id</th>\n",
       "    </tr>\n",
       "  </thead>\n",
       "  <tbody>\n",
       "    <tr>\n",
       "      <th>0</th>\n",
       "      <td>1000_0</td>\n",
       "      <td>112.95</td>\n",
       "      <td>2018-11-25</td>\n",
       "      <td>1000</td>\n",
       "    </tr>\n",
       "    <tr>\n",
       "      <th>1</th>\n",
       "      <td>1000_1</td>\n",
       "      <td>1052.81</td>\n",
       "      <td>2018-09-07</td>\n",
       "      <td>1000</td>\n",
       "    </tr>\n",
       "    <tr>\n",
       "      <th>2</th>\n",
       "      <td>1000_2</td>\n",
       "      <td>1197.26</td>\n",
       "      <td>2018-06-25</td>\n",
       "      <td>1000</td>\n",
       "    </tr>\n",
       "    <tr>\n",
       "      <th>3</th>\n",
       "      <td>1000_3</td>\n",
       "      <td>550.27</td>\n",
       "      <td>2018-08-22</td>\n",
       "      <td>1000</td>\n",
       "    </tr>\n",
       "    <tr>\n",
       "      <th>4</th>\n",
       "      <td>1000_4</td>\n",
       "      <td>302.56</td>\n",
       "      <td>2018-09-24</td>\n",
       "      <td>1000</td>\n",
       "    </tr>\n",
       "  </tbody>\n",
       "</table>\n",
       "</div>"
      ],
      "text/plain": [
       "       id  mb_used session_date  user_id\n",
       "0  1000_0   112.95   2018-11-25     1000\n",
       "1  1000_1  1052.81   2018-09-07     1000\n",
       "2  1000_2  1197.26   2018-06-25     1000\n",
       "3  1000_3   550.27   2018-08-22     1000\n",
       "4  1000_4   302.56   2018-09-24     1000"
      ]
     },
     "execution_count": 20,
     "metadata": {},
     "output_type": "execute_result"
    }
   ],
   "source": [
    "del data_internet['Unnamed: 0']\n",
    "data_internet.head()"
   ]
  },
  {
   "cell_type": "code",
   "execution_count": 21,
   "metadata": {
    "scrolled": true
   },
   "outputs": [
    {
     "data": {
      "text/plain": [
       "0   2018-11-25\n",
       "1   2018-09-07\n",
       "2   2018-06-25\n",
       "3   2018-08-22\n",
       "4   2018-09-24\n",
       "Name: session_date, dtype: datetime64[ns]"
      ]
     },
     "execution_count": 21,
     "metadata": {},
     "output_type": "execute_result"
    }
   ],
   "source": [
    "data_internet['session_date'] = pd.to_datetime(data_internet['session_date'], format=DATE_FORMAT)\n",
    "data_internet['session_date'].head()"
   ]
  },
  {
   "cell_type": "code",
   "execution_count": 22,
   "metadata": {},
   "outputs": [
    {
     "data": {
      "text/html": [
       "<div>\n",
       "<style scoped>\n",
       "    .dataframe tbody tr th:only-of-type {\n",
       "        vertical-align: middle;\n",
       "    }\n",
       "\n",
       "    .dataframe tbody tr th {\n",
       "        vertical-align: top;\n",
       "    }\n",
       "\n",
       "    .dataframe thead th {\n",
       "        text-align: right;\n",
       "    }\n",
       "</style>\n",
       "<table border=\"1\" class=\"dataframe\">\n",
       "  <thead>\n",
       "    <tr style=\"text-align: right;\">\n",
       "      <th></th>\n",
       "      <th>count</th>\n",
       "      <th>mean</th>\n",
       "      <th>std</th>\n",
       "      <th>min</th>\n",
       "      <th>25%</th>\n",
       "      <th>50%</th>\n",
       "      <th>75%</th>\n",
       "      <th>max</th>\n",
       "    </tr>\n",
       "  </thead>\n",
       "  <tbody>\n",
       "    <tr>\n",
       "      <th>mb_used</th>\n",
       "      <td>149396.0</td>\n",
       "      <td>370.192426</td>\n",
       "      <td>278.300951</td>\n",
       "      <td>0.0</td>\n",
       "      <td>138.1875</td>\n",
       "      <td>348.015</td>\n",
       "      <td>559.5525</td>\n",
       "      <td>1724.83</td>\n",
       "    </tr>\n",
       "    <tr>\n",
       "      <th>user_id</th>\n",
       "      <td>149396.0</td>\n",
       "      <td>1252.099842</td>\n",
       "      <td>144.050823</td>\n",
       "      <td>1000.0</td>\n",
       "      <td>1130.0000</td>\n",
       "      <td>1251.000</td>\n",
       "      <td>1380.0000</td>\n",
       "      <td>1499.00</td>\n",
       "    </tr>\n",
       "  </tbody>\n",
       "</table>\n",
       "</div>"
      ],
      "text/plain": [
       "            count         mean         std     min        25%       50%  \\\n",
       "mb_used  149396.0   370.192426  278.300951     0.0   138.1875   348.015   \n",
       "user_id  149396.0  1252.099842  144.050823  1000.0  1130.0000  1251.000   \n",
       "\n",
       "               75%      max  \n",
       "mb_used   559.5525  1724.83  \n",
       "user_id  1380.0000  1499.00  "
      ]
     },
     "execution_count": 22,
     "metadata": {},
     "output_type": "execute_result"
    }
   ],
   "source": [
    "data_internet.describe().T"
   ]
  },
  {
   "cell_type": "markdown",
   "metadata": {},
   "source": [
    "Как видно существуют интернет-сессии с нулевым трафиком. Возможно в этих сессиях абонент переключился на другую сеть  для подключения к интернету. Максимальное количество потребленного за сессию интернет-трафика 1724,83 мегабайта. Среднее 370,19 мегабайт. "
   ]
  },
  {
   "cell_type": "markdown",
   "metadata": {},
   "source": [
    "Добавим столбец с месяцем интернет-сессий"
   ]
  },
  {
   "cell_type": "code",
   "execution_count": 23,
   "metadata": {},
   "outputs": [
    {
     "data": {
      "text/html": [
       "<div>\n",
       "<style scoped>\n",
       "    .dataframe tbody tr th:only-of-type {\n",
       "        vertical-align: middle;\n",
       "    }\n",
       "\n",
       "    .dataframe tbody tr th {\n",
       "        vertical-align: top;\n",
       "    }\n",
       "\n",
       "    .dataframe thead th {\n",
       "        text-align: right;\n",
       "    }\n",
       "</style>\n",
       "<table border=\"1\" class=\"dataframe\">\n",
       "  <thead>\n",
       "    <tr style=\"text-align: right;\">\n",
       "      <th></th>\n",
       "      <th>id</th>\n",
       "      <th>mb_used</th>\n",
       "      <th>session_date</th>\n",
       "      <th>user_id</th>\n",
       "      <th>month</th>\n",
       "    </tr>\n",
       "  </thead>\n",
       "  <tbody>\n",
       "    <tr>\n",
       "      <th>0</th>\n",
       "      <td>1000_0</td>\n",
       "      <td>112.95</td>\n",
       "      <td>2018-11-25</td>\n",
       "      <td>1000</td>\n",
       "      <td>11</td>\n",
       "    </tr>\n",
       "    <tr>\n",
       "      <th>1</th>\n",
       "      <td>1000_1</td>\n",
       "      <td>1052.81</td>\n",
       "      <td>2018-09-07</td>\n",
       "      <td>1000</td>\n",
       "      <td>9</td>\n",
       "    </tr>\n",
       "    <tr>\n",
       "      <th>2</th>\n",
       "      <td>1000_2</td>\n",
       "      <td>1197.26</td>\n",
       "      <td>2018-06-25</td>\n",
       "      <td>1000</td>\n",
       "      <td>6</td>\n",
       "    </tr>\n",
       "    <tr>\n",
       "      <th>3</th>\n",
       "      <td>1000_3</td>\n",
       "      <td>550.27</td>\n",
       "      <td>2018-08-22</td>\n",
       "      <td>1000</td>\n",
       "      <td>8</td>\n",
       "    </tr>\n",
       "    <tr>\n",
       "      <th>4</th>\n",
       "      <td>1000_4</td>\n",
       "      <td>302.56</td>\n",
       "      <td>2018-09-24</td>\n",
       "      <td>1000</td>\n",
       "      <td>9</td>\n",
       "    </tr>\n",
       "  </tbody>\n",
       "</table>\n",
       "</div>"
      ],
      "text/plain": [
       "       id  mb_used session_date  user_id  month\n",
       "0  1000_0   112.95   2018-11-25     1000     11\n",
       "1  1000_1  1052.81   2018-09-07     1000      9\n",
       "2  1000_2  1197.26   2018-06-25     1000      6\n",
       "3  1000_3   550.27   2018-08-22     1000      8\n",
       "4  1000_4   302.56   2018-09-24     1000      9"
      ]
     },
     "execution_count": 23,
     "metadata": {},
     "output_type": "execute_result"
    }
   ],
   "source": [
    "data_internet['month']= data_internet['session_date'].dt.month\n",
    "data_internet.head()"
   ]
  },
  {
   "cell_type": "markdown",
   "metadata": {},
   "source": [
    "### Вывод"
   ]
  },
  {
   "cell_type": "markdown",
   "metadata": {},
   "source": [
    "Мы изучили все пять предоставленных для анализа таблиц. Преобразовали формат в столбцах, содержащих дату, из строкового в формат datetime. В таблице с данными о тарифах привели информацию об интернет-трафике к одной единице измерения - гигабайтам. Округлили в большую сторону продолжительность звонков в минуту, и преобразовали этот столбец в формат int. Кроме того, удалили из таблицы с интернет-трафиком столбец с артефактами. \n",
    "\n",
    "В целом данные пригодны для анализа, можем приступать к следующему этапу исследования."
   ]
  },
  {
   "cell_type": "markdown",
   "metadata": {},
   "source": [
    "## Подсчет данных для каждого пользователя."
   ]
  },
  {
   "cell_type": "markdown",
   "metadata": {},
   "source": [
    "### Группировка данных по пользователям и месяцам."
   ]
  },
  {
   "cell_type": "markdown",
   "metadata": {},
   "source": [
    "Сгруппируем таблицу с данными о звонках по пользователям и месяцам"
   ]
  },
  {
   "cell_type": "code",
   "execution_count": 24,
   "metadata": {
    "scrolled": true
   },
   "outputs": [
    {
     "data": {
      "text/html": [
       "<div>\n",
       "<style scoped>\n",
       "    .dataframe tbody tr th:only-of-type {\n",
       "        vertical-align: middle;\n",
       "    }\n",
       "\n",
       "    .dataframe tbody tr th {\n",
       "        vertical-align: top;\n",
       "    }\n",
       "\n",
       "    .dataframe thead th {\n",
       "        text-align: right;\n",
       "    }\n",
       "</style>\n",
       "<table border=\"1\" class=\"dataframe\">\n",
       "  <thead>\n",
       "    <tr style=\"text-align: right;\">\n",
       "      <th></th>\n",
       "      <th>user_id</th>\n",
       "      <th>month</th>\n",
       "      <th>calls_sum</th>\n",
       "      <th>calls_count</th>\n",
       "    </tr>\n",
       "  </thead>\n",
       "  <tbody>\n",
       "    <tr>\n",
       "      <th>0</th>\n",
       "      <td>1000</td>\n",
       "      <td>5</td>\n",
       "      <td>159</td>\n",
       "      <td>22</td>\n",
       "    </tr>\n",
       "    <tr>\n",
       "      <th>1</th>\n",
       "      <td>1000</td>\n",
       "      <td>6</td>\n",
       "      <td>172</td>\n",
       "      <td>43</td>\n",
       "    </tr>\n",
       "    <tr>\n",
       "      <th>2</th>\n",
       "      <td>1000</td>\n",
       "      <td>7</td>\n",
       "      <td>340</td>\n",
       "      <td>47</td>\n",
       "    </tr>\n",
       "    <tr>\n",
       "      <th>3</th>\n",
       "      <td>1000</td>\n",
       "      <td>8</td>\n",
       "      <td>408</td>\n",
       "      <td>52</td>\n",
       "    </tr>\n",
       "    <tr>\n",
       "      <th>4</th>\n",
       "      <td>1000</td>\n",
       "      <td>9</td>\n",
       "      <td>466</td>\n",
       "      <td>58</td>\n",
       "    </tr>\n",
       "  </tbody>\n",
       "</table>\n",
       "</div>"
      ],
      "text/plain": [
       "   user_id  month  calls_sum  calls_count\n",
       "0     1000      5        159           22\n",
       "1     1000      6        172           43\n",
       "2     1000      7        340           47\n",
       "3     1000      8        408           52\n",
       "4     1000      9        466           58"
      ]
     },
     "execution_count": 24,
     "metadata": {},
     "output_type": "execute_result"
    }
   ],
   "source": [
    "data_calls_gr = data_calls.groupby(['user_id', 'month']).agg({'duration':['sum','count']}).reset_index().droplevel(0, axis=1)\n",
    "data_calls_gr.columns = ['user_id', 'month','calls_sum', 'calls_count']\n",
    "data_calls_gr.head()"
   ]
  },
  {
   "cell_type": "markdown",
   "metadata": {},
   "source": [
    "Сгруппируем таблицу с данными о сообщениях по пользователям и месяцам"
   ]
  },
  {
   "cell_type": "code",
   "execution_count": 25,
   "metadata": {},
   "outputs": [
    {
     "data": {
      "text/html": [
       "<div>\n",
       "<style scoped>\n",
       "    .dataframe tbody tr th:only-of-type {\n",
       "        vertical-align: middle;\n",
       "    }\n",
       "\n",
       "    .dataframe tbody tr th {\n",
       "        vertical-align: top;\n",
       "    }\n",
       "\n",
       "    .dataframe thead th {\n",
       "        text-align: right;\n",
       "    }\n",
       "</style>\n",
       "<table border=\"1\" class=\"dataframe\">\n",
       "  <thead>\n",
       "    <tr style=\"text-align: right;\">\n",
       "      <th></th>\n",
       "      <th>user_id</th>\n",
       "      <th>month</th>\n",
       "      <th>messages_count</th>\n",
       "    </tr>\n",
       "  </thead>\n",
       "  <tbody>\n",
       "    <tr>\n",
       "      <th>0</th>\n",
       "      <td>1000</td>\n",
       "      <td>5</td>\n",
       "      <td>22</td>\n",
       "    </tr>\n",
       "    <tr>\n",
       "      <th>1</th>\n",
       "      <td>1000</td>\n",
       "      <td>6</td>\n",
       "      <td>60</td>\n",
       "    </tr>\n",
       "    <tr>\n",
       "      <th>2</th>\n",
       "      <td>1000</td>\n",
       "      <td>7</td>\n",
       "      <td>75</td>\n",
       "    </tr>\n",
       "    <tr>\n",
       "      <th>3</th>\n",
       "      <td>1000</td>\n",
       "      <td>8</td>\n",
       "      <td>81</td>\n",
       "    </tr>\n",
       "    <tr>\n",
       "      <th>4</th>\n",
       "      <td>1000</td>\n",
       "      <td>9</td>\n",
       "      <td>57</td>\n",
       "    </tr>\n",
       "  </tbody>\n",
       "</table>\n",
       "</div>"
      ],
      "text/plain": [
       "   user_id  month  messages_count\n",
       "0     1000      5              22\n",
       "1     1000      6              60\n",
       "2     1000      7              75\n",
       "3     1000      8              81\n",
       "4     1000      9              57"
      ]
     },
     "execution_count": 25,
     "metadata": {},
     "output_type": "execute_result"
    }
   ],
   "source": [
    "data_messages_gr = data_messages.groupby(['user_id', 'month']).agg({'id':'count'}).reset_index()\n",
    "data_messages_gr.columns = ['user_id', 'month','messages_count']\n",
    "data_messages_gr.head()"
   ]
  },
  {
   "cell_type": "markdown",
   "metadata": {},
   "source": [
    "Сгруппируем таблицу с данными об интернет сессиях по пользователям и месяцам"
   ]
  },
  {
   "cell_type": "code",
   "execution_count": 26,
   "metadata": {},
   "outputs": [
    {
     "data": {
      "text/html": [
       "<div>\n",
       "<style scoped>\n",
       "    .dataframe tbody tr th:only-of-type {\n",
       "        vertical-align: middle;\n",
       "    }\n",
       "\n",
       "    .dataframe tbody tr th {\n",
       "        vertical-align: top;\n",
       "    }\n",
       "\n",
       "    .dataframe thead th {\n",
       "        text-align: right;\n",
       "    }\n",
       "</style>\n",
       "<table border=\"1\" class=\"dataframe\">\n",
       "  <thead>\n",
       "    <tr style=\"text-align: right;\">\n",
       "      <th></th>\n",
       "      <th>user_id</th>\n",
       "      <th>month</th>\n",
       "      <th>mb_used</th>\n",
       "    </tr>\n",
       "  </thead>\n",
       "  <tbody>\n",
       "    <tr>\n",
       "      <th>0</th>\n",
       "      <td>1000</td>\n",
       "      <td>5</td>\n",
       "      <td>2253.49</td>\n",
       "    </tr>\n",
       "    <tr>\n",
       "      <th>1</th>\n",
       "      <td>1000</td>\n",
       "      <td>6</td>\n",
       "      <td>23233.77</td>\n",
       "    </tr>\n",
       "    <tr>\n",
       "      <th>2</th>\n",
       "      <td>1000</td>\n",
       "      <td>7</td>\n",
       "      <td>14003.64</td>\n",
       "    </tr>\n",
       "    <tr>\n",
       "      <th>3</th>\n",
       "      <td>1000</td>\n",
       "      <td>8</td>\n",
       "      <td>14055.93</td>\n",
       "    </tr>\n",
       "    <tr>\n",
       "      <th>4</th>\n",
       "      <td>1000</td>\n",
       "      <td>9</td>\n",
       "      <td>14568.91</td>\n",
       "    </tr>\n",
       "  </tbody>\n",
       "</table>\n",
       "</div>"
      ],
      "text/plain": [
       "   user_id  month   mb_used\n",
       "0     1000      5   2253.49\n",
       "1     1000      6  23233.77\n",
       "2     1000      7  14003.64\n",
       "3     1000      8  14055.93\n",
       "4     1000      9  14568.91"
      ]
     },
     "execution_count": 26,
     "metadata": {},
     "output_type": "execute_result"
    }
   ],
   "source": [
    "data_internet_gr = data_internet.groupby(['user_id', 'month']).agg({'mb_used':'sum'}).reset_index()\n",
    "data_internet_gr.columns = ['user_id', 'month','mb_used']\n",
    "data_internet_gr.head()"
   ]
  },
  {
   "cell_type": "markdown",
   "metadata": {},
   "source": [
    "Переведем интернет-трафик в гигабайты и округлим в большую сторону"
   ]
  },
  {
   "cell_type": "code",
   "execution_count": 27,
   "metadata": {},
   "outputs": [
    {
     "data": {
      "text/html": [
       "<div>\n",
       "<style scoped>\n",
       "    .dataframe tbody tr th:only-of-type {\n",
       "        vertical-align: middle;\n",
       "    }\n",
       "\n",
       "    .dataframe tbody tr th {\n",
       "        vertical-align: top;\n",
       "    }\n",
       "\n",
       "    .dataframe thead th {\n",
       "        text-align: right;\n",
       "    }\n",
       "</style>\n",
       "<table border=\"1\" class=\"dataframe\">\n",
       "  <thead>\n",
       "    <tr style=\"text-align: right;\">\n",
       "      <th></th>\n",
       "      <th>user_id</th>\n",
       "      <th>month</th>\n",
       "      <th>gb_used</th>\n",
       "    </tr>\n",
       "  </thead>\n",
       "  <tbody>\n",
       "    <tr>\n",
       "      <th>0</th>\n",
       "      <td>1000</td>\n",
       "      <td>5</td>\n",
       "      <td>3</td>\n",
       "    </tr>\n",
       "    <tr>\n",
       "      <th>1</th>\n",
       "      <td>1000</td>\n",
       "      <td>6</td>\n",
       "      <td>23</td>\n",
       "    </tr>\n",
       "    <tr>\n",
       "      <th>2</th>\n",
       "      <td>1000</td>\n",
       "      <td>7</td>\n",
       "      <td>14</td>\n",
       "    </tr>\n",
       "    <tr>\n",
       "      <th>3</th>\n",
       "      <td>1000</td>\n",
       "      <td>8</td>\n",
       "      <td>14</td>\n",
       "    </tr>\n",
       "    <tr>\n",
       "      <th>4</th>\n",
       "      <td>1000</td>\n",
       "      <td>9</td>\n",
       "      <td>15</td>\n",
       "    </tr>\n",
       "  </tbody>\n",
       "</table>\n",
       "</div>"
      ],
      "text/plain": [
       "   user_id  month  gb_used\n",
       "0     1000      5        3\n",
       "1     1000      6       23\n",
       "2     1000      7       14\n",
       "3     1000      8       14\n",
       "4     1000      9       15"
      ]
     },
     "execution_count": 27,
     "metadata": {},
     "output_type": "execute_result"
    }
   ],
   "source": [
    "data_internet_gr['mb_used'] = (data_internet_gr['mb_used'] / 1024).apply(np.ceil).astype('int')\n",
    "data_internet_gr.columns = ['user_id', 'month','gb_used']\n",
    "data_internet_gr.head()"
   ]
  },
  {
   "cell_type": "markdown",
   "metadata": {},
   "source": [
    "### Объединение таблиц для расчета помесячной выручки с каждого пользователя."
   ]
  },
  {
   "cell_type": "markdown",
   "metadata": {},
   "source": [
    "Последовательно объединим сгруппированые таблицы при помощи метода `merge` с параметром `outer` для того, чтобы сохранить все строки."
   ]
  },
  {
   "cell_type": "code",
   "execution_count": 28,
   "metadata": {},
   "outputs": [
    {
     "data": {
      "text/html": [
       "<div>\n",
       "<style scoped>\n",
       "    .dataframe tbody tr th:only-of-type {\n",
       "        vertical-align: middle;\n",
       "    }\n",
       "\n",
       "    .dataframe tbody tr th {\n",
       "        vertical-align: top;\n",
       "    }\n",
       "\n",
       "    .dataframe thead th {\n",
       "        text-align: right;\n",
       "    }\n",
       "</style>\n",
       "<table border=\"1\" class=\"dataframe\">\n",
       "  <thead>\n",
       "    <tr style=\"text-align: right;\">\n",
       "      <th></th>\n",
       "      <th>user_id</th>\n",
       "      <th>month</th>\n",
       "      <th>calls_sum</th>\n",
       "      <th>calls_count</th>\n",
       "      <th>gb_used</th>\n",
       "    </tr>\n",
       "  </thead>\n",
       "  <tbody>\n",
       "    <tr>\n",
       "      <th>0</th>\n",
       "      <td>1000</td>\n",
       "      <td>5</td>\n",
       "      <td>159.0</td>\n",
       "      <td>22.0</td>\n",
       "      <td>3.0</td>\n",
       "    </tr>\n",
       "    <tr>\n",
       "      <th>1</th>\n",
       "      <td>1000</td>\n",
       "      <td>6</td>\n",
       "      <td>172.0</td>\n",
       "      <td>43.0</td>\n",
       "      <td>23.0</td>\n",
       "    </tr>\n",
       "    <tr>\n",
       "      <th>2</th>\n",
       "      <td>1000</td>\n",
       "      <td>7</td>\n",
       "      <td>340.0</td>\n",
       "      <td>47.0</td>\n",
       "      <td>14.0</td>\n",
       "    </tr>\n",
       "    <tr>\n",
       "      <th>3</th>\n",
       "      <td>1000</td>\n",
       "      <td>8</td>\n",
       "      <td>408.0</td>\n",
       "      <td>52.0</td>\n",
       "      <td>14.0</td>\n",
       "    </tr>\n",
       "    <tr>\n",
       "      <th>4</th>\n",
       "      <td>1000</td>\n",
       "      <td>9</td>\n",
       "      <td>466.0</td>\n",
       "      <td>58.0</td>\n",
       "      <td>15.0</td>\n",
       "    </tr>\n",
       "  </tbody>\n",
       "</table>\n",
       "</div>"
      ],
      "text/plain": [
       "   user_id  month  calls_sum  calls_count  gb_used\n",
       "0     1000      5      159.0         22.0      3.0\n",
       "1     1000      6      172.0         43.0     23.0\n",
       "2     1000      7      340.0         47.0     14.0\n",
       "3     1000      8      408.0         52.0     14.0\n",
       "4     1000      9      466.0         58.0     15.0"
      ]
     },
     "execution_count": 28,
     "metadata": {},
     "output_type": "execute_result"
    }
   ],
   "source": [
    "data = data_calls_gr.merge(data_internet_gr, on = ['user_id', 'month'], how = 'outer')\n",
    "data.head()"
   ]
  },
  {
   "cell_type": "code",
   "execution_count": 29,
   "metadata": {
    "scrolled": true
   },
   "outputs": [
    {
     "data": {
      "text/html": [
       "<div>\n",
       "<style scoped>\n",
       "    .dataframe tbody tr th:only-of-type {\n",
       "        vertical-align: middle;\n",
       "    }\n",
       "\n",
       "    .dataframe tbody tr th {\n",
       "        vertical-align: top;\n",
       "    }\n",
       "\n",
       "    .dataframe thead th {\n",
       "        text-align: right;\n",
       "    }\n",
       "</style>\n",
       "<table border=\"1\" class=\"dataframe\">\n",
       "  <thead>\n",
       "    <tr style=\"text-align: right;\">\n",
       "      <th></th>\n",
       "      <th>user_id</th>\n",
       "      <th>month</th>\n",
       "      <th>calls_sum</th>\n",
       "      <th>calls_count</th>\n",
       "      <th>gb_used</th>\n",
       "      <th>messages_count</th>\n",
       "    </tr>\n",
       "  </thead>\n",
       "  <tbody>\n",
       "    <tr>\n",
       "      <th>0</th>\n",
       "      <td>1000</td>\n",
       "      <td>5</td>\n",
       "      <td>159.0</td>\n",
       "      <td>22.0</td>\n",
       "      <td>3.0</td>\n",
       "      <td>22.0</td>\n",
       "    </tr>\n",
       "    <tr>\n",
       "      <th>1</th>\n",
       "      <td>1000</td>\n",
       "      <td>6</td>\n",
       "      <td>172.0</td>\n",
       "      <td>43.0</td>\n",
       "      <td>23.0</td>\n",
       "      <td>60.0</td>\n",
       "    </tr>\n",
       "    <tr>\n",
       "      <th>2</th>\n",
       "      <td>1000</td>\n",
       "      <td>7</td>\n",
       "      <td>340.0</td>\n",
       "      <td>47.0</td>\n",
       "      <td>14.0</td>\n",
       "      <td>75.0</td>\n",
       "    </tr>\n",
       "    <tr>\n",
       "      <th>3</th>\n",
       "      <td>1000</td>\n",
       "      <td>8</td>\n",
       "      <td>408.0</td>\n",
       "      <td>52.0</td>\n",
       "      <td>14.0</td>\n",
       "      <td>81.0</td>\n",
       "    </tr>\n",
       "    <tr>\n",
       "      <th>4</th>\n",
       "      <td>1000</td>\n",
       "      <td>9</td>\n",
       "      <td>466.0</td>\n",
       "      <td>58.0</td>\n",
       "      <td>15.0</td>\n",
       "      <td>57.0</td>\n",
       "    </tr>\n",
       "  </tbody>\n",
       "</table>\n",
       "</div>"
      ],
      "text/plain": [
       "   user_id  month  calls_sum  calls_count  gb_used  messages_count\n",
       "0     1000      5      159.0         22.0      3.0            22.0\n",
       "1     1000      6      172.0         43.0     23.0            60.0\n",
       "2     1000      7      340.0         47.0     14.0            75.0\n",
       "3     1000      8      408.0         52.0     14.0            81.0\n",
       "4     1000      9      466.0         58.0     15.0            57.0"
      ]
     },
     "execution_count": 29,
     "metadata": {},
     "output_type": "execute_result"
    }
   ],
   "source": [
    "data = data.merge(data_messages_gr, on = ['user_id', 'month'], how = 'outer')\n",
    "data.head()"
   ]
  },
  {
   "cell_type": "code",
   "execution_count": 30,
   "metadata": {},
   "outputs": [
    {
     "data": {
      "text/html": [
       "<div>\n",
       "<style scoped>\n",
       "    .dataframe tbody tr th:only-of-type {\n",
       "        vertical-align: middle;\n",
       "    }\n",
       "\n",
       "    .dataframe tbody tr th {\n",
       "        vertical-align: top;\n",
       "    }\n",
       "\n",
       "    .dataframe thead th {\n",
       "        text-align: right;\n",
       "    }\n",
       "</style>\n",
       "<table border=\"1\" class=\"dataframe\">\n",
       "  <thead>\n",
       "    <tr style=\"text-align: right;\">\n",
       "      <th></th>\n",
       "      <th>user_id</th>\n",
       "      <th>month</th>\n",
       "      <th>calls_sum</th>\n",
       "      <th>calls_count</th>\n",
       "      <th>gb_used</th>\n",
       "      <th>messages_count</th>\n",
       "      <th>age</th>\n",
       "      <th>churn_date</th>\n",
       "      <th>city</th>\n",
       "      <th>first_name</th>\n",
       "      <th>last_name</th>\n",
       "      <th>reg_date</th>\n",
       "      <th>tariff</th>\n",
       "    </tr>\n",
       "  </thead>\n",
       "  <tbody>\n",
       "    <tr>\n",
       "      <th>0</th>\n",
       "      <td>1000</td>\n",
       "      <td>5.0</td>\n",
       "      <td>159.0</td>\n",
       "      <td>22.0</td>\n",
       "      <td>3.0</td>\n",
       "      <td>22.0</td>\n",
       "      <td>52</td>\n",
       "      <td>NaT</td>\n",
       "      <td>Краснодар</td>\n",
       "      <td>Рафаил</td>\n",
       "      <td>Верещагин</td>\n",
       "      <td>2018-05-25</td>\n",
       "      <td>ultra</td>\n",
       "    </tr>\n",
       "    <tr>\n",
       "      <th>1</th>\n",
       "      <td>1000</td>\n",
       "      <td>6.0</td>\n",
       "      <td>172.0</td>\n",
       "      <td>43.0</td>\n",
       "      <td>23.0</td>\n",
       "      <td>60.0</td>\n",
       "      <td>52</td>\n",
       "      <td>NaT</td>\n",
       "      <td>Краснодар</td>\n",
       "      <td>Рафаил</td>\n",
       "      <td>Верещагин</td>\n",
       "      <td>2018-05-25</td>\n",
       "      <td>ultra</td>\n",
       "    </tr>\n",
       "    <tr>\n",
       "      <th>2</th>\n",
       "      <td>1000</td>\n",
       "      <td>7.0</td>\n",
       "      <td>340.0</td>\n",
       "      <td>47.0</td>\n",
       "      <td>14.0</td>\n",
       "      <td>75.0</td>\n",
       "      <td>52</td>\n",
       "      <td>NaT</td>\n",
       "      <td>Краснодар</td>\n",
       "      <td>Рафаил</td>\n",
       "      <td>Верещагин</td>\n",
       "      <td>2018-05-25</td>\n",
       "      <td>ultra</td>\n",
       "    </tr>\n",
       "    <tr>\n",
       "      <th>3</th>\n",
       "      <td>1000</td>\n",
       "      <td>8.0</td>\n",
       "      <td>408.0</td>\n",
       "      <td>52.0</td>\n",
       "      <td>14.0</td>\n",
       "      <td>81.0</td>\n",
       "      <td>52</td>\n",
       "      <td>NaT</td>\n",
       "      <td>Краснодар</td>\n",
       "      <td>Рафаил</td>\n",
       "      <td>Верещагин</td>\n",
       "      <td>2018-05-25</td>\n",
       "      <td>ultra</td>\n",
       "    </tr>\n",
       "    <tr>\n",
       "      <th>4</th>\n",
       "      <td>1000</td>\n",
       "      <td>9.0</td>\n",
       "      <td>466.0</td>\n",
       "      <td>58.0</td>\n",
       "      <td>15.0</td>\n",
       "      <td>57.0</td>\n",
       "      <td>52</td>\n",
       "      <td>NaT</td>\n",
       "      <td>Краснодар</td>\n",
       "      <td>Рафаил</td>\n",
       "      <td>Верещагин</td>\n",
       "      <td>2018-05-25</td>\n",
       "      <td>ultra</td>\n",
       "    </tr>\n",
       "  </tbody>\n",
       "</table>\n",
       "</div>"
      ],
      "text/plain": [
       "   user_id  month  calls_sum  calls_count  gb_used  messages_count  age  \\\n",
       "0     1000    5.0      159.0         22.0      3.0            22.0   52   \n",
       "1     1000    6.0      172.0         43.0     23.0            60.0   52   \n",
       "2     1000    7.0      340.0         47.0     14.0            75.0   52   \n",
       "3     1000    8.0      408.0         52.0     14.0            81.0   52   \n",
       "4     1000    9.0      466.0         58.0     15.0            57.0   52   \n",
       "\n",
       "  churn_date       city first_name  last_name   reg_date tariff  \n",
       "0        NaT  Краснодар     Рафаил  Верещагин 2018-05-25  ultra  \n",
       "1        NaT  Краснодар     Рафаил  Верещагин 2018-05-25  ultra  \n",
       "2        NaT  Краснодар     Рафаил  Верещагин 2018-05-25  ultra  \n",
       "3        NaT  Краснодар     Рафаил  Верещагин 2018-05-25  ultra  \n",
       "4        NaT  Краснодар     Рафаил  Верещагин 2018-05-25  ultra  "
      ]
     },
     "execution_count": 30,
     "metadata": {},
     "output_type": "execute_result"
    }
   ],
   "source": [
    "data = data.merge(data_users, on = ['user_id'], how = 'outer')\n",
    "data.head()"
   ]
  },
  {
   "cell_type": "code",
   "execution_count": 31,
   "metadata": {
    "scrolled": true
   },
   "outputs": [
    {
     "data": {
      "text/html": [
       "<div>\n",
       "<style scoped>\n",
       "    .dataframe tbody tr th:only-of-type {\n",
       "        vertical-align: middle;\n",
       "    }\n",
       "\n",
       "    .dataframe tbody tr th {\n",
       "        vertical-align: top;\n",
       "    }\n",
       "\n",
       "    .dataframe thead th {\n",
       "        text-align: right;\n",
       "    }\n",
       "</style>\n",
       "<table border=\"1\" class=\"dataframe\">\n",
       "  <thead>\n",
       "    <tr style=\"text-align: right;\">\n",
       "      <th></th>\n",
       "      <th>user_id</th>\n",
       "      <th>month</th>\n",
       "      <th>calls_sum</th>\n",
       "      <th>calls_count</th>\n",
       "      <th>gb_used</th>\n",
       "      <th>messages_count</th>\n",
       "      <th>age</th>\n",
       "      <th>churn_date</th>\n",
       "      <th>city</th>\n",
       "      <th>first_name</th>\n",
       "      <th>last_name</th>\n",
       "      <th>reg_date</th>\n",
       "      <th>tariff</th>\n",
       "      <th>messages_included</th>\n",
       "      <th>gb_per_month_included</th>\n",
       "      <th>minutes_included</th>\n",
       "      <th>rub_monthly_fee</th>\n",
       "      <th>rub_per_gb</th>\n",
       "      <th>rub_per_message</th>\n",
       "      <th>rub_per_minute</th>\n",
       "    </tr>\n",
       "  </thead>\n",
       "  <tbody>\n",
       "    <tr>\n",
       "      <th>0</th>\n",
       "      <td>1000</td>\n",
       "      <td>5.0</td>\n",
       "      <td>159.0</td>\n",
       "      <td>22.0</td>\n",
       "      <td>3.0</td>\n",
       "      <td>22.0</td>\n",
       "      <td>52</td>\n",
       "      <td>NaT</td>\n",
       "      <td>Краснодар</td>\n",
       "      <td>Рафаил</td>\n",
       "      <td>Верещагин</td>\n",
       "      <td>2018-05-25</td>\n",
       "      <td>ultra</td>\n",
       "      <td>1000</td>\n",
       "      <td>30</td>\n",
       "      <td>3000</td>\n",
       "      <td>1950</td>\n",
       "      <td>150</td>\n",
       "      <td>1</td>\n",
       "      <td>1</td>\n",
       "    </tr>\n",
       "    <tr>\n",
       "      <th>1</th>\n",
       "      <td>1000</td>\n",
       "      <td>6.0</td>\n",
       "      <td>172.0</td>\n",
       "      <td>43.0</td>\n",
       "      <td>23.0</td>\n",
       "      <td>60.0</td>\n",
       "      <td>52</td>\n",
       "      <td>NaT</td>\n",
       "      <td>Краснодар</td>\n",
       "      <td>Рафаил</td>\n",
       "      <td>Верещагин</td>\n",
       "      <td>2018-05-25</td>\n",
       "      <td>ultra</td>\n",
       "      <td>1000</td>\n",
       "      <td>30</td>\n",
       "      <td>3000</td>\n",
       "      <td>1950</td>\n",
       "      <td>150</td>\n",
       "      <td>1</td>\n",
       "      <td>1</td>\n",
       "    </tr>\n",
       "    <tr>\n",
       "      <th>2</th>\n",
       "      <td>1000</td>\n",
       "      <td>7.0</td>\n",
       "      <td>340.0</td>\n",
       "      <td>47.0</td>\n",
       "      <td>14.0</td>\n",
       "      <td>75.0</td>\n",
       "      <td>52</td>\n",
       "      <td>NaT</td>\n",
       "      <td>Краснодар</td>\n",
       "      <td>Рафаил</td>\n",
       "      <td>Верещагин</td>\n",
       "      <td>2018-05-25</td>\n",
       "      <td>ultra</td>\n",
       "      <td>1000</td>\n",
       "      <td>30</td>\n",
       "      <td>3000</td>\n",
       "      <td>1950</td>\n",
       "      <td>150</td>\n",
       "      <td>1</td>\n",
       "      <td>1</td>\n",
       "    </tr>\n",
       "    <tr>\n",
       "      <th>3</th>\n",
       "      <td>1000</td>\n",
       "      <td>8.0</td>\n",
       "      <td>408.0</td>\n",
       "      <td>52.0</td>\n",
       "      <td>14.0</td>\n",
       "      <td>81.0</td>\n",
       "      <td>52</td>\n",
       "      <td>NaT</td>\n",
       "      <td>Краснодар</td>\n",
       "      <td>Рафаил</td>\n",
       "      <td>Верещагин</td>\n",
       "      <td>2018-05-25</td>\n",
       "      <td>ultra</td>\n",
       "      <td>1000</td>\n",
       "      <td>30</td>\n",
       "      <td>3000</td>\n",
       "      <td>1950</td>\n",
       "      <td>150</td>\n",
       "      <td>1</td>\n",
       "      <td>1</td>\n",
       "    </tr>\n",
       "    <tr>\n",
       "      <th>4</th>\n",
       "      <td>1000</td>\n",
       "      <td>9.0</td>\n",
       "      <td>466.0</td>\n",
       "      <td>58.0</td>\n",
       "      <td>15.0</td>\n",
       "      <td>57.0</td>\n",
       "      <td>52</td>\n",
       "      <td>NaT</td>\n",
       "      <td>Краснодар</td>\n",
       "      <td>Рафаил</td>\n",
       "      <td>Верещагин</td>\n",
       "      <td>2018-05-25</td>\n",
       "      <td>ultra</td>\n",
       "      <td>1000</td>\n",
       "      <td>30</td>\n",
       "      <td>3000</td>\n",
       "      <td>1950</td>\n",
       "      <td>150</td>\n",
       "      <td>1</td>\n",
       "      <td>1</td>\n",
       "    </tr>\n",
       "  </tbody>\n",
       "</table>\n",
       "</div>"
      ],
      "text/plain": [
       "   user_id  month  calls_sum  calls_count  gb_used  messages_count  age  \\\n",
       "0     1000    5.0      159.0         22.0      3.0            22.0   52   \n",
       "1     1000    6.0      172.0         43.0     23.0            60.0   52   \n",
       "2     1000    7.0      340.0         47.0     14.0            75.0   52   \n",
       "3     1000    8.0      408.0         52.0     14.0            81.0   52   \n",
       "4     1000    9.0      466.0         58.0     15.0            57.0   52   \n",
       "\n",
       "  churn_date       city first_name  last_name   reg_date tariff  \\\n",
       "0        NaT  Краснодар     Рафаил  Верещагин 2018-05-25  ultra   \n",
       "1        NaT  Краснодар     Рафаил  Верещагин 2018-05-25  ultra   \n",
       "2        NaT  Краснодар     Рафаил  Верещагин 2018-05-25  ultra   \n",
       "3        NaT  Краснодар     Рафаил  Верещагин 2018-05-25  ultra   \n",
       "4        NaT  Краснодар     Рафаил  Верещагин 2018-05-25  ultra   \n",
       "\n",
       "   messages_included  gb_per_month_included  minutes_included  \\\n",
       "0               1000                     30              3000   \n",
       "1               1000                     30              3000   \n",
       "2               1000                     30              3000   \n",
       "3               1000                     30              3000   \n",
       "4               1000                     30              3000   \n",
       "\n",
       "   rub_monthly_fee  rub_per_gb  rub_per_message  rub_per_minute  \n",
       "0             1950         150                1               1  \n",
       "1             1950         150                1               1  \n",
       "2             1950         150                1               1  \n",
       "3             1950         150                1               1  \n",
       "4             1950         150                1               1  "
      ]
     },
     "execution_count": 31,
     "metadata": {},
     "output_type": "execute_result"
    }
   ],
   "source": [
    "data = data.merge(data_tariffs, on = ['tariff'], how = 'outer')\n",
    "data.head()"
   ]
  },
  {
   "cell_type": "markdown",
   "metadata": {},
   "source": [
    "Посмотрим информацию о получившейся таблице"
   ]
  },
  {
   "cell_type": "code",
   "execution_count": 32,
   "metadata": {
    "scrolled": false
   },
   "outputs": [
    {
     "name": "stdout",
     "output_type": "stream",
     "text": [
      "<class 'pandas.core.frame.DataFrame'>\n",
      "Int64Index: 3216 entries, 0 to 3215\n",
      "Data columns (total 20 columns):\n",
      " #   Column                 Non-Null Count  Dtype         \n",
      "---  ------                 --------------  -----         \n",
      " 0   user_id                3216 non-null   int64         \n",
      " 1   month                  3214 non-null   float64       \n",
      " 2   calls_sum              3174 non-null   float64       \n",
      " 3   calls_count            3174 non-null   float64       \n",
      " 4   gb_used                3203 non-null   float64       \n",
      " 5   messages_count         2717 non-null   float64       \n",
      " 6   age                    3216 non-null   int64         \n",
      " 7   churn_date             189 non-null    datetime64[ns]\n",
      " 8   city                   3216 non-null   object        \n",
      " 9   first_name             3216 non-null   object        \n",
      " 10  last_name              3216 non-null   object        \n",
      " 11  reg_date               3216 non-null   datetime64[ns]\n",
      " 12  tariff                 3216 non-null   object        \n",
      " 13  messages_included      3216 non-null   int64         \n",
      " 14  gb_per_month_included  3216 non-null   int32         \n",
      " 15  minutes_included       3216 non-null   int64         \n",
      " 16  rub_monthly_fee        3216 non-null   int64         \n",
      " 17  rub_per_gb             3216 non-null   int64         \n",
      " 18  rub_per_message        3216 non-null   int64         \n",
      " 19  rub_per_minute         3216 non-null   int64         \n",
      "dtypes: datetime64[ns](2), float64(5), int32(1), int64(8), object(4)\n",
      "memory usage: 515.1+ KB\n"
     ]
    }
   ],
   "source": [
    "data.info()"
   ]
  },
  {
   "cell_type": "markdown",
   "metadata": {},
   "source": [
    "Проверим, на мессте ли все пользователи."
   ]
  },
  {
   "cell_type": "code",
   "execution_count": 33,
   "metadata": {},
   "outputs": [
    {
     "data": {
      "text/plain": [
       "500"
      ]
     },
     "execution_count": 33,
     "metadata": {},
     "output_type": "execute_result"
    }
   ],
   "source": [
    "len(data['user_id'].value_counts())"
   ]
  },
  {
   "cell_type": "markdown",
   "metadata": {},
   "source": [
    "Посмотрим на строки с пустыми значениями в месяцах."
   ]
  },
  {
   "cell_type": "code",
   "execution_count": 34,
   "metadata": {},
   "outputs": [
    {
     "data": {
      "text/html": [
       "<div>\n",
       "<style scoped>\n",
       "    .dataframe tbody tr th:only-of-type {\n",
       "        vertical-align: middle;\n",
       "    }\n",
       "\n",
       "    .dataframe tbody tr th {\n",
       "        vertical-align: top;\n",
       "    }\n",
       "\n",
       "    .dataframe thead th {\n",
       "        text-align: right;\n",
       "    }\n",
       "</style>\n",
       "<table border=\"1\" class=\"dataframe\">\n",
       "  <thead>\n",
       "    <tr style=\"text-align: right;\">\n",
       "      <th></th>\n",
       "      <th>user_id</th>\n",
       "      <th>month</th>\n",
       "      <th>calls_sum</th>\n",
       "      <th>calls_count</th>\n",
       "      <th>gb_used</th>\n",
       "      <th>messages_count</th>\n",
       "      <th>age</th>\n",
       "      <th>churn_date</th>\n",
       "      <th>city</th>\n",
       "      <th>first_name</th>\n",
       "      <th>last_name</th>\n",
       "      <th>reg_date</th>\n",
       "      <th>tariff</th>\n",
       "      <th>messages_included</th>\n",
       "      <th>gb_per_month_included</th>\n",
       "      <th>minutes_included</th>\n",
       "      <th>rub_monthly_fee</th>\n",
       "      <th>rub_per_gb</th>\n",
       "      <th>rub_per_message</th>\n",
       "      <th>rub_per_minute</th>\n",
       "    </tr>\n",
       "  </thead>\n",
       "  <tbody>\n",
       "    <tr>\n",
       "      <th>985</th>\n",
       "      <td>1128</td>\n",
       "      <td>NaN</td>\n",
       "      <td>NaN</td>\n",
       "      <td>NaN</td>\n",
       "      <td>NaN</td>\n",
       "      <td>NaN</td>\n",
       "      <td>51</td>\n",
       "      <td>2018-12-23</td>\n",
       "      <td>Волжский</td>\n",
       "      <td>Ксения</td>\n",
       "      <td>Агаева</td>\n",
       "      <td>2018-12-15</td>\n",
       "      <td>ultra</td>\n",
       "      <td>1000</td>\n",
       "      <td>30</td>\n",
       "      <td>3000</td>\n",
       "      <td>1950</td>\n",
       "      <td>150</td>\n",
       "      <td>1</td>\n",
       "      <td>1</td>\n",
       "    </tr>\n",
       "    <tr>\n",
       "      <th>3215</th>\n",
       "      <td>1371</td>\n",
       "      <td>NaN</td>\n",
       "      <td>NaN</td>\n",
       "      <td>NaN</td>\n",
       "      <td>NaN</td>\n",
       "      <td>NaN</td>\n",
       "      <td>50</td>\n",
       "      <td>2018-12-30</td>\n",
       "      <td>Омск</td>\n",
       "      <td>Ириней</td>\n",
       "      <td>Трофимов</td>\n",
       "      <td>2018-12-25</td>\n",
       "      <td>smart</td>\n",
       "      <td>50</td>\n",
       "      <td>15</td>\n",
       "      <td>500</td>\n",
       "      <td>550</td>\n",
       "      <td>200</td>\n",
       "      <td>3</td>\n",
       "      <td>3</td>\n",
       "    </tr>\n",
       "  </tbody>\n",
       "</table>\n",
       "</div>"
      ],
      "text/plain": [
       "      user_id  month  calls_sum  calls_count  gb_used  messages_count  age  \\\n",
       "985      1128    NaN        NaN          NaN      NaN             NaN   51   \n",
       "3215     1371    NaN        NaN          NaN      NaN             NaN   50   \n",
       "\n",
       "     churn_date      city first_name last_name   reg_date tariff  \\\n",
       "985  2018-12-23  Волжский     Ксения    Агаева 2018-12-15  ultra   \n",
       "3215 2018-12-30      Омск     Ириней  Трофимов 2018-12-25  smart   \n",
       "\n",
       "      messages_included  gb_per_month_included  minutes_included  \\\n",
       "985                1000                     30              3000   \n",
       "3215                 50                     15               500   \n",
       "\n",
       "      rub_monthly_fee  rub_per_gb  rub_per_message  rub_per_minute  \n",
       "985              1950         150                1               1  \n",
       "3215              550         200                3               3  "
      ]
     },
     "execution_count": 34,
     "metadata": {},
     "output_type": "execute_result"
    }
   ],
   "source": [
    "data.loc[data['month'].isna()]"
   ]
  },
  {
   "cell_type": "code",
   "execution_count": 35,
   "metadata": {
    "scrolled": false
   },
   "outputs": [
    {
     "data": {
      "text/html": [
       "<div>\n",
       "<style scoped>\n",
       "    .dataframe tbody tr th:only-of-type {\n",
       "        vertical-align: middle;\n",
       "    }\n",
       "\n",
       "    .dataframe tbody tr th {\n",
       "        vertical-align: top;\n",
       "    }\n",
       "\n",
       "    .dataframe thead th {\n",
       "        text-align: right;\n",
       "    }\n",
       "</style>\n",
       "<table border=\"1\" class=\"dataframe\">\n",
       "  <thead>\n",
       "    <tr style=\"text-align: right;\">\n",
       "      <th></th>\n",
       "      <th>user_id</th>\n",
       "      <th>month</th>\n",
       "      <th>calls_sum</th>\n",
       "      <th>calls_count</th>\n",
       "      <th>gb_used</th>\n",
       "      <th>messages_count</th>\n",
       "      <th>age</th>\n",
       "      <th>churn_date</th>\n",
       "      <th>city</th>\n",
       "      <th>first_name</th>\n",
       "      <th>last_name</th>\n",
       "      <th>reg_date</th>\n",
       "      <th>tariff</th>\n",
       "      <th>messages_included</th>\n",
       "      <th>gb_per_month_included</th>\n",
       "      <th>minutes_included</th>\n",
       "      <th>rub_monthly_fee</th>\n",
       "      <th>rub_per_gb</th>\n",
       "      <th>rub_per_message</th>\n",
       "      <th>rub_per_minute</th>\n",
       "    </tr>\n",
       "  </thead>\n",
       "  <tbody>\n",
       "    <tr>\n",
       "      <th>985</th>\n",
       "      <td>1128</td>\n",
       "      <td>NaN</td>\n",
       "      <td>NaN</td>\n",
       "      <td>NaN</td>\n",
       "      <td>NaN</td>\n",
       "      <td>NaN</td>\n",
       "      <td>51</td>\n",
       "      <td>2018-12-23</td>\n",
       "      <td>Волжский</td>\n",
       "      <td>Ксения</td>\n",
       "      <td>Агаева</td>\n",
       "      <td>2018-12-15</td>\n",
       "      <td>ultra</td>\n",
       "      <td>1000</td>\n",
       "      <td>30</td>\n",
       "      <td>3000</td>\n",
       "      <td>1950</td>\n",
       "      <td>150</td>\n",
       "      <td>1</td>\n",
       "      <td>1</td>\n",
       "    </tr>\n",
       "    <tr>\n",
       "      <th>3215</th>\n",
       "      <td>1371</td>\n",
       "      <td>NaN</td>\n",
       "      <td>NaN</td>\n",
       "      <td>NaN</td>\n",
       "      <td>NaN</td>\n",
       "      <td>NaN</td>\n",
       "      <td>50</td>\n",
       "      <td>2018-12-30</td>\n",
       "      <td>Омск</td>\n",
       "      <td>Ириней</td>\n",
       "      <td>Трофимов</td>\n",
       "      <td>2018-12-25</td>\n",
       "      <td>smart</td>\n",
       "      <td>50</td>\n",
       "      <td>15</td>\n",
       "      <td>500</td>\n",
       "      <td>550</td>\n",
       "      <td>200</td>\n",
       "      <td>3</td>\n",
       "      <td>3</td>\n",
       "    </tr>\n",
       "  </tbody>\n",
       "</table>\n",
       "</div>"
      ],
      "text/plain": [
       "      user_id  month  calls_sum  calls_count  gb_used  messages_count  age  \\\n",
       "985      1128    NaN        NaN          NaN      NaN             NaN   51   \n",
       "3215     1371    NaN        NaN          NaN      NaN             NaN   50   \n",
       "\n",
       "     churn_date      city first_name last_name   reg_date tariff  \\\n",
       "985  2018-12-23  Волжский     Ксения    Агаева 2018-12-15  ultra   \n",
       "3215 2018-12-30      Омск     Ириней  Трофимов 2018-12-25  smart   \n",
       "\n",
       "      messages_included  gb_per_month_included  minutes_included  \\\n",
       "985                1000                     30              3000   \n",
       "3215                 50                     15               500   \n",
       "\n",
       "      rub_monthly_fee  rub_per_gb  rub_per_message  rub_per_minute  \n",
       "985              1950         150                1               1  \n",
       "3215              550         200                3               3  "
      ]
     },
     "execution_count": 35,
     "metadata": {},
     "output_type": "execute_result"
    }
   ],
   "source": [
    "data.query('user_id == 1128 or user_id == 1371')"
   ]
  },
  {
   "cell_type": "markdown",
   "metadata": {},
   "source": [
    "Это пользователи, которые подключились к тарифам и отказались от них в декабре не воспользовавшись услугами связи.\n",
    "Поскольку у нас нет информации как взымается ежемесячная плата с пользователей. Будем считать, что эти клиенты оплатили полностью тариф за декабрь. Оставим этих пользователей в таблице. Они составляют 0,4% пользователей в выборке.\n",
    "\n",
    "\n",
    "Месяц заполним как декабрь."
   ]
  },
  {
   "cell_type": "code",
   "execution_count": 36,
   "metadata": {},
   "outputs": [
    {
     "data": {
      "text/html": [
       "<div>\n",
       "<style scoped>\n",
       "    .dataframe tbody tr th:only-of-type {\n",
       "        vertical-align: middle;\n",
       "    }\n",
       "\n",
       "    .dataframe tbody tr th {\n",
       "        vertical-align: top;\n",
       "    }\n",
       "\n",
       "    .dataframe thead th {\n",
       "        text-align: right;\n",
       "    }\n",
       "</style>\n",
       "<table border=\"1\" class=\"dataframe\">\n",
       "  <thead>\n",
       "    <tr style=\"text-align: right;\">\n",
       "      <th></th>\n",
       "      <th>user_id</th>\n",
       "      <th>month</th>\n",
       "      <th>calls_sum</th>\n",
       "      <th>calls_count</th>\n",
       "      <th>gb_used</th>\n",
       "      <th>messages_count</th>\n",
       "      <th>age</th>\n",
       "      <th>churn_date</th>\n",
       "      <th>city</th>\n",
       "      <th>first_name</th>\n",
       "      <th>last_name</th>\n",
       "      <th>reg_date</th>\n",
       "      <th>tariff</th>\n",
       "      <th>messages_included</th>\n",
       "      <th>gb_per_month_included</th>\n",
       "      <th>minutes_included</th>\n",
       "      <th>rub_monthly_fee</th>\n",
       "      <th>rub_per_gb</th>\n",
       "      <th>rub_per_message</th>\n",
       "      <th>rub_per_minute</th>\n",
       "    </tr>\n",
       "  </thead>\n",
       "  <tbody>\n",
       "    <tr>\n",
       "      <th>985</th>\n",
       "      <td>1128</td>\n",
       "      <td>12.0</td>\n",
       "      <td>NaN</td>\n",
       "      <td>NaN</td>\n",
       "      <td>NaN</td>\n",
       "      <td>NaN</td>\n",
       "      <td>51</td>\n",
       "      <td>2018-12-23</td>\n",
       "      <td>Волжский</td>\n",
       "      <td>Ксения</td>\n",
       "      <td>Агаева</td>\n",
       "      <td>2018-12-15</td>\n",
       "      <td>ultra</td>\n",
       "      <td>1000</td>\n",
       "      <td>30</td>\n",
       "      <td>3000</td>\n",
       "      <td>1950</td>\n",
       "      <td>150</td>\n",
       "      <td>1</td>\n",
       "      <td>1</td>\n",
       "    </tr>\n",
       "    <tr>\n",
       "      <th>3215</th>\n",
       "      <td>1371</td>\n",
       "      <td>12.0</td>\n",
       "      <td>NaN</td>\n",
       "      <td>NaN</td>\n",
       "      <td>NaN</td>\n",
       "      <td>NaN</td>\n",
       "      <td>50</td>\n",
       "      <td>2018-12-30</td>\n",
       "      <td>Омск</td>\n",
       "      <td>Ириней</td>\n",
       "      <td>Трофимов</td>\n",
       "      <td>2018-12-25</td>\n",
       "      <td>smart</td>\n",
       "      <td>50</td>\n",
       "      <td>15</td>\n",
       "      <td>500</td>\n",
       "      <td>550</td>\n",
       "      <td>200</td>\n",
       "      <td>3</td>\n",
       "      <td>3</td>\n",
       "    </tr>\n",
       "  </tbody>\n",
       "</table>\n",
       "</div>"
      ],
      "text/plain": [
       "      user_id  month  calls_sum  calls_count  gb_used  messages_count  age  \\\n",
       "985      1128   12.0        NaN          NaN      NaN             NaN   51   \n",
       "3215     1371   12.0        NaN          NaN      NaN             NaN   50   \n",
       "\n",
       "     churn_date      city first_name last_name   reg_date tariff  \\\n",
       "985  2018-12-23  Волжский     Ксения    Агаева 2018-12-15  ultra   \n",
       "3215 2018-12-30      Омск     Ириней  Трофимов 2018-12-25  smart   \n",
       "\n",
       "      messages_included  gb_per_month_included  minutes_included  \\\n",
       "985                1000                     30              3000   \n",
       "3215                 50                     15               500   \n",
       "\n",
       "      rub_monthly_fee  rub_per_gb  rub_per_message  rub_per_minute  \n",
       "985              1950         150                1               1  \n",
       "3215              550         200                3               3  "
      ]
     },
     "execution_count": 36,
     "metadata": {},
     "output_type": "execute_result"
    }
   ],
   "source": [
    "data.loc[data['month'].isna(), 'month'] = 12\n",
    "data.query('user_id == 1128 or user_id == 1371')"
   ]
  },
  {
   "cell_type": "markdown",
   "metadata": {},
   "source": [
    "Пропуски в столбцах `calls_sum`, `calls_count`, `gb_used`, `messages_count` означают, что в эти месяцы клиенты не пользовались посчитанными в столбцах услугами. Заменим эти пропуски на 0."
   ]
  },
  {
   "cell_type": "code",
   "execution_count": 37,
   "metadata": {
    "scrolled": false
   },
   "outputs": [
    {
     "name": "stdout",
     "output_type": "stream",
     "text": [
      "<class 'pandas.core.frame.DataFrame'>\n",
      "Int64Index: 3216 entries, 0 to 3215\n",
      "Data columns (total 20 columns):\n",
      " #   Column                 Non-Null Count  Dtype         \n",
      "---  ------                 --------------  -----         \n",
      " 0   user_id                3216 non-null   int64         \n",
      " 1   month                  3216 non-null   float64       \n",
      " 2   calls_sum              3216 non-null   float64       \n",
      " 3   calls_count            3216 non-null   float64       \n",
      " 4   gb_used                3216 non-null   float64       \n",
      " 5   messages_count         3216 non-null   float64       \n",
      " 6   age                    3216 non-null   int64         \n",
      " 7   churn_date             189 non-null    datetime64[ns]\n",
      " 8   city                   3216 non-null   object        \n",
      " 9   first_name             3216 non-null   object        \n",
      " 10  last_name              3216 non-null   object        \n",
      " 11  reg_date               3216 non-null   datetime64[ns]\n",
      " 12  tariff                 3216 non-null   object        \n",
      " 13  messages_included      3216 non-null   int64         \n",
      " 14  gb_per_month_included  3216 non-null   int32         \n",
      " 15  minutes_included       3216 non-null   int64         \n",
      " 16  rub_monthly_fee        3216 non-null   int64         \n",
      " 17  rub_per_gb             3216 non-null   int64         \n",
      " 18  rub_per_message        3216 non-null   int64         \n",
      " 19  rub_per_minute         3216 non-null   int64         \n",
      "dtypes: datetime64[ns](2), float64(5), int32(1), int64(8), object(4)\n",
      "memory usage: 515.1+ KB\n"
     ]
    }
   ],
   "source": [
    "data.loc[data['calls_sum'].isna(), 'calls_sum'] = 0\n",
    "data.loc[data['calls_count'].isna(), 'calls_count'] = 0\n",
    "data.loc[data['gb_used'].isna(), 'gb_used'] = 0\n",
    "data.loc[data['messages_count'].isna(), 'messages_count'] = 0\n",
    "\n",
    "data.info()"
   ]
  },
  {
   "cell_type": "markdown",
   "metadata": {},
   "source": [
    "Пропуски остались только в столбце с датой отключения пользователя от тарифа, эти пропуски соответствуют клиентам, которые на момент формирования выборки еще пользовались указанным тарифом, их заполнять не надо.\n",
    "\n",
    "Приведем данные к нужным форматам"
   ]
  },
  {
   "cell_type": "code",
   "execution_count": 38,
   "metadata": {
    "scrolled": false
   },
   "outputs": [
    {
     "name": "stdout",
     "output_type": "stream",
     "text": [
      "<class 'pandas.core.frame.DataFrame'>\n",
      "Int64Index: 3216 entries, 0 to 3215\n",
      "Data columns (total 20 columns):\n",
      " #   Column                 Non-Null Count  Dtype         \n",
      "---  ------                 --------------  -----         \n",
      " 0   user_id                3216 non-null   int64         \n",
      " 1   month                  3216 non-null   int32         \n",
      " 2   calls_sum              3216 non-null   int32         \n",
      " 3   calls_count            3216 non-null   int32         \n",
      " 4   gb_used                3216 non-null   int32         \n",
      " 5   messages_count         3216 non-null   int32         \n",
      " 6   age                    3216 non-null   int64         \n",
      " 7   churn_date             189 non-null    datetime64[ns]\n",
      " 8   city                   3216 non-null   object        \n",
      " 9   first_name             3216 non-null   object        \n",
      " 10  last_name              3216 non-null   object        \n",
      " 11  reg_date               3216 non-null   datetime64[ns]\n",
      " 12  tariff                 3216 non-null   object        \n",
      " 13  messages_included      3216 non-null   int64         \n",
      " 14  gb_per_month_included  3216 non-null   int32         \n",
      " 15  minutes_included       3216 non-null   int64         \n",
      " 16  rub_monthly_fee        3216 non-null   int64         \n",
      " 17  rub_per_gb             3216 non-null   int64         \n",
      " 18  rub_per_message        3216 non-null   int64         \n",
      " 19  rub_per_minute         3216 non-null   int64         \n",
      "dtypes: datetime64[ns](2), int32(6), int64(8), object(4)\n",
      "memory usage: 452.2+ KB\n"
     ]
    }
   ],
   "source": [
    "data['month'] = data['month'].astype('int')\n",
    "data['calls_sum'] = data['calls_sum'].astype('int')\n",
    "data['calls_count'] = data['calls_count'].astype('int')\n",
    "data['gb_used'] = data['gb_used'].astype('int')\n",
    "data['messages_count'] = data['messages_count'].astype('int')\n",
    "data.info()"
   ]
  },
  {
   "cell_type": "markdown",
   "metadata": {},
   "source": [
    "### Расчет выручки по пользователям по месяцам."
   ]
  },
  {
   "cell_type": "markdown",
   "metadata": {},
   "source": [
    "Посчитаем превышение лимитов по тарифам для пользователей по месяцам, добавим эти данные в таблицу."
   ]
  },
  {
   "cell_type": "code",
   "execution_count": 39,
   "metadata": {
    "scrolled": true
   },
   "outputs": [
    {
     "data": {
      "text/html": [
       "<div>\n",
       "<style scoped>\n",
       "    .dataframe tbody tr th:only-of-type {\n",
       "        vertical-align: middle;\n",
       "    }\n",
       "\n",
       "    .dataframe tbody tr th {\n",
       "        vertical-align: top;\n",
       "    }\n",
       "\n",
       "    .dataframe thead th {\n",
       "        text-align: right;\n",
       "    }\n",
       "</style>\n",
       "<table border=\"1\" class=\"dataframe\">\n",
       "  <thead>\n",
       "    <tr style=\"text-align: right;\">\n",
       "      <th></th>\n",
       "      <th>user_id</th>\n",
       "      <th>month</th>\n",
       "      <th>calls_sum</th>\n",
       "      <th>calls_count</th>\n",
       "      <th>gb_used</th>\n",
       "      <th>messages_count</th>\n",
       "      <th>age</th>\n",
       "      <th>churn_date</th>\n",
       "      <th>city</th>\n",
       "      <th>first_name</th>\n",
       "      <th>...</th>\n",
       "      <th>messages_included</th>\n",
       "      <th>gb_per_month_included</th>\n",
       "      <th>minutes_included</th>\n",
       "      <th>rub_monthly_fee</th>\n",
       "      <th>rub_per_gb</th>\n",
       "      <th>rub_per_message</th>\n",
       "      <th>rub_per_minute</th>\n",
       "      <th>calls_over</th>\n",
       "      <th>gb_over</th>\n",
       "      <th>messages_over</th>\n",
       "    </tr>\n",
       "  </thead>\n",
       "  <tbody>\n",
       "    <tr>\n",
       "      <th>0</th>\n",
       "      <td>1000</td>\n",
       "      <td>5</td>\n",
       "      <td>159</td>\n",
       "      <td>22</td>\n",
       "      <td>3</td>\n",
       "      <td>22</td>\n",
       "      <td>52</td>\n",
       "      <td>NaT</td>\n",
       "      <td>Краснодар</td>\n",
       "      <td>Рафаил</td>\n",
       "      <td>...</td>\n",
       "      <td>1000</td>\n",
       "      <td>30</td>\n",
       "      <td>3000</td>\n",
       "      <td>1950</td>\n",
       "      <td>150</td>\n",
       "      <td>1</td>\n",
       "      <td>1</td>\n",
       "      <td>0</td>\n",
       "      <td>0</td>\n",
       "      <td>0</td>\n",
       "    </tr>\n",
       "    <tr>\n",
       "      <th>1</th>\n",
       "      <td>1000</td>\n",
       "      <td>6</td>\n",
       "      <td>172</td>\n",
       "      <td>43</td>\n",
       "      <td>23</td>\n",
       "      <td>60</td>\n",
       "      <td>52</td>\n",
       "      <td>NaT</td>\n",
       "      <td>Краснодар</td>\n",
       "      <td>Рафаил</td>\n",
       "      <td>...</td>\n",
       "      <td>1000</td>\n",
       "      <td>30</td>\n",
       "      <td>3000</td>\n",
       "      <td>1950</td>\n",
       "      <td>150</td>\n",
       "      <td>1</td>\n",
       "      <td>1</td>\n",
       "      <td>0</td>\n",
       "      <td>0</td>\n",
       "      <td>0</td>\n",
       "    </tr>\n",
       "    <tr>\n",
       "      <th>2</th>\n",
       "      <td>1000</td>\n",
       "      <td>7</td>\n",
       "      <td>340</td>\n",
       "      <td>47</td>\n",
       "      <td>14</td>\n",
       "      <td>75</td>\n",
       "      <td>52</td>\n",
       "      <td>NaT</td>\n",
       "      <td>Краснодар</td>\n",
       "      <td>Рафаил</td>\n",
       "      <td>...</td>\n",
       "      <td>1000</td>\n",
       "      <td>30</td>\n",
       "      <td>3000</td>\n",
       "      <td>1950</td>\n",
       "      <td>150</td>\n",
       "      <td>1</td>\n",
       "      <td>1</td>\n",
       "      <td>0</td>\n",
       "      <td>0</td>\n",
       "      <td>0</td>\n",
       "    </tr>\n",
       "    <tr>\n",
       "      <th>3</th>\n",
       "      <td>1000</td>\n",
       "      <td>8</td>\n",
       "      <td>408</td>\n",
       "      <td>52</td>\n",
       "      <td>14</td>\n",
       "      <td>81</td>\n",
       "      <td>52</td>\n",
       "      <td>NaT</td>\n",
       "      <td>Краснодар</td>\n",
       "      <td>Рафаил</td>\n",
       "      <td>...</td>\n",
       "      <td>1000</td>\n",
       "      <td>30</td>\n",
       "      <td>3000</td>\n",
       "      <td>1950</td>\n",
       "      <td>150</td>\n",
       "      <td>1</td>\n",
       "      <td>1</td>\n",
       "      <td>0</td>\n",
       "      <td>0</td>\n",
       "      <td>0</td>\n",
       "    </tr>\n",
       "    <tr>\n",
       "      <th>4</th>\n",
       "      <td>1000</td>\n",
       "      <td>9</td>\n",
       "      <td>466</td>\n",
       "      <td>58</td>\n",
       "      <td>15</td>\n",
       "      <td>57</td>\n",
       "      <td>52</td>\n",
       "      <td>NaT</td>\n",
       "      <td>Краснодар</td>\n",
       "      <td>Рафаил</td>\n",
       "      <td>...</td>\n",
       "      <td>1000</td>\n",
       "      <td>30</td>\n",
       "      <td>3000</td>\n",
       "      <td>1950</td>\n",
       "      <td>150</td>\n",
       "      <td>1</td>\n",
       "      <td>1</td>\n",
       "      <td>0</td>\n",
       "      <td>0</td>\n",
       "      <td>0</td>\n",
       "    </tr>\n",
       "  </tbody>\n",
       "</table>\n",
       "<p>5 rows × 23 columns</p>\n",
       "</div>"
      ],
      "text/plain": [
       "   user_id  month  calls_sum  calls_count  gb_used  messages_count  age  \\\n",
       "0     1000      5        159           22        3              22   52   \n",
       "1     1000      6        172           43       23              60   52   \n",
       "2     1000      7        340           47       14              75   52   \n",
       "3     1000      8        408           52       14              81   52   \n",
       "4     1000      9        466           58       15              57   52   \n",
       "\n",
       "  churn_date       city first_name  ... messages_included  \\\n",
       "0        NaT  Краснодар     Рафаил  ...              1000   \n",
       "1        NaT  Краснодар     Рафаил  ...              1000   \n",
       "2        NaT  Краснодар     Рафаил  ...              1000   \n",
       "3        NaT  Краснодар     Рафаил  ...              1000   \n",
       "4        NaT  Краснодар     Рафаил  ...              1000   \n",
       "\n",
       "  gb_per_month_included minutes_included  rub_monthly_fee  rub_per_gb  \\\n",
       "0                    30             3000             1950         150   \n",
       "1                    30             3000             1950         150   \n",
       "2                    30             3000             1950         150   \n",
       "3                    30             3000             1950         150   \n",
       "4                    30             3000             1950         150   \n",
       "\n",
       "   rub_per_message  rub_per_minute  calls_over  gb_over  messages_over  \n",
       "0                1               1           0        0              0  \n",
       "1                1               1           0        0              0  \n",
       "2                1               1           0        0              0  \n",
       "3                1               1           0        0              0  \n",
       "4                1               1           0        0              0  \n",
       "\n",
       "[5 rows x 23 columns]"
      ]
     },
     "execution_count": 39,
     "metadata": {},
     "output_type": "execute_result"
    }
   ],
   "source": [
    "data['calls_over'] = data['calls_sum'] - data['minutes_included']\n",
    "data.loc[data['calls_over'] < 0, 'calls_over'] = 0\n",
    "\n",
    "data['gb_over'] = data['gb_used'] - data['gb_per_month_included']\n",
    "data.loc[data['gb_over'] < 0, 'gb_over'] = 0\n",
    "\n",
    "data['messages_over'] = data['messages_count'] - data['messages_included']\n",
    "data.loc[data['messages_over'] < 0, 'messages_over'] = 0\n",
    "\n",
    "data.head()"
   ]
  },
  {
   "cell_type": "markdown",
   "metadata": {},
   "source": [
    "Посчитаем по-месячно выручку по каждому пользователю в выборке, добавим столбец с выручкой за месяц к таблице."
   ]
  },
  {
   "cell_type": "code",
   "execution_count": 40,
   "metadata": {
    "scrolled": true
   },
   "outputs": [
    {
     "data": {
      "text/html": [
       "<div>\n",
       "<style scoped>\n",
       "    .dataframe tbody tr th:only-of-type {\n",
       "        vertical-align: middle;\n",
       "    }\n",
       "\n",
       "    .dataframe tbody tr th {\n",
       "        vertical-align: top;\n",
       "    }\n",
       "\n",
       "    .dataframe thead th {\n",
       "        text-align: right;\n",
       "    }\n",
       "</style>\n",
       "<table border=\"1\" class=\"dataframe\">\n",
       "  <thead>\n",
       "    <tr style=\"text-align: right;\">\n",
       "      <th></th>\n",
       "      <th>user_id</th>\n",
       "      <th>month</th>\n",
       "      <th>calls_sum</th>\n",
       "      <th>calls_count</th>\n",
       "      <th>gb_used</th>\n",
       "      <th>messages_count</th>\n",
       "      <th>age</th>\n",
       "      <th>churn_date</th>\n",
       "      <th>city</th>\n",
       "      <th>first_name</th>\n",
       "      <th>...</th>\n",
       "      <th>gb_per_month_included</th>\n",
       "      <th>minutes_included</th>\n",
       "      <th>rub_monthly_fee</th>\n",
       "      <th>rub_per_gb</th>\n",
       "      <th>rub_per_message</th>\n",
       "      <th>rub_per_minute</th>\n",
       "      <th>calls_over</th>\n",
       "      <th>gb_over</th>\n",
       "      <th>messages_over</th>\n",
       "      <th>revenue</th>\n",
       "    </tr>\n",
       "  </thead>\n",
       "  <tbody>\n",
       "    <tr>\n",
       "      <th>0</th>\n",
       "      <td>1000</td>\n",
       "      <td>5</td>\n",
       "      <td>159</td>\n",
       "      <td>22</td>\n",
       "      <td>3</td>\n",
       "      <td>22</td>\n",
       "      <td>52</td>\n",
       "      <td>NaT</td>\n",
       "      <td>Краснодар</td>\n",
       "      <td>Рафаил</td>\n",
       "      <td>...</td>\n",
       "      <td>30</td>\n",
       "      <td>3000</td>\n",
       "      <td>1950</td>\n",
       "      <td>150</td>\n",
       "      <td>1</td>\n",
       "      <td>1</td>\n",
       "      <td>0</td>\n",
       "      <td>0</td>\n",
       "      <td>0</td>\n",
       "      <td>1950</td>\n",
       "    </tr>\n",
       "    <tr>\n",
       "      <th>1</th>\n",
       "      <td>1000</td>\n",
       "      <td>6</td>\n",
       "      <td>172</td>\n",
       "      <td>43</td>\n",
       "      <td>23</td>\n",
       "      <td>60</td>\n",
       "      <td>52</td>\n",
       "      <td>NaT</td>\n",
       "      <td>Краснодар</td>\n",
       "      <td>Рафаил</td>\n",
       "      <td>...</td>\n",
       "      <td>30</td>\n",
       "      <td>3000</td>\n",
       "      <td>1950</td>\n",
       "      <td>150</td>\n",
       "      <td>1</td>\n",
       "      <td>1</td>\n",
       "      <td>0</td>\n",
       "      <td>0</td>\n",
       "      <td>0</td>\n",
       "      <td>1950</td>\n",
       "    </tr>\n",
       "    <tr>\n",
       "      <th>2</th>\n",
       "      <td>1000</td>\n",
       "      <td>7</td>\n",
       "      <td>340</td>\n",
       "      <td>47</td>\n",
       "      <td>14</td>\n",
       "      <td>75</td>\n",
       "      <td>52</td>\n",
       "      <td>NaT</td>\n",
       "      <td>Краснодар</td>\n",
       "      <td>Рафаил</td>\n",
       "      <td>...</td>\n",
       "      <td>30</td>\n",
       "      <td>3000</td>\n",
       "      <td>1950</td>\n",
       "      <td>150</td>\n",
       "      <td>1</td>\n",
       "      <td>1</td>\n",
       "      <td>0</td>\n",
       "      <td>0</td>\n",
       "      <td>0</td>\n",
       "      <td>1950</td>\n",
       "    </tr>\n",
       "    <tr>\n",
       "      <th>3</th>\n",
       "      <td>1000</td>\n",
       "      <td>8</td>\n",
       "      <td>408</td>\n",
       "      <td>52</td>\n",
       "      <td>14</td>\n",
       "      <td>81</td>\n",
       "      <td>52</td>\n",
       "      <td>NaT</td>\n",
       "      <td>Краснодар</td>\n",
       "      <td>Рафаил</td>\n",
       "      <td>...</td>\n",
       "      <td>30</td>\n",
       "      <td>3000</td>\n",
       "      <td>1950</td>\n",
       "      <td>150</td>\n",
       "      <td>1</td>\n",
       "      <td>1</td>\n",
       "      <td>0</td>\n",
       "      <td>0</td>\n",
       "      <td>0</td>\n",
       "      <td>1950</td>\n",
       "    </tr>\n",
       "    <tr>\n",
       "      <th>4</th>\n",
       "      <td>1000</td>\n",
       "      <td>9</td>\n",
       "      <td>466</td>\n",
       "      <td>58</td>\n",
       "      <td>15</td>\n",
       "      <td>57</td>\n",
       "      <td>52</td>\n",
       "      <td>NaT</td>\n",
       "      <td>Краснодар</td>\n",
       "      <td>Рафаил</td>\n",
       "      <td>...</td>\n",
       "      <td>30</td>\n",
       "      <td>3000</td>\n",
       "      <td>1950</td>\n",
       "      <td>150</td>\n",
       "      <td>1</td>\n",
       "      <td>1</td>\n",
       "      <td>0</td>\n",
       "      <td>0</td>\n",
       "      <td>0</td>\n",
       "      <td>1950</td>\n",
       "    </tr>\n",
       "  </tbody>\n",
       "</table>\n",
       "<p>5 rows × 24 columns</p>\n",
       "</div>"
      ],
      "text/plain": [
       "   user_id  month  calls_sum  calls_count  gb_used  messages_count  age  \\\n",
       "0     1000      5        159           22        3              22   52   \n",
       "1     1000      6        172           43       23              60   52   \n",
       "2     1000      7        340           47       14              75   52   \n",
       "3     1000      8        408           52       14              81   52   \n",
       "4     1000      9        466           58       15              57   52   \n",
       "\n",
       "  churn_date       city first_name  ... gb_per_month_included  \\\n",
       "0        NaT  Краснодар     Рафаил  ...                    30   \n",
       "1        NaT  Краснодар     Рафаил  ...                    30   \n",
       "2        NaT  Краснодар     Рафаил  ...                    30   \n",
       "3        NaT  Краснодар     Рафаил  ...                    30   \n",
       "4        NaT  Краснодар     Рафаил  ...                    30   \n",
       "\n",
       "  minutes_included rub_monthly_fee  rub_per_gb  rub_per_message  \\\n",
       "0             3000            1950         150                1   \n",
       "1             3000            1950         150                1   \n",
       "2             3000            1950         150                1   \n",
       "3             3000            1950         150                1   \n",
       "4             3000            1950         150                1   \n",
       "\n",
       "   rub_per_minute  calls_over  gb_over  messages_over  revenue  \n",
       "0               1           0        0              0     1950  \n",
       "1               1           0        0              0     1950  \n",
       "2               1           0        0              0     1950  \n",
       "3               1           0        0              0     1950  \n",
       "4               1           0        0              0     1950  \n",
       "\n",
       "[5 rows x 24 columns]"
      ]
     },
     "execution_count": 40,
     "metadata": {},
     "output_type": "execute_result"
    }
   ],
   "source": [
    "data['revenue'] =(\n",
    "data['rub_monthly_fee'] + data['calls_over'] * data['rub_per_minute'] + data['gb_over'] * data['rub_per_gb'] \n",
    "+ data['messages_over'] * data['rub_per_message'] )\n",
    "\n",
    "data.head()"
   ]
  },
  {
   "cell_type": "markdown",
   "metadata": {},
   "source": [
    "Удалим из таблицы столбцы, которые не нужны для анализа (имя, фамилию клиента, информацию о тарифах, которая есть в таблице \n",
    "с тарифами), а также столбцы с данными о звонках, сообщениях и интернет-трафике сверх-тарифа, которые были добавлены для расчета выручки.    \n"
   ]
  },
  {
   "cell_type": "code",
   "execution_count": 41,
   "metadata": {},
   "outputs": [
    {
     "name": "stdout",
     "output_type": "stream",
     "text": [
      "<class 'pandas.core.frame.DataFrame'>\n",
      "Int64Index: 3216 entries, 0 to 3215\n",
      "Data columns (total 24 columns):\n",
      " #   Column                 Non-Null Count  Dtype         \n",
      "---  ------                 --------------  -----         \n",
      " 0   user_id                3216 non-null   int64         \n",
      " 1   month                  3216 non-null   int32         \n",
      " 2   calls_sum              3216 non-null   int32         \n",
      " 3   calls_count            3216 non-null   int32         \n",
      " 4   gb_used                3216 non-null   int32         \n",
      " 5   messages_count         3216 non-null   int32         \n",
      " 6   age                    3216 non-null   int64         \n",
      " 7   churn_date             189 non-null    datetime64[ns]\n",
      " 8   city                   3216 non-null   object        \n",
      " 9   first_name             3216 non-null   object        \n",
      " 10  last_name              3216 non-null   object        \n",
      " 11  reg_date               3216 non-null   datetime64[ns]\n",
      " 12  tariff                 3216 non-null   object        \n",
      " 13  messages_included      3216 non-null   int64         \n",
      " 14  gb_per_month_included  3216 non-null   int32         \n",
      " 15  minutes_included       3216 non-null   int64         \n",
      " 16  rub_monthly_fee        3216 non-null   int64         \n",
      " 17  rub_per_gb             3216 non-null   int64         \n",
      " 18  rub_per_message        3216 non-null   int64         \n",
      " 19  rub_per_minute         3216 non-null   int64         \n",
      " 20  calls_over             3216 non-null   int64         \n",
      " 21  gb_over                3216 non-null   int32         \n",
      " 22  messages_over          3216 non-null   int64         \n",
      " 23  revenue                3216 non-null   int64         \n",
      "dtypes: datetime64[ns](2), int32(7), int64(11), object(4)\n",
      "memory usage: 540.2+ KB\n"
     ]
    }
   ],
   "source": [
    "data.info()"
   ]
  },
  {
   "cell_type": "code",
   "execution_count": 42,
   "metadata": {
    "scrolled": true
   },
   "outputs": [],
   "source": [
    "data =(\n",
    "    data.drop(\n",
    "        ['first_name',\n",
    "         'last_name', \n",
    "         'messages_included', \n",
    "         'gb_per_month_included', \n",
    "         'minutes_included', \n",
    "         'rub_monthly_fee', \n",
    "         'rub_per_gb', \n",
    "         'rub_per_message', \n",
    "         'rub_per_minute', \n",
    "         'calls_over', \n",
    "         'gb_over', \n",
    "         'messages_over'  ],\n",
    "    axis=1)\n",
    ")"
   ]
  },
  {
   "cell_type": "code",
   "execution_count": 43,
   "metadata": {},
   "outputs": [
    {
     "name": "stdout",
     "output_type": "stream",
     "text": [
      "<class 'pandas.core.frame.DataFrame'>\n",
      "Int64Index: 3216 entries, 0 to 3215\n",
      "Data columns (total 12 columns):\n",
      " #   Column          Non-Null Count  Dtype         \n",
      "---  ------          --------------  -----         \n",
      " 0   user_id         3216 non-null   int64         \n",
      " 1   month           3216 non-null   int32         \n",
      " 2   calls_sum       3216 non-null   int32         \n",
      " 3   calls_count     3216 non-null   int32         \n",
      " 4   gb_used         3216 non-null   int32         \n",
      " 5   messages_count  3216 non-null   int32         \n",
      " 6   age             3216 non-null   int64         \n",
      " 7   churn_date      189 non-null    datetime64[ns]\n",
      " 8   city            3216 non-null   object        \n",
      " 9   reg_date        3216 non-null   datetime64[ns]\n",
      " 10  tariff          3216 non-null   object        \n",
      " 11  revenue         3216 non-null   int64         \n",
      "dtypes: datetime64[ns](2), int32(5), int64(3), object(2)\n",
      "memory usage: 263.8+ KB\n"
     ]
    },
    {
     "data": {
      "text/html": [
       "<div>\n",
       "<style scoped>\n",
       "    .dataframe tbody tr th:only-of-type {\n",
       "        vertical-align: middle;\n",
       "    }\n",
       "\n",
       "    .dataframe tbody tr th {\n",
       "        vertical-align: top;\n",
       "    }\n",
       "\n",
       "    .dataframe thead th {\n",
       "        text-align: right;\n",
       "    }\n",
       "</style>\n",
       "<table border=\"1\" class=\"dataframe\">\n",
       "  <thead>\n",
       "    <tr style=\"text-align: right;\">\n",
       "      <th></th>\n",
       "      <th>user_id</th>\n",
       "      <th>month</th>\n",
       "      <th>calls_sum</th>\n",
       "      <th>calls_count</th>\n",
       "      <th>gb_used</th>\n",
       "      <th>messages_count</th>\n",
       "      <th>age</th>\n",
       "      <th>churn_date</th>\n",
       "      <th>city</th>\n",
       "      <th>reg_date</th>\n",
       "      <th>tariff</th>\n",
       "      <th>revenue</th>\n",
       "    </tr>\n",
       "  </thead>\n",
       "  <tbody>\n",
       "    <tr>\n",
       "      <th>0</th>\n",
       "      <td>1000</td>\n",
       "      <td>5</td>\n",
       "      <td>159</td>\n",
       "      <td>22</td>\n",
       "      <td>3</td>\n",
       "      <td>22</td>\n",
       "      <td>52</td>\n",
       "      <td>NaT</td>\n",
       "      <td>Краснодар</td>\n",
       "      <td>2018-05-25</td>\n",
       "      <td>ultra</td>\n",
       "      <td>1950</td>\n",
       "    </tr>\n",
       "    <tr>\n",
       "      <th>1</th>\n",
       "      <td>1000</td>\n",
       "      <td>6</td>\n",
       "      <td>172</td>\n",
       "      <td>43</td>\n",
       "      <td>23</td>\n",
       "      <td>60</td>\n",
       "      <td>52</td>\n",
       "      <td>NaT</td>\n",
       "      <td>Краснодар</td>\n",
       "      <td>2018-05-25</td>\n",
       "      <td>ultra</td>\n",
       "      <td>1950</td>\n",
       "    </tr>\n",
       "    <tr>\n",
       "      <th>2</th>\n",
       "      <td>1000</td>\n",
       "      <td>7</td>\n",
       "      <td>340</td>\n",
       "      <td>47</td>\n",
       "      <td>14</td>\n",
       "      <td>75</td>\n",
       "      <td>52</td>\n",
       "      <td>NaT</td>\n",
       "      <td>Краснодар</td>\n",
       "      <td>2018-05-25</td>\n",
       "      <td>ultra</td>\n",
       "      <td>1950</td>\n",
       "    </tr>\n",
       "    <tr>\n",
       "      <th>3</th>\n",
       "      <td>1000</td>\n",
       "      <td>8</td>\n",
       "      <td>408</td>\n",
       "      <td>52</td>\n",
       "      <td>14</td>\n",
       "      <td>81</td>\n",
       "      <td>52</td>\n",
       "      <td>NaT</td>\n",
       "      <td>Краснодар</td>\n",
       "      <td>2018-05-25</td>\n",
       "      <td>ultra</td>\n",
       "      <td>1950</td>\n",
       "    </tr>\n",
       "    <tr>\n",
       "      <th>4</th>\n",
       "      <td>1000</td>\n",
       "      <td>9</td>\n",
       "      <td>466</td>\n",
       "      <td>58</td>\n",
       "      <td>15</td>\n",
       "      <td>57</td>\n",
       "      <td>52</td>\n",
       "      <td>NaT</td>\n",
       "      <td>Краснодар</td>\n",
       "      <td>2018-05-25</td>\n",
       "      <td>ultra</td>\n",
       "      <td>1950</td>\n",
       "    </tr>\n",
       "  </tbody>\n",
       "</table>\n",
       "</div>"
      ],
      "text/plain": [
       "   user_id  month  calls_sum  calls_count  gb_used  messages_count  age  \\\n",
       "0     1000      5        159           22        3              22   52   \n",
       "1     1000      6        172           43       23              60   52   \n",
       "2     1000      7        340           47       14              75   52   \n",
       "3     1000      8        408           52       14              81   52   \n",
       "4     1000      9        466           58       15              57   52   \n",
       "\n",
       "  churn_date       city   reg_date tariff  revenue  \n",
       "0        NaT  Краснодар 2018-05-25  ultra     1950  \n",
       "1        NaT  Краснодар 2018-05-25  ultra     1950  \n",
       "2        NaT  Краснодар 2018-05-25  ultra     1950  \n",
       "3        NaT  Краснодар 2018-05-25  ultra     1950  \n",
       "4        NaT  Краснодар 2018-05-25  ultra     1950  "
      ]
     },
     "execution_count": 43,
     "metadata": {},
     "output_type": "execute_result"
    }
   ],
   "source": [
    "data.info()\n",
    "data.head()\n"
   ]
  },
  {
   "cell_type": "markdown",
   "metadata": {},
   "source": [
    "### Вывод"
   ]
  },
  {
   "cell_type": "markdown",
   "metadata": {},
   "source": [
    "Для проведения исследования мы сгруппировали данные в таблицах с информацией о звонках, сообщениях и интернет-сессиях по пользователям и месяцам. Посчитали ежемесячный расход минут, гигабайт и сообщений по-месячно для каждого пользователя, согласно условиям в описаниии проекта (а именно: на этапе подготовки данных округлили продолжительность каждого звонка в большую сторону до минуты, а на текущем этапе округлили месячный расход гигабайт по каждому клиенту в большую сторону до гигабайта). Последовательно объеденили сгруппированные таблицы, а также таблицы с данными о пользователях и тарифах в общий датафрейм. В получившейся таблице посчитали помесячно выручку по каждому клиенту, исходя из условий тарифа.\n",
    "\n",
    "Теперь можно приступать к сравнительному анализу данных."
   ]
  },
  {
   "cell_type": "markdown",
   "metadata": {},
   "source": [
    "## Анализ поведения клиентов в зависимости от условий тарифа."
   ]
  },
  {
   "cell_type": "markdown",
   "metadata": {},
   "source": [
    "### Общая статистика по тарифам"
   ]
  },
  {
   "cell_type": "markdown",
   "metadata": {},
   "source": [
    "Посмотрим статистику по клиентам, подключившим тариф \"Смарт\""
   ]
  },
  {
   "cell_type": "code",
   "execution_count": 44,
   "metadata": {
    "scrolled": false
   },
   "outputs": [
    {
     "data": {
      "text/html": [
       "<div>\n",
       "<style scoped>\n",
       "    .dataframe tbody tr th:only-of-type {\n",
       "        vertical-align: middle;\n",
       "    }\n",
       "\n",
       "    .dataframe tbody tr th {\n",
       "        vertical-align: top;\n",
       "    }\n",
       "\n",
       "    .dataframe thead th {\n",
       "        text-align: right;\n",
       "    }\n",
       "</style>\n",
       "<table border=\"1\" class=\"dataframe\">\n",
       "  <thead>\n",
       "    <tr style=\"text-align: right;\">\n",
       "      <th></th>\n",
       "      <th>count</th>\n",
       "      <th>mean</th>\n",
       "      <th>std</th>\n",
       "      <th>min</th>\n",
       "      <th>25%</th>\n",
       "      <th>50%</th>\n",
       "      <th>75%</th>\n",
       "      <th>max</th>\n",
       "    </tr>\n",
       "  </thead>\n",
       "  <tbody>\n",
       "    <tr>\n",
       "      <th>user_id</th>\n",
       "      <td>2230.0</td>\n",
       "      <td>1246.562332</td>\n",
       "      <td>146.110501</td>\n",
       "      <td>1001.0</td>\n",
       "      <td>1121.0</td>\n",
       "      <td>1240.0</td>\n",
       "      <td>1376.0</td>\n",
       "      <td>1499.0</td>\n",
       "    </tr>\n",
       "    <tr>\n",
       "      <th>month</th>\n",
       "      <td>2230.0</td>\n",
       "      <td>8.348430</td>\n",
       "      <td>2.920685</td>\n",
       "      <td>1.0</td>\n",
       "      <td>6.0</td>\n",
       "      <td>9.0</td>\n",
       "      <td>11.0</td>\n",
       "      <td>12.0</td>\n",
       "    </tr>\n",
       "    <tr>\n",
       "      <th>calls_sum</th>\n",
       "      <td>2230.0</td>\n",
       "      <td>417.747534</td>\n",
       "      <td>190.476754</td>\n",
       "      <td>0.0</td>\n",
       "      <td>282.0</td>\n",
       "      <td>421.5</td>\n",
       "      <td>545.0</td>\n",
       "      <td>1435.0</td>\n",
       "    </tr>\n",
       "    <tr>\n",
       "      <th>calls_count</th>\n",
       "      <td>2230.0</td>\n",
       "      <td>58.437220</td>\n",
       "      <td>25.963572</td>\n",
       "      <td>0.0</td>\n",
       "      <td>40.0</td>\n",
       "      <td>60.0</td>\n",
       "      <td>76.0</td>\n",
       "      <td>198.0</td>\n",
       "    </tr>\n",
       "    <tr>\n",
       "      <th>gb_used</th>\n",
       "      <td>2230.0</td>\n",
       "      <td>16.321525</td>\n",
       "      <td>5.756167</td>\n",
       "      <td>0.0</td>\n",
       "      <td>13.0</td>\n",
       "      <td>17.0</td>\n",
       "      <td>20.0</td>\n",
       "      <td>38.0</td>\n",
       "    </tr>\n",
       "    <tr>\n",
       "      <th>messages_count</th>\n",
       "      <td>2230.0</td>\n",
       "      <td>33.369058</td>\n",
       "      <td>28.230396</td>\n",
       "      <td>0.0</td>\n",
       "      <td>10.0</td>\n",
       "      <td>28.0</td>\n",
       "      <td>51.0</td>\n",
       "      <td>143.0</td>\n",
       "    </tr>\n",
       "    <tr>\n",
       "      <th>age</th>\n",
       "      <td>2230.0</td>\n",
       "      <td>46.557848</td>\n",
       "      <td>16.349865</td>\n",
       "      <td>18.0</td>\n",
       "      <td>32.0</td>\n",
       "      <td>47.0</td>\n",
       "      <td>62.0</td>\n",
       "      <td>75.0</td>\n",
       "    </tr>\n",
       "    <tr>\n",
       "      <th>revenue</th>\n",
       "      <td>2230.0</td>\n",
       "      <td>1289.641704</td>\n",
       "      <td>818.370799</td>\n",
       "      <td>550.0</td>\n",
       "      <td>550.0</td>\n",
       "      <td>1021.0</td>\n",
       "      <td>1750.0</td>\n",
       "      <td>6770.0</td>\n",
       "    </tr>\n",
       "  </tbody>\n",
       "</table>\n",
       "</div>"
      ],
      "text/plain": [
       "                 count         mean         std     min     25%     50%  \\\n",
       "user_id         2230.0  1246.562332  146.110501  1001.0  1121.0  1240.0   \n",
       "month           2230.0     8.348430    2.920685     1.0     6.0     9.0   \n",
       "calls_sum       2230.0   417.747534  190.476754     0.0   282.0   421.5   \n",
       "calls_count     2230.0    58.437220   25.963572     0.0    40.0    60.0   \n",
       "gb_used         2230.0    16.321525    5.756167     0.0    13.0    17.0   \n",
       "messages_count  2230.0    33.369058   28.230396     0.0    10.0    28.0   \n",
       "age             2230.0    46.557848   16.349865    18.0    32.0    47.0   \n",
       "revenue         2230.0  1289.641704  818.370799   550.0   550.0  1021.0   \n",
       "\n",
       "                   75%     max  \n",
       "user_id         1376.0  1499.0  \n",
       "month             11.0    12.0  \n",
       "calls_sum        545.0  1435.0  \n",
       "calls_count       76.0   198.0  \n",
       "gb_used           20.0    38.0  \n",
       "messages_count    51.0   143.0  \n",
       "age               62.0    75.0  \n",
       "revenue         1750.0  6770.0  "
      ]
     },
     "execution_count": 44,
     "metadata": {},
     "output_type": "execute_result"
    }
   ],
   "source": [
    "data.loc[data['tariff'] == 'smart'].describe().T"
   ]
  },
  {
   "cell_type": "markdown",
   "metadata": {},
   "source": [
    "Из таблицы видно следующее:\n",
    "\n",
    "- В среднем пользователи тарифа смарт, включенные в выборку, тратят на телефонные разговоры 417,75 минут, что не превышает тарифный план. Есть пользователи, которые расходуют больше минут, но их меньше половины выборки.\n",
    "\n",
    "- Расход интернет-трафика для каждого пользователя составляет в среднем 16,32 гб, что больше тарифного плана на 1,32 гб. По медиане видно, что за пределы тарифного плана выходит большая часть пользователей.\n",
    "\n",
    "- Каждый пользователь отправляет в среднем 33 сообщения в месяц, что на 34% меньше тарифного плана. Средний показатель равен медиане. Большая часть пользователей не привышает лимит по сообщениям.\n",
    "\n",
    "- Средняя ежемесячная выручка по каждому клиенту с тарифным планом \"Смарт\" составляет 1289,64 (на 134% выше ежемесячного базового платежа за тариф). Среднее по этому показателю несколько выше медианы, что говорит о большом разбросе и наличии выбивающихся в большую сторону значений. Но еще можно увидеть, что медиана равнва 1021 руб, что также превышает базовую плату за тариф почти на 86%, и клиентов, ежемесячно вносящих плату сверх тарифа, точно больше 50%."
   ]
  },
  {
   "cell_type": "markdown",
   "metadata": {},
   "source": [
    "Посмотрим статистику по клиентам, подключившим тариф \"Ультра\""
   ]
  },
  {
   "cell_type": "code",
   "execution_count": 45,
   "metadata": {
    "scrolled": false
   },
   "outputs": [
    {
     "data": {
      "text/html": [
       "<div>\n",
       "<style scoped>\n",
       "    .dataframe tbody tr th:only-of-type {\n",
       "        vertical-align: middle;\n",
       "    }\n",
       "\n",
       "    .dataframe tbody tr th {\n",
       "        vertical-align: top;\n",
       "    }\n",
       "\n",
       "    .dataframe thead th {\n",
       "        text-align: right;\n",
       "    }\n",
       "</style>\n",
       "<table border=\"1\" class=\"dataframe\">\n",
       "  <thead>\n",
       "    <tr style=\"text-align: right;\">\n",
       "      <th></th>\n",
       "      <th>count</th>\n",
       "      <th>mean</th>\n",
       "      <th>std</th>\n",
       "      <th>min</th>\n",
       "      <th>25%</th>\n",
       "      <th>50%</th>\n",
       "      <th>75%</th>\n",
       "      <th>max</th>\n",
       "    </tr>\n",
       "  </thead>\n",
       "  <tbody>\n",
       "    <tr>\n",
       "      <th>user_id</th>\n",
       "      <td>986.0</td>\n",
       "      <td>1262.957404</td>\n",
       "      <td>140.689268</td>\n",
       "      <td>1000.0</td>\n",
       "      <td>1143.0</td>\n",
       "      <td>1277.0</td>\n",
       "      <td>1381.00</td>\n",
       "      <td>1495.0</td>\n",
       "    </tr>\n",
       "    <tr>\n",
       "      <th>month</th>\n",
       "      <td>986.0</td>\n",
       "      <td>8.254564</td>\n",
       "      <td>2.872786</td>\n",
       "      <td>1.0</td>\n",
       "      <td>6.0</td>\n",
       "      <td>9.0</td>\n",
       "      <td>11.00</td>\n",
       "      <td>12.0</td>\n",
       "    </tr>\n",
       "    <tr>\n",
       "      <th>calls_sum</th>\n",
       "      <td>986.0</td>\n",
       "      <td>526.089249</td>\n",
       "      <td>317.887549</td>\n",
       "      <td>0.0</td>\n",
       "      <td>282.5</td>\n",
       "      <td>518.0</td>\n",
       "      <td>751.75</td>\n",
       "      <td>1673.0</td>\n",
       "    </tr>\n",
       "    <tr>\n",
       "      <th>calls_count</th>\n",
       "      <td>986.0</td>\n",
       "      <td>73.318458</td>\n",
       "      <td>43.956739</td>\n",
       "      <td>0.0</td>\n",
       "      <td>41.0</td>\n",
       "      <td>73.5</td>\n",
       "      <td>103.75</td>\n",
       "      <td>244.0</td>\n",
       "    </tr>\n",
       "    <tr>\n",
       "      <th>gb_used</th>\n",
       "      <td>986.0</td>\n",
       "      <td>19.474645</td>\n",
       "      <td>9.868057</td>\n",
       "      <td>0.0</td>\n",
       "      <td>12.0</td>\n",
       "      <td>19.0</td>\n",
       "      <td>27.00</td>\n",
       "      <td>49.0</td>\n",
       "    </tr>\n",
       "    <tr>\n",
       "      <th>messages_count</th>\n",
       "      <td>986.0</td>\n",
       "      <td>49.313387</td>\n",
       "      <td>47.806040</td>\n",
       "      <td>0.0</td>\n",
       "      <td>6.0</td>\n",
       "      <td>38.0</td>\n",
       "      <td>78.75</td>\n",
       "      <td>224.0</td>\n",
       "    </tr>\n",
       "    <tr>\n",
       "      <th>age</th>\n",
       "      <td>986.0</td>\n",
       "      <td>46.838742</td>\n",
       "      <td>17.099807</td>\n",
       "      <td>18.0</td>\n",
       "      <td>30.0</td>\n",
       "      <td>45.0</td>\n",
       "      <td>63.00</td>\n",
       "      <td>75.0</td>\n",
       "    </tr>\n",
       "    <tr>\n",
       "      <th>revenue</th>\n",
       "      <td>986.0</td>\n",
       "      <td>2070.030426</td>\n",
       "      <td>376.015578</td>\n",
       "      <td>1950.0</td>\n",
       "      <td>1950.0</td>\n",
       "      <td>1950.0</td>\n",
       "      <td>1950.00</td>\n",
       "      <td>4800.0</td>\n",
       "    </tr>\n",
       "  </tbody>\n",
       "</table>\n",
       "</div>"
      ],
      "text/plain": [
       "                count         mean         std     min     25%     50%  \\\n",
       "user_id         986.0  1262.957404  140.689268  1000.0  1143.0  1277.0   \n",
       "month           986.0     8.254564    2.872786     1.0     6.0     9.0   \n",
       "calls_sum       986.0   526.089249  317.887549     0.0   282.5   518.0   \n",
       "calls_count     986.0    73.318458   43.956739     0.0    41.0    73.5   \n",
       "gb_used         986.0    19.474645    9.868057     0.0    12.0    19.0   \n",
       "messages_count  986.0    49.313387   47.806040     0.0     6.0    38.0   \n",
       "age             986.0    46.838742   17.099807    18.0    30.0    45.0   \n",
       "revenue         986.0  2070.030426  376.015578  1950.0  1950.0  1950.0   \n",
       "\n",
       "                    75%     max  \n",
       "user_id         1381.00  1495.0  \n",
       "month             11.00    12.0  \n",
       "calls_sum        751.75  1673.0  \n",
       "calls_count      103.75   244.0  \n",
       "gb_used           27.00    49.0  \n",
       "messages_count    78.75   224.0  \n",
       "age               63.00    75.0  \n",
       "revenue         1950.00  4800.0  "
      ]
     },
     "execution_count": 45,
     "metadata": {},
     "output_type": "execute_result"
    }
   ],
   "source": [
    "data.loc[data['tariff'] == 'ultra'].describe().T"
   ]
  },
  {
   "cell_type": "markdown",
   "metadata": {},
   "source": [
    "О пользователях тарифа \"Ультра\", включенных в выборку можно сказать следующее:\n",
    "\n",
    "- Среднее количество минут, которое тратит каждый пользователь тарифа из выборки в месяц на телефонные разговоры 526, что составляет всего 17% тарифного плана. Никто из пользователей в выборке не превышает лимита по минутам разговоров, максимальное значение 1495 мин, также в 2 раза меньше максимума по тарифному плану.\n",
    "\n",
    "- Средний ежемесячный расход интернет-трафика по каждому пользователю тарифа в выборке 19,47 гб (меньше тарифного плана на 35%). Также можно сказать что 75% пользователей точно  ежемесячно не превышают лимит по интернет-трафику.\n",
    "\n",
    "- В месяц пользователи тарифа из выборки в среднем отправляют 49 сообщений, что составляет всего 5% от тарифного плана. Максимальное количество сообщений в месяц, отправленных клиентом из выборки 224 (всего 22% от лимита по тарифу).\n",
    "\n",
    "- Средняя ежемесячная выручка по тарифу для клиентов из выборки 2070 р. (на 6% превышает базовую плату за тариф), но это связано с большим разбросом данных в сторону увеличения ежемесячной платы. Медианное значение равно базовой цене тарифа, также 75% значений находятся на этом уровне. Т.е. основная часть клиентов из выборки ежемесячно вносит только базовую плату за тариф."
   ]
  },
  {
   "cell_type": "markdown",
   "metadata": {},
   "source": [
    "###  Сравнение количества минут звонков пользователей в месяц по тарифам."
   ]
  },
  {
   "cell_type": "markdown",
   "metadata": {},
   "source": [
    "Посчитаем показатели минут звонков в зависимости от тарифа: среднее, дисперсию и стандартное отклонение. "
   ]
  },
  {
   "cell_type": "code",
   "execution_count": 46,
   "metadata": {},
   "outputs": [
    {
     "data": {
      "text/html": [
       "<div>\n",
       "<style scoped>\n",
       "    .dataframe tbody tr th:only-of-type {\n",
       "        vertical-align: middle;\n",
       "    }\n",
       "\n",
       "    .dataframe tbody tr th {\n",
       "        vertical-align: top;\n",
       "    }\n",
       "\n",
       "    .dataframe thead th {\n",
       "        text-align: right;\n",
       "    }\n",
       "</style>\n",
       "<table border=\"1\" class=\"dataframe\">\n",
       "  <thead>\n",
       "    <tr style=\"text-align: right;\">\n",
       "      <th></th>\n",
       "      <th>calls_median</th>\n",
       "      <th>calls_mean</th>\n",
       "      <th>calls_var</th>\n",
       "      <th>calls_std</th>\n",
       "      <th>minutes_included</th>\n",
       "      <th>%_mean_inclued</th>\n",
       "      <th>%_std_mean</th>\n",
       "    </tr>\n",
       "    <tr>\n",
       "      <th>tariff</th>\n",
       "      <th></th>\n",
       "      <th></th>\n",
       "      <th></th>\n",
       "      <th></th>\n",
       "      <th></th>\n",
       "      <th></th>\n",
       "      <th></th>\n",
       "    </tr>\n",
       "  </thead>\n",
       "  <tbody>\n",
       "    <tr>\n",
       "      <th>smart</th>\n",
       "      <td>421.5</td>\n",
       "      <td>417.747534</td>\n",
       "      <td>36281.393836</td>\n",
       "      <td>190.476754</td>\n",
       "      <td>500</td>\n",
       "      <td>83.55</td>\n",
       "      <td>45.60</td>\n",
       "    </tr>\n",
       "    <tr>\n",
       "      <th>ultra</th>\n",
       "      <td>518.0</td>\n",
       "      <td>526.089249</td>\n",
       "      <td>101052.493549</td>\n",
       "      <td>317.887549</td>\n",
       "      <td>3000</td>\n",
       "      <td>17.54</td>\n",
       "      <td>60.42</td>\n",
       "    </tr>\n",
       "  </tbody>\n",
       "</table>\n",
       "</div>"
      ],
      "text/plain": [
       "        calls_median  calls_mean      calls_var   calls_std  minutes_included  \\\n",
       "tariff                                                                          \n",
       "smart          421.5  417.747534   36281.393836  190.476754               500   \n",
       "ultra          518.0  526.089249  101052.493549  317.887549              3000   \n",
       "\n",
       "        %_mean_inclued  %_std_mean  \n",
       "tariff                              \n",
       "smart            83.55       45.60  \n",
       "ultra            17.54       60.42  "
      ]
     },
     "execution_count": 46,
     "metadata": {},
     "output_type": "execute_result"
    }
   ],
   "source": [
    "calls_by_tariff = data.groupby('tariff').agg({'calls_sum' : ['median', 'mean', 'var', 'std']}).droplevel(0, axis=1)\n",
    "calls_by_tariff.columns = ['calls_median', 'calls_mean', 'calls_var', 'calls_std']\n",
    "calls_by_tariff = calls_by_tariff.merge(data_tariffs[['tariff','minutes_included']], on='tariff').set_index('tariff')\n",
    "\n",
    "calls_by_tariff['%_mean_inclued'] = round((calls_by_tariff['calls_mean']/calls_by_tariff['minutes_included']*100),2)\n",
    "calls_by_tariff['%_std_mean'] = round((calls_by_tariff['calls_std']/calls_by_tariff['calls_mean']*100),2)\n",
    "calls_by_tariff"
   ]
  },
  {
   "cell_type": "markdown",
   "metadata": {},
   "source": [
    "Средняя продолжительность звонков в месяц в тарифе \"Смарт\" 417,75 мин, в тарифе \"Ультра\" 526,09 мин., т.е. всего на 26% выше, тогда как пакет включенных в тариф минут у пользователей \"Ультра\" выше на 290%. Пользователи тарифа \"Смарт\" используют в среднем 84% минут звонков, включенных в тариф, а пользователи тарифа \"Ультра\" - всего 18%. \n",
    "\n",
    "Если посмотреть на показатели дисперсии и стандартного отклонения, то видно, что разброс количества использованных минут в месяц среди пользователей тарифа \"Ультра\" на много сильнее (стандартное отклонение больше на 67%), значения в выборке по пользователям тарифа \"Смарт\" гораздо более однородные. Стандартное отклонение по тарифу \"Смарт\" составляет 46% от среднего значения, а по тарифу \"Ультра\"- 60% среднего значения."
   ]
  },
  {
   "cell_type": "markdown",
   "metadata": {},
   "source": [
    "Построим гистограммы для показателя израсходованных в месяц минут.\n",
    "\n",
    "**Распределение потраченных минут звонков в месяц.**"
   ]
  },
  {
   "cell_type": "code",
   "execution_count": 47,
   "metadata": {
    "scrolled": false
   },
   "outputs": [
    {
     "data": {
      "text/plain": [
       "Text(0.5, 0, 'израсходовано минут в месяц')"
      ]
     },
     "execution_count": 47,
     "metadata": {},
     "output_type": "execute_result"
    },
    {
     "data": {
      "image/png": "[encoded data removed]",
      "text/plain": [
       "<Figure size 1080x360 with 1 Axes>"
      ]
     },
     "metadata": {
      "needs_background": "light"
     },
     "output_type": "display_data"
    }
   ],
   "source": [
    "ax = data[data['tariff']== \"smart\"]['calls_sum'].hist(bins=30, figsize=(15,5), label='Смарт', alpha=0.7)\n",
    "data[data['tariff']== \"ultra\"]['calls_sum'].hist(ax=ax, bins=35, figsize=(15,5), label='Ультра', alpha=0.7)\n",
    "plt.title('График распределения количества израсходованных минут по тарифам')\n",
    "plt.legend()\n",
    "plt.ylabel('количество пользователей')\n",
    "plt.xlabel('израсходовано минут в месяц')"
   ]
  },
  {
   "cell_type": "markdown",
   "metadata": {},
   "source": [
    "**Тариф \"Смарт\"**"
   ]
  },
  {
   "cell_type": "markdown",
   "metadata": {},
   "source": [
    "На графике распределения количества минут тарифа \"Смарт\" мы видим распределение Пуассона (распределение числа событий в единицу времени).Распределение количества израсходованных за месяц минут по пользователям тарифа \"Смарт\" из-за большого числа событий стремится к нормальному. Оно имеет небольшую скошенность  влево (отрицательную), значит значений меньше мелианы в нем больше. Отрицательную скошенность также характерезует и средний показатель 417,74 мин, который меньше медианы (421,5 мин). График, подтверждает, что большинство пользователей не превышают лимит по минутам звонков тарифа. \n",
    "\n",
    "Также можно сказать, большая часть пользователей тарифа в выборке ежемесячно расходует примерно от 200 до 600 минут на звонки. Пик приходится примерно на 420-450 минут - самыйе часто встречающиеся значения они очень близки к медиане и среднему, что также говорит о нормальности распределения значений в выборке. Имеется небольшое число пользователей (чть больше 50) тратящих в месяц меньше 50 минут на телефонные разговоры."
   ]
  },
  {
   "cell_type": "markdown",
   "metadata": {},
   "source": [
    "**Тариф \"Ультра\"**"
   ]
  },
  {
   "cell_type": "markdown",
   "metadata": {},
   "source": [
    "Распределение израсходованных минут у пользователей тарифа \"Ультра\" - это также распределение Пуассона. Но из-за небольшого числа событий (а именно пользователей тарифа \"Ультра\" в выборке)оно не похоже на нормальное. Имеется несколько пиковых значений. Одно из которых примерно 500-550 минут (что соответствует медианнному значению), а другое 0-50 минут. Пользователей, потративших за месяц меньше 50 минут, даже немного больше, чем 500-550. Возможно, это клиенты, которые большей частью пользуются интернетом, а не звонками, а возможно только подключившиеся клиенты, пользующиеся услугами менее половины месяца. \n",
    "\n",
    "Гистограмма скошена вправо, значит значений выше медианы в этой группе больше, об этом же говорит и то , что средний показатель выше медианы. Но в, любом случае, пользователей, которые используют хотя бы больше половины тарифного плана по минутам  - единицы, они выглядят как отдельные выбивающиеся значения на гистограмме."
   ]
  },
  {
   "cell_type": "markdown",
   "metadata": {},
   "source": [
    "### Сравнение количества сообщений в месяц по тарифам."
   ]
  },
  {
   "cell_type": "markdown",
   "metadata": {},
   "source": [
    "Посчитаем показатели количества сообщений в зависимости от тарифа: среднее, дисперсию и стандартное отклонение. "
   ]
  },
  {
   "cell_type": "code",
   "execution_count": 48,
   "metadata": {},
   "outputs": [
    {
     "data": {
      "text/html": [
       "<div>\n",
       "<style scoped>\n",
       "    .dataframe tbody tr th:only-of-type {\n",
       "        vertical-align: middle;\n",
       "    }\n",
       "\n",
       "    .dataframe tbody tr th {\n",
       "        vertical-align: top;\n",
       "    }\n",
       "\n",
       "    .dataframe thead th {\n",
       "        text-align: right;\n",
       "    }\n",
       "</style>\n",
       "<table border=\"1\" class=\"dataframe\">\n",
       "  <thead>\n",
       "    <tr style=\"text-align: right;\">\n",
       "      <th></th>\n",
       "      <th>messages_median</th>\n",
       "      <th>messages_mean</th>\n",
       "      <th>messages_var</th>\n",
       "      <th>messages_std</th>\n",
       "      <th>messages_included</th>\n",
       "      <th>%_mean_inclued</th>\n",
       "      <th>%_std_mean</th>\n",
       "    </tr>\n",
       "    <tr>\n",
       "      <th>tariff</th>\n",
       "      <th></th>\n",
       "      <th></th>\n",
       "      <th></th>\n",
       "      <th></th>\n",
       "      <th></th>\n",
       "      <th></th>\n",
       "      <th></th>\n",
       "    </tr>\n",
       "  </thead>\n",
       "  <tbody>\n",
       "    <tr>\n",
       "      <th>smart</th>\n",
       "      <td>28.0</td>\n",
       "      <td>33.369058</td>\n",
       "      <td>796.955256</td>\n",
       "      <td>28.230396</td>\n",
       "      <td>50</td>\n",
       "      <td>66.74</td>\n",
       "      <td>84.60</td>\n",
       "    </tr>\n",
       "    <tr>\n",
       "      <th>ultra</th>\n",
       "      <td>38.0</td>\n",
       "      <td>49.313387</td>\n",
       "      <td>2285.417425</td>\n",
       "      <td>47.806040</td>\n",
       "      <td>1000</td>\n",
       "      <td>4.93</td>\n",
       "      <td>96.94</td>\n",
       "    </tr>\n",
       "  </tbody>\n",
       "</table>\n",
       "</div>"
      ],
      "text/plain": [
       "        messages_median  messages_mean  messages_var  messages_std  \\\n",
       "tariff                                                               \n",
       "smart              28.0      33.369058    796.955256     28.230396   \n",
       "ultra              38.0      49.313387   2285.417425     47.806040   \n",
       "\n",
       "        messages_included  %_mean_inclued  %_std_mean  \n",
       "tariff                                                 \n",
       "smart                  50           66.74       84.60  \n",
       "ultra                1000            4.93       96.94  "
      ]
     },
     "execution_count": 48,
     "metadata": {},
     "output_type": "execute_result"
    }
   ],
   "source": [
    "messages_by_tariff = data.groupby('tariff').agg({'messages_count' : ['median', 'mean', 'var', 'std']}).droplevel(0, axis=1)\n",
    "messages_by_tariff.columns = ['messages_median', 'messages_mean', 'messages_var', 'messages_std']\n",
    "messages_by_tariff = messages_by_tariff.merge(data_tariffs[['tariff','messages_included']], on='tariff').set_index('tariff')\n",
    "\n",
    "messages_by_tariff['%_mean_inclued'] = round((messages_by_tariff['messages_mean']/messages_by_tariff['messages_included']*100),2)\n",
    "messages_by_tariff['%_std_mean'] = round((messages_by_tariff['messages_std']/messages_by_tariff['messages_mean']*100),2)\n",
    "messages_by_tariff"
   ]
  },
  {
   "cell_type": "markdown",
   "metadata": {},
   "source": [
    "Пользователи ттарифа \"Смарт\" из выборки в среднем отправляют 33 сообщения в месяц, что сочтавляет 67% от количества сообщений включенных в тарифный план. Пользователи тарифа \"Ультра\" из выборки в среднем отправляют 49 сообщений в месяц (на 48% больше пользователей тарифа \"Смарт), но это количество составляет всего  4,9% от количества сообщений, включенных в тарифный план \"Ультра\".\n",
    "\n",
    "Также из показателей дисперсии и стандартного отклонения видно, что разброс количества отправленных в месяц сообщений относительно среднего у пользователей тарифа \"Смарт\" несколько меньше, чем у пользователей тарифа \"Ультра\" (\"Смарт\"- стандартное отклонение 85% среднего значения, \"Ультра\"- 97% среднего значения).  "
   ]
  },
  {
   "cell_type": "markdown",
   "metadata": {},
   "source": [
    "Построим гистограммы распределения количества отправленных в месяц сообщений."
   ]
  },
  {
   "cell_type": "markdown",
   "metadata": {},
   "source": [
    "**Распределение количества отправленных в месяц сообщений**"
   ]
  },
  {
   "cell_type": "code",
   "execution_count": 49,
   "metadata": {},
   "outputs": [
    {
     "data": {
      "text/plain": [
       "Text(0.5, 0, 'отправлено сообщений в месяц')"
      ]
     },
     "execution_count": 49,
     "metadata": {},
     "output_type": "execute_result"
    },
    {
     "data": {
      "image/png": "[encoded data removed]",
      "text/plain": [
       "<Figure size 1080x360 with 1 Axes>"
      ]
     },
     "metadata": {
      "needs_background": "light"
     },
     "output_type": "display_data"
    }
   ],
   "source": [
    "ax = data[data['tariff']== \"smart\"]['messages_count'].hist(bins=30, figsize=(15,5), label='Смарт', alpha=0.7)\n",
    "data[data['tariff']== \"ultra\"]['messages_count'].hist(ax=ax, bins=45, figsize=(15,5), label='Ультра', alpha=0.7)\n",
    "plt.legend()\n",
    "plt.title('График распределения количества отправленных сообщений в месяц по тарифам')\n",
    "plt.ylabel('количество пользователей')\n",
    "plt.xlabel('отправлено сообщений в месяц')"
   ]
  },
  {
   "cell_type": "markdown",
   "metadata": {},
   "source": [
    "**Тариф \"Смарт\"**"
   ]
  },
  {
   "cell_type": "markdown",
   "metadata": {},
   "source": [
    "Здесь распределение Пуассона смещено влево из-за небольшого числа событий (количества отправляемых каждым пользователем выборки сообщений в месяц). Как видно, наиболее часто встречающиеся значения 0-5. Значения, соответствующие среднему и медиане встречаются гораздо реже. Это обусловленно большим разбросом значений в правую сторону (небольшое количество пользователей, отправляющих более 60 сообщений в месяц), они смещают среднее и медиану к большим значениям. \n"
   ]
  },
  {
   "cell_type": "markdown",
   "metadata": {},
   "source": [
    "**Тариф \"Ультра\"**"
   ]
  },
  {
   "cell_type": "markdown",
   "metadata": {},
   "source": [
    "Здесь также смещенное в лево распределение Пуассона. Количество событий еще меньше, чем в случае с тарифом \"Смарт\", а разброс значений больше. Самые часто встречающиеся также 0-5 сообщений. Среднее и медиана сильно смещены вправо из-за большого разброса значений (небольшое количество пользователей отправляющих больше 70 сообщений вмесяц). Медиана несколько меньше (38 сообщений), среднее же смещено сильнее (49 сообщений)."
   ]
  },
  {
   "cell_type": "markdown",
   "metadata": {},
   "source": [
    "### Сравнение интернет-трафика пользователей тарифов \"Смарт\" и \"Ультра\""
   ]
  },
  {
   "cell_type": "markdown",
   "metadata": {},
   "source": [
    "Посмотрим на среднее, дисперсию и стандартное отклонение количества ежемесячного интернет-трафика по пользователям тарифов из выборки."
   ]
  },
  {
   "cell_type": "code",
   "execution_count": 50,
   "metadata": {},
   "outputs": [
    {
     "data": {
      "text/html": [
       "<div>\n",
       "<style scoped>\n",
       "    .dataframe tbody tr th:only-of-type {\n",
       "        vertical-align: middle;\n",
       "    }\n",
       "\n",
       "    .dataframe tbody tr th {\n",
       "        vertical-align: top;\n",
       "    }\n",
       "\n",
       "    .dataframe thead th {\n",
       "        text-align: right;\n",
       "    }\n",
       "</style>\n",
       "<table border=\"1\" class=\"dataframe\">\n",
       "  <thead>\n",
       "    <tr style=\"text-align: right;\">\n",
       "      <th></th>\n",
       "      <th>gb_used_median</th>\n",
       "      <th>gb_used_mean</th>\n",
       "      <th>gb_used_var</th>\n",
       "      <th>gb_used_std</th>\n",
       "      <th>gb_per_month_included</th>\n",
       "      <th>%_mean_inclued</th>\n",
       "      <th>%_std_mean</th>\n",
       "    </tr>\n",
       "    <tr>\n",
       "      <th>tariff</th>\n",
       "      <th></th>\n",
       "      <th></th>\n",
       "      <th></th>\n",
       "      <th></th>\n",
       "      <th></th>\n",
       "      <th></th>\n",
       "      <th></th>\n",
       "    </tr>\n",
       "  </thead>\n",
       "  <tbody>\n",
       "    <tr>\n",
       "      <th>smart</th>\n",
       "      <td>17.0</td>\n",
       "      <td>16.321525</td>\n",
       "      <td>33.133453</td>\n",
       "      <td>5.756167</td>\n",
       "      <td>15</td>\n",
       "      <td>108.81</td>\n",
       "      <td>35.27</td>\n",
       "    </tr>\n",
       "    <tr>\n",
       "      <th>ultra</th>\n",
       "      <td>19.0</td>\n",
       "      <td>19.474645</td>\n",
       "      <td>97.378544</td>\n",
       "      <td>9.868057</td>\n",
       "      <td>30</td>\n",
       "      <td>64.92</td>\n",
       "      <td>50.67</td>\n",
       "    </tr>\n",
       "  </tbody>\n",
       "</table>\n",
       "</div>"
      ],
      "text/plain": [
       "        gb_used_median  gb_used_mean  gb_used_var  gb_used_std  \\\n",
       "tariff                                                           \n",
       "smart             17.0     16.321525    33.133453     5.756167   \n",
       "ultra             19.0     19.474645    97.378544     9.868057   \n",
       "\n",
       "        gb_per_month_included  %_mean_inclued  %_std_mean  \n",
       "tariff                                                     \n",
       "smart                      15          108.81       35.27  \n",
       "ultra                      30           64.92       50.67  "
      ]
     },
     "execution_count": 50,
     "metadata": {},
     "output_type": "execute_result"
    }
   ],
   "source": [
    "gb_by_tariff = data.groupby('tariff').agg({'gb_used' : ['median', 'mean', 'var', 'std']}).droplevel(0, axis=1)\n",
    "gb_by_tariff.columns = ['gb_used_median', 'gb_used_mean', 'gb_used_var', 'gb_used_std']\n",
    "gb_by_tariff = gb_by_tariff.merge(data_tariffs[['tariff','gb_per_month_included']], on='tariff').set_index('tariff')\n",
    "\n",
    "gb_by_tariff['%_mean_inclued'] = round((gb_by_tariff['gb_used_mean']/gb_by_tariff['gb_per_month_included']*100),2)\n",
    "gb_by_tariff['%_std_mean'] = round((gb_by_tariff['gb_used_std']/gb_by_tariff['gb_used_mean']*100),2)\n",
    "gb_by_tariff"
   ]
  },
  {
   "cell_type": "markdown",
   "metadata": {},
   "source": [
    "В среднем пользователи тарифа \"Смарт\" расходуют 16,32 гб интернет-трафика в месяц, что превышает трафик включенный в тариф почти на 9%. Пользователи тарифа \"Ультра\", включенные в выборку, в среднем расходуют 19,47 гб интернет-трафика, это больше чем у пользователей тарифа \"Смарт\" всего на 19%. При этом интернет трафик, включеный в тариф \"Ультра\" выше чем у тарифа \"Смарт\" в 2 раза. В среднем пользователи тарифа \"Ультра\" из выборки расходуют лишь 65% интернет-трафика, входящего в тариф.\n",
    "\n",
    "Глядя на оказатели дисперсии и стандартного отклонения, также, как и в случаях с количеством израсходованных минут звонков и отправленных сообщений, можно сказать, что разброс значений расхода интернет-трафика у тарифа \"Ультра\" больше, чем у тарифа \"Смарт\". Стандартное отклонение значений по тарифу \"Смарт\" составляет 35% от среднего показателя, в тарифе \"Ультра\" - уже почти 51%.  "
   ]
  },
  {
   "cell_type": "markdown",
   "metadata": {},
   "source": [
    "**Распределение значений использования интернет-трафика в месяц в зависимости от тарифа.**"
   ]
  },
  {
   "cell_type": "code",
   "execution_count": 51,
   "metadata": {},
   "outputs": [
    {
     "data": {
      "text/plain": [
       "Text(0.5, 0, 'израсходовано гигабайт за месяц')"
      ]
     },
     "execution_count": 51,
     "metadata": {},
     "output_type": "execute_result"
    },
    {
     "data": {
      "image/png": "[encoded data removed]",
      "text/plain": [
       "<Figure size 1080x360 with 1 Axes>"
      ]
     },
     "metadata": {
      "needs_background": "light"
     },
     "output_type": "display_data"
    }
   ],
   "source": [
    "ax = data[data['tariff'] == \"smart\"]['gb_used'].hist(bins=40, figsize=(15,5), range=(0,40), label='Смарт', alpha=0.7)\n",
    "data[data['tariff'] == \"ultra\"]['gb_used'].hist(ax=ax, bins=50, figsize=(15,5), range=(0,50), label='Ультра', alpha=0.7)\n",
    "plt.legend()\n",
    "plt.title('График распределения интернет-трафика за месяц по тарифам')\n",
    "plt.ylabel('количество пользователей')\n",
    "plt.xlabel('израсходовано гигабайт за месяц')"
   ]
  },
  {
   "cell_type": "markdown",
   "metadata": {},
   "source": [
    "**Тариф \"Смарт\"**"
   ]
  },
  {
   "cell_type": "markdown",
   "metadata": {},
   "source": [
    "График соответствует распределению Пуассона, которое стремится к нормальному из-за большого числа событий. Наиболее часто встречающиеся значения сосредоточены вокруг медианы (медиана 17гб, пики на 17 и 18гб). График скошен влево из-за большого числа пользователей с интернет-трафиком меньше 10 гб в месяц, и соответственно средний показатель тоже смещен в меньшую сторону по-сравнению с медианой и наиболее часто встречающимися значениями. Интернет-трафик сверх пакета, включенного в тариф, расходуют единицы пользователей тарифа."
   ]
  },
  {
   "cell_type": "markdown",
   "metadata": {},
   "source": [
    "**Тариф \"Ультра\"**"
   ]
  },
  {
   "cell_type": "markdown",
   "metadata": {},
   "source": [
    "Полученное распределение Пуассона также стремится к нормальному, хотя имеет множество пиковых значений. Это связано с относительно небольшим количеством пользователей тарифа \"Ультра\", попавшим в выборку. Здесь наиболее часто встречающийся показатель 19 гб соответствует среднему и медиане. Однако мы видим, что график смещен влево, значит у большего числа пользователей из выборки интернет-трафик меньше медианы. Средний показатель же немного выше медианы, это обусловлено небольшим количеством пользователей с высоким интернет-трафиком (более 35 гб)."
   ]
  },
  {
   "cell_type": "markdown",
   "metadata": {},
   "source": [
    "### Вывод"
   ]
  },
  {
   "cell_type": "markdown",
   "metadata": {},
   "source": [
    "Сравнив средние показатели минут звонков, количества сообщений и интернт-трафика, потраченных пользователями за месяц мы увидели:\n",
    "\n",
    "- Пользователи тарифа \"Смарт\" расходуют в среднем 84% минут звонков, включенных в тариф и 67% сообщений. Интернат-трафика в среднем расходуется больше чем включено в тариф на 9%. Средняя выручка с пользователя в месяц выше базовой платы за тариф на 134%. Большая часть пользователей в выборке оплачивает дополнительные услуги сверх тарифа.\n",
    "\n",
    "- Пользователи тарифа \"Ультра\" в среднем расходуют всего 18% минут звонков и 5% сообщений включенных в тариф. Интернт-трафика в среднем используется 65% от включенного в тариф. Средняя выручка с пользователя в месяц 2070 руб. - выше базовой платы за тариф на 6%. Основная часть пользователей тарифа \"Ультра\" включенных в выборку не пользуется дополнительными услугами сверх включенных в тариф.\n",
    "\n",
    "- По показателям дисперсии и стандартного отклонения можно сказать, что разброс данных по количеству минут, сообщений и интернет-трафика у пользователей тарифа \"Ультра\" больше чем у пользователей тарифа \"Смарт\". Это видно и на гистограммах распределений по тарифам. Гистограммы построенные на основе данных по тарифу \"Смарт\" больше стремятся к нормальному распределению и содержат меньше выбивающихся значений и аномальных пиковых значений."
   ]
  },
  {
   "cell_type": "markdown",
   "metadata": {},
   "source": [
    "## Проверка гипотез о средней выручке по тарифам."
   ]
  },
  {
   "cell_type": "markdown",
   "metadata": {},
   "source": [
    "### Сравнение показателей выручки по тарифам."
   ]
  },
  {
   "cell_type": "markdown",
   "metadata": {},
   "source": [
    "Посмотрим на показатели выручки по тарифам."
   ]
  },
  {
   "cell_type": "code",
   "execution_count": 52,
   "metadata": {},
   "outputs": [
    {
     "data": {
      "text/html": [
       "<div>\n",
       "<style scoped>\n",
       "    .dataframe tbody tr th:only-of-type {\n",
       "        vertical-align: middle;\n",
       "    }\n",
       "\n",
       "    .dataframe tbody tr th {\n",
       "        vertical-align: top;\n",
       "    }\n",
       "\n",
       "    .dataframe thead th {\n",
       "        text-align: right;\n",
       "    }\n",
       "</style>\n",
       "<table border=\"1\" class=\"dataframe\">\n",
       "  <thead>\n",
       "    <tr style=\"text-align: right;\">\n",
       "      <th></th>\n",
       "      <th>revenue_median</th>\n",
       "      <th>revenue_mean</th>\n",
       "      <th>revenue_var</th>\n",
       "      <th>revenue_std</th>\n",
       "      <th>rub_monthly_fee</th>\n",
       "      <th>%_mean_monthly_fee</th>\n",
       "      <th>%_std_mean</th>\n",
       "    </tr>\n",
       "    <tr>\n",
       "      <th>tariff</th>\n",
       "      <th></th>\n",
       "      <th></th>\n",
       "      <th></th>\n",
       "      <th></th>\n",
       "      <th></th>\n",
       "      <th></th>\n",
       "      <th></th>\n",
       "    </tr>\n",
       "  </thead>\n",
       "  <tbody>\n",
       "    <tr>\n",
       "      <th>smart</th>\n",
       "      <td>1021.0</td>\n",
       "      <td>1289.641704</td>\n",
       "      <td>669730.763895</td>\n",
       "      <td>818.370799</td>\n",
       "      <td>550</td>\n",
       "      <td>234.48</td>\n",
       "      <td>63.46</td>\n",
       "    </tr>\n",
       "    <tr>\n",
       "      <th>ultra</th>\n",
       "      <td>1950.0</td>\n",
       "      <td>2070.030426</td>\n",
       "      <td>141387.714809</td>\n",
       "      <td>376.015578</td>\n",
       "      <td>1950</td>\n",
       "      <td>106.16</td>\n",
       "      <td>18.16</td>\n",
       "    </tr>\n",
       "  </tbody>\n",
       "</table>\n",
       "</div>"
      ],
      "text/plain": [
       "        revenue_median  revenue_mean    revenue_var  revenue_std  \\\n",
       "tariff                                                             \n",
       "smart           1021.0   1289.641704  669730.763895   818.370799   \n",
       "ultra           1950.0   2070.030426  141387.714809   376.015578   \n",
       "\n",
       "        rub_monthly_fee  %_mean_monthly_fee  %_std_mean  \n",
       "tariff                                                   \n",
       "smart               550              234.48       63.46  \n",
       "ultra              1950              106.16       18.16  "
      ]
     },
     "execution_count": 52,
     "metadata": {},
     "output_type": "execute_result"
    }
   ],
   "source": [
    "revenue_by_tariff = data.groupby('tariff').agg({'revenue' : ['median', 'mean', 'var', 'std']}).droplevel(0, axis=1)\n",
    "revenue_by_tariff.columns = ['revenue_median', 'revenue_mean', 'revenue_var', 'revenue_std']\n",
    "revenue_by_tariff = revenue_by_tariff.merge(data_tariffs[['tariff','rub_monthly_fee']], on='tariff').set_index('tariff')\n",
    "\n",
    "revenue_by_tariff['%_mean_monthly_fee'] = round((revenue_by_tariff['revenue_mean']/revenue_by_tariff['rub_monthly_fee']*100),2)\n",
    "revenue_by_tariff['%_std_mean'] = round((revenue_by_tariff['revenue_std']/revenue_by_tariff['revenue_mean']*100),2)\n",
    "revenue_by_tariff"
   ]
  },
  {
   "cell_type": "markdown",
   "metadata": {},
   "source": [
    "Средняя выручка пользователей тарифа \"Смарт\", как мы уже отмечали 1289,64р., \"Ультра\" - 2070р. В отличие от показателей минут, сообщений и интернет-трафика, дисперсия и стандартное отклонение у выручки пользователей \"Ультра\" гораздо меньше, чем у пользователей \"Смарт\". Разброс показателей выручки у пользователей тарифа \"Смарт\" больше, они в основной своей части оплачивают услуги связи сверх тарифа. Пользователи тарифа ультра в большинстве оплачивают только ежемесячный тариф.\n",
    "Средняя выручка пользователей тарифа \"Ультра\" из выборки выше выручки пользователей тарифа \"Смарт\" на 60%. "
   ]
  },
  {
   "cell_type": "markdown",
   "metadata": {},
   "source": [
    "**Распределение выручки по пользователям в зависимости от тарифа.**"
   ]
  },
  {
   "cell_type": "code",
   "execution_count": 53,
   "metadata": {
    "scrolled": false
   },
   "outputs": [
    {
     "data": {
      "text/plain": [
       "Text(0.5, 0, 'выручка по пользователю за месяц')"
      ]
     },
     "execution_count": 53,
     "metadata": {},
     "output_type": "execute_result"
    },
    {
     "data": {
      "image/png": "[encoded data removed]",
      "text/plain": [
       "<Figure size 1080x720 with 1 Axes>"
      ]
     },
     "metadata": {
      "needs_background": "light"
     },
     "output_type": "display_data"
    }
   ],
   "source": [
    "ax = data[data['tariff'] == \"smart\"]['revenue'].hist(bins=50, figsize=(15,10), range=(550,6000), label='Смарт', alpha=0.7)\n",
    "data[data['tariff'] == \"ultra\"]['revenue'].hist(ax=ax, bins=26, figsize=(15,10), range=(1950,4800), label='Ультра', alpha=0.7)\n",
    "plt.legend()\n",
    "plt.title('График распределения выручки за месяц по тарифам')\n",
    "plt.ylabel('количество пользователей')\n",
    "plt.xlabel('выручка по пользователю за месяц')"
   ]
  },
  {
   "cell_type": "markdown",
   "metadata": {},
   "source": [
    "На графике распределения также видно, что разброс значений выручки пользователей тарифа \"Смарт\" гораздо больше, чем у пользователей \"Ультра\". Пользователи тарифа \"Ультра\" в подавляющем большинстве оплачивают только базовый тариф. Значений выше крайне мало. Среди клиентов подключивших тариф \"Смарт\" самое пиковое значение также на сумме равной базовому тарифу. Но, в отличии от \"Ультра\", достаточно много значений выручки, превышающей базовый тариф. График имеет длинный хвост вправо. "
   ]
  },
  {
   "cell_type": "markdown",
   "metadata": {},
   "source": [
    "### Проверка гипотезы о том, что средняя выручка пользователей тарифов \"Ультра\" и \"Смарт\" различается."
   ]
  },
  {
   "cell_type": "markdown",
   "metadata": {},
   "source": [
    "По данным выборки средняя выручка полльзователей тарифа \"Ультра\" выше выручки пользователей тарифа \"Смарт\" на 60%.\n",
    "Проверим гипотезу о том, что эти средние показатели различны статистическим методом.\n",
    "\n",
    "Для проверки гипотезы примем за нулевую гипотезу предположение, что средняя выручка пользователей тарифов \"Ультра\" и \"Смарт\" равны. Проверка гипотез о равенстве средних двух генеральных совокупностей осуществляется с помощью метода `scipy.stats.ttest_ind`. Альтернативной гипотезой будет предположение о том, что средние выручки пользователей тарифов \"Ультра\" и \"Смарт\" различаются. "
   ]
  },
  {
   "cell_type": "code",
   "execution_count": 54,
   "metadata": {},
   "outputs": [
    {
     "name": "stdout",
     "output_type": "stream",
     "text": [
      "p-значение: 8.081909555489933e-161\n",
      "Отвергаем нулевую гипотезу\n"
     ]
    }
   ],
   "source": [
    "alpha=0.05\n",
    "\n",
    "results = st.ttest_ind(data.loc[data['tariff'] == 'smart', 'revenue'], data.loc[data['tariff'] == 'ultra', 'revenue'])\n",
    "print('p-значение:', results.pvalue)\n",
    "if results.pvalue < alpha:\n",
    "    print('Отвергаем нулевую гипотезу')\n",
    "else:\n",
    "    print('Не получилось отвергнуть нулевую гипотезу')"
   ]
  },
  {
   "cell_type": "markdown",
   "metadata": {},
   "source": [
    "Вероятность того, что средняя выручка пользователей по тарифам равна меньше статистически значимой, значит у нас есть основания отвергнуть нулевую гипотезу и не отвергать альтернативную гипотезу о том,что средние выручки по тарифам различаются. Данные из выборки соответствуют этой гипотезе."
   ]
  },
  {
   "cell_type": "markdown",
   "metadata": {},
   "source": [
    "### Проверка гипотезы, о том, что средняя выручка пользователей из Москвы отличается от выручки пользователей из других регионов."
   ]
  },
  {
   "cell_type": "markdown",
   "metadata": {},
   "source": [
    "Посмотрим на показатели выручки по пользователям из Москвы и по пользователям из других городов."
   ]
  },
  {
   "cell_type": "code",
   "execution_count": 55,
   "metadata": {
    "scrolled": true
   },
   "outputs": [
    {
     "name": "stdout",
     "output_type": "stream",
     "text": [
      "Статистика выручки по пользователям из Москвы\n"
     ]
    },
    {
     "data": {
      "text/html": [
       "<div>\n",
       "<style scoped>\n",
       "    .dataframe tbody tr th:only-of-type {\n",
       "        vertical-align: middle;\n",
       "    }\n",
       "\n",
       "    .dataframe tbody tr th {\n",
       "        vertical-align: top;\n",
       "    }\n",
       "\n",
       "    .dataframe thead th {\n",
       "        text-align: right;\n",
       "    }\n",
       "</style>\n",
       "<table border=\"1\" class=\"dataframe\">\n",
       "  <thead>\n",
       "    <tr style=\"text-align: right;\">\n",
       "      <th></th>\n",
       "      <th>median</th>\n",
       "      <th>mean</th>\n",
       "      <th>var</th>\n",
       "      <th>std</th>\n",
       "    </tr>\n",
       "  </thead>\n",
       "  <tbody>\n",
       "    <tr>\n",
       "      <th>revenue</th>\n",
       "      <td>1750.0</td>\n",
       "      <td>1546.713584</td>\n",
       "      <td>565636.467012</td>\n",
       "      <td>752.088071</td>\n",
       "    </tr>\n",
       "  </tbody>\n",
       "</table>\n",
       "</div>"
      ],
      "text/plain": [
       "         median         mean            var         std\n",
       "revenue  1750.0  1546.713584  565636.467012  752.088071"
      ]
     },
     "metadata": {},
     "output_type": "display_data"
    },
    {
     "name": "stdout",
     "output_type": "stream",
     "text": [
      "Статистика выручки по пользователям из других регионов\n"
     ]
    },
    {
     "data": {
      "text/html": [
       "<div>\n",
       "<style scoped>\n",
       "    .dataframe tbody tr th:only-of-type {\n",
       "        vertical-align: middle;\n",
       "    }\n",
       "\n",
       "    .dataframe tbody tr th {\n",
       "        vertical-align: top;\n",
       "    }\n",
       "\n",
       "    .dataframe thead th {\n",
       "        text-align: right;\n",
       "    }\n",
       "</style>\n",
       "<table border=\"1\" class=\"dataframe\">\n",
       "  <thead>\n",
       "    <tr style=\"text-align: right;\">\n",
       "      <th></th>\n",
       "      <th>median</th>\n",
       "      <th>mean</th>\n",
       "      <th>var</th>\n",
       "      <th>std</th>\n",
       "    </tr>\n",
       "  </thead>\n",
       "  <tbody>\n",
       "    <tr>\n",
       "      <th>revenue</th>\n",
       "      <td>1583.0</td>\n",
       "      <td>1524.725144</td>\n",
       "      <td>654069.574963</td>\n",
       "      <td>808.74568</td>\n",
       "    </tr>\n",
       "  </tbody>\n",
       "</table>\n",
       "</div>"
      ],
      "text/plain": [
       "         median         mean            var        std\n",
       "revenue  1583.0  1524.725144  654069.574963  808.74568"
      ]
     },
     "metadata": {},
     "output_type": "display_data"
    }
   ],
   "source": [
    "revenue_moscow = data.query('city == \"Москва\"').agg({'revenue' : ['median', 'mean', 'var', 'std']}).T\n",
    "revenue_others = data.query('city != \"Москва\"').agg({'revenue' : ['median', 'mean', 'var', 'std']}).T\n",
    "\n",
    "print('Статистика выручки по пользователям из Москвы')\n",
    "display(revenue_moscow)\n",
    "print('Статистика выручки по пользователям из других регионов')\n",
    "display(revenue_others)\n"
   ]
  },
  {
   "cell_type": "markdown",
   "metadata": {},
   "source": [
    "Как видно средняя выручка по пользователям из Москвы выше средней выручки пользователей из других регионов в выборке всего на 1%.\n",
    "Проверим гипотезу о том, что эти показатели отличаются статистическим методом. Используем метод проверки гипотез о равенстве средних двух генеральных совокупностей `scipy.stats.ttest_ind`. За нулевую гипотезу примем гипотезу о равенстве средней выручки пользователей из Москвы и пользователей из других регионов. Соответственно альтернативной гипотезой будет предположение о том, что эти выручки различаются."
   ]
  },
  {
   "cell_type": "code",
   "execution_count": 56,
   "metadata": {},
   "outputs": [
    {
     "name": "stdout",
     "output_type": "stream",
     "text": [
      "p-значение: 0.6099466486132994\n",
      "Не получилось отвергнуть нулевую гипотезу\n"
     ]
    }
   ],
   "source": [
    "results = st.ttest_ind(data.loc[data['city'] == 'Москва', 'revenue'], data.loc[data['tariff'] != 'Москва', 'revenue'])\n",
    "print('p-значение:', results.pvalue)\n",
    "if results.pvalue < alpha:\n",
    "    print('Отвергаем нулевую гипотезу')\n",
    "else:\n",
    "    print('Не получилось отвергнуть нулевую гипотезу')"
   ]
  },
  {
   "cell_type": "markdown",
   "metadata": {},
   "source": [
    "Хотя средние показатели выручки пользователей в зависимости от города (из Москвы или нет) в выборке отличаются, вероятность того, что эти различия случайны 60% и выше. Гипотеза о том, что выручка по пользователям из Москвы отличается от выручки по пользователям из других городов не подтвердилась."
   ]
  },
  {
   "cell_type": "markdown",
   "metadata": {},
   "source": [
    "### Вывод"
   ]
  },
  {
   "cell_type": "markdown",
   "metadata": {},
   "source": [
    "Если сравнивать средние значения из имеющейся выборки, то можно увидеть, что средняя выручка пользователей тарифа \"Ультра\" выше, чему у пользователей тарифа \"Смарт\" на 60%. При сравнении средней выручки пользователей из Москвы с выручкой пользователей из других регионов в выборке явных различий не выявлено. Средняя выручка клиентов из Москвы выше всего на 1%.\n",
    "\n",
    "Проверка этих гипотез статистическими методами показала:\n",
    "\n",
    "- Гипотеза о том, что средняя выручка пользователей тарифов \"Ултра\" и \"Смарт\" отличается не может быть отвергнута, вероятность того что средние выручки по тарифам одинаковы очень близка к нулю.\n",
    "\n",
    "- Гипотеза о том, что средняя выручка пользователей из Москвы отличается от выручки пользователей из других городов не подтвердилась."
   ]
  },
  {
   "cell_type": "markdown",
   "metadata": {},
   "source": [
    "## Общее сравнение средних показателей по тарифам."
   ]
  },
  {
   "cell_type": "markdown",
   "metadata": {},
   "source": [
    "Чтобы понять, какой тариф более выгоден для компании, сравним средние показатели двух тарифов."
   ]
  },
  {
   "cell_type": "code",
   "execution_count": 57,
   "metadata": {
    "scrolled": true
   },
   "outputs": [
    {
     "data": {
      "text/html": [
       "<div>\n",
       "<style scoped>\n",
       "    .dataframe tbody tr th:only-of-type {\n",
       "        vertical-align: middle;\n",
       "    }\n",
       "\n",
       "    .dataframe tbody tr th {\n",
       "        vertical-align: top;\n",
       "    }\n",
       "\n",
       "    .dataframe thead th {\n",
       "        text-align: right;\n",
       "    }\n",
       "</style>\n",
       "<table border=\"1\" class=\"dataframe\">\n",
       "  <thead>\n",
       "    <tr style=\"text-align: right;\">\n",
       "      <th>tariff</th>\n",
       "      <th>smart</th>\n",
       "      <th>ultra</th>\n",
       "      <th>%_smart_ultra</th>\n",
       "    </tr>\n",
       "  </thead>\n",
       "  <tbody>\n",
       "    <tr>\n",
       "      <th>revenue_mean</th>\n",
       "      <td>1289.641704</td>\n",
       "      <td>2070.030426</td>\n",
       "      <td>60.51</td>\n",
       "    </tr>\n",
       "    <tr>\n",
       "      <th>calls_mean</th>\n",
       "      <td>417.747534</td>\n",
       "      <td>526.089249</td>\n",
       "      <td>25.93</td>\n",
       "    </tr>\n",
       "    <tr>\n",
       "      <th>messages_mean</th>\n",
       "      <td>33.369058</td>\n",
       "      <td>49.313387</td>\n",
       "      <td>47.78</td>\n",
       "    </tr>\n",
       "    <tr>\n",
       "      <th>gb_used_mean</th>\n",
       "      <td>16.321525</td>\n",
       "      <td>19.474645</td>\n",
       "      <td>19.32</td>\n",
       "    </tr>\n",
       "  </tbody>\n",
       "</table>\n",
       "</div>"
      ],
      "text/plain": [
       "tariff               smart        ultra  %_smart_ultra\n",
       "revenue_mean   1289.641704  2070.030426          60.51\n",
       "calls_mean      417.747534   526.089249          25.93\n",
       "messages_mean    33.369058    49.313387          47.78\n",
       "gb_used_mean     16.321525    19.474645          19.32"
      ]
     },
     "execution_count": 57,
     "metadata": {},
     "output_type": "execute_result"
    }
   ],
   "source": [
    "mean_by_tariff = pd.DataFrame(revenue_by_tariff, columns=['revenue_mean'])\n",
    "mean_by_tariff = mean_by_tariff.merge(calls_by_tariff['calls_mean'], on='tariff')\n",
    "mean_by_tariff = mean_by_tariff.merge(messages_by_tariff['messages_mean'], on='tariff')\n",
    "mean_by_tariff = mean_by_tariff.merge(gb_by_tariff['gb_used_mean'], on='tariff')\n",
    "mean_by_tariff = mean_by_tariff.T\n",
    "mean_by_tariff['%_smart_ultra'] = round((mean_by_tariff['ultra']/mean_by_tariff['smart']*100-100),2)\n",
    "mean_by_tariff"
   ]
  },
  {
   "cell_type": "markdown",
   "metadata": {},
   "source": [
    "При сравнении средних показателей получается, что средняя выручка по тарифу ультра выше на 60%, в то время как среднее количество минут звонков выше всего на 25%, интернет-трафика на 19%, самая большая разница в процентах у смс сообщений, но это из-за их небольшого в среднем их количества у пользователей обоих тарифов (пользователи тарифа \"Ультра\" расходуют всего 5% пакета сообщений, включенных в тариф).\n",
    "\n",
    "Для наглядности посчитаем и выведем на экран данные о том, какое количество услуг предоставляет компания за 1 рубль пользователям каждого тарифа согласно его условиям, а какое фактически, исходя из средних данных выборки по пользователям.  \n"
   ]
  },
  {
   "cell_type": "code",
   "execution_count": 58,
   "metadata": {
    "scrolled": true
   },
   "outputs": [
    {
     "data": {
      "text/html": [
       "<div>\n",
       "<style scoped>\n",
       "    .dataframe tbody tr th:only-of-type {\n",
       "        vertical-align: middle;\n",
       "    }\n",
       "\n",
       "    .dataframe tbody tr th {\n",
       "        vertical-align: top;\n",
       "    }\n",
       "\n",
       "    .dataframe thead th {\n",
       "        text-align: right;\n",
       "    }\n",
       "</style>\n",
       "<table border=\"1\" class=\"dataframe\">\n",
       "  <thead>\n",
       "    <tr style=\"text-align: right;\">\n",
       "      <th></th>\n",
       "      <th>smart</th>\n",
       "      <th>ultra</th>\n",
       "      <th>smart_mean</th>\n",
       "      <th>ultra_mean</th>\n",
       "      <th>%_ul_sm</th>\n",
       "      <th>%_ul_sm_mean</th>\n",
       "    </tr>\n",
       "    <tr>\n",
       "      <th>service</th>\n",
       "      <th></th>\n",
       "      <th></th>\n",
       "      <th></th>\n",
       "      <th></th>\n",
       "      <th></th>\n",
       "      <th></th>\n",
       "    </tr>\n",
       "  </thead>\n",
       "  <tbody>\n",
       "    <tr>\n",
       "      <th>minutes_for_1rub</th>\n",
       "      <td>0.909</td>\n",
       "      <td>1.538</td>\n",
       "      <td>0.324</td>\n",
       "      <td>0.254</td>\n",
       "      <td>69.20</td>\n",
       "      <td>-21.60</td>\n",
       "    </tr>\n",
       "    <tr>\n",
       "      <th>messages_for_1rub</th>\n",
       "      <td>0.091</td>\n",
       "      <td>0.513</td>\n",
       "      <td>0.026</td>\n",
       "      <td>0.024</td>\n",
       "      <td>463.74</td>\n",
       "      <td>-7.69</td>\n",
       "    </tr>\n",
       "    <tr>\n",
       "      <th>gb_for_1rub</th>\n",
       "      <td>0.027</td>\n",
       "      <td>0.015</td>\n",
       "      <td>0.012</td>\n",
       "      <td>0.009</td>\n",
       "      <td>-44.44</td>\n",
       "      <td>-25.00</td>\n",
       "    </tr>\n",
       "  </tbody>\n",
       "</table>\n",
       "</div>"
      ],
      "text/plain": [
       "                   smart  ultra  smart_mean  ultra_mean  %_ul_sm  %_ul_sm_mean\n",
       "service                                                                       \n",
       "minutes_for_1rub   0.909  1.538       0.324       0.254    69.20        -21.60\n",
       "messages_for_1rub  0.091  0.513       0.026       0.024   463.74         -7.69\n",
       "gb_for_1rub        0.027  0.015       0.012       0.009   -44.44        -25.00"
      ]
     },
     "execution_count": 58,
     "metadata": {},
     "output_type": "execute_result"
    }
   ],
   "source": [
    "servic_for_rub = pd.DataFrame(data=[['minutes_for_1rub', round((500/550),3), round((3000/1950),3), round((418/1290),3), round((526/2070),3)],\n",
    "                                  ['messages_for_1rub', round((50/550),3), round((1000/1950),3), round((33/1290),3), round((49/2070),3)],\n",
    "                                  ['gb_for_1rub', round((15/550),3), round((30/1950),3),round((16/1290),3),round((19/2070),3)]\n",
    "                                   ],\n",
    "                           columns = ['service', \n",
    "                                      'smart', 'ultra', 'smart_mean', 'ultra_mean']).set_index('service')\n",
    "servic_for_rub['%_ul_sm'] = round((servic_for_rub['ultra'] / servic_for_rub['smart'] *100-100), 2)\n",
    "servic_for_rub['%_ul_sm_mean'] = round((servic_for_rub['ultra_mean'] / servic_for_rub['smart_mean'] *100-100), 2)\n",
    "servic_for_rub"
   ]
  },
  {
   "cell_type": "markdown",
   "metadata": {},
   "source": [
    "По условиям тарифа самое большое количество услуг за 1 потраченный рубль получают пользователи тарифа \"Ультра\" (за исключением интернета, получается, что у тарифа \"Смарт\" интернет-трафик дешевле), но, поскольку большинство пользователей тарифа \"Ультра\" в выборке не полностью используют включенный в тариф пакет услуг, за каждый потраченный рубль они получают меньше услуг: минут звонков на 21,6 %, сообщений на 7,69% и интернета на 25%."
   ]
  },
  {
   "cell_type": "markdown",
   "metadata": {},
   "source": [
    "## Общий вывод"
   ]
  },
  {
   "cell_type": "markdown",
   "metadata": {},
   "source": [
    "В ходе исследования на основе выборки из 500 клиентов компании \"Мегалайн\" нам нужно было выяснить какой из предлагаемых компанией тарифов приносит больше денег, чтобы скорректировать рекламный бюджет.\n",
    "\n",
    "Проанализировав поведение клиентов из выборки в зависимости от тарифа мы выявили следующие характерные особенности:\n",
    "\n",
    "- Пользователи тарифа \"Смарт\" в среднем используют большую часть услуг включенных в тариф (84% минут звонков, 67% сообщений), интернет-трафика в среднем расходуется больше, чем включено в пакет на 9%. Пользователи тарифа \"Смарт\" более склонны к использованию дополнительных услуг, не включенных в тариф. Их среднемесячная выручка в выборке выше базовой платы за тариф на 134%.\n",
    "\n",
    "- Пользователи тарифа \"Ультра\" практически не пользуются дополнительными услугами не включенными в пакет. Также основная часть пользователей тарифа не расходует полностью пакет услуг включенных в тариф. В среднем расходуется 18% минут звонков, 5% сообщений и 65% интернета. Среднемесячная выручка пользователей тарифа \"Ультра\" из выборке превышает базовоу плату за тариф всего на 6%.\n",
    "\n",
    "При этом, сравнивая среднюю выручку пользователей из выборки, мы видим, что средняя выручка по тарифу \"Ультра\" на 60% выше средней выручки по тарифу \"Смарт\". Сравнивая фактические средние объемы потребленных клиентами из выборки услуг в зависимости от тарифа видно, что в среднем пользователи тарифа \"Ультра\" за каждый потраченный рубль получают меньший объем услуг, чем пользователи тарифа \"Смарт\" (интернета на 25%, минут звонков на 21,6%, сообщений на 7,69%).\n",
    "\n",
    "Основываясь на полученных данных, можно сделать вывод, что не смотря на то что пользователи тарифа \"Смарт\" оплачивают больше дополнительных услуг, компании \"Мегалайн\" приносит больше денег один средний пользователь тарифа \"Ультра\", чем один средний пользователь тарифа \"Смарт\".\n",
    "Также нами было проверено статистическими методами две гипотезы.\n",
    " - Гипотезу о том, что средняя выручка пользователей тарифов \"Удьтра\" и \"Смарт\" различаются мы не отвергли, вероятность того, что они могут быть одинаковые практически равна нулю.\n",
    " \n",
    " - Гипотеза о том, что средняя выручка пользователей из Москвы отличается от средней выручки пользователей из других регионов не подтвердилась. Вероятность того, что различия этих показателей случайны 60% и выше.\n"
   ]
  }
 ],
 "metadata": {
  "ExecuteTimeLog": [
   {
    "duration": 374,
    "start_time": "2021-12-19T12:48:34.410Z"
   },
   {
    "duration": 884,
    "start_time": "2021-12-19T13:20:00.089Z"
   },
   {
    "duration": 394,
    "start_time": "2021-12-19T13:20:45.961Z"
   },
   {
    "duration": 524,
    "start_time": "2021-12-19T13:21:04.221Z"
   },
   {
    "duration": 41,
    "start_time": "2021-12-19T13:24:30.261Z"
   },
   {
    "duration": 30,
    "start_time": "2021-12-19T13:27:02.149Z"
   },
   {
    "duration": 42,
    "start_time": "2021-12-19T13:32:36.940Z"
   },
   {
    "duration": 119,
    "start_time": "2021-12-19T13:43:12.852Z"
   },
   {
    "duration": 22,
    "start_time": "2021-12-19T13:43:28.304Z"
   },
   {
    "duration": 16,
    "start_time": "2021-12-19T13:43:41.908Z"
   },
   {
    "duration": 14,
    "start_time": "2021-12-19T13:47:19.504Z"
   },
   {
    "duration": 12,
    "start_time": "2021-12-19T13:48:15.592Z"
   },
   {
    "duration": 18,
    "start_time": "2021-12-19T13:48:57.649Z"
   },
   {
    "duration": 13,
    "start_time": "2021-12-19T13:49:21.448Z"
   },
   {
    "duration": 10,
    "start_time": "2021-12-19T13:56:23.968Z"
   },
   {
    "duration": 27,
    "start_time": "2021-12-19T13:57:44.708Z"
   },
   {
    "duration": 518,
    "start_time": "2021-12-19T14:07:50.889Z"
   },
   {
    "duration": 16,
    "start_time": "2021-12-19T14:11:46.148Z"
   },
   {
    "duration": 16,
    "start_time": "2021-12-19T14:19:29.299Z"
   },
   {
    "duration": 36,
    "start_time": "2021-12-19T14:29:26.832Z"
   },
   {
    "duration": 8002,
    "start_time": "2021-12-19T14:40:32.619Z"
   },
   {
    "duration": 48,
    "start_time": "2021-12-19T14:41:05.307Z"
   },
   {
    "duration": 6,
    "start_time": "2021-12-19T14:58:53.695Z"
   },
   {
    "duration": 17,
    "start_time": "2021-12-19T14:59:22.519Z"
   },
   {
    "duration": 12,
    "start_time": "2021-12-19T14:59:34.615Z"
   },
   {
    "duration": 278,
    "start_time": "2021-12-19T15:00:17.879Z"
   },
   {
    "duration": 9,
    "start_time": "2021-12-19T15:00:50.623Z"
   },
   {
    "duration": 10,
    "start_time": "2021-12-19T15:00:53.755Z"
   },
   {
    "duration": 33,
    "start_time": "2021-12-19T15:01:41.379Z"
   },
   {
    "duration": 54,
    "start_time": "2021-12-19T15:03:43.399Z"
   },
   {
    "duration": 26,
    "start_time": "2021-12-19T15:08:19.746Z"
   },
   {
    "duration": 28,
    "start_time": "2021-12-19T15:12:28.394Z"
   },
   {
    "duration": 31,
    "start_time": "2021-12-19T15:17:00.422Z"
   },
   {
    "duration": 13,
    "start_time": "2021-12-19T15:28:31.401Z"
   },
   {
    "duration": 37,
    "start_time": "2021-12-19T15:30:02.853Z"
   },
   {
    "duration": 37,
    "start_time": "2021-12-19T15:31:49.149Z"
   },
   {
    "duration": 1079,
    "start_time": "2021-12-20T14:56:48.217Z"
   },
   {
    "duration": 430,
    "start_time": "2021-12-20T14:56:49.299Z"
   },
   {
    "duration": 19,
    "start_time": "2021-12-20T14:56:49.731Z"
   },
   {
    "duration": 12,
    "start_time": "2021-12-20T14:56:49.752Z"
   },
   {
    "duration": 10,
    "start_time": "2021-12-20T14:56:49.765Z"
   },
   {
    "duration": 31,
    "start_time": "2021-12-20T14:56:49.777Z"
   },
   {
    "duration": 18,
    "start_time": "2021-12-20T14:56:49.810Z"
   },
   {
    "duration": 17,
    "start_time": "2021-12-20T14:56:49.831Z"
   },
   {
    "duration": 27,
    "start_time": "2021-12-20T14:56:49.850Z"
   },
   {
    "duration": 60,
    "start_time": "2021-12-20T14:56:49.878Z"
   },
   {
    "duration": 9,
    "start_time": "2021-12-20T14:56:49.940Z"
   },
   {
    "duration": 38,
    "start_time": "2021-12-20T14:56:49.951Z"
   },
   {
    "duration": 33,
    "start_time": "2021-12-20T14:56:49.991Z"
   },
   {
    "duration": 21,
    "start_time": "2021-12-20T14:56:50.026Z"
   },
   {
    "duration": 23,
    "start_time": "2021-12-20T14:56:50.049Z"
   },
   {
    "duration": 37,
    "start_time": "2021-12-20T14:56:50.074Z"
   },
   {
    "duration": 24,
    "start_time": "2021-12-20T14:56:50.113Z"
   },
   {
    "duration": 26,
    "start_time": "2021-12-20T14:56:50.138Z"
   },
   {
    "duration": 28,
    "start_time": "2021-12-20T15:16:21.265Z"
   },
   {
    "duration": 20,
    "start_time": "2021-12-20T15:17:47.357Z"
   },
   {
    "duration": 24,
    "start_time": "2021-12-20T15:19:23.961Z"
   },
   {
    "duration": 27,
    "start_time": "2021-12-20T15:24:10.457Z"
   },
   {
    "duration": 417,
    "start_time": "2021-12-20T15:26:50.092Z"
   },
   {
    "duration": 1065,
    "start_time": "2021-12-20T15:27:44.123Z"
   },
   {
    "duration": 393,
    "start_time": "2021-12-20T15:27:45.190Z"
   },
   {
    "duration": 21,
    "start_time": "2021-12-20T15:27:45.585Z"
   },
   {
    "duration": 12,
    "start_time": "2021-12-20T15:27:45.608Z"
   },
   {
    "duration": 11,
    "start_time": "2021-12-20T15:27:45.622Z"
   },
   {
    "duration": 9,
    "start_time": "2021-12-20T15:27:45.635Z"
   },
   {
    "duration": 18,
    "start_time": "2021-12-20T15:27:45.646Z"
   },
   {
    "duration": 47,
    "start_time": "2021-12-20T15:27:45.668Z"
   },
   {
    "duration": 26,
    "start_time": "2021-12-20T15:27:45.717Z"
   },
   {
    "duration": 33,
    "start_time": "2021-12-20T15:27:45.744Z"
   },
   {
    "duration": 35,
    "start_time": "2021-12-20T15:27:45.779Z"
   },
   {
    "duration": 33,
    "start_time": "2021-12-20T15:27:45.816Z"
   },
   {
    "duration": 26,
    "start_time": "2021-12-20T15:27:45.851Z"
   },
   {
    "duration": 41,
    "start_time": "2021-12-20T15:27:45.879Z"
   },
   {
    "duration": 20,
    "start_time": "2021-12-20T15:27:45.922Z"
   },
   {
    "duration": 20,
    "start_time": "2021-12-20T15:27:45.944Z"
   },
   {
    "duration": 54,
    "start_time": "2021-12-20T15:27:45.965Z"
   },
   {
    "duration": 10,
    "start_time": "2021-12-20T15:27:46.021Z"
   },
   {
    "duration": 29,
    "start_time": "2021-12-20T15:27:46.033Z"
   },
   {
    "duration": 46,
    "start_time": "2021-12-20T15:27:46.065Z"
   },
   {
    "duration": 23,
    "start_time": "2021-12-20T15:27:46.113Z"
   },
   {
    "duration": 392,
    "start_time": "2021-12-20T15:27:46.137Z"
   },
   {
    "duration": 54,
    "start_time": "2021-12-20T15:27:46.477Z"
   },
   {
    "duration": 30,
    "start_time": "2021-12-20T15:28:51.959Z"
   },
   {
    "duration": 12051,
    "start_time": "2021-12-20T15:43:59.830Z"
   },
   {
    "duration": 1092,
    "start_time": "2021-12-20T15:44:37.990Z"
   },
   {
    "duration": 410,
    "start_time": "2021-12-20T15:44:39.084Z"
   },
   {
    "duration": 18,
    "start_time": "2021-12-20T15:44:39.496Z"
   },
   {
    "duration": 11,
    "start_time": "2021-12-20T15:44:39.516Z"
   },
   {
    "duration": 9,
    "start_time": "2021-12-20T15:44:39.529Z"
   },
   {
    "duration": 9,
    "start_time": "2021-12-20T15:44:39.540Z"
   },
   {
    "duration": 17,
    "start_time": "2021-12-20T15:44:39.550Z"
   },
   {
    "duration": 39,
    "start_time": "2021-12-20T15:44:39.569Z"
   },
   {
    "duration": 26,
    "start_time": "2021-12-20T15:44:39.611Z"
   },
   {
    "duration": 35,
    "start_time": "2021-12-20T15:44:39.638Z"
   },
   {
    "duration": 35,
    "start_time": "2021-12-20T15:44:39.675Z"
   },
   {
    "duration": 30,
    "start_time": "2021-12-20T15:44:39.712Z"
   },
   {
    "duration": 27,
    "start_time": "2021-12-20T15:44:39.744Z"
   },
   {
    "duration": 48,
    "start_time": "2021-12-20T15:44:39.772Z"
   },
   {
    "duration": 20,
    "start_time": "2021-12-20T15:44:39.822Z"
   },
   {
    "duration": 20,
    "start_time": "2021-12-20T15:44:39.843Z"
   },
   {
    "duration": 47,
    "start_time": "2021-12-20T15:44:39.865Z"
   },
   {
    "duration": 7,
    "start_time": "2021-12-20T15:44:39.914Z"
   },
   {
    "duration": 23,
    "start_time": "2021-12-20T15:44:39.923Z"
   },
   {
    "duration": 25,
    "start_time": "2021-12-20T15:44:39.948Z"
   },
   {
    "duration": 49,
    "start_time": "2021-12-20T15:44:39.975Z"
   },
   {
    "duration": 29,
    "start_time": "2021-12-20T15:44:40.026Z"
   },
   {
    "duration": 21,
    "start_time": "2021-12-20T15:45:18.886Z"
   },
   {
    "duration": 404,
    "start_time": "2021-12-20T15:47:06.202Z"
   },
   {
    "duration": 21,
    "start_time": "2021-12-20T15:48:23.863Z"
   },
   {
    "duration": 21,
    "start_time": "2021-12-20T15:52:15.741Z"
   },
   {
    "duration": 18,
    "start_time": "2021-12-20T15:56:21.029Z"
   },
   {
    "duration": 15,
    "start_time": "2021-12-20T16:02:49.989Z"
   },
   {
    "duration": 10,
    "start_time": "2021-12-20T16:04:27.697Z"
   },
   {
    "duration": 10,
    "start_time": "2021-12-20T16:12:27.386Z"
   },
   {
    "duration": 1044,
    "start_time": "2021-12-20T16:17:37.743Z"
   },
   {
    "duration": 423,
    "start_time": "2021-12-20T16:17:38.789Z"
   },
   {
    "duration": 18,
    "start_time": "2021-12-20T16:17:39.216Z"
   },
   {
    "duration": 15,
    "start_time": "2021-12-20T16:17:39.236Z"
   },
   {
    "duration": 17,
    "start_time": "2021-12-20T16:17:39.253Z"
   },
   {
    "duration": 10,
    "start_time": "2021-12-20T16:17:39.271Z"
   },
   {
    "duration": 29,
    "start_time": "2021-12-20T16:17:39.284Z"
   },
   {
    "duration": 10,
    "start_time": "2021-12-20T16:17:39.315Z"
   },
   {
    "duration": 18,
    "start_time": "2021-12-20T16:17:39.327Z"
   },
   {
    "duration": 27,
    "start_time": "2021-12-20T16:17:39.346Z"
   },
   {
    "duration": 62,
    "start_time": "2021-12-20T16:17:39.375Z"
   },
   {
    "duration": 10,
    "start_time": "2021-12-20T16:17:39.438Z"
   },
   {
    "duration": 32,
    "start_time": "2021-12-20T16:17:39.450Z"
   },
   {
    "duration": 45,
    "start_time": "2021-12-20T16:17:39.484Z"
   },
   {
    "duration": 18,
    "start_time": "2021-12-20T16:17:39.530Z"
   },
   {
    "duration": 21,
    "start_time": "2021-12-20T16:17:39.550Z"
   },
   {
    "duration": 45,
    "start_time": "2021-12-20T16:17:39.572Z"
   },
   {
    "duration": 22,
    "start_time": "2021-12-20T16:17:39.619Z"
   },
   {
    "duration": 8,
    "start_time": "2021-12-20T16:17:39.643Z"
   },
   {
    "duration": 56,
    "start_time": "2021-12-20T16:17:39.652Z"
   },
   {
    "duration": 25,
    "start_time": "2021-12-20T16:17:39.710Z"
   },
   {
    "duration": 23,
    "start_time": "2021-12-20T16:17:39.738Z"
   },
   {
    "duration": 51,
    "start_time": "2021-12-20T16:17:39.763Z"
   },
   {
    "duration": 22,
    "start_time": "2021-12-20T16:17:39.816Z"
   },
   {
    "duration": 23,
    "start_time": "2021-12-20T16:17:39.840Z"
   },
   {
    "duration": 16,
    "start_time": "2021-12-20T16:17:39.865Z"
   },
   {
    "duration": 1052,
    "start_time": "2021-12-20T16:19:29.348Z"
   },
   {
    "duration": 448,
    "start_time": "2021-12-20T16:19:30.402Z"
   },
   {
    "duration": 19,
    "start_time": "2021-12-20T16:19:30.852Z"
   },
   {
    "duration": 11,
    "start_time": "2021-12-20T16:19:30.873Z"
   },
   {
    "duration": 26,
    "start_time": "2021-12-20T16:19:30.886Z"
   },
   {
    "duration": 26,
    "start_time": "2021-12-20T16:19:30.914Z"
   },
   {
    "duration": 26,
    "start_time": "2021-12-20T16:19:30.942Z"
   },
   {
    "duration": 11,
    "start_time": "2021-12-20T16:19:30.970Z"
   },
   {
    "duration": 40,
    "start_time": "2021-12-20T16:19:30.984Z"
   },
   {
    "duration": 30,
    "start_time": "2021-12-20T16:19:31.026Z"
   },
   {
    "duration": 36,
    "start_time": "2021-12-20T16:19:31.058Z"
   },
   {
    "duration": 11,
    "start_time": "2021-12-20T16:19:31.106Z"
   },
   {
    "duration": 30,
    "start_time": "2021-12-20T16:19:31.119Z"
   },
   {
    "duration": 30,
    "start_time": "2021-12-20T16:19:31.151Z"
   },
   {
    "duration": 21,
    "start_time": "2021-12-20T16:19:31.208Z"
   },
   {
    "duration": 21,
    "start_time": "2021-12-20T16:19:31.230Z"
   },
   {
    "duration": 22,
    "start_time": "2021-12-20T16:19:31.253Z"
   },
   {
    "duration": 54,
    "start_time": "2021-12-20T16:19:31.277Z"
   },
   {
    "duration": 10,
    "start_time": "2021-12-20T16:19:31.333Z"
   },
   {
    "duration": 27,
    "start_time": "2021-12-20T16:19:31.345Z"
   },
   {
    "duration": 58,
    "start_time": "2021-12-20T16:19:31.375Z"
   },
   {
    "duration": 25,
    "start_time": "2021-12-20T16:19:31.435Z"
   },
   {
    "duration": 60,
    "start_time": "2021-12-20T16:19:31.464Z"
   },
   {
    "duration": 22,
    "start_time": "2021-12-20T16:19:31.526Z"
   },
   {
    "duration": 22,
    "start_time": "2021-12-20T16:19:31.550Z"
   },
   {
    "duration": 36,
    "start_time": "2021-12-20T16:19:31.574Z"
   },
   {
    "duration": 1073,
    "start_time": "2021-12-20T16:23:36.115Z"
   },
   {
    "duration": 408,
    "start_time": "2021-12-20T16:23:37.190Z"
   },
   {
    "duration": 18,
    "start_time": "2021-12-20T16:23:37.600Z"
   },
   {
    "duration": 11,
    "start_time": "2021-12-20T16:23:37.620Z"
   },
   {
    "duration": 10,
    "start_time": "2021-12-20T16:23:37.632Z"
   },
   {
    "duration": 8,
    "start_time": "2021-12-20T16:23:37.643Z"
   },
   {
    "duration": 20,
    "start_time": "2021-12-20T16:23:37.652Z"
   },
   {
    "duration": 38,
    "start_time": "2021-12-20T16:23:37.674Z"
   },
   {
    "duration": 10,
    "start_time": "2021-12-20T16:23:37.714Z"
   },
   {
    "duration": 25,
    "start_time": "2021-12-20T16:23:37.726Z"
   },
   {
    "duration": 65,
    "start_time": "2021-12-20T16:23:37.753Z"
   },
   {
    "duration": 10,
    "start_time": "2021-12-20T16:23:37.819Z"
   },
   {
    "duration": 28,
    "start_time": "2021-12-20T16:23:37.831Z"
   },
   {
    "duration": 49,
    "start_time": "2021-12-20T16:23:37.861Z"
   },
   {
    "duration": 19,
    "start_time": "2021-12-20T16:23:37.912Z"
   },
   {
    "duration": 20,
    "start_time": "2021-12-20T16:23:37.933Z"
   },
   {
    "duration": 21,
    "start_time": "2021-12-20T16:23:37.955Z"
   },
   {
    "duration": 48,
    "start_time": "2021-12-20T16:23:37.978Z"
   },
   {
    "duration": 9,
    "start_time": "2021-12-20T16:23:38.028Z"
   },
   {
    "duration": 23,
    "start_time": "2021-12-20T16:23:38.038Z"
   },
   {
    "duration": 54,
    "start_time": "2021-12-20T16:23:38.063Z"
   },
   {
    "duration": 21,
    "start_time": "2021-12-20T16:23:38.119Z"
   },
   {
    "duration": 28,
    "start_time": "2021-12-20T16:23:38.143Z"
   },
   {
    "duration": 44,
    "start_time": "2021-12-20T16:23:38.173Z"
   },
   {
    "duration": 18,
    "start_time": "2021-12-20T16:23:38.219Z"
   },
   {
    "duration": 8,
    "start_time": "2021-12-20T16:23:38.239Z"
   },
   {
    "duration": 15,
    "start_time": "2021-12-20T16:32:45.527Z"
   },
   {
    "duration": 13,
    "start_time": "2021-12-20T16:34:33.099Z"
   },
   {
    "duration": 22,
    "start_time": "2021-12-20T16:37:24.547Z"
   },
   {
    "duration": 1082,
    "start_time": "2021-12-20T16:42:42.155Z"
   },
   {
    "duration": 437,
    "start_time": "2021-12-20T16:42:43.239Z"
   },
   {
    "duration": 18,
    "start_time": "2021-12-20T16:42:43.678Z"
   },
   {
    "duration": 17,
    "start_time": "2021-12-20T16:42:43.698Z"
   },
   {
    "duration": 10,
    "start_time": "2021-12-20T16:42:43.717Z"
   },
   {
    "duration": 9,
    "start_time": "2021-12-20T16:42:43.729Z"
   },
   {
    "duration": 19,
    "start_time": "2021-12-20T16:42:43.739Z"
   },
   {
    "duration": 49,
    "start_time": "2021-12-20T16:42:43.761Z"
   },
   {
    "duration": 11,
    "start_time": "2021-12-20T16:42:43.812Z"
   },
   {
    "duration": 27,
    "start_time": "2021-12-20T16:42:43.824Z"
   },
   {
    "duration": 61,
    "start_time": "2021-12-20T16:42:43.853Z"
   },
   {
    "duration": 10,
    "start_time": "2021-12-20T16:42:43.915Z"
   },
   {
    "duration": 30,
    "start_time": "2021-12-20T16:42:43.927Z"
   },
   {
    "duration": 51,
    "start_time": "2021-12-20T16:42:43.958Z"
   },
   {
    "duration": 20,
    "start_time": "2021-12-20T16:42:44.010Z"
   },
   {
    "duration": 20,
    "start_time": "2021-12-20T16:42:44.032Z"
   },
   {
    "duration": 21,
    "start_time": "2021-12-20T16:42:44.054Z"
   },
   {
    "duration": 53,
    "start_time": "2021-12-20T16:42:44.077Z"
   },
   {
    "duration": 10,
    "start_time": "2021-12-20T16:42:44.132Z"
   },
   {
    "duration": 26,
    "start_time": "2021-12-20T16:42:44.143Z"
   },
   {
    "duration": 58,
    "start_time": "2021-12-20T16:42:44.172Z"
   },
   {
    "duration": 23,
    "start_time": "2021-12-20T16:42:44.232Z"
   },
   {
    "duration": 54,
    "start_time": "2021-12-20T16:42:44.258Z"
   },
   {
    "duration": 23,
    "start_time": "2021-12-20T16:42:44.315Z"
   },
   {
    "duration": 20,
    "start_time": "2021-12-20T16:42:44.340Z"
   },
   {
    "duration": 25,
    "start_time": "2021-12-20T16:42:44.362Z"
   },
   {
    "duration": 29,
    "start_time": "2021-12-20T16:42:44.389Z"
   },
   {
    "duration": 29,
    "start_time": "2021-12-20T16:42:44.420Z"
   },
   {
    "duration": 40,
    "start_time": "2021-12-20T16:42:44.451Z"
   },
   {
    "duration": 403,
    "start_time": "2021-12-20T16:42:44.492Z"
   },
   {
    "duration": 23,
    "start_time": "2021-12-20T16:43:55.859Z"
   },
   {
    "duration": 9,
    "start_time": "2021-12-20T16:48:51.099Z"
   },
   {
    "duration": 7,
    "start_time": "2021-12-20T16:50:29.979Z"
   },
   {
    "duration": 6,
    "start_time": "2021-12-20T16:50:42.919Z"
   },
   {
    "duration": 5,
    "start_time": "2021-12-20T16:54:07.567Z"
   },
   {
    "duration": 15,
    "start_time": "2021-12-20T17:03:27.919Z"
   },
   {
    "duration": 18,
    "start_time": "2021-12-20T17:06:18.586Z"
   },
   {
    "duration": 19,
    "start_time": "2021-12-20T17:41:53.811Z"
   },
   {
    "duration": 16,
    "start_time": "2021-12-20T17:50:41.747Z"
   },
   {
    "duration": 19,
    "start_time": "2021-12-20T17:58:25.198Z"
   },
   {
    "duration": 23,
    "start_time": "2021-12-20T18:04:36.639Z"
   },
   {
    "duration": 1143,
    "start_time": "2021-12-21T14:51:42.844Z"
   },
   {
    "duration": 438,
    "start_time": "2021-12-21T14:51:43.989Z"
   },
   {
    "duration": 26,
    "start_time": "2021-12-21T14:51:44.430Z"
   },
   {
    "duration": 17,
    "start_time": "2021-12-21T14:51:44.461Z"
   },
   {
    "duration": 13,
    "start_time": "2021-12-21T14:51:44.480Z"
   },
   {
    "duration": 12,
    "start_time": "2021-12-21T14:51:44.494Z"
   },
   {
    "duration": 21,
    "start_time": "2021-12-21T14:51:44.508Z"
   },
   {
    "duration": 11,
    "start_time": "2021-12-21T14:51:44.560Z"
   },
   {
    "duration": 15,
    "start_time": "2021-12-21T14:51:44.574Z"
   },
   {
    "duration": 29,
    "start_time": "2021-12-21T14:51:44.591Z"
   },
   {
    "duration": 66,
    "start_time": "2021-12-21T14:51:44.621Z"
   },
   {
    "duration": 14,
    "start_time": "2021-12-21T14:51:44.689Z"
   },
   {
    "duration": 31,
    "start_time": "2021-12-21T14:51:44.705Z"
   },
   {
    "duration": 48,
    "start_time": "2021-12-21T14:51:44.738Z"
   },
   {
    "duration": 24,
    "start_time": "2021-12-21T14:51:44.787Z"
   },
   {
    "duration": 23,
    "start_time": "2021-12-21T14:51:44.813Z"
   },
   {
    "duration": 20,
    "start_time": "2021-12-21T14:51:44.861Z"
   },
   {
    "duration": 36,
    "start_time": "2021-12-21T14:51:44.883Z"
   },
   {
    "duration": 11,
    "start_time": "2021-12-21T14:51:44.921Z"
   },
   {
    "duration": 48,
    "start_time": "2021-12-21T14:51:44.934Z"
   },
   {
    "duration": 41,
    "start_time": "2021-12-21T14:51:44.984Z"
   },
   {
    "duration": 42,
    "start_time": "2021-12-21T14:51:45.027Z"
   },
   {
    "duration": 35,
    "start_time": "2021-12-21T14:51:45.074Z"
   },
   {
    "duration": 22,
    "start_time": "2021-12-21T14:51:45.111Z"
   },
   {
    "duration": 46,
    "start_time": "2021-12-21T14:51:45.135Z"
   },
   {
    "duration": 14,
    "start_time": "2021-12-21T14:51:45.183Z"
   },
   {
    "duration": 62,
    "start_time": "2021-12-21T14:51:45.198Z"
   },
   {
    "duration": 14,
    "start_time": "2021-12-21T14:51:45.262Z"
   },
   {
    "duration": 21,
    "start_time": "2021-12-21T14:51:45.278Z"
   },
   {
    "duration": 24,
    "start_time": "2021-12-21T14:51:45.301Z"
   },
   {
    "duration": 42,
    "start_time": "2021-12-21T14:51:45.327Z"
   },
   {
    "duration": 6,
    "start_time": "2021-12-21T14:51:45.371Z"
   },
   {
    "duration": 27,
    "start_time": "2021-12-21T14:51:45.379Z"
   },
   {
    "duration": 23,
    "start_time": "2021-12-21T14:51:45.408Z"
   },
   {
    "duration": 54,
    "start_time": "2021-12-21T14:51:45.433Z"
   },
   {
    "duration": 33,
    "start_time": "2021-12-21T14:51:45.489Z"
   },
   {
    "duration": 326,
    "start_time": "2021-12-21T14:58:05.676Z"
   },
   {
    "duration": 212,
    "start_time": "2021-12-21T14:58:17.289Z"
   },
   {
    "duration": 6,
    "start_time": "2021-12-21T14:59:39.360Z"
   },
   {
    "duration": 292,
    "start_time": "2021-12-21T15:00:03.152Z"
   },
   {
    "duration": 8,
    "start_time": "2021-12-21T15:00:10.380Z"
   },
   {
    "duration": 12,
    "start_time": "2021-12-21T15:00:27.348Z"
   },
   {
    "duration": 13,
    "start_time": "2021-12-21T15:02:07.488Z"
   },
   {
    "duration": 16,
    "start_time": "2021-12-21T15:03:47.383Z"
   },
   {
    "duration": 229,
    "start_time": "2021-12-21T15:20:53.511Z"
   },
   {
    "duration": 278,
    "start_time": "2021-12-21T15:49:16.083Z"
   },
   {
    "duration": 23,
    "start_time": "2021-12-21T15:54:15.590Z"
   },
   {
    "duration": 39,
    "start_time": "2021-12-21T15:58:27.375Z"
   },
   {
    "duration": 15,
    "start_time": "2021-12-21T16:04:18.502Z"
   },
   {
    "duration": 7,
    "start_time": "2021-12-21T16:07:30.246Z"
   },
   {
    "duration": 27,
    "start_time": "2021-12-21T16:07:50.531Z"
   },
   {
    "duration": 250,
    "start_time": "2021-12-21T16:14:33.423Z"
   },
   {
    "duration": 208,
    "start_time": "2021-12-21T16:16:52.549Z"
   },
   {
    "duration": 218,
    "start_time": "2021-12-21T16:18:27.493Z"
   },
   {
    "duration": 57,
    "start_time": "2021-12-21T16:19:02.245Z"
   },
   {
    "duration": 61,
    "start_time": "2021-12-21T16:19:12.125Z"
   },
   {
    "duration": 50,
    "start_time": "2021-12-21T17:31:09.415Z"
   },
   {
    "duration": 947,
    "start_time": "2021-12-22T15:01:29.632Z"
   },
   {
    "duration": 446,
    "start_time": "2021-12-22T15:01:30.581Z"
   },
   {
    "duration": 18,
    "start_time": "2021-12-22T15:01:31.029Z"
   },
   {
    "duration": 13,
    "start_time": "2021-12-22T15:01:31.049Z"
   },
   {
    "duration": 30,
    "start_time": "2021-12-22T15:01:31.063Z"
   },
   {
    "duration": 15,
    "start_time": "2021-12-22T15:01:31.095Z"
   },
   {
    "duration": 26,
    "start_time": "2021-12-22T15:01:31.112Z"
   },
   {
    "duration": 21,
    "start_time": "2021-12-22T15:01:31.141Z"
   },
   {
    "duration": 44,
    "start_time": "2021-12-22T15:01:31.164Z"
   },
   {
    "duration": 47,
    "start_time": "2021-12-22T15:01:31.209Z"
   },
   {
    "duration": 35,
    "start_time": "2021-12-22T15:01:31.258Z"
   },
   {
    "duration": 11,
    "start_time": "2021-12-22T15:01:31.295Z"
   },
   {
    "duration": 35,
    "start_time": "2021-12-22T15:01:31.307Z"
   },
   {
    "duration": 46,
    "start_time": "2021-12-22T15:01:31.344Z"
   },
   {
    "duration": 21,
    "start_time": "2021-12-22T15:01:31.392Z"
   },
   {
    "duration": 23,
    "start_time": "2021-12-22T15:01:31.415Z"
   },
   {
    "duration": 24,
    "start_time": "2021-12-22T15:01:31.441Z"
   },
   {
    "duration": 38,
    "start_time": "2021-12-22T15:01:31.492Z"
   },
   {
    "duration": 10,
    "start_time": "2021-12-22T15:01:31.533Z"
   },
   {
    "duration": 54,
    "start_time": "2021-12-22T15:01:31.545Z"
   },
   {
    "duration": 28,
    "start_time": "2021-12-22T15:01:31.601Z"
   },
   {
    "duration": 23,
    "start_time": "2021-12-22T15:01:31.631Z"
   },
   {
    "duration": 51,
    "start_time": "2021-12-22T15:01:31.658Z"
   },
   {
    "duration": 21,
    "start_time": "2021-12-22T15:01:31.711Z"
   },
   {
    "duration": 19,
    "start_time": "2021-12-22T15:01:31.733Z"
   },
   {
    "duration": 19,
    "start_time": "2021-12-22T15:01:31.754Z"
   },
   {
    "duration": 32,
    "start_time": "2021-12-22T15:01:31.775Z"
   },
   {
    "duration": 17,
    "start_time": "2021-12-22T15:01:31.808Z"
   },
   {
    "duration": 23,
    "start_time": "2021-12-22T15:01:31.827Z"
   },
   {
    "duration": 40,
    "start_time": "2021-12-22T15:01:31.852Z"
   },
   {
    "duration": 8,
    "start_time": "2021-12-22T15:01:31.894Z"
   },
   {
    "duration": 8,
    "start_time": "2021-12-22T15:01:31.904Z"
   },
   {
    "duration": 26,
    "start_time": "2021-12-22T15:01:31.913Z"
   },
   {
    "duration": 24,
    "start_time": "2021-12-22T15:01:31.940Z"
   },
   {
    "duration": 31,
    "start_time": "2021-12-22T15:01:31.966Z"
   },
   {
    "duration": 15,
    "start_time": "2021-12-22T15:01:31.998Z"
   },
   {
    "duration": 29,
    "start_time": "2021-12-22T15:01:32.014Z"
   },
   {
    "duration": 37,
    "start_time": "2021-12-22T15:01:32.045Z"
   },
   {
    "duration": 19,
    "start_time": "2021-12-22T15:01:32.084Z"
   },
   {
    "duration": 59,
    "start_time": "2021-12-22T15:01:32.104Z"
   },
   {
    "duration": 58,
    "start_time": "2021-12-22T15:01:32.165Z"
   },
   {
    "duration": 14,
    "start_time": "2021-12-22T15:09:13.183Z"
   },
   {
    "duration": 15,
    "start_time": "2021-12-22T15:28:32.707Z"
   },
   {
    "duration": 212,
    "start_time": "2021-12-22T15:36:43.943Z"
   },
   {
    "duration": 142,
    "start_time": "2021-12-22T15:37:41.804Z"
   },
   {
    "duration": 26,
    "start_time": "2021-12-22T15:39:05.836Z"
   },
   {
    "duration": 316,
    "start_time": "2021-12-22T15:59:33.296Z"
   },
   {
    "duration": 287,
    "start_time": "2021-12-22T16:16:58.947Z"
   },
   {
    "duration": 292,
    "start_time": "2021-12-22T16:17:37.010Z"
   },
   {
    "duration": 376,
    "start_time": "2021-12-22T16:18:29.942Z"
   },
   {
    "duration": 330,
    "start_time": "2021-12-22T16:18:45.295Z"
   },
   {
    "duration": 289,
    "start_time": "2021-12-22T16:19:03.791Z"
   },
   {
    "duration": 259,
    "start_time": "2021-12-22T16:28:08.510Z"
   },
   {
    "duration": 290,
    "start_time": "2021-12-22T16:29:41.349Z"
   },
   {
    "duration": 386,
    "start_time": "2021-12-22T16:35:03.894Z"
   },
   {
    "duration": 308,
    "start_time": "2021-12-22T16:36:40.926Z"
   },
   {
    "duration": 985,
    "start_time": "2021-12-22T17:00:33.487Z"
   },
   {
    "duration": 416,
    "start_time": "2021-12-22T17:00:34.474Z"
   },
   {
    "duration": 19,
    "start_time": "2021-12-22T17:00:34.892Z"
   },
   {
    "duration": 10,
    "start_time": "2021-12-22T17:00:34.912Z"
   },
   {
    "duration": 10,
    "start_time": "2021-12-22T17:00:34.924Z"
   },
   {
    "duration": 11,
    "start_time": "2021-12-22T17:00:34.935Z"
   },
   {
    "duration": 44,
    "start_time": "2021-12-22T17:00:34.947Z"
   },
   {
    "duration": 9,
    "start_time": "2021-12-22T17:00:34.994Z"
   },
   {
    "duration": 10,
    "start_time": "2021-12-22T17:00:35.005Z"
   },
   {
    "duration": 25,
    "start_time": "2021-12-22T17:00:35.017Z"
   },
   {
    "duration": 63,
    "start_time": "2021-12-22T17:00:35.043Z"
   },
   {
    "duration": 12,
    "start_time": "2021-12-22T17:00:35.108Z"
   },
   {
    "duration": 30,
    "start_time": "2021-12-22T17:00:35.122Z"
   },
   {
    "duration": 56,
    "start_time": "2021-12-22T17:00:35.154Z"
   },
   {
    "duration": 20,
    "start_time": "2021-12-22T17:00:35.212Z"
   },
   {
    "duration": 27,
    "start_time": "2021-12-22T17:00:35.233Z"
   },
   {
    "duration": 39,
    "start_time": "2021-12-22T17:00:35.262Z"
   },
   {
    "duration": 22,
    "start_time": "2021-12-22T17:00:35.303Z"
   },
   {
    "duration": 8,
    "start_time": "2021-12-22T17:00:35.326Z"
   },
   {
    "duration": 40,
    "start_time": "2021-12-22T17:00:35.336Z"
   },
   {
    "duration": 35,
    "start_time": "2021-12-22T17:00:35.378Z"
   },
   {
    "duration": 24,
    "start_time": "2021-12-22T17:00:35.415Z"
   },
   {
    "duration": 48,
    "start_time": "2021-12-22T17:00:35.443Z"
   },
   {
    "duration": 21,
    "start_time": "2021-12-22T17:00:35.494Z"
   },
   {
    "duration": 20,
    "start_time": "2021-12-22T17:00:35.517Z"
   },
   {
    "duration": 10,
    "start_time": "2021-12-22T17:00:35.539Z"
   },
   {
    "duration": 48,
    "start_time": "2021-12-22T17:00:35.551Z"
   },
   {
    "duration": 14,
    "start_time": "2021-12-22T17:00:35.601Z"
   },
   {
    "duration": 21,
    "start_time": "2021-12-22T17:00:35.617Z"
   },
   {
    "duration": 21,
    "start_time": "2021-12-22T17:00:35.640Z"
   },
   {
    "duration": 40,
    "start_time": "2021-12-22T17:00:35.662Z"
   },
   {
    "duration": 5,
    "start_time": "2021-12-22T17:00:35.704Z"
   },
   {
    "duration": 15,
    "start_time": "2021-12-22T17:00:35.710Z"
   },
   {
    "duration": 18,
    "start_time": "2021-12-22T17:00:35.726Z"
   },
   {
    "duration": 52,
    "start_time": "2021-12-22T17:00:35.745Z"
   },
   {
    "duration": 14,
    "start_time": "2021-12-22T17:00:35.799Z"
   },
   {
    "duration": 11,
    "start_time": "2021-12-22T17:00:35.814Z"
   },
   {
    "duration": 23,
    "start_time": "2021-12-22T17:00:35.827Z"
   },
   {
    "duration": 48,
    "start_time": "2021-12-22T17:00:35.851Z"
   },
   {
    "duration": 61,
    "start_time": "2021-12-22T17:00:35.900Z"
   },
   {
    "duration": 57,
    "start_time": "2021-12-22T17:00:35.962Z"
   },
   {
    "duration": 13,
    "start_time": "2021-12-22T17:00:36.021Z"
   },
   {
    "duration": 304,
    "start_time": "2021-12-22T17:00:36.035Z"
   },
   {
    "duration": 314,
    "start_time": "2021-12-22T17:00:36.342Z"
   },
   {
    "duration": 206,
    "start_time": "2021-12-22T17:00:36.658Z"
   },
   {
    "duration": 2,
    "start_time": "2021-12-22T17:00:36.866Z"
   },
   {
    "duration": 47,
    "start_time": "2021-12-22T17:00:36.870Z"
   },
   {
    "duration": 13,
    "start_time": "2021-12-22T17:03:48.019Z"
   },
   {
    "duration": 224,
    "start_time": "2021-12-22T17:05:28.443Z"
   },
   {
    "duration": 19,
    "start_time": "2021-12-22T17:05:46.347Z"
   },
   {
    "duration": 23,
    "start_time": "2021-12-22T17:08:48.783Z"
   },
   {
    "duration": 91,
    "start_time": "2021-12-22T17:14:23.899Z"
   },
   {
    "duration": 33,
    "start_time": "2021-12-22T17:16:20.131Z"
   },
   {
    "duration": 148,
    "start_time": "2021-12-22T17:18:29.407Z"
   },
   {
    "duration": 7,
    "start_time": "2021-12-22T17:20:15.335Z"
   },
   {
    "duration": 167,
    "start_time": "2021-12-23T14:20:56.327Z"
   },
   {
    "duration": 1068,
    "start_time": "2021-12-23T14:21:14.797Z"
   },
   {
    "duration": 394,
    "start_time": "2021-12-23T14:21:15.867Z"
   },
   {
    "duration": 18,
    "start_time": "2021-12-23T14:21:16.263Z"
   },
   {
    "duration": 11,
    "start_time": "2021-12-23T14:21:16.292Z"
   },
   {
    "duration": 10,
    "start_time": "2021-12-23T14:21:16.305Z"
   },
   {
    "duration": 8,
    "start_time": "2021-12-23T14:21:16.316Z"
   },
   {
    "duration": 17,
    "start_time": "2021-12-23T14:21:16.326Z"
   },
   {
    "duration": 11,
    "start_time": "2021-12-23T14:21:16.345Z"
   },
   {
    "duration": 12,
    "start_time": "2021-12-23T14:21:16.391Z"
   },
   {
    "duration": 25,
    "start_time": "2021-12-23T14:21:16.404Z"
   },
   {
    "duration": 34,
    "start_time": "2021-12-23T14:21:16.430Z"
   },
   {
    "duration": 35,
    "start_time": "2021-12-23T14:21:16.466Z"
   },
   {
    "duration": 31,
    "start_time": "2021-12-23T14:21:16.503Z"
   },
   {
    "duration": 28,
    "start_time": "2021-12-23T14:21:16.536Z"
   },
   {
    "duration": 46,
    "start_time": "2021-12-23T14:21:16.565Z"
   },
   {
    "duration": 21,
    "start_time": "2021-12-23T14:21:16.613Z"
   },
   {
    "duration": 20,
    "start_time": "2021-12-23T14:21:16.636Z"
   },
   {
    "duration": 48,
    "start_time": "2021-12-23T14:21:16.658Z"
   },
   {
    "duration": 8,
    "start_time": "2021-12-23T14:21:16.708Z"
   },
   {
    "duration": 23,
    "start_time": "2021-12-23T14:21:16.718Z"
   },
   {
    "duration": 54,
    "start_time": "2021-12-23T14:21:16.743Z"
   },
   {
    "duration": 22,
    "start_time": "2021-12-23T14:21:16.799Z"
   },
   {
    "duration": 30,
    "start_time": "2021-12-23T14:21:16.826Z"
   },
   {
    "duration": 50,
    "start_time": "2021-12-23T14:21:16.859Z"
   },
   {
    "duration": 20,
    "start_time": "2021-12-23T14:21:16.911Z"
   },
   {
    "duration": 9,
    "start_time": "2021-12-23T14:21:16.933Z"
   },
   {
    "duration": 15,
    "start_time": "2021-12-23T14:21:16.944Z"
   },
   {
    "duration": 43,
    "start_time": "2021-12-23T14:21:16.961Z"
   },
   {
    "duration": 19,
    "start_time": "2021-12-23T14:21:17.006Z"
   },
   {
    "duration": 21,
    "start_time": "2021-12-23T14:21:17.027Z"
   },
   {
    "duration": 8,
    "start_time": "2021-12-23T14:21:17.050Z"
   },
   {
    "duration": 6,
    "start_time": "2021-12-23T14:21:17.091Z"
   },
   {
    "duration": 16,
    "start_time": "2021-12-23T14:21:17.098Z"
   },
   {
    "duration": 17,
    "start_time": "2021-12-23T14:21:17.116Z"
   },
   {
    "duration": 20,
    "start_time": "2021-12-23T14:21:17.135Z"
   },
   {
    "duration": 47,
    "start_time": "2021-12-23T14:21:17.157Z"
   },
   {
    "duration": 12,
    "start_time": "2021-12-23T14:21:17.205Z"
   },
   {
    "duration": 24,
    "start_time": "2021-12-23T14:21:17.218Z"
   },
   {
    "duration": 18,
    "start_time": "2021-12-23T14:21:17.244Z"
   },
   {
    "duration": 54,
    "start_time": "2021-12-23T14:21:17.292Z"
   },
   {
    "duration": 69,
    "start_time": "2021-12-23T14:21:17.348Z"
   },
   {
    "duration": 13,
    "start_time": "2021-12-23T14:21:17.419Z"
   },
   {
    "duration": 312,
    "start_time": "2021-12-23T14:21:17.433Z"
   },
   {
    "duration": 313,
    "start_time": "2021-12-23T14:21:17.747Z"
   },
   {
    "duration": 17,
    "start_time": "2021-12-23T14:21:18.062Z"
   },
   {
    "duration": 19,
    "start_time": "2021-12-23T14:21:18.092Z"
   },
   {
    "duration": 6,
    "start_time": "2021-12-23T14:21:18.113Z"
   },
   {
    "duration": 3,
    "start_time": "2021-12-23T14:21:18.121Z"
   },
   {
    "duration": 27,
    "start_time": "2021-12-23T14:21:18.126Z"
   },
   {
    "duration": 15,
    "start_time": "2021-12-23T14:54:41.024Z"
   },
   {
    "duration": 308,
    "start_time": "2021-12-23T15:23:59.502Z"
   },
   {
    "duration": 337,
    "start_time": "2021-12-23T15:27:19.018Z"
   },
   {
    "duration": 334,
    "start_time": "2021-12-23T15:27:34.083Z"
   },
   {
    "duration": 796,
    "start_time": "2021-12-23T15:28:57.371Z"
   },
   {
    "duration": 626,
    "start_time": "2021-12-23T15:29:33.959Z"
   },
   {
    "duration": 446,
    "start_time": "2021-12-23T15:30:44.755Z"
   },
   {
    "duration": 370,
    "start_time": "2021-12-23T15:31:17.066Z"
   },
   {
    "duration": 391,
    "start_time": "2021-12-23T15:31:57.502Z"
   },
   {
    "duration": 286,
    "start_time": "2021-12-23T15:47:45.452Z"
   },
   {
    "duration": 290,
    "start_time": "2021-12-23T15:51:13.216Z"
   },
   {
    "duration": 368,
    "start_time": "2021-12-23T15:54:12.936Z"
   },
   {
    "duration": 317,
    "start_time": "2021-12-23T16:14:07.821Z"
   },
   {
    "duration": 15,
    "start_time": "2021-12-23T16:16:33.849Z"
   },
   {
    "duration": 17,
    "start_time": "2021-12-23T16:29:37.121Z"
   },
   {
    "duration": 154,
    "start_time": "2021-12-23T16:35:02.281Z"
   },
   {
    "duration": 147,
    "start_time": "2021-12-23T16:37:19.492Z"
   },
   {
    "duration": 192,
    "start_time": "2021-12-23T16:47:42.432Z"
   },
   {
    "duration": 158,
    "start_time": "2021-12-23T16:48:16.412Z"
   },
   {
    "duration": 21,
    "start_time": "2021-12-23T16:50:02.255Z"
   },
   {
    "duration": 17,
    "start_time": "2021-12-23T16:51:16.235Z"
   },
   {
    "duration": 140,
    "start_time": "2021-12-23T16:52:42.619Z"
   },
   {
    "duration": 18,
    "start_time": "2021-12-23T16:58:42.642Z"
   },
   {
    "duration": 19,
    "start_time": "2021-12-23T17:00:40.802Z"
   },
   {
    "duration": 170,
    "start_time": "2021-12-23T17:03:39.006Z"
   },
   {
    "duration": 104,
    "start_time": "2021-12-23T17:04:09.319Z"
   },
   {
    "duration": 48,
    "start_time": "2021-12-23T17:04:20.148Z"
   },
   {
    "duration": 44,
    "start_time": "2021-12-23T17:11:00.975Z"
   },
   {
    "duration": 339,
    "start_time": "2021-12-23T17:11:30.843Z"
   },
   {
    "duration": 15,
    "start_time": "2021-12-23T17:11:59.455Z"
   },
   {
    "duration": 20,
    "start_time": "2021-12-23T17:12:13.771Z"
   },
   {
    "duration": 45,
    "start_time": "2021-12-23T17:12:48.395Z"
   },
   {
    "duration": 245,
    "start_time": "2021-12-23T17:12:56.911Z"
   },
   {
    "duration": 144,
    "start_time": "2021-12-23T17:13:39.211Z"
   },
   {
    "duration": 16,
    "start_time": "2021-12-23T17:14:40.626Z"
   },
   {
    "duration": 22,
    "start_time": "2021-12-23T17:14:55.359Z"
   },
   {
    "duration": 23,
    "start_time": "2021-12-23T17:16:49.534Z"
   },
   {
    "duration": 347,
    "start_time": "2021-12-23T17:33:53.016Z"
   },
   {
    "duration": 314,
    "start_time": "2021-12-23T17:34:11.193Z"
   },
   {
    "duration": 351,
    "start_time": "2021-12-23T17:35:23.473Z"
   },
   {
    "duration": 328,
    "start_time": "2021-12-23T17:51:42.832Z"
   },
   {
    "duration": 334,
    "start_time": "2021-12-23T18:05:44.829Z"
   },
   {
    "duration": 1332,
    "start_time": "2021-12-24T14:09:23.341Z"
   },
   {
    "duration": 527,
    "start_time": "2021-12-24T14:09:24.676Z"
   },
   {
    "duration": 32,
    "start_time": "2021-12-24T14:09:25.206Z"
   },
   {
    "duration": 16,
    "start_time": "2021-12-24T14:09:25.241Z"
   },
   {
    "duration": 16,
    "start_time": "2021-12-24T14:09:25.259Z"
   },
   {
    "duration": 47,
    "start_time": "2021-12-24T14:09:25.277Z"
   },
   {
    "duration": 29,
    "start_time": "2021-12-24T14:09:25.327Z"
   },
   {
    "duration": 14,
    "start_time": "2021-12-24T14:09:25.360Z"
   },
   {
    "duration": 47,
    "start_time": "2021-12-24T14:09:25.377Z"
   },
   {
    "duration": 34,
    "start_time": "2021-12-24T14:09:25.427Z"
   },
   {
    "duration": 67,
    "start_time": "2021-12-24T14:09:25.463Z"
   },
   {
    "duration": 15,
    "start_time": "2021-12-24T14:09:25.533Z"
   },
   {
    "duration": 39,
    "start_time": "2021-12-24T14:09:25.550Z"
   },
   {
    "duration": 67,
    "start_time": "2021-12-24T14:09:25.591Z"
   },
   {
    "duration": 27,
    "start_time": "2021-12-24T14:09:25.660Z"
   },
   {
    "duration": 53,
    "start_time": "2021-12-24T14:09:25.689Z"
   },
   {
    "duration": 29,
    "start_time": "2021-12-24T14:09:25.745Z"
   },
   {
    "duration": 58,
    "start_time": "2021-12-24T14:09:25.776Z"
   },
   {
    "duration": 12,
    "start_time": "2021-12-24T14:09:25.836Z"
   },
   {
    "duration": 34,
    "start_time": "2021-12-24T14:09:25.851Z"
   },
   {
    "duration": 60,
    "start_time": "2021-12-24T14:09:25.888Z"
   },
   {
    "duration": 32,
    "start_time": "2021-12-24T14:09:25.951Z"
   },
   {
    "duration": 68,
    "start_time": "2021-12-24T14:09:25.988Z"
   },
   {
    "duration": 31,
    "start_time": "2021-12-24T14:09:26.059Z"
   },
   {
    "duration": 44,
    "start_time": "2021-12-24T14:09:26.092Z"
   },
   {
    "duration": 12,
    "start_time": "2021-12-24T14:09:26.138Z"
   },
   {
    "duration": 33,
    "start_time": "2021-12-24T14:09:26.152Z"
   },
   {
    "duration": 39,
    "start_time": "2021-12-24T14:09:26.188Z"
   },
   {
    "duration": 32,
    "start_time": "2021-12-24T14:09:26.229Z"
   },
   {
    "duration": 35,
    "start_time": "2021-12-24T14:09:26.263Z"
   },
   {
    "duration": 15,
    "start_time": "2021-12-24T14:09:26.324Z"
   },
   {
    "duration": 12,
    "start_time": "2021-12-24T14:09:26.342Z"
   },
   {
    "duration": 24,
    "start_time": "2021-12-24T14:09:26.356Z"
   },
   {
    "duration": 57,
    "start_time": "2021-12-24T14:09:26.383Z"
   },
   {
    "duration": 31,
    "start_time": "2021-12-24T14:09:26.443Z"
   },
   {
    "duration": 56,
    "start_time": "2021-12-24T14:09:26.477Z"
   },
   {
    "duration": 16,
    "start_time": "2021-12-24T14:09:26.536Z"
   },
   {
    "duration": 37,
    "start_time": "2021-12-24T14:09:26.554Z"
   },
   {
    "duration": 27,
    "start_time": "2021-12-24T14:09:26.623Z"
   },
   {
    "duration": 95,
    "start_time": "2021-12-24T14:09:26.652Z"
   },
   {
    "duration": 90,
    "start_time": "2021-12-24T14:09:26.750Z"
   },
   {
    "duration": 19,
    "start_time": "2021-12-24T14:09:26.843Z"
   },
   {
    "duration": 486,
    "start_time": "2021-12-24T14:09:26.864Z"
   },
   {
    "duration": 475,
    "start_time": "2021-12-24T14:09:27.352Z"
   },
   {
    "duration": 21,
    "start_time": "2021-12-24T14:09:27.829Z"
   },
   {
    "duration": 548,
    "start_time": "2021-12-24T14:09:27.852Z"
   },
   {
    "duration": 505,
    "start_time": "2021-12-24T14:09:28.403Z"
   },
   {
    "duration": 41,
    "start_time": "2021-12-24T14:09:28.911Z"
   },
   {
    "duration": 512,
    "start_time": "2021-12-24T14:09:28.955Z"
   },
   {
    "duration": 463,
    "start_time": "2021-12-24T14:09:29.469Z"
   },
   {
    "duration": 27,
    "start_time": "2021-12-24T14:09:29.935Z"
   },
   {
    "duration": 30,
    "start_time": "2021-12-24T14:09:29.964Z"
   },
   {
    "duration": 11,
    "start_time": "2021-12-24T14:09:30.024Z"
   },
   {
    "duration": 18,
    "start_time": "2021-12-24T14:09:30.038Z"
   },
   {
    "duration": 75,
    "start_time": "2021-12-24T14:09:30.059Z"
   },
   {
    "duration": 1437,
    "start_time": "2021-12-24T14:10:27.591Z"
   },
   {
    "duration": 36,
    "start_time": "2021-12-24T14:11:19.554Z"
   },
   {
    "duration": 33,
    "start_time": "2021-12-24T14:18:18.743Z"
   },
   {
    "duration": 35,
    "start_time": "2021-12-24T14:25:57.802Z"
   },
   {
    "duration": 37,
    "start_time": "2021-12-24T14:32:49.682Z"
   },
   {
    "duration": 37,
    "start_time": "2021-12-24T14:44:43.721Z"
   },
   {
    "duration": 735,
    "start_time": "2021-12-24T16:00:33.422Z"
   },
   {
    "duration": 11,
    "start_time": "2021-12-24T16:00:46.814Z"
   },
   {
    "duration": 10,
    "start_time": "2021-12-24T16:01:09.182Z"
   },
   {
    "duration": 7,
    "start_time": "2021-12-24T16:24:37.268Z"
   },
   {
    "duration": 8,
    "start_time": "2021-12-24T16:26:52.961Z"
   },
   {
    "duration": 10,
    "start_time": "2021-12-24T16:30:07.505Z"
   },
   {
    "duration": 382,
    "start_time": "2021-12-24T16:36:49.493Z"
   },
   {
    "duration": 9,
    "start_time": "2021-12-24T16:37:10.809Z"
   },
   {
    "duration": 13,
    "start_time": "2021-12-24T16:37:25.545Z"
   },
   {
    "duration": 15,
    "start_time": "2021-12-24T16:38:04.637Z"
   },
   {
    "duration": 322,
    "start_time": "2021-12-24T16:39:50.337Z"
   },
   {
    "duration": 349,
    "start_time": "2021-12-24T16:40:06.298Z"
   },
   {
    "duration": 17,
    "start_time": "2021-12-24T16:40:19.505Z"
   },
   {
    "duration": 32,
    "start_time": "2021-12-24T16:47:22.408Z"
   },
   {
    "duration": 32,
    "start_time": "2021-12-24T16:47:40.685Z"
   },
   {
    "duration": 360,
    "start_time": "2021-12-24T17:01:54.568Z"
   },
   {
    "duration": 29,
    "start_time": "2021-12-24T17:04:31.116Z"
   },
   {
    "duration": 305,
    "start_time": "2021-12-24T17:13:06.110Z"
   },
   {
    "duration": 27,
    "start_time": "2021-12-24T17:13:47.202Z"
   },
   {
    "duration": 34,
    "start_time": "2021-12-24T17:14:00.010Z"
   },
   {
    "duration": 33,
    "start_time": "2021-12-24T17:22:26.918Z"
   },
   {
    "duration": 37,
    "start_time": "2021-12-24T17:27:22.233Z"
   },
   {
    "duration": 1035,
    "start_time": "2021-12-25T13:05:29.481Z"
   },
   {
    "duration": 401,
    "start_time": "2021-12-25T13:05:30.517Z"
   },
   {
    "duration": 16,
    "start_time": "2021-12-25T13:05:30.920Z"
   },
   {
    "duration": 12,
    "start_time": "2021-12-25T13:05:30.938Z"
   },
   {
    "duration": 14,
    "start_time": "2021-12-25T13:05:30.953Z"
   },
   {
    "duration": 12,
    "start_time": "2021-12-25T13:05:30.969Z"
   },
   {
    "duration": 12,
    "start_time": "2021-12-25T13:05:30.982Z"
   },
   {
    "duration": 19,
    "start_time": "2021-12-25T13:05:30.996Z"
   },
   {
    "duration": 24,
    "start_time": "2021-12-25T13:05:31.017Z"
   },
   {
    "duration": 15,
    "start_time": "2021-12-25T13:05:31.043Z"
   },
   {
    "duration": 38,
    "start_time": "2021-12-25T13:05:31.060Z"
   },
   {
    "duration": 41,
    "start_time": "2021-12-25T13:05:31.100Z"
   },
   {
    "duration": 13,
    "start_time": "2021-12-25T13:05:31.143Z"
   },
   {
    "duration": 41,
    "start_time": "2021-12-25T13:05:31.158Z"
   },
   {
    "duration": 26,
    "start_time": "2021-12-25T13:05:31.201Z"
   },
   {
    "duration": 31,
    "start_time": "2021-12-25T13:05:31.229Z"
   },
   {
    "duration": 18,
    "start_time": "2021-12-25T13:05:31.262Z"
   },
   {
    "duration": 18,
    "start_time": "2021-12-25T13:05:31.282Z"
   },
   {
    "duration": 46,
    "start_time": "2021-12-25T13:05:31.302Z"
   },
   {
    "duration": 9,
    "start_time": "2021-12-25T13:05:31.350Z"
   },
   {
    "duration": 28,
    "start_time": "2021-12-25T13:05:31.360Z"
   },
   {
    "duration": 32,
    "start_time": "2021-12-25T13:05:31.389Z"
   },
   {
    "duration": 34,
    "start_time": "2021-12-25T13:05:31.425Z"
   },
   {
    "duration": 30,
    "start_time": "2021-12-25T13:05:31.461Z"
   },
   {
    "duration": 21,
    "start_time": "2021-12-25T13:05:31.492Z"
   },
   {
    "duration": 40,
    "start_time": "2021-12-25T13:05:31.515Z"
   },
   {
    "duration": 8,
    "start_time": "2021-12-25T13:05:31.557Z"
   },
   {
    "duration": 20,
    "start_time": "2021-12-25T13:05:31.567Z"
   },
   {
    "duration": 11,
    "start_time": "2021-12-25T13:05:31.589Z"
   },
   {
    "duration": 41,
    "start_time": "2021-12-25T13:05:31.602Z"
   },
   {
    "duration": 27,
    "start_time": "2021-12-25T13:05:31.645Z"
   },
   {
    "duration": 8,
    "start_time": "2021-12-25T13:05:31.674Z"
   },
   {
    "duration": 13,
    "start_time": "2021-12-25T13:05:31.684Z"
   },
   {
    "duration": 31,
    "start_time": "2021-12-25T13:05:31.698Z"
   },
   {
    "duration": 36,
    "start_time": "2021-12-25T13:05:31.730Z"
   },
   {
    "duration": 22,
    "start_time": "2021-12-25T13:05:31.767Z"
   },
   {
    "duration": 13,
    "start_time": "2021-12-25T13:05:31.791Z"
   },
   {
    "duration": 17,
    "start_time": "2021-12-25T13:05:31.806Z"
   },
   {
    "duration": 40,
    "start_time": "2021-12-25T13:05:31.824Z"
   },
   {
    "duration": 16,
    "start_time": "2021-12-25T13:05:31.866Z"
   },
   {
    "duration": 66,
    "start_time": "2021-12-25T13:05:31.884Z"
   },
   {
    "duration": 50,
    "start_time": "2021-12-25T13:05:31.952Z"
   },
   {
    "duration": 22,
    "start_time": "2021-12-25T13:05:32.003Z"
   },
   {
    "duration": 299,
    "start_time": "2021-12-25T13:05:32.042Z"
   },
   {
    "duration": 302,
    "start_time": "2021-12-25T13:05:32.343Z"
   },
   {
    "duration": 25,
    "start_time": "2021-12-25T13:05:32.647Z"
   },
   {
    "duration": 305,
    "start_time": "2021-12-25T13:05:32.674Z"
   },
   {
    "duration": 313,
    "start_time": "2021-12-25T13:05:32.980Z"
   },
   {
    "duration": 25,
    "start_time": "2021-12-25T13:05:33.294Z"
   },
   {
    "duration": 308,
    "start_time": "2021-12-25T13:05:33.320Z"
   },
   {
    "duration": 269,
    "start_time": "2021-12-25T13:05:33.629Z"
   },
   {
    "duration": 21,
    "start_time": "2021-12-25T13:05:33.899Z"
   },
   {
    "duration": 20,
    "start_time": "2021-12-25T13:05:33.921Z"
   },
   {
    "duration": 20,
    "start_time": "2021-12-25T13:05:33.942Z"
   },
   {
    "duration": 6,
    "start_time": "2021-12-25T13:05:33.963Z"
   },
   {
    "duration": 3,
    "start_time": "2021-12-25T13:50:37.664Z"
   },
   {
    "duration": 5,
    "start_time": "2021-12-25T13:50:47.362Z"
   },
   {
    "duration": 270,
    "start_time": "2021-12-25T13:54:33.240Z"
   },
   {
    "duration": 203,
    "start_time": "2021-12-25T13:54:56.179Z"
   },
   {
    "duration": 324,
    "start_time": "2021-12-25T13:56:29.935Z"
   },
   {
    "duration": 7,
    "start_time": "2021-12-25T14:06:18.930Z"
   },
   {
    "duration": 11,
    "start_time": "2021-12-25T14:06:35.131Z"
   },
   {
    "duration": 15,
    "start_time": "2021-12-25T14:08:34.107Z"
   },
   {
    "duration": 19,
    "start_time": "2021-12-25T14:16:02.186Z"
   },
   {
    "duration": 16,
    "start_time": "2021-12-25T14:17:14.578Z"
   },
   {
    "duration": 19,
    "start_time": "2021-12-25T14:17:25.438Z"
   },
   {
    "duration": 22,
    "start_time": "2021-12-25T14:20:15.014Z"
   },
   {
    "duration": 27,
    "start_time": "2021-12-25T14:32:29.534Z"
   },
   {
    "duration": 216,
    "start_time": "2021-12-25T15:32:05.142Z"
   },
   {
    "duration": 11,
    "start_time": "2021-12-25T15:32:27.597Z"
   },
   {
    "duration": 2765,
    "start_time": "2021-12-25T15:35:22.409Z"
   },
   {
    "duration": 2508,
    "start_time": "2021-12-25T15:35:41.365Z"
   },
   {
    "duration": 2830,
    "start_time": "2021-12-25T15:36:35.841Z"
   },
   {
    "duration": 273,
    "start_time": "2021-12-25T15:38:13.711Z"
   },
   {
    "duration": 2571,
    "start_time": "2021-12-25T15:45:56.869Z"
   },
   {
    "duration": 5622,
    "start_time": "2021-12-25T15:47:11.293Z"
   },
   {
    "duration": 8,
    "start_time": "2021-12-25T15:51:51.634Z"
   },
   {
    "duration": 9,
    "start_time": "2021-12-25T15:53:02.826Z"
   },
   {
    "duration": 10,
    "start_time": "2021-12-25T15:54:15.235Z"
   },
   {
    "duration": 5000,
    "start_time": "2021-12-25T15:59:23.285Z"
   },
   {
    "duration": 5076,
    "start_time": "2021-12-25T15:59:48.925Z"
   },
   {
    "duration": 64,
    "start_time": "2021-12-25T16:02:49.817Z"
   },
   {
    "duration": 221,
    "start_time": "2021-12-25T16:03:06.277Z"
   },
   {
    "duration": 5416,
    "start_time": "2021-12-25T16:03:29.953Z"
   },
   {
    "duration": 8,
    "start_time": "2021-12-25T16:04:36.909Z"
   },
   {
    "duration": 1640,
    "start_time": "2021-12-25T16:05:48.761Z"
   },
   {
    "duration": 11,
    "start_time": "2021-12-25T16:06:57.185Z"
   },
   {
    "duration": 11,
    "start_time": "2021-12-25T16:31:33.760Z"
   },
   {
    "duration": 70,
    "start_time": "2021-12-25T16:32:11.316Z"
   },
   {
    "duration": 103,
    "start_time": "2021-12-25T16:33:24.644Z"
   },
   {
    "duration": 11,
    "start_time": "2021-12-25T16:33:45.040Z"
   },
   {
    "duration": 11,
    "start_time": "2021-12-25T16:40:06.672Z"
   },
   {
    "duration": 205,
    "start_time": "2021-12-25T16:59:31.060Z"
   },
   {
    "duration": 209,
    "start_time": "2021-12-25T17:00:09.773Z"
   },
   {
    "duration": 11,
    "start_time": "2021-12-25T17:00:40.493Z"
   },
   {
    "duration": 205,
    "start_time": "2021-12-25T17:03:06.500Z"
   },
   {
    "duration": 9,
    "start_time": "2021-12-25T17:03:12.852Z"
   },
   {
    "duration": 11,
    "start_time": "2021-12-25T17:05:12.132Z"
   },
   {
    "duration": 11,
    "start_time": "2021-12-25T17:06:11.585Z"
   },
   {
    "duration": 9,
    "start_time": "2021-12-25T17:08:45.421Z"
   },
   {
    "duration": 14,
    "start_time": "2021-12-25T17:08:59.577Z"
   },
   {
    "duration": 16,
    "start_time": "2021-12-25T17:12:21.652Z"
   },
   {
    "duration": 1009,
    "start_time": "2021-12-25T18:10:53.325Z"
   },
   {
    "duration": 391,
    "start_time": "2021-12-25T18:10:54.336Z"
   },
   {
    "duration": 17,
    "start_time": "2021-12-25T18:10:54.730Z"
   },
   {
    "duration": 11,
    "start_time": "2021-12-25T18:10:54.749Z"
   },
   {
    "duration": 15,
    "start_time": "2021-12-25T18:10:54.761Z"
   },
   {
    "duration": 8,
    "start_time": "2021-12-25T18:10:54.778Z"
   },
   {
    "duration": 7,
    "start_time": "2021-12-25T18:10:54.788Z"
   },
   {
    "duration": 16,
    "start_time": "2021-12-25T18:10:54.797Z"
   },
   {
    "duration": 30,
    "start_time": "2021-12-25T18:10:54.815Z"
   },
   {
    "duration": 13,
    "start_time": "2021-12-25T18:10:54.846Z"
   },
   {
    "duration": 24,
    "start_time": "2021-12-25T18:10:54.860Z"
   },
   {
    "duration": 33,
    "start_time": "2021-12-25T18:10:54.885Z"
   },
   {
    "duration": 30,
    "start_time": "2021-12-25T18:10:54.919Z"
   },
   {
    "duration": 27,
    "start_time": "2021-12-25T18:10:54.951Z"
   },
   {
    "duration": 31,
    "start_time": "2021-12-25T18:10:54.979Z"
   },
   {
    "duration": 41,
    "start_time": "2021-12-25T18:10:55.011Z"
   },
   {
    "duration": 20,
    "start_time": "2021-12-25T18:10:55.054Z"
   },
   {
    "duration": 19,
    "start_time": "2021-12-25T18:10:55.075Z"
   },
   {
    "duration": 45,
    "start_time": "2021-12-25T18:10:55.096Z"
   },
   {
    "duration": 8,
    "start_time": "2021-12-25T18:10:55.142Z"
   },
   {
    "duration": 25,
    "start_time": "2021-12-25T18:10:55.151Z"
   },
   {
    "duration": 25,
    "start_time": "2021-12-25T18:10:55.177Z"
   },
   {
    "duration": 47,
    "start_time": "2021-12-25T18:10:55.205Z"
   },
   {
    "duration": 30,
    "start_time": "2021-12-25T18:10:55.254Z"
   },
   {
    "duration": 19,
    "start_time": "2021-12-25T18:10:55.286Z"
   },
   {
    "duration": 37,
    "start_time": "2021-12-25T18:10:55.307Z"
   },
   {
    "duration": 8,
    "start_time": "2021-12-25T18:10:55.346Z"
   },
   {
    "duration": 18,
    "start_time": "2021-12-25T18:10:55.355Z"
   },
   {
    "duration": 14,
    "start_time": "2021-12-25T18:10:55.375Z"
   },
   {
    "duration": 18,
    "start_time": "2021-12-25T18:10:55.390Z"
   },
   {
    "duration": 44,
    "start_time": "2021-12-25T18:10:55.409Z"
   },
   {
    "duration": 8,
    "start_time": "2021-12-25T18:10:55.455Z"
   },
   {
    "duration": 4,
    "start_time": "2021-12-25T18:10:55.465Z"
   },
   {
    "duration": 14,
    "start_time": "2021-12-25T18:10:55.470Z"
   },
   {
    "duration": 18,
    "start_time": "2021-12-25T18:10:55.486Z"
   },
   {
    "duration": 45,
    "start_time": "2021-12-25T18:10:55.505Z"
   },
   {
    "duration": 15,
    "start_time": "2021-12-25T18:10:55.551Z"
   },
   {
    "duration": 11,
    "start_time": "2021-12-25T18:10:55.568Z"
   },
   {
    "duration": 22,
    "start_time": "2021-12-25T18:10:55.580Z"
   },
   {
    "duration": 40,
    "start_time": "2021-12-25T18:10:55.603Z"
   },
   {
    "duration": 47,
    "start_time": "2021-12-25T18:10:55.645Z"
   },
   {
    "duration": 63,
    "start_time": "2021-12-25T18:10:55.694Z"
   },
   {
    "duration": 21,
    "start_time": "2021-12-25T18:10:55.758Z"
   },
   {
    "duration": 275,
    "start_time": "2021-12-25T18:10:55.781Z"
   },
   {
    "duration": 281,
    "start_time": "2021-12-25T18:10:56.057Z"
   },
   {
    "duration": 22,
    "start_time": "2021-12-25T18:10:56.339Z"
   },
   {
    "duration": 285,
    "start_time": "2021-12-25T18:10:56.363Z"
   },
   {
    "duration": 275,
    "start_time": "2021-12-25T18:10:56.650Z"
   },
   {
    "duration": 25,
    "start_time": "2021-12-25T18:10:56.926Z"
   },
   {
    "duration": 299,
    "start_time": "2021-12-25T18:10:56.953Z"
   },
   {
    "duration": 270,
    "start_time": "2021-12-25T18:10:57.253Z"
   },
   {
    "duration": 32,
    "start_time": "2021-12-25T18:10:57.524Z"
   },
   {
    "duration": 6,
    "start_time": "2021-12-25T18:10:57.558Z"
   },
   {
    "duration": 25,
    "start_time": "2021-12-25T18:10:57.568Z"
   },
   {
    "duration": 10,
    "start_time": "2021-12-25T18:10:57.595Z"
   },
   {
    "duration": 45,
    "start_time": "2021-12-25T18:10:57.606Z"
   },
   {
    "duration": 26,
    "start_time": "2021-12-25T18:10:57.653Z"
   },
   {
    "duration": 1773,
    "start_time": "2021-12-26T16:31:03.652Z"
   },
   {
    "duration": 782,
    "start_time": "2021-12-26T16:31:05.429Z"
   },
   {
    "duration": 52,
    "start_time": "2021-12-26T16:31:06.215Z"
   },
   {
    "duration": 21,
    "start_time": "2021-12-26T16:31:06.270Z"
   },
   {
    "duration": 22,
    "start_time": "2021-12-26T16:31:06.295Z"
   },
   {
    "duration": 42,
    "start_time": "2021-12-26T16:31:06.320Z"
   },
   {
    "duration": 14,
    "start_time": "2021-12-26T16:31:06.366Z"
   },
   {
    "duration": 38,
    "start_time": "2021-12-26T16:31:06.385Z"
   },
   {
    "duration": 49,
    "start_time": "2021-12-26T16:31:06.427Z"
   },
   {
    "duration": 23,
    "start_time": "2021-12-26T16:31:06.479Z"
   },
   {
    "duration": 87,
    "start_time": "2021-12-26T16:31:06.505Z"
   },
   {
    "duration": 87,
    "start_time": "2021-12-26T16:31:06.595Z"
   },
   {
    "duration": 21,
    "start_time": "2021-12-26T16:31:06.685Z"
   },
   {
    "duration": 86,
    "start_time": "2021-12-26T16:31:06.710Z"
   },
   {
    "duration": 38,
    "start_time": "2021-12-26T16:31:06.799Z"
   },
   {
    "duration": 28,
    "start_time": "2021-12-26T16:31:06.860Z"
   },
   {
    "duration": 35,
    "start_time": "2021-12-26T16:31:06.891Z"
   },
   {
    "duration": 64,
    "start_time": "2021-12-26T16:31:06.929Z"
   },
   {
    "duration": 65,
    "start_time": "2021-12-26T16:31:06.996Z"
   },
   {
    "duration": 17,
    "start_time": "2021-12-26T16:31:07.065Z"
   },
   {
    "duration": 35,
    "start_time": "2021-12-26T16:31:07.086Z"
   },
   {
    "duration": 70,
    "start_time": "2021-12-26T16:31:07.125Z"
   },
   {
    "duration": 59,
    "start_time": "2021-12-26T16:31:07.201Z"
   },
   {
    "duration": 60,
    "start_time": "2021-12-26T16:31:07.264Z"
   },
   {
    "duration": 68,
    "start_time": "2021-12-26T16:31:07.327Z"
   },
   {
    "duration": 36,
    "start_time": "2021-12-26T16:31:07.398Z"
   },
   {
    "duration": 29,
    "start_time": "2021-12-26T16:31:07.437Z"
   },
   {
    "duration": 24,
    "start_time": "2021-12-26T16:31:07.469Z"
   },
   {
    "duration": 63,
    "start_time": "2021-12-26T16:31:07.496Z"
   },
   {
    "duration": 35,
    "start_time": "2021-12-26T16:31:07.562Z"
   },
   {
    "duration": 79,
    "start_time": "2021-12-26T16:31:07.603Z"
   },
   {
    "duration": 19,
    "start_time": "2021-12-26T16:31:07.685Z"
   },
   {
    "duration": 10,
    "start_time": "2021-12-26T16:31:07.706Z"
   },
   {
    "duration": 68,
    "start_time": "2021-12-26T16:31:07.718Z"
   },
   {
    "duration": 40,
    "start_time": "2021-12-26T16:31:07.789Z"
   },
   {
    "duration": 70,
    "start_time": "2021-12-26T16:31:07.833Z"
   },
   {
    "duration": 25,
    "start_time": "2021-12-26T16:31:07.906Z"
   },
   {
    "duration": 20,
    "start_time": "2021-12-26T16:31:07.961Z"
   },
   {
    "duration": 77,
    "start_time": "2021-12-26T16:31:07.984Z"
   },
   {
    "duration": 33,
    "start_time": "2021-12-26T16:31:08.064Z"
   },
   {
    "duration": 120,
    "start_time": "2021-12-26T16:31:08.100Z"
   },
   {
    "duration": 144,
    "start_time": "2021-12-26T16:31:08.224Z"
   },
   {
    "duration": 43,
    "start_time": "2021-12-26T16:31:08.371Z"
   },
   {
    "duration": 806,
    "start_time": "2021-12-26T16:31:08.417Z"
   },
   {
    "duration": 927,
    "start_time": "2021-12-26T16:31:09.226Z"
   },
   {
    "duration": 86,
    "start_time": "2021-12-26T16:31:10.164Z"
   },
   {
    "duration": 911,
    "start_time": "2021-12-26T16:31:10.253Z"
   },
   {
    "duration": 593,
    "start_time": "2021-12-26T16:31:11.167Z"
   },
   {
    "duration": 52,
    "start_time": "2021-12-26T16:31:11.763Z"
   },
   {
    "duration": 819,
    "start_time": "2021-12-26T16:31:11.818Z"
   },
   {
    "duration": 491,
    "start_time": "2021-12-26T16:31:12.640Z"
   },
   {
    "duration": 51,
    "start_time": "2021-12-26T16:31:13.135Z"
   },
   {
    "duration": 10,
    "start_time": "2021-12-26T16:31:13.189Z"
   },
   {
    "duration": 64,
    "start_time": "2021-12-26T16:31:13.202Z"
   },
   {
    "duration": 10,
    "start_time": "2021-12-26T16:31:13.268Z"
   },
   {
    "duration": 38,
    "start_time": "2021-12-26T16:31:13.281Z"
   },
   {
    "duration": 56,
    "start_time": "2021-12-26T16:31:13.322Z"
   },
   {
    "duration": 353,
    "start_time": "2021-12-27T15:24:03.214Z"
   },
   {
    "duration": 927,
    "start_time": "2021-12-27T15:24:21.265Z"
   },
   {
    "duration": 368,
    "start_time": "2021-12-27T15:24:22.194Z"
   },
   {
    "duration": 17,
    "start_time": "2021-12-27T15:24:22.564Z"
   },
   {
    "duration": 11,
    "start_time": "2021-12-27T15:24:22.583Z"
   },
   {
    "duration": 36,
    "start_time": "2021-12-27T15:24:22.595Z"
   },
   {
    "duration": 9,
    "start_time": "2021-12-27T15:24:22.633Z"
   },
   {
    "duration": 18,
    "start_time": "2021-12-27T15:24:22.644Z"
   },
   {
    "duration": 16,
    "start_time": "2021-12-27T15:24:22.666Z"
   },
   {
    "duration": 11,
    "start_time": "2021-12-27T15:24:22.684Z"
   },
   {
    "duration": 31,
    "start_time": "2021-12-27T15:24:22.697Z"
   },
   {
    "duration": 26,
    "start_time": "2021-12-27T15:24:22.730Z"
   },
   {
    "duration": 33,
    "start_time": "2021-12-27T15:24:22.758Z"
   },
   {
    "duration": 36,
    "start_time": "2021-12-27T15:24:22.792Z"
   },
   {
    "duration": 27,
    "start_time": "2021-12-27T15:24:22.830Z"
   },
   {
    "duration": 26,
    "start_time": "2021-12-27T15:24:22.858Z"
   },
   {
    "duration": 41,
    "start_time": "2021-12-27T15:24:22.886Z"
   },
   {
    "duration": 23,
    "start_time": "2021-12-27T15:24:22.929Z"
   },
   {
    "duration": 20,
    "start_time": "2021-12-27T15:24:22.953Z"
   },
   {
    "duration": 19,
    "start_time": "2021-12-27T15:24:22.975Z"
   },
   {
    "duration": 37,
    "start_time": "2021-12-27T15:24:22.995Z"
   },
   {
    "duration": 21,
    "start_time": "2021-12-27T15:24:23.033Z"
   },
   {
    "duration": 22,
    "start_time": "2021-12-27T15:24:23.055Z"
   },
   {
    "duration": 20,
    "start_time": "2021-12-27T15:24:23.080Z"
   },
   {
    "duration": 46,
    "start_time": "2021-12-27T15:24:23.102Z"
   },
   {
    "duration": 17,
    "start_time": "2021-12-27T15:24:23.150Z"
   },
   {
    "duration": 15,
    "start_time": "2021-12-27T15:24:23.169Z"
   },
   {
    "duration": 7,
    "start_time": "2021-12-27T15:24:23.185Z"
   },
   {
    "duration": 34,
    "start_time": "2021-12-27T15:24:23.194Z"
   },
   {
    "duration": 12,
    "start_time": "2021-12-27T15:24:23.229Z"
   },
   {
    "duration": 18,
    "start_time": "2021-12-27T15:24:23.242Z"
   },
   {
    "duration": 18,
    "start_time": "2021-12-27T15:24:23.261Z"
   },
   {
    "duration": 7,
    "start_time": "2021-12-27T15:24:23.280Z"
   },
   {
    "duration": 4,
    "start_time": "2021-12-27T15:24:23.288Z"
   },
   {
    "duration": 43,
    "start_time": "2021-12-27T15:24:23.293Z"
   },
   {
    "duration": 15,
    "start_time": "2021-12-27T15:24:23.338Z"
   },
   {
    "duration": 17,
    "start_time": "2021-12-27T15:24:23.354Z"
   },
   {
    "duration": 15,
    "start_time": "2021-12-27T15:24:23.373Z"
   },
   {
    "duration": 39,
    "start_time": "2021-12-27T15:24:23.389Z"
   },
   {
    "duration": 23,
    "start_time": "2021-12-27T15:24:23.429Z"
   },
   {
    "duration": 16,
    "start_time": "2021-12-27T15:24:23.453Z"
   },
   {
    "duration": 8,
    "start_time": "2021-12-27T15:24:23.471Z"
   },
   {
    "duration": 78,
    "start_time": "2021-12-27T15:24:23.481Z"
   },
   {
    "duration": 45,
    "start_time": "2021-12-27T15:24:23.560Z"
   },
   {
    "duration": 36,
    "start_time": "2021-12-27T15:24:23.606Z"
   },
   {
    "duration": 267,
    "start_time": "2021-12-27T15:24:23.644Z"
   },
   {
    "duration": 331,
    "start_time": "2021-12-27T15:24:23.913Z"
   },
   {
    "duration": 27,
    "start_time": "2021-12-27T15:24:24.246Z"
   },
   {
    "duration": 282,
    "start_time": "2021-12-27T15:24:24.274Z"
   },
   {
    "duration": 273,
    "start_time": "2021-12-27T15:24:24.558Z"
   },
   {
    "duration": 21,
    "start_time": "2021-12-27T15:24:24.833Z"
   },
   {
    "duration": 296,
    "start_time": "2021-12-27T15:24:24.855Z"
   },
   {
    "duration": 268,
    "start_time": "2021-12-27T15:24:25.153Z"
   },
   {
    "duration": 20,
    "start_time": "2021-12-27T15:24:25.426Z"
   },
   {
    "duration": 5,
    "start_time": "2021-12-27T15:24:25.448Z"
   },
   {
    "duration": 22,
    "start_time": "2021-12-27T15:24:25.455Z"
   },
   {
    "duration": 5,
    "start_time": "2021-12-27T15:24:25.479Z"
   },
   {
    "duration": 47,
    "start_time": "2021-12-27T15:24:25.486Z"
   },
   {
    "duration": 14,
    "start_time": "2021-12-27T15:24:25.534Z"
   },
   {
    "duration": 8,
    "start_time": "2021-12-27T15:38:30.433Z"
   },
   {
    "duration": 372,
    "start_time": "2021-12-27T15:39:19.153Z"
   },
   {
    "duration": 10,
    "start_time": "2021-12-27T15:40:16.233Z"
   },
   {
    "duration": 1063,
    "start_time": "2021-12-27T15:42:46.936Z"
   },
   {
    "duration": 387,
    "start_time": "2021-12-27T15:42:48.001Z"
   },
   {
    "duration": 15,
    "start_time": "2021-12-27T15:42:48.390Z"
   },
   {
    "duration": 11,
    "start_time": "2021-12-27T15:42:48.407Z"
   },
   {
    "duration": 9,
    "start_time": "2021-12-27T15:42:48.427Z"
   },
   {
    "duration": 11,
    "start_time": "2021-12-27T15:42:48.437Z"
   },
   {
    "duration": 6,
    "start_time": "2021-12-27T15:42:48.450Z"
   },
   {
    "duration": 15,
    "start_time": "2021-12-27T15:42:48.459Z"
   },
   {
    "duration": 9,
    "start_time": "2021-12-27T15:42:48.476Z"
   },
   {
    "duration": 12,
    "start_time": "2021-12-27T15:42:48.486Z"
   },
   {
    "duration": 53,
    "start_time": "2021-12-27T15:42:48.499Z"
   },
   {
    "duration": 31,
    "start_time": "2021-12-27T15:42:48.554Z"
   },
   {
    "duration": 9,
    "start_time": "2021-12-27T15:42:48.587Z"
   },
   {
    "duration": 50,
    "start_time": "2021-12-27T15:42:48.597Z"
   },
   {
    "duration": 27,
    "start_time": "2021-12-27T15:42:48.648Z"
   },
   {
    "duration": 18,
    "start_time": "2021-12-27T15:42:48.677Z"
   },
   {
    "duration": 47,
    "start_time": "2021-12-27T15:42:48.697Z"
   },
   {
    "duration": 19,
    "start_time": "2021-12-27T15:42:48.746Z"
   },
   {
    "duration": 21,
    "start_time": "2021-12-27T15:42:48.767Z"
   },
   {
    "duration": 8,
    "start_time": "2021-12-27T15:42:48.789Z"
   },
   {
    "duration": 50,
    "start_time": "2021-12-27T15:42:48.798Z"
   },
   {
    "duration": 26,
    "start_time": "2021-12-27T15:42:48.849Z"
   },
   {
    "duration": 21,
    "start_time": "2021-12-27T15:42:48.878Z"
   },
   {
    "duration": 47,
    "start_time": "2021-12-27T15:42:48.901Z"
   },
   {
    "duration": 19,
    "start_time": "2021-12-27T15:42:48.950Z"
   },
   {
    "duration": 15,
    "start_time": "2021-12-27T15:42:48.971Z"
   },
   {
    "duration": 7,
    "start_time": "2021-12-27T15:42:48.988Z"
   },
   {
    "duration": 40,
    "start_time": "2021-12-27T15:42:48.996Z"
   },
   {
    "duration": 14,
    "start_time": "2021-12-27T15:42:49.037Z"
   },
   {
    "duration": 20,
    "start_time": "2021-12-27T15:42:49.052Z"
   },
   {
    "duration": 20,
    "start_time": "2021-12-27T15:42:49.073Z"
   },
   {
    "duration": 33,
    "start_time": "2021-12-27T15:42:49.094Z"
   },
   {
    "duration": 5,
    "start_time": "2021-12-27T15:42:49.129Z"
   },
   {
    "duration": 15,
    "start_time": "2021-12-27T15:42:49.136Z"
   },
   {
    "duration": 18,
    "start_time": "2021-12-27T15:42:49.153Z"
   },
   {
    "duration": 19,
    "start_time": "2021-12-27T15:42:49.173Z"
   },
   {
    "duration": 40,
    "start_time": "2021-12-27T15:42:49.193Z"
   },
   {
    "duration": 11,
    "start_time": "2021-12-27T15:42:49.235Z"
   },
   {
    "duration": 24,
    "start_time": "2021-12-27T15:42:49.248Z"
   },
   {
    "duration": 15,
    "start_time": "2021-12-27T15:42:49.274Z"
   },
   {
    "duration": 37,
    "start_time": "2021-12-27T15:42:49.291Z"
   },
   {
    "duration": 4,
    "start_time": "2021-12-27T15:42:49.329Z"
   },
   {
    "duration": 19,
    "start_time": "2021-12-27T15:42:49.335Z"
   },
   {
    "duration": 30,
    "start_time": "2021-12-27T15:42:49.355Z"
   },
   {
    "duration": 61,
    "start_time": "2021-12-27T15:42:49.387Z"
   },
   {
    "duration": 21,
    "start_time": "2021-12-27T15:42:49.450Z"
   },
   {
    "duration": 278,
    "start_time": "2021-12-27T15:42:49.472Z"
   },
   {
    "duration": 287,
    "start_time": "2021-12-27T15:42:49.752Z"
   },
   {
    "duration": 23,
    "start_time": "2021-12-27T15:42:50.040Z"
   },
   {
    "duration": 285,
    "start_time": "2021-12-27T15:42:50.065Z"
   },
   {
    "duration": 275,
    "start_time": "2021-12-27T15:42:50.352Z"
   },
   {
    "duration": 21,
    "start_time": "2021-12-27T15:42:50.628Z"
   },
   {
    "duration": 294,
    "start_time": "2021-12-27T15:42:50.651Z"
   },
   {
    "duration": 263,
    "start_time": "2021-12-27T15:42:50.947Z"
   },
   {
    "duration": 26,
    "start_time": "2021-12-27T15:42:51.212Z"
   },
   {
    "duration": 6,
    "start_time": "2021-12-27T15:42:51.240Z"
   },
   {
    "duration": 24,
    "start_time": "2021-12-27T15:42:51.248Z"
   },
   {
    "duration": 5,
    "start_time": "2021-12-27T15:42:51.274Z"
   },
   {
    "duration": 48,
    "start_time": "2021-12-27T15:42:51.280Z"
   },
   {
    "duration": 16,
    "start_time": "2021-12-27T15:42:51.330Z"
   },
   {
    "duration": 7,
    "start_time": "2021-12-27T16:21:42.026Z"
   },
   {
    "duration": 97,
    "start_time": "2021-12-27T16:33:32.643Z"
   },
   {
    "duration": 308,
    "start_time": "2021-12-27T16:33:47.694Z"
   },
   {
    "duration": 403,
    "start_time": "2021-12-27T16:34:46.490Z"
   },
   {
    "duration": 342,
    "start_time": "2021-12-27T16:39:22.930Z"
   },
   {
    "duration": 346,
    "start_time": "2021-12-27T16:39:57.730Z"
   },
   {
    "duration": 363,
    "start_time": "2021-12-27T16:43:32.266Z"
   },
   {
    "duration": 343,
    "start_time": "2021-12-27T16:49:17.302Z"
   },
   {
    "duration": 422,
    "start_time": "2021-12-27T16:49:38.170Z"
   },
   {
    "duration": 400,
    "start_time": "2021-12-27T16:51:45.270Z"
   },
   {
    "duration": 345,
    "start_time": "2021-12-27T16:55:17.661Z"
   },
   {
    "duration": 435,
    "start_time": "2021-12-27T17:05:03.817Z"
   },
   {
    "duration": 443,
    "start_time": "2021-12-27T17:05:49.084Z"
   },
   {
    "duration": 470,
    "start_time": "2021-12-27T17:08:08.085Z"
   },
   {
    "duration": 1068,
    "start_time": "2021-12-27T17:26:05.719Z"
   },
   {
    "duration": 391,
    "start_time": "2021-12-27T17:26:06.789Z"
   },
   {
    "duration": 16,
    "start_time": "2021-12-27T17:26:07.182Z"
   },
   {
    "duration": 11,
    "start_time": "2021-12-27T17:26:07.200Z"
   },
   {
    "duration": 21,
    "start_time": "2021-12-27T17:26:07.213Z"
   },
   {
    "duration": 7,
    "start_time": "2021-12-27T17:26:07.235Z"
   },
   {
    "duration": 7,
    "start_time": "2021-12-27T17:26:07.243Z"
   },
   {
    "duration": 18,
    "start_time": "2021-12-27T17:26:07.253Z"
   },
   {
    "duration": 9,
    "start_time": "2021-12-27T17:26:07.273Z"
   },
   {
    "duration": 12,
    "start_time": "2021-12-27T17:26:07.284Z"
   },
   {
    "duration": 53,
    "start_time": "2021-12-27T17:26:07.297Z"
   },
   {
    "duration": 32,
    "start_time": "2021-12-27T17:26:07.352Z"
   },
   {
    "duration": 9,
    "start_time": "2021-12-27T17:26:07.385Z"
   },
   {
    "duration": 54,
    "start_time": "2021-12-27T17:26:07.396Z"
   },
   {
    "duration": 26,
    "start_time": "2021-12-27T17:26:07.451Z"
   },
   {
    "duration": 17,
    "start_time": "2021-12-27T17:26:07.479Z"
   },
   {
    "duration": 40,
    "start_time": "2021-12-27T17:26:07.497Z"
   },
   {
    "duration": 19,
    "start_time": "2021-12-27T17:26:07.539Z"
   },
   {
    "duration": 23,
    "start_time": "2021-12-27T17:26:07.559Z"
   },
   {
    "duration": 8,
    "start_time": "2021-12-27T17:26:07.584Z"
   },
   {
    "duration": 52,
    "start_time": "2021-12-27T17:26:07.594Z"
   },
   {
    "duration": 24,
    "start_time": "2021-12-27T17:26:07.648Z"
   },
   {
    "duration": 21,
    "start_time": "2021-12-27T17:26:07.677Z"
   },
   {
    "duration": 52,
    "start_time": "2021-12-27T17:26:07.701Z"
   },
   {
    "duration": 20,
    "start_time": "2021-12-27T17:26:07.755Z"
   },
   {
    "duration": 17,
    "start_time": "2021-12-27T17:26:07.776Z"
   },
   {
    "duration": 34,
    "start_time": "2021-12-27T17:26:07.794Z"
   },
   {
    "duration": 13,
    "start_time": "2021-12-27T17:26:07.830Z"
   },
   {
    "duration": 12,
    "start_time": "2021-12-27T17:26:07.844Z"
   },
   {
    "duration": 19,
    "start_time": "2021-12-27T17:26:07.858Z"
   },
   {
    "duration": 18,
    "start_time": "2021-12-27T17:26:07.878Z"
   },
   {
    "duration": 8,
    "start_time": "2021-12-27T17:26:07.927Z"
   },
   {
    "duration": 5,
    "start_time": "2021-12-27T17:26:07.937Z"
   },
   {
    "duration": 14,
    "start_time": "2021-12-27T17:26:07.944Z"
   },
   {
    "duration": 16,
    "start_time": "2021-12-27T17:26:07.960Z"
   },
   {
    "duration": 19,
    "start_time": "2021-12-27T17:26:07.977Z"
   },
   {
    "duration": 41,
    "start_time": "2021-12-27T17:26:07.997Z"
   },
   {
    "duration": 12,
    "start_time": "2021-12-27T17:26:08.040Z"
   },
   {
    "duration": 25,
    "start_time": "2021-12-27T17:26:08.053Z"
   },
   {
    "duration": 49,
    "start_time": "2021-12-27T17:26:08.080Z"
   },
   {
    "duration": 9,
    "start_time": "2021-12-27T17:26:08.131Z"
   },
   {
    "duration": 5,
    "start_time": "2021-12-27T17:26:08.142Z"
   },
   {
    "duration": 17,
    "start_time": "2021-12-27T17:26:08.148Z"
   },
   {
    "duration": 27,
    "start_time": "2021-12-27T17:26:08.167Z"
   },
   {
    "duration": 60,
    "start_time": "2021-12-27T17:26:08.196Z"
   },
   {
    "duration": 23,
    "start_time": "2021-12-27T17:26:08.258Z"
   },
   {
    "duration": 382,
    "start_time": "2021-12-27T17:26:08.282Z"
   },
   {
    "duration": 21,
    "start_time": "2021-12-27T17:26:08.666Z"
   },
   {
    "duration": 392,
    "start_time": "2021-12-27T17:26:08.689Z"
   },
   {
    "duration": 22,
    "start_time": "2021-12-27T17:26:09.083Z"
   },
   {
    "duration": 422,
    "start_time": "2021-12-27T17:26:09.107Z"
   },
   {
    "duration": 23,
    "start_time": "2021-12-27T17:26:09.531Z"
   },
   {
    "duration": 455,
    "start_time": "2021-12-27T17:26:09.556Z"
   },
   {
    "duration": 16,
    "start_time": "2021-12-27T17:26:10.012Z"
   },
   {
    "duration": 22,
    "start_time": "2021-12-27T17:26:10.030Z"
   },
   {
    "duration": 7,
    "start_time": "2021-12-27T17:26:10.053Z"
   },
   {
    "duration": 21,
    "start_time": "2021-12-27T17:26:10.062Z"
   },
   {
    "duration": 45,
    "start_time": "2021-12-27T17:26:10.084Z"
   }
  ],
  "kernelspec": {
   "display_name": "Python 3 (ipykernel)",
   "language": "python",
   "name": "python3"
  },
  "language_info": {
   "codemirror_mode": {
    "name": "ipython",
    "version": 3
   },
   "file_extension": ".py",
   "mimetype": "text/x-python",
   "name": "python",
   "nbconvert_exporter": "python",
   "pygments_lexer": "ipython3",
   "version": "3.9.7"
  },
  "toc": {
   "base_numbering": 1,
   "nav_menu": {
    "height": "155px",
    "width": "160px"
   },
   "number_sections": true,
   "sideBar": true,
   "skip_h1_title": true,
   "title_cell": "Содержание",
   "title_sidebar": "Contents",
   "toc_cell": true,
   "toc_position": {
    "height": "calc(100% - 180px)",
    "left": "10px",
    "top": "150px",
    "width": "300px"
   },
   "toc_section_display": true,
   "toc_window_display": true
  }
 },
 "nbformat": 4,
 "nbformat_minor": 2
}
